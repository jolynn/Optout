{
 "metadata": {
  "name": "",
  "signature": "sha256:d28829877c694ae74a2831c163d058b100e35bd8bfef60fd86697c6096fe72c3"
 },
 "nbformat": 3,
 "nbformat_minor": 0,
 "worksheets": [
  {
   "cells": [
    {
     "cell_type": "markdown",
     "metadata": {},
     "source": [
      "#OptOut Project: Sequence Construction\n",
      "(including newest available data)\n",
      "\n",
      "January 2015"
     ]
    },
    {
     "cell_type": "code",
     "collapsed": false,
     "input": [
      "#setup\n",
      "%matplotlib inline\n",
      "import numpy as np\n",
      "import matplotlib.pyplot as plt\n",
      "import pandas as pd\n",
      "import time\n",
      "import random\n",
      "from collections import defaultdict"
     ],
     "language": "python",
     "metadata": {},
     "outputs": [],
     "prompt_number": 1
    },
    {
     "cell_type": "markdown",
     "metadata": {},
     "source": [
      "###Week-to-week crosswalk\n",
      "\n",
      "Create two functions to convert between week number and calendar year and month"
     ]
    },
    {
     "cell_type": "code",
     "collapsed": false,
     "input": [
      "#this is the file to switch between week number in NLSY79 and calendar year, month, and day\n",
      "xl_file = pd.ExcelFile('continuous_week_crosswalk.xlsx') \n",
      "\n",
      "weekdf = xl_file.parse('weekdates1')\n",
      "print weekdf.shape # print (total row number, total column number)\n",
      "weekdf.head()"
     ],
     "language": "python",
     "metadata": {},
     "outputs": [
      {
       "output_type": "stream",
       "stream": "stdout",
       "text": [
        "(1826, 5)\n"
       ]
      },
      {
       "html": [
        "<div style=\"max-height:1000px;max-width:1500px;overflow:auto;\">\n",
        "<table border=\"1\" class=\"dataframe\">\n",
        "  <thead>\n",
        "    <tr style=\"text-align: right;\">\n",
        "      <th></th>\n",
        "      <th>Week Start:\n",
        "Month</th>\n",
        "      <th>Week Start: \n",
        "Day</th>\n",
        "      <th>Week Start: \n",
        "Year</th>\n",
        "      <th>Calendar Year \n",
        "Week Number </th>\n",
        "      <th>Continuous \n",
        "Week Number</th>\n",
        "    </tr>\n",
        "  </thead>\n",
        "  <tbody>\n",
        "    <tr>\n",
        "      <th>0</th>\n",
        "      <td> 1</td>\n",
        "      <td>  1</td>\n",
        "      <td> 1978</td>\n",
        "      <td> 1</td>\n",
        "      <td> 1</td>\n",
        "    </tr>\n",
        "    <tr>\n",
        "      <th>1</th>\n",
        "      <td> 1</td>\n",
        "      <td>  8</td>\n",
        "      <td> 1978</td>\n",
        "      <td> 2</td>\n",
        "      <td> 2</td>\n",
        "    </tr>\n",
        "    <tr>\n",
        "      <th>2</th>\n",
        "      <td> 1</td>\n",
        "      <td> 15</td>\n",
        "      <td> 1978</td>\n",
        "      <td> 3</td>\n",
        "      <td> 3</td>\n",
        "    </tr>\n",
        "    <tr>\n",
        "      <th>3</th>\n",
        "      <td> 1</td>\n",
        "      <td> 22</td>\n",
        "      <td> 1978</td>\n",
        "      <td> 4</td>\n",
        "      <td> 4</td>\n",
        "    </tr>\n",
        "    <tr>\n",
        "      <th>4</th>\n",
        "      <td> 1</td>\n",
        "      <td> 29</td>\n",
        "      <td> 1978</td>\n",
        "      <td> 5</td>\n",
        "      <td> 5</td>\n",
        "    </tr>\n",
        "  </tbody>\n",
        "</table>\n",
        "</div>"
       ],
       "metadata": {},
       "output_type": "pyout",
       "prompt_number": 2,
       "text": [
        "   Week Start:\\nMonth  Week Start: \\nDay  Week Start: \\nYear  \\\n",
        "0                   1                  1                1978   \n",
        "1                   1                  8                1978   \n",
        "2                   1                 15                1978   \n",
        "3                   1                 22                1978   \n",
        "4                   1                 29                1978   \n",
        "\n",
        "   Calendar Year \\nWeek Number   Continuous \\nWeek Number  \n",
        "0                             1                         1  \n",
        "1                             2                         2  \n",
        "2                             3                         3  \n",
        "3                             4                         4  \n",
        "4                             5                         5  "
       ]
      }
     ],
     "prompt_number": 2
    },
    {
     "cell_type": "code",
     "collapsed": false,
     "input": [
      "def get_week_num(year, month, which, df=weekdf):\n",
      "    \"\"\"\n",
      "    Given a year and month in the calendar, \n",
      "    return the corresponding week number in NLSY79\n",
      "    using coutinuous_week_crosswalk.xlsx\n",
      "    \n",
      "    if which=='first', return the first week in that month\n",
      "    if which=='last', return the last week in that month \n",
      "    \"\"\"\n",
      "\n",
      "    \n",
      "    #column names in weekdf:\n",
      "    #u'Week Start:\\nMonth'\n",
      "    #u'Week Start: \\nDay'\n",
      "    #u'Week Start: \\nYear'\n",
      "    #u'Calendar Year \\nWeek Number '\n",
      "    #u'Continuous \\nWeek Number'\n",
      "    \n",
      "    that_month = weekdf[(weekdf['Week Start:\\nMonth']==month)&(weekdf['Week Start: \\nYear']==year)]\n",
      "    \n",
      "    if which == 'first':\n",
      "        return int(that_month.iloc[0]['Continuous \\nWeek Number'])\n",
      "    elif which == 'last':\n",
      "        return int(that_month.iloc[len(that_month)-1]['Continuous \\nWeek Number'])"
     ],
     "language": "python",
     "metadata": {},
     "outputs": [],
     "prompt_number": 3
    },
    {
     "cell_type": "code",
     "collapsed": false,
     "input": [
      "def get_year_month(weeknum, df=weekdf):\n",
      "    \"\"\"\n",
      "    Given a week number, return the corresponding month and year (yyyy, m).\n",
      "    \"\"\"\n",
      "    \n",
      "    that_week = weekdf[weekdf['Continuous \\nWeek Number']==weeknum]\n",
      "    return int(that_week.iloc[0]['Week Start: \\nYear']), int(that_week.iloc[0]['Week Start:\\nMonth'])"
     ],
     "language": "python",
     "metadata": {},
     "outputs": [],
     "prompt_number": 4
    },
    {
     "cell_type": "markdown",
     "metadata": {},
     "source": [
      "###Get analytic sample"
     ]
    },
    {
     "cell_type": "code",
     "collapsed": false,
     "input": [
      "analytic_df = pd.read_csv('analytic_df.csv') #includes fertility data\n",
      "sample = analytic_df.caseid_1979.values.tolist()\n",
      "print len(sample)"
     ],
     "language": "python",
     "metadata": {},
     "outputs": [
      {
       "output_type": "stream",
       "stream": "stdout",
       "text": [
        "2459\n"
       ]
      }
     ],
     "prompt_number": 5
    },
    {
     "cell_type": "markdown",
     "metadata": {},
     "source": [
      "###Read weekly arrays and within-job gap dates"
     ]
    },
    {
     "cell_type": "code",
     "collapsed": false,
     "input": [
      "wkarray_df = pd.read_csv('weeklyarrays.csv')\n",
      "print wkarray_df.shape\n",
      "print wkarray_df.columns[:30]"
     ],
     "language": "python",
     "metadata": {},
     "outputs": [
      {
       "output_type": "stream",
       "stream": "stdout",
       "text": [
        "(12686, 3763)\n",
        "Index([u'caseid_1979', u'sample_race_1979', u'sample_sex_1979', u'hrs_worked_wk_num0000_xrnd', u'hrs_worked_wk_num0001_xrnd', u'hrs_worked_wk_num0002_xrnd', u'hrs_worked_wk_num0003_xrnd', u'hrs_worked_wk_num0004_xrnd', u'hrs_worked_wk_num0005_xrnd', u'hrs_worked_wk_num0006_xrnd', u'hrs_worked_wk_num0007_xrnd', u'hrs_worked_wk_num0008_xrnd', u'hrs_worked_wk_num0009_xrnd', u'hrs_worked_wk_num0010_xrnd', u'hrs_worked_wk_num0011_xrnd', u'hrs_worked_wk_num0012_xrnd', u'hrs_worked_wk_num0013_xrnd', u'hrs_worked_wk_num0014_xrnd', u'hrs_worked_wk_num0015_xrnd', u'hrs_worked_wk_num0016_xrnd', u'hrs_worked_wk_num0017_xrnd', u'hrs_worked_wk_num0018_xrnd', u'hrs_worked_wk_num0019_xrnd', u'hrs_worked_wk_num0020_xrnd', u'hrs_worked_wk_num0021_xrnd', u'hrs_worked_wk_num0022_xrnd', u'hrs_worked_wk_num0023_xrnd', u'hrs_worked_wk_num0024_xrnd', u'hrs_worked_wk_num0025_xrnd', u'hrs_worked_wk_num0026_xrnd'], dtype='object')\n"
       ]
      }
     ],
     "prompt_number": 6
    },
    {
     "cell_type": "code",
     "collapsed": false,
     "input": [
      "gap_df = pd.read_csv(\"withingaps.csv\")\n",
      "print gap_df.shape\n",
      "print gap_df.columns[:20]"
     ],
     "language": "python",
     "metadata": {},
     "outputs": [
      {
       "output_type": "stream",
       "stream": "stdout",
       "text": [
        "(12686, 807)\n",
        "Index([u'caseid_1979', u'per1_start_1979_job01_xrnd', u'per1_start_1979_job02_xrnd', u'per1_start_1979_job03_xrnd', u'per1_start_1979_job04_xrnd', u'per1_start_1979_job05_xrnd', u'per1_stop_1979_job01_xrnd', u'per1_stop_1979_job02_xrnd', u'per1_stop_1979_job03_xrnd', u'per1_stop_1979_job04_xrnd', u'per1_stop_1979_job05_xrnd', u'per2_start_1979_job01_xrnd', u'per2_start_1979_job02_xrnd', u'per2_start_1979_job03_xrnd', u'per2_start_1979_job04_xrnd', u'per2_start_1979_job05_xrnd', u'per2_stop_1979_job01_xrnd', u'per2_stop_1979_job02_xrnd', u'per2_stop_1979_job03_xrnd', u'per2_stop_1979_job04_xrnd'], dtype='object')\n"
       ]
      }
     ],
     "prompt_number": 7
    },
    {
     "cell_type": "markdown",
     "metadata": {},
     "source": [
      "###Identify maternity leaves\n",
      "\n",
      "Maternity leave could cover the birth, start after the birth, or end before the birth. Assume any within-job gap that start or end within 4 months of birth as maternity leave. Record the types of maternity leave: \n",
      "\n",
      "* 100 - gap covered birth, \n",
      "* (100+n) - gap started within n weeks after birth, \n",
      "* (100-n) - gap ended within n weeks before birth. "
     ]
    },
    {
     "cell_type": "code",
     "collapsed": false,
     "input": [
      "def four_month_later(y, m):\n",
      "    \"\"\"\n",
      "    Given year and month, return the year and month that is four months later.\n",
      "    \"\"\"\n",
      "    \n",
      "    for i in range(4):\n",
      "        if m==12:\n",
      "            y += 1\n",
      "            m = 1\n",
      "        else:\n",
      "            m += 1\n",
      "            \n",
      "    return (y, m)\n",
      "\n",
      "#for example\n",
      "print four_month_later(1989, 12)"
     ],
     "language": "python",
     "metadata": {},
     "outputs": [
      {
       "output_type": "stream",
       "stream": "stdout",
       "text": [
        "(1990, 4)\n"
       ]
      }
     ],
     "prompt_number": 8
    },
    {
     "cell_type": "code",
     "collapsed": false,
     "input": [
      "def four_month_earlier(y, m):\n",
      "    \"\"\"\n",
      "    Given year and month, return the year and month that is four months earlier.\n",
      "    \"\"\"\n",
      "    \n",
      "    for i in range(4):\n",
      "        if m==1:\n",
      "            y -= 1\n",
      "            m = 12\n",
      "        else:\n",
      "            m -= 1\n",
      "            \n",
      "    return (y, m)\n",
      "\n",
      "#for example\n",
      "print four_month_earlier(2014, 1)"
     ],
     "language": "python",
     "metadata": {},
     "outputs": [
      {
       "output_type": "stream",
       "stream": "stdout",
       "text": [
        "(2013, 9)\n"
       ]
      }
     ],
     "prompt_number": 9
    },
    {
     "cell_type": "code",
     "collapsed": false,
     "input": [
      "def find_maternal_leave(Id):\n",
      "    \"\"\"\n",
      "    Given a respondent id, return all weeks identified as maternal leaves\n",
      "    \"\"\"\n",
      "    \n",
      "    leaves = {}\n",
      "    \n",
      "    gap_row = gap_df[gap_df.caseid_1979==Id].iloc[0]\n",
      "    gaps = []\n",
      "    \n",
      "    #look for within-job gaps in all years. sometimes the gaps were recorded in later years\n",
      "    for y in range(1979, 1995)+[1996, 1998, 2000, 2002, 2004, 2006, 2008, 2010]: \n",
      "        for j in range(1, 5): #4 possible gaps\n",
      "            for k in range(1, 6): #5 possible jobs\n",
      "                try: \n",
      "                    gap_start = gap_row['per%s_start_%s_job0%s_xrnd'%(j, y, k)]\n",
      "                    gap_stop = gap_row['per%s_stop_%s_job0%s_xrnd'%(j, y, k)]\n",
      "                    \n",
      "                    if gap_start!= -4 and gap_stop!=-4:\n",
      "                        gaps.append((gap_start, gap_stop))\n",
      "                    elif gap_start!= -4 or gap_stop != -4:\n",
      "                        print row['id'], y, j, k, 'missing data'\n",
      "                except KeyError:\n",
      "                    pass\n",
      "    \n",
      "    #assume birth occurs in the last week of the month\n",
      "    dob_row = analytic_df[analytic_df.caseid_1979==Id].iloc[0]\n",
      "    \n",
      "    # all births\n",
      "    for j in range(1, 12):\n",
      "        dob_y = dob_row['c%idob_y_xrnd'%j]\n",
      "        dob_m = dob_row['c%idob_m_xrnd'%j]\n",
      "        \n",
      "        if dob_y>0 and dob_m>0:\n",
      "    \n",
      "            for (gap_start, gap_stop) in gaps:\n",
      "                birth_wks = range(get_week_num(dob_y, dob_m, 'first'), get_week_num(dob_y, dob_m, 'last')+1)\n",
      "                gap_wks = range(gap_start, gap_stop+1)\n",
      "                res = None\n",
      "                \n",
      "                if set(birth_wks)&set(gap_wks): #the gap took place in the month of the birth\n",
      "                    res = 100\n",
      "            \n",
      "                elif gap_start>birth_wks[-1] and gap_start-birth_wks[-1]<=16:\n",
      "                    res = 100+(gap_start-birth_wks[-1])\n",
      "                    \n",
      "                elif gap_stop<birth_wks[0] and birth_wks[0]-gap_stop<=16:\n",
      "                    res = 100-(birth_wks[0]-gap_stop)                    \n",
      "                    \n",
      "                if res != None:\n",
      "                    for k in range(gap_start, gap_stop+1):\n",
      "                        leaves[k] = res                    \n",
      "    \n",
      "    return leaves"
     ],
     "language": "python",
     "metadata": {},
     "outputs": [],
     "prompt_number": 10
    },
    {
     "cell_type": "code",
     "collapsed": false,
     "input": [
      "#for example\n",
      "l = find_maternal_leave(160)\n",
      "print l\n",
      "print l.values()"
     ],
     "language": "python",
     "metadata": {},
     "outputs": [
      {
       "output_type": "stream",
       "stream": "stdout",
       "text": [
        "{689: 110, 690: 110, 691: 110, 692: 110, 693: 110, 694: 110, 695: 110, 696: 110, 697: 110, 698: 110, 699: 110, 700: 110}\n",
        "[110, 110, 110, 110, 110, 110, 110, 110, 110, 110, 110, 110]\n"
       ]
      }
     ],
     "prompt_number": 11
    },
    {
     "cell_type": "code",
     "collapsed": false,
     "input": [
      "#count weeks of types of maternity leaves\n",
      "count_wks = defaultdict(int)\n",
      "\n",
      "for i in sample:\n",
      "    leaves = find_maternal_leave(i)\n",
      "    for v in leaves.values():\n",
      "        count_wks[v] += 1\n",
      "        \n",
      "for (k, v) in count_wks.items():\n",
      "    print k, v"
     ],
     "language": "python",
     "metadata": {},
     "outputs": [
      {
       "output_type": "stream",
       "stream": "stdout",
       "text": [
        "84 81\n",
        "85 22\n",
        "86 57\n",
        "87 122\n",
        "88 162\n",
        "89 34\n",
        "90 30\n",
        "91 105\n",
        "92 37\n",
        "93 104\n",
        "94 47\n",
        "95 74\n",
        "96 24\n",
        "97 89\n",
        "98 16\n",
        "99 86\n",
        "100 23112\n",
        "101 170\n",
        "102 248\n",
        "103 216\n",
        "104 404\n",
        "105 192\n",
        "106 158\n",
        "107 119\n",
        "108 206\n",
        "109 249\n",
        "110 94\n",
        "111 91\n",
        "112 90\n",
        "113 134\n",
        "114 36\n",
        "115 214\n",
        "116 63\n"
       ]
      }
     ],
     "prompt_number": 12
    },
    {
     "cell_type": "code",
     "collapsed": false,
     "input": [
      "#count respondents of types of maternity leaves\n",
      "count_indiv = defaultdict(int)\n",
      "\n",
      "for i in sample:\n",
      "    leaves = find_maternal_leave(i)\n",
      "    for v in list(set(leaves.values())):\n",
      "        count_indiv[v] += 1\n",
      "        \n",
      "for (k, v) in count_indiv.items():\n",
      "    print k, v"
     ],
     "language": "python",
     "metadata": {},
     "outputs": [
      {
       "output_type": "stream",
       "stream": "stdout",
       "text": [
        "84 17\n",
        "85 7\n",
        "86 11\n",
        "87 12\n",
        "88 18\n",
        "89 7\n",
        "90 6\n",
        "91 15\n",
        "92 10\n",
        "93 11\n",
        "94 8\n",
        "95 10\n",
        "96 7\n",
        "97 13\n",
        "98 4\n",
        "99 12\n",
        "100 857\n",
        "101 20\n",
        "102 32\n",
        "103 24\n",
        "104 30\n",
        "105 28\n",
        "106 15\n",
        "107 16\n",
        "108 11\n",
        "109 21\n",
        "110 10\n",
        "111 9\n",
        "112 10\n",
        "113 12\n",
        "114 5\n",
        "115 18\n",
        "116 7\n"
       ]
      }
     ],
     "prompt_number": 13
    },
    {
     "cell_type": "code",
     "collapsed": false,
     "input": [
      "#do not consider within-job gaps that ended within 16 weeks before birth as maternity leave for now\n",
      "\n",
      "def find_maternal_leave_no_before(Id):\n",
      "    \"\"\"\n",
      "    Given a respondent id, return all weeks identified as maternal leaves\n",
      "    \"\"\"\n",
      "    \n",
      "    leaves = {}\n",
      "    \n",
      "    gap_row = gap_df[gap_df.caseid_1979==Id].iloc[0]\n",
      "    gaps = []\n",
      "    \n",
      "    #look for within-job gaps in all years. sometimes the gaps were recorded in later years\n",
      "    for y in range(1979, 1995)+[1996, 1998, 2000, 2002, 2004, 2006, 2008, 2010]: \n",
      "        for j in range(1, 5): #4 possible gaps\n",
      "            for k in range(1, 6): #5 possible jobs\n",
      "                try: \n",
      "                    gap_start = gap_row['per%s_start_%s_job0%s_xrnd'%(j, y, k)]\n",
      "                    gap_stop = gap_row['per%s_stop_%s_job0%s_xrnd'%(j, y, k)]\n",
      "                    \n",
      "                    if gap_start!= -4 and gap_stop!=-4:\n",
      "                        gaps.append((gap_start, gap_stop))\n",
      "                    elif gap_start!= -4 or gap_stop != -4:\n",
      "                        print row['id'], y, j, k, 'missing data'\n",
      "                except KeyError:\n",
      "                    pass\n",
      "    \n",
      "    #assume birth occurs in the last week of the month\n",
      "    dob_row = analytic_df[analytic_df.caseid_1979==Id].iloc[0]\n",
      "    \n",
      "    # all births\n",
      "    for j in range(1, 12):\n",
      "        dob_y = dob_row['c%idob_y_xrnd'%j]\n",
      "        dob_m = dob_row['c%idob_m_xrnd'%j]\n",
      "        \n",
      "        if dob_y>0 and dob_m>0:\n",
      "    \n",
      "            for (gap_start, gap_stop) in gaps:\n",
      "                birth_wks = range(get_week_num(dob_y, dob_m, 'first'), get_week_num(dob_y, dob_m, 'last')+1)\n",
      "                gap_wks = range(gap_start, gap_stop+1)\n",
      "                res = None\n",
      "                \n",
      "                if set(birth_wks)&set(gap_wks): #the gap took place in the month of the birth\n",
      "                    res = 100\n",
      "            \n",
      "                elif gap_start>birth_wks[-1] and gap_start-birth_wks[-1]<=16:\n",
      "                    res = 100+(gap_start-birth_wks[-1])\n",
      "                    \n",
      "                elif gap_stop<birth_wks[0] and birth_wks[0]-gap_stop<=16:\n",
      "                    res = 100-(birth_wks[0]-gap_stop)                    \n",
      "                    \n",
      "                if res != None:\n",
      "                    for k in range(gap_start, gap_stop+1):\n",
      "                        leaves[k] = res                    \n",
      "    \n",
      "    return leaves"
     ],
     "language": "python",
     "metadata": {},
     "outputs": [],
     "prompt_number": 14
    },
    {
     "cell_type": "markdown",
     "metadata": {},
     "source": [
      "###Tranform weekly sequences"
     ]
    },
    {
     "cell_type": "code",
     "collapsed": false,
     "input": [
      "wkarray_df_partial = wkarray_df[wkarray_df.caseid_1979.isin(sample)]\n",
      "print wkarray_df_partial.shape"
     ],
     "language": "python",
     "metadata": {},
     "outputs": [
      {
       "output_type": "stream",
       "stream": "stdout",
       "text": [
        "(2459, 3763)\n"
       ]
      }
     ],
     "prompt_number": 15
    },
    {
     "cell_type": "code",
     "collapsed": false,
     "input": [
      "# Create a dictionary to store data\n",
      "data = defaultdict(list)\n",
      "\n",
      "for i, row in wkarray_df_partial.iterrows():\n",
      "\n",
      "    #to keep track of progress\n",
      "    if i%100 == 0: \n",
      "        print i\n",
      "\n",
      "    dob_row = analytic_df[analytic_df.caseid_1979==row['caseid_1979']].iloc[0]\n",
      "    dob_y = dob_row['c1dob_y_xrnd']\n",
      "    dob_m = dob_row['c1dob_m_xrnd']\n",
      "    \n",
      "    if dob_m == 12:\n",
      "        start_y = dob_y+1\n",
      "        start_m = 1\n",
      "    else:\n",
      "        start_y = dob_y\n",
      "        start_m = dob_m+1\n",
      "    \n",
      "    \n",
      "    #keep three columns: id, start_y, start_m\n",
      "    data['id'].append(row['caseid_1979'])\n",
      "    data['start_y'].append(start_y)\n",
      "    data['start_m'].append(start_m) \n",
      "        \n",
      "    #maternal leaves\n",
      "    leaves = find_maternal_leave_no_before(row['caseid_1979'])\n",
      "        \n",
      "    for week_num in range(1, 1828): #employment status data from 1978 to 2009 --- week 1 to week 1828\n",
      "        my_status = None\n",
      "         \n",
      "        #if the week is maternity leave\n",
      "        if week_num in leaves.keys():\n",
      "            my_status = leaves[week_num]\n",
      "            data['week%s'%(week_num-1)].append(my_status) #make the week number start from 0, easier for indexing in Python\n",
      "            continue\n",
      "        \n",
      "        #otherwise:\n",
      "        #get the hours worked this week \n",
      "        hours = row['hrs_worked_wk_num%04d_xrnd'%week_num]\n",
      "    \n",
      "        #get the employment status this week\n",
      "        status = row['status_wk_num%04d_xrnd'%week_num]\n",
      "\n",
      "        \n",
      "        if (status >= 100 and status <= 2510):\n",
      "            status = 'w' #working\n",
      "        \n",
      "        if hours >= 35:\n",
      "            hours = 'ft' #full-time working hours\n",
      "        elif hours > 0 and hours < 35:\n",
      "            hours = 'pt' #part-time working hours\n",
      "        \n",
      "        \n",
      "       #define employment status according to my NEW classification scheme\n",
      "        \n",
      "        # missing\n",
      "        if hours == 0 and status == 0:\n",
      "            my_status = 0\n",
      "            \n",
      "        # full time\n",
      "        elif hours == 'ft' and status in ['w', 3]:\n",
      "            my_status = 1\n",
      "        elif hours == 0 and status == 7:\n",
      "            my_status = 1\n",
      "            \n",
      "        # working, missing hours\n",
      "        elif hours <= 0 and status in ['w', 3]:\n",
      "            my_status = 2\n",
      "            \n",
      "        # part time\n",
      "        elif hours == 'pt' and status in ['w', 3]:\n",
      "            my_status = 3\n",
      "            \n",
      "        # non-working\n",
      "        elif hours <= 0 and status == 2:\n",
      "            my_status = 4\n",
      "        elif hours <= 0 and status == 4:\n",
      "            my_status = 4\n",
      "        elif hours <= 0 and status == 5:\n",
      "            my_status = 4\n",
      "\n",
      "        else:\n",
      "            raise Exception, 'unknown hours and status: (%s, %s)'%(hours, status)\n",
      "            \n",
      "        data['week%s'%(week_num-1)].append(my_status) #make the week number start from 0, easier for indexing in Python"
     ],
     "language": "python",
     "metadata": {},
     "outputs": [
      {
       "output_type": "stream",
       "stream": "stdout",
       "text": [
        "400\n",
        "800"
       ]
      },
      {
       "output_type": "stream",
       "stream": "stdout",
       "text": [
        "\n",
        "1100"
       ]
      },
      {
       "output_type": "stream",
       "stream": "stdout",
       "text": [
        "\n",
        "2300"
       ]
      },
      {
       "output_type": "stream",
       "stream": "stdout",
       "text": [
        "\n",
        "2500"
       ]
      },
      {
       "output_type": "stream",
       "stream": "stdout",
       "text": [
        "\n",
        "3100"
       ]
      },
      {
       "output_type": "stream",
       "stream": "stdout",
       "text": [
        "\n",
        "3200"
       ]
      },
      {
       "output_type": "stream",
       "stream": "stdout",
       "text": [
        "\n",
        "3600"
       ]
      },
      {
       "output_type": "stream",
       "stream": "stdout",
       "text": [
        "\n",
        "4000"
       ]
      },
      {
       "output_type": "stream",
       "stream": "stdout",
       "text": [
        "\n",
        "5000"
       ]
      },
      {
       "output_type": "stream",
       "stream": "stdout",
       "text": [
        "\n",
        "5300"
       ]
      },
      {
       "output_type": "stream",
       "stream": "stdout",
       "text": [
        "\n",
        "5700"
       ]
      },
      {
       "output_type": "stream",
       "stream": "stdout",
       "text": [
        "\n",
        "5800"
       ]
      },
      {
       "output_type": "stream",
       "stream": "stdout",
       "text": [
        "\n",
        "6900"
       ]
      },
      {
       "output_type": "stream",
       "stream": "stdout",
       "text": [
        "\n",
        "7600"
       ]
      },
      {
       "output_type": "stream",
       "stream": "stdout",
       "text": [
        "\n",
        "8600"
       ]
      },
      {
       "output_type": "stream",
       "stream": "stdout",
       "text": [
        "\n",
        "10400"
       ]
      },
      {
       "output_type": "stream",
       "stream": "stdout",
       "text": [
        "\n",
        "11900"
       ]
      },
      {
       "output_type": "stream",
       "stream": "stdout",
       "text": [
        "\n",
        "12200"
       ]
      },
      {
       "output_type": "stream",
       "stream": "stdout",
       "text": [
        "\n"
       ]
      }
     ],
     "prompt_number": 16
    },
    {
     "cell_type": "code",
     "collapsed": false,
     "input": [
      "#create the new dataframe with my edited employment status\n",
      "\n",
      "#order the columns in the new dataframe\n",
      "cols = ['id', 'start_y', 'start_m'] + ['week%s'%n for n in range(1827)]\n",
      "\n",
      "full_df = pd.DataFrame(data, columns=cols)\n",
      "print full_df.iloc[0]"
     ],
     "language": "python",
     "metadata": {},
     "outputs": [
      {
       "output_type": "stream",
       "stream": "stdout",
       "text": [
        "id            2\n",
        "start_y    1993\n",
        "start_m       4\n",
        "week0         4\n",
        "week1         4\n",
        "week2         4\n",
        "week3         4\n",
        "week4         4\n",
        "week5         4\n",
        "week6         4\n",
        "week7         4\n",
        "week8         4\n",
        "week9         4\n",
        "week10        4\n",
        "week11        4\n",
        "...\n",
        "week1812    1\n",
        "week1813    1\n",
        "week1814    1\n",
        "week1815    1\n",
        "week1816    1\n",
        "week1817    1\n",
        "week1818    1\n",
        "week1819    1\n",
        "week1820    1\n",
        "week1821    1\n",
        "week1822    0\n",
        "week1823    0\n",
        "week1824    0\n",
        "week1825    0\n",
        "week1826    0\n",
        "Name: 0, Length: 1830, dtype: int64\n"
       ]
      }
     ],
     "prompt_number": 17
    },
    {
     "cell_type": "markdown",
     "metadata": {},
     "source": [
      "###Within 18-year period after birth, how many weeks per respondent are maternity leaves?"
     ]
    },
    {
     "cell_type": "code",
     "collapsed": false,
     "input": [
      "def count_ml_per_indiv(row):\n",
      "    \"\"\"\n",
      "    Given a row of data for one respondent, return how many weeks are maternity leaves.\n",
      "    \"\"\"\n",
      "    \n",
      "    y = row['start_y']\n",
      "    m = row['start_m']\n",
      "    seq = row.values[3:].tolist() \n",
      "    start = get_week_num(y, m, 'first')\n",
      "    \n",
      "    for j in range(215): #18 years == 216 months\n",
      "        if m < 12:\n",
      "            m += 1\n",
      "        elif m == 12:\n",
      "            m = 1\n",
      "            y += 1\n",
      "    end = get_week_num(y, m, 'last')\n",
      "    \n",
      "    wk_statuses = seq[start:end+1]  \n",
      "    is_ml = [status>5 for status in wk_statuses]\n",
      "    \n",
      "    return sum(is_ml)\n",
      "    "
     ],
     "language": "python",
     "metadata": {},
     "outputs": [],
     "prompt_number": 18
    },
    {
     "cell_type": "code",
     "collapsed": false,
     "input": [
      "count_ml = full_df.apply(count_ml_per_indiv, axis=1)\n",
      "counts = count_ml.values.tolist()\n",
      "count_ml.describe()"
     ],
     "language": "python",
     "metadata": {},
     "outputs": [
      {
       "metadata": {},
       "output_type": "pyout",
       "prompt_number": 19,
       "text": [
        "count    2459.000000\n",
        "mean        6.687271\n",
        "std        23.730677\n",
        "min         0.000000\n",
        "25%         0.000000\n",
        "50%         0.000000\n",
        "75%         8.000000\n",
        "max       939.000000\n",
        "dtype: float64"
       ]
      }
     ],
     "prompt_number": 19
    },
    {
     "cell_type": "code",
     "collapsed": false,
     "input": [
      "hist = plt.hist(counts, bins=100)"
     ],
     "language": "python",
     "metadata": {},
     "outputs": [
      {
       "metadata": {},
       "output_type": "display_data",
       "png": "[encoded data removed]",
       "text": [
        "<matplotlib.figure.Figure at 0x102015ad0>"
       ]
      }
     ],
     "prompt_number": 20
    },
    {
     "cell_type": "markdown",
     "metadata": {},
     "source": [
      "###Construct 18-year monthly sequences"
     ]
    },
    {
     "cell_type": "code",
     "collapsed": false,
     "input": [
      "def find_modal(l):\n",
      "    \"\"\"\n",
      "    return the most common element in the list. \n",
      "    if there is a tie, return all elements.\n",
      "    \"\"\"\n",
      "    \n",
      "    counter = defaultdict(int)\n",
      "    for item in l:\n",
      "        counter[item] += 1\n",
      "\n",
      "    popular_items = sorted(counter, key=counter.get, reverse = True)\n",
      "    \n",
      "    most_common = [popular_items[0]]\n",
      "    \n",
      "    for other in popular_items[1:]:\n",
      "        if counter[other] < counter[most_common[0]]:\n",
      "            break\n",
      "        else:\n",
      "            most_common.append(other)\n",
      "\n",
      "    return most_common\n",
      "\n",
      "print find_modal([1, 1, 2, 1, 5])"
     ],
     "language": "python",
     "metadata": {},
     "outputs": [
      {
       "output_type": "stream",
       "stream": "stdout",
       "text": [
        "[1]\n"
       ]
      }
     ],
     "prompt_number": 21
    },
    {
     "cell_type": "code",
     "collapsed": false,
     "input": [
      "random.seed(7222014)\n",
      "\n",
      "res_data = defaultdict(list) #a dictionary to store data\n",
      "\n",
      "for i, row in full_df.iterrows():\n",
      "    \n",
      "    # keep track of progress\n",
      "    if i%100 == 0:\n",
      "        print i\n",
      "    \n",
      "    # keep basic info: id, sequence start year and month\n",
      "    res_data['id'].append(row['id'])\n",
      "    \n",
      "    y = row['start_y']\n",
      "    m = row['start_m']\n",
      "    \n",
      "    res_data['start_y'].append(y)\n",
      "    res_data['start_m'].append(m)\n",
      "    \n",
      "    \n",
      "    seq = row.values[3:].tolist()\n",
      "    new_seq = [x if x<5 else 5 for x in seq]\n",
      "    \n",
      "    for j in range(216): # from month 1 to month 216\n",
      "        start = get_week_num(y, m, 'first')\n",
      "        end = get_week_num(y, m, 'last')\n",
      "        wk_statuses = new_seq[start:end+1]\n",
      "        \n",
      "        distinct = list(set(wk_statuses))\n",
      "        distinct.sort()\n",
      "        \n",
      "        # count how many distinct statuses are in the month\n",
      "        if len(distinct) == 1:\n",
      "            res_data['month%s'%j].append(distinct[0])\n",
      "                \n",
      "        elif len(distinct) >= 2:\n",
      "            modal = find_modal(wk_statuses)\n",
      "            if len(modal) == 1:\n",
      "                res_data['month%s'%j].append(modal[0])\n",
      "            else:\n",
      "                res_data['month%s'%j].append(random.choice(modal))\n",
      "                 \n",
      "        if m < 12:\n",
      "            m += 1\n",
      "        elif m == 12:\n",
      "            m = 1\n",
      "            y += 1\n",
      "\n",
      "cols = ['id', 'start_y', 'start_m'] + ['month%s'%i for i in range(216)]\n",
      "res_df = pd.DataFrame(res_data, columns=cols) #restricted dataframe"
     ],
     "language": "python",
     "metadata": {},
     "outputs": [
      {
       "output_type": "stream",
       "stream": "stdout",
       "text": [
        "0\n",
        "100"
       ]
      },
      {
       "output_type": "stream",
       "stream": "stdout",
       "text": [
        "\n",
        "200"
       ]
      },
      {
       "output_type": "stream",
       "stream": "stdout",
       "text": [
        "\n",
        "300"
       ]
      },
      {
       "output_type": "stream",
       "stream": "stdout",
       "text": [
        "\n",
        "400"
       ]
      },
      {
       "output_type": "stream",
       "stream": "stdout",
       "text": [
        "\n",
        "500"
       ]
      },
      {
       "output_type": "stream",
       "stream": "stdout",
       "text": [
        "\n",
        "600"
       ]
      },
      {
       "output_type": "stream",
       "stream": "stdout",
       "text": [
        "\n",
        "700"
       ]
      },
      {
       "output_type": "stream",
       "stream": "stdout",
       "text": [
        "\n",
        "800"
       ]
      },
      {
       "output_type": "stream",
       "stream": "stdout",
       "text": [
        "\n",
        "900"
       ]
      },
      {
       "output_type": "stream",
       "stream": "stdout",
       "text": [
        "\n",
        "1000"
       ]
      },
      {
       "output_type": "stream",
       "stream": "stdout",
       "text": [
        "\n",
        "1100"
       ]
      },
      {
       "output_type": "stream",
       "stream": "stdout",
       "text": [
        "\n",
        "1200"
       ]
      },
      {
       "output_type": "stream",
       "stream": "stdout",
       "text": [
        "\n",
        "1300"
       ]
      },
      {
       "output_type": "stream",
       "stream": "stdout",
       "text": [
        "\n",
        "1400"
       ]
      },
      {
       "output_type": "stream",
       "stream": "stdout",
       "text": [
        "\n",
        "1500"
       ]
      },
      {
       "output_type": "stream",
       "stream": "stdout",
       "text": [
        "\n",
        "1600"
       ]
      },
      {
       "output_type": "stream",
       "stream": "stdout",
       "text": [
        "\n",
        "1700"
       ]
      },
      {
       "output_type": "stream",
       "stream": "stdout",
       "text": [
        "\n",
        "1800"
       ]
      },
      {
       "output_type": "stream",
       "stream": "stdout",
       "text": [
        "\n",
        "1900"
       ]
      },
      {
       "output_type": "stream",
       "stream": "stdout",
       "text": [
        "\n",
        "2000"
       ]
      },
      {
       "output_type": "stream",
       "stream": "stdout",
       "text": [
        "\n",
        "2100"
       ]
      },
      {
       "output_type": "stream",
       "stream": "stdout",
       "text": [
        "\n",
        "2200"
       ]
      },
      {
       "output_type": "stream",
       "stream": "stdout",
       "text": [
        "\n",
        "2300"
       ]
      },
      {
       "output_type": "stream",
       "stream": "stdout",
       "text": [
        "\n",
        "2400"
       ]
      },
      {
       "output_type": "stream",
       "stream": "stdout",
       "text": [
        "\n"
       ]
      }
     ],
     "prompt_number": 22
    },
    {
     "cell_type": "code",
     "collapsed": false,
     "input": [
      "# Drop respondent 8511 because of her missing fertility data\n",
      "analytic_df[analytic_df.caseid_1979==8511].iloc[0]"
     ],
     "language": "python",
     "metadata": {},
     "outputs": [
      {
       "metadata": {},
       "output_type": "pyout",
       "prompt_number": 25,
       "text": [
        "caseid_1979          8511\n",
        "sample_id_1979         13\n",
        "sample_race_1979        2\n",
        "sample_sex_1979         2\n",
        "c1dob_m_xrnd            3\n",
        "c1dob_y_xrnd         1990\n",
        "c2dob_m_xrnd           11\n",
        "c2dob_y_xrnd         1994\n",
        "c3dob_m_xrnd            7\n",
        "c3dob_y_xrnd         1998\n",
        "c4dob_m_xrnd           -1\n",
        "c4dob_y_xrnd         2001\n",
        "c5dob_m_xrnd           -4\n",
        "c5dob_y_xrnd           -4\n",
        "c6dob_m_xrnd           -4\n",
        "c6dob_y_xrnd           -4\n",
        "c7dob_m_xrnd           -4\n",
        "c7dob_y_xrnd           -4\n",
        "c8dob_m_xrnd           -4\n",
        "c8dob_y_xrnd           -4\n",
        "c9dob_m_xrnd           -4\n",
        "c9dob_y_xrnd           -4\n",
        "c10dob_m_xrnd          -4\n",
        "c10dob_y_xrnd          -4\n",
        "c11dob_m_xrnd          -4\n",
        "c11dob_y_xrnd          -4\n",
        "last_yr              2012\n",
        "year_child18         2008\n",
        "attr_child18        False\n",
        "Name: 2028, dtype: object"
       ]
      }
     ],
     "prompt_number": 25
    },
    {
     "cell_type": "code",
     "collapsed": false,
     "input": [
      "res_df = res_df[res_df.id!=8511]\n",
      "print res_df.shape"
     ],
     "language": "python",
     "metadata": {},
     "outputs": [
      {
       "output_type": "stream",
       "stream": "stdout",
       "text": [
        "(2458, 219)\n"
       ]
      }
     ],
     "prompt_number": 26
    },
    {
     "cell_type": "code",
     "collapsed": false,
     "input": [
      "res_df.to_csv(\"new_monthly_df_ml.csv\", index=False)"
     ],
     "language": "python",
     "metadata": {},
     "outputs": [],
     "prompt_number": 27
    },
    {
     "cell_type": "markdown",
     "metadata": {},
     "source": [
      "###Examine distribution of each status"
     ]
    },
    {
     "cell_type": "code",
     "collapsed": false,
     "input": [
      "def list_duplicates_of(seq, item):\n",
      "    \"\"\"\n",
      "    a function to return the indexes of duplicate items in a list (as a list)\n",
      "    \"\"\"\n",
      "    start_at = -1\n",
      "    locs = []\n",
      "    while True:\n",
      "        try:\n",
      "            loc = seq.index(item,start_at+1)\n",
      "        except ValueError:\n",
      "            break\n",
      "        else:\n",
      "            locs.append(loc)\n",
      "            start_at = loc\n",
      "    return locs"
     ],
     "language": "python",
     "metadata": {},
     "outputs": [],
     "prompt_number": 31
    },
    {
     "cell_type": "code",
     "collapsed": false,
     "input": [
      "def check_distribution(value, df, start_value):\n",
      "    \"\"\"\n",
      "    A function to exmine the distribution of the given value in the given dataframe\n",
      "    \n",
      "    start_value is the column number starting from which are our actual data. \n",
      "    e.g. here we want only to examine the distribution of certain values in the weekly status,\n",
      "    so the columns id, start_y, start_m, and start_week are not relevant, and we want to skip\n",
      "    those columns, so the start_value will be 4.\n",
      "    \"\"\"   \n",
      "    \n",
      "    ###how many respondents have the given value in their sequences?\n",
      "    indices_by_person = []\n",
      "    for i, row in df.iterrows():\n",
      "        \n",
      "        if value in row.values[start_value:]: \n",
      "            seq = row.values[start_value:].tolist()\n",
      "            \n",
      "            #find the list of the given value's positions in the sequence\n",
      "            indices_by_person.append(list_duplicates_of(seq, value))  \n",
      "            \n",
      "    print '%s respondents have some months of status %s'%(len(indices_by_person), value)\n",
      "    print\n",
      "    \n",
      "    ###how many such weeks are in each respondent's sequence?\n",
      "    count_by_person = [len(l) for l in indices_by_person]\n",
      "    plt.hist(count_by_person, bins=50)\n",
      "    plt.title('Count of Months of Status %s per Respondent\\n(Not Considering Whether Continuously distributed or Not)'%value)\n",
      "    plt.ylabel('Frequency')\n",
      "    #remove_border()\n",
      "    plt.show()    \n",
      "    print 'The number of months with %s status per respondent'%value\n",
      "    print 'Min:', min(count_by_person)\n",
      "    print 'Max:', max(count_by_person)\n",
      "    print 'Mean:', np.mean(count_by_person)\n",
      "    print 'Quantiles:', np.percentile(count_by_person, 25), \\\n",
      "                        np.percentile(count_by_person, 50), \\\n",
      "                        np.percentile(count_by_person, 75)\n",
      "    print\n",
      " \n",
      "    ###Overall gap lengths of the given status?\n",
      "    gaps_by_person = [] \n",
      "    total_gaps = []\n",
      "    for indices in indices_by_person:\n",
      "        gap_len_for_this_person = []\n",
      "        start = 0 #count the start pos of each continuous gap\n",
      "        while start < len(indices):\n",
      "            i = 0\n",
      "            while start+i+1<len(indices) and indices[start+i+1]==indices[start+i]+1:\n",
      "                i += 1\n",
      "            gap_len_for_this_person.append(i+1)\n",
      "            total_gaps.append(i+1)\n",
      "            start += i+1\n",
      "        gaps_by_person.append(gap_len_for_this_person)    \n",
      "    \n",
      "    plt.hist(total_gaps, bins=50)\n",
      "    plt.title('Lengths of Spells of Status %s'%value)\n",
      "    plt.ylabel('Frequency')\n",
      "    #remove_border()   \n",
      "    plt.show()\n",
      "    print 'The total number of spells of status %s: %s'%(value, len(total_gaps))        \n",
      "    print 'The lengths of spells of status %s'%value\n",
      "    print 'Min:', min(total_gaps)\n",
      "    print 'Max:', max(total_gaps)\n",
      "    print 'Mean:', np.mean(total_gaps)\n",
      "    print 'Quantiles:', np.percentile(total_gaps, 25), \\\n",
      "                    np.percentile(total_gaps, 50), \\\n",
      "                    np.percentile(total_gaps, 75)\n",
      "    print\n",
      "\n",
      "    \n",
      "    ###how many 'gaps' of the given status per respondent?\n",
      "    count_gaps_by_person = [len(gaps_per_person) for gaps_per_person in gaps_by_person]\n",
      "    plt.hist(count_gaps_by_person, bins=50)\n",
      "    plt.title('Number of Spells of Status %s Per Respondents'%value)\n",
      "    plt.ylabel('Frequency')\n",
      "    #remove_border()    \n",
      "    plt.show()    \n",
      "    print 'The number of spells of status %s per respondent'%value\n",
      "    print 'Min:', min(count_gaps_by_person)\n",
      "    print 'Max:', max(count_gaps_by_person)\n",
      "    print 'Mean:', np.mean(count_gaps_by_person)\n",
      "    print 'Quantiles:', np.percentile(count_gaps_by_person, 25), \\\n",
      "                    np.percentile(count_gaps_by_person, 50), \\\n",
      "                    np.percentile(count_gaps_by_person, 75)    "
     ],
     "language": "python",
     "metadata": {},
     "outputs": [],
     "prompt_number": 33
    },
    {
     "cell_type": "code",
     "collapsed": false,
     "input": [
      "res_df.iloc[0]"
     ],
     "language": "python",
     "metadata": {},
     "outputs": [
      {
       "metadata": {},
       "output_type": "pyout",
       "prompt_number": 29,
       "text": [
        "id            2\n",
        "start_y    1993\n",
        "start_m       4\n",
        "month0        5\n",
        "month1        4\n",
        "month2        4\n",
        "month3        4\n",
        "month4        4\n",
        "month5        4\n",
        "month6        4\n",
        "month7        4\n",
        "month8        4\n",
        "month9        4\n",
        "month10       4\n",
        "month11       4\n",
        "...\n",
        "month201    3\n",
        "month202    3\n",
        "month203    1\n",
        "month204    1\n",
        "month205    1\n",
        "month206    1\n",
        "month207    1\n",
        "month208    1\n",
        "month209    1\n",
        "month210    1\n",
        "month211    1\n",
        "month212    1\n",
        "month213    1\n",
        "month214    1\n",
        "month215    1\n",
        "Name: 0, Length: 219, dtype: int64"
       ]
      }
     ],
     "prompt_number": 29
    },
    {
     "cell_type": "code",
     "collapsed": false,
     "input": [
      "check_distribution(0, res_df, 3)"
     ],
     "language": "python",
     "metadata": {},
     "outputs": [
      {
       "output_type": "stream",
       "stream": "stdout",
       "text": [
        "231 respondents have some months of status 0\n",
        "\n"
       ]
      },
      {
       "metadata": {},
       "output_type": "display_data",
       "png": "[encoded data removed]",
       "text": [
        "<matplotlib.figure.Figure at 0x10a20aa50>"
       ]
      },
      {
       "output_type": "stream",
       "stream": "stdout",
       "text": [
        "The number of months with 0 status per respondent\n",
        "Min: 1\n",
        "Max: 108\n",
        "Mean: 10.5757575758\n",
        "Quantiles: 2.0 7.0 13.0\n",
        "\n"
       ]
      },
      {
       "metadata": {},
       "output_type": "display_data",
       "png": "[encoded data removed]",
       "text": [
        "<matplotlib.figure.Figure at 0x10a05b310>"
       ]
      },
      {
       "output_type": "stream",
       "stream": "stdout",
       "text": [
        "The total number of spells of status 0: 254\n",
        "The lengths of spells of status 0\n",
        "Min: 1\n",
        "Max: 108\n",
        "Mean: 9.61811023622\n",
        "Quantiles: 2.0 7.0 13.0\n",
        "\n"
       ]
      },
      {
       "metadata": {},
       "output_type": "display_data",
       "png": "[encoded data removed]",
       "text": [
        "<matplotlib.figure.Figure at 0x109f224d0>"
       ]
      },
      {
       "output_type": "stream",
       "stream": "stdout",
       "text": [
        "The number of spells of status 0 per respondent\n",
        "Min: 1\n",
        "Max: 4\n",
        "Mean: 1.09956709957\n",
        "Quantiles: 1.0 1.0 1.0\n"
       ]
      }
     ],
     "prompt_number": 34
    },
    {
     "cell_type": "code",
     "collapsed": false,
     "input": [
      "check_distribution(2, res_df, 3)"
     ],
     "language": "python",
     "metadata": {},
     "outputs": [
      {
       "output_type": "stream",
       "stream": "stdout",
       "text": [
        "233 respondents have some months of status 2\n",
        "\n"
       ]
      },
      {
       "metadata": {},
       "output_type": "display_data",
       "png": "[encoded data removed]",
       "text": [
        "<matplotlib.figure.Figure at 0x10a20a410>"
       ]
      },
      {
       "output_type": "stream",
       "stream": "stdout",
       "text": [
        "The number of months with 2 status per respondent\n",
        "Min: 1\n",
        "Max: 53\n",
        "Mean: 13.4463519313\n",
        "Quantiles: 5.0 11.0 19.0\n",
        "\n"
       ]
      },
      {
       "metadata": {},
       "output_type": "display_data",
       "png": "[encoded data removed]",
       "text": [
        "<matplotlib.figure.Figure at 0x10bbb33d0>"
       ]
      },
      {
       "output_type": "stream",
       "stream": "stdout",
       "text": [
        "The total number of spells of status 2: 295\n",
        "The lengths of spells of status 2\n",
        "Min: 1\n",
        "Max: 49\n",
        "Mean: 10.6203389831\n",
        "Quantiles: 3.0 8.0 15.0\n",
        "\n"
       ]
      },
      {
       "metadata": {},
       "output_type": "display_data",
       "png": "[encoded data removed]",
       "text": [
        "<matplotlib.figure.Figure at 0x10bddf850>"
       ]
      },
      {
       "output_type": "stream",
       "stream": "stdout",
       "text": [
        "The number of spells of status 2 per respondent\n",
        "Min: 1\n",
        "Max: 5\n",
        "Mean: 1.2660944206\n",
        "Quantiles: 1.0 1.0 1.0\n"
       ]
      }
     ],
     "prompt_number": 35
    },
    {
     "cell_type": "code",
     "collapsed": false,
     "input": [
      "check_distribution(5, res_df, 3)"
     ],
     "language": "python",
     "metadata": {},
     "outputs": [
      {
       "output_type": "stream",
       "stream": "stdout",
       "text": [
        "874 respondents have some months of status 5\n",
        "\n"
       ]
      },
      {
       "metadata": {},
       "output_type": "display_data",
       "png": "[encoded data removed]",
       "text": [
        "<matplotlib.figure.Figure at 0x10bcc15d0>"
       ]
      },
      {
       "output_type": "stream",
       "stream": "stdout",
       "text": [
        "The number of months with 5 status per respondent\n",
        "Min: 1\n",
        "Max: 216\n",
        "Mean: 4.32608695652\n",
        "Quantiles: 2.0 3.0 5.0\n",
        "\n"
       ]
      },
      {
       "metadata": {},
       "output_type": "display_data",
       "png": "[encoded data removed]",
       "text": [
        "<matplotlib.figure.Figure at 0x10bbeb090>"
       ]
      },
      {
       "output_type": "stream",
       "stream": "stdout",
       "text": [
        "The total number of spells of status 5: 1183\n",
        "The lengths of spells of status 5\n",
        "Min: 1\n",
        "Max: 216\n",
        "Mean: 3.19611158073\n",
        "Quantiles: 1.0 2.0 4.0\n",
        "\n"
       ]
      },
      {
       "metadata": {},
       "output_type": "display_data",
       "png": "[encoded data removed]",
       "text": [
        "<matplotlib.figure.Figure at 0x10b840b50>"
       ]
      },
      {
       "output_type": "stream",
       "stream": "stdout",
       "text": [
        "The number of spells of status 5 per respondent\n",
        "Min: 1\n",
        "Max: 6\n",
        "Mean: 1.35354691076\n",
        "Quantiles: 1.0 1.0 2.0\n"
       ]
      }
     ],
     "prompt_number": 36
    },
    {
     "cell_type": "code",
     "collapsed": false,
     "input": [],
     "language": "python",
     "metadata": {},
     "outputs": []
    }
   ],
   "metadata": {}
  }
 ]
}