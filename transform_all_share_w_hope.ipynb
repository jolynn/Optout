{
 "metadata": {
  "name": "",
  "signature": "sha256:0451102cfb2cac638fb28b0596a3f8bad181bc85f6bc9262e60d9f03a6549675"
 },
 "nbformat": 3,
 "nbformat_minor": 0,
 "worksheets": [
  {
   "cells": [
    {
     "cell_type": "markdown",
     "metadata": {},
     "source": [
      "#OptOut Project: Sequence Construction \n",
      "\n",
      "for all Sample\n",
      "\n",
      "to share with Hope\n",
      "\n",
      "including newest available data\n",
      "\n",
      "February 2015"
     ]
    },
    {
     "cell_type": "code",
     "collapsed": false,
     "input": [
      "#setup\n",
      "%matplotlib inline\n",
      "import numpy as np\n",
      "import matplotlib.pyplot as plt\n",
      "import pandas as pd\n",
      "import time\n",
      "import random\n",
      "from collections import defaultdict"
     ],
     "language": "python",
     "metadata": {},
     "outputs": [],
     "prompt_number": 1
    },
    {
     "cell_type": "markdown",
     "metadata": {},
     "source": [
      "##Select women only"
     ]
    },
    {
     "cell_type": "code",
     "collapsed": false,
     "input": [
      "dob_df = pd.read_csv('childbirth.csv')\n",
      "print dob_df.shape\n",
      "dob_df.head()"
     ],
     "language": "python",
     "metadata": {},
     "outputs": [
      {
       "output_type": "stream",
       "stream": "stdout",
       "text": [
        "(12686, 26)\n"
       ]
      },
      {
       "html": [
        "<div style=\"max-height:1000px;max-width:1500px;overflow:auto;\">\n",
        "<table border=\"1\" class=\"dataframe\">\n",
        "  <thead>\n",
        "    <tr style=\"text-align: right;\">\n",
        "      <th></th>\n",
        "      <th>caseid_1979</th>\n",
        "      <th>sample_id_1979</th>\n",
        "      <th>sample_race_1979</th>\n",
        "      <th>sample_sex_1979</th>\n",
        "      <th>c1dob_m_xrnd</th>\n",
        "      <th>c1dob_y_xrnd</th>\n",
        "      <th>c2dob_m_xrnd</th>\n",
        "      <th>c2dob_y_xrnd</th>\n",
        "      <th>c3dob_m_xrnd</th>\n",
        "      <th>c3dob_y_xrnd</th>\n",
        "      <th>...</th>\n",
        "      <th>c7dob_m_xrnd</th>\n",
        "      <th>c7dob_y_xrnd</th>\n",
        "      <th>c8dob_m_xrnd</th>\n",
        "      <th>c8dob_y_xrnd</th>\n",
        "      <th>c9dob_m_xrnd</th>\n",
        "      <th>c9dob_y_xrnd</th>\n",
        "      <th>c10dob_m_xrnd</th>\n",
        "      <th>c10dob_y_xrnd</th>\n",
        "      <th>c11dob_m_xrnd</th>\n",
        "      <th>c11dob_y_xrnd</th>\n",
        "    </tr>\n",
        "  </thead>\n",
        "  <tbody>\n",
        "    <tr>\n",
        "      <th>0</th>\n",
        "      <td> 1</td>\n",
        "      <td> 5</td>\n",
        "      <td> 3</td>\n",
        "      <td> 2</td>\n",
        "      <td>-4</td>\n",
        "      <td>   -4</td>\n",
        "      <td> -4</td>\n",
        "      <td>   -4</td>\n",
        "      <td>-4</td>\n",
        "      <td>   -4</td>\n",
        "      <td>...</td>\n",
        "      <td>-4</td>\n",
        "      <td>-4</td>\n",
        "      <td>-4</td>\n",
        "      <td>-4</td>\n",
        "      <td>-4</td>\n",
        "      <td>-4</td>\n",
        "      <td>-4</td>\n",
        "      <td>-4</td>\n",
        "      <td>-4</td>\n",
        "      <td>-4</td>\n",
        "    </tr>\n",
        "    <tr>\n",
        "      <th>1</th>\n",
        "      <td> 2</td>\n",
        "      <td> 5</td>\n",
        "      <td> 3</td>\n",
        "      <td> 2</td>\n",
        "      <td> 3</td>\n",
        "      <td> 1993</td>\n",
        "      <td> 11</td>\n",
        "      <td> 1994</td>\n",
        "      <td>-4</td>\n",
        "      <td>   -4</td>\n",
        "      <td>...</td>\n",
        "      <td>-4</td>\n",
        "      <td>-4</td>\n",
        "      <td>-4</td>\n",
        "      <td>-4</td>\n",
        "      <td>-4</td>\n",
        "      <td>-4</td>\n",
        "      <td>-4</td>\n",
        "      <td>-4</td>\n",
        "      <td>-4</td>\n",
        "      <td>-4</td>\n",
        "    </tr>\n",
        "    <tr>\n",
        "      <th>2</th>\n",
        "      <td> 3</td>\n",
        "      <td> 5</td>\n",
        "      <td> 3</td>\n",
        "      <td> 2</td>\n",
        "      <td> 6</td>\n",
        "      <td> 1981</td>\n",
        "      <td> 10</td>\n",
        "      <td> 1983</td>\n",
        "      <td> 4</td>\n",
        "      <td> 1986</td>\n",
        "      <td>...</td>\n",
        "      <td>-4</td>\n",
        "      <td>-4</td>\n",
        "      <td>-4</td>\n",
        "      <td>-4</td>\n",
        "      <td>-4</td>\n",
        "      <td>-4</td>\n",
        "      <td>-4</td>\n",
        "      <td>-4</td>\n",
        "      <td>-4</td>\n",
        "      <td>-4</td>\n",
        "    </tr>\n",
        "    <tr>\n",
        "      <th>3</th>\n",
        "      <td> 4</td>\n",
        "      <td> 5</td>\n",
        "      <td> 3</td>\n",
        "      <td> 2</td>\n",
        "      <td> 8</td>\n",
        "      <td> 1980</td>\n",
        "      <td>  3</td>\n",
        "      <td> 1997</td>\n",
        "      <td>-4</td>\n",
        "      <td>   -4</td>\n",
        "      <td>...</td>\n",
        "      <td>-4</td>\n",
        "      <td>-4</td>\n",
        "      <td>-4</td>\n",
        "      <td>-4</td>\n",
        "      <td>-4</td>\n",
        "      <td>-4</td>\n",
        "      <td>-4</td>\n",
        "      <td>-4</td>\n",
        "      <td>-4</td>\n",
        "      <td>-4</td>\n",
        "    </tr>\n",
        "    <tr>\n",
        "      <th>4</th>\n",
        "      <td> 5</td>\n",
        "      <td> 1</td>\n",
        "      <td> 3</td>\n",
        "      <td> 1</td>\n",
        "      <td> 5</td>\n",
        "      <td> 1989</td>\n",
        "      <td> -4</td>\n",
        "      <td>   -4</td>\n",
        "      <td>-4</td>\n",
        "      <td>   -4</td>\n",
        "      <td>...</td>\n",
        "      <td>-4</td>\n",
        "      <td>-4</td>\n",
        "      <td>-4</td>\n",
        "      <td>-4</td>\n",
        "      <td>-4</td>\n",
        "      <td>-4</td>\n",
        "      <td>-4</td>\n",
        "      <td>-4</td>\n",
        "      <td>-4</td>\n",
        "      <td>-4</td>\n",
        "    </tr>\n",
        "  </tbody>\n",
        "</table>\n",
        "<p>5 rows \u00d7 26 columns</p>\n",
        "</div>"
       ],
       "metadata": {},
       "output_type": "pyout",
       "prompt_number": 2,
       "text": [
        "   caseid_1979  sample_id_1979  sample_race_1979  sample_sex_1979  \\\n",
        "0            1               5                 3                2   \n",
        "1            2               5                 3                2   \n",
        "2            3               5                 3                2   \n",
        "3            4               5                 3                2   \n",
        "4            5               1                 3                1   \n",
        "\n",
        "   c1dob_m_xrnd  c1dob_y_xrnd  c2dob_m_xrnd  c2dob_y_xrnd  c3dob_m_xrnd  \\\n",
        "0            -4            -4            -4            -4            -4   \n",
        "1             3          1993            11          1994            -4   \n",
        "2             6          1981            10          1983             4   \n",
        "3             8          1980             3          1997            -4   \n",
        "4             5          1989            -4            -4            -4   \n",
        "\n",
        "   c3dob_y_xrnd      ...        c7dob_m_xrnd  c7dob_y_xrnd  c8dob_m_xrnd  \\\n",
        "0            -4      ...                  -4            -4            -4   \n",
        "1            -4      ...                  -4            -4            -4   \n",
        "2          1986      ...                  -4            -4            -4   \n",
        "3            -4      ...                  -4            -4            -4   \n",
        "4            -4      ...                  -4            -4            -4   \n",
        "\n",
        "   c8dob_y_xrnd  c9dob_m_xrnd  c9dob_y_xrnd  c10dob_m_xrnd  c10dob_y_xrnd  \\\n",
        "0            -4            -4            -4             -4             -4   \n",
        "1            -4            -4            -4             -4             -4   \n",
        "2            -4            -4            -4             -4             -4   \n",
        "3            -4            -4            -4             -4             -4   \n",
        "4            -4            -4            -4             -4             -4   \n",
        "\n",
        "   c11dob_m_xrnd  c11dob_y_xrnd  \n",
        "0             -4             -4  \n",
        "1             -4             -4  \n",
        "2             -4             -4  \n",
        "3             -4             -4  \n",
        "4             -4             -4  \n",
        "\n",
        "[5 rows x 26 columns]"
       ]
      }
     ],
     "prompt_number": 2
    },
    {
     "cell_type": "code",
     "collapsed": false,
     "input": [
      "#drop males\n",
      "#1-male; 2-female\n",
      "\n",
      "sample_df = dob_df[dob_df.sample_sex_1979==2]\n",
      "print sample_df.shape"
     ],
     "language": "python",
     "metadata": {},
     "outputs": [
      {
       "output_type": "stream",
       "stream": "stdout",
       "text": [
        "(6283, 26)\n"
       ]
      }
     ],
     "prompt_number": 3
    },
    {
     "cell_type": "code",
     "collapsed": false,
     "input": [
      "#drop subsamples that weren\u2019t followed over the entire survey period\n",
      "print sample_df.sample_id_1979.unique()\n",
      "\n",
      "sample_df = sample_df[(~sample_df.sample_id_1979.isin([9, 12, 15, 16, 17, 18, 19, 20]))]\n",
      "print sample_df.sample_id_1979.unique()\n",
      "print sample_df.shape"
     ],
     "language": "python",
     "metadata": {},
     "outputs": [
      {
       "output_type": "stream",
       "stream": "stdout",
       "text": [
        "[ 5  6  8  7 14 12 13 18 19 20]\n",
        "[ 5  6  8  7 14 13]\n",
        "(4926, 26)\n"
       ]
      }
     ],
     "prompt_number": 4
    },
    {
     "cell_type": "code",
     "collapsed": false,
     "input": [
      "#save to csv\n",
      "sample_df.to_csv('women_only.csv', index=False)"
     ],
     "language": "python",
     "metadata": {},
     "outputs": [],
     "prompt_number": 5
    },
    {
     "cell_type": "markdown",
     "metadata": {},
     "source": [
      "##Transform weekly sequences"
     ]
    },
    {
     "cell_type": "markdown",
     "metadata": {},
     "source": [
      "###Week-to-week crosswalk\n",
      "\n",
      "Create two functions to convert between week number and calendar year and month"
     ]
    },
    {
     "cell_type": "code",
     "collapsed": false,
     "input": [
      "#this is the file to switch between week number in NLSY79 and calendar year, month, and day\n",
      "xl_file = pd.ExcelFile('continuous_week_crosswalk.xlsx') \n",
      "\n",
      "weekdf = xl_file.parse('weekdates1')\n",
      "print weekdf.shape # print (total row number, total column number)\n",
      "weekdf.head()"
     ],
     "language": "python",
     "metadata": {},
     "outputs": [
      {
       "output_type": "stream",
       "stream": "stdout",
       "text": [
        "(1826, 5)\n"
       ]
      },
      {
       "html": [
        "<div style=\"max-height:1000px;max-width:1500px;overflow:auto;\">\n",
        "<table border=\"1\" class=\"dataframe\">\n",
        "  <thead>\n",
        "    <tr style=\"text-align: right;\">\n",
        "      <th></th>\n",
        "      <th>Week Start:\n",
        "Month</th>\n",
        "      <th>Week Start: \n",
        "Day</th>\n",
        "      <th>Week Start: \n",
        "Year</th>\n",
        "      <th>Calendar Year \n",
        "Week Number </th>\n",
        "      <th>Continuous \n",
        "Week Number</th>\n",
        "    </tr>\n",
        "  </thead>\n",
        "  <tbody>\n",
        "    <tr>\n",
        "      <th>0</th>\n",
        "      <td> 1</td>\n",
        "      <td>  1</td>\n",
        "      <td> 1978</td>\n",
        "      <td> 1</td>\n",
        "      <td> 1</td>\n",
        "    </tr>\n",
        "    <tr>\n",
        "      <th>1</th>\n",
        "      <td> 1</td>\n",
        "      <td>  8</td>\n",
        "      <td> 1978</td>\n",
        "      <td> 2</td>\n",
        "      <td> 2</td>\n",
        "    </tr>\n",
        "    <tr>\n",
        "      <th>2</th>\n",
        "      <td> 1</td>\n",
        "      <td> 15</td>\n",
        "      <td> 1978</td>\n",
        "      <td> 3</td>\n",
        "      <td> 3</td>\n",
        "    </tr>\n",
        "    <tr>\n",
        "      <th>3</th>\n",
        "      <td> 1</td>\n",
        "      <td> 22</td>\n",
        "      <td> 1978</td>\n",
        "      <td> 4</td>\n",
        "      <td> 4</td>\n",
        "    </tr>\n",
        "    <tr>\n",
        "      <th>4</th>\n",
        "      <td> 1</td>\n",
        "      <td> 29</td>\n",
        "      <td> 1978</td>\n",
        "      <td> 5</td>\n",
        "      <td> 5</td>\n",
        "    </tr>\n",
        "  </tbody>\n",
        "</table>\n",
        "</div>"
       ],
       "metadata": {},
       "output_type": "pyout",
       "prompt_number": 7,
       "text": [
        "   Week Start:\\nMonth  Week Start: \\nDay  Week Start: \\nYear  \\\n",
        "0                   1                  1                1978   \n",
        "1                   1                  8                1978   \n",
        "2                   1                 15                1978   \n",
        "3                   1                 22                1978   \n",
        "4                   1                 29                1978   \n",
        "\n",
        "   Calendar Year \\nWeek Number   Continuous \\nWeek Number  \n",
        "0                             1                         1  \n",
        "1                             2                         2  \n",
        "2                             3                         3  \n",
        "3                             4                         4  \n",
        "4                             5                         5  "
       ]
      }
     ],
     "prompt_number": 7
    },
    {
     "cell_type": "code",
     "collapsed": false,
     "input": [
      "def get_week_num(year, month, which, df=weekdf):\n",
      "    \"\"\"\n",
      "    Given a year and month in the calendar, \n",
      "    return the corresponding week number in NLSY79\n",
      "    using coutinuous_week_crosswalk.xlsx\n",
      "    \n",
      "    if which=='first', return the first week in that month\n",
      "    if which=='last', return the last week in that month \n",
      "    \"\"\"\n",
      "\n",
      "    \n",
      "    #column names in weekdf:\n",
      "    #u'Week Start:\\nMonth'\n",
      "    #u'Week Start: \\nDay'\n",
      "    #u'Week Start: \\nYear'\n",
      "    #u'Calendar Year \\nWeek Number '\n",
      "    #u'Continuous \\nWeek Number'\n",
      "    \n",
      "    that_month = weekdf[(weekdf['Week Start:\\nMonth']==month)&(weekdf['Week Start: \\nYear']==year)]\n",
      "    \n",
      "    if which == 'first':\n",
      "        return int(that_month.iloc[0]['Continuous \\nWeek Number'])\n",
      "    elif which == 'last':\n",
      "        return int(that_month.iloc[len(that_month)-1]['Continuous \\nWeek Number'])"
     ],
     "language": "python",
     "metadata": {},
     "outputs": [],
     "prompt_number": 8
    },
    {
     "cell_type": "code",
     "collapsed": false,
     "input": [
      "def get_year_month(weeknum, df=weekdf):\n",
      "    \"\"\"\n",
      "    Given a week number, return the corresponding month and year (yyyy, m).\n",
      "    \"\"\"\n",
      "    \n",
      "    that_week = weekdf[weekdf['Continuous \\nWeek Number']==weeknum]\n",
      "    return int(that_week.iloc[0]['Week Start: \\nYear']), int(that_week.iloc[0]['Week Start:\\nMonth'])"
     ],
     "language": "python",
     "metadata": {},
     "outputs": [],
     "prompt_number": 9
    },
    {
     "cell_type": "markdown",
     "metadata": {},
     "source": [
      "###Read weekly employment arrays "
     ]
    },
    {
     "cell_type": "code",
     "collapsed": false,
     "input": [
      "wkarray_df = pd.read_csv('weeklyarrays.csv')\n",
      "print wkarray_df.shape\n",
      "print wkarray_df.columns[:30]"
     ],
     "language": "python",
     "metadata": {},
     "outputs": [
      {
       "output_type": "stream",
       "stream": "stdout",
       "text": [
        "(12686, 3763)\n",
        "Index([u'caseid_1979', u'sample_race_1979', u'sample_sex_1979', u'hrs_worked_wk_num0000_xrnd', u'hrs_worked_wk_num0001_xrnd', u'hrs_worked_wk_num0002_xrnd', u'hrs_worked_wk_num0003_xrnd', u'hrs_worked_wk_num0004_xrnd', u'hrs_worked_wk_num0005_xrnd', u'hrs_worked_wk_num0006_xrnd', u'hrs_worked_wk_num0007_xrnd', u'hrs_worked_wk_num0008_xrnd', u'hrs_worked_wk_num0009_xrnd', u'hrs_worked_wk_num0010_xrnd', u'hrs_worked_wk_num0011_xrnd', u'hrs_worked_wk_num0012_xrnd', u'hrs_worked_wk_num0013_xrnd', u'hrs_worked_wk_num0014_xrnd', u'hrs_worked_wk_num0015_xrnd', u'hrs_worked_wk_num0016_xrnd', u'hrs_worked_wk_num0017_xrnd', u'hrs_worked_wk_num0018_xrnd', u'hrs_worked_wk_num0019_xrnd', u'hrs_worked_wk_num0020_xrnd', u'hrs_worked_wk_num0021_xrnd', u'hrs_worked_wk_num0022_xrnd', u'hrs_worked_wk_num0023_xrnd', u'hrs_worked_wk_num0024_xrnd', u'hrs_worked_wk_num0025_xrnd', u'hrs_worked_wk_num0026_xrnd'], dtype='object')\n"
       ]
      }
     ],
     "prompt_number": 11
    },
    {
     "cell_type": "code",
     "collapsed": false,
     "input": [
      "sample = sample_df.caseid_1979.values.tolist()\n",
      "print len(sample)"
     ],
     "language": "python",
     "metadata": {},
     "outputs": [
      {
       "output_type": "stream",
       "stream": "stdout",
       "text": [
        "4926\n"
       ]
      }
     ],
     "prompt_number": 13
    },
    {
     "cell_type": "code",
     "collapsed": false,
     "input": [
      "wkarray_df_partial = wkarray_df[wkarray_df.caseid_1979.isin(sample)]\n",
      "print wkarray_df_partial.shape"
     ],
     "language": "python",
     "metadata": {},
     "outputs": [
      {
       "output_type": "stream",
       "stream": "stdout",
       "text": [
        "(4926, 3763)\n"
       ]
      }
     ],
     "prompt_number": 15
    },
    {
     "cell_type": "code",
     "collapsed": false,
     "input": [
      "# Create a dictionary to store data\n",
      "data = defaultdict(list)\n",
      "\n",
      "for i, row in wkarray_df_partial.iterrows():\n",
      "\n",
      "    #to keep track of progress\n",
      "    if i%100 == 0: \n",
      "        print i\n",
      "\n",
      "    dob_row = sample_df[sample_df.caseid_1979==row['caseid_1979']].iloc[0]\n",
      "    dob_y = dob_row['c1dob_y_xrnd']\n",
      "    dob_m = dob_row['c1dob_m_xrnd']\n",
      "    \n",
      "    if dob_m == 12:\n",
      "        start_y = dob_y+1\n",
      "        start_m = 1\n",
      "    else:\n",
      "        start_y = dob_y\n",
      "        start_m = dob_m+1\n",
      "    \n",
      "    \n",
      "    #keep three columns: id, start_y, start_m\n",
      "    data['id'].append(row['caseid_1979'])\n",
      "    data['start_y'].append(start_y)\n",
      "    data['start_m'].append(start_m) \n",
      "        \n",
      "    #maternal leaves\n",
      "    #leaves = find_maternal_leave_no_before(row['caseid_1979'])\n",
      "        \n",
      "    for week_num in range(1, 1828): #employment status data from 1978 to 2012 --- week 1 to week 1828\n",
      "        my_status = None\n",
      "         \n",
      "        ##if the week is maternity leave\n",
      "        #if week_num in leaves.keys():\n",
      "        #    my_status = leaves[week_num]\n",
      "        #    data['week%s'%(week_num-1)].append(my_status) #make the week number start from 0, easier for indexing in Python\n",
      "        #    continue\n",
      "        \n",
      "        #otherwise:\n",
      "        #get the hours worked this week \n",
      "        hours = row['hrs_worked_wk_num%04d_xrnd'%week_num]\n",
      "    \n",
      "        #get the employment status this week\n",
      "        status = row['status_wk_num%04d_xrnd'%week_num]\n",
      "\n",
      "        \n",
      "        if (status >= 100 and status <= 2510):\n",
      "            status = 'w' #working\n",
      "        \n",
      "        if hours >= 35:\n",
      "            hours = 'ft' #full-time working hours\n",
      "        elif hours > 0 and hours < 35:\n",
      "            hours = 'pt' #part-time working hours\n",
      "        \n",
      "        \n",
      "       #define employment status according to my NEW classification scheme\n",
      "        \n",
      "        # missing\n",
      "        if hours == 0 and status == 0:\n",
      "            my_status = 0\n",
      "            \n",
      "        # full time\n",
      "        elif hours == 'ft' and status in ['w', 3]:\n",
      "            my_status = 1\n",
      "        elif hours == 0 and status == 7:\n",
      "            my_status = 1\n",
      "            \n",
      "        # working, missing hours\n",
      "        elif hours <= 0 and status in ['w', 3]:\n",
      "            my_status = 2\n",
      "            \n",
      "        # part time\n",
      "        elif hours == 'pt' and status in ['w', 3]:\n",
      "            my_status = 3\n",
      "            \n",
      "        # non-working\n",
      "        elif hours <= 0 and status == 2:\n",
      "            my_status = 4\n",
      "        elif hours <= 0 and status == 4:\n",
      "            my_status = 4\n",
      "        elif hours <= 0 and status == 5:\n",
      "            my_status = 4\n",
      "        \n",
      "        #these two statuses were not present in my sample of mothers\n",
      "        elif hours == 'pt' and status == 4:\n",
      "            my_status = 4    \n",
      "        elif hours == 'pt' and status == 5:\n",
      "            my_status = 4\n",
      "\n",
      "        else:\n",
      "            raise Exception, 'unknown hours and status: (%s, %s)'%(hours, status)\n",
      "            \n",
      "        data['week%s'%(week_num-1)].append(my_status) #make the week number start from 0, easier for indexing in Python"
     ],
     "language": "python",
     "metadata": {},
     "outputs": [
      {
       "output_type": "stream",
       "stream": "stdout",
       "text": [
        "0\n",
        "400"
       ]
      },
      {
       "output_type": "stream",
       "stream": "stdout",
       "text": [
        "\n",
        "500"
       ]
      },
      {
       "output_type": "stream",
       "stream": "stdout",
       "text": [
        "\n",
        "600"
       ]
      },
      {
       "output_type": "stream",
       "stream": "stdout",
       "text": [
        "\n",
        "800"
       ]
      },
      {
       "output_type": "stream",
       "stream": "stdout",
       "text": [
        "\n",
        "900"
       ]
      },
      {
       "output_type": "stream",
       "stream": "stdout",
       "text": [
        "\n",
        "1000"
       ]
      },
      {
       "output_type": "stream",
       "stream": "stdout",
       "text": [
        "\n",
        "1100"
       ]
      },
      {
       "output_type": "stream",
       "stream": "stdout",
       "text": [
        "\n",
        "1400"
       ]
      },
      {
       "output_type": "stream",
       "stream": "stdout",
       "text": [
        "\n",
        "1800"
       ]
      },
      {
       "output_type": "stream",
       "stream": "stdout",
       "text": [
        "\n",
        "2200"
       ]
      },
      {
       "output_type": "stream",
       "stream": "stdout",
       "text": [
        "\n",
        "2300"
       ]
      },
      {
       "output_type": "stream",
       "stream": "stdout",
       "text": [
        "\n",
        "2500"
       ]
      },
      {
       "output_type": "stream",
       "stream": "stdout",
       "text": [
        "\n",
        "2700"
       ]
      },
      {
       "output_type": "stream",
       "stream": "stdout",
       "text": [
        "\n",
        "2900"
       ]
      },
      {
       "output_type": "stream",
       "stream": "stdout",
       "text": [
        "\n",
        "3000"
       ]
      },
      {
       "output_type": "stream",
       "stream": "stdout",
       "text": [
        "\n",
        "3100"
       ]
      },
      {
       "output_type": "stream",
       "stream": "stdout",
       "text": [
        "\n",
        "3200"
       ]
      },
      {
       "output_type": "stream",
       "stream": "stdout",
       "text": [
        "\n",
        "3500"
       ]
      },
      {
       "output_type": "stream",
       "stream": "stdout",
       "text": [
        "\n",
        "3600"
       ]
      },
      {
       "output_type": "stream",
       "stream": "stdout",
       "text": [
        "\n",
        "4000"
       ]
      },
      {
       "output_type": "stream",
       "stream": "stdout",
       "text": [
        "\n",
        "4800"
       ]
      },
      {
       "output_type": "stream",
       "stream": "stdout",
       "text": [
        "\n",
        "5000"
       ]
      },
      {
       "output_type": "stream",
       "stream": "stdout",
       "text": [
        "\n",
        "5100"
       ]
      },
      {
       "output_type": "stream",
       "stream": "stdout",
       "text": [
        "\n",
        "5200"
       ]
      },
      {
       "output_type": "stream",
       "stream": "stdout",
       "text": [
        "\n",
        "5300"
       ]
      },
      {
       "output_type": "stream",
       "stream": "stdout",
       "text": [
        "\n",
        "5700"
       ]
      },
      {
       "output_type": "stream",
       "stream": "stdout",
       "text": [
        "\n",
        "5800"
       ]
      },
      {
       "output_type": "stream",
       "stream": "stdout",
       "text": [
        "\n",
        "6100"
       ]
      },
      {
       "output_type": "stream",
       "stream": "stdout",
       "text": [
        "\n",
        "6900"
       ]
      },
      {
       "output_type": "stream",
       "stream": "stdout",
       "text": [
        "\n",
        "7200"
       ]
      },
      {
       "output_type": "stream",
       "stream": "stdout",
       "text": [
        "\n",
        "7500"
       ]
      },
      {
       "output_type": "stream",
       "stream": "stdout",
       "text": [
        "\n",
        "7600"
       ]
      },
      {
       "output_type": "stream",
       "stream": "stdout",
       "text": [
        "\n",
        "8000"
       ]
      },
      {
       "output_type": "stream",
       "stream": "stdout",
       "text": [
        "\n",
        "8400"
       ]
      },
      {
       "output_type": "stream",
       "stream": "stdout",
       "text": [
        "\n",
        "8600"
       ]
      },
      {
       "output_type": "stream",
       "stream": "stdout",
       "text": [
        "\n",
        "9100"
       ]
      },
      {
       "output_type": "stream",
       "stream": "stdout",
       "text": [
        "\n",
        "9200"
       ]
      },
      {
       "output_type": "stream",
       "stream": "stdout",
       "text": [
        "\n",
        "9400"
       ]
      },
      {
       "output_type": "stream",
       "stream": "stdout",
       "text": [
        "\n",
        "10400"
       ]
      },
      {
       "output_type": "stream",
       "stream": "stdout",
       "text": [
        "\n",
        "11900"
       ]
      },
      {
       "output_type": "stream",
       "stream": "stdout",
       "text": [
        "\n",
        "12000"
       ]
      },
      {
       "output_type": "stream",
       "stream": "stdout",
       "text": [
        "\n",
        "12200"
       ]
      },
      {
       "output_type": "stream",
       "stream": "stdout",
       "text": [
        "\n"
       ]
      }
     ],
     "prompt_number": 19
    },
    {
     "cell_type": "code",
     "collapsed": false,
     "input": [
      "#create the new dataframe with my edited employment status\n",
      "\n",
      "#order the columns in the new dataframe\n",
      "cols = ['id', 'start_y', 'start_m'] + ['week%s'%n for n in range(1827)]\n",
      "\n",
      "full_df = pd.DataFrame(data, columns=cols)\n",
      "print full_df.shape\n",
      "print full_df.iloc[0]"
     ],
     "language": "python",
     "metadata": {},
     "outputs": [
      {
       "output_type": "stream",
       "stream": "stdout",
       "text": [
        "(4926, 1830)\n",
        "id         1\n",
        "start_y   -4\n",
        "start_m   -3\n",
        "week0      3\n",
        "week1      3\n",
        "week2      3\n",
        "week3      3\n",
        "week4      3\n",
        "week5      3\n",
        "week6      3\n",
        "week7      3\n",
        "week8      3\n",
        "week9      3\n",
        "week10     3\n",
        "week11     3\n",
        "...\n",
        "week1812    0\n",
        "week1813    0\n",
        "week1814    0\n",
        "week1815    0\n",
        "week1816    0\n",
        "week1817    0\n",
        "week1818    0\n",
        "week1819    0\n",
        "week1820    0\n",
        "week1821    0\n",
        "week1822    0\n",
        "week1823    0\n",
        "week1824    0\n",
        "week1825    0\n",
        "week1826    0\n",
        "Name: 0, Length: 1830, dtype: int64\n"
       ]
      }
     ],
     "prompt_number": 20
    },
    {
     "cell_type": "code",
     "collapsed": false,
     "input": [
      "full_df.to_csv('women_weekly_ararys.csv', index=False)"
     ],
     "language": "python",
     "metadata": {},
     "outputs": [],
     "prompt_number": 21
    },
    {
     "cell_type": "code",
     "collapsed": false,
     "input": [],
     "language": "python",
     "metadata": {},
     "outputs": []
    }
   ],
   "metadata": {}
  }
 ]
}