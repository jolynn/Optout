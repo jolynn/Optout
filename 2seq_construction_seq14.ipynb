{
 "cells": [
  {
   "cell_type": "markdown",
   "metadata": {},
   "source": [
    "# OptOut Project Revision: Construct 14-year-long work sequences\n",
    "\n",
    "For robustness check"
   ]
  },
  {
   "cell_type": "code",
   "execution_count": 1,
   "metadata": {
    "collapsed": false
   },
   "outputs": [
    {
     "name": "stderr",
     "output_type": "stream",
     "text": [
      "/Users/xzhuo/anaconda/lib/python2.7/site-packages/matplotlib/__init__.py:872: UserWarning: axes.color_cycle is deprecated and replaced with axes.prop_cycle; please use the latter.\n",
      "  warnings.warn(self.msg_depr % (key, alt_key))\n"
     ]
    }
   ],
   "source": [
    "#setup\n",
    "%matplotlib inline\n",
    "import numpy as np\n",
    "import matplotlib.pyplot as plt\n",
    "import pandas as pd\n",
    "from collections import defaultdict\n",
    "from operator import itemgetter\n",
    "from datetime import datetime\n",
    "\n",
    "# set some nicer defaults for matplotlib\n",
    "from matplotlib import rcParams\n",
    "\n",
    "#these colors come from colorbrewer2.org. Each is an RGB triplet\n",
    "dark2_colors = [(0.10588235294117647, 0.6196078431372549, 0.4666666666666667),\n",
    "                (0.8509803921568627, 0.37254901960784315, 0.00784313725490196),\n",
    "                (0.4588235294117647, 0.4392156862745098, 0.7019607843137254),\n",
    "                (0.9058823529411765, 0.1607843137254902, 0.5411764705882353),\n",
    "                (0.4, 0.6509803921568628, 0.11764705882352941),\n",
    "                (0.9019607843137255, 0.6705882352941176, 0.00784313725490196),\n",
    "                (0.6509803921568628, 0.4627450980392157, 0.11372549019607843),\n",
    "                (0.4, 0.4, 0.4)]\n",
    "\n",
    "rcParams['figure.figsize'] = (10, 6)\n",
    "rcParams['figure.dpi'] = 150\n",
    "rcParams['axes.color_cycle'] = dark2_colors\n",
    "rcParams['lines.linewidth'] = 2\n",
    "rcParams['axes.grid'] = False\n",
    "rcParams['axes.facecolor'] = 'white'\n",
    "rcParams['font.size'] = 14\n",
    "rcParams['patch.edgecolor'] = 'none'\n",
    "\n",
    "def remove_border(axes=None, top=False, right=False, left=True, bottom=True):\n",
    "    \"\"\"\n",
    "    Minimize chartjunk by stripping out unnecessary plot borders and axis ticks\n",
    "    \n",
    "    The top/right/left/bottom keywords toggle whether the corresponding plot border is drawn\n",
    "    \"\"\"\n",
    "    ax = axes or plt.gca()\n",
    "    ax.spines['top'].set_visible(top)\n",
    "    ax.spines['right'].set_visible(right)\n",
    "    ax.spines['left'].set_visible(left)\n",
    "    ax.spines['bottom'].set_visible(bottom)\n",
    "    \n",
    "    #turn off all ticks\n",
    "    ax.yaxis.set_ticks_position('none')\n",
    "    ax.xaxis.set_ticks_position('none')\n",
    "    \n",
    "    #now re-enable visibles\n",
    "    if top:\n",
    "        ax.xaxis.tick_top()\n",
    "    if bottom:\n",
    "        ax.xaxis.tick_bottom()\n",
    "    if left:\n",
    "        ax.yaxis.tick_left()\n",
    "    if right:\n",
    "        ax.yaxis.tick_right()"
   ]
  },
  {
   "cell_type": "markdown",
   "metadata": {},
   "source": [
    "## Week-to-week crosswalk\n",
    "\n",
    "Create two functions to convert between week number and calendar year and month"
   ]
  },
  {
   "cell_type": "code",
   "execution_count": 2,
   "metadata": {
    "collapsed": false
   },
   "outputs": [
    {
     "data": {
      "text/html": [
       "<div>\n",
       "<table border=\"1\" class=\"dataframe\">\n",
       "  <thead>\n",
       "    <tr style=\"text-align: right;\">\n",
       "      <th></th>\n",
       "      <th>Week Start:\n",
       "Month</th>\n",
       "      <th>Week Start: \n",
       "Day</th>\n",
       "      <th>Week Start: \n",
       "Year</th>\n",
       "      <th>Calendar Year \n",
       "Week Number</th>\n",
       "      <th>Continuous \n",
       "Week Number</th>\n",
       "    </tr>\n",
       "  </thead>\n",
       "  <tbody>\n",
       "    <tr>\n",
       "      <th>0</th>\n",
       "      <td>1</td>\n",
       "      <td>1</td>\n",
       "      <td>1978</td>\n",
       "      <td>1</td>\n",
       "      <td>1</td>\n",
       "    </tr>\n",
       "    <tr>\n",
       "      <th>1</th>\n",
       "      <td>1</td>\n",
       "      <td>8</td>\n",
       "      <td>1978</td>\n",
       "      <td>2</td>\n",
       "      <td>2</td>\n",
       "    </tr>\n",
       "    <tr>\n",
       "      <th>2</th>\n",
       "      <td>1</td>\n",
       "      <td>15</td>\n",
       "      <td>1978</td>\n",
       "      <td>3</td>\n",
       "      <td>3</td>\n",
       "    </tr>\n",
       "    <tr>\n",
       "      <th>3</th>\n",
       "      <td>1</td>\n",
       "      <td>22</td>\n",
       "      <td>1978</td>\n",
       "      <td>4</td>\n",
       "      <td>4</td>\n",
       "    </tr>\n",
       "    <tr>\n",
       "      <th>4</th>\n",
       "      <td>1</td>\n",
       "      <td>29</td>\n",
       "      <td>1978</td>\n",
       "      <td>5</td>\n",
       "      <td>5</td>\n",
       "    </tr>\n",
       "  </tbody>\n",
       "</table>\n",
       "</div>"
      ],
      "text/plain": [
       "   Week Start:\\nMonth  Week Start: \\nDay  Week Start: \\nYear  \\\n",
       "0                   1                  1                1978   \n",
       "1                   1                  8                1978   \n",
       "2                   1                 15                1978   \n",
       "3                   1                 22                1978   \n",
       "4                   1                 29                1978   \n",
       "\n",
       "   Calendar Year \\nWeek Number   Continuous \\nWeek Number  \n",
       "0                             1                         1  \n",
       "1                             2                         2  \n",
       "2                             3                         3  \n",
       "3                             4                         4  \n",
       "4                             5                         5  "
      ]
     },
     "execution_count": 2,
     "metadata": {},
     "output_type": "execute_result"
    }
   ],
   "source": [
    "#this is the file to switch between week number in NLSY79 and calendar year, month, and day\n",
    "xl_file = pd.ExcelFile('../data/continuous_week_crosswalk_2012.xlsx') \n",
    "weekdf = xl_file.parse('weekdates1')\n",
    "weekdf.head()"
   ]
  },
  {
   "cell_type": "code",
   "execution_count": 3,
   "metadata": {
    "collapsed": false
   },
   "outputs": [],
   "source": [
    "def get_week_num(year, month, which, df=weekdf):\n",
    "    \"\"\"\n",
    "    Given a calendar year and month, return the corresponding week number in NLSY79.\n",
    "    \n",
    "    If which=='first', return the first week in that month.\n",
    "    If which=='last', return the last week in that month. \n",
    "    \"\"\"\n",
    "    \n",
    "    the_month = weekdf[(weekdf['Week Start:\\nMonth']==month)&(weekdf['Week Start: \\nYear']==year)]\n",
    "    \n",
    "    if which == 'first':\n",
    "        return int(the_month.iloc[0]['Continuous \\nWeek Number'])\n",
    "    elif which == 'last':\n",
    "        return int(the_month.iloc[len(the_month)-1]['Continuous \\nWeek Number'])"
   ]
  },
  {
   "cell_type": "code",
   "execution_count": 4,
   "metadata": {
    "collapsed": false
   },
   "outputs": [],
   "source": [
    "def get_year_month(weeknum, df=weekdf):\n",
    "    \"\"\"\n",
    "    Given a week number, return the corresponding calendar month and year (yyyy, m).\n",
    "    \"\"\"\n",
    "    \n",
    "    the_week = weekdf[weekdf['Continuous \\nWeek Number']==weeknum]\n",
    "    return int(the_week.iloc[0]['Week Start: \\nYear']), int(the_week.iloc[0]['Week Start:\\nMonth'])"
   ]
  },
  {
   "cell_type": "markdown",
   "metadata": {},
   "source": [
    "## Retrieve analytic sample"
   ]
  },
  {
   "cell_type": "code",
   "execution_count": 5,
   "metadata": {
    "collapsed": false
   },
   "outputs": [
    {
     "data": {
      "text/html": [
       "<div>\n",
       "<table border=\"1\" class=\"dataframe\">\n",
       "  <thead>\n",
       "    <tr style=\"text-align: right;\">\n",
       "      <th></th>\n",
       "      <th>id</th>\n",
       "      <th>start_y</th>\n",
       "      <th>start_m</th>\n",
       "      <th>month1</th>\n",
       "      <th>month2</th>\n",
       "      <th>month3</th>\n",
       "      <th>month4</th>\n",
       "      <th>month5</th>\n",
       "      <th>month6</th>\n",
       "      <th>month7</th>\n",
       "      <th>...</th>\n",
       "      <th>month207</th>\n",
       "      <th>month208</th>\n",
       "      <th>month209</th>\n",
       "      <th>month210</th>\n",
       "      <th>month211</th>\n",
       "      <th>month212</th>\n",
       "      <th>month213</th>\n",
       "      <th>month214</th>\n",
       "      <th>month215</th>\n",
       "      <th>month216</th>\n",
       "    </tr>\n",
       "  </thead>\n",
       "  <tbody>\n",
       "    <tr>\n",
       "      <th>0</th>\n",
       "      <td>2</td>\n",
       "      <td>1993</td>\n",
       "      <td>4</td>\n",
       "      <td>5</td>\n",
       "      <td>1</td>\n",
       "      <td>4</td>\n",
       "      <td>4</td>\n",
       "      <td>4</td>\n",
       "      <td>4</td>\n",
       "      <td>4</td>\n",
       "      <td>...</td>\n",
       "      <td>1</td>\n",
       "      <td>1</td>\n",
       "      <td>1</td>\n",
       "      <td>1</td>\n",
       "      <td>1</td>\n",
       "      <td>1</td>\n",
       "      <td>1</td>\n",
       "      <td>1</td>\n",
       "      <td>1</td>\n",
       "      <td>1</td>\n",
       "    </tr>\n",
       "    <tr>\n",
       "      <th>1</th>\n",
       "      <td>3</td>\n",
       "      <td>1981</td>\n",
       "      <td>7</td>\n",
       "      <td>4</td>\n",
       "      <td>4</td>\n",
       "      <td>4</td>\n",
       "      <td>4</td>\n",
       "      <td>4</td>\n",
       "      <td>4</td>\n",
       "      <td>4</td>\n",
       "      <td>...</td>\n",
       "      <td>1</td>\n",
       "      <td>1</td>\n",
       "      <td>1</td>\n",
       "      <td>1</td>\n",
       "      <td>1</td>\n",
       "      <td>1</td>\n",
       "      <td>1</td>\n",
       "      <td>1</td>\n",
       "      <td>1</td>\n",
       "      <td>1</td>\n",
       "    </tr>\n",
       "    <tr>\n",
       "      <th>2</th>\n",
       "      <td>4</td>\n",
       "      <td>1980</td>\n",
       "      <td>9</td>\n",
       "      <td>4</td>\n",
       "      <td>4</td>\n",
       "      <td>4</td>\n",
       "      <td>4</td>\n",
       "      <td>4</td>\n",
       "      <td>4</td>\n",
       "      <td>4</td>\n",
       "      <td>...</td>\n",
       "      <td>3</td>\n",
       "      <td>3</td>\n",
       "      <td>3</td>\n",
       "      <td>3</td>\n",
       "      <td>3</td>\n",
       "      <td>3</td>\n",
       "      <td>3</td>\n",
       "      <td>0</td>\n",
       "      <td>0</td>\n",
       "      <td>0</td>\n",
       "    </tr>\n",
       "    <tr>\n",
       "      <th>3</th>\n",
       "      <td>8</td>\n",
       "      <td>1976</td>\n",
       "      <td>4</td>\n",
       "      <td>4</td>\n",
       "      <td>4</td>\n",
       "      <td>4</td>\n",
       "      <td>4</td>\n",
       "      <td>4</td>\n",
       "      <td>4</td>\n",
       "      <td>4</td>\n",
       "      <td>...</td>\n",
       "      <td>1</td>\n",
       "      <td>1</td>\n",
       "      <td>1</td>\n",
       "      <td>1</td>\n",
       "      <td>1</td>\n",
       "      <td>1</td>\n",
       "      <td>1</td>\n",
       "      <td>1</td>\n",
       "      <td>1</td>\n",
       "      <td>1</td>\n",
       "    </tr>\n",
       "    <tr>\n",
       "      <th>4</th>\n",
       "      <td>16</td>\n",
       "      <td>1990</td>\n",
       "      <td>3</td>\n",
       "      <td>1</td>\n",
       "      <td>1</td>\n",
       "      <td>5</td>\n",
       "      <td>5</td>\n",
       "      <td>1</td>\n",
       "      <td>1</td>\n",
       "      <td>1</td>\n",
       "      <td>...</td>\n",
       "      <td>1</td>\n",
       "      <td>1</td>\n",
       "      <td>1</td>\n",
       "      <td>1</td>\n",
       "      <td>1</td>\n",
       "      <td>1</td>\n",
       "      <td>1</td>\n",
       "      <td>1</td>\n",
       "      <td>1</td>\n",
       "      <td>1</td>\n",
       "    </tr>\n",
       "  </tbody>\n",
       "</table>\n",
       "<p>5 rows × 219 columns</p>\n",
       "</div>"
      ],
      "text/plain": [
       "   id  start_y  start_m  month1  month2  month3  month4  month5  month6  \\\n",
       "0   2     1993        4       5       1       4       4       4       4   \n",
       "1   3     1981        7       4       4       4       4       4       4   \n",
       "2   4     1980        9       4       4       4       4       4       4   \n",
       "3   8     1976        4       4       4       4       4       4       4   \n",
       "4  16     1990        3       1       1       5       5       1       1   \n",
       "\n",
       "   month7    ...     month207  month208  month209  month210  month211  \\\n",
       "0       4    ...            1         1         1         1         1   \n",
       "1       4    ...            1         1         1         1         1   \n",
       "2       4    ...            3         3         3         3         3   \n",
       "3       4    ...            1         1         1         1         1   \n",
       "4       1    ...            1         1         1         1         1   \n",
       "\n",
       "   month212  month213  month214  month215  month216  \n",
       "0         1         1         1         1         1  \n",
       "1         1         1         1         1         1  \n",
       "2         3         3         0         0         0  \n",
       "3         1         1         1         1         1  \n",
       "4         1         1         1         1         1  \n",
       "\n",
       "[5 rows x 219 columns]"
      ]
     },
     "execution_count": 5,
     "metadata": {},
     "output_type": "execute_result"
    }
   ],
   "source": [
    "# get main 18-year-seq sample\n",
    "monthly_df_main = pd.read_csv('../data/monthly_df.csv') \n",
    "monthly_df_main.head()"
   ]
  },
  {
   "cell_type": "code",
   "execution_count": 6,
   "metadata": {
    "collapsed": false
   },
   "outputs": [
    {
     "data": {
      "text/html": [
       "<div>\n",
       "<table border=\"1\" class=\"dataframe\">\n",
       "  <thead>\n",
       "    <tr style=\"text-align: right;\">\n",
       "      <th></th>\n",
       "      <th>id</th>\n",
       "      <th>start_y</th>\n",
       "      <th>start_m</th>\n",
       "      <th>month1</th>\n",
       "      <th>month2</th>\n",
       "      <th>month3</th>\n",
       "      <th>month4</th>\n",
       "      <th>month5</th>\n",
       "      <th>month6</th>\n",
       "      <th>month7</th>\n",
       "      <th>...</th>\n",
       "      <th>month159</th>\n",
       "      <th>month160</th>\n",
       "      <th>month161</th>\n",
       "      <th>month162</th>\n",
       "      <th>month163</th>\n",
       "      <th>month164</th>\n",
       "      <th>month165</th>\n",
       "      <th>month166</th>\n",
       "      <th>month167</th>\n",
       "      <th>month168</th>\n",
       "    </tr>\n",
       "  </thead>\n",
       "  <tbody>\n",
       "    <tr>\n",
       "      <th>0</th>\n",
       "      <td>2</td>\n",
       "      <td>1993</td>\n",
       "      <td>4</td>\n",
       "      <td>5</td>\n",
       "      <td>1</td>\n",
       "      <td>4</td>\n",
       "      <td>4</td>\n",
       "      <td>4</td>\n",
       "      <td>4</td>\n",
       "      <td>4</td>\n",
       "      <td>...</td>\n",
       "      <td>3</td>\n",
       "      <td>3</td>\n",
       "      <td>3</td>\n",
       "      <td>3</td>\n",
       "      <td>3</td>\n",
       "      <td>3</td>\n",
       "      <td>3</td>\n",
       "      <td>3</td>\n",
       "      <td>3</td>\n",
       "      <td>3</td>\n",
       "    </tr>\n",
       "    <tr>\n",
       "      <th>1</th>\n",
       "      <td>3</td>\n",
       "      <td>1981</td>\n",
       "      <td>7</td>\n",
       "      <td>4</td>\n",
       "      <td>4</td>\n",
       "      <td>4</td>\n",
       "      <td>4</td>\n",
       "      <td>4</td>\n",
       "      <td>4</td>\n",
       "      <td>4</td>\n",
       "      <td>...</td>\n",
       "      <td>4</td>\n",
       "      <td>4</td>\n",
       "      <td>4</td>\n",
       "      <td>4</td>\n",
       "      <td>4</td>\n",
       "      <td>4</td>\n",
       "      <td>4</td>\n",
       "      <td>4</td>\n",
       "      <td>4</td>\n",
       "      <td>4</td>\n",
       "    </tr>\n",
       "    <tr>\n",
       "      <th>2</th>\n",
       "      <td>4</td>\n",
       "      <td>1980</td>\n",
       "      <td>9</td>\n",
       "      <td>4</td>\n",
       "      <td>4</td>\n",
       "      <td>4</td>\n",
       "      <td>4</td>\n",
       "      <td>4</td>\n",
       "      <td>4</td>\n",
       "      <td>4</td>\n",
       "      <td>...</td>\n",
       "      <td>1</td>\n",
       "      <td>1</td>\n",
       "      <td>1</td>\n",
       "      <td>1</td>\n",
       "      <td>1</td>\n",
       "      <td>1</td>\n",
       "      <td>1</td>\n",
       "      <td>1</td>\n",
       "      <td>1</td>\n",
       "      <td>1</td>\n",
       "    </tr>\n",
       "    <tr>\n",
       "      <th>3</th>\n",
       "      <td>8</td>\n",
       "      <td>1976</td>\n",
       "      <td>4</td>\n",
       "      <td>4</td>\n",
       "      <td>4</td>\n",
       "      <td>4</td>\n",
       "      <td>4</td>\n",
       "      <td>4</td>\n",
       "      <td>4</td>\n",
       "      <td>4</td>\n",
       "      <td>...</td>\n",
       "      <td>1</td>\n",
       "      <td>1</td>\n",
       "      <td>1</td>\n",
       "      <td>1</td>\n",
       "      <td>1</td>\n",
       "      <td>1</td>\n",
       "      <td>1</td>\n",
       "      <td>1</td>\n",
       "      <td>1</td>\n",
       "      <td>1</td>\n",
       "    </tr>\n",
       "    <tr>\n",
       "      <th>4</th>\n",
       "      <td>16</td>\n",
       "      <td>1990</td>\n",
       "      <td>3</td>\n",
       "      <td>1</td>\n",
       "      <td>1</td>\n",
       "      <td>5</td>\n",
       "      <td>5</td>\n",
       "      <td>1</td>\n",
       "      <td>1</td>\n",
       "      <td>1</td>\n",
       "      <td>...</td>\n",
       "      <td>1</td>\n",
       "      <td>1</td>\n",
       "      <td>1</td>\n",
       "      <td>1</td>\n",
       "      <td>1</td>\n",
       "      <td>1</td>\n",
       "      <td>1</td>\n",
       "      <td>1</td>\n",
       "      <td>1</td>\n",
       "      <td>1</td>\n",
       "    </tr>\n",
       "  </tbody>\n",
       "</table>\n",
       "<p>5 rows × 171 columns</p>\n",
       "</div>"
      ],
      "text/plain": [
       "   id  start_y  start_m  month1  month2  month3  month4  month5  month6  \\\n",
       "0   2     1993        4       5       1       4       4       4       4   \n",
       "1   3     1981        7       4       4       4       4       4       4   \n",
       "2   4     1980        9       4       4       4       4       4       4   \n",
       "3   8     1976        4       4       4       4       4       4       4   \n",
       "4  16     1990        3       1       1       5       5       1       1   \n",
       "\n",
       "   month7    ...     month159  month160  month161  month162  month163  \\\n",
       "0       4    ...            3         3         3         3         3   \n",
       "1       4    ...            4         4         4         4         4   \n",
       "2       4    ...            1         1         1         1         1   \n",
       "3       4    ...            1         1         1         1         1   \n",
       "4       1    ...            1         1         1         1         1   \n",
       "\n",
       "   month164  month165  month166  month167  month168  \n",
       "0         3         3         3         3         3  \n",
       "1         4         4         4         4         4  \n",
       "2         1         1         1         1         1  \n",
       "3         1         1         1         1         1  \n",
       "4         1         1         1         1         1  \n",
       "\n",
       "[5 rows x 171 columns]"
      ]
     },
     "execution_count": 6,
     "metadata": {},
     "output_type": "execute_result"
    }
   ],
   "source": [
    "# cut to 14-year (168 months)\n",
    "monthly_df_main = monthly_df_main[['id', 'start_y', 'start_m']+['month%i'%i for i in range(1, 169)]]\n",
    "monthly_df_main.head()"
   ]
  },
  {
   "cell_type": "code",
   "execution_count": 7,
   "metadata": {
    "collapsed": false
   },
   "outputs": [
    {
     "name": "stdout",
     "output_type": "stream",
     "text": [
      "(3682, 37)\n",
      "(248, 37)\n"
     ]
    }
   ],
   "source": [
    "analytic_df = pd.read_csv('../data/analytic_df_seq14.csv') #includes fertility data\n",
    "print analytic_df.shape\n",
    "\n",
    "# for the following sections, only look at the respondents who are not present in the 18-year-seq sample\n",
    "analytic_df = analytic_df[(~analytic_df.caseid_1979.isin(monthly_df_main.id.values.tolist()))]\n",
    "print analytic_df.shape"
   ]
  },
  {
   "cell_type": "markdown",
   "metadata": {},
   "source": [
    "## Read weekly arrays and within-job gap dates"
   ]
  },
  {
   "cell_type": "code",
   "execution_count": 8,
   "metadata": {
    "collapsed": false
   },
   "outputs": [
    {
     "name": "stdout",
     "output_type": "stream",
     "text": [
      "(12686, 3969)\n",
      "Index([u'caseid_1979', u'hrs_worked_wk_num0000_xrnd',\n",
      "       u'hrs_worked_wk_num0001_xrnd', u'hrs_worked_wk_num0002_xrnd',\n",
      "       u'hrs_worked_wk_num0003_xrnd', u'hrs_worked_wk_num0004_xrnd',\n",
      "       u'hrs_worked_wk_num0005_xrnd', u'hrs_worked_wk_num0006_xrnd',\n",
      "       u'hrs_worked_wk_num0007_xrnd', u'hrs_worked_wk_num0008_xrnd',\n",
      "       u'hrs_worked_wk_num0009_xrnd', u'hrs_worked_wk_num0010_xrnd',\n",
      "       u'hrs_worked_wk_num0011_xrnd', u'hrs_worked_wk_num0012_xrnd',\n",
      "       u'hrs_worked_wk_num0013_xrnd', u'hrs_worked_wk_num0014_xrnd',\n",
      "       u'hrs_worked_wk_num0015_xrnd', u'hrs_worked_wk_num0016_xrnd',\n",
      "       u'hrs_worked_wk_num0017_xrnd', u'hrs_worked_wk_num0018_xrnd'],\n",
      "      dtype='object')\n"
     ]
    }
   ],
   "source": [
    "#read weekly array data\n",
    "wkarray_df = pd.read_csv('../data/weeklyarrays.csv')\n",
    "print wkarray_df.shape\n",
    "print wkarray_df.columns[:20]"
   ]
  },
  {
   "cell_type": "code",
   "execution_count": 9,
   "metadata": {
    "collapsed": false
   },
   "outputs": [
    {
     "name": "stdout",
     "output_type": "stream",
     "text": [
      "(12686, 839)\n",
      "Index([u'caseid_1979', u'per1_start_1979_job01_xrnd',\n",
      "       u'per1_start_1979_job02_xrnd', u'per1_start_1979_job03_xrnd',\n",
      "       u'per1_start_1979_job04_xrnd', u'per1_start_1979_job05_xrnd',\n",
      "       u'per1_stop_1979_job01_xrnd', u'per1_stop_1979_job02_xrnd',\n",
      "       u'per1_stop_1979_job03_xrnd', u'per1_stop_1979_job04_xrnd',\n",
      "       u'per1_stop_1979_job05_xrnd', u'per2_start_1979_job01_xrnd',\n",
      "       u'per2_start_1979_job02_xrnd', u'per2_start_1979_job03_xrnd',\n",
      "       u'per2_start_1979_job04_xrnd', u'per2_start_1979_job05_xrnd',\n",
      "       u'per2_stop_1979_job01_xrnd', u'per2_stop_1979_job02_xrnd',\n",
      "       u'per2_stop_1979_job03_xrnd', u'per2_stop_1979_job04_xrnd'],\n",
      "      dtype='object')\n"
     ]
    }
   ],
   "source": [
    "#read within-job-gap data\n",
    "gap_df = pd.read_csv(\"../data/withingaps.csv\")\n",
    "print gap_df.shape\n",
    "print gap_df.columns[:20]"
   ]
  },
  {
   "cell_type": "markdown",
   "metadata": {},
   "source": [
    "## Identify maternity leaves\n",
    "\n",
    "Maternity leave could cover the birth, start after the birth, or end before the birth. \n",
    "\n",
    "Let's assume any within-job gap that start or end within 4 months (16 weeks) of birth as maternity leave. Record the types of maternity leave: \n",
    "\n",
    "* 100 - gap covered birth, \n",
    "* (100+n) - gap started within n weeks after birth, \n",
    "* (100-n) - gap ended within n weeks before birth. \n",
    "\n",
    "There are relatively fewer maternity gaps that finished within 16 weeks before birth, so do not consider within-job gaps that ended within 16 weeks before birth as maternity leave."
   ]
  },
  {
   "cell_type": "markdown",
   "metadata": {},
   "source": [
    "### Does any of our respondents have gaps that started/ended prior to 1/1/1978? \n",
    "\n",
    "NO"
   ]
  },
  {
   "cell_type": "code",
   "execution_count": 10,
   "metadata": {
    "collapsed": false
   },
   "outputs": [
    {
     "data": {
      "text/plain": [
       "Index([u'caseid_1979', u'sample_id_1979', u'sample_race_1979',\n",
       "       u'sample_sex_1979', u'c1dob_m_xrnd', u'c1dob_y_xrnd', u'c2dob_m_xrnd',\n",
       "       u'c2dob_y_xrnd', u'c3dob_m_xrnd', u'c3dob_y_xrnd',\n",
       "       ...\n",
       "       u'per3_start_2014_job03_xrnd', u'per3_start_2014_job04_xrnd',\n",
       "       u'per3_stop_2014_job01_xrnd', u'per3_stop_2014_job02_xrnd',\n",
       "       u'per3_stop_2014_job03_xrnd', u'per3_stop_2014_job04_xrnd',\n",
       "       u'per4_start_2014_job01_xrnd', u'per4_start_2014_job02_xrnd',\n",
       "       u'per4_stop_2014_job01_xrnd', u'per4_stop_2014_job02_xrnd'],\n",
       "      dtype='object', length=875)"
      ]
     },
     "execution_count": 10,
     "metadata": {},
     "output_type": "execute_result"
    }
   ],
   "source": [
    "merged = analytic_df.merge(gap_df, on='caseid_1979') # merge datasets\n",
    "merged.columns"
   ]
  },
  {
   "cell_type": "code",
   "execution_count": 11,
   "metadata": {
    "collapsed": true
   },
   "outputs": [],
   "source": [
    "# count how many zero values in each job gap column\n",
    "# NONE\n",
    "\n",
    "for col in merged.columns.tolist():\n",
    "    if col.startswith('per'): # only check job gap columns\n",
    "        count = sum(merged[col]==0)\n",
    "        if count > 0:\n",
    "            print col, count"
   ]
  },
  {
   "cell_type": "markdown",
   "metadata": {},
   "source": [
    "### Write a function to retrieve all valid job gap start and end weeks\n",
    "\n",
    "Get pct missing in gap dates"
   ]
  },
  {
   "cell_type": "code",
   "execution_count": 14,
   "metadata": {
    "collapsed": false
   },
   "outputs": [],
   "source": [
    "# revised the function in 2seq_construction to do only counting \n",
    "\n",
    "counts = defaultdict(list)\n",
    "\n",
    "def get_gaps(row):\n",
    "    \"\"\"\n",
    "    Given a row of respondent data, \n",
    "    Return a list of tuples (start week, end week) of work gaps for respondent i\n",
    "    \"\"\"\n",
    "    \n",
    "    gap_row = gap_df[gap_df.caseid_1979==row['caseid_1979']].iloc[0]\n",
    "    years = range(1979, 1995)+range(1996, 2015, 2)\n",
    "    \n",
    "    #look for within-job gaps in all years. sometimes the gaps were recorded in later years\n",
    "    for y in years: \n",
    "        for j in range(1, 5): #4 possible gap periods\n",
    "            for k in range(1, 6): #5 possible jobs\n",
    "                try: \n",
    "                    gap_start = gap_row['per%s_start_%s_job0%s_xrnd'%(j, y, k)]\n",
    "                    gap_stop = gap_row['per%s_stop_%s_job0%s_xrnd'%(j, y, k)]\n",
    "                    \n",
    "                    if gap_start >= 0 and gap_stop >= 0: # valid, no missing\n",
    "                        counts['valid dates'].append(row['caseid_1979'])\n",
    "                    elif gap_start == -4 and gap_stop == -4: # valid skip\n",
    "                        counts['valid skips'].append(row['caseid_1979'])\n",
    "                    else:\n",
    "                        counts['missing'].append(row['caseid_1979'])\n",
    "                      \n",
    "                except KeyError: # some years do not report 5 jobs\n",
    "                    pass\n",
    "\n",
    "\n",
    "gaps = analytic_df.apply(get_gaps, axis=1)"
   ]
  },
  {
   "cell_type": "code",
   "execution_count": 16,
   "metadata": {
    "collapsed": false
   },
   "outputs": [
    {
     "name": "stdout",
     "output_type": "stream",
     "text": [
      "27 1137 0.023746701847\n"
     ]
    }
   ],
   "source": [
    "### calculate pct missing\n",
    "\n",
    "# total number of missing gaps / total number of gaps\n",
    "total_missing = len(counts['missing'])\n",
    "total = len(counts['valid dates'] + counts['missing'])\n",
    "print total_missing, total, float(total_missing)/total"
   ]
  },
  {
   "cell_type": "code",
   "execution_count": 17,
   "metadata": {
    "collapsed": false
   },
   "outputs": [
    {
     "name": "stdout",
     "output_type": "stream",
     "text": [
      "23 248 0.0927419354839\n"
     ]
    }
   ],
   "source": [
    "# total number of respondents with missing / total number of respondents\n",
    "total_missing = len(set(counts['missing']))\n",
    "total = analytic_df.shape[0]\n",
    "print total_missing, total, float(total_missing)/total"
   ]
  },
  {
   "cell_type": "markdown",
   "metadata": {},
   "source": [
    "### Write a function to determine weeks of maternity leave - DISREGARD ALL MISSING GAPS"
   ]
  },
  {
   "cell_type": "code",
   "execution_count": 19,
   "metadata": {
    "collapsed": false
   },
   "outputs": [],
   "source": [
    "###modify to handle months prior to 1978\n",
    "\n",
    "\n",
    "def get_gaps(row):\n",
    "    \"\"\"\n",
    "    Given a row of respondent data, \n",
    "    Return a list of tuples (start week, end week) of work gaps for respondent i\n",
    "    \n",
    "    COPY THE SAME FUNCTION AS ABOVE, EXCEPT: COMMENT OUT THE PART THAT HANDLES MISSING CASES\n",
    "    \"\"\"\n",
    "    \n",
    "    gap_row = gap_df[gap_df.caseid_1979==row['caseid_1979']].iloc[0]\n",
    "    gaps = []\n",
    "    \n",
    "    years = range(1979, 1995)+range(1996, 2015, 2)\n",
    "    \n",
    "    #look for within-job gaps in all years. sometimes the gaps were recorded in later years\n",
    "    for y in years: \n",
    "        for j in range(1, 5): #4 possible gap periods\n",
    "            for k in range(1, 6): #5 possible jobs\n",
    "                try: \n",
    "                    gap_start = gap_row['per%s_start_%s_job0%s_xrnd'%(j, y, k)]\n",
    "                    gap_stop = gap_row['per%s_stop_%s_job0%s_xrnd'%(j, y, k)]\n",
    "                    \n",
    "                    if gap_start >= 0 and gap_stop >= 0: # valid, no missing\n",
    "                        gaps.append((gap_start, gap_stop))\n",
    "#                    elif gap_start == -4 and gap_stop == -4: # valid skip\n",
    "#                        pass # valid skip\n",
    "#                    else:\n",
    "#                        pass\n",
    "#                         missing_data['caseid_1979'].append(row['caseid_1979'])\n",
    "#                         missing_data['start_col'].append('per%s_start_%s_job0%s_xrnd'%(j, y, k))\n",
    "#                         missing_data['start'].append(gap_start) \n",
    "                        \n",
    "#                         start_y = None\n",
    "#                         start_m = None\n",
    "#                         if gap_start > 0:\n",
    "#                             start_y, start_m = get_year_month(gap_start)\n",
    "#                         missing_data['start_y'].append(start_y)\n",
    "#                         missing_data['start_m'].append(start_m)\n",
    "\n",
    "#                         missing_data['end_col'].append('per%s_stop_%s_job0%s_xrnd'%(j, y, k))\n",
    "#                         missing_data['end'].append(gap_stop)\n",
    "                        \n",
    "#                         end_y = None\n",
    "#                         end_m = None\n",
    "#                         if gap_stop > 0:\n",
    "#                             end_y, end_m = get_year_month(gap_stop)\n",
    "#                         missing_data['end_y'].append(end_y)\n",
    "#                         missing_data['end_m'].append(end_m)\n",
    "\n",
    "#                         print 'missing data - id:', row['caseid_1979'], 'year:', y, 'gap #:', j, 'job #:', k, 'weeks: ', (gap_start, gap_stop)\n",
    "                        \n",
    "                except KeyError: # some years do not report 5 jobs\n",
    "                    pass\n",
    "                \n",
    "    return gaps\n",
    "\n",
    "\n",
    "def find_maternal_leave_no_before(row):\n",
    "    \"\"\"\n",
    "    Given a row of respondent data, return a list of all weeks identified as maternal leaves\n",
    "    \"\"\"\n",
    "    \n",
    "    leaves = [] # store all weeks that are part of maternity leaves\n",
    "    \n",
    "    gaps = get_gaps(row)\n",
    "    \n",
    "    for j in range(1, 12): # all births\n",
    "        dob_y = row['c%idob_y_xrnd'%j]\n",
    "        dob_m = row['c%idob_m_xrnd'%j]\n",
    "        \n",
    "        if dob_y>0 and dob_m>0:\n",
    "            \n",
    "            # note: job gap dates do not go prior to 1978 \n",
    "            # (we do not count the three cases with dates prior to 1/1/1978, as explained above)\n",
    "            \n",
    "            if dob_y >= 1978: \n",
    "                \n",
    "                for (gap_start, gap_stop) in gaps:\n",
    "                    birth_wks = range(get_week_num(dob_y, dob_m, 'first'), get_week_num(dob_y, dob_m, 'last')+1)\n",
    "                    gap_wks = range(gap_start, gap_stop+1)\n",
    "                    is_ma_leave = False\n",
    "\n",
    "                    if set(birth_wks)&set(gap_wks): #the gap overlaps with the birth\n",
    "                        is_ma_leave = True\n",
    "\n",
    "                    elif gap_start>birth_wks[-1] and gap_start-birth_wks[-1]<=16: #gap started within 16 weeks after birth\n",
    "                        is_ma_leave = True\n",
    "\n",
    "                    if is_ma_leave:\n",
    "                        leaves += range(gap_start, gap_stop+1) # store all weeks that are maternity leaves\n",
    "    \n",
    "    return leaves"
   ]
  },
  {
   "cell_type": "markdown",
   "metadata": {},
   "source": [
    "## Tranform weekly sequences\n",
    "\n",
    "My status classification scheme:\n",
    "\n",
    "* 1 - full-time employment\n",
    "* 2 - working with missing hours\n",
    "* 3 - part-time employent [**NEW: treat working with hour 0 as part-time**]\n",
    "* 4 - nonwokring \n",
    "* 5 - maternity leave\n",
    "\n",
    "\n",
    "NEW: If respondents reported working 0 hours in week 0 (total hours worked pre-1978), assign 4-nonworking to all weeks before week 1. "
   ]
  },
  {
   "cell_type": "code",
   "execution_count": 20,
   "metadata": {
    "collapsed": false
   },
   "outputs": [
    {
     "name": "stdout",
     "output_type": "stream",
     "text": [
      "(248, 4005)\n"
     ]
    }
   ],
   "source": [
    "#select only week array data for our selected sample\n",
    "merged_wkarray_df = analytic_df.merge(wkarray_df, on='caseid_1979')\n",
    "print merged_wkarray_df.shape"
   ]
  },
  {
   "cell_type": "code",
   "execution_count": 21,
   "metadata": {
    "collapsed": false
   },
   "outputs": [
    {
     "name": "stdout",
     "output_type": "stream",
     "text": [
      "0\n",
      "('pt', 5)\n",
      "100\n",
      "200\n"
     ]
    }
   ],
   "source": [
    "# Create a dictionary to store data\n",
    "data = defaultdict(list)\n",
    "\n",
    "# count how many hours people work with employment status 3 (associated with employer)\n",
    "count_hrs_status3 = []\n",
    "\n",
    "for i, row in merged_wkarray_df.iterrows(): #iterate through weekly array rows\n",
    "\n",
    "    #keep track of progress\n",
    "    if i%100 == 0: \n",
    "        print i\n",
    "    \n",
    "    #find year and month of first childbirth\n",
    "    dob_y = row['c1dob_y_xrnd']\n",
    "    dob_m = row['c1dob_m_xrnd']\n",
    "    \n",
    "    #find employment sequence start year and month\n",
    "    if dob_m == 12:\n",
    "        start_y = dob_y+1\n",
    "        start_m = 1\n",
    "    else:\n",
    "        start_y = dob_y\n",
    "        start_m = dob_m+1\n",
    "    \n",
    "    \n",
    "    #keep three columns: id, start_y, start_m\n",
    "    data['id'].append(row['caseid_1979'])\n",
    "    data['start_y'].append(start_y)\n",
    "    data['start_m'].append(start_m) \n",
    "        \n",
    "    #maternal leaves\n",
    "    leaves = find_maternal_leave_no_before(row)\n",
    "        \n",
    "    for week_num in range(1, 1880): #iterate through all weekly work variables\n",
    "         \n",
    "        #if the week is maternity leave\n",
    "        if week_num in leaves:\n",
    "            data['week%s'%week_num].append(5) \n",
    "            continue\n",
    "        \n",
    "        #otherwise:\n",
    "        my_status = None\n",
    "        \n",
    "        #get the hours worked this week \n",
    "        hours = row['hrs_worked_wk_num%04d_xrnd'%week_num]\n",
    "    \n",
    "        #get the employment status this week\n",
    "        status = row['status_wk_num%04d_xrnd'%week_num]\n",
    "\n",
    "        if (status >= 100 and status <= 2615):\n",
    "            status = 'w' #working\n",
    "        \n",
    "        if hours >= 35:\n",
    "            hours = 'ft' #full-time working hours\n",
    "        elif hours > 0 and hours < 35:\n",
    "            hours = 'pt' #part-time working hours\n",
    "        \n",
    "        \n",
    "        ### define employment status according to my classification scheme ###\n",
    "        \n",
    "        # missing\n",
    "        if hours == 0 and status == 0:\n",
    "            my_status = 0\n",
    "            \n",
    "        # full time\n",
    "        elif hours == 'ft' and status in ['w', 3]:\n",
    "            my_status = 1\n",
    "        elif hours == 0 and status == 7:\n",
    "            my_status = 1\n",
    "            \n",
    "        # working, missing hours\n",
    "        elif hours <= 0 and status in ['w', 3]: \n",
    "            my_status = 2\n",
    "            \n",
    "            ###################\n",
    "            if status==3:\n",
    "                count_hrs_status3.append(hours)\n",
    "            ###################\n",
    "            \n",
    "        # part time\n",
    "        elif hours == 'pt' and status in ['w', 3]:\n",
    "            my_status = 3\n",
    "\n",
    "        ####### NEW #######\n",
    "        elif hours == 0 and status == 'w':\n",
    "            my_status = 3\n",
    "        ###################                \n",
    "            \n",
    "        # non-working\n",
    "        elif hours <= 0 and status in [2, 4, 5]:\n",
    "            my_status = 4\n",
    "        elif hours == 'pt' and status in [4, 5]: # strange\n",
    "            print (hours, status)\n",
    "            my_status = 4\n",
    "\n",
    "        else:\n",
    "            raise Exception, 'unknown hours and status: (%s, %s)'%(hours, status)\n",
    "            \n",
    "        data['week%s'%week_num].append(my_status) #make the week number start from 0, easier for indexing in Python"
   ]
  },
  {
   "cell_type": "code",
   "execution_count": 22,
   "metadata": {
    "collapsed": false
   },
   "outputs": [
    {
     "name": "stdout",
     "output_type": "stream",
     "text": [
      "id            46\n",
      "start_y     1994\n",
      "start_m        5\n",
      "week1          4\n",
      "week2          4\n",
      "week3          4\n",
      "week4          4\n",
      "week5          4\n",
      "week6          4\n",
      "week7          4\n",
      "week8          4\n",
      "week9          4\n",
      "week10         4\n",
      "week11         4\n",
      "week12         4\n",
      "week13         4\n",
      "week14         4\n",
      "week15         4\n",
      "week16         4\n",
      "week17         4\n",
      "week18         4\n",
      "week19         4\n",
      "week20         4\n",
      "week21         4\n",
      "week22         4\n",
      "week23         4\n",
      "week24         4\n",
      "week25         4\n",
      "week26         4\n",
      "week27         4\n",
      "            ... \n",
      "week1850       0\n",
      "week1851       0\n",
      "week1852       0\n",
      "week1853       0\n",
      "week1854       0\n",
      "week1855       0\n",
      "week1856       0\n",
      "week1857       0\n",
      "week1858       0\n",
      "week1859       0\n",
      "week1860       0\n",
      "week1861       0\n",
      "week1862       0\n",
      "week1863       0\n",
      "week1864       0\n",
      "week1865       0\n",
      "week1866       0\n",
      "week1867       0\n",
      "week1868       0\n",
      "week1869       0\n",
      "week1870       0\n",
      "week1871       0\n",
      "week1872       0\n",
      "week1873       0\n",
      "week1874       0\n",
      "week1875       0\n",
      "week1876       0\n",
      "week1877       0\n",
      "week1878       0\n",
      "week1879       0\n",
      "Name: 0, dtype: int64\n"
     ]
    }
   ],
   "source": [
    "#create the new weekly array dataframe with my edited employment status\n",
    "\n",
    "#week number range: 1 - 1879\n",
    "\n",
    "#order the columns in the new dataframe\n",
    "cols = ['id', 'start_y', 'start_m'] + ['week%s'%n for n in range(1, 1880)]\n",
    "\n",
    "full_df = pd.DataFrame(data, columns=cols)\n",
    "print full_df.iloc[0]"
   ]
  },
  {
   "cell_type": "code",
   "execution_count": 23,
   "metadata": {
    "collapsed": false
   },
   "outputs": [
    {
     "name": "stdout",
     "output_type": "stream",
     "text": [
      "175\n"
     ]
    }
   ],
   "source": [
    "#how many times did status 3 appear?\n",
    "print len(count_hrs_status3)"
   ]
  },
  {
   "cell_type": "code",
   "execution_count": 24,
   "metadata": {
    "collapsed": false
   },
   "outputs": [
    {
     "data": {
      "text/plain": [
       "{-3, 0}"
      ]
     },
     "execution_count": 24,
     "metadata": {},
     "output_type": "execute_result"
    }
   ],
   "source": [
    "#what work hours are associated with status 3?\n",
    "set(count_hrs_status3)"
   ]
  },
  {
   "cell_type": "code",
   "execution_count": 25,
   "metadata": {
    "collapsed": true
   },
   "outputs": [],
   "source": [
    "# export to csv\n",
    "#full_df.to_csv('../data/full_wk_df_seq14.csv', index=False)"
   ]
  },
  {
   "cell_type": "markdown",
   "metadata": {},
   "source": [
    "## Construct 14-year monthly sequences"
   ]
  },
  {
   "cell_type": "code",
   "execution_count": 26,
   "metadata": {
    "collapsed": false
   },
   "outputs": [
    {
     "name": "stdout",
     "output_type": "stream",
     "text": [
      "[1]\n",
      "[1, 2]\n"
     ]
    }
   ],
   "source": [
    "def find_modal(l):\n",
    "    \"\"\"\n",
    "    Given a list l, return the most common element in the list. \n",
    "    if there is a tie, return all elements.\n",
    "    \"\"\"\n",
    "    \n",
    "    #first, count frequency of each unique item in the list\n",
    "    counter = defaultdict(int)\n",
    "    for item in l:\n",
    "        counter[item] += 1\n",
    "\n",
    "    #rank items from most frequent to least frequent\n",
    "    popular_items = sorted(counter, key=counter.get, reverse = True)\n",
    "    \n",
    "    most_common = [popular_items[0]]\n",
    "    \n",
    "    for other in popular_items[1:]:\n",
    "        if counter[other] < counter[most_common[0]]:\n",
    "            break\n",
    "        elif counter[other] == counter[most_common[0]]: #find an equally frequent item\n",
    "            most_common.append(other)\n",
    "        else:\n",
    "            print 'impossible'\n",
    "\n",
    "    return most_common\n",
    "\n",
    "#for example\n",
    "print find_modal([1, 1, 2, 1, 5])\n",
    "print find_modal([1, 1, 2, 1, 5, 2, 2, 33])"
   ]
  },
  {
   "cell_type": "code",
   "execution_count": 27,
   "metadata": {
    "collapsed": false
   },
   "outputs": [
    {
     "name": "stdout",
     "output_type": "stream",
     "text": [
      "0\n",
      "100\n",
      "200\n"
     ]
    }
   ],
   "source": [
    "import random\n",
    "random.seed(7222014)\n",
    "\n",
    "res_data = defaultdict(list) #create an empty dictionary to store data\n",
    "\n",
    "count_ties = [] #how many we get ties of modal\n",
    "\n",
    "for i, row in full_df.iterrows():\n",
    "    \n",
    "    # keep track of progress\n",
    "    if i%100 == 0:\n",
    "        print i\n",
    "    \n",
    "    # keep basic info: id, sequence start year and month\n",
    "    res_data['id'].append(row['id'])\n",
    "    \n",
    "    y = row['start_y']\n",
    "    m = row['start_m']\n",
    "    \n",
    "    res_data['start_y'].append(y)\n",
    "    res_data['start_m'].append(m)\n",
    "    \n",
    "    \n",
    "    # look at weekly statuses\n",
    "    for j in range(1, 169): # from month 1 to month 168, 14 years\n",
    "        \n",
    "        if y < 1978: #prior to 1978\n",
    "            hrs_pre1978 = merged_wkarray_df[merged_wkarray_df.caseid_1979==row['id']].iloc[0]['hrs_worked_wk_num0000_xrnd']\n",
    "            \n",
    "            if hrs_pre1978 == 0: # never worked before 1978\n",
    "                res_data['month%s'%j].append(4) # assign 4 - nonemployed\n",
    "            else:\n",
    "                res_data['month%s'%j].append(0) # otherwise, assign missing\n",
    "            \n",
    "        else:\n",
    "            start = get_week_num(y, m, 'first')\n",
    "            end = get_week_num(y, m, 'last')\n",
    "            wk_statuses = [row['week%i'%k] for k in range(start, end+1)]\n",
    "\n",
    "            #find unique items in the given month \n",
    "            distinct = list(set(wk_statuses))\n",
    "            distinct.sort()\n",
    "\n",
    "            if len(distinct) == 1:\n",
    "                res_data['month%s'%j].append(distinct[0])\n",
    "\n",
    "            elif len(distinct) >= 2:\n",
    "                modal = find_modal(wk_statuses)\n",
    "                if len(modal) == 1:\n",
    "                    res_data['month%s'%j].append(modal[0])\n",
    "                else:\n",
    "                    res_data['month%s'%j].append(random.choice(modal))\n",
    "                    count_ties.append(row['id'])\n",
    "\n",
    "         \n",
    "        #move to next month\n",
    "        if m < 12:\n",
    "            m += 1\n",
    "        elif m == 12:\n",
    "            m = 1\n",
    "            y += 1\n",
    "\n",
    "cols = ['id', 'start_y', 'start_m'] + ['month%s'%i for i in range(1, 169)]\n",
    "res_df = pd.DataFrame(res_data, columns=cols) "
   ]
  },
  {
   "cell_type": "code",
   "execution_count": 28,
   "metadata": {
    "collapsed": false
   },
   "outputs": [
    {
     "name": "stdout",
     "output_type": "stream",
     "text": [
      "236 instances of ties\n",
      "113 unique respondents have ties\n"
     ]
    }
   ],
   "source": [
    "print \"%s instances of ties\"%len(count_ties)\n",
    "print \"%s unique respondents have ties\"%len(set(count_ties))"
   ]
  },
  {
   "cell_type": "markdown",
   "metadata": {},
   "source": [
    "# Output dataset"
   ]
  },
  {
   "cell_type": "code",
   "execution_count": 29,
   "metadata": {
    "collapsed": false
   },
   "outputs": [
    {
     "name": "stdout",
     "output_type": "stream",
     "text": [
      "(248, 171)\n",
      "(3682, 171)\n"
     ]
    }
   ],
   "source": [
    "print res_df.shape\n",
    "res_df = pd.concat([monthly_df_main, res_df])\n",
    "print res_df.shape"
   ]
  },
  {
   "cell_type": "code",
   "execution_count": 30,
   "metadata": {
    "collapsed": false
   },
   "outputs": [],
   "source": [
    "#export to csv\n",
    "res_df.to_csv(\"../data/monthly_df_seq14.csv\", index=False)"
   ]
  },
  {
   "cell_type": "markdown",
   "metadata": {},
   "source": [
    "# Explore the sequences"
   ]
  },
  {
   "cell_type": "code",
   "execution_count": 33,
   "metadata": {
    "collapsed": true
   },
   "outputs": [],
   "source": [
    "def count_status_per_R(row, s):\n",
    "    \"\"\"\n",
    "    Count the frequency of status s appearing in each respondent's sequence\n",
    "    \"\"\"\n",
    "    \n",
    "    vals = [row['month%s'%i]==s for i in range(1, 169)] # 14 years, 168 months\n",
    "    return sum(vals)"
   ]
  },
  {
   "cell_type": "markdown",
   "metadata": {},
   "source": [
    "### status 0 - missing"
   ]
  },
  {
   "cell_type": "code",
   "execution_count": 34,
   "metadata": {
    "collapsed": false
   },
   "outputs": [
    {
     "name": "stdout",
     "output_type": "stream",
     "text": [
      "3283 respondents have no missing\n"
     ]
    }
   ],
   "source": [
    "freq0 = res_df.apply(lambda row: count_status_per_R(row, 0), axis=1)\n",
    "print \"%s respondents have no missing\"%sum([v==0 for v in freq0])"
   ]
  },
  {
   "cell_type": "code",
   "execution_count": 35,
   "metadata": {
    "collapsed": false
   },
   "outputs": [
    {
     "name": "stdout",
     "output_type": "stream",
     "text": [
      "mean: 14.0526315789, median: 10.0\n"
     ]
    },
    {
     "data": {
      "image/png": "[encoded data removed]",
      "text/plain": [
       "<matplotlib.figure.Figure at 0x10aec3710>"
      ]
     },
     "metadata": {},
     "output_type": "display_data"
    }
   ],
   "source": [
    "# drop respondents who have no missing\n",
    "freq0_wo_zero = [v for v in freq0 if v>0]\n",
    "\n",
    "# mean and median of missing months per respondent\n",
    "print 'mean: %s, median: %s'%(np.mean(freq0_wo_zero), np.median(freq0_wo_zero))\n",
    "\n",
    "# plot histogram\n",
    "plt.hist(freq0_wo_zero)\n",
    "remove_border()"
   ]
  },
  {
   "cell_type": "markdown",
   "metadata": {},
   "source": [
    "### status 2 - working, with missing hours"
   ]
  },
  {
   "cell_type": "code",
   "execution_count": 36,
   "metadata": {
    "collapsed": false
   },
   "outputs": [
    {
     "name": "stdout",
     "output_type": "stream",
     "text": [
      "3410 respondents have no month working with missing hours\n"
     ]
    }
   ],
   "source": [
    "freq2 = res_df.apply(lambda row: count_status_per_R(row, 2), axis=1)\n",
    "print \"%s respondents have no month working with missing hours\"%sum([v==0 for v in freq2])"
   ]
  },
  {
   "cell_type": "code",
   "execution_count": 37,
   "metadata": {
    "collapsed": false
   },
   "outputs": [
    {
     "name": "stdout",
     "output_type": "stream",
     "text": [
      "mean: 11.3308823529, median: 8.5\n"
     ]
    },
    {
     "data": {
      "image/png": "[encoded data removed]",
      "text/plain": [
       "<matplotlib.figure.Figure at 0x10a643890>"
      ]
     },
     "metadata": {},
     "output_type": "display_data"
    }
   ],
   "source": [
    "# drop respondents who have no month working with missing hours\n",
    "freq2_wo_zero = [v for v in freq2 if v>0]\n",
    "\n",
    "# mean and median of missing months per respondent\n",
    "print 'mean: %s, median: %s'%(np.mean(freq2_wo_zero), np.median(freq2_wo_zero))\n",
    "\n",
    "# plot histogram\n",
    "plt.hist(freq2_wo_zero)\n",
    "remove_border()"
   ]
  },
  {
   "cell_type": "code",
   "execution_count": null,
   "metadata": {
    "collapsed": true
   },
   "outputs": [],
   "source": []
  }
 ],
 "metadata": {
  "kernelspec": {
   "display_name": "Python 2",
   "language": "python",
   "name": "python2"
  },
  "language_info": {
   "codemirror_mode": {
    "name": "ipython",
    "version": 2
   },
   "file_extension": ".py",
   "mimetype": "text/x-python",
   "name": "python",
   "nbconvert_exporter": "python",
   "pygments_lexer": "ipython2",
   "version": "2.7.12"
  }
 },
 "nbformat": 4,
 "nbformat_minor": 0
}
