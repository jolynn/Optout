{
 "metadata": {
  "name": "",
  "signature": "sha256:31f6535091b6b1726dd339f6499da5503bbe046fda329203499fcc010433ccc6"
 },
 "nbformat": 3,
 "nbformat_minor": 0,
 "worksheets": [
  {
   "cells": [
    {
     "cell_type": "markdown",
     "metadata": {},
     "source": [
      "#Occupational Traits for Another Project\n",
      "\n",
      "February 2015"
     ]
    },
    {
     "cell_type": "markdown",
     "metadata": {},
     "source": [
      "Steps processed in Stata:\n",
      "\n",
      "* download the following variables frmo IPUMS 1980, 1990, 2000, 2005-2009: year sex age empstat occ1990 perwt uhrswork hrswork2\n",
      "* restrict to workers aged 20-60\t\n",
      "* restrict to employed people: empstat==1\n",
      "* recode sex: replace sex=sex-1\n",
      "* drop if uhrswork==0 // N/A, 1.68% of total sample in all years\n",
      "* save into separate csv files for each year"
     ]
    },
    {
     "cell_type": "code",
     "collapsed": false,
     "input": [
      "#setup\n",
      "%matplotlib inline\n",
      "import numpy as np\n",
      "import matplotlib.pyplot as plt\n",
      "import pandas as pd\n",
      "from collections import defaultdict\n",
      "\n",
      "# set some nicer defaults for matplotlib\n",
      "from matplotlib import rcParams\n",
      "\n",
      "#these colors come from colorbrewer2.org. Each is an RGB triplet\n",
      "dark2_colors = [(0.10588235294117647, 0.6196078431372549, 0.4666666666666667),\n",
      "                (0.8509803921568627, 0.37254901960784315, 0.00784313725490196),\n",
      "                (0.4588235294117647, 0.4392156862745098, 0.7019607843137254),\n",
      "                (0.9058823529411765, 0.1607843137254902, 0.5411764705882353),\n",
      "                (0.4, 0.6509803921568628, 0.11764705882352941),\n",
      "                (0.9019607843137255, 0.6705882352941176, 0.00784313725490196),\n",
      "                (0.6509803921568628, 0.4627450980392157, 0.11372549019607843),\n",
      "                (0.4, 0.4, 0.4)]\n",
      "\n",
      "rcParams['figure.figsize'] = (10, 6)\n",
      "rcParams['figure.dpi'] = 150\n",
      "rcParams['axes.color_cycle'] = dark2_colors\n",
      "rcParams['lines.linewidth'] = 2\n",
      "rcParams['axes.grid'] = False\n",
      "rcParams['axes.facecolor'] = 'white'\n",
      "rcParams['font.size'] = 14\n",
      "rcParams['patch.edgecolor'] = 'none'\n",
      "\n",
      "def remove_border(axes=None, top=False, right=False, left=True, bottom=True):\n",
      "    \"\"\"\n",
      "    Minimize chartjunk by stripping out unnecessary plot borders and axis ticks\n",
      "    \n",
      "    The top/right/left/bottom keywords toggle whether the corresponding plot border is drawn\n",
      "    \"\"\"\n",
      "    ax = axes or plt.gca()\n",
      "    ax.spines['top'].set_visible(top)\n",
      "    ax.spines['right'].set_visible(right)\n",
      "    ax.spines['left'].set_visible(left)\n",
      "    ax.spines['bottom'].set_visible(bottom)\n",
      "    \n",
      "    #turn off all ticks\n",
      "    ax.yaxis.set_ticks_position('none')\n",
      "    ax.xaxis.set_ticks_position('none')\n",
      "    \n",
      "    #now re-enable visibles\n",
      "    if top:\n",
      "        ax.xaxis.tick_top()\n",
      "    if bottom:\n",
      "        ax.xaxis.tick_bottom()\n",
      "    if left:\n",
      "        ax.yaxis.tick_left()\n",
      "    if right:\n",
      "        ax.yaxis.tick_right()"
     ],
     "language": "python",
     "metadata": {},
     "outputs": [],
     "prompt_number": 31
    },
    {
     "cell_type": "markdown",
     "metadata": {},
     "source": [
      "##Read data"
     ]
    },
    {
     "cell_type": "code",
     "collapsed": false,
     "input": [
      "occ1980 = pd.read_csv(\"occ1980.csv\")\n",
      "occ1990 = pd.read_csv(\"occ1990.csv\")\n",
      "occ2000 = pd.read_csv(\"occ2000.csv\")\n",
      "occ2009 = pd.read_csv(\"occ2009.csv\")\n",
      "\n",
      "print occ1980.columns"
     ],
     "language": "python",
     "metadata": {},
     "outputs": [
      {
       "output_type": "stream",
       "stream": "stdout",
       "text": [
        "Index([u'year', u'perwt', u'sex', u'age', u'empstat', u'occ1990', u'hrswork2', u'uhrswork'], dtype='object')\n"
       ]
      }
     ],
     "prompt_number": 3
    },
    {
     "cell_type": "code",
     "collapsed": false,
     "input": [
      "#check occupation size (if occupation too small, estimates may not be accurate)\n",
      "\n",
      "def get_size(occ_df, year):\n",
      "    \"\"\"\n",
      "    \"\"\"\n",
      "    \n",
      "    grouped = occ_df.groupby(\"occ1990\")\n",
      "    sizes = grouped.size()\n",
      "    print 'min:', min(sizes), 'max:', max(sizes)\n",
      "    print '%s occ groups have size smaller than 100'%len(sizes[sizes<100].values)\n",
      "\n",
      "    f, axarr = plt.subplots(1, 2)\n",
      "    \n",
      "    axarr[0].hist(sizes.values, bins=len(sizes.values))\n",
      "    axarr[0].set_title('Occupational size in %s \\n (for all occs)'%year)\n",
      "    axarr[0].set_xlabel('Occupational group size')\n",
      "    axarr[0].set_ylabel('Frequency')\n",
      "    axarr[0].set_xticklabels([int(x) for x in axarr[0].get_xticks()], rotation=40)\n",
      "    remove_border(axarr[0])\n",
      "\n",
      "    if len(sizes[sizes<100].values)>0:\n",
      "        axarr[1].hist(sizes[sizes<100].values, bins=len(sizes[sizes<100].values))\n",
      "    axarr[1].set_title('Occupational size in %s \\n (for occs < 100 ppl)'%year)\n",
      "    axarr[1].set_xlabel('Occupational group size')\n",
      "    axarr[1].set_ylabel('Frequency')\n",
      "    remove_border(axarr[1])\n",
      "    \n",
      "    plt.show()"
     ],
     "language": "python",
     "metadata": {},
     "outputs": [],
     "prompt_number": 88
    },
    {
     "cell_type": "code",
     "collapsed": false,
     "input": [
      "get_size(occ1980, 1980)"
     ],
     "language": "python",
     "metadata": {},
     "outputs": [
      {
       "output_type": "stream",
       "stream": "stdout",
       "text": [
        "min: 45 max: 241535\n",
        "3 occ groups have size smaller than 100\n"
       ]
      },
      {
       "metadata": {},
       "output_type": "display_data",
       "png": "[encoded data removed]",
       "text": [
        "<matplotlib.figure.Figure at 0x10b37a450>"
       ]
      }
     ],
     "prompt_number": 89
    },
    {
     "cell_type": "code",
     "collapsed": false,
     "input": [
      "get_size(occ1990, 1990)"
     ],
     "language": "python",
     "metadata": {},
     "outputs": [
      {
       "output_type": "stream",
       "stream": "stdout",
       "text": [
        "min: 20 max: 256452\n",
        "8 occ groups have size smaller than 100\n"
       ]
      },
      {
       "metadata": {},
       "output_type": "display_data",
       "png": "[encoded data removed]",
       "text": [
        "<matplotlib.figure.Figure at 0x10cbb5d90>"
       ]
      }
     ],
     "prompt_number": 90
    },
    {
     "cell_type": "code",
     "collapsed": false,
     "input": [
      "get_size(occ2000, 2000)"
     ],
     "language": "python",
     "metadata": {},
     "outputs": [
      {
       "output_type": "stream",
       "stream": "stdout",
       "text": [
        "min: 248 max: 199579\n",
        "0 occ groups have size smaller than 100\n"
       ]
      },
      {
       "metadata": {},
       "output_type": "display_data",
       "png": "[encoded data removed]",
       "text": [
        "<matplotlib.figure.Figure at 0x10ae05650>"
       ]
      }
     ],
     "prompt_number": 91
    },
    {
     "cell_type": "code",
     "collapsed": false,
     "input": [
      "get_size(occ2009, 2009)"
     ],
     "language": "python",
     "metadata": {},
     "outputs": [
      {
       "output_type": "stream",
       "stream": "stdout",
       "text": [
        "min: 216 max: 276227\n",
        "0 occ groups have size smaller than 100\n"
       ]
      },
      {
       "metadata": {},
       "output_type": "display_data",
       "png": "[encoded data removed]",
       "text": [
        "<matplotlib.figure.Figure at 0x1036efc10>"
       ]
      }
     ],
     "prompt_number": 92
    },
    {
     "cell_type": "code",
     "collapsed": false,
     "input": [
      "#does each year have the same set of occupations?\n",
      "set1980 = set(occ1980.occ1990.tolist())\n",
      "set1990 = set(occ1990.occ1990.tolist())\n",
      "set2000 = set(occ2000.occ1990.tolist())\n",
      "set2009 = set(occ2009.occ1990.tolist())\n",
      "\n",
      "print len(set1980), len(set1990), len(set2000), len(set2009)"
     ],
     "language": "python",
     "metadata": {},
     "outputs": [
      {
       "output_type": "stream",
       "stream": "stdout",
       "text": [
        "382 384 337 333\n"
       ]
      }
     ],
     "prompt_number": 99
    },
    {
     "cell_type": "code",
     "collapsed": false,
     "input": [
      "len(set1980|set1990)"
     ],
     "language": "python",
     "metadata": {},
     "outputs": [
      {
       "metadata": {},
       "output_type": "pyout",
       "prompt_number": 101,
       "text": [
        "384"
       ]
      }
     ],
     "prompt_number": 101
    },
    {
     "cell_type": "code",
     "collapsed": false,
     "input": [
      "print len(set2000|set1990), len(set2009|set1990)"
     ],
     "language": "python",
     "metadata": {},
     "outputs": [
      {
       "output_type": "stream",
       "stream": "stdout",
       "text": [
        "384 384\n"
       ]
      }
     ],
     "prompt_number": 102
    },
    {
     "cell_type": "markdown",
     "metadata": {},
     "source": [
      "**Thus the year 1990 has all the occupational codes.**"
     ]
    },
    {
     "cell_type": "markdown",
     "metadata": {},
     "source": [
      "##Construct three occupational traits"
     ]
    },
    {
     "cell_type": "code",
     "collapsed": false,
     "input": [
      "def get_pct_ot(df):\n",
      "    \"\"\"\n",
      "    Return weighted proportion of overwork workers in each occupation\n",
      "    (usually working more than 49 hours per week)\n",
      "    \"\"\"\n",
      "    \n",
      "    overtime = df.uhrswork.map(lambda x: x>=49)\n",
      "    return np.average(overtime, weights=df.perwt)\n",
      "\n",
      "def get_pct_female(df):\n",
      "    \"\"\"\n",
      "    Return weighted proportion of females in each occupation\n",
      "    \"\"\"\n",
      "    \n",
      "    return np.average(df.sex, weights=df.perwt)\n",
      "\n",
      "def get_pct_pt(df):\n",
      "    \"\"\"\n",
      "    Return weighted proportion of part-time workers in each occupation\n",
      "    (part-time among both male and female workers)\n",
      "    \"\"\"\n",
      "    \n",
      "    pt = df.uhrswork.map(lambda x: (x>=1 and x<35))\n",
      "    return np.average(pt, weights=df.perwt)    "
     ],
     "language": "python",
     "metadata": {},
     "outputs": [],
     "prompt_number": 108
    },
    {
     "cell_type": "code",
     "collapsed": false,
     "input": [
      "def get_occ_traits(df, y):\n",
      "    \"\"\"\n",
      "    \"\"\"\n",
      "    \n",
      "    grouped = df.groupby(\"occ1990\")\n",
      "    \n",
      "    ot = grouped.apply(lambda x: get_pct_ot(x)) #overtime\n",
      "    res = pd.DataFrame({'occ1990':ot.index, \n",
      "                        'pct_ot%s'%y:ot, \n",
      "                        'pct_female%s'%y:grouped.apply(lambda x: get_pct_female(x)),\n",
      "                        'pct_pt%s'%y:grouped.apply(lambda x: get_pct_pt(x))})\n",
      "    return res"
     ],
     "language": "python",
     "metadata": {},
     "outputs": [],
     "prompt_number": 123
    },
    {
     "cell_type": "code",
     "collapsed": false,
     "input": [
      "occ_trait_df = get_occ_traits(occ1990, 1990) #1990 has the most comprehensive codes\n",
      "occ_trait_df = occ_trait_df.merge(get_occ_traits(occ1980, 1980), how='left', on='occ1990')\n",
      "occ_trait_df = occ_trait_df.merge(get_occ_traits(occ2000, 2000), how='left', on='occ1990')\n",
      "occ_trait_df = occ_trait_df.merge(get_occ_traits(occ2009, 2009), how='left', on='occ1990')\n",
      "print occ_trait_df.shape\n",
      "occ_trait_df.head()"
     ],
     "language": "python",
     "metadata": {},
     "outputs": [
      {
       "output_type": "stream",
       "stream": "stdout",
       "text": [
        "(384, 13)\n"
       ]
      },
      {
       "html": [
        "<div style=\"max-height:1000px;max-width:1500px;overflow:auto;\">\n",
        "<table border=\"1\" class=\"dataframe\">\n",
        "  <thead>\n",
        "    <tr style=\"text-align: right;\">\n",
        "      <th></th>\n",
        "      <th>occ1990</th>\n",
        "      <th>pct_female1990</th>\n",
        "      <th>pct_ot1990</th>\n",
        "      <th>pct_pt1990</th>\n",
        "      <th>pct_female1980</th>\n",
        "      <th>pct_ot1980</th>\n",
        "      <th>pct_pt1980</th>\n",
        "      <th>pct_female2000</th>\n",
        "      <th>pct_ot2000</th>\n",
        "      <th>pct_pt2000</th>\n",
        "      <th>pct_female2009</th>\n",
        "      <th>pct_ot2009</th>\n",
        "      <th>pct_pt2009</th>\n",
        "    </tr>\n",
        "  </thead>\n",
        "  <tbody>\n",
        "    <tr>\n",
        "      <th>0</th>\n",
        "      <td>  3</td>\n",
        "      <td> 0.420362</td>\n",
        "      <td> 0.322315</td>\n",
        "      <td> 0.115033</td>\n",
        "      <td> 0.353630</td>\n",
        "      <td> 0.297424</td>\n",
        "      <td> 0.161593</td>\n",
        "      <td> 0.436231</td>\n",
        "      <td> 0.424620</td>\n",
        "      <td> 0.146606</td>\n",
        "      <td>      NaN</td>\n",
        "      <td>      NaN</td>\n",
        "      <td>      NaN</td>\n",
        "    </tr>\n",
        "    <tr>\n",
        "      <th>1</th>\n",
        "      <td>  4</td>\n",
        "      <td> 0.287149</td>\n",
        "      <td> 0.190691</td>\n",
        "      <td> 0.055446</td>\n",
        "      <td> 0.239234</td>\n",
        "      <td> 0.117567</td>\n",
        "      <td> 0.058783</td>\n",
        "      <td> 0.192726</td>\n",
        "      <td> 0.604713</td>\n",
        "      <td> 0.036563</td>\n",
        "      <td> 0.224091</td>\n",
        "      <td> 0.559887</td>\n",
        "      <td> 0.049084</td>\n",
        "    </tr>\n",
        "    <tr>\n",
        "      <th>2</th>\n",
        "      <td>  7</td>\n",
        "      <td> 0.464589</td>\n",
        "      <td> 0.286406</td>\n",
        "      <td> 0.033976</td>\n",
        "      <td> 0.310924</td>\n",
        "      <td> 0.176899</td>\n",
        "      <td> 0.028743</td>\n",
        "      <td> 0.532198</td>\n",
        "      <td> 0.331426</td>\n",
        "      <td> 0.047576</td>\n",
        "      <td> 0.539244</td>\n",
        "      <td> 0.311683</td>\n",
        "      <td> 0.041034</td>\n",
        "    </tr>\n",
        "    <tr>\n",
        "      <th>3</th>\n",
        "      <td>  8</td>\n",
        "      <td> 0.495319</td>\n",
        "      <td> 0.286080</td>\n",
        "      <td> 0.047210</td>\n",
        "      <td> 0.361859</td>\n",
        "      <td> 0.208548</td>\n",
        "      <td> 0.040419</td>\n",
        "      <td> 0.564567</td>\n",
        "      <td> 0.335255</td>\n",
        "      <td> 0.054302</td>\n",
        "      <td> 0.599546</td>\n",
        "      <td> 0.329530</td>\n",
        "      <td> 0.047917</td>\n",
        "    </tr>\n",
        "    <tr>\n",
        "      <th>4</th>\n",
        "      <td> 13</td>\n",
        "      <td> 0.379617</td>\n",
        "      <td> 0.361658</td>\n",
        "      <td> 0.055405</td>\n",
        "      <td> 0.218459</td>\n",
        "      <td> 0.320749</td>\n",
        "      <td> 0.049070</td>\n",
        "      <td> 0.465946</td>\n",
        "      <td> 0.412238</td>\n",
        "      <td> 0.067978</td>\n",
        "      <td> 0.480801</td>\n",
        "      <td> 0.389687</td>\n",
        "      <td> 0.063153</td>\n",
        "    </tr>\n",
        "  </tbody>\n",
        "</table>\n",
        "</div>"
       ],
       "metadata": {},
       "output_type": "pyout",
       "prompt_number": 124,
       "text": [
        "   occ1990  pct_female1990  pct_ot1990  pct_pt1990  pct_female1980  \\\n",
        "0        3        0.420362    0.322315    0.115033        0.353630   \n",
        "1        4        0.287149    0.190691    0.055446        0.239234   \n",
        "2        7        0.464589    0.286406    0.033976        0.310924   \n",
        "3        8        0.495319    0.286080    0.047210        0.361859   \n",
        "4       13        0.379617    0.361658    0.055405        0.218459   \n",
        "\n",
        "   pct_ot1980  pct_pt1980  pct_female2000  pct_ot2000  pct_pt2000  \\\n",
        "0    0.297424    0.161593        0.436231    0.424620    0.146606   \n",
        "1    0.117567    0.058783        0.192726    0.604713    0.036563   \n",
        "2    0.176899    0.028743        0.532198    0.331426    0.047576   \n",
        "3    0.208548    0.040419        0.564567    0.335255    0.054302   \n",
        "4    0.320749    0.049070        0.465946    0.412238    0.067978   \n",
        "\n",
        "   pct_female2009  pct_ot2009  pct_pt2009  \n",
        "0             NaN         NaN         NaN  \n",
        "1        0.224091    0.559887    0.049084  \n",
        "2        0.539244    0.311683    0.041034  \n",
        "3        0.599546    0.329530    0.047917  \n",
        "4        0.480801    0.389687    0.063153  "
       ]
      }
     ],
     "prompt_number": 124
    },
    {
     "cell_type": "code",
     "collapsed": false,
     "input": [
      "#reorder columns\n",
      "occ_trait_df = occ_trait_df[['occ1990', \n",
      "                             'pct_female1980', 'pct_ot1980', 'pct_pt1980',\n",
      "                             'pct_female1990', 'pct_ot1990', 'pct_pt1990',\n",
      "                             'pct_female2000', 'pct_ot2000', 'pct_pt2000',\n",
      "                             'pct_female2009', 'pct_ot2009', 'pct_pt2009']]\n",
      "occ_trait_df.head()"
     ],
     "language": "python",
     "metadata": {},
     "outputs": [
      {
       "html": [
        "<div style=\"max-height:1000px;max-width:1500px;overflow:auto;\">\n",
        "<table border=\"1\" class=\"dataframe\">\n",
        "  <thead>\n",
        "    <tr style=\"text-align: right;\">\n",
        "      <th></th>\n",
        "      <th>occ1990</th>\n",
        "      <th>pct_female1980</th>\n",
        "      <th>pct_ot1980</th>\n",
        "      <th>pct_pt1980</th>\n",
        "      <th>pct_female1990</th>\n",
        "      <th>pct_ot1990</th>\n",
        "      <th>pct_pt1990</th>\n",
        "      <th>pct_female2000</th>\n",
        "      <th>pct_ot2000</th>\n",
        "      <th>pct_pt2000</th>\n",
        "      <th>pct_female2009</th>\n",
        "      <th>pct_ot2009</th>\n",
        "      <th>pct_pt2009</th>\n",
        "    </tr>\n",
        "  </thead>\n",
        "  <tbody>\n",
        "    <tr>\n",
        "      <th>0</th>\n",
        "      <td>  3</td>\n",
        "      <td> 0.353630</td>\n",
        "      <td> 0.297424</td>\n",
        "      <td> 0.161593</td>\n",
        "      <td> 0.420362</td>\n",
        "      <td> 0.322315</td>\n",
        "      <td> 0.115033</td>\n",
        "      <td> 0.436231</td>\n",
        "      <td> 0.424620</td>\n",
        "      <td> 0.146606</td>\n",
        "      <td>      NaN</td>\n",
        "      <td>      NaN</td>\n",
        "      <td>      NaN</td>\n",
        "    </tr>\n",
        "    <tr>\n",
        "      <th>1</th>\n",
        "      <td>  4</td>\n",
        "      <td> 0.239234</td>\n",
        "      <td> 0.117567</td>\n",
        "      <td> 0.058783</td>\n",
        "      <td> 0.287149</td>\n",
        "      <td> 0.190691</td>\n",
        "      <td> 0.055446</td>\n",
        "      <td> 0.192726</td>\n",
        "      <td> 0.604713</td>\n",
        "      <td> 0.036563</td>\n",
        "      <td> 0.224091</td>\n",
        "      <td> 0.559887</td>\n",
        "      <td> 0.049084</td>\n",
        "    </tr>\n",
        "    <tr>\n",
        "      <th>2</th>\n",
        "      <td>  7</td>\n",
        "      <td> 0.310924</td>\n",
        "      <td> 0.176899</td>\n",
        "      <td> 0.028743</td>\n",
        "      <td> 0.464589</td>\n",
        "      <td> 0.286406</td>\n",
        "      <td> 0.033976</td>\n",
        "      <td> 0.532198</td>\n",
        "      <td> 0.331426</td>\n",
        "      <td> 0.047576</td>\n",
        "      <td> 0.539244</td>\n",
        "      <td> 0.311683</td>\n",
        "      <td> 0.041034</td>\n",
        "    </tr>\n",
        "    <tr>\n",
        "      <th>3</th>\n",
        "      <td>  8</td>\n",
        "      <td> 0.361859</td>\n",
        "      <td> 0.208548</td>\n",
        "      <td> 0.040419</td>\n",
        "      <td> 0.495319</td>\n",
        "      <td> 0.286080</td>\n",
        "      <td> 0.047210</td>\n",
        "      <td> 0.564567</td>\n",
        "      <td> 0.335255</td>\n",
        "      <td> 0.054302</td>\n",
        "      <td> 0.599546</td>\n",
        "      <td> 0.329530</td>\n",
        "      <td> 0.047917</td>\n",
        "    </tr>\n",
        "    <tr>\n",
        "      <th>4</th>\n",
        "      <td> 13</td>\n",
        "      <td> 0.218459</td>\n",
        "      <td> 0.320749</td>\n",
        "      <td> 0.049070</td>\n",
        "      <td> 0.379617</td>\n",
        "      <td> 0.361658</td>\n",
        "      <td> 0.055405</td>\n",
        "      <td> 0.465946</td>\n",
        "      <td> 0.412238</td>\n",
        "      <td> 0.067978</td>\n",
        "      <td> 0.480801</td>\n",
        "      <td> 0.389687</td>\n",
        "      <td> 0.063153</td>\n",
        "    </tr>\n",
        "  </tbody>\n",
        "</table>\n",
        "</div>"
       ],
       "metadata": {},
       "output_type": "pyout",
       "prompt_number": 126,
       "text": [
        "   occ1990  pct_female1980  pct_ot1980  pct_pt1980  pct_female1990  \\\n",
        "0        3        0.353630    0.297424    0.161593        0.420362   \n",
        "1        4        0.239234    0.117567    0.058783        0.287149   \n",
        "2        7        0.310924    0.176899    0.028743        0.464589   \n",
        "3        8        0.361859    0.208548    0.040419        0.495319   \n",
        "4       13        0.218459    0.320749    0.049070        0.379617   \n",
        "\n",
        "   pct_ot1990  pct_pt1990  pct_female2000  pct_ot2000  pct_pt2000  \\\n",
        "0    0.322315    0.115033        0.436231    0.424620    0.146606   \n",
        "1    0.190691    0.055446        0.192726    0.604713    0.036563   \n",
        "2    0.286406    0.033976        0.532198    0.331426    0.047576   \n",
        "3    0.286080    0.047210        0.564567    0.335255    0.054302   \n",
        "4    0.361658    0.055405        0.465946    0.412238    0.067978   \n",
        "\n",
        "   pct_female2009  pct_ot2009  pct_pt2009  \n",
        "0             NaN         NaN         NaN  \n",
        "1        0.224091    0.559887    0.049084  \n",
        "2        0.539244    0.311683    0.041034  \n",
        "3        0.599546    0.329530    0.047917  \n",
        "4        0.480801    0.389687    0.063153  "
       ]
      }
     ],
     "prompt_number": 126
    },
    {
     "cell_type": "code",
     "collapsed": false,
     "input": [
      "#look at how many missing cases in each column\n",
      "print 'number of unique occupations in each year:'\n",
      "print '1980 | 1990 | 2000 | 2009'\n",
      "print len(set1980), '|', len(set1990), '|', len(set2000), '|', len(set2009)\n",
      "\n",
      "print\n",
      "print 'number of missings in each column:'\n",
      "occ_trait_df.apply(lambda x: x.isnull().tolist().count(True), axis=0)"
     ],
     "language": "python",
     "metadata": {},
     "outputs": [
      {
       "output_type": "stream",
       "stream": "stdout",
       "text": [
        "number of unique occupations in each year:\n",
        "1980 | 1990 | 2000 | 2009\n",
        "382 | 384 | 337 | 333\n",
        "\n",
        "number of missings in each column:\n"
       ]
      },
      {
       "metadata": {},
       "output_type": "pyout",
       "prompt_number": 131,
       "text": [
        "occ1990            0\n",
        "pct_female1980     2\n",
        "pct_ot1980         2\n",
        "pct_pt1980         2\n",
        "pct_female1990     0\n",
        "pct_ot1990         0\n",
        "pct_pt1990         0\n",
        "pct_female2000    47\n",
        "pct_ot2000        47\n",
        "pct_pt2000        47\n",
        "pct_female2009    51\n",
        "pct_ot2009        51\n",
        "pct_pt2009        51\n",
        "dtype: int64"
       ]
      }
     ],
     "prompt_number": 131
    },
    {
     "cell_type": "markdown",
     "metadata": {},
     "source": [
      "The number of missings match in the count of unique occupations and in the result dataframe."
     ]
    },
    {
     "cell_type": "code",
     "collapsed": false,
     "input": [
      "occ_trait_df.to_csv('occ_traits.csv', index=False)"
     ],
     "language": "python",
     "metadata": {},
     "outputs": [],
     "prompt_number": 132
    },
    {
     "cell_type": "markdown",
     "metadata": {},
     "source": [
      "##Occcupation codes crosswalks"
     ]
    },
    {
     "cell_type": "code",
     "collapsed": false,
     "input": [
      "xwalk_df = pd.read_csv('occ1990_xwalk.csv')\n",
      "xwalk_df.head()"
     ],
     "language": "python",
     "metadata": {},
     "outputs": [
      {
       "html": [
        "<div style=\"max-height:1000px;max-width:1500px;overflow:auto;\">\n",
        "<table border=\"1\" class=\"dataframe\">\n",
        "  <thead>\n",
        "    <tr style=\"text-align: right;\">\n",
        "      <th></th>\n",
        "      <th>OCC1990</th>\n",
        "      <th>Occupation category description</th>\n",
        "      <th>1950</th>\n",
        "      <th>1960</th>\n",
        "      <th>1970</th>\n",
        "      <th>1980</th>\n",
        "      <th>1990</th>\n",
        "      <th>2000 1%</th>\n",
        "      <th>2000 5%</th>\n",
        "      <th>ACS00-04</th>\n",
        "      <th>ACS05-09</th>\n",
        "      <th>ACS10-</th>\n",
        "    </tr>\n",
        "  </thead>\n",
        "  <tbody>\n",
        "    <tr>\n",
        "      <th>0</th>\n",
        "      <td> #</td>\n",
        "      <td> MANAGERIAL AND PROFESSIONAL SPECIALTY OCCUPATIONS</td>\n",
        "      <td> NaN</td>\n",
        "      <td> NaN</td>\n",
        "      <td> NaN</td>\n",
        "      <td> NaN</td>\n",
        "      <td> NaN</td>\n",
        "      <td> NaN</td>\n",
        "      <td> NaN</td>\n",
        "      <td> NaN</td>\n",
        "      <td> NaN</td>\n",
        "      <td> NaN</td>\n",
        "    </tr>\n",
        "    <tr>\n",
        "      <th>1</th>\n",
        "      <td> #</td>\n",
        "      <td> Executive, Administrative, and Managerial Occu...</td>\n",
        "      <td> NaN</td>\n",
        "      <td> NaN</td>\n",
        "      <td> NaN</td>\n",
        "      <td> NaN</td>\n",
        "      <td> NaN</td>\n",
        "      <td> NaN</td>\n",
        "      <td> NaN</td>\n",
        "      <td> NaN</td>\n",
        "      <td> NaN</td>\n",
        "      <td> NaN</td>\n",
        "    </tr>\n",
        "    <tr>\n",
        "      <th>2</th>\n",
        "      <td> 3</td>\n",
        "      <td>                                       Legislators</td>\n",
        "      <td> NaN</td>\n",
        "      <td> NaN</td>\n",
        "      <td> NaN</td>\n",
        "      <td>   3</td>\n",
        "      <td>   3</td>\n",
        "      <td>   3</td>\n",
        "      <td>   3</td>\n",
        "      <td>   3</td>\n",
        "      <td> NaN</td>\n",
        "      <td>  30</td>\n",
        "    </tr>\n",
        "    <tr>\n",
        "      <th>3</th>\n",
        "      <td> 4</td>\n",
        "      <td>        Chief executives and public administrators</td>\n",
        "      <td> 250</td>\n",
        "      <td> 270</td>\n",
        "      <td> NaN</td>\n",
        "      <td>   4</td>\n",
        "      <td>   4</td>\n",
        "      <td>   1</td>\n",
        "      <td>   1</td>\n",
        "      <td>   1</td>\n",
        "      <td>   1</td>\n",
        "      <td>  10</td>\n",
        "    </tr>\n",
        "    <tr>\n",
        "      <th>4</th>\n",
        "      <td> 7</td>\n",
        "      <td>                                Financial managers</td>\n",
        "      <td> NaN</td>\n",
        "      <td> NaN</td>\n",
        "      <td> 202</td>\n",
        "      <td>   7</td>\n",
        "      <td>   7</td>\n",
        "      <td>  12</td>\n",
        "      <td>  12</td>\n",
        "      <td>  12</td>\n",
        "      <td>  12</td>\n",
        "      <td> 120</td>\n",
        "    </tr>\n",
        "  </tbody>\n",
        "</table>\n",
        "</div>"
       ],
       "metadata": {},
       "output_type": "pyout",
       "prompt_number": 133,
       "text": [
        "  OCC1990                    Occupation category description  1950 1960 1970  \\\n",
        "0       #  MANAGERIAL AND PROFESSIONAL SPECIALTY OCCUPATIONS   NaN  NaN  NaN   \n",
        "1       #  Executive, Administrative, and Managerial Occu...   NaN  NaN  NaN   \n",
        "2       3                                        Legislators   NaN  NaN  NaN   \n",
        "3       4         Chief executives and public administrators   250  270  NaN   \n",
        "4       7                                 Financial managers   NaN  NaN  202   \n",
        "\n",
        "  1980 1990 2000 1% 2000 5% ACS00-04 ACS05-09  ACS10-  \n",
        "0  NaN  NaN     NaN     NaN      NaN      NaN     NaN  \n",
        "1  NaN  NaN     NaN     NaN      NaN      NaN     NaN  \n",
        "2    3    3       3       3        3      NaN      30  \n",
        "3    4    4       1       1        1        1      10  \n",
        "4    7    7      12      12       12       12     120  "
       ]
      }
     ],
     "prompt_number": 133
    },
    {
     "cell_type": "markdown",
     "metadata": {},
     "source": [
      "###Crosswalk 1980"
     ]
    },
    {
     "cell_type": "code",
     "collapsed": false,
     "input": [
      "def is_space(x):\n",
      "    \"\"\"\n",
      "    \"\"\"\n",
      "    \n",
      "    return isinstance(x, basestring) and x.isspace()"
     ],
     "language": "python",
     "metadata": {},
     "outputs": [],
     "prompt_number": 204
    },
    {
     "cell_type": "code",
     "collapsed": false,
     "input": [
      "xwalk1980 = xwalk_df[['OCC1990', '1980']][(~xwalk_df['1980'].isnull())&(~xwalk_df['1980'].map(is_space))]\n",
      "print xwalk1980.shape, len(np.unique(xwalk1980['1980']))\n",
      "xwalk1980.head()"
     ],
     "language": "python",
     "metadata": {},
     "outputs": [
      {
       "output_type": "stream",
       "stream": "stdout",
       "text": [
        "(511, 2) 511\n"
       ]
      },
      {
       "html": [
        "<div style=\"max-height:1000px;max-width:1500px;overflow:auto;\">\n",
        "<table border=\"1\" class=\"dataframe\">\n",
        "  <thead>\n",
        "    <tr style=\"text-align: right;\">\n",
        "      <th></th>\n",
        "      <th>OCC1990</th>\n",
        "      <th>1980</th>\n",
        "    </tr>\n",
        "  </thead>\n",
        "  <tbody>\n",
        "    <tr>\n",
        "      <th>2 </th>\n",
        "      <td>  3</td>\n",
        "      <td>  3</td>\n",
        "    </tr>\n",
        "    <tr>\n",
        "      <th>3 </th>\n",
        "      <td>  4</td>\n",
        "      <td>  4</td>\n",
        "    </tr>\n",
        "    <tr>\n",
        "      <th>4 </th>\n",
        "      <td>  7</td>\n",
        "      <td>  7</td>\n",
        "    </tr>\n",
        "    <tr>\n",
        "      <th>6 </th>\n",
        "      <td>  8</td>\n",
        "      <td>  8</td>\n",
        "    </tr>\n",
        "    <tr>\n",
        "      <th>10</th>\n",
        "      <td> 13</td>\n",
        "      <td> 13</td>\n",
        "    </tr>\n",
        "  </tbody>\n",
        "</table>\n",
        "</div>"
       ],
       "metadata": {},
       "output_type": "pyout",
       "prompt_number": 207,
       "text": [
        "   OCC1990 1980\n",
        "2        3    3\n",
        "3        4    4\n",
        "4        7    7\n",
        "6        8    8\n",
        "10      13   13"
       ]
      }
     ],
     "prompt_number": 207
    },
    {
     "cell_type": "code",
     "collapsed": false,
     "input": [
      "xwalk1980.columns = ['occ1990', 'ori1980']\n",
      "xwalk1980 = xwalk1980.applymap(lambda x: np.int64(x))\n",
      "xwalk1980.to_stata('xwalk1980.dta', write_index=False)\n",
      "xwalk1980.head()"
     ],
     "language": "python",
     "metadata": {},
     "outputs": [
      {
       "html": [
        "<div style=\"max-height:1000px;max-width:1500px;overflow:auto;\">\n",
        "<table border=\"1\" class=\"dataframe\">\n",
        "  <thead>\n",
        "    <tr style=\"text-align: right;\">\n",
        "      <th></th>\n",
        "      <th>occ1990</th>\n",
        "      <th>ori1980</th>\n",
        "    </tr>\n",
        "  </thead>\n",
        "  <tbody>\n",
        "    <tr>\n",
        "      <th>2 </th>\n",
        "      <td>  3</td>\n",
        "      <td>  3</td>\n",
        "    </tr>\n",
        "    <tr>\n",
        "      <th>3 </th>\n",
        "      <td>  4</td>\n",
        "      <td>  4</td>\n",
        "    </tr>\n",
        "    <tr>\n",
        "      <th>4 </th>\n",
        "      <td>  7</td>\n",
        "      <td>  7</td>\n",
        "    </tr>\n",
        "    <tr>\n",
        "      <th>6 </th>\n",
        "      <td>  8</td>\n",
        "      <td>  8</td>\n",
        "    </tr>\n",
        "    <tr>\n",
        "      <th>10</th>\n",
        "      <td> 13</td>\n",
        "      <td> 13</td>\n",
        "    </tr>\n",
        "  </tbody>\n",
        "</table>\n",
        "</div>"
       ],
       "metadata": {},
       "output_type": "pyout",
       "prompt_number": 211,
       "text": [
        "    occ1990  ori1980\n",
        "2         3        3\n",
        "3         4        4\n",
        "4         7        7\n",
        "6         8        8\n",
        "10       13       13"
       ]
      }
     ],
     "prompt_number": 211
    },
    {
     "cell_type": "markdown",
     "metadata": {},
     "source": [
      "###Crosswalk 1990"
     ]
    },
    {
     "cell_type": "code",
     "collapsed": false,
     "input": [
      "xwalk1990 = xwalk_df[['OCC1990', '1990']][(~xwalk_df['1990'].isnull())&(~xwalk_df['1990'].map(is_space))]\n",
      "print xwalk1990.shape, len(np.unique(xwalk1990['1990']))\n",
      "xwalk1990.head()"
     ],
     "language": "python",
     "metadata": {},
     "outputs": [
      {
       "output_type": "stream",
       "stream": "stdout",
       "text": [
        "(516, 2) 516\n"
       ]
      },
      {
       "html": [
        "<div style=\"max-height:1000px;max-width:1500px;overflow:auto;\">\n",
        "<table border=\"1\" class=\"dataframe\">\n",
        "  <thead>\n",
        "    <tr style=\"text-align: right;\">\n",
        "      <th></th>\n",
        "      <th>OCC1990</th>\n",
        "      <th>1990</th>\n",
        "    </tr>\n",
        "  </thead>\n",
        "  <tbody>\n",
        "    <tr>\n",
        "      <th>2 </th>\n",
        "      <td>  3</td>\n",
        "      <td>  3</td>\n",
        "    </tr>\n",
        "    <tr>\n",
        "      <th>3 </th>\n",
        "      <td>  4</td>\n",
        "      <td>  4</td>\n",
        "    </tr>\n",
        "    <tr>\n",
        "      <th>4 </th>\n",
        "      <td>  7</td>\n",
        "      <td>  7</td>\n",
        "    </tr>\n",
        "    <tr>\n",
        "      <th>6 </th>\n",
        "      <td>  8</td>\n",
        "      <td>  8</td>\n",
        "    </tr>\n",
        "    <tr>\n",
        "      <th>10</th>\n",
        "      <td> 13</td>\n",
        "      <td> 13</td>\n",
        "    </tr>\n",
        "  </tbody>\n",
        "</table>\n",
        "</div>"
       ],
       "metadata": {},
       "output_type": "pyout",
       "prompt_number": 213,
       "text": [
        "   OCC1990 1990\n",
        "2        3    3\n",
        "3        4    4\n",
        "4        7    7\n",
        "6        8    8\n",
        "10      13   13"
       ]
      }
     ],
     "prompt_number": 213
    },
    {
     "cell_type": "code",
     "collapsed": false,
     "input": [
      "xwalk1990.columns = ['occ1990', 'ori1990']\n",
      "xwalk1990 = xwalk1990.applymap(lambda x: np.int64(x))\n",
      "xwalk1990.to_stata('xwalk1990.dta', write_index=False)\n",
      "xwalk1990.head()"
     ],
     "language": "python",
     "metadata": {},
     "outputs": [
      {
       "html": [
        "<div style=\"max-height:1000px;max-width:1500px;overflow:auto;\">\n",
        "<table border=\"1\" class=\"dataframe\">\n",
        "  <thead>\n",
        "    <tr style=\"text-align: right;\">\n",
        "      <th></th>\n",
        "      <th>occ1990</th>\n",
        "      <th>ori1990</th>\n",
        "    </tr>\n",
        "  </thead>\n",
        "  <tbody>\n",
        "    <tr>\n",
        "      <th>2 </th>\n",
        "      <td>  3</td>\n",
        "      <td>  3</td>\n",
        "    </tr>\n",
        "    <tr>\n",
        "      <th>3 </th>\n",
        "      <td>  4</td>\n",
        "      <td>  4</td>\n",
        "    </tr>\n",
        "    <tr>\n",
        "      <th>4 </th>\n",
        "      <td>  7</td>\n",
        "      <td>  7</td>\n",
        "    </tr>\n",
        "    <tr>\n",
        "      <th>6 </th>\n",
        "      <td>  8</td>\n",
        "      <td>  8</td>\n",
        "    </tr>\n",
        "    <tr>\n",
        "      <th>10</th>\n",
        "      <td> 13</td>\n",
        "      <td> 13</td>\n",
        "    </tr>\n",
        "  </tbody>\n",
        "</table>\n",
        "</div>"
       ],
       "metadata": {},
       "output_type": "pyout",
       "prompt_number": 214,
       "text": [
        "    occ1990  ori1990\n",
        "2         3        3\n",
        "3         4        4\n",
        "4         7        7\n",
        "6         8        8\n",
        "10       13       13"
       ]
      }
     ],
     "prompt_number": 214
    },
    {
     "cell_type": "markdown",
     "metadata": {},
     "source": [
      "###Crosswalk 2000"
     ]
    },
    {
     "cell_type": "code",
     "collapsed": false,
     "input": [
      "xwalk2000 = xwalk_df[['OCC1990', '2000 5%']][(~xwalk_df['2000 5%'].isnull())&(~xwalk_df['2000 5%'].map(is_space))]\n",
      "print xwalk2000.shape, len(np.unique(xwalk2000['2000 5%']))\n",
      "xwalk2000.head()"
     ],
     "language": "python",
     "metadata": {},
     "outputs": [
      {
       "output_type": "stream",
       "stream": "stdout",
       "text": [
        "(479, 2) 479\n"
       ]
      },
      {
       "html": [
        "<div style=\"max-height:1000px;max-width:1500px;overflow:auto;\">\n",
        "<table border=\"1\" class=\"dataframe\">\n",
        "  <thead>\n",
        "    <tr style=\"text-align: right;\">\n",
        "      <th></th>\n",
        "      <th>OCC1990</th>\n",
        "      <th>2000 5%</th>\n",
        "    </tr>\n",
        "  </thead>\n",
        "  <tbody>\n",
        "    <tr>\n",
        "      <th>2 </th>\n",
        "      <td>  3</td>\n",
        "      <td>  3</td>\n",
        "    </tr>\n",
        "    <tr>\n",
        "      <th>3 </th>\n",
        "      <td>  4</td>\n",
        "      <td>  1</td>\n",
        "    </tr>\n",
        "    <tr>\n",
        "      <th>4 </th>\n",
        "      <td>  7</td>\n",
        "      <td> 12</td>\n",
        "    </tr>\n",
        "    <tr>\n",
        "      <th>6 </th>\n",
        "      <td>  8</td>\n",
        "      <td> 13</td>\n",
        "    </tr>\n",
        "    <tr>\n",
        "      <th>10</th>\n",
        "      <td> 13</td>\n",
        "      <td>  4</td>\n",
        "    </tr>\n",
        "  </tbody>\n",
        "</table>\n",
        "</div>"
       ],
       "metadata": {},
       "output_type": "pyout",
       "prompt_number": 215,
       "text": [
        "   OCC1990 2000 5%\n",
        "2        3       3\n",
        "3        4       1\n",
        "4        7      12\n",
        "6        8      13\n",
        "10      13       4"
       ]
      }
     ],
     "prompt_number": 215
    },
    {
     "cell_type": "code",
     "collapsed": false,
     "input": [
      "xwalk2000.columns = ['occ1990', 'ori2000']\n",
      "xwalk2000 = xwalk2000.applymap(lambda x: np.int64(x))\n",
      "xwalk2000.to_stata('xwalk2000.dta', write_index=False)\n",
      "xwalk2000.head()"
     ],
     "language": "python",
     "metadata": {},
     "outputs": [
      {
       "html": [
        "<div style=\"max-height:1000px;max-width:1500px;overflow:auto;\">\n",
        "<table border=\"1\" class=\"dataframe\">\n",
        "  <thead>\n",
        "    <tr style=\"text-align: right;\">\n",
        "      <th></th>\n",
        "      <th>occ1990</th>\n",
        "      <th>ori2000</th>\n",
        "    </tr>\n",
        "  </thead>\n",
        "  <tbody>\n",
        "    <tr>\n",
        "      <th>2 </th>\n",
        "      <td>  3</td>\n",
        "      <td>  3</td>\n",
        "    </tr>\n",
        "    <tr>\n",
        "      <th>3 </th>\n",
        "      <td>  4</td>\n",
        "      <td>  1</td>\n",
        "    </tr>\n",
        "    <tr>\n",
        "      <th>4 </th>\n",
        "      <td>  7</td>\n",
        "      <td> 12</td>\n",
        "    </tr>\n",
        "    <tr>\n",
        "      <th>6 </th>\n",
        "      <td>  8</td>\n",
        "      <td> 13</td>\n",
        "    </tr>\n",
        "    <tr>\n",
        "      <th>10</th>\n",
        "      <td> 13</td>\n",
        "      <td>  4</td>\n",
        "    </tr>\n",
        "  </tbody>\n",
        "</table>\n",
        "</div>"
       ],
       "metadata": {},
       "output_type": "pyout",
       "prompt_number": 216,
       "text": [
        "    occ1990  ori2000\n",
        "2         3        3\n",
        "3         4        1\n",
        "4         7       12\n",
        "6         8       13\n",
        "10       13        4"
       ]
      }
     ],
     "prompt_number": 216
    },
    {
     "cell_type": "markdown",
     "metadata": {},
     "source": [
      "###Crosswalk 2009"
     ]
    },
    {
     "cell_type": "code",
     "collapsed": false,
     "input": [
      "xwalk2009 = xwalk_df[['OCC1990', 'ACS05-09']][(~xwalk_df['ACS05-09'].isnull())&(~xwalk_df['ACS05-09'].map(is_space))]\n",
      "print xwalk2009.shape, len(np.unique(xwalk2009['ACS05-09']))\n",
      "xwalk2009.head()"
     ],
     "language": "python",
     "metadata": {},
     "outputs": [
      {
       "output_type": "stream",
       "stream": "stdout",
       "text": [
        "(473, 2) 473\n"
       ]
      },
      {
       "html": [
        "<div style=\"max-height:1000px;max-width:1500px;overflow:auto;\">\n",
        "<table border=\"1\" class=\"dataframe\">\n",
        "  <thead>\n",
        "    <tr style=\"text-align: right;\">\n",
        "      <th></th>\n",
        "      <th>OCC1990</th>\n",
        "      <th>ACS05-09</th>\n",
        "    </tr>\n",
        "  </thead>\n",
        "  <tbody>\n",
        "    <tr>\n",
        "      <th>3 </th>\n",
        "      <td>  4</td>\n",
        "      <td>  1</td>\n",
        "    </tr>\n",
        "    <tr>\n",
        "      <th>4 </th>\n",
        "      <td>  7</td>\n",
        "      <td> 12</td>\n",
        "    </tr>\n",
        "    <tr>\n",
        "      <th>6 </th>\n",
        "      <td>  8</td>\n",
        "      <td> 13</td>\n",
        "    </tr>\n",
        "    <tr>\n",
        "      <th>10</th>\n",
        "      <td> 13</td>\n",
        "      <td>  4</td>\n",
        "    </tr>\n",
        "    <tr>\n",
        "      <th>11</th>\n",
        "      <td> 13</td>\n",
        "      <td>  5</td>\n",
        "    </tr>\n",
        "  </tbody>\n",
        "</table>\n",
        "</div>"
       ],
       "metadata": {},
       "output_type": "pyout",
       "prompt_number": 217,
       "text": [
        "   OCC1990 ACS05-09\n",
        "3        4        1\n",
        "4        7       12\n",
        "6        8       13\n",
        "10      13        4\n",
        "11      13        5"
       ]
      }
     ],
     "prompt_number": 217
    },
    {
     "cell_type": "code",
     "collapsed": false,
     "input": [
      "xwalk2009.columns = ['occ1990', 'ori2009']\n",
      "xwalk2009 = xwalk2009.applymap(lambda x: np.int64(x))\n",
      "xwalk2009.to_stata('xwalk2009.dta', write_index=False)\n",
      "xwalk2009.head()"
     ],
     "language": "python",
     "metadata": {},
     "outputs": [
      {
       "html": [
        "<div style=\"max-height:1000px;max-width:1500px;overflow:auto;\">\n",
        "<table border=\"1\" class=\"dataframe\">\n",
        "  <thead>\n",
        "    <tr style=\"text-align: right;\">\n",
        "      <th></th>\n",
        "      <th>occ1990</th>\n",
        "      <th>ori2009</th>\n",
        "    </tr>\n",
        "  </thead>\n",
        "  <tbody>\n",
        "    <tr>\n",
        "      <th>3 </th>\n",
        "      <td>  4</td>\n",
        "      <td>  1</td>\n",
        "    </tr>\n",
        "    <tr>\n",
        "      <th>4 </th>\n",
        "      <td>  7</td>\n",
        "      <td> 12</td>\n",
        "    </tr>\n",
        "    <tr>\n",
        "      <th>6 </th>\n",
        "      <td>  8</td>\n",
        "      <td> 13</td>\n",
        "    </tr>\n",
        "    <tr>\n",
        "      <th>10</th>\n",
        "      <td> 13</td>\n",
        "      <td>  4</td>\n",
        "    </tr>\n",
        "    <tr>\n",
        "      <th>11</th>\n",
        "      <td> 13</td>\n",
        "      <td>  5</td>\n",
        "    </tr>\n",
        "  </tbody>\n",
        "</table>\n",
        "</div>"
       ],
       "metadata": {},
       "output_type": "pyout",
       "prompt_number": 218,
       "text": [
        "    occ1990  ori2009\n",
        "3         4        1\n",
        "4         7       12\n",
        "6         8       13\n",
        "10       13        4\n",
        "11       13        5"
       ]
      }
     ],
     "prompt_number": 218
    },
    {
     "cell_type": "code",
     "collapsed": false,
     "input": [],
     "language": "python",
     "metadata": {},
     "outputs": []
    }
   ],
   "metadata": {}
  }
 ]
}