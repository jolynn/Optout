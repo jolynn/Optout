{
 "cells": [
  {
   "cell_type": "markdown",
   "metadata": {},
   "source": [
    "# OptOut Project: Construct 18-year-long employment sequences for Extended Sample"
   ]
  },
  {
   "cell_type": "code",
   "execution_count": 1,
   "metadata": {
    "collapsed": false
   },
   "outputs": [],
   "source": [
    "#setup\n",
    "%matplotlib inline\n",
    "import numpy as np\n",
    "import matplotlib.pyplot as plt\n",
    "import pandas as pd\n",
    "from collections import defaultdict\n",
    "from operator import itemgetter\n",
    "from datetime import datetime, timedelta\n",
    "\n",
    "# set some nicer defaults for matplotlib\n",
    "from matplotlib import rcParams\n",
    "\n",
    "rcParams['figure.figsize'] = (10, 6)\n",
    "rcParams['figure.dpi'] = 150\n",
    "rcParams['lines.linewidth'] = 2\n",
    "rcParams['axes.grid'] = False\n",
    "rcParams['axes.facecolor'] = 'white'\n",
    "rcParams['font.size'] = 14\n",
    "rcParams['patch.edgecolor'] = 'none'\n",
    "\n",
    "def remove_border(axes=None, top=False, right=False, left=True, bottom=True):\n",
    "    \"\"\"\n",
    "    Minimize chartjunk by stripping out unnecessary plot borders and axis ticks\n",
    "    \n",
    "    The top/right/left/bottom keywords toggle whether the corresponding plot border is drawn\n",
    "    \"\"\"\n",
    "    ax = axes or plt.gca()\n",
    "    ax.spines['top'].set_visible(top)\n",
    "    ax.spines['right'].set_visible(right)\n",
    "    ax.spines['left'].set_visible(left)\n",
    "    ax.spines['bottom'].set_visible(bottom)\n",
    "    \n",
    "    #turn off all ticks\n",
    "    ax.yaxis.set_ticks_position('none')\n",
    "    ax.xaxis.set_ticks_position('none')\n",
    "    \n",
    "    #now re-enable visibles\n",
    "    if top:\n",
    "        ax.xaxis.tick_top()\n",
    "    if bottom:\n",
    "        ax.xaxis.tick_bottom()\n",
    "    if left:\n",
    "        ax.yaxis.tick_left()\n",
    "    if right:\n",
    "        ax.yaxis.tick_right()"
   ]
  },
  {
   "cell_type": "markdown",
   "metadata": {},
   "source": [
    "## Week-to-week crosswalk\n",
    "\n",
    "Create two functions to convert between week number and calendar year and month"
   ]
  },
  {
   "cell_type": "code",
   "execution_count": 2,
   "metadata": {
    "collapsed": false
   },
   "outputs": [
    {
     "data": {
      "text/html": [
       "<div>\n",
       "<table border=\"1\" class=\"dataframe\">\n",
       "  <thead>\n",
       "    <tr style=\"text-align: right;\">\n",
       "      <th></th>\n",
       "      <th>Week Start:\n",
       "Month</th>\n",
       "      <th>Week Start: \n",
       "Day</th>\n",
       "      <th>Week Start: \n",
       "Year</th>\n",
       "      <th>Calendar Year \n",
       "Week Number</th>\n",
       "      <th>Continuous \n",
       "Week Number</th>\n",
       "    </tr>\n",
       "  </thead>\n",
       "  <tbody>\n",
       "    <tr>\n",
       "      <th>0</th>\n",
       "      <td>1</td>\n",
       "      <td>1</td>\n",
       "      <td>1978</td>\n",
       "      <td>1</td>\n",
       "      <td>1</td>\n",
       "    </tr>\n",
       "    <tr>\n",
       "      <th>1</th>\n",
       "      <td>1</td>\n",
       "      <td>8</td>\n",
       "      <td>1978</td>\n",
       "      <td>2</td>\n",
       "      <td>2</td>\n",
       "    </tr>\n",
       "    <tr>\n",
       "      <th>2</th>\n",
       "      <td>1</td>\n",
       "      <td>15</td>\n",
       "      <td>1978</td>\n",
       "      <td>3</td>\n",
       "      <td>3</td>\n",
       "    </tr>\n",
       "    <tr>\n",
       "      <th>3</th>\n",
       "      <td>1</td>\n",
       "      <td>22</td>\n",
       "      <td>1978</td>\n",
       "      <td>4</td>\n",
       "      <td>4</td>\n",
       "    </tr>\n",
       "    <tr>\n",
       "      <th>4</th>\n",
       "      <td>1</td>\n",
       "      <td>29</td>\n",
       "      <td>1978</td>\n",
       "      <td>5</td>\n",
       "      <td>5</td>\n",
       "    </tr>\n",
       "  </tbody>\n",
       "</table>\n",
       "</div>"
      ],
      "text/plain": [
       "   Week Start:\\nMonth  Week Start: \\nDay  Week Start: \\nYear  \\\n",
       "0                   1                  1                1978   \n",
       "1                   1                  8                1978   \n",
       "2                   1                 15                1978   \n",
       "3                   1                 22                1978   \n",
       "4                   1                 29                1978   \n",
       "\n",
       "   Calendar Year \\nWeek Number   Continuous \\nWeek Number  \n",
       "0                             1                         1  \n",
       "1                             2                         2  \n",
       "2                             3                         3  \n",
       "3                             4                         4  \n",
       "4                             5                         5  "
      ]
     },
     "execution_count": 2,
     "metadata": {},
     "output_type": "execute_result"
    }
   ],
   "source": [
    "#this is the file to switch between week number in NLSY79 and calendar year, month, and day\n",
    "xl_file = pd.ExcelFile('../data/continuous_week_crosswalk_r26.xlsx') \n",
    "weekdf = xl_file.parse('weekdates1')\n",
    "weekdf.head()"
   ]
  },
  {
   "cell_type": "code",
   "execution_count": 3,
   "metadata": {
    "collapsed": false
   },
   "outputs": [],
   "source": [
    "def get_week_num(year, month, which, df=weekdf):\n",
    "    \"\"\"\n",
    "    Given a calendar year and month, return the corresponding week number in NLSY79.\n",
    "    \n",
    "    If which=='first', return the first week in that month.\n",
    "    If which=='last', return the last week in that month. \n",
    "    \"\"\"\n",
    "    \n",
    "    the_month = df[(df['Week Start:\\nMonth']==month)&(df['Week Start: \\nYear']==year)]\n",
    "    \n",
    "    if which == 'first':\n",
    "        return int(the_month.iloc[0]['Continuous \\nWeek Number'])\n",
    "    elif which == 'last':\n",
    "        return int(the_month.iloc[len(the_month)-1]['Continuous \\nWeek Number'])\n",
    "\n",
    "    \n",
    "def get_year_month(weeknum, df=weekdf):\n",
    "    \"\"\"\n",
    "    Given a week number, return the corresponding calendar month and year (yyyy, m).\n",
    "    \"\"\"\n",
    "    \n",
    "    the_week = df[df['Continuous \\nWeek Number']==weeknum]\n",
    "    return int(the_week.iloc[0]['Week Start: \\nYear']), int(the_week.iloc[0]['Week Start:\\nMonth'])"
   ]
  },
  {
   "cell_type": "markdown",
   "metadata": {},
   "source": [
    "## Retrieve Extended Sample"
   ]
  },
  {
   "cell_type": "code",
   "execution_count": 4,
   "metadata": {
    "collapsed": false
   },
   "outputs": [
    {
     "name": "stdout",
     "output_type": "stream",
     "text": [
      "(3465, 101)\n"
     ]
    },
    {
     "data": {
      "text/html": [
       "<div>\n",
       "<table border=\"1\" class=\"dataframe\">\n",
       "  <thead>\n",
       "    <tr style=\"text-align: right;\">\n",
       "      <th></th>\n",
       "      <th>caseid_1979</th>\n",
       "      <th>sample_id_1979</th>\n",
       "      <th>sample_race_1979</th>\n",
       "      <th>sample_sex_1979</th>\n",
       "      <th>c1dob_m_xrnd</th>\n",
       "      <th>c1dob_y_xrnd</th>\n",
       "      <th>c2dob_m_xrnd</th>\n",
       "      <th>c2dob_y_xrnd</th>\n",
       "      <th>c3dob_m_xrnd</th>\n",
       "      <th>c3dob_y_xrnd</th>\n",
       "      <th>...</th>\n",
       "      <th>date_y_2014</th>\n",
       "      <th>y_deceased</th>\n",
       "      <th>last_yr</th>\n",
       "      <th>attr_before35</th>\n",
       "      <th>attr_before35_prev</th>\n",
       "      <th>deceased_before35</th>\n",
       "      <th>y_child18</th>\n",
       "      <th>deceased_child18</th>\n",
       "      <th>deceased_child14</th>\n",
       "      <th>attr_child18</th>\n",
       "    </tr>\n",
       "  </thead>\n",
       "  <tbody>\n",
       "    <tr>\n",
       "      <th>0</th>\n",
       "      <td>2</td>\n",
       "      <td>5</td>\n",
       "      <td>3</td>\n",
       "      <td>2</td>\n",
       "      <td>3</td>\n",
       "      <td>1993</td>\n",
       "      <td>11</td>\n",
       "      <td>1994</td>\n",
       "      <td>-4</td>\n",
       "      <td>-4</td>\n",
       "      <td>...</td>\n",
       "      <td>2014</td>\n",
       "      <td>NaN</td>\n",
       "      <td>2014</td>\n",
       "      <td>False</td>\n",
       "      <td>False</td>\n",
       "      <td>False</td>\n",
       "      <td>2011</td>\n",
       "      <td>False</td>\n",
       "      <td>False</td>\n",
       "      <td>False</td>\n",
       "    </tr>\n",
       "    <tr>\n",
       "      <th>1</th>\n",
       "      <td>3</td>\n",
       "      <td>5</td>\n",
       "      <td>3</td>\n",
       "      <td>2</td>\n",
       "      <td>6</td>\n",
       "      <td>1981</td>\n",
       "      <td>10</td>\n",
       "      <td>1983</td>\n",
       "      <td>4</td>\n",
       "      <td>1986</td>\n",
       "      <td>...</td>\n",
       "      <td>2015</td>\n",
       "      <td>NaN</td>\n",
       "      <td>2014</td>\n",
       "      <td>False</td>\n",
       "      <td>False</td>\n",
       "      <td>False</td>\n",
       "      <td>1999</td>\n",
       "      <td>False</td>\n",
       "      <td>False</td>\n",
       "      <td>False</td>\n",
       "    </tr>\n",
       "    <tr>\n",
       "      <th>2</th>\n",
       "      <td>8</td>\n",
       "      <td>6</td>\n",
       "      <td>3</td>\n",
       "      <td>2</td>\n",
       "      <td>3</td>\n",
       "      <td>1976</td>\n",
       "      <td>5</td>\n",
       "      <td>1979</td>\n",
       "      <td>9</td>\n",
       "      <td>1982</td>\n",
       "      <td>...</td>\n",
       "      <td>2015</td>\n",
       "      <td>NaN</td>\n",
       "      <td>2014</td>\n",
       "      <td>False</td>\n",
       "      <td>False</td>\n",
       "      <td>False</td>\n",
       "      <td>1994</td>\n",
       "      <td>False</td>\n",
       "      <td>False</td>\n",
       "      <td>False</td>\n",
       "    </tr>\n",
       "    <tr>\n",
       "      <th>3</th>\n",
       "      <td>16</td>\n",
       "      <td>5</td>\n",
       "      <td>3</td>\n",
       "      <td>2</td>\n",
       "      <td>2</td>\n",
       "      <td>1990</td>\n",
       "      <td>8</td>\n",
       "      <td>1993</td>\n",
       "      <td>9</td>\n",
       "      <td>1996</td>\n",
       "      <td>...</td>\n",
       "      <td>2015</td>\n",
       "      <td>NaN</td>\n",
       "      <td>2014</td>\n",
       "      <td>False</td>\n",
       "      <td>False</td>\n",
       "      <td>False</td>\n",
       "      <td>2008</td>\n",
       "      <td>False</td>\n",
       "      <td>False</td>\n",
       "      <td>False</td>\n",
       "    </tr>\n",
       "    <tr>\n",
       "      <th>4</th>\n",
       "      <td>19</td>\n",
       "      <td>5</td>\n",
       "      <td>3</td>\n",
       "      <td>2</td>\n",
       "      <td>11</td>\n",
       "      <td>1987</td>\n",
       "      <td>-4</td>\n",
       "      <td>-4</td>\n",
       "      <td>-4</td>\n",
       "      <td>-4</td>\n",
       "      <td>...</td>\n",
       "      <td>-5</td>\n",
       "      <td>NaN</td>\n",
       "      <td>2010</td>\n",
       "      <td>False</td>\n",
       "      <td>False</td>\n",
       "      <td>False</td>\n",
       "      <td>2005</td>\n",
       "      <td>False</td>\n",
       "      <td>False</td>\n",
       "      <td>False</td>\n",
       "    </tr>\n",
       "  </tbody>\n",
       "</table>\n",
       "<p>5 rows × 101 columns</p>\n",
       "</div>"
      ],
      "text/plain": [
       "   caseid_1979  sample_id_1979  sample_race_1979  sample_sex_1979  \\\n",
       "0            2               5                 3                2   \n",
       "1            3               5                 3                2   \n",
       "2            8               6                 3                2   \n",
       "3           16               5                 3                2   \n",
       "4           19               5                 3                2   \n",
       "\n",
       "   c1dob_m_xrnd  c1dob_y_xrnd  c2dob_m_xrnd  c2dob_y_xrnd  c3dob_m_xrnd  \\\n",
       "0             3          1993            11          1994            -4   \n",
       "1             6          1981            10          1983             4   \n",
       "2             3          1976             5          1979             9   \n",
       "3             2          1990             8          1993             9   \n",
       "4            11          1987            -4            -4            -4   \n",
       "\n",
       "   c3dob_y_xrnd      ...       date_y_2014  y_deceased  last_yr  \\\n",
       "0            -4      ...              2014         NaN     2014   \n",
       "1          1986      ...              2015         NaN     2014   \n",
       "2          1982      ...              2015         NaN     2014   \n",
       "3          1996      ...              2015         NaN     2014   \n",
       "4            -4      ...                -5         NaN     2010   \n",
       "\n",
       "   attr_before35  attr_before35_prev  deceased_before35  y_child18  \\\n",
       "0          False               False              False       2011   \n",
       "1          False               False              False       1999   \n",
       "2          False               False              False       1994   \n",
       "3          False               False              False       2008   \n",
       "4          False               False              False       2005   \n",
       "\n",
       "   deceased_child18  deceased_child14  attr_child18  \n",
       "0             False             False         False  \n",
       "1             False             False         False  \n",
       "2             False             False         False  \n",
       "3             False             False         False  \n",
       "4             False             False         False  \n",
       "\n",
       "[5 rows x 101 columns]"
      ]
     },
     "execution_count": 4,
     "metadata": {},
     "output_type": "execute_result"
    }
   ],
   "source": [
    "analytic_df = pd.read_csv('../data/analytic_df.csv') #includes fertility data\n",
    "print analytic_df.shape\n",
    "analytic_df.head()"
   ]
  },
  {
   "cell_type": "markdown",
   "metadata": {},
   "source": [
    "## Read weekly arrays and within-job gap dates"
   ]
  },
  {
   "cell_type": "code",
   "execution_count": 5,
   "metadata": {
    "collapsed": false
   },
   "outputs": [
    {
     "name": "stdout",
     "output_type": "stream",
     "text": [
      "(12686, 3969)\n",
      "Index([u'caseid_1979', u'hrs_worked_wk_num0000_xrnd',\n",
      "       u'hrs_worked_wk_num0001_xrnd', u'hrs_worked_wk_num0002_xrnd',\n",
      "       u'hrs_worked_wk_num0003_xrnd', u'hrs_worked_wk_num0004_xrnd',\n",
      "       u'hrs_worked_wk_num0005_xrnd', u'hrs_worked_wk_num0006_xrnd',\n",
      "       u'hrs_worked_wk_num0007_xrnd', u'hrs_worked_wk_num0008_xrnd',\n",
      "       u'hrs_worked_wk_num0009_xrnd', u'hrs_worked_wk_num0010_xrnd',\n",
      "       u'hrs_worked_wk_num0011_xrnd', u'hrs_worked_wk_num0012_xrnd',\n",
      "       u'hrs_worked_wk_num0013_xrnd', u'hrs_worked_wk_num0014_xrnd',\n",
      "       u'hrs_worked_wk_num0015_xrnd', u'hrs_worked_wk_num0016_xrnd',\n",
      "       u'hrs_worked_wk_num0017_xrnd', u'hrs_worked_wk_num0018_xrnd'],\n",
      "      dtype='object')\n"
     ]
    }
   ],
   "source": [
    "#read weekly array data\n",
    "wkarray_df = pd.read_csv('../data/weeklyarrays.csv')\n",
    "print wkarray_df.shape\n",
    "print wkarray_df.columns[:20]"
   ]
  },
  {
   "cell_type": "code",
   "execution_count": 6,
   "metadata": {
    "collapsed": false
   },
   "outputs": [
    {
     "name": "stdout",
     "output_type": "stream",
     "text": [
      "(12686, 839)\n",
      "Index([u'caseid_1979', u'per1_start_1979_job01_xrnd',\n",
      "       u'per1_start_1979_job02_xrnd', u'per1_start_1979_job03_xrnd',\n",
      "       u'per1_start_1979_job04_xrnd', u'per1_start_1979_job05_xrnd',\n",
      "       u'per1_stop_1979_job01_xrnd', u'per1_stop_1979_job02_xrnd',\n",
      "       u'per1_stop_1979_job03_xrnd', u'per1_stop_1979_job04_xrnd',\n",
      "       u'per1_stop_1979_job05_xrnd', u'per2_start_1979_job01_xrnd',\n",
      "       u'per2_start_1979_job02_xrnd', u'per2_start_1979_job03_xrnd',\n",
      "       u'per2_start_1979_job04_xrnd', u'per2_start_1979_job05_xrnd',\n",
      "       u'per2_stop_1979_job01_xrnd', u'per2_stop_1979_job02_xrnd',\n",
      "       u'per2_stop_1979_job03_xrnd', u'per2_stop_1979_job04_xrnd'],\n",
      "      dtype='object')\n"
     ]
    }
   ],
   "source": [
    "#read within-job-gap data\n",
    "gap_df = pd.read_csv(\"../data/withingaps.csv\")\n",
    "print gap_df.shape\n",
    "print gap_df.columns[:20]"
   ]
  },
  {
   "cell_type": "markdown",
   "metadata": {
    "collapsed": false
   },
   "source": [
    "## Estimate hours worked by age (not part of main analysis)"
   ]
  },
  {
   "cell_type": "code",
   "execution_count": 7,
   "metadata": {
    "collapsed": false
   },
   "outputs": [
    {
     "data": {
      "text/plain": [
       "16    483\n",
       "17    479\n",
       "18    460\n",
       "19    442\n",
       "15    437\n",
       "21    420\n",
       "20    401\n",
       "14    343\n",
       "Name: y_dob, dtype: int64"
      ]
     },
     "execution_count": 7,
     "metadata": {},
     "output_type": "execute_result"
    }
   ],
   "source": [
    "# (rough) age in 1978\n",
    "age = 1978 - analytic_df.y_dob\n",
    "age.value_counts()"
   ]
  },
  {
   "cell_type": "code",
   "execution_count": 8,
   "metadata": {
    "collapsed": false
   },
   "outputs": [
    {
     "data": {
      "text/plain": [
       "52    483\n",
       "53    479\n",
       "54    460\n",
       "55    442\n",
       "51    437\n",
       "57    420\n",
       "56    401\n",
       "50    343\n",
       "Name: y_dob, dtype: int64"
      ]
     },
     "execution_count": 8,
     "metadata": {},
     "output_type": "execute_result"
    }
   ],
   "source": [
    "max_age = 2014 - analytic_df.y_dob\n",
    "max_age.value_counts()"
   ]
  },
  {
   "cell_type": "code",
   "execution_count": 9,
   "metadata": {
    "collapsed": true
   },
   "outputs": [],
   "source": [
    "analytic_df['age'] = 1978 - analytic_df.y_dob"
   ]
  },
  {
   "cell_type": "code",
   "execution_count": 10,
   "metadata": {
    "collapsed": false
   },
   "outputs": [],
   "source": [
    "# estimate yearly total hours worked by age\n",
    "d = defaultdict(list)\n",
    "\n",
    "for i, row in analytic_df.iterrows():\n",
    "    \n",
    "    hours_row = wkarray_df[wkarray_df.caseid_1979==row['caseid_1979']].iloc[0]\n",
    "    \n",
    "    y = 1978\n",
    "    \n",
    "    for j in range(row['age'], 30): # iterate through first available age to age 29\n",
    "        start = get_week_num(y, 1, 'first')\n",
    "        end = get_week_num(y, 12, 'last')\n",
    "        \n",
    "        hours = [hours_row['hrs_worked_wk_num%04d_xrnd'%week_num] for week_num in range(start, end+1) \n",
    "                 if hours_row['hrs_worked_wk_num%04d_xrnd'%week_num]>=0]\n",
    "        \n",
    "        d[j].append(sum(hours))\n",
    "        \n",
    "        y += 1"
   ]
  },
  {
   "cell_type": "code",
   "execution_count": 23,
   "metadata": {
    "collapsed": false
   },
   "outputs": [
    {
     "data": {
      "text/plain": [
       "<matplotlib.collections.PathCollection at 0x10a960e50>"
      ]
     },
     "execution_count": 23,
     "metadata": {},
     "output_type": "execute_result"
    },
    {
     "data": {
      "image/png": "[encoded data removed]",
      "text/plain": [
       "<matplotlib.figure.Figure at 0x10a8ff6d0>"
      ]
     },
     "metadata": {},
     "output_type": "display_data"
    }
   ],
   "source": [
    "age = range(14, 30)\n",
    "mean_hours = [np.mean(d[k]) for k in age]\n",
    "plt.scatter(age, mean_hours)\n",
    "remove_border()"
   ]
  },
  {
   "cell_type": "code",
   "execution_count": 25,
   "metadata": {
    "collapsed": false
   },
   "outputs": [
    {
     "data": {
      "text/plain": [
       "<matplotlib.collections.PathCollection at 0x10a8daa10>"
      ]
     },
     "execution_count": 25,
     "metadata": {},
     "output_type": "execute_result"
    },
    {
     "data": {
      "image/png": "[encoded data removed]",
      "text/plain": [
       "<matplotlib.figure.Figure at 0x10a960dd0>"
      ]
     },
     "metadata": {},
     "output_type": "display_data"
    }
   ],
   "source": [
    "# plot all observations\n",
    "age = []\n",
    "hours = []\n",
    "\n",
    "for (k, l) in d.items():\n",
    "    for v in l:\n",
    "        age.append(k)\n",
    "        hours.append(v)\n",
    "    \n",
    "tmp_df = pd.DataFrame({'age':age, 'hours':hours})\n",
    "    \n",
    "plt.scatter(tmp_df.age, tmp_df.hours, alpha=0.01)"
   ]
  },
  {
   "cell_type": "markdown",
   "metadata": {},
   "source": [
    "## Identify maternity leaves\n",
    "\n",
    "Maternity leave could cover the birth, start after the birth, or end before the birth. \n",
    "\n",
    "Let's assume any within-job gap that start or end within 4 months (16 weeks) of birth as maternity leave (there are relatively fewer maternity gaps that finished within 16 weeks before birth, so do not consider within-job gaps that ended within 16 weeks before birth as maternity leave)."
   ]
  },
  {
   "cell_type": "code",
   "execution_count": 8,
   "metadata": {
    "collapsed": false
   },
   "outputs": [
    {
     "data": {
      "text/plain": [
       "Index([u'caseid_1979', u'sample_id_1979', u'sample_race_1979',\n",
       "       u'sample_sex_1979', u'c1dob_m_xrnd', u'c1dob_y_xrnd', u'c2dob_m_xrnd',\n",
       "       u'c2dob_y_xrnd', u'c3dob_m_xrnd', u'c3dob_y_xrnd',\n",
       "       ...\n",
       "       u'per3_start_2014_job03_xrnd', u'per3_start_2014_job04_xrnd',\n",
       "       u'per3_stop_2014_job01_xrnd', u'per3_stop_2014_job02_xrnd',\n",
       "       u'per3_stop_2014_job03_xrnd', u'per3_stop_2014_job04_xrnd',\n",
       "       u'per4_start_2014_job01_xrnd', u'per4_start_2014_job02_xrnd',\n",
       "       u'per4_stop_2014_job01_xrnd', u'per4_stop_2014_job02_xrnd'],\n",
       "      dtype='object', length=939)"
      ]
     },
     "execution_count": 8,
     "metadata": {},
     "output_type": "execute_result"
    }
   ],
   "source": [
    "merged = analytic_df.merge(gap_df, on='caseid_1979') # merge datasets\n",
    "merged.columns"
   ]
  },
  {
   "cell_type": "markdown",
   "metadata": {},
   "source": [
    "### Write a function to retrieve all valid job gap start and end weeks"
   ]
  },
  {
   "cell_type": "code",
   "execution_count": 9,
   "metadata": {
    "collapsed": false,
    "scrolled": true
   },
   "outputs": [],
   "source": [
    "missing_data = defaultdict(list) # store missing information to turn into a dataframe later\n",
    "\n",
    "def get_gaps(row, d=missing_data):\n",
    "    \"\"\"\n",
    "    Given a row of respondent data, \n",
    "    Return a list of tuples (start week, end week) of work gaps for respondent i\n",
    "    \"\"\"\n",
    "    \n",
    "    gaps = [] # record the valid data, so that we can calculate pct missing\n",
    "    \n",
    "    years = range(1979, 1995)+range(1996, 2015, 2)\n",
    "    \n",
    "    #look for within-job gaps in all years. sometimes the gaps were recorded in later years\n",
    "    for y in years: \n",
    "        for j in range(1, 5): #4 possible gap periods\n",
    "            for k in range(1, 6): #5 possible jobs\n",
    "                try: \n",
    "                    gap_start = row['per%s_start_%s_job0%s_xrnd'%(j, y, k)]\n",
    "                    gap_stop = row['per%s_stop_%s_job0%s_xrnd'%(j, y, k)]\n",
    "                    \n",
    "                    if gap_start >= 0 and gap_stop >= 0: # valid, no missing\n",
    "                        gaps.append((gap_start, gap_stop))\n",
    "                    elif gap_start == -4 and gap_stop == -4: # valid skip\n",
    "                        pass \n",
    "                    else:\n",
    "                        # record information for missing gaps\n",
    "                        missing_data['caseid_1979'].append(row['caseid_1979'])\n",
    "                        missing_data['start_col'].append('per%s_start_%s_job0%s_xrnd'%(j, y, k))\n",
    "                        missing_data['start'].append(gap_start) \n",
    "                        \n",
    "                        # if only end date is missing, start date is valid, convert start date to year/month\n",
    "                        start_y = None\n",
    "                        start_m = None\n",
    "                        if gap_start > 0 and gap_start <= 1879: # crosswalk only goes up to 2013\n",
    "                            start_y, start_m = get_year_month(gap_start)\n",
    "                        missing_data['start_y'].append(start_y)\n",
    "                        missing_data['start_m'].append(start_m)\n",
    "\n",
    "                        missing_data['end_col'].append('per%s_stop_%s_job0%s_xrnd'%(j, y, k))\n",
    "                        missing_data['end'].append(gap_stop)\n",
    "                        \n",
    "                        # if only start date is missing, end date is valid, convert end date to year/month\n",
    "                        end_y = None\n",
    "                        end_m = None\n",
    "                        if gap_stop > 0 and gap_stop <= 1879:\n",
    "                            end_y, end_m = get_year_month(gap_stop)\n",
    "                        missing_data['end_y'].append(end_y)\n",
    "                        missing_data['end_m'].append(end_m)\n",
    "\n",
    "                        #print 'missing data - id:', row['caseid_1979'], 'year:', y, 'gap #:', j, 'job #:', k, 'weeks: ', (gap_start, gap_stop)\n",
    "                        \n",
    "                except KeyError: # some years do not report 5 jobs\n",
    "                    pass\n",
    "                \n",
    "    return gaps\n",
    "\n",
    "\n",
    "gaps = merged.apply(get_gaps, axis=1)"
   ]
  },
  {
   "cell_type": "code",
   "execution_count": 10,
   "metadata": {
    "collapsed": false
   },
   "outputs": [
    {
     "name": "stdout",
     "output_type": "stream",
     "text": [
      "(306, 9)\n"
     ]
    },
    {
     "data": {
      "text/html": [
       "<div>\n",
       "<table border=\"1\" class=\"dataframe\">\n",
       "  <thead>\n",
       "    <tr style=\"text-align: right;\">\n",
       "      <th></th>\n",
       "      <th>caseid_1979</th>\n",
       "      <th>start_col</th>\n",
       "      <th>start</th>\n",
       "      <th>start_y</th>\n",
       "      <th>start_m</th>\n",
       "      <th>end_col</th>\n",
       "      <th>end</th>\n",
       "      <th>end_y</th>\n",
       "      <th>end_m</th>\n",
       "    </tr>\n",
       "  </thead>\n",
       "  <tbody>\n",
       "    <tr>\n",
       "      <th>0</th>\n",
       "      <td>3</td>\n",
       "      <td>per1_start_1987_job02_xrnd</td>\n",
       "      <td>-3</td>\n",
       "      <td>NaN</td>\n",
       "      <td>NaN</td>\n",
       "      <td>per1_stop_1987_job02_xrnd</td>\n",
       "      <td>-3</td>\n",
       "      <td>NaN</td>\n",
       "      <td>NaN</td>\n",
       "    </tr>\n",
       "    <tr>\n",
       "      <th>1</th>\n",
       "      <td>92</td>\n",
       "      <td>per2_start_1992_job01_xrnd</td>\n",
       "      <td>750</td>\n",
       "      <td>1992.0</td>\n",
       "      <td>5.0</td>\n",
       "      <td>per2_stop_1992_job01_xrnd</td>\n",
       "      <td>-3</td>\n",
       "      <td>NaN</td>\n",
       "      <td>NaN</td>\n",
       "    </tr>\n",
       "    <tr>\n",
       "      <th>2</th>\n",
       "      <td>165</td>\n",
       "      <td>per2_start_1992_job01_xrnd</td>\n",
       "      <td>752</td>\n",
       "      <td>1992.0</td>\n",
       "      <td>5.0</td>\n",
       "      <td>per2_stop_1992_job01_xrnd</td>\n",
       "      <td>-3</td>\n",
       "      <td>NaN</td>\n",
       "      <td>NaN</td>\n",
       "    </tr>\n",
       "    <tr>\n",
       "      <th>3</th>\n",
       "      <td>340</td>\n",
       "      <td>per3_start_2006_job01_xrnd</td>\n",
       "      <td>1513</td>\n",
       "      <td>2006.0</td>\n",
       "      <td>12.0</td>\n",
       "      <td>per3_stop_2006_job01_xrnd</td>\n",
       "      <td>-2</td>\n",
       "      <td>NaN</td>\n",
       "      <td>NaN</td>\n",
       "    </tr>\n",
       "    <tr>\n",
       "      <th>4</th>\n",
       "      <td>395</td>\n",
       "      <td>per1_start_1988_job02_xrnd</td>\n",
       "      <td>-3</td>\n",
       "      <td>NaN</td>\n",
       "      <td>NaN</td>\n",
       "      <td>per1_stop_1988_job02_xrnd</td>\n",
       "      <td>-3</td>\n",
       "      <td>NaN</td>\n",
       "      <td>NaN</td>\n",
       "    </tr>\n",
       "  </tbody>\n",
       "</table>\n",
       "</div>"
      ],
      "text/plain": [
       "   caseid_1979                   start_col  start  start_y  start_m  \\\n",
       "0            3  per1_start_1987_job02_xrnd     -3      NaN      NaN   \n",
       "1           92  per2_start_1992_job01_xrnd    750   1992.0      5.0   \n",
       "2          165  per2_start_1992_job01_xrnd    752   1992.0      5.0   \n",
       "3          340  per3_start_2006_job01_xrnd   1513   2006.0     12.0   \n",
       "4          395  per1_start_1988_job02_xrnd     -3      NaN      NaN   \n",
       "\n",
       "                     end_col  end  end_y  end_m  \n",
       "0  per1_stop_1987_job02_xrnd   -3    NaN    NaN  \n",
       "1  per2_stop_1992_job01_xrnd   -3    NaN    NaN  \n",
       "2  per2_stop_1992_job01_xrnd   -3    NaN    NaN  \n",
       "3  per3_stop_2006_job01_xrnd   -2    NaN    NaN  \n",
       "4  per1_stop_1988_job02_xrnd   -3    NaN    NaN  "
      ]
     },
     "execution_count": 10,
     "metadata": {},
     "output_type": "execute_result"
    }
   ],
   "source": [
    "# convert missing data into dataframe\n",
    "miss_df = pd.DataFrame(missing_data, columns=['caseid_1979', 'start_col', 'start', 'start_y', 'start_m', 'end_col', 'end', 'end_y', 'end_m'])\n",
    "print miss_df.shape\n",
    "miss_df.head()"
   ]
  },
  {
   "cell_type": "code",
   "execution_count": 11,
   "metadata": {
    "collapsed": false
   },
   "outputs": [
    {
     "name": "stdout",
     "output_type": "stream",
     "text": [
      "(306, 109)\n"
     ]
    }
   ],
   "source": [
    "# merge with childbirth dates, and keep only respondents who are in our sample\n",
    "miss_df = miss_df.merge(analytic_df, on='caseid_1979', how='left')\n",
    "print miss_df.shape"
   ]
  },
  {
   "cell_type": "code",
   "execution_count": 12,
   "metadata": {
    "collapsed": false
   },
   "outputs": [
    {
     "data": {
      "text/plain": [
       "228"
      ]
     },
     "execution_count": 12,
     "metadata": {},
     "output_type": "execute_result"
    }
   ],
   "source": [
    "# how many unique respondents have missing gap start/end dates?\n",
    "len(miss_df.caseid_1979.unique())"
   ]
  },
  {
   "cell_type": "code",
   "execution_count": 13,
   "metadata": {
    "collapsed": false
   },
   "outputs": [
    {
     "name": "stdout",
     "output_type": "stream",
     "text": [
      "only start missing : 7\n",
      "both missing : 168\n",
      "only end missing : 131\n"
     ]
    }
   ],
   "source": [
    "# what types of missing do we have? \n",
    "# both start and end missing? or only start or only end missing?\n",
    "\n",
    "counts = defaultdict(list)\n",
    "\n",
    "for i, row in miss_df.iterrows():\n",
    "    \n",
    "    if row['end'] < 0 and row['start'] < 0:\n",
    "        counts['both missing'].append(i)\n",
    "    elif row['end'] < 0 and row['start'] >= 0:\n",
    "        counts['only end missing'].append(i)\n",
    "    elif row['end'] >= 0 and row['start'] < 0:\n",
    "        counts['only start missing'].append(i)\n",
    "    else:\n",
    "        print 'uncaptured:', row['start'], row['end']\n",
    "        \n",
    "\n",
    "for k, v in counts.items():\n",
    "    print k, ':', len(v)"
   ]
  },
  {
   "cell_type": "code",
   "execution_count": 14,
   "metadata": {
    "collapsed": false
   },
   "outputs": [
    {
     "name": "stdout",
     "output_type": "stream",
     "text": [
      "306 16557 0.0184816089871\n"
     ]
    }
   ],
   "source": [
    "### calculate pct missing\n",
    "\n",
    "# total number of missing gaps / total number of gaps\n",
    "total_missing = miss_df.shape[0]\n",
    "total = sum(gaps.map(lambda x: len(x))) + total_missing\n",
    "print total_missing, total, float(total_missing)/total"
   ]
  },
  {
   "cell_type": "code",
   "execution_count": 15,
   "metadata": {
    "collapsed": false
   },
   "outputs": [
    {
     "name": "stdout",
     "output_type": "stream",
     "text": [
      "228 3465 0.0658008658009\n"
     ]
    }
   ],
   "source": [
    "# total number of respondents with missing / total number of respondents\n",
    "total_missing = len(miss_df.caseid_1979.unique())\n",
    "total = analytic_df.shape[0]\n",
    "print total_missing, total, float(total_missing)/total"
   ]
  },
  {
   "cell_type": "markdown",
   "metadata": {},
   "source": [
    "We only include within-job gaps when we have both valid start and end dates. The share of gaps with missing dates among all gaps is 2%. The share of respondents with missing gaps among all respondents is 7%. "
   ]
  },
  {
   "cell_type": "markdown",
   "metadata": {},
   "source": [
    "### When did respondent 8511's gaps happen? \n",
    "\n",
    "She had month missing for her 4th birth in 2001. None of her gap happened in that year. In fact, she never had any leaves around childbirth."
   ]
  },
  {
   "cell_type": "code",
   "execution_count": 29,
   "metadata": {
    "collapsed": false
   },
   "outputs": [
    {
     "data": {
      "text/plain": [
       "[(104, 106), (1856, 1856), (1878, 1879), (1908, 1908), (1930, 1931)]"
      ]
     },
     "execution_count": 29,
     "metadata": {},
     "output_type": "execute_result"
    }
   ],
   "source": [
    "# check respondent caseid 8511\n",
    "row = merged[merged.caseid_1979==8511].iloc[0]\n",
    "get_gaps(row)"
   ]
  },
  {
   "cell_type": "code",
   "execution_count": 30,
   "metadata": {
    "collapsed": false
   },
   "outputs": [
    {
     "data": {
      "text/plain": [
       "((1979, 12), (1980, 1), (2013, 7))"
      ]
     },
     "execution_count": 30,
     "metadata": {},
     "output_type": "execute_result"
    }
   ],
   "source": [
    "# convert week number to calendar year & month\n",
    "get_year_month(104), get_year_month(106), get_year_month(1856)"
   ]
  },
  {
   "cell_type": "code",
   "execution_count": 31,
   "metadata": {
    "collapsed": false
   },
   "outputs": [
    {
     "name": "stdout",
     "output_type": "stream",
     "text": [
      "caseid_1979            8511\n",
      "sample_id_1979           13\n",
      "sample_race_1979          2\n",
      "sample_sex_1979           2\n",
      "c1dob_m_xrnd              3\n",
      "c1dob_y_xrnd           1990\n",
      "c2dob_m_xrnd             11\n",
      "c2dob_y_xrnd           1994\n",
      "c3dob_m_xrnd              7\n",
      "c3dob_y_xrnd           1998\n",
      "c4dob_m_xrnd             -1\n",
      "c4dob_y_xrnd           2001\n",
      "c5dob_m_xrnd             -4\n",
      "c5dob_y_xrnd             -4\n",
      "c6dob_m_xrnd             -4\n",
      "c6dob_y_xrnd             -4\n",
      "c7dob_m_xrnd             -4\n",
      "c7dob_y_xrnd             -4\n",
      "c8dob_m_xrnd             -4\n",
      "c8dob_y_xrnd             -4\n",
      "c9dob_m_xrnd             -4\n",
      "c9dob_y_xrnd             -4\n",
      "c10dob_m_xrnd            -4\n",
      "c10dob_y_xrnd            -4\n",
      "c11dob_m_xrnd            -4\n",
      "c11dob_y_xrnd            -4\n",
      "y_dob                  1962\n",
      "m_dob                     1\n",
      "date_m_1979               2\n",
      "date_d_1979              14\n",
      "                      ...  \n",
      "date_d_2002              -5\n",
      "date_m_2002              -5\n",
      "date_y_2002              -5\n",
      "date_d_2004              28\n",
      "date_m_2004               9\n",
      "date_y_2004            2004\n",
      "date_d_2006              -5\n",
      "date_m_2006              -5\n",
      "date_y_2006              -5\n",
      "date_d_2008               8\n",
      "date_m_2008               8\n",
      "date_y_2008            2008\n",
      "date_d_2010              21\n",
      "date_m_2010               9\n",
      "date_y_2010            2010\n",
      "date_d_2012              20\n",
      "date_m_2012               7\n",
      "date_y_2012            2013\n",
      "date_d_2014              25\n",
      "date_m_2014               6\n",
      "date_y_2014            2015\n",
      "y_deceased              NaN\n",
      "last_yr                2014\n",
      "attr_before35         False\n",
      "attr_before35_prev    False\n",
      "deceased_before35     False\n",
      "y_child18              2008\n",
      "deceased_child18      False\n",
      "deceased_child14      False\n",
      "attr_child18          False\n",
      "Name: 2814, dtype: object\n"
     ]
    }
   ],
   "source": [
    "# when did respondent 8511 have birth?\n",
    "print analytic_df[analytic_df.caseid_1979==8511].iloc[0]"
   ]
  },
  {
   "cell_type": "markdown",
   "metadata": {},
   "source": [
    "### Write a function to determine weeks of maternity leave - DISREGARD ALL MISSING GAPS"
   ]
  },
  {
   "cell_type": "code",
   "execution_count": 16,
   "metadata": {
    "collapsed": false
   },
   "outputs": [],
   "source": [
    "###modify to handle months prior to 1978\n",
    "\n",
    "\n",
    "def get_gaps(row, d=missing_data):\n",
    "    \"\"\"\n",
    "    Given a row of respondent data, \n",
    "    Return a list of tuples (start week, end week) of work gaps for respondent i\n",
    "    \n",
    "    COPY THE SAME FUNCTION AS ABOVE, EXCEPT: COMMENT OUT THE PART THAT HANDLES MISSING CASES\n",
    "    \"\"\"\n",
    "    \n",
    "    gaps = []\n",
    "    \n",
    "    years = range(1979, 1995)+range(1996, 2015, 2)\n",
    "    \n",
    "    #look for within-job gaps in all years. sometimes the gaps were recorded in later years\n",
    "    for y in years: \n",
    "        for j in range(1, 5): #4 possible gap periods\n",
    "            for k in range(1, 6): #5 possible jobs\n",
    "                try: \n",
    "                    gap_start = row['per%s_start_%s_job0%s_xrnd'%(j, y, k)]\n",
    "                    gap_stop = row['per%s_stop_%s_job0%s_xrnd'%(j, y, k)]\n",
    "                    \n",
    "                    if gap_start >= 0 and gap_stop >= 0: # valid, no missing\n",
    "                        gaps.append((gap_start, gap_stop))\n",
    "#                    elif gap_start == -4 and gap_stop == -4: # valid skip\n",
    "#                        pass # valid skip\n",
    "#                    else:\n",
    "#                        pass\n",
    "#                         missing_data['caseid_1979'].append(row['caseid_1979'])\n",
    "#                         missing_data['start_col'].append('per%s_start_%s_job0%s_xrnd'%(j, y, k))\n",
    "#                         missing_data['start'].append(gap_start) \n",
    "                        \n",
    "#                         start_y = None\n",
    "#                         start_m = None\n",
    "#                         if gap_start > 0:\n",
    "#                             start_y, start_m = get_year_month(gap_start)\n",
    "#                         missing_data['start_y'].append(start_y)\n",
    "#                         missing_data['start_m'].append(start_m)\n",
    "\n",
    "#                         missing_data['end_col'].append('per%s_stop_%s_job0%s_xrnd'%(j, y, k))\n",
    "#                         missing_data['end'].append(gap_stop)\n",
    "                        \n",
    "#                         end_y = None\n",
    "#                         end_m = None\n",
    "#                         if gap_stop > 0:\n",
    "#                             end_y, end_m = get_year_month(gap_stop)\n",
    "#                         missing_data['end_y'].append(end_y)\n",
    "#                         missing_data['end_m'].append(end_m)\n",
    "\n",
    "#                         print 'missing data - id:', row['caseid_1979'], 'year:', y, 'gap #:', j, 'job #:', k, 'weeks: ', (gap_start, gap_stop)\n",
    "                        \n",
    "                except KeyError: # some years do not report 5 jobs\n",
    "                    pass\n",
    "                \n",
    "    return gaps\n",
    "\n",
    "\n",
    "def find_maternal_leave_no_before(row):\n",
    "    \"\"\"\n",
    "    Given a row of respondent data, return a list of all weeks identified as maternal leaves\n",
    "    \"\"\"\n",
    "    \n",
    "    leaves = [] # store all weeks that are part of maternity leaves\n",
    "    \n",
    "    gaps = get_gaps(row)\n",
    "    \n",
    "    for j in range(1, 12): # all births\n",
    "        dob_y = row['c%idob_y_xrnd'%j]\n",
    "        dob_m = row['c%idob_m_xrnd'%j]\n",
    "        \n",
    "        if dob_y>0 and dob_m>0:\n",
    "                 \n",
    "            if dob_y >= 1978: \n",
    "                \n",
    "                for (gap_start, gap_stop) in gaps:\n",
    "                    birth_wks = range(get_week_num(dob_y, dob_m, 'first'), get_week_num(dob_y, dob_m, 'last')+1)\n",
    "                    gap_wks = range(gap_start, gap_stop+1)\n",
    "                    is_ma_leave = False\n",
    "\n",
    "                    if set(birth_wks)&set(gap_wks): #the gap overlaps with the birth\n",
    "                        is_ma_leave = True\n",
    "\n",
    "                    elif gap_start>birth_wks[-1] and gap_start-birth_wks[-1]<=16: #gap started within 16 weeks after birth\n",
    "                        is_ma_leave = True\n",
    "\n",
    "                    if is_ma_leave:\n",
    "                        leaves += range(gap_start, gap_stop+1) # store all weeks that are maternity leaves\n",
    "    \n",
    "    return leaves"
   ]
  },
  {
   "cell_type": "markdown",
   "metadata": {},
   "source": [
    "## Tranform weekly sequences\n",
    "\n",
    "\n",
    "NLSY79 employment status:\n",
    "* 100 TO 2615: ACTUAL SURVEY ROUND/JOB NUMBER\n",
    "* 0: NO INFO REPORTED FOR WEEK\n",
    "* 2: NOT WORKING (UNEMP V. OLF NOT DETERMINED)\n",
    "* 3: ASSOC. WITH EMP, GAP DATES MISSING, ALL TIME NOT ACCTD FOR\n",
    "* 4: UNEMPLOYED\n",
    "* 5: OUT OF LABOR FORCE\n",
    "* 7: ACTIVE MILITARY SERVICE\n",
    "\n",
    "\n",
    "My status classification scheme:\n",
    "\n",
    "* 0 - misisng\n",
    "* 1 - full-time employment - hours >= 35\n",
    "* 2 - part-time 1 - hours [20, 35)\n",
    "* 3 - part-time 2 - hours < 20\n",
    "* 4 - working with missing hours\n",
    "* 5 - unemployed\n",
    "* 6 - OOLF\n",
    "* 7 - nonworking, but DK whether OOLF or unemployed\n",
    "* 8 - maternity leave\n",
    "\n",
    "\n",
    "NOTE: Working with 0 hour to part time 2 (status 3)"
   ]
  },
  {
   "cell_type": "code",
   "execution_count": 17,
   "metadata": {
    "collapsed": false
   },
   "outputs": [
    {
     "name": "stdout",
     "output_type": "stream",
     "text": [
      "(3465, 4907)\n"
     ]
    }
   ],
   "source": [
    "# merge in work history arrays\n",
    "merged = merged.merge(wkarray_df, on='caseid_1979')\n",
    "print merged.shape"
   ]
  },
  {
   "cell_type": "code",
   "execution_count": 18,
   "metadata": {
    "collapsed": false
   },
   "outputs": [
    {
     "data": {
      "text/plain": [
       "Index([u'status_wk_num1979_xrnd', u'status_wk_num1980_xrnd',\n",
       "       u'status_wk_num1981_xrnd', u'status_wk_num1982_xrnd',\n",
       "       u'status_wk_num1983_xrnd'],\n",
       "      dtype='object')"
      ]
     },
     "execution_count": 18,
     "metadata": {},
     "output_type": "execute_result"
    }
   ],
   "source": [
    "wkarray_df.columns[-5:]"
   ]
  },
  {
   "cell_type": "code",
   "execution_count": 19,
   "metadata": {
    "collapsed": false
   },
   "outputs": [
    {
     "name": "stdout",
     "output_type": "stream",
     "text": [
      "0 100 200 300 400 500 600 1951 549 30 5\n",
      "1951 550 30 4\n",
      "1951 551 30 5\n",
      "1951 552 30 5\n",
      "1951 553 30 5\n",
      "700 800 900 1000 1100 1200 1300 1400 1500 1600 1700 1800 1900 2000 2100 2200 2300 2400 2500 2600 2700 2800 2900 3000 3100 3200 3300 3400\n"
     ]
    }
   ],
   "source": [
    "# Create a dictionary to store data\n",
    "data = defaultdict(list)\n",
    "\n",
    "\n",
    "for i, row in merged.iterrows(): #iterate through weekly array rows\n",
    "\n",
    "    #keep track of progress\n",
    "    if i%100 == 0: \n",
    "        print i,\n",
    "    \n",
    "    #find year and month of first childbirth\n",
    "    dob_y = row['c1dob_y_xrnd']\n",
    "    dob_m = row['c1dob_m_xrnd']\n",
    "    \n",
    "    #find employment sequence start year and month\n",
    "    if dob_m == 12:\n",
    "        start_y = dob_y+1\n",
    "        start_m = 1\n",
    "    else:\n",
    "        start_y = dob_y\n",
    "        start_m = dob_m+1\n",
    "    \n",
    "    \n",
    "    #keep three columns: id, start_y, start_m\n",
    "    data['caseid_1979'].append(row['caseid_1979'])\n",
    "    data['start_y'].append(start_y)\n",
    "    data['start_m'].append(start_m) \n",
    "        \n",
    "    #maternal leaves\n",
    "    leaves = find_maternal_leave_no_before(row)\n",
    "        \n",
    "        \n",
    "    for week_num in range(1, 1984): #iterate through all weekly work variables\n",
    "         \n",
    "        #if the week is maternity leave\n",
    "        if week_num in leaves:\n",
    "            data['week%s'%week_num].append(8) \n",
    "            continue\n",
    "        \n",
    "        #otherwise:\n",
    "        my_status = None\n",
    "        \n",
    "        #get the hours worked this week \n",
    "        hours = row['hrs_worked_wk_num%04d_xrnd'%week_num]\n",
    "    \n",
    "        #get the employment status this week\n",
    "        status = row['status_wk_num%04d_xrnd'%week_num]\n",
    "\n",
    "        #if (status >= 100 and status <= 2615):\n",
    "        if status >= 100:\n",
    "            status = 'w' #working\n",
    "        \n",
    "        \n",
    "        ### define employment status according to my classification scheme ###\n",
    "#         0 - misisng\n",
    "#         1 - full-time employment - hours >= 35\n",
    "#         2 - part-time 1 - hours [20, 35)\n",
    "#         3 - part-time 2 - hours < 20\n",
    "#         4 - working with missing hours\n",
    "#         5 - unemployed\n",
    "#         6 - out of labor force\n",
    "#         7 - nonworking, but DK whether OOLF or unemployed\n",
    "#         8 - maternity leave\n",
    "        \n",
    "        \n",
    "        # missing\n",
    "        if hours == 0 and status == 0:\n",
    "            my_status = 0\n",
    "            \n",
    "        # full time\n",
    "        elif hours >= 35 and status in ['w', 3]:\n",
    "            my_status = 1\n",
    "        elif hours == 0 and status == 7:\n",
    "            my_status = 1\n",
    "     \n",
    "    \n",
    "        # part time 1\n",
    "        elif hours >= 20 and hours < 35 and status in ['w', 3]:\n",
    "            my_status = 2    \n",
    "\n",
    "        # part time 2\n",
    "        elif hours >= 0 and hours < 20 and status in ['w', 3]:\n",
    "            my_status = 3    \n",
    "    \n",
    "    \n",
    "        # working, missing hours\n",
    "        elif hours < 0 and status in ['w', 3]: \n",
    "            my_status = 4\n",
    "\n",
    "            \n",
    "        ### NLSY codes:\n",
    "        # 2: NOT WORKING (UNEMP V. OLF NOT DETERMINED)\n",
    "        # 4: UNEMPLOYED\n",
    "        # 5: OUT OF LABOR FORCE\n",
    "            \n",
    "            \n",
    "        # unemployed\n",
    "        elif status == 4:\n",
    "            my_status = 5\n",
    "            \n",
    "            if hours > 0:\n",
    "                print row['caseid_1979'], week_num, hours, status\n",
    "            \n",
    "        # OOLF\n",
    "        elif status == 5:\n",
    "            my_status = 6\n",
    "            \n",
    "            if hours > 0:\n",
    "                print row['caseid_1979'], week_num, hours, status\n",
    "            \n",
    "        # nonworking\n",
    "        elif status == 2:\n",
    "            my_status = 7\n",
    "            \n",
    "            if hours > 0:\n",
    "                print row['caseid_1979'], week_num, hours, status            \n",
    "\n",
    "        else:\n",
    "            # (hours 3, status 3) should also be part-time, \n",
    "            # but we didn't encounter any\n",
    "            raise Exception, 'unknown hours and status: (%s, %s)'%(hours, status)\n",
    "        \n",
    "        \n",
    "        data['week%s'%week_num].append(my_status) #make the week number start from 0, easier for indexing in Python"
   ]
  },
  {
   "cell_type": "code",
   "execution_count": 20,
   "metadata": {
    "collapsed": false
   },
   "outputs": [
    {
     "name": "stdout",
     "output_type": "stream",
     "text": [
      "caseid_1979       2\n",
      "start_y        1993\n",
      "start_m           4\n",
      "week1             6\n",
      "week2             6\n",
      "week3             6\n",
      "week4             6\n",
      "week5             6\n",
      "week6             6\n",
      "week7             6\n",
      "week8             6\n",
      "week9             5\n",
      "week10            5\n",
      "week11            5\n",
      "week12            6\n",
      "week13            6\n",
      "week14            6\n",
      "week15            6\n",
      "week16            6\n",
      "week17            6\n",
      "week18            6\n",
      "week19            1\n",
      "week20            1\n",
      "week21            1\n",
      "week22            1\n",
      "week23            1\n",
      "week24            1\n",
      "week25            1\n",
      "week26            1\n",
      "week27            1\n",
      "               ... \n",
      "week1954          0\n",
      "week1955          0\n",
      "week1956          0\n",
      "week1957          0\n",
      "week1958          0\n",
      "week1959          0\n",
      "week1960          0\n",
      "week1961          0\n",
      "week1962          0\n",
      "week1963          0\n",
      "week1964          0\n",
      "week1965          0\n",
      "week1966          0\n",
      "week1967          0\n",
      "week1968          0\n",
      "week1969          0\n",
      "week1970          0\n",
      "week1971          0\n",
      "week1972          0\n",
      "week1973          0\n",
      "week1974          0\n",
      "week1975          0\n",
      "week1976          0\n",
      "week1977          0\n",
      "week1978          0\n",
      "week1979          0\n",
      "week1980          0\n",
      "week1981          0\n",
      "week1982          0\n",
      "week1983          0\n",
      "Name: 0, dtype: int64\n"
     ]
    }
   ],
   "source": [
    "#create the new weekly array dataframe with my edited employment status\n",
    "\n",
    "#week number range: 1 - 1879\n",
    "\n",
    "#order the columns in the new dataframe\n",
    "cols = ['caseid_1979', 'start_y', 'start_m'] + ['week%s'%n for n in range(1, 1984)]\n",
    "\n",
    "full_df = pd.DataFrame(data, columns=cols)\n",
    "print full_df.iloc[0]"
   ]
  },
  {
   "cell_type": "code",
   "execution_count": 21,
   "metadata": {
    "collapsed": true
   },
   "outputs": [],
   "source": [
    "# export \n",
    "full_df.to_csv('../data/full_wk_df.csv', index=False)"
   ]
  },
  {
   "cell_type": "markdown",
   "metadata": {},
   "source": [
    "### Get frequency of each status"
   ]
  },
  {
   "cell_type": "code",
   "execution_count": 53,
   "metadata": {
    "collapsed": false
   },
   "outputs": [
    {
     "data": {
      "text/plain": [
       "8      23254.0\n",
       "4      32082.0\n",
       "7      32780.0\n",
       "3     309729.0\n",
       "5     320573.0\n",
       "0     418039.0\n",
       "2     655620.0\n",
       "6    1867978.0\n",
       "1    3211040.0\n",
       "dtype: float64"
      ]
     },
     "execution_count": 53,
     "metadata": {},
     "output_type": "execute_result"
    }
   ],
   "source": [
    "# for all weeks\n",
    "\n",
    "cols = [full_df['week%s'%i].value_counts().sort_index() for i in range(1, 1984)]\n",
    "freq_df = pd.concat(cols, axis=1)\n",
    "total_freq_df = freq_df.sum(axis=1)\n",
    "total_freq_df.sort_values()"
   ]
  },
  {
   "cell_type": "markdown",
   "metadata": {},
   "source": [
    "Order of statuses by frequency among all weeks: \n",
    "* 1- FT\n",
    "* 6 - OOLF\n",
    "* 2 - PT 20+ hrs/week\n",
    "* 5 - unemployed\n",
    "* 3 - PT < 20 hrs/week\n",
    "* 7 - nonworking DK whether OOLF or unemployed\n",
    "* 4 - working missing hours\n",
    "* 8 - maternity leave\n",
    "* 0 - total missing"
   ]
  },
  {
   "cell_type": "code",
   "execution_count": 133,
   "metadata": {
    "collapsed": false
   },
   "outputs": [
    {
     "data": {
      "text/html": [
       "<div>\n",
       "<table border=\"1\" class=\"dataframe\">\n",
       "  <thead>\n",
       "    <tr style=\"text-align: right;\">\n",
       "      <th></th>\n",
       "      <th>id</th>\n",
       "      <th>start_y</th>\n",
       "      <th>start_m</th>\n",
       "      <th>week1</th>\n",
       "      <th>week2</th>\n",
       "      <th>week3</th>\n",
       "      <th>week4</th>\n",
       "      <th>week5</th>\n",
       "      <th>week6</th>\n",
       "      <th>week7</th>\n",
       "      <th>...</th>\n",
       "      <th>week1974</th>\n",
       "      <th>week1975</th>\n",
       "      <th>week1976</th>\n",
       "      <th>week1977</th>\n",
       "      <th>week1978</th>\n",
       "      <th>week1979</th>\n",
       "      <th>week1980</th>\n",
       "      <th>week1981</th>\n",
       "      <th>week1982</th>\n",
       "      <th>week1983</th>\n",
       "    </tr>\n",
       "  </thead>\n",
       "  <tbody>\n",
       "    <tr>\n",
       "      <th>0</th>\n",
       "      <td>2</td>\n",
       "      <td>1993</td>\n",
       "      <td>4</td>\n",
       "      <td>6</td>\n",
       "      <td>6</td>\n",
       "      <td>6</td>\n",
       "      <td>6</td>\n",
       "      <td>6</td>\n",
       "      <td>6</td>\n",
       "      <td>6</td>\n",
       "      <td>...</td>\n",
       "      <td>0</td>\n",
       "      <td>0</td>\n",
       "      <td>0</td>\n",
       "      <td>0</td>\n",
       "      <td>0</td>\n",
       "      <td>0</td>\n",
       "      <td>0</td>\n",
       "      <td>0</td>\n",
       "      <td>0</td>\n",
       "      <td>0</td>\n",
       "    </tr>\n",
       "    <tr>\n",
       "      <th>1</th>\n",
       "      <td>3</td>\n",
       "      <td>1981</td>\n",
       "      <td>7</td>\n",
       "      <td>6</td>\n",
       "      <td>6</td>\n",
       "      <td>5</td>\n",
       "      <td>6</td>\n",
       "      <td>1</td>\n",
       "      <td>1</td>\n",
       "      <td>1</td>\n",
       "      <td>...</td>\n",
       "      <td>0</td>\n",
       "      <td>0</td>\n",
       "      <td>0</td>\n",
       "      <td>0</td>\n",
       "      <td>0</td>\n",
       "      <td>0</td>\n",
       "      <td>0</td>\n",
       "      <td>0</td>\n",
       "      <td>0</td>\n",
       "      <td>0</td>\n",
       "    </tr>\n",
       "    <tr>\n",
       "      <th>2</th>\n",
       "      <td>8</td>\n",
       "      <td>1976</td>\n",
       "      <td>4</td>\n",
       "      <td>6</td>\n",
       "      <td>6</td>\n",
       "      <td>6</td>\n",
       "      <td>6</td>\n",
       "      <td>6</td>\n",
       "      <td>6</td>\n",
       "      <td>6</td>\n",
       "      <td>...</td>\n",
       "      <td>0</td>\n",
       "      <td>0</td>\n",
       "      <td>0</td>\n",
       "      <td>0</td>\n",
       "      <td>0</td>\n",
       "      <td>0</td>\n",
       "      <td>0</td>\n",
       "      <td>0</td>\n",
       "      <td>0</td>\n",
       "      <td>0</td>\n",
       "    </tr>\n",
       "    <tr>\n",
       "      <th>3</th>\n",
       "      <td>16</td>\n",
       "      <td>1990</td>\n",
       "      <td>3</td>\n",
       "      <td>1</td>\n",
       "      <td>1</td>\n",
       "      <td>1</td>\n",
       "      <td>1</td>\n",
       "      <td>1</td>\n",
       "      <td>1</td>\n",
       "      <td>1</td>\n",
       "      <td>...</td>\n",
       "      <td>0</td>\n",
       "      <td>0</td>\n",
       "      <td>0</td>\n",
       "      <td>0</td>\n",
       "      <td>0</td>\n",
       "      <td>0</td>\n",
       "      <td>0</td>\n",
       "      <td>0</td>\n",
       "      <td>0</td>\n",
       "      <td>0</td>\n",
       "    </tr>\n",
       "    <tr>\n",
       "      <th>4</th>\n",
       "      <td>19</td>\n",
       "      <td>1987</td>\n",
       "      <td>12</td>\n",
       "      <td>1</td>\n",
       "      <td>1</td>\n",
       "      <td>1</td>\n",
       "      <td>1</td>\n",
       "      <td>1</td>\n",
       "      <td>1</td>\n",
       "      <td>1</td>\n",
       "      <td>...</td>\n",
       "      <td>0</td>\n",
       "      <td>0</td>\n",
       "      <td>0</td>\n",
       "      <td>0</td>\n",
       "      <td>0</td>\n",
       "      <td>0</td>\n",
       "      <td>0</td>\n",
       "      <td>0</td>\n",
       "      <td>0</td>\n",
       "      <td>0</td>\n",
       "    </tr>\n",
       "  </tbody>\n",
       "</table>\n",
       "<p>5 rows × 1986 columns</p>\n",
       "</div>"
      ],
      "text/plain": [
       "   id  start_y  start_m  week1  week2  week3  week4  week5  week6  week7  \\\n",
       "0   2     1993        4      6      6      6      6      6      6      6   \n",
       "1   3     1981        7      6      6      5      6      1      1      1   \n",
       "2   8     1976        4      6      6      6      6      6      6      6   \n",
       "3  16     1990        3      1      1      1      1      1      1      1   \n",
       "4  19     1987       12      1      1      1      1      1      1      1   \n",
       "\n",
       "     ...     week1974  week1975  week1976  week1977  week1978  week1979  \\\n",
       "0    ...            0         0         0         0         0         0   \n",
       "1    ...            0         0         0         0         0         0   \n",
       "2    ...            0         0         0         0         0         0   \n",
       "3    ...            0         0         0         0         0         0   \n",
       "4    ...            0         0         0         0         0         0   \n",
       "\n",
       "   week1980  week1981  week1982  week1983  \n",
       "0         0         0         0         0  \n",
       "1         0         0         0         0  \n",
       "2         0         0         0         0  \n",
       "3         0         0         0         0  \n",
       "4         0         0         0         0  \n",
       "\n",
       "[5 rows x 1986 columns]"
      ]
     },
     "execution_count": 133,
     "metadata": {},
     "output_type": "execute_result"
    }
   ],
   "source": [
    "full_df.head()"
   ]
  },
  {
   "cell_type": "code",
   "execution_count": 126,
   "metadata": {
    "collapsed": false
   },
   "outputs": [
    {
     "data": {
      "text/plain": [
       "7      11931\n",
       "0      15049\n",
       "4      16746\n",
       "8      18607\n",
       "3     152407\n",
       "5     153997\n",
       "2     324770\n",
       "6    1044607\n",
       "1    1469613\n",
       "dtype: int64"
      ]
     },
     "execution_count": 126,
     "metadata": {},
     "output_type": "execute_result"
    }
   ],
   "source": [
    "# for only weeks within 18-year sequences after birth\n",
    "\n",
    "data = defaultdict(list)\n",
    "cols = []\n",
    "\n",
    "for i, row in full_df.iterrows():\n",
    "    \n",
    "    if row['start_y'] < 1978:\n",
    "        start_wk = 1\n",
    "        print row['caseid_1979']\n",
    "    else:\n",
    "        start_wk = get_week_num(row['start_y'], row['start_m'], which='first')\n",
    "    \n",
    "    \n",
    "    last_month_plus1 = datetime(row['start_y']+18, row['start_m'], 1)    \n",
    "    last_month = last_month_plus1 - timedelta(days=1)\n",
    "    last_wk = get_week_num(last_month.year, last_month.month, which='last')\n",
    "    \n",
    "    \n",
    "    statuses = [row['week%s'%w] for w in range(start_wk, last_wk+1)]\n",
    "\n",
    "    col_values = [statuses.count(j) for j in range(9)]\n",
    "    cols.append(pd.Series(col_values))\n",
    "\n",
    "    \n",
    "freq_df2 = pd.concat(cols, axis=1)\n",
    "total_freq_df2 = freq_df2.sum(axis=1)\n",
    "total_freq_df2.sort_values()"
   ]
  },
  {
   "cell_type": "code",
   "execution_count": 131,
   "metadata": {
    "collapsed": false
   },
   "outputs": [
    {
     "data": {
      "text/plain": [
       "3207727"
      ]
     },
     "execution_count": 131,
     "metadata": {},
     "output_type": "execute_result"
    }
   ],
   "source": [
    "sum(total_freq_df2.values.tolist())"
   ]
  },
  {
   "cell_type": "markdown",
   "metadata": {},
   "source": [
    "Order of statuses by frequency among all weeks: \n",
    "* 1 - FT\n",
    "* 6 - OOLF\n",
    "* 2 - PT 20+ hrs/week\n",
    "* 5 - unemployed\n",
    "* 3 - PT < 20 hrs/week\n",
    "* 8 - maternity leave\n",
    "* 4 - working missing hours\n",
    "* 7 - nonworking DK whether OOLF or unemployed\n",
    "* 0 - total missing"
   ]
  },
  {
   "cell_type": "markdown",
   "metadata": {},
   "source": [
    "## Construct 18-year+1-year prebirth monthly sequences"
   ]
  },
  {
   "cell_type": "code",
   "execution_count": 22,
   "metadata": {
    "collapsed": false
   },
   "outputs": [
    {
     "name": "stdout",
     "output_type": "stream",
     "text": [
      "[1]\n",
      "[1, 2]\n"
     ]
    }
   ],
   "source": [
    "def find_modal(l):\n",
    "    \"\"\"\n",
    "    Given a list l, return the most common element in the list. \n",
    "    if there is a tie, return all elements.\n",
    "    \"\"\"\n",
    "    \n",
    "    #first, count frequency of each unique item in the list\n",
    "    counter = defaultdict(int)\n",
    "    for item in l:\n",
    "        counter[item] += 1\n",
    "\n",
    "    #rank items from most frequent to least frequent\n",
    "    popular_items = sorted(counter, key=counter.get, reverse = True)\n",
    "    \n",
    "    most_common = [popular_items[0]]\n",
    "    \n",
    "    for other in popular_items[1:]:\n",
    "        if counter[other] < counter[most_common[0]]:\n",
    "            break\n",
    "        elif counter[other] == counter[most_common[0]]: #find an equally frequent item\n",
    "            most_common.append(other)\n",
    "        else:\n",
    "            print 'impossible'\n",
    "\n",
    "    return most_common\n",
    "\n",
    "#for example\n",
    "print find_modal([1, 1, 2, 1, 5])\n",
    "print find_modal([1, 1, 2, 1, 5, 2, 2, 33])"
   ]
  },
  {
   "cell_type": "code",
   "execution_count": 24,
   "metadata": {
    "collapsed": false
   },
   "outputs": [
    {
     "name": "stdout",
     "output_type": "stream",
     "text": [
      " 0 100 200 300 400 500 600 700 800 900 1000 1100 1200 1300 1400 1500 1600 1700 1800 1900 2000 2100 2200 2300 2400 2500 2600 2700 2800 2900 3000 3100 3200 3300 3400\n"
     ]
    }
   ],
   "source": [
    "res_data = defaultdict(list) #create an empty dictionary to store data\n",
    "\n",
    "count_ties = [] #how many we get ties of modal, store a tuple (respondent id, month # where a tie occured) \n",
    "status_order = [1, 6, 2, 5, 3, 8, 4, 7, 0] \n",
    "\n",
    "\n",
    "for i, row in full_df.iterrows():\n",
    "    \n",
    "    # keep track of progress\n",
    "    if i%100 == 0:\n",
    "        print i, \n",
    "    \n",
    "    # keep basic info: id, sequence start year and month\n",
    "    res_data['caseid_1979'].append(row['caseid_1979'])\n",
    "    res_data['start_y'].append(row['start_y'])\n",
    "    res_data['start_m'].append(row['start_m'])\n",
    "\n",
    "    \n",
    "    y = row['start_y'] - 1\n",
    "    m = row['start_m']    \n",
    "    \n",
    "    \n",
    "    # look at weekly statuses\n",
    "    for j in range(1, 229): # from month 1 to month 228 = 19 * 12\n",
    "        \n",
    "        if y < 1978: #prior to 1978\n",
    "            res_data['month%s'%j].append(0)\n",
    "            \n",
    "        else:\n",
    "            start = get_week_num(y, m, 'first')\n",
    "            end = get_week_num(y, m, 'last')\n",
    "            wk_statuses = [row['week%i'%k] for k in range(start, end+1)]\n",
    "            \n",
    "            \n",
    "            #find unique items in the given month \n",
    "            distinct = list(set(wk_statuses))\n",
    "            distinct.sort()\n",
    "\n",
    "            if len(distinct) == 1:\n",
    "                res_data['month%s'%j].append(distinct[0])\n",
    "\n",
    "            elif len(distinct) >= 2:\n",
    "                modal = find_modal(wk_statuses)\n",
    "                if len(modal) == 1:\n",
    "                    res_data['month%s'%j].append(modal[0])\n",
    "                else:\n",
    "                    \n",
    "                    modal_order = [(x, status_order.index(x)) for x in modal]\n",
    "                    modal_order = sorted(modal_order, key=itemgetter(1))\n",
    "                    res_data['month%s'%j].append(modal_order[0][0])\n",
    "                    count_ties.append((row['caseid_1979'], j))\n",
    "\n",
    "         \n",
    "        #move to next month\n",
    "        if m < 12:\n",
    "            m += 1\n",
    "        elif m == 12:\n",
    "            m = 1\n",
    "            y += 1\n",
    "\n",
    "cols = ['caseid_1979', 'start_y', 'start_m'] + ['month%s'%i for i in range(1, 229)]\n",
    "res_df = pd.DataFrame(res_data, columns=cols) #restricted dataframe"
   ]
  },
  {
   "cell_type": "markdown",
   "metadata": {},
   "source": [
    "## Update pre-1978 monthly status -- SPECIAL ATTENTION!\n",
    "\n",
    "Coding rules:\n",
    "* If FT, then FT\n",
    "* If working less than FT, treat as working, missing hours\n",
    "* otherwise, assign missing"
   ]
  },
  {
   "cell_type": "code",
   "execution_count": 25,
   "metadata": {
    "collapsed": false
   },
   "outputs": [
    {
     "data": {
      "text/html": [
       "<div>\n",
       "<table border=\"1\" class=\"dataframe\">\n",
       "  <thead>\n",
       "    <tr style=\"text-align: right;\">\n",
       "      <th></th>\n",
       "      <th>caseid_1979</th>\n",
       "      <th>employer_startdate_01_m_1979</th>\n",
       "      <th>employer_startdate_01_d_1979</th>\n",
       "      <th>employer_startdate_01_y_1979</th>\n",
       "      <th>employer_startdate_02_m_1979</th>\n",
       "      <th>employer_startdate_02_d_1979</th>\n",
       "      <th>employer_startdate_02_y_1979</th>\n",
       "      <th>employer_startdate_03_m_1979</th>\n",
       "      <th>employer_startdate_03_d_1979</th>\n",
       "      <th>employer_startdate_03_y_1979</th>\n",
       "      <th>...</th>\n",
       "      <th>nonemployed_prior_int_01_1979</th>\n",
       "      <th>nonemployed_prior_int_02_1979</th>\n",
       "      <th>nonemployed_prior_int_03_1979</th>\n",
       "      <th>nonemployed_prior_int_04_1979</th>\n",
       "      <th>nonemployed_prior_int_05_1979</th>\n",
       "      <th>nonemployed_since_int_01_1979</th>\n",
       "      <th>nonemployed_since_int_02_1979</th>\n",
       "      <th>nonemployed_since_int_03_1979</th>\n",
       "      <th>nonemployed_since_int_04_1979</th>\n",
       "      <th>nonemployed_since_int_05_1979</th>\n",
       "    </tr>\n",
       "  </thead>\n",
       "  <tbody>\n",
       "    <tr>\n",
       "      <th>0</th>\n",
       "      <td>1</td>\n",
       "      <td>5</td>\n",
       "      <td>22</td>\n",
       "      <td>78</td>\n",
       "      <td>9</td>\n",
       "      <td>20</td>\n",
       "      <td>75</td>\n",
       "      <td>-4</td>\n",
       "      <td>-4</td>\n",
       "      <td>-4</td>\n",
       "      <td>...</td>\n",
       "      <td>-4</td>\n",
       "      <td>-4</td>\n",
       "      <td>-4</td>\n",
       "      <td>-4</td>\n",
       "      <td>-4</td>\n",
       "      <td>0</td>\n",
       "      <td>-4</td>\n",
       "      <td>-4</td>\n",
       "      <td>-4</td>\n",
       "      <td>-4</td>\n",
       "    </tr>\n",
       "    <tr>\n",
       "      <th>1</th>\n",
       "      <td>2</td>\n",
       "      <td>5</td>\n",
       "      <td>8</td>\n",
       "      <td>78</td>\n",
       "      <td>-4</td>\n",
       "      <td>-4</td>\n",
       "      <td>-4</td>\n",
       "      <td>-4</td>\n",
       "      <td>-4</td>\n",
       "      <td>-4</td>\n",
       "      <td>...</td>\n",
       "      <td>-4</td>\n",
       "      <td>-4</td>\n",
       "      <td>-4</td>\n",
       "      <td>-4</td>\n",
       "      <td>-4</td>\n",
       "      <td>0</td>\n",
       "      <td>-4</td>\n",
       "      <td>-4</td>\n",
       "      <td>-4</td>\n",
       "      <td>-4</td>\n",
       "    </tr>\n",
       "    <tr>\n",
       "      <th>2</th>\n",
       "      <td>3</td>\n",
       "      <td>9</td>\n",
       "      <td>11</td>\n",
       "      <td>78</td>\n",
       "      <td>5</td>\n",
       "      <td>15</td>\n",
       "      <td>78</td>\n",
       "      <td>1</td>\n",
       "      <td>30</td>\n",
       "      <td>78</td>\n",
       "      <td>...</td>\n",
       "      <td>-4</td>\n",
       "      <td>-4</td>\n",
       "      <td>-4</td>\n",
       "      <td>-4</td>\n",
       "      <td>-4</td>\n",
       "      <td>0</td>\n",
       "      <td>0</td>\n",
       "      <td>0</td>\n",
       "      <td>-4</td>\n",
       "      <td>-4</td>\n",
       "    </tr>\n",
       "    <tr>\n",
       "      <th>3</th>\n",
       "      <td>4</td>\n",
       "      <td>-4</td>\n",
       "      <td>-4</td>\n",
       "      <td>-4</td>\n",
       "      <td>-4</td>\n",
       "      <td>-4</td>\n",
       "      <td>-4</td>\n",
       "      <td>-4</td>\n",
       "      <td>-4</td>\n",
       "      <td>-4</td>\n",
       "      <td>...</td>\n",
       "      <td>-4</td>\n",
       "      <td>-4</td>\n",
       "      <td>-4</td>\n",
       "      <td>-4</td>\n",
       "      <td>-4</td>\n",
       "      <td>-4</td>\n",
       "      <td>-4</td>\n",
       "      <td>-4</td>\n",
       "      <td>-4</td>\n",
       "      <td>-4</td>\n",
       "    </tr>\n",
       "    <tr>\n",
       "      <th>4</th>\n",
       "      <td>5</td>\n",
       "      <td>2</td>\n",
       "      <td>1</td>\n",
       "      <td>78</td>\n",
       "      <td>6</td>\n",
       "      <td>5</td>\n",
       "      <td>78</td>\n",
       "      <td>-4</td>\n",
       "      <td>-4</td>\n",
       "      <td>-4</td>\n",
       "      <td>...</td>\n",
       "      <td>-4</td>\n",
       "      <td>-4</td>\n",
       "      <td>-4</td>\n",
       "      <td>-4</td>\n",
       "      <td>-4</td>\n",
       "      <td>1</td>\n",
       "      <td>0</td>\n",
       "      <td>-4</td>\n",
       "      <td>-4</td>\n",
       "      <td>-4</td>\n",
       "    </tr>\n",
       "  </tbody>\n",
       "</table>\n",
       "<p>5 rows × 51 columns</p>\n",
       "</div>"
      ],
      "text/plain": [
       "   caseid_1979  employer_startdate_01_m_1979  employer_startdate_01_d_1979  \\\n",
       "0            1                             5                            22   \n",
       "1            2                             5                             8   \n",
       "2            3                             9                            11   \n",
       "3            4                            -4                            -4   \n",
       "4            5                             2                             1   \n",
       "\n",
       "   employer_startdate_01_y_1979  employer_startdate_02_m_1979  \\\n",
       "0                            78                             9   \n",
       "1                            78                            -4   \n",
       "2                            78                             5   \n",
       "3                            -4                            -4   \n",
       "4                            78                             6   \n",
       "\n",
       "   employer_startdate_02_d_1979  employer_startdate_02_y_1979  \\\n",
       "0                            20                            75   \n",
       "1                            -4                            -4   \n",
       "2                            15                            78   \n",
       "3                            -4                            -4   \n",
       "4                             5                            78   \n",
       "\n",
       "   employer_startdate_03_m_1979  employer_startdate_03_d_1979  \\\n",
       "0                            -4                            -4   \n",
       "1                            -4                            -4   \n",
       "2                             1                            30   \n",
       "3                            -4                            -4   \n",
       "4                            -4                            -4   \n",
       "\n",
       "   employer_startdate_03_y_1979              ...                \\\n",
       "0                            -4              ...                 \n",
       "1                            -4              ...                 \n",
       "2                            78              ...                 \n",
       "3                            -4              ...                 \n",
       "4                            -4              ...                 \n",
       "\n",
       "   nonemployed_prior_int_01_1979  nonemployed_prior_int_02_1979  \\\n",
       "0                             -4                             -4   \n",
       "1                             -4                             -4   \n",
       "2                             -4                             -4   \n",
       "3                             -4                             -4   \n",
       "4                             -4                             -4   \n",
       "\n",
       "   nonemployed_prior_int_03_1979  nonemployed_prior_int_04_1979  \\\n",
       "0                             -4                             -4   \n",
       "1                             -4                             -4   \n",
       "2                             -4                             -4   \n",
       "3                             -4                             -4   \n",
       "4                             -4                             -4   \n",
       "\n",
       "   nonemployed_prior_int_05_1979  nonemployed_since_int_01_1979  \\\n",
       "0                             -4                              0   \n",
       "1                             -4                              0   \n",
       "2                             -4                              0   \n",
       "3                             -4                             -4   \n",
       "4                             -4                              1   \n",
       "\n",
       "   nonemployed_since_int_02_1979  nonemployed_since_int_03_1979  \\\n",
       "0                             -4                             -4   \n",
       "1                             -4                             -4   \n",
       "2                              0                              0   \n",
       "3                             -4                             -4   \n",
       "4                              0                             -4   \n",
       "\n",
       "   nonemployed_since_int_04_1979  nonemployed_since_int_05_1979  \n",
       "0                             -4                             -4  \n",
       "1                             -4                             -4  \n",
       "2                             -4                             -4  \n",
       "3                             -4                             -4  \n",
       "4                             -4                             -4  \n",
       "\n",
       "[5 rows x 51 columns]"
      ]
     },
     "execution_count": 25,
     "metadata": {},
     "output_type": "execute_result"
    }
   ],
   "source": [
    "df79 = pd.read_csv('../data/work_history79.csv')\n",
    "df79.head()"
   ]
  },
  {
   "cell_type": "markdown",
   "metadata": {},
   "source": [
    "### First, explore job dates\n",
    "\n",
    "* Missing months: 3 respondents had missing job start month, but the start year is before the sequence start year, so the missing does not matter\n",
    "\n",
    "* Missing day: the above 3 respondents + 23 more cases"
   ]
  },
  {
   "cell_type": "code",
   "execution_count": 26,
   "metadata": {
    "collapsed": false
   },
   "outputs": [
    {
     "name": "stdout",
     "output_type": "stream",
     "text": [
      "000,000 1965\n",
      "100,000 1\n",
      "100,110 1\n",
      "100,111 1\n",
      "110,000 6\n",
      "110,110 11\n",
      "110,111 10\n",
      "111,000 152\n",
      "111,110 1\n",
      "111,111 252\n"
     ]
    }
   ],
   "source": [
    "# find types of combinations of job dates\n",
    "\n",
    "count = defaultdict(list)\n",
    "\n",
    "for i, row in res_df.iterrows():\n",
    "    if row['start_y'] >= 1978:\n",
    "        continue\n",
    "        \n",
    "    work79_row = df79[df79.caseid_1979==row['caseid_1979']].iloc[0] \n",
    "    \n",
    "    job_dates = [] \n",
    "    for i in range(1, 6):\n",
    "        start_y = work79_row['employer_startdate_%02d_y_1979'%i]\n",
    "        start_m = work79_row['employer_startdate_%02d_m_1979'%i]\n",
    "        start_d = work79_row['employer_startdate_%02d_d_1979'%i]\n",
    "        \n",
    "        stop_y = work79_row['employer_stopdate_%02d_y_1979'%i]\n",
    "        stop_m = work79_row['employer_stopdate_%02d_m_1979'%i]\n",
    "        stop_d = work79_row['employer_stopdate_%02d_d_1979'%i]\n",
    "        \n",
    "        # edit years - years are often reported in two digit format\n",
    "        if start_y < 1900 and start_y > 0:\n",
    "            start_y += 1900\n",
    "        if stop_y < 1900 and stop_y > 0:\n",
    "            stop_y += 1900\n",
    " \n",
    "        start_code = None\n",
    "        stop_code = None\n",
    "        if start_y > 0 and start_m > 0 and start_d > 0:\n",
    "            start_code = '111'\n",
    "        elif start_y > 0 and start_m > 0 and start_d < 0:\n",
    "            start_code = '110'\n",
    "        elif start_y > 0 and start_m < 0 and start_d < 0:\n",
    "            start_code = '100'\n",
    "        elif start_y < 0 and start_m < 0 and start_d < 0:\n",
    "            start_code = '000'\n",
    "            \n",
    "        if stop_y > 0 and stop_m > 0 and stop_d > 0:\n",
    "            stop_code = '111'\n",
    "        elif stop_y > 0 and stop_m > 0 and stop_d < 0:\n",
    "            stop_code = '110'\n",
    "        elif stop_y > 0 and stop_m < 0 and stop_d < 0:\n",
    "            stop_code = '100'\n",
    "        elif stop_y < 0 and stop_m < 0 and stop_d < 0:\n",
    "            stop_code = '000'        \n",
    "        \n",
    "\n",
    "        count['%s,%s'%(start_code, stop_code)].append(row['caseid_1979'])\n",
    "\n",
    "\n",
    "\n",
    "for k in sorted(count):\n",
    "    print k, len(count[k])"
   ]
  },
  {
   "cell_type": "markdown",
   "metadata": {},
   "source": [
    "### Update pre-1978 months"
   ]
  },
  {
   "cell_type": "code",
   "execution_count": 65,
   "metadata": {
    "collapsed": false
   },
   "outputs": [],
   "source": [
    "# Decision rules:\n",
    "#If your job started on the 15th or earlier, you worked that month.\n",
    "#If your job ended on the 16th or later, you worked that month.\n",
    "#If we don’t know the day that you started, count the start month as NOT working and the end month as working.\n",
    "\n",
    "\n",
    "def update_pre1978_months(row):\n",
    "    \n",
    "    y = row['start_y'] - 1\n",
    "    m = row['start_m']    \n",
    "    \n",
    "    if y >= 1978:\n",
    "        return row\n",
    "    \n",
    "    j = 1\n",
    "    work79_row = df79[df79.caseid_1979==row['caseid_1979']].iloc[0]\n",
    "    \n",
    "    while y < 1978:\n",
    "        #print (y, m)\n",
    "\n",
    "        overlap_jobs = []\n",
    "\n",
    "        for i in range(1, 6): # iterate through jobs\n",
    "            \n",
    "            start_y = work79_row['employer_startdate_%02d_y_1979'%i]\n",
    "            start_m = work79_row['employer_startdate_%02d_m_1979'%i]\n",
    "            start_d = work79_row['employer_startdate_%02d_d_1979'%i]\n",
    "\n",
    "            stop_y = work79_row['employer_stopdate_%02d_y_1979'%i]\n",
    "            stop_m = work79_row['employer_stopdate_%02d_m_1979'%i]\n",
    "            stop_d = work79_row['employer_stopdate_%02d_d_1979'%i]\n",
    "            \n",
    "            #print (start_y, start_m, start_d, stop_y, stop_m, stop_d)\n",
    "            \n",
    "            if start_y > 0 and start_y < 1900:\n",
    "                start_y += 1900\n",
    "\n",
    "            if stop_y > 0 and stop_y < 1900:\n",
    "                stop_y += 1900\n",
    "              \n",
    "            if start_y >= 1978:\n",
    "                continue\n",
    "                \n",
    "            if start_y > 0 and start_m > 0 and start_d > 0:\n",
    "\n",
    "                if start_y == y and start_m == m and start_d <= 15: # job started on the 15th or earlier in the given month\n",
    "                    overlap_jobs.append(i)\n",
    "\n",
    "                elif start_y < y or (start_y == y and start_m < m): # job started before the given month \n",
    "\n",
    "                    if stop_y == -4 and stop_m == -4 and stop_d == -4: \n",
    "                        overlap_jobs.append(i)\n",
    "\n",
    "                    elif stop_y > 0 and stop_m > 0 and stop_d > 0:\n",
    "                        if stop_y == y and stop_m == m and stop_d >= 16: # job ended on the 16th or later, you worked that month\n",
    "                            overlap_jobs.append(i)   \n",
    "                        elif (stop_y > y) or (stop_y == y and stop_m > m): # job stopped after the given month\n",
    "                            overlap_jobs.append(i)\n",
    "                        \n",
    "                    elif stop_y > 0 and stop_m > 0:\n",
    "                        if (stop_y > y) or (stop_y == y and stop_m > m): # job stopped after the given month\n",
    "                            overlap_jobs.append(i)\n",
    "\n",
    "\n",
    "            elif start_y > 0 and start_m > 0 and start_d < 0:\n",
    "                if start_y == y and start_m == m: # start month as not working\n",
    "                    pass\n",
    "                \n",
    "                elif start_y < y or (start_y == y and start_m < m): # job started before the given month   \n",
    "                    \n",
    "                    if stop_y == -4 and stop_m == -4 and stop_d == -4: \n",
    "                        overlap_jobs.append(i) \n",
    "                    \n",
    "                    elif stop_y > 0 and stop_m > 0 and stop_d > 0:\n",
    "                        if stop_y == y and stop_m == m and stop_d >= 16: # job ended on the 16th or later, you worked that month\n",
    "                            overlap_jobs.append(i)   \n",
    "                        elif (stop_y > y) or (stop_y == y and stop_m > m): # job stopped after the given month\n",
    "                            overlap_jobs.append(i)  \n",
    "                    \n",
    "                    elif stop_y > 0 and stop_m > 0:\n",
    "                        if (stop_y > y) or (stop_y == y and stop_m > m): # job stopped after the given month\n",
    "                            overlap_jobs.append(i)\n",
    " \n",
    "                        \n",
    "            elif start_y > 0 and start_y < y: # job started before the given month\n",
    "\n",
    "                if stop_y == -4 and stop_m == -4 and stop_d == -4: \n",
    "                    overlap_jobs.append(i) \n",
    "\n",
    "                elif stop_y > 0 and stop_m > 0 and stop_d > 0:\n",
    "                    if stop_y == y and stop_m == m and stop_d >= 16: # job ended on the 16th or later, you worked that month\n",
    "                        overlap_jobs.append(i)   \n",
    "                    elif (stop_y > y) or (stop_y == y and stop_m > m): # job stopped after the given month\n",
    "                        overlap_jobs.append(i)  \n",
    "\n",
    "                elif stop_y > 0 and stop_m > 0:\n",
    "                    if (stop_y > y) or (stop_y == y and stop_m > m): # job stopped after the given month\n",
    "                        overlap_jobs.append(i)\n",
    "                        \n",
    "\n",
    "        #print j, (y, m), overlap_jobs\n",
    "        if len(overlap_jobs) > 0:\n",
    "            hours = [work79_row['hours_per_week_job_%02d_1979'%k] for k in overlap_jobs \n",
    "                     if work79_row['hours_per_week_job_%02d_1979'%k]>=0]\n",
    "            #print overlap_jobs, hours\n",
    "            \n",
    "            if sum(hours) >= 35:\n",
    "                row['month%s'%j] = 1 # full-time\n",
    "            else:\n",
    "                row['month%s'%j] = 4\n",
    "\n",
    "        j += 1\n",
    "        if m < 12:\n",
    "            m += 1\n",
    "        else:\n",
    "            m = 1\n",
    "            y += 1\n",
    "            \n",
    "    \n",
    "    return row\n",
    "   "
   ]
  },
  {
   "cell_type": "code",
   "execution_count": 66,
   "metadata": {
    "collapsed": false
   },
   "outputs": [
    {
     "data": {
      "text/html": [
       "<div>\n",
       "<table border=\"1\" class=\"dataframe\">\n",
       "  <thead>\n",
       "    <tr style=\"text-align: right;\">\n",
       "      <th></th>\n",
       "      <th>caseid_1979</th>\n",
       "      <th>start_y</th>\n",
       "      <th>start_m</th>\n",
       "      <th>month1</th>\n",
       "      <th>month2</th>\n",
       "      <th>month3</th>\n",
       "      <th>month4</th>\n",
       "      <th>month5</th>\n",
       "      <th>month6</th>\n",
       "      <th>month7</th>\n",
       "      <th>...</th>\n",
       "      <th>month219</th>\n",
       "      <th>month220</th>\n",
       "      <th>month221</th>\n",
       "      <th>month222</th>\n",
       "      <th>month223</th>\n",
       "      <th>month224</th>\n",
       "      <th>month225</th>\n",
       "      <th>month226</th>\n",
       "      <th>month227</th>\n",
       "      <th>month228</th>\n",
       "    </tr>\n",
       "  </thead>\n",
       "  <tbody>\n",
       "    <tr>\n",
       "      <th>0</th>\n",
       "      <td>2</td>\n",
       "      <td>1993</td>\n",
       "      <td>4</td>\n",
       "      <td>1</td>\n",
       "      <td>1</td>\n",
       "      <td>1</td>\n",
       "      <td>1</td>\n",
       "      <td>1</td>\n",
       "      <td>1</td>\n",
       "      <td>1</td>\n",
       "      <td>...</td>\n",
       "      <td>1</td>\n",
       "      <td>1</td>\n",
       "      <td>1</td>\n",
       "      <td>1</td>\n",
       "      <td>1</td>\n",
       "      <td>1</td>\n",
       "      <td>1</td>\n",
       "      <td>1</td>\n",
       "      <td>1</td>\n",
       "      <td>1</td>\n",
       "    </tr>\n",
       "    <tr>\n",
       "      <th>1</th>\n",
       "      <td>3</td>\n",
       "      <td>1981</td>\n",
       "      <td>7</td>\n",
       "      <td>1</td>\n",
       "      <td>1</td>\n",
       "      <td>1</td>\n",
       "      <td>1</td>\n",
       "      <td>1</td>\n",
       "      <td>1</td>\n",
       "      <td>1</td>\n",
       "      <td>...</td>\n",
       "      <td>1</td>\n",
       "      <td>1</td>\n",
       "      <td>1</td>\n",
       "      <td>1</td>\n",
       "      <td>1</td>\n",
       "      <td>1</td>\n",
       "      <td>1</td>\n",
       "      <td>1</td>\n",
       "      <td>1</td>\n",
       "      <td>1</td>\n",
       "    </tr>\n",
       "    <tr>\n",
       "      <th>2</th>\n",
       "      <td>8</td>\n",
       "      <td>1976</td>\n",
       "      <td>4</td>\n",
       "      <td>0</td>\n",
       "      <td>0</td>\n",
       "      <td>0</td>\n",
       "      <td>0</td>\n",
       "      <td>0</td>\n",
       "      <td>0</td>\n",
       "      <td>0</td>\n",
       "      <td>...</td>\n",
       "      <td>1</td>\n",
       "      <td>1</td>\n",
       "      <td>1</td>\n",
       "      <td>1</td>\n",
       "      <td>1</td>\n",
       "      <td>1</td>\n",
       "      <td>1</td>\n",
       "      <td>1</td>\n",
       "      <td>1</td>\n",
       "      <td>1</td>\n",
       "    </tr>\n",
       "    <tr>\n",
       "      <th>3</th>\n",
       "      <td>16</td>\n",
       "      <td>1990</td>\n",
       "      <td>3</td>\n",
       "      <td>1</td>\n",
       "      <td>1</td>\n",
       "      <td>1</td>\n",
       "      <td>1</td>\n",
       "      <td>1</td>\n",
       "      <td>1</td>\n",
       "      <td>1</td>\n",
       "      <td>...</td>\n",
       "      <td>1</td>\n",
       "      <td>1</td>\n",
       "      <td>1</td>\n",
       "      <td>1</td>\n",
       "      <td>1</td>\n",
       "      <td>1</td>\n",
       "      <td>1</td>\n",
       "      <td>1</td>\n",
       "      <td>1</td>\n",
       "      <td>1</td>\n",
       "    </tr>\n",
       "    <tr>\n",
       "      <th>4</th>\n",
       "      <td>19</td>\n",
       "      <td>1987</td>\n",
       "      <td>12</td>\n",
       "      <td>6</td>\n",
       "      <td>6</td>\n",
       "      <td>6</td>\n",
       "      <td>6</td>\n",
       "      <td>6</td>\n",
       "      <td>6</td>\n",
       "      <td>6</td>\n",
       "      <td>...</td>\n",
       "      <td>6</td>\n",
       "      <td>6</td>\n",
       "      <td>6</td>\n",
       "      <td>6</td>\n",
       "      <td>6</td>\n",
       "      <td>6</td>\n",
       "      <td>6</td>\n",
       "      <td>6</td>\n",
       "      <td>6</td>\n",
       "      <td>6</td>\n",
       "    </tr>\n",
       "  </tbody>\n",
       "</table>\n",
       "<p>5 rows × 231 columns</p>\n",
       "</div>"
      ],
      "text/plain": [
       "   caseid_1979  start_y  start_m  month1  month2  month3  month4  month5  \\\n",
       "0            2     1993        4       1       1       1       1       1   \n",
       "1            3     1981        7       1       1       1       1       1   \n",
       "2            8     1976        4       0       0       0       0       0   \n",
       "3           16     1990        3       1       1       1       1       1   \n",
       "4           19     1987       12       6       6       6       6       6   \n",
       "\n",
       "   month6  month7    ...     month219  month220  month221  month222  month223  \\\n",
       "0       1       1    ...            1         1         1         1         1   \n",
       "1       1       1    ...            1         1         1         1         1   \n",
       "2       0       0    ...            1         1         1         1         1   \n",
       "3       1       1    ...            1         1         1         1         1   \n",
       "4       6       6    ...            6         6         6         6         6   \n",
       "\n",
       "   month224  month225  month226  month227  month228  \n",
       "0         1         1         1         1         1  \n",
       "1         1         1         1         1         1  \n",
       "2         1         1         1         1         1  \n",
       "3         1         1         1         1         1  \n",
       "4         6         6         6         6         6  \n",
       "\n",
       "[5 rows x 231 columns]"
      ]
     },
     "execution_count": 66,
     "metadata": {},
     "output_type": "execute_result"
    }
   ],
   "source": [
    "new_res_df = res_df.apply(update_pre1978_months, axis=1)\n",
    "new_res_df.head()"
   ]
  },
  {
   "cell_type": "code",
   "execution_count": 64,
   "metadata": {
    "collapsed": true
   },
   "outputs": [],
   "source": [
    "res_df.to_csv('../data/monthly_df.csv', index=False)"
   ]
  },
  {
   "cell_type": "markdown",
   "metadata": {},
   "source": [
    "## Examine distribution of each status"
   ]
  },
  {
   "cell_type": "code",
   "execution_count": 108,
   "metadata": {
    "collapsed": true
   },
   "outputs": [],
   "source": [
    "def count_status_per_R(row, s):\n",
    "    \"\"\"\n",
    "    Count the frequency of status s appearing in each respondent's sequence\n",
    "    \"\"\"\n",
    "    \n",
    "    vals = [row['month%s'%i]==s for i in range(13, 229)] # 18 years, 216 months\n",
    "    return sum(vals)"
   ]
  },
  {
   "cell_type": "markdown",
   "metadata": {},
   "source": [
    "### status 0 - missing"
   ]
  },
  {
   "cell_type": "code",
   "execution_count": 109,
   "metadata": {
    "collapsed": false
   },
   "outputs": [
    {
     "name": "stdout",
     "output_type": "stream",
     "text": [
      "2721 respondents have no missing\n"
     ]
    }
   ],
   "source": [
    "freq0 = res_df.apply(lambda row: count_status_per_R(row, 0), axis=1)\n",
    "print \"%s respondents have no missing\"%sum([v==0 for v in freq0])"
   ]
  },
  {
   "cell_type": "code",
   "execution_count": 110,
   "metadata": {
    "collapsed": false
   },
   "outputs": [
    {
     "name": "stdout",
     "output_type": "stream",
     "text": [
      "mean: 18.9771505376, median: 14.0\n"
     ]
    },
    {
     "data": {
      "image/png": "[encoded data removed]",
      "text/plain": [
       "<matplotlib.figure.Figure at 0x10af88690>"
      ]
     },
     "metadata": {},
     "output_type": "display_data"
    }
   ],
   "source": [
    "# drop respondents who have no missing\n",
    "freq0_wo_zero = [v for v in freq0 if v>0]\n",
    "\n",
    "# mean and median of missing months per respondent\n",
    "print 'mean: %s, median: %s'%(np.mean(freq0_wo_zero), np.median(freq0_wo_zero))\n",
    "\n",
    "# plot histogram\n",
    "plt.hist(freq0_wo_zero)\n",
    "remove_border()"
   ]
  },
  {
   "cell_type": "markdown",
   "metadata": {},
   "source": [
    "### status 2 - working, with missing hours"
   ]
  },
  {
   "cell_type": "code",
   "execution_count": 111,
   "metadata": {
    "collapsed": false
   },
   "outputs": [
    {
     "name": "stdout",
     "output_type": "stream",
     "text": [
      "1090 respondents have no month working with missing hours\n"
     ]
    }
   ],
   "source": [
    "freq2 = res_df.apply(lambda row: count_status_per_R(row, 2), axis=1)\n",
    "print \"%s respondents have no month working with missing hours\"%sum([v==0 for v in freq2])"
   ]
  },
  {
   "cell_type": "code",
   "execution_count": 112,
   "metadata": {
    "collapsed": false
   },
   "outputs": [
    {
     "name": "stdout",
     "output_type": "stream",
     "text": [
      "mean: 31.3111578947, median: 20.0\n"
     ]
    },
    {
     "data": {
      "image/png": "[encoded data removed]",
      "text/plain": [
       "<matplotlib.figure.Figure at 0x10c4b90d0>"
      ]
     },
     "metadata": {},
     "output_type": "display_data"
    }
   ],
   "source": [
    "# drop respondents who have no month working with missing hours\n",
    "freq2_wo_zero = [v for v in freq2 if v>0]\n",
    "\n",
    "# mean and median of missing months per respondent\n",
    "print 'mean: %s, median: %s'%(np.mean(freq2_wo_zero), np.median(freq2_wo_zero))\n",
    "\n",
    "# plot histogram\n",
    "plt.hist(freq2_wo_zero)\n",
    "remove_border()"
   ]
  },
  {
   "cell_type": "markdown",
   "metadata": {
    "collapsed": true
   },
   "source": [
    "### status 6 - OOLF"
   ]
  },
  {
   "cell_type": "code",
   "execution_count": 119,
   "metadata": {
    "collapsed": false
   },
   "outputs": [
    {
     "name": "stdout",
     "output_type": "stream",
     "text": [
      "361 respondents have no month working with missing hours\n"
     ]
    }
   ],
   "source": [
    "freq6 = res_df.apply(lambda row: count_status_per_R(row, 6), axis=1)\n",
    "print \"%s respondents have no month working with missing hours\"%sum([v==0 for v in freq6])"
   ]
  },
  {
   "cell_type": "code",
   "execution_count": 120,
   "metadata": {
    "collapsed": false
   },
   "outputs": [
    {
     "name": "stdout",
     "output_type": "stream",
     "text": [
      "mean: 77.6520618557, median: 65.0\n"
     ]
    },
    {
     "data": {
      "image/png": "[encoded data removed]",
      "text/plain": [
       "<matplotlib.figure.Figure at 0x10c0daf10>"
      ]
     },
     "metadata": {},
     "output_type": "display_data"
    }
   ],
   "source": [
    "# drop respondents who have no month working with missing hours\n",
    "freq6_wo_zero = [v for v in freq6 if v>0]\n",
    "\n",
    "# mean and median of missing months per respondent\n",
    "print 'mean: %s, median: %s'%(np.mean(freq6_wo_zero), np.median(freq6_wo_zero))\n",
    "\n",
    "# plot histogram\n",
    "plt.hist(freq6_wo_zero)\n",
    "remove_border()"
   ]
  },
  {
   "cell_type": "code",
   "execution_count": null,
   "metadata": {
    "collapsed": true
   },
   "outputs": [],
   "source": []
  }
 ],
 "metadata": {
  "kernelspec": {
   "display_name": "Python 2",
   "language": "python",
   "name": "python2"
  },
  "language_info": {
   "codemirror_mode": {
    "name": "ipython",
    "version": 2
   },
   "file_extension": ".py",
   "mimetype": "text/x-python",
   "name": "python",
   "nbconvert_exporter": "python",
   "pygments_lexer": "ipython2",
   "version": "2.7.12"
  }
 },
 "nbformat": 4,
 "nbformat_minor": 0
}
