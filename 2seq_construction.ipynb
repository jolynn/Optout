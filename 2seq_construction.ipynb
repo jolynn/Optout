{
 "cells": [
  {
   "cell_type": "markdown",
   "metadata": {},
   "source": [
    "# OptOut Project Revision: Construct 18-year-long work sequences\n",
    "\n",
    "For the newly enlarged sample"
   ]
  },
  {
   "cell_type": "code",
   "execution_count": 1,
   "metadata": {
    "collapsed": false
   },
   "outputs": [
    {
     "name": "stderr",
     "output_type": "stream",
     "text": [
      "/Users/xzhuo/anaconda/lib/python2.7/site-packages/matplotlib/__init__.py:872: UserWarning: axes.color_cycle is deprecated and replaced with axes.prop_cycle; please use the latter.\n",
      "  warnings.warn(self.msg_depr % (key, alt_key))\n"
     ]
    }
   ],
   "source": [
    "#setup\n",
    "%matplotlib inline\n",
    "import numpy as np\n",
    "import matplotlib.pyplot as plt\n",
    "import pandas as pd\n",
    "from collections import defaultdict\n",
    "from operator import itemgetter\n",
    "from datetime import datetime\n",
    "\n",
    "# set some nicer defaults for matplotlib\n",
    "from matplotlib import rcParams\n",
    "\n",
    "#these colors come from colorbrewer2.org. Each is an RGB triplet\n",
    "dark2_colors = [(0.10588235294117647, 0.6196078431372549, 0.4666666666666667),\n",
    "                (0.8509803921568627, 0.37254901960784315, 0.00784313725490196),\n",
    "                (0.4588235294117647, 0.4392156862745098, 0.7019607843137254),\n",
    "                (0.9058823529411765, 0.1607843137254902, 0.5411764705882353),\n",
    "                (0.4, 0.6509803921568628, 0.11764705882352941),\n",
    "                (0.9019607843137255, 0.6705882352941176, 0.00784313725490196),\n",
    "                (0.6509803921568628, 0.4627450980392157, 0.11372549019607843),\n",
    "                (0.4, 0.4, 0.4)]\n",
    "\n",
    "rcParams['figure.figsize'] = (10, 6)\n",
    "rcParams['figure.dpi'] = 150\n",
    "rcParams['axes.color_cycle'] = dark2_colors\n",
    "rcParams['lines.linewidth'] = 2\n",
    "rcParams['axes.grid'] = False\n",
    "rcParams['axes.facecolor'] = 'white'\n",
    "rcParams['font.size'] = 14\n",
    "rcParams['patch.edgecolor'] = 'none'\n",
    "\n",
    "def remove_border(axes=None, top=False, right=False, left=True, bottom=True):\n",
    "    \"\"\"\n",
    "    Minimize chartjunk by stripping out unnecessary plot borders and axis ticks\n",
    "    \n",
    "    The top/right/left/bottom keywords toggle whether the corresponding plot border is drawn\n",
    "    \"\"\"\n",
    "    ax = axes or plt.gca()\n",
    "    ax.spines['top'].set_visible(top)\n",
    "    ax.spines['right'].set_visible(right)\n",
    "    ax.spines['left'].set_visible(left)\n",
    "    ax.spines['bottom'].set_visible(bottom)\n",
    "    \n",
    "    #turn off all ticks\n",
    "    ax.yaxis.set_ticks_position('none')\n",
    "    ax.xaxis.set_ticks_position('none')\n",
    "    \n",
    "    #now re-enable visibles\n",
    "    if top:\n",
    "        ax.xaxis.tick_top()\n",
    "    if bottom:\n",
    "        ax.xaxis.tick_bottom()\n",
    "    if left:\n",
    "        ax.yaxis.tick_left()\n",
    "    if right:\n",
    "        ax.yaxis.tick_right()"
   ]
  },
  {
   "cell_type": "markdown",
   "metadata": {},
   "source": [
    "## Week-to-week crosswalk\n",
    "\n",
    "Create two functions to convert between week number and calendar year and month"
   ]
  },
  {
   "cell_type": "code",
   "execution_count": 2,
   "metadata": {
    "collapsed": false
   },
   "outputs": [
    {
     "data": {
      "text/html": [
       "<div>\n",
       "<table border=\"1\" class=\"dataframe\">\n",
       "  <thead>\n",
       "    <tr style=\"text-align: right;\">\n",
       "      <th></th>\n",
       "      <th>Week Start:\n",
       "Month</th>\n",
       "      <th>Week Start: \n",
       "Day</th>\n",
       "      <th>Week Start: \n",
       "Year</th>\n",
       "      <th>Calendar Year \n",
       "Week Number</th>\n",
       "      <th>Continuous \n",
       "Week Number</th>\n",
       "    </tr>\n",
       "  </thead>\n",
       "  <tbody>\n",
       "    <tr>\n",
       "      <th>0</th>\n",
       "      <td>1</td>\n",
       "      <td>1</td>\n",
       "      <td>1978</td>\n",
       "      <td>1</td>\n",
       "      <td>1</td>\n",
       "    </tr>\n",
       "    <tr>\n",
       "      <th>1</th>\n",
       "      <td>1</td>\n",
       "      <td>8</td>\n",
       "      <td>1978</td>\n",
       "      <td>2</td>\n",
       "      <td>2</td>\n",
       "    </tr>\n",
       "    <tr>\n",
       "      <th>2</th>\n",
       "      <td>1</td>\n",
       "      <td>15</td>\n",
       "      <td>1978</td>\n",
       "      <td>3</td>\n",
       "      <td>3</td>\n",
       "    </tr>\n",
       "    <tr>\n",
       "      <th>3</th>\n",
       "      <td>1</td>\n",
       "      <td>22</td>\n",
       "      <td>1978</td>\n",
       "      <td>4</td>\n",
       "      <td>4</td>\n",
       "    </tr>\n",
       "    <tr>\n",
       "      <th>4</th>\n",
       "      <td>1</td>\n",
       "      <td>29</td>\n",
       "      <td>1978</td>\n",
       "      <td>5</td>\n",
       "      <td>5</td>\n",
       "    </tr>\n",
       "  </tbody>\n",
       "</table>\n",
       "</div>"
      ],
      "text/plain": [
       "   Week Start:\\nMonth  Week Start: \\nDay  Week Start: \\nYear  \\\n",
       "0                   1                  1                1978   \n",
       "1                   1                  8                1978   \n",
       "2                   1                 15                1978   \n",
       "3                   1                 22                1978   \n",
       "4                   1                 29                1978   \n",
       "\n",
       "   Calendar Year \\nWeek Number   Continuous \\nWeek Number  \n",
       "0                             1                         1  \n",
       "1                             2                         2  \n",
       "2                             3                         3  \n",
       "3                             4                         4  \n",
       "4                             5                         5  "
      ]
     },
     "execution_count": 2,
     "metadata": {},
     "output_type": "execute_result"
    }
   ],
   "source": [
    "#this is the file to switch between week number in NLSY79 and calendar year, month, and day\n",
    "xl_file = pd.ExcelFile('../data/continuous_week_crosswalk_2012.xlsx') \n",
    "weekdf = xl_file.parse('weekdates1')\n",
    "weekdf.head()"
   ]
  },
  {
   "cell_type": "code",
   "execution_count": 3,
   "metadata": {
    "collapsed": false
   },
   "outputs": [],
   "source": [
    "def get_week_num(year, month, which, df=weekdf):\n",
    "    \"\"\"\n",
    "    Given a calendar year and month, return the corresponding week number in NLSY79.\n",
    "    \n",
    "    If which=='first', return the first week in that month.\n",
    "    If which=='last', return the last week in that month. \n",
    "    \"\"\"\n",
    "    \n",
    "    the_month = weekdf[(weekdf['Week Start:\\nMonth']==month)&(weekdf['Week Start: \\nYear']==year)]\n",
    "    \n",
    "    if which == 'first':\n",
    "        return int(the_month.iloc[0]['Continuous \\nWeek Number'])\n",
    "    elif which == 'last':\n",
    "        return int(the_month.iloc[len(the_month)-1]['Continuous \\nWeek Number'])"
   ]
  },
  {
   "cell_type": "code",
   "execution_count": 4,
   "metadata": {
    "collapsed": false
   },
   "outputs": [],
   "source": [
    "def get_year_month(weeknum, df=weekdf):\n",
    "    \"\"\"\n",
    "    Given a week number, return the corresponding calendar month and year (yyyy, m).\n",
    "    \"\"\"\n",
    "    \n",
    "    the_week = weekdf[weekdf['Continuous \\nWeek Number']==weeknum]\n",
    "    return int(the_week.iloc[0]['Week Start: \\nYear']), int(the_week.iloc[0]['Week Start:\\nMonth'])"
   ]
  },
  {
   "cell_type": "markdown",
   "metadata": {},
   "source": [
    "## Retrieve analytic sample"
   ]
  },
  {
   "cell_type": "code",
   "execution_count": 5,
   "metadata": {
    "collapsed": false
   },
   "outputs": [
    {
     "name": "stdout",
     "output_type": "stream",
     "text": [
      "(3378, 36)\n"
     ]
    },
    {
     "data": {
      "text/html": [
       "<div>\n",
       "<table border=\"1\" class=\"dataframe\">\n",
       "  <thead>\n",
       "    <tr style=\"text-align: right;\">\n",
       "      <th></th>\n",
       "      <th>caseid_1979</th>\n",
       "      <th>sample_id_1979</th>\n",
       "      <th>sample_race_1979</th>\n",
       "      <th>sample_sex_1979</th>\n",
       "      <th>c1dob_m_xrnd</th>\n",
       "      <th>c1dob_y_xrnd</th>\n",
       "      <th>c2dob_m_xrnd</th>\n",
       "      <th>c2dob_y_xrnd</th>\n",
       "      <th>c3dob_m_xrnd</th>\n",
       "      <th>c3dob_y_xrnd</th>\n",
       "      <th>...</th>\n",
       "      <th>y_dob</th>\n",
       "      <th>m_dob</th>\n",
       "      <th>y_age35</th>\n",
       "      <th>y_deceased</th>\n",
       "      <th>last_yr</th>\n",
       "      <th>attr_before35</th>\n",
       "      <th>deceased_before35</th>\n",
       "      <th>y_child18</th>\n",
       "      <th>deceased_child18</th>\n",
       "      <th>attr_child18</th>\n",
       "    </tr>\n",
       "  </thead>\n",
       "  <tbody>\n",
       "    <tr>\n",
       "      <th>0</th>\n",
       "      <td>2</td>\n",
       "      <td>5</td>\n",
       "      <td>3</td>\n",
       "      <td>2</td>\n",
       "      <td>3</td>\n",
       "      <td>1993</td>\n",
       "      <td>11</td>\n",
       "      <td>1994</td>\n",
       "      <td>-4</td>\n",
       "      <td>-4</td>\n",
       "      <td>...</td>\n",
       "      <td>1959</td>\n",
       "      <td>1</td>\n",
       "      <td>1994</td>\n",
       "      <td>NaN</td>\n",
       "      <td>2012</td>\n",
       "      <td>False</td>\n",
       "      <td>False</td>\n",
       "      <td>2011</td>\n",
       "      <td>False</td>\n",
       "      <td>False</td>\n",
       "    </tr>\n",
       "    <tr>\n",
       "      <th>1</th>\n",
       "      <td>3</td>\n",
       "      <td>5</td>\n",
       "      <td>3</td>\n",
       "      <td>2</td>\n",
       "      <td>6</td>\n",
       "      <td>1981</td>\n",
       "      <td>10</td>\n",
       "      <td>1983</td>\n",
       "      <td>4</td>\n",
       "      <td>1986</td>\n",
       "      <td>...</td>\n",
       "      <td>1961</td>\n",
       "      <td>8</td>\n",
       "      <td>1996</td>\n",
       "      <td>NaN</td>\n",
       "      <td>2012</td>\n",
       "      <td>False</td>\n",
       "      <td>False</td>\n",
       "      <td>1999</td>\n",
       "      <td>False</td>\n",
       "      <td>False</td>\n",
       "    </tr>\n",
       "    <tr>\n",
       "      <th>2</th>\n",
       "      <td>4</td>\n",
       "      <td>5</td>\n",
       "      <td>3</td>\n",
       "      <td>2</td>\n",
       "      <td>8</td>\n",
       "      <td>1980</td>\n",
       "      <td>3</td>\n",
       "      <td>1997</td>\n",
       "      <td>-4</td>\n",
       "      <td>-4</td>\n",
       "      <td>...</td>\n",
       "      <td>1962</td>\n",
       "      <td>8</td>\n",
       "      <td>1997</td>\n",
       "      <td>NaN</td>\n",
       "      <td>1998</td>\n",
       "      <td>False</td>\n",
       "      <td>False</td>\n",
       "      <td>1998</td>\n",
       "      <td>False</td>\n",
       "      <td>False</td>\n",
       "    </tr>\n",
       "    <tr>\n",
       "      <th>3</th>\n",
       "      <td>8</td>\n",
       "      <td>6</td>\n",
       "      <td>3</td>\n",
       "      <td>2</td>\n",
       "      <td>3</td>\n",
       "      <td>1976</td>\n",
       "      <td>5</td>\n",
       "      <td>1979</td>\n",
       "      <td>9</td>\n",
       "      <td>1982</td>\n",
       "      <td>...</td>\n",
       "      <td>1958</td>\n",
       "      <td>7</td>\n",
       "      <td>1993</td>\n",
       "      <td>NaN</td>\n",
       "      <td>2012</td>\n",
       "      <td>False</td>\n",
       "      <td>False</td>\n",
       "      <td>1994</td>\n",
       "      <td>False</td>\n",
       "      <td>False</td>\n",
       "    </tr>\n",
       "    <tr>\n",
       "      <th>4</th>\n",
       "      <td>16</td>\n",
       "      <td>5</td>\n",
       "      <td>3</td>\n",
       "      <td>2</td>\n",
       "      <td>2</td>\n",
       "      <td>1990</td>\n",
       "      <td>8</td>\n",
       "      <td>1993</td>\n",
       "      <td>9</td>\n",
       "      <td>1996</td>\n",
       "      <td>...</td>\n",
       "      <td>1958</td>\n",
       "      <td>10</td>\n",
       "      <td>1993</td>\n",
       "      <td>NaN</td>\n",
       "      <td>2012</td>\n",
       "      <td>False</td>\n",
       "      <td>False</td>\n",
       "      <td>2008</td>\n",
       "      <td>False</td>\n",
       "      <td>False</td>\n",
       "    </tr>\n",
       "  </tbody>\n",
       "</table>\n",
       "<p>5 rows × 36 columns</p>\n",
       "</div>"
      ],
      "text/plain": [
       "   caseid_1979  sample_id_1979  sample_race_1979  sample_sex_1979  \\\n",
       "0            2               5                 3                2   \n",
       "1            3               5                 3                2   \n",
       "2            4               5                 3                2   \n",
       "3            8               6                 3                2   \n",
       "4           16               5                 3                2   \n",
       "\n",
       "   c1dob_m_xrnd  c1dob_y_xrnd  c2dob_m_xrnd  c2dob_y_xrnd  c3dob_m_xrnd  \\\n",
       "0             3          1993            11          1994            -4   \n",
       "1             6          1981            10          1983             4   \n",
       "2             8          1980             3          1997            -4   \n",
       "3             3          1976             5          1979             9   \n",
       "4             2          1990             8          1993             9   \n",
       "\n",
       "   c3dob_y_xrnd      ...       y_dob  m_dob  y_age35  y_deceased  last_yr  \\\n",
       "0            -4      ...        1959      1     1994         NaN     2012   \n",
       "1          1986      ...        1961      8     1996         NaN     2012   \n",
       "2            -4      ...        1962      8     1997         NaN     1998   \n",
       "3          1982      ...        1958      7     1993         NaN     2012   \n",
       "4          1996      ...        1958     10     1993         NaN     2012   \n",
       "\n",
       "   attr_before35  deceased_before35  y_child18  deceased_child18  attr_child18  \n",
       "0          False              False       2011             False         False  \n",
       "1          False              False       1999             False         False  \n",
       "2          False              False       1998             False         False  \n",
       "3          False              False       1994             False         False  \n",
       "4          False              False       2008             False         False  \n",
       "\n",
       "[5 rows x 36 columns]"
      ]
     },
     "execution_count": 5,
     "metadata": {},
     "output_type": "execute_result"
    }
   ],
   "source": [
    "analytic_df = pd.read_csv('../data/analytic_df.csv') #includes fertility data\n",
    "print analytic_df.shape\n",
    "analytic_df.head()"
   ]
  },
  {
   "cell_type": "markdown",
   "metadata": {},
   "source": [
    "## Read weekly arrays and within-job gap dates"
   ]
  },
  {
   "cell_type": "code",
   "execution_count": 6,
   "metadata": {
    "collapsed": false
   },
   "outputs": [
    {
     "name": "stdout",
     "output_type": "stream",
     "text": [
      "(12686, 3763)\n",
      "Index([u'caseid_1979', u'sample_race_1979', u'sample_sex_1979',\n",
      "       u'hrs_worked_wk_num0000_xrnd', u'hrs_worked_wk_num0001_xrnd',\n",
      "       u'hrs_worked_wk_num0002_xrnd', u'hrs_worked_wk_num0003_xrnd',\n",
      "       u'hrs_worked_wk_num0004_xrnd', u'hrs_worked_wk_num0005_xrnd',\n",
      "       u'hrs_worked_wk_num0006_xrnd', u'hrs_worked_wk_num0007_xrnd',\n",
      "       u'hrs_worked_wk_num0008_xrnd', u'hrs_worked_wk_num0009_xrnd',\n",
      "       u'hrs_worked_wk_num0010_xrnd', u'hrs_worked_wk_num0011_xrnd',\n",
      "       u'hrs_worked_wk_num0012_xrnd', u'hrs_worked_wk_num0013_xrnd',\n",
      "       u'hrs_worked_wk_num0014_xrnd', u'hrs_worked_wk_num0015_xrnd',\n",
      "       u'hrs_worked_wk_num0016_xrnd'],\n",
      "      dtype='object')\n"
     ]
    }
   ],
   "source": [
    "#read weekly array data\n",
    "wkarray_df = pd.read_csv('../data/weeklyarrays.csv')\n",
    "print wkarray_df.shape\n",
    "print wkarray_df.columns[:20]"
   ]
  },
  {
   "cell_type": "code",
   "execution_count": 7,
   "metadata": {
    "collapsed": false
   },
   "outputs": [
    {
     "name": "stdout",
     "output_type": "stream",
     "text": [
      "(12686, 807)\n",
      "Index([u'caseid_1979', u'per1_start_1979_job01_xrnd',\n",
      "       u'per1_start_1979_job02_xrnd', u'per1_start_1979_job03_xrnd',\n",
      "       u'per1_start_1979_job04_xrnd', u'per1_start_1979_job05_xrnd',\n",
      "       u'per1_stop_1979_job01_xrnd', u'per1_stop_1979_job02_xrnd',\n",
      "       u'per1_stop_1979_job03_xrnd', u'per1_stop_1979_job04_xrnd',\n",
      "       u'per1_stop_1979_job05_xrnd', u'per2_start_1979_job01_xrnd',\n",
      "       u'per2_start_1979_job02_xrnd', u'per2_start_1979_job03_xrnd',\n",
      "       u'per2_start_1979_job04_xrnd', u'per2_start_1979_job05_xrnd',\n",
      "       u'per2_stop_1979_job01_xrnd', u'per2_stop_1979_job02_xrnd',\n",
      "       u'per2_stop_1979_job03_xrnd', u'per2_stop_1979_job04_xrnd'],\n",
      "      dtype='object')\n"
     ]
    }
   ],
   "source": [
    "#read within-job-gap data\n",
    "gap_df = pd.read_csv(\"../data/withingaps.csv\")\n",
    "print gap_df.shape\n",
    "print gap_df.columns[:20]"
   ]
  },
  {
   "cell_type": "code",
   "execution_count": 8,
   "metadata": {
    "collapsed": false
   },
   "outputs": [
    {
     "name": "stdout",
     "output_type": "stream",
     "text": [
      " 0     710\n",
      " 40     89\n",
      " 30     13\n",
      " 35     13\n",
      " 20     11\n",
      " 25      8\n",
      "-3       7\n",
      " 15      7\n",
      " 50      6\n",
      " 45      5\n",
      " 32      4\n",
      " 37      4\n",
      " 10      3\n",
      " 24      3\n",
      " 8       3\n",
      " 36      3\n",
      " 42      3\n",
      " 7       2\n",
      " 38      2\n",
      " 28      2\n",
      " 72      2\n",
      " 39      2\n",
      " 18      2\n",
      " 6       1\n",
      " 5       1\n",
      " 4       1\n",
      " 12      1\n",
      " 2       1\n",
      " 16      1\n",
      " 19      1\n",
      " 22      1\n",
      " 26      1\n",
      " 33      1\n",
      " 43      1\n",
      " 48      1\n",
      " 52      1\n",
      " 55      1\n",
      " 27      1\n",
      "Name: hrs_worked_wk_num0000_xrnd, dtype: int64\n"
     ]
    }
   ],
   "source": [
    "#did young mother ever work before 1978? YES, some did\n",
    "young_mom_df = analytic_df[analytic_df.c1dob_y_xrnd<1980]\n",
    "print wkarray_df[wkarray_df.caseid_1979.isin(young_mom_df.caseid_1979)].hrs_worked_wk_num0000_xrnd.value_counts()"
   ]
  },
  {
   "cell_type": "markdown",
   "metadata": {},
   "source": [
    "## Identify maternity leaves\n",
    "\n",
    "Maternity leave could cover the birth, start after the birth, or end before the birth. \n",
    "\n",
    "Let's assume any within-job gap that start or end within 4 months (16 weeks) of birth as maternity leave. There are relatively fewer maternity gaps that finished within 16 weeks before birth, so do not consider within-job gaps that ended within 16 weeks before birth as maternity leave."
   ]
  },
  {
   "cell_type": "markdown",
   "metadata": {},
   "source": [
    "### Does any of our respondents have gaps that started/ended prior to 1/1/1978? \n",
    "\n",
    "Three respondents had a within-job gap that started or ended prior to 1/1/1978. It is strange that respondent 1539 had a stop date prior to 1/1/1978, but did not report a start date prior to 1/1/978. \n",
    "\n",
    "Two of these respondents had first births after 1978, so these gaps that started/ended prior to 1/1/1978 won't produce any missing cases for them. Respondent 6587 gave first birth in 1974. She reported a job gap started before 1978, and the end date for the gap is missing (-3), and she worked 40 hours prior to 1/1/1978. She worked 40 hours, and there were 4 years between her birth and 1978. **Assume the gap is not maternity leave gap.** - <font color='red'>CONFIRM WITH SASHA</font>"
   ]
  },
  {
   "cell_type": "code",
   "execution_count": 10,
   "metadata": {
    "collapsed": false
   },
   "outputs": [
    {
     "data": {
      "text/plain": [
       "Index([u'caseid_1979', u'sample_id_1979', u'sample_race_1979',\n",
       "       u'sample_sex_1979', u'c1dob_m_xrnd', u'c1dob_y_xrnd', u'c2dob_m_xrnd',\n",
       "       u'c2dob_y_xrnd', u'c3dob_m_xrnd', u'c3dob_y_xrnd',\n",
       "       ...\n",
       "       u'per3_start_2012_job01_xrnd', u'per3_start_2012_job02_xrnd',\n",
       "       u'per3_start_2012_job03_xrnd', u'per3_stop_2012_job01_xrnd',\n",
       "       u'per3_stop_2012_job02_xrnd', u'per3_stop_2012_job03_xrnd',\n",
       "       u'per4_start_2012_job01_xrnd', u'per4_start_2012_job02_xrnd',\n",
       "       u'per4_stop_2012_job01_xrnd', u'per4_stop_2012_job02_xrnd'],\n",
       "      dtype='object', length=842)"
      ]
     },
     "execution_count": 10,
     "metadata": {},
     "output_type": "execute_result"
    }
   ],
   "source": [
    "merged = analytic_df.merge(gap_df, on='caseid_1979') # merge datasets\n",
    "merged.columns"
   ]
  },
  {
   "cell_type": "code",
   "execution_count": 19,
   "metadata": {
    "collapsed": false
   },
   "outputs": [
    {
     "name": "stdout",
     "output_type": "stream",
     "text": [
      "per1_start_1979_job02_xrnd 1\n",
      "per1_stop_1979_job01_xrnd 1\n",
      "per2_start_1979_job02_xrnd 1\n"
     ]
    }
   ],
   "source": [
    "# count how many zero values in each job gap column\n",
    "\n",
    "for col in merged.columns.tolist():\n",
    "    if col.startswith('per'): # only check job gap columns\n",
    "        count = sum(merged[col]==0)\n",
    "        if count > 0:\n",
    "            print col, count"
   ]
  },
  {
   "cell_type": "code",
   "execution_count": 22,
   "metadata": {
    "collapsed": false
   },
   "outputs": [
    {
     "data": {
      "text/html": [
       "<div>\n",
       "<table border=\"1\" class=\"dataframe\">\n",
       "  <thead>\n",
       "    <tr style=\"text-align: right;\">\n",
       "      <th></th>\n",
       "      <th>caseid_1979</th>\n",
       "      <th>sample_id_1979</th>\n",
       "      <th>sample_race_1979</th>\n",
       "      <th>sample_sex_1979</th>\n",
       "      <th>c1dob_m_xrnd</th>\n",
       "      <th>c1dob_y_xrnd</th>\n",
       "      <th>c2dob_m_xrnd</th>\n",
       "      <th>c2dob_y_xrnd</th>\n",
       "      <th>c3dob_m_xrnd</th>\n",
       "      <th>c3dob_y_xrnd</th>\n",
       "      <th>...</th>\n",
       "      <th>per3_start_2012_job01_xrnd</th>\n",
       "      <th>per3_start_2012_job02_xrnd</th>\n",
       "      <th>per3_start_2012_job03_xrnd</th>\n",
       "      <th>per3_stop_2012_job01_xrnd</th>\n",
       "      <th>per3_stop_2012_job02_xrnd</th>\n",
       "      <th>per3_stop_2012_job03_xrnd</th>\n",
       "      <th>per4_start_2012_job01_xrnd</th>\n",
       "      <th>per4_start_2012_job02_xrnd</th>\n",
       "      <th>per4_stop_2012_job01_xrnd</th>\n",
       "      <th>per4_stop_2012_job02_xrnd</th>\n",
       "    </tr>\n",
       "  </thead>\n",
       "  <tbody>\n",
       "    <tr>\n",
       "      <th>2193</th>\n",
       "      <td>6587</td>\n",
       "      <td>13</td>\n",
       "      <td>2</td>\n",
       "      <td>2</td>\n",
       "      <td>5</td>\n",
       "      <td>1974</td>\n",
       "      <td>1</td>\n",
       "      <td>1978</td>\n",
       "      <td>3</td>\n",
       "      <td>1982</td>\n",
       "      <td>...</td>\n",
       "      <td>-4</td>\n",
       "      <td>-4</td>\n",
       "      <td>-4</td>\n",
       "      <td>-4</td>\n",
       "      <td>-4</td>\n",
       "      <td>-4</td>\n",
       "      <td>-4</td>\n",
       "      <td>-4</td>\n",
       "      <td>-4</td>\n",
       "      <td>-4</td>\n",
       "    </tr>\n",
       "  </tbody>\n",
       "</table>\n",
       "<p>1 rows × 842 columns</p>\n",
       "</div>"
      ],
      "text/plain": [
       "      caseid_1979  sample_id_1979  sample_race_1979  sample_sex_1979  \\\n",
       "2193         6587              13                 2                2   \n",
       "\n",
       "      c1dob_m_xrnd  c1dob_y_xrnd  c2dob_m_xrnd  c2dob_y_xrnd  c3dob_m_xrnd  \\\n",
       "2193             5          1974             1          1978             3   \n",
       "\n",
       "      c3dob_y_xrnd            ...              per3_start_2012_job01_xrnd  \\\n",
       "2193          1982            ...                                      -4   \n",
       "\n",
       "      per3_start_2012_job02_xrnd  per3_start_2012_job03_xrnd  \\\n",
       "2193                          -4                          -4   \n",
       "\n",
       "      per3_stop_2012_job01_xrnd  per3_stop_2012_job02_xrnd  \\\n",
       "2193                         -4                         -4   \n",
       "\n",
       "      per3_stop_2012_job03_xrnd  per4_start_2012_job01_xrnd  \\\n",
       "2193                         -4                          -4   \n",
       "\n",
       "      per4_start_2012_job02_xrnd  per4_stop_2012_job01_xrnd  \\\n",
       "2193                          -4                         -4   \n",
       "\n",
       "      per4_stop_2012_job02_xrnd  \n",
       "2193                         -4  \n",
       "\n",
       "[1 rows x 842 columns]"
      ]
     },
     "execution_count": 22,
     "metadata": {},
     "output_type": "execute_result"
    }
   ],
   "source": [
    "# who are the respondents with job gap weeks prior to 1/1/1978?\n",
    "merged[merged.per1_start_1979_job02_xrnd==0]"
   ]
  },
  {
   "cell_type": "code",
   "execution_count": 23,
   "metadata": {
    "collapsed": false
   },
   "outputs": [
    {
     "data": {
      "text/html": [
       "<div>\n",
       "<table border=\"1\" class=\"dataframe\">\n",
       "  <thead>\n",
       "    <tr style=\"text-align: right;\">\n",
       "      <th></th>\n",
       "      <th>caseid_1979</th>\n",
       "      <th>sample_id_1979</th>\n",
       "      <th>sample_race_1979</th>\n",
       "      <th>sample_sex_1979</th>\n",
       "      <th>c1dob_m_xrnd</th>\n",
       "      <th>c1dob_y_xrnd</th>\n",
       "      <th>c2dob_m_xrnd</th>\n",
       "      <th>c2dob_y_xrnd</th>\n",
       "      <th>c3dob_m_xrnd</th>\n",
       "      <th>c3dob_y_xrnd</th>\n",
       "      <th>...</th>\n",
       "      <th>per3_start_2012_job01_xrnd</th>\n",
       "      <th>per3_start_2012_job02_xrnd</th>\n",
       "      <th>per3_start_2012_job03_xrnd</th>\n",
       "      <th>per3_stop_2012_job01_xrnd</th>\n",
       "      <th>per3_stop_2012_job02_xrnd</th>\n",
       "      <th>per3_stop_2012_job03_xrnd</th>\n",
       "      <th>per4_start_2012_job01_xrnd</th>\n",
       "      <th>per4_start_2012_job02_xrnd</th>\n",
       "      <th>per4_stop_2012_job01_xrnd</th>\n",
       "      <th>per4_stop_2012_job02_xrnd</th>\n",
       "    </tr>\n",
       "  </thead>\n",
       "  <tbody>\n",
       "    <tr>\n",
       "      <th>504</th>\n",
       "      <td>1539</td>\n",
       "      <td>6</td>\n",
       "      <td>3</td>\n",
       "      <td>2</td>\n",
       "      <td>12</td>\n",
       "      <td>1983</td>\n",
       "      <td>3</td>\n",
       "      <td>1986</td>\n",
       "      <td>-4</td>\n",
       "      <td>-4</td>\n",
       "      <td>...</td>\n",
       "      <td>-4</td>\n",
       "      <td>-4</td>\n",
       "      <td>-4</td>\n",
       "      <td>-4</td>\n",
       "      <td>-4</td>\n",
       "      <td>-4</td>\n",
       "      <td>-4</td>\n",
       "      <td>-4</td>\n",
       "      <td>-4</td>\n",
       "      <td>-4</td>\n",
       "    </tr>\n",
       "  </tbody>\n",
       "</table>\n",
       "<p>1 rows × 842 columns</p>\n",
       "</div>"
      ],
      "text/plain": [
       "     caseid_1979  sample_id_1979  sample_race_1979  sample_sex_1979  \\\n",
       "504         1539               6                 3                2   \n",
       "\n",
       "     c1dob_m_xrnd  c1dob_y_xrnd  c2dob_m_xrnd  c2dob_y_xrnd  c3dob_m_xrnd  \\\n",
       "504            12          1983             3          1986            -4   \n",
       "\n",
       "     c3dob_y_xrnd            ...              per3_start_2012_job01_xrnd  \\\n",
       "504            -4            ...                                      -4   \n",
       "\n",
       "     per3_start_2012_job02_xrnd  per3_start_2012_job03_xrnd  \\\n",
       "504                          -4                          -4   \n",
       "\n",
       "     per3_stop_2012_job01_xrnd  per3_stop_2012_job02_xrnd  \\\n",
       "504                         -4                         -4   \n",
       "\n",
       "     per3_stop_2012_job03_xrnd  per4_start_2012_job01_xrnd  \\\n",
       "504                         -4                          -4   \n",
       "\n",
       "     per4_start_2012_job02_xrnd  per4_stop_2012_job01_xrnd  \\\n",
       "504                          -4                         -4   \n",
       "\n",
       "     per4_stop_2012_job02_xrnd  \n",
       "504                         -4  \n",
       "\n",
       "[1 rows x 842 columns]"
      ]
     },
     "execution_count": 23,
     "metadata": {},
     "output_type": "execute_result"
    }
   ],
   "source": [
    "merged[merged.per1_stop_1979_job01_xrnd==0]"
   ]
  },
  {
   "cell_type": "code",
   "execution_count": 24,
   "metadata": {
    "collapsed": false
   },
   "outputs": [
    {
     "data": {
      "text/html": [
       "<div>\n",
       "<table border=\"1\" class=\"dataframe\">\n",
       "  <thead>\n",
       "    <tr style=\"text-align: right;\">\n",
       "      <th></th>\n",
       "      <th>caseid_1979</th>\n",
       "      <th>sample_id_1979</th>\n",
       "      <th>sample_race_1979</th>\n",
       "      <th>sample_sex_1979</th>\n",
       "      <th>c1dob_m_xrnd</th>\n",
       "      <th>c1dob_y_xrnd</th>\n",
       "      <th>c2dob_m_xrnd</th>\n",
       "      <th>c2dob_y_xrnd</th>\n",
       "      <th>c3dob_m_xrnd</th>\n",
       "      <th>c3dob_y_xrnd</th>\n",
       "      <th>...</th>\n",
       "      <th>per3_start_2012_job01_xrnd</th>\n",
       "      <th>per3_start_2012_job02_xrnd</th>\n",
       "      <th>per3_start_2012_job03_xrnd</th>\n",
       "      <th>per3_stop_2012_job01_xrnd</th>\n",
       "      <th>per3_stop_2012_job02_xrnd</th>\n",
       "      <th>per3_stop_2012_job03_xrnd</th>\n",
       "      <th>per4_start_2012_job01_xrnd</th>\n",
       "      <th>per4_start_2012_job02_xrnd</th>\n",
       "      <th>per4_stop_2012_job01_xrnd</th>\n",
       "      <th>per4_stop_2012_job02_xrnd</th>\n",
       "    </tr>\n",
       "  </thead>\n",
       "  <tbody>\n",
       "    <tr>\n",
       "      <th>2034</th>\n",
       "      <td>6114</td>\n",
       "      <td>13</td>\n",
       "      <td>2</td>\n",
       "      <td>2</td>\n",
       "      <td>11</td>\n",
       "      <td>1981</td>\n",
       "      <td>4</td>\n",
       "      <td>1986</td>\n",
       "      <td>8</td>\n",
       "      <td>1992</td>\n",
       "      <td>...</td>\n",
       "      <td>-4</td>\n",
       "      <td>-4</td>\n",
       "      <td>-4</td>\n",
       "      <td>-4</td>\n",
       "      <td>-4</td>\n",
       "      <td>-4</td>\n",
       "      <td>-4</td>\n",
       "      <td>-4</td>\n",
       "      <td>-4</td>\n",
       "      <td>-4</td>\n",
       "    </tr>\n",
       "  </tbody>\n",
       "</table>\n",
       "<p>1 rows × 842 columns</p>\n",
       "</div>"
      ],
      "text/plain": [
       "      caseid_1979  sample_id_1979  sample_race_1979  sample_sex_1979  \\\n",
       "2034         6114              13                 2                2   \n",
       "\n",
       "      c1dob_m_xrnd  c1dob_y_xrnd  c2dob_m_xrnd  c2dob_y_xrnd  c3dob_m_xrnd  \\\n",
       "2034            11          1981             4          1986             8   \n",
       "\n",
       "      c3dob_y_xrnd            ...              per3_start_2012_job01_xrnd  \\\n",
       "2034          1992            ...                                      -4   \n",
       "\n",
       "      per3_start_2012_job02_xrnd  per3_start_2012_job03_xrnd  \\\n",
       "2034                          -4                          -4   \n",
       "\n",
       "      per3_stop_2012_job01_xrnd  per3_stop_2012_job02_xrnd  \\\n",
       "2034                         -4                         -4   \n",
       "\n",
       "      per3_stop_2012_job03_xrnd  per4_start_2012_job01_xrnd  \\\n",
       "2034                         -4                          -4   \n",
       "\n",
       "      per4_start_2012_job02_xrnd  per4_stop_2012_job01_xrnd  \\\n",
       "2034                          -4                         -4   \n",
       "\n",
       "      per4_stop_2012_job02_xrnd  \n",
       "2034                         -4  \n",
       "\n",
       "[1 rows x 842 columns]"
      ]
     },
     "execution_count": 24,
     "metadata": {},
     "output_type": "execute_result"
    }
   ],
   "source": [
    "merged[merged.per2_start_1979_job02_xrnd==0]"
   ]
  },
  {
   "cell_type": "code",
   "execution_count": 27,
   "metadata": {
    "collapsed": false
   },
   "outputs": [
    {
     "data": {
      "text/html": [
       "<div>\n",
       "<table border=\"1\" class=\"dataframe\">\n",
       "  <thead>\n",
       "    <tr style=\"text-align: right;\">\n",
       "      <th></th>\n",
       "      <th>caseid_1979</th>\n",
       "      <th>c1dob_y_xrnd</th>\n",
       "    </tr>\n",
       "  </thead>\n",
       "  <tbody>\n",
       "    <tr>\n",
       "      <th>432</th>\n",
       "      <td>1359</td>\n",
       "      <td>1987</td>\n",
       "    </tr>\n",
       "    <tr>\n",
       "      <th>2034</th>\n",
       "      <td>6114</td>\n",
       "      <td>1981</td>\n",
       "    </tr>\n",
       "    <tr>\n",
       "      <th>2193</th>\n",
       "      <td>6587</td>\n",
       "      <td>1974</td>\n",
       "    </tr>\n",
       "  </tbody>\n",
       "</table>\n",
       "</div>"
      ],
      "text/plain": [
       "      caseid_1979  c1dob_y_xrnd\n",
       "432          1359          1987\n",
       "2034         6114          1981\n",
       "2193         6587          1974"
      ]
     },
     "execution_count": 27,
     "metadata": {},
     "output_type": "execute_result"
    }
   ],
   "source": [
    "# when did these three women have first births? \n",
    "merged[merged.caseid_1979.isin([6587, 1359, 6114])][['caseid_1979', 'c1dob_y_xrnd']]"
   ]
  },
  {
   "cell_type": "code",
   "execution_count": 28,
   "metadata": {
    "collapsed": false
   },
   "outputs": [
    {
     "data": {
      "text/plain": [
       "6586    40\n",
       "Name: hrs_worked_wk_num0000_xrnd, dtype: int64"
      ]
     },
     "execution_count": 28,
     "metadata": {},
     "output_type": "execute_result"
    }
   ],
   "source": [
    "wkarray_df[wkarray_df.caseid_1979==6587]['hrs_worked_wk_num0000_xrnd']"
   ]
  },
  {
   "cell_type": "markdown",
   "metadata": {},
   "source": [
    "### Write a function to retrieve all valid job gap start and end weeks"
   ]
  },
  {
   "cell_type": "code",
   "execution_count": 45,
   "metadata": {
    "collapsed": true
   },
   "outputs": [],
   "source": [
    "missing_data = defaultdict(list) # store missing information \n",
    "\n",
    "def get_gaps(row, d=missing_data):\n",
    "    \"\"\"\n",
    "    Given a row of respondent data, \n",
    "    Return a list of tuples (start week, end week) of work gaps for respondent i\n",
    "    \"\"\"\n",
    "    \n",
    "    gap_row = gap_df[gap_df.caseid_1979==row['caseid_1979']].iloc[0]\n",
    "    gaps = []\n",
    "    \n",
    "    #look for within-job gaps in all years. sometimes the gaps were recorded in later years\n",
    "    for y in range(1979, 1995)+range(1996, 2013, 2): \n",
    "        for j in range(1, 5): #4 possible gap periods\n",
    "            for k in range(1, 6): #5 possible jobs\n",
    "                try: \n",
    "                    gap_start = gap_row['per%s_start_%s_job0%s_xrnd'%(j, y, k)]\n",
    "                    gap_stop = gap_row['per%s_stop_%s_job0%s_xrnd'%(j, y, k)]\n",
    "                    \n",
    "                    if gap_start >= 0 and gap_stop >= 0:\n",
    "                        gaps.append((gap_start, gap_stop))\n",
    "                    elif gap_start == -4 and gap_stop == -4:\n",
    "                        pass # valid skip\n",
    "                    else:\n",
    "                        missing_data['caseid_1979'].append(row['caseid_1979'])\n",
    "                        missing_data['start_col'].append('per%s_start_%s_job0%s_xrnd'%(j, y, k))\n",
    "                        missing_data['start'].append(gap_start) \n",
    "                        \n",
    "                        start_y = None\n",
    "                        start_m = None\n",
    "                        if gap_start > 0:\n",
    "                            start_y, start_m = get_year_month(gap_start)\n",
    "                        missing_data['start_y'].append(start_y)\n",
    "                        missing_data['start_m'].append(start_m)\n",
    "\n",
    "                        missing_data['end_col'].append('per%s_stop_%s_job0%s_xrnd'%(j, y, k))\n",
    "                        missing_data['end'].append(gap_stop)\n",
    "                        \n",
    "                        end_y = None\n",
    "                        end_m = None\n",
    "                        if gap_stop > 0:\n",
    "                            end_y, end_m = get_year_month(gap_stop)\n",
    "                        missing_data['end_y'].append(end_y)\n",
    "                        missing_data['end_m'].append(end_m)\n",
    "\n",
    "                        print 'missing data - id:', row['caseid_1979'], 'year:', y, 'gap #:', j, 'job #:', k, 'weeks: ', (gap_start, gap_stop)\n",
    "                        \n",
    "                except KeyError: # some years do not report 5 jobs\n",
    "                    pass\n",
    "                \n",
    "    return gaps"
   ]
  },
  {
   "cell_type": "code",
   "execution_count": 46,
   "metadata": {
    "collapsed": false,
    "scrolled": true
   },
   "outputs": [
    {
     "name": "stdout",
     "output_type": "stream",
     "text": [
      "missing data - id: 3 year: 1987 gap #: 1 job #: 2 weeks:  (-3, -3)\n",
      "missing data - id: 4 year: 1987 gap #: 2 job #: 1 weeks:  (471, -3)\n",
      "missing data - id: 92 year: 1992 gap #: 2 job #: 1 weeks:  (750, -3)\n",
      "missing data - id: 165 year: 1992 gap #: 2 job #: 1 weeks:  (752, -3)\n",
      "missing data - id: 340 year: 2006 gap #: 3 job #: 1 weeks:  (1513, -2)\n",
      "missing data - id: 395 year: 1988 gap #: 1 job #: 2 weeks:  (-3, -3)\n",
      "missing data - id: 400 year: 2008 gap #: 1 job #: 2 weeks:  (1559, -2)\n",
      "missing data - id: 444 year: 2012 gap #: 1 job #: 2 weeks:  (1695, -2)\n",
      "missing data - id: 452 year: 1989 gap #: 1 job #: 2 weeks:  (579, -3)\n",
      "missing data - id: 455 year: 1979 gap #: 3 job #: 2 weeks:  (2, -3)\n",
      "missing data - id: 455 year: 1989 gap #: 1 job #: 2 weeks:  (582, -3)\n",
      "missing data - id: 459 year: 2002 gap #: 1 job #: 1 weeks:  (1275, -2)\n",
      "missing data - id: 582 year: 1989 gap #: 1 job #: 2 weeks:  (565, -3)\n",
      "missing data - id: 582 year: 1990 gap #: 3 job #: 3 weeks:  (-3, 659)\n",
      "missing data - id: 635 year: 1996 gap #: 4 job #: 1 weeks:  (962, -2)\n",
      "missing data - id: 677 year: 1996 gap #: 1 job #: 2 weeks:  (-1, -2)\n",
      "missing data - id: 703 year: 1989 gap #: 1 job #: 2 weeks:  (575, -3)\n",
      "missing data - id: 724 year: 1979 gap #: 2 job #: 1 weeks:  (62, -3)\n",
      "missing data - id: 743 year: 2000 gap #: 1 job #: 3 weeks:  (1083, -2)\n",
      "missing data - id: 746 year: 1983 gap #: 1 job #: 1 weeks:  (-3, -3)\n",
      "missing data - id: 746 year: 1983 gap #: 2 job #: 1 weeks:  (-3, -3)\n",
      "missing data - id: 746 year: 1983 gap #: 3 job #: 1 weeks:  (-3, -3)\n",
      "missing data - id: 746 year: 1983 gap #: 4 job #: 1 weeks:  (-3, -3)\n",
      "missing data - id: 789 year: 1989 gap #: 1 job #: 2 weeks:  (555, -3)\n",
      "missing data - id: 803 year: 1989 gap #: 1 job #: 2 weeks:  (595, -3)\n",
      "missing data - id: 836 year: 1989 gap #: 1 job #: 2 weeks:  (-3, -3)\n",
      "missing data - id: 862 year: 2002 gap #: 1 job #: 2 weeks:  (1205, -2)\n",
      "missing data - id: 936 year: 2004 gap #: 1 job #: 2 weeks:  (1283, -2)\n",
      "missing data - id: 988 year: 1987 gap #: 1 job #: 3 weeks:  (-3, -3)\n",
      "missing data - id: 988 year: 1987 gap #: 2 job #: 3 weeks:  (-3, -3)\n",
      "missing data - id: 999 year: 1994 gap #: 1 job #: 2 weeks:  (-3, -3)\n",
      "missing data - id: 1116 year: 1990 gap #: 1 job #: 1 weeks:  (-3, -3)\n",
      "missing data - id: 1116 year: 1990 gap #: 1 job #: 2 weeks:  (-3, -3)\n",
      "missing data - id: 1225 year: 1988 gap #: 1 job #: 2 weeks:  (-3, -3)\n",
      "missing data - id: 1225 year: 1988 gap #: 1 job #: 3 weeks:  (-3, -3)\n",
      "missing data - id: 1225 year: 1989 gap #: 1 job #: 2 weeks:  (559, -3)\n",
      "missing data - id: 1308 year: 2012 gap #: 1 job #: 1 weeks:  (1562, -2)\n",
      "missing data - id: 1399 year: 1982 gap #: 1 job #: 1 weeks:  (-3, -3)\n",
      "missing data - id: 1419 year: 1979 gap #: 1 job #: 4 weeks:  (59, -3)\n",
      "missing data - id: 1446 year: 1982 gap #: 1 job #: 2 weeks:  (-3, -3)\n",
      "missing data - id: 1446 year: 1982 gap #: 2 job #: 2 weeks:  (-3, -3)\n",
      "missing data - id: 1446 year: 1982 gap #: 3 job #: 2 weeks:  (-3, -3)\n",
      "missing data - id: 1446 year: 1982 gap #: 4 job #: 2 weeks:  (-3, -3)\n",
      "missing data - id: 1446 year: 1989 gap #: 1 job #: 2 weeks:  (577, -3)\n",
      "missing data - id: 1482 year: 1982 gap #: 1 job #: 2 weeks:  (-3, -3)\n",
      "missing data - id: 1491 year: 1982 gap #: 1 job #: 2 weeks:  (-3, -3)\n",
      "missing data - id: 1512 year: 2004 gap #: 1 job #: 1 weeks:  (1364, -2)\n",
      "missing data - id: 1541 year: 1989 gap #: 1 job #: 2 weeks:  (569, -3)\n",
      "missing data - id: 1598 year: 1979 gap #: 1 job #: 1 weeks:  (-3, -3)\n",
      "missing data - id: 1640 year: 1988 gap #: 1 job #: 2 weeks:  (-3, -3)\n",
      "missing data - id: 1754 year: 1988 gap #: 1 job #: 1 weeks:  (-3, -3)\n",
      "missing data - id: 1768 year: 1989 gap #: 1 job #: 2 weeks:  (547, -3)\n",
      "missing data - id: 1831 year: 1991 gap #: 1 job #: 2 weeks:  (-3, -3)\n",
      "missing data - id: 1839 year: 2002 gap #: 1 job #: 1 weeks:  (1220, -2)\n",
      "missing data - id: 1900 year: 1994 gap #: 1 job #: 2 weeks:  (-3, -3)\n",
      "missing data - id: 1953 year: 1982 gap #: 1 job #: 1 weeks:  (-3, -3)\n",
      "missing data - id: 1953 year: 1982 gap #: 2 job #: 1 weeks:  (-3, -3)\n",
      "missing data - id: 1953 year: 1982 gap #: 3 job #: 1 weeks:  (-3, -3)\n",
      "missing data - id: 1953 year: 1982 gap #: 4 job #: 1 weeks:  (-3, -3)\n",
      "missing data - id: 2153 year: 2002 gap #: 1 job #: 1 weeks:  (1242, -1)\n",
      "missing data - id: 2193 year: 1986 gap #: 1 job #: 1 weeks:  (-3, -3)\n",
      "missing data - id: 2193 year: 1986 gap #: 2 job #: 1 weeks:  (-3, -3)\n",
      "missing data - id: 2193 year: 1986 gap #: 3 job #: 1 weeks:  (-3, -3)\n",
      "missing data - id: 2193 year: 1986 gap #: 4 job #: 1 weeks:  (-3, -3)\n",
      "missing data - id: 2210 year: 2002 gap #: 1 job #: 1 weeks:  (1229, -2)\n",
      "missing data - id: 2217 year: 1989 gap #: 1 job #: 2 weeks:  (565, -3)\n",
      "missing data - id: 2369 year: 1996 gap #: 1 job #: 2 weeks:  (952, -1)\n",
      "missing data - id: 2396 year: 2006 gap #: 1 job #: 2 weeks:  (1482, -2)\n",
      "missing data - id: 2407 year: 1992 gap #: 1 job #: 1 weeks:  (-3, -3)\n",
      "missing data - id: 2492 year: 1982 gap #: 2 job #: 1 weeks:  (-3, -3)\n",
      "missing data - id: 2499 year: 1979 gap #: 2 job #: 3 weeks:  (45, -3)\n",
      "missing data - id: 2515 year: 2004 gap #: 3 job #: 1 weeks:  (1380, -2)\n",
      "missing data - id: 2615 year: 2008 gap #: 1 job #: 1 weeks:  (1569, -2)\n",
      "missing data - id: 2669 year: 1982 gap #: 1 job #: 1 weeks:  (-3, -3)\n",
      "missing data - id: 2669 year: 1982 gap #: 2 job #: 1 weeks:  (-3, -3)\n",
      "missing data - id: 2669 year: 1982 gap #: 3 job #: 1 weeks:  (-3, -3)\n",
      "missing data - id: 2669 year: 1982 gap #: 4 job #: 1 weeks:  (-3, -3)\n",
      "missing data - id: 2683 year: 1994 gap #: 1 job #: 1 weeks:  (867, -3)\n",
      "missing data - id: 2712 year: 1988 gap #: 1 job #: 1 weeks:  (513, -3)\n",
      "missing data - id: 2739 year: 1989 gap #: 1 job #: 2 weeks:  (599, -3)\n",
      "missing data - id: 2792 year: 1988 gap #: 1 job #: 2 weeks:  (-3, -3)\n",
      "missing data - id: 2823 year: 1988 gap #: 1 job #: 2 weeks:  (-3, -3)\n",
      "missing data - id: 2834 year: 1989 gap #: 1 job #: 2 weeks:  (553, -3)\n",
      "missing data - id: 2855 year: 1989 gap #: 1 job #: 2 weeks:  (553, -3)\n",
      "missing data - id: 2952 year: 1989 gap #: 1 job #: 2 weeks:  (552, -3)\n",
      "missing data - id: 3012 year: 1979 gap #: 1 job #: 1 weeks:  (4, -3)\n",
      "missing data - id: 3073 year: 1990 gap #: 1 job #: 1 weeks:  (630, -3)\n",
      "missing data - id: 3154 year: 1979 gap #: 2 job #: 1 weeks:  (20, -3)\n",
      "missing data - id: 3155 year: 1996 gap #: 1 job #: 1 weeks:  (-1, -2)\n",
      "missing data - id: 3198 year: 1989 gap #: 1 job #: 2 weeks:  (596, -3)\n",
      "missing data - id: 3201 year: 1988 gap #: 1 job #: 1 weeks:  (-3, -3)\n",
      "missing data - id: 3243 year: 1988 gap #: 3 job #: 1 weeks:  (-3, -3)\n",
      "missing data - id: 3269 year: 1989 gap #: 1 job #: 2 weeks:  (570, -3)\n",
      "missing data - id: 3303 year: 1979 gap #: 1 job #: 4 weeks:  (-3, 2)\n",
      "missing data - id: 3317 year: 2002 gap #: 1 job #: 1 weeks:  (1264, -2)\n",
      "missing data - id: 3338 year: 1979 gap #: 4 job #: 2 weeks:  (34, -3)\n",
      "missing data - id: 3338 year: 1990 gap #: 3 job #: 3 weeks:  (-3, 644)\n",
      "missing data - id: 3407 year: 1979 gap #: 1 job #: 1 weeks:  (41, -3)\n",
      "missing data - id: 3423 year: 2010 gap #: 2 job #: 2 weeks:  (-4066, 1662)\n",
      "missing data - id: 3518 year: 2002 gap #: 1 job #: 3 weeks:  (1026, -2)\n",
      "missing data - id: 3542 year: 1989 gap #: 1 job #: 2 weeks:  (513, -3)\n",
      "missing data - id: 3637 year: 1989 gap #: 1 job #: 2 weeks:  (608, -3)\n",
      "missing data - id: 3738 year: 1987 gap #: 1 job #: 2 weeks:  (-3, -3)\n",
      "missing data - id: 3738 year: 1987 gap #: 2 job #: 2 weeks:  (-3, -3)\n",
      "missing data - id: 3753 year: 1992 gap #: 1 job #: 1 weeks:  (-3, -3)\n",
      "missing data - id: 3771 year: 1989 gap #: 1 job #: 2 weeks:  (576, -3)\n",
      "missing data - id: 3783 year: 1987 gap #: 1 job #: 2 weeks:  (-3, -3)\n",
      "missing data - id: 3783 year: 1987 gap #: 2 job #: 2 weeks:  (-3, -3)\n",
      "missing data - id: 3799 year: 1996 gap #: 1 job #: 1 weeks:  (-1, -2)\n",
      "missing data - id: 3804 year: 1979 gap #: 2 job #: 1 weeks:  (26, -3)\n",
      "missing data - id: 3804 year: 1979 gap #: 3 job #: 1 weeks:  (27, -3)\n",
      "missing data - id: 3877 year: 1987 gap #: 1 job #: 2 weeks:  (-3, -3)\n",
      "missing data - id: 3889 year: 2010 gap #: 2 job #: 2 weeks:  (1640, -2)\n",
      "missing data - id: 3988 year: 1989 gap #: 1 job #: 2 weeks:  (596, -3)\n",
      "missing data - id: 4016 year: 1988 gap #: 1 job #: 1 weeks:  (-3, -3)\n",
      "missing data - id: 4037 year: 1988 gap #: 1 job #: 1 weeks:  (556, -3)\n",
      "missing data - id: 4185 year: 1979 gap #: 1 job #: 1 weeks:  (43, -3)\n",
      "missing data - id: 4185 year: 1979 gap #: 1 job #: 2 weeks:  (45, -3)\n",
      "missing data - id: 4185 year: 1979 gap #: 2 job #: 1 weeks:  (24, -3)\n",
      "missing data - id: 4227 year: 2006 gap #: 2 job #: 2 weeks:  (1440, -2)\n",
      "missing data - id: 4295 year: 1989 gap #: 1 job #: 2 weeks:  (548, -3)\n",
      "missing data - id: 4366 year: 1992 gap #: 1 job #: 1 weeks:  (-3, -3)\n",
      "missing data - id: 4428 year: 1993 gap #: 1 job #: 3 weeks:  (-3, -3)\n",
      "missing data - id: 4447 year: 1985 gap #: 1 job #: 2 weeks:  (-3, -3)\n",
      "missing data - id: 4464 year: 1988 gap #: 1 job #: 2 weeks:  (-3, 502)\n",
      "missing data - id: 4553 year: 1988 gap #: 1 job #: 3 weeks:  (-3, -3)\n",
      "missing data - id: 4600 year: 1989 gap #: 1 job #: 2 weeks:  (554, -3)\n",
      "missing data - id: 4622 year: 1989 gap #: 1 job #: 2 weeks:  (577, -3)\n",
      "missing data - id: 4723 year: 1979 gap #: 3 job #: 2 weeks:  (52, -3)\n",
      "missing data - id: 4757 year: 1990 gap #: 1 job #: 1 weeks:  (-3, -3)\n",
      "missing data - id: 4766 year: 2002 gap #: 1 job #: 2 weeks:  (1261, -2)\n",
      "missing data - id: 4766 year: 2002 gap #: 1 job #: 3 weeks:  (1261, -2)\n",
      "missing data - id: 4810 year: 1989 gap #: 1 job #: 1 weeks:  (-3, -3)\n",
      "missing data - id: 4837 year: 2002 gap #: 1 job #: 1 weeks:  (1281, -1)\n",
      "missing data - id: 4959 year: 1979 gap #: 1 job #: 1 weeks:  (-3, -3)\n",
      "missing data - id: 4959 year: 1979 gap #: 2 job #: 1 weeks:  (-3, -3)\n",
      "missing data - id: 4971 year: 1989 gap #: 1 job #: 2 weeks:  (560, -3)\n",
      "missing data - id: 4974 year: 1996 gap #: 1 job #: 1 weeks:  (-1, -2)\n",
      "missing data - id: 4974 year: 1996 gap #: 1 job #: 2 weeks:  (-1, -2)\n",
      "missing data - id: 5001 year: 1992 gap #: 1 job #: 2 weeks:  (-3, -3)\n",
      "missing data - id: 5037 year: 1992 gap #: 1 job #: 2 weeks:  (-3, -3)\n",
      "missing data - id: 5044 year: 1988 gap #: 1 job #: 2 weeks:  (-3, -3)\n",
      "missing data - id: 5049 year: 2002 gap #: 1 job #: 1 weeks:  (1211, -1)\n",
      "missing data - id: 5069 year: 1989 gap #: 1 job #: 1 weeks:  (576, -3)\n",
      "missing data - id: 5099 year: 1996 gap #: 1 job #: 2 weeks:  (-1, -2)\n",
      "missing data - id: 5100 year: 1996 gap #: 1 job #: 1 weeks:  (-1, -2)\n",
      "missing data - id: 5103 year: 1996 gap #: 1 job #: 3 weeks:  (-1, -2)\n",
      "missing data - id: 5127 year: 1988 gap #: 1 job #: 3 weeks:  (-3, -3)\n",
      "missing data - id: 5127 year: 1989 gap #: 1 job #: 2 weeks:  (580, -3)\n",
      "missing data - id: 5271 year: 1996 gap #: 1 job #: 2 weeks:  (-1, -2)\n",
      "missing data - id: 5389 year: 1986 gap #: 1 job #: 1 weeks:  (-3, 430)\n",
      "missing data - id: 5389 year: 1996 gap #: 1 job #: 2 weeks:  (-1, -2)\n",
      "missing data - id: 5428 year: 1989 gap #: 1 job #: 2 weeks:  (534, -3)\n",
      "missing data - id: 5453 year: 2000 gap #: 1 job #: 1 weeks:  (1169, -2)\n",
      "missing data - id: 5459 year: 1994 gap #: 1 job #: 2 weeks:  (-3, -3)\n",
      "missing data - id: 5537 year: 1985 gap #: 1 job #: 1 weeks:  (-3, -3)\n",
      "missing data - id: 5561 year: 1992 gap #: 1 job #: 2 weeks:  (-3, -3)\n",
      "missing data - id: 5561 year: 1992 gap #: 2 job #: 2 weeks:  (-3, -3)\n",
      "missing data - id: 5561 year: 1992 gap #: 3 job #: 2 weeks:  (-3, -3)\n",
      "missing data - id: 5612 year: 1982 gap #: 1 job #: 1 weeks:  (-3, -3)\n",
      "missing data - id: 5615 year: 1989 gap #: 1 job #: 2 weeks:  (576, -3)\n",
      "missing data - id: 5624 year: 1989 gap #: 1 job #: 2 weeks:  (560, -3)\n",
      "missing data - id: 5627 year: 1994 gap #: 1 job #: 1 weeks:  (-3, -3)\n",
      "missing data - id: 5661 year: 1979 gap #: 1 job #: 1 weeks:  (-3, -3)\n",
      "missing data - id: 5746 year: 1994 gap #: 1 job #: 2 weeks:  (-3, -3)\n",
      "missing data - id: 5766 year: 1991 gap #: 1 job #: 1 weeks:  (-3, -3)\n",
      "missing data - id: 5793 year: 1988 gap #: 1 job #: 4 weeks:  (-3, -3)\n",
      "missing data - id: 5793 year: 1988 gap #: 2 job #: 4 weeks:  (-3, -3)\n",
      "missing data - id: 5793 year: 1988 gap #: 3 job #: 4 weeks:  (-3, -3)\n",
      "missing data - id: 5834 year: 1994 gap #: 1 job #: 1 weeks:  (-3, -3)\n",
      "missing data - id: 5852 year: 1989 gap #: 1 job #: 1 weeks:  (-3, -3)\n",
      "missing data - id: 5895 year: 1992 gap #: 1 job #: 1 weeks:  (-3, -3)\n",
      "missing data - id: 5919 year: 1996 gap #: 1 job #: 2 weeks:  (-1, -2)\n",
      "missing data - id: 6084 year: 1979 gap #: 1 job #: 1 weeks:  (-3, -3)\n",
      "missing data - id: 6091 year: 1989 gap #: 1 job #: 2 weeks:  (593, -3)\n",
      "missing data - id: 6114 year: 1979 gap #: 2 job #: 2 weeks:  (0, -3)\n",
      "missing data - id: 6114 year: 2000 gap #: 1 job #: 1 weeks:  (1173, -2)\n",
      "missing data - id: 6235 year: 1991 gap #: 1 job #: 2 weeks:  (-3, -3)\n",
      "missing data - id: 6262 year: 1988 gap #: 1 job #: 2 weeks:  (-3, -3)\n",
      "missing data - id: 6262 year: 1988 gap #: 3 job #: 4 weeks:  (-3, -3)\n",
      "missing data - id: 6370 year: 1989 gap #: 1 job #: 2 weeks:  (552, -3)\n",
      "missing data - id: 6448 year: 1987 gap #: 1 job #: 2 weeks:  (436, -3)\n",
      "missing data - id: 6449 year: 1984 gap #: 1 job #: 1 weeks:  (-3, -3)\n",
      "missing data - id: 6489 year: 1989 gap #: 1 job #: 2 weeks:  (572, -3)\n",
      "missing data - id: 6587 year: 1979 gap #: 1 job #: 2 weeks:  (0, -3)\n",
      "missing data - id: 6666 year: 1987 gap #: 1 job #: 1 weeks:  (-3, -3)\n",
      "missing data - id: 6666 year: 1987 gap #: 2 job #: 1 weeks:  (-3, -3)\n",
      "missing data - id: 6666 year: 1987 gap #: 3 job #: 1 weeks:  (-3, -3)\n",
      "missing data - id: 6666 year: 1987 gap #: 4 job #: 1 weeks:  (-3, -3)\n",
      "missing data - id: 6709 year: 1989 gap #: 1 job #: 2 weeks:  (577, -3)\n",
      "missing data - id: 7002 year: 1982 gap #: 1 job #: 1 weeks:  (-3, -3)\n",
      "missing data - id: 7002 year: 1982 gap #: 1 job #: 2 weeks:  (-3, -3)\n",
      "missing data - id: 7002 year: 1982 gap #: 2 job #: 1 weeks:  (-3, -3)\n",
      "missing data - id: 7002 year: 1982 gap #: 2 job #: 2 weeks:  (-3, -3)\n",
      "missing data - id: 7002 year: 1982 gap #: 3 job #: 1 weeks:  (-3, -3)\n",
      "missing data - id: 7002 year: 1982 gap #: 3 job #: 2 weeks:  (-3, -3)\n",
      "missing data - id: 7002 year: 1982 gap #: 4 job #: 1 weeks:  (-3, -3)\n",
      "missing data - id: 7002 year: 1982 gap #: 4 job #: 2 weeks:  (-3, -3)\n",
      "missing data - id: 7086 year: 1986 gap #: 1 job #: 2 weeks:  (-3, -3)\n",
      "missing data - id: 7115 year: 1989 gap #: 1 job #: 2 weeks:  (608, -3)\n",
      "missing data - id: 7128 year: 1979 gap #: 1 job #: 1 weeks:  (58, -3)\n",
      "missing data - id: 7128 year: 1979 gap #: 2 job #: 1 weeks:  (59, -3)\n",
      "missing data - id: 7130 year: 1996 gap #: 1 job #: 1 weeks:  (-1, -2)\n",
      "missing data - id: 7148 year: 1988 gap #: 1 job #: 2 weeks:  (-3, -3)\n",
      "missing data - id: 7152 year: 1989 gap #: 1 job #: 2 weeks:  (584, -3)\n",
      "missing data - id: 7158 year: 1982 gap #: 1 job #: 1 weeks:  (-3, -3)\n",
      "missing data - id: 7158 year: 1982 gap #: 2 job #: 1 weeks:  (-3, -3)\n",
      "missing data - id: 7158 year: 1982 gap #: 3 job #: 1 weeks:  (-3, -3)\n",
      "missing data - id: 7158 year: 1982 gap #: 4 job #: 1 weeks:  (-3, -3)\n",
      "missing data - id: 7211 year: 1982 gap #: 1 job #: 1 weeks:  (-3, -3)\n",
      "missing data - id: 7211 year: 1982 gap #: 2 job #: 1 weeks:  (-3, -3)\n",
      "missing data - id: 7211 year: 1982 gap #: 3 job #: 1 weeks:  (-3, -3)\n",
      "missing data - id: 7226 year: 2006 gap #: 2 job #: 2 weeks:  (1443, -2)\n",
      "missing data - id: 7302 year: 1988 gap #: 1 job #: 1 weeks:  (-3, -3)\n",
      "missing data - id: 7302 year: 1988 gap #: 2 job #: 1 weeks:  (-3, -3)\n",
      "missing data - id: 7302 year: 1988 gap #: 3 job #: 1 weeks:  (-3, -3)\n",
      "missing data - id: 7403 year: 1989 gap #: 1 job #: 2 weeks:  (594, -3)\n",
      "missing data - id: 7601 year: 1989 gap #: 1 job #: 2 weeks:  (554, -3)\n",
      "missing data - id: 7601 year: 1996 gap #: 1 job #: 2 weeks:  (-1, -2)\n",
      "missing data - id: 7601 year: 2006 gap #: 2 job #: 2 weeks:  (1399, -1)\n",
      "missing data - id: 7625 year: 1983 gap #: 1 job #: 2 weeks:  (-3, -3)\n",
      "missing data - id: 7625 year: 2012 gap #: 2 job #: 1 weeks:  (1833, -2)\n",
      "missing data - id: 7645 year: 2002 gap #: 2 job #: 1 weeks:  (1275, -2)\n",
      "missing data - id: 7648 year: 1989 gap #: 1 job #: 2 weeks:  (565, -3)\n",
      "missing data - id: 7688 year: 2010 gap #: 1 job #: 1 weeks:  (1667, -2)\n",
      "missing data - id: 7689 year: 1989 gap #: 1 job #: 2 weeks:  (578, -3)\n",
      "missing data - id: 7689 year: 2004 gap #: 1 job #: 1 weeks:  (1350, -2)\n",
      "missing data - id: 7810 year: 1979 gap #: 1 job #: 3 weeks:  (-3, -3)\n",
      "missing data - id: 7825 year: 1988 gap #: 1 job #: 1 weeks:  (-3, -3)\n",
      "missing data - id: 7981 year: 2002 gap #: 1 job #: 1 weeks:  (1224, -2)\n",
      "missing data - id: 7997 year: 1979 gap #: 1 job #: 1 weeks:  (51, -3)\n",
      "missing data - id: 7997 year: 1989 gap #: 1 job #: 2 weeks:  (548, -3)\n",
      "missing data - id: 8048 year: 2008 gap #: 1 job #: 1 weeks:  (1551, -2)\n",
      "missing data - id: 8103 year: 1988 gap #: 1 job #: 1 weeks:  (-3, -3)\n",
      "missing data - id: 8103 year: 1988 gap #: 2 job #: 1 weeks:  (-3, -3)\n",
      "missing data - id: 8105 year: 1989 gap #: 1 job #: 2 weeks:  (560, -3)\n",
      "missing data - id: 8123 year: 1989 gap #: 1 job #: 2 weeks:  (529, -3)\n",
      "missing data - id: 8127 year: 1993 gap #: 1 job #: 2 weeks:  (-3, -3)\n",
      "missing data - id: 8262 year: 1989 gap #: 1 job #: 2 weeks:  (568, -3)\n",
      "missing data - id: 8315 year: 1979 gap #: 1 job #: 1 weeks:  (-3, -3)\n",
      "missing data - id: 8354 year: 1979 gap #: 1 job #: 1 weeks:  (38, -3)\n",
      "missing data - id: 8354 year: 1979 gap #: 2 job #: 1 weeks:  (40, -3)\n",
      "missing data - id: 8488 year: 1988 gap #: 1 job #: 2 weeks:  (-3, -3)\n",
      "missing data - id: 8488 year: 1988 gap #: 2 job #: 2 weeks:  (-3, -3)\n",
      "missing data - id: 8490 year: 1996 gap #: 1 job #: 1 weeks:  (-1, -2)\n",
      "missing data - id: 8580 year: 1989 gap #: 1 job #: 2 weeks:  (558, -3)\n",
      "missing data - id: 8612 year: 1988 gap #: 1 job #: 2 weeks:  (-3, -3)\n",
      "missing data - id: 8615 year: 1989 gap #: 1 job #: 2 weeks:  (566, -3)\n",
      "missing data - id: 8664 year: 1989 gap #: 1 job #: 2 weeks:  (570, -3)\n",
      "missing data - id: 8673 year: 1989 gap #: 1 job #: 2 weeks:  (555, -3)\n",
      "missing data - id: 8679 year: 2006 gap #: 1 job #: 1 weeks:  (1477, -2)\n",
      "missing data - id: 8685 year: 1994 gap #: 1 job #: 2 weeks:  (-3, -3)\n",
      "missing data - id: 8869 year: 1982 gap #: 1 job #: 1 weeks:  (-3, -3)\n",
      "missing data - id: 8869 year: 1982 gap #: 2 job #: 1 weeks:  (-3, -3)\n",
      "missing data - id: 8869 year: 1982 gap #: 3 job #: 1 weeks:  (-3, -3)\n",
      "missing data - id: 8869 year: 1982 gap #: 4 job #: 1 weeks:  (-3, -3)\n",
      "missing data - id: 8942 year: 1988 gap #: 1 job #: 2 weeks:  (-3, -3)\n",
      "missing data - id: 8953 year: 1982 gap #: 1 job #: 1 weeks:  (-3, -3)\n",
      "missing data - id: 8996 year: 2012 gap #: 1 job #: 1 weeks:  (1833, -2)\n",
      "missing data - id: 9115 year: 1989 gap #: 1 job #: 2 weeks:  (599, -3)\n",
      "missing data - id: 9206 year: 1989 gap #: 1 job #: 2 weeks:  (572, -3)\n",
      "missing data - id: 9261 year: 1992 gap #: 1 job #: 1 weeks:  (-3, -3)\n",
      "missing data - id: 9344 year: 1989 gap #: 1 job #: 2 weeks:  (571, -3)\n",
      "missing data - id: 9347 year: 1987 gap #: 1 job #: 1 weeks:  (-3, -3)\n",
      "missing data - id: 9347 year: 1987 gap #: 2 job #: 1 weeks:  (-3, -3)\n",
      "missing data - id: 9381 year: 1984 gap #: 1 job #: 1 weeks:  (-3, -3)\n",
      "missing data - id: 9686 year: 1982 gap #: 1 job #: 1 weeks:  (213, -3)\n",
      "missing data - id: 9765 year: 1988 gap #: 1 job #: 1 weeks:  (-3, -3)\n",
      "missing data - id: 9768 year: 1988 gap #: 1 job #: 1 weeks:  (-3, 561)\n",
      "missing data - id: 9817 year: 1979 gap #: 1 job #: 2 weeks:  (-3, -3)\n",
      "missing data - id: 9817 year: 1989 gap #: 1 job #: 1 weeks:  (-3, -3)\n",
      "missing data - id: 9939 year: 1994 gap #: 1 job #: 1 weeks:  (-3, -3)\n",
      "missing data - id: 9940 year: 2004 gap #: 3 job #: 1 weeks:  (1398, -2)\n",
      "missing data - id: 10113 year: 1992 gap #: 1 job #: 1 weeks:  (-3, -3)\n",
      "missing data - id: 10125 year: 1987 gap #: 1 job #: 2 weeks:  (-3, -3)\n",
      "missing data - id: 10125 year: 1987 gap #: 2 job #: 2 weeks:  (-3, -3)\n",
      "missing data - id: 10151 year: 1989 gap #: 1 job #: 2 weeks:  (560, -3)\n",
      "missing data - id: 10181 year: 2012 gap #: 1 job #: 1 weeks:  (1824, -2)\n",
      "missing data - id: 10182 year: 1989 gap #: 1 job #: 2 weeks:  (575, -3)\n",
      "missing data - id: 10401 year: 1979 gap #: 2 job #: 2 weeks:  (52, -3)\n",
      "missing data - id: 10421 year: 1989 gap #: 1 job #: 2 weeks:  (574, -3)\n",
      "missing data - id: 10436 year: 1987 gap #: 1 job #: 2 weeks:  (-3, -3)\n",
      "missing data - id: 10486 year: 1986 gap #: 1 job #: 1 weeks:  (-3, -3)\n",
      "missing data - id: 10537 year: 1989 gap #: 1 job #: 2 weeks:  (552, -3)\n",
      "missing data - id: 11756 year: 1982 gap #: 1 job #: 1 weeks:  (-3, -3)\n",
      "missing data - id: 11756 year: 1982 gap #: 2 job #: 1 weeks:  (-3, -3)\n",
      "missing data - id: 11756 year: 1982 gap #: 3 job #: 1 weeks:  (-3, -3)\n",
      "missing data - id: 11756 year: 1982 gap #: 4 job #: 1 weeks:  (-3, -3)\n",
      "missing data - id: 11826 year: 1996 gap #: 1 job #: 1 weeks:  (-1, -2)\n",
      "missing data - id: 11873 year: 1979 gap #: 1 job #: 3 weeks:  (17, -3)\n",
      "missing data - id: 11894 year: 1994 gap #: 1 job #: 1 weeks:  (-3, -3)\n",
      "missing data - id: 11915 year: 1989 gap #: 1 job #: 2 weeks:  (565, -3)\n",
      "missing data - id: 11918 year: 1989 gap #: 1 job #: 2 weeks:  (552, -3)\n",
      "missing data - id: 11923 year: 1989 gap #: 1 job #: 2 weeks:  (557, -3)\n",
      "missing data - id: 11927 year: 1989 gap #: 1 job #: 2 weeks:  (574, -3)\n",
      "missing data - id: 11967 year: 1979 gap #: 1 job #: 1 weeks:  (41, -3)\n",
      "missing data - id: 11989 year: 1984 gap #: 1 job #: 4 weeks:  (-3, -3)\n",
      "missing data - id: 11989 year: 1984 gap #: 2 job #: 4 weeks:  (-3, -3)\n",
      "missing data - id: 11989 year: 1984 gap #: 3 job #: 4 weeks:  (-3, -3)\n",
      "missing data - id: 11989 year: 1984 gap #: 4 job #: 4 weeks:  (-3, -3)\n",
      "missing data - id: 12029 year: 2004 gap #: 2 job #: 1 weeks:  (1377, -2)\n",
      "missing data - id: 12097 year: 1985 gap #: 1 job #: 2 weeks:  (-3, -3)\n"
     ]
    }
   ],
   "source": [
    "res = analytic_df.apply(get_gaps, axis=1)"
   ]
  },
  {
   "cell_type": "code",
   "execution_count": 47,
   "metadata": {
    "collapsed": false
   },
   "outputs": [
    {
     "data": {
      "text/html": [
       "<div>\n",
       "<table border=\"1\" class=\"dataframe\">\n",
       "  <thead>\n",
       "    <tr style=\"text-align: right;\">\n",
       "      <th></th>\n",
       "      <th>caseid_1979</th>\n",
       "      <th>end</th>\n",
       "      <th>end_col</th>\n",
       "      <th>end_m</th>\n",
       "      <th>end_y</th>\n",
       "      <th>start</th>\n",
       "      <th>start_col</th>\n",
       "      <th>start_m</th>\n",
       "      <th>start_y</th>\n",
       "    </tr>\n",
       "  </thead>\n",
       "  <tbody>\n",
       "    <tr>\n",
       "      <th>0</th>\n",
       "      <td>3</td>\n",
       "      <td>-3</td>\n",
       "      <td>per1_stop_1987_job02_xrnd</td>\n",
       "      <td>NaN</td>\n",
       "      <td>NaN</td>\n",
       "      <td>-3</td>\n",
       "      <td>per1_start_1987_job02_xrnd</td>\n",
       "      <td>NaN</td>\n",
       "      <td>NaN</td>\n",
       "    </tr>\n",
       "    <tr>\n",
       "      <th>1</th>\n",
       "      <td>4</td>\n",
       "      <td>-3</td>\n",
       "      <td>per2_stop_1987_job01_xrnd</td>\n",
       "      <td>NaN</td>\n",
       "      <td>NaN</td>\n",
       "      <td>471</td>\n",
       "      <td>per2_start_1987_job01_xrnd</td>\n",
       "      <td>1.0</td>\n",
       "      <td>1987.0</td>\n",
       "    </tr>\n",
       "    <tr>\n",
       "      <th>2</th>\n",
       "      <td>92</td>\n",
       "      <td>-3</td>\n",
       "      <td>per2_stop_1992_job01_xrnd</td>\n",
       "      <td>NaN</td>\n",
       "      <td>NaN</td>\n",
       "      <td>750</td>\n",
       "      <td>per2_start_1992_job01_xrnd</td>\n",
       "      <td>5.0</td>\n",
       "      <td>1992.0</td>\n",
       "    </tr>\n",
       "    <tr>\n",
       "      <th>3</th>\n",
       "      <td>165</td>\n",
       "      <td>-3</td>\n",
       "      <td>per2_stop_1992_job01_xrnd</td>\n",
       "      <td>NaN</td>\n",
       "      <td>NaN</td>\n",
       "      <td>752</td>\n",
       "      <td>per2_start_1992_job01_xrnd</td>\n",
       "      <td>5.0</td>\n",
       "      <td>1992.0</td>\n",
       "    </tr>\n",
       "    <tr>\n",
       "      <th>4</th>\n",
       "      <td>340</td>\n",
       "      <td>-2</td>\n",
       "      <td>per3_stop_2006_job01_xrnd</td>\n",
       "      <td>NaN</td>\n",
       "      <td>NaN</td>\n",
       "      <td>1513</td>\n",
       "      <td>per3_start_2006_job01_xrnd</td>\n",
       "      <td>12.0</td>\n",
       "      <td>2006.0</td>\n",
       "    </tr>\n",
       "  </tbody>\n",
       "</table>\n",
       "</div>"
      ],
      "text/plain": [
       "   caseid_1979  end                    end_col  end_m  end_y  start  \\\n",
       "0            3   -3  per1_stop_1987_job02_xrnd    NaN    NaN     -3   \n",
       "1            4   -3  per2_stop_1987_job01_xrnd    NaN    NaN    471   \n",
       "2           92   -3  per2_stop_1992_job01_xrnd    NaN    NaN    750   \n",
       "3          165   -3  per2_stop_1992_job01_xrnd    NaN    NaN    752   \n",
       "4          340   -2  per3_stop_2006_job01_xrnd    NaN    NaN   1513   \n",
       "\n",
       "                    start_col  start_m  start_y  \n",
       "0  per1_start_1987_job02_xrnd      NaN      NaN  \n",
       "1  per2_start_1987_job01_xrnd      1.0   1987.0  \n",
       "2  per2_start_1992_job01_xrnd      5.0   1992.0  \n",
       "3  per2_start_1992_job01_xrnd      5.0   1992.0  \n",
       "4  per3_start_2006_job01_xrnd     12.0   2006.0  "
      ]
     },
     "execution_count": 47,
     "metadata": {},
     "output_type": "execute_result"
    }
   ],
   "source": [
    "miss_df = pd.DataFrame(missing_data)\n",
    "miss_df.head()"
   ]
  },
  {
   "cell_type": "code",
   "execution_count": 48,
   "metadata": {
    "collapsed": false
   },
   "outputs": [
    {
     "data": {
      "text/html": [
       "<div>\n",
       "<table border=\"1\" class=\"dataframe\">\n",
       "  <thead>\n",
       "    <tr style=\"text-align: right;\">\n",
       "      <th></th>\n",
       "      <th>caseid_1979</th>\n",
       "      <th>end</th>\n",
       "      <th>end_col</th>\n",
       "      <th>end_m</th>\n",
       "      <th>end_y</th>\n",
       "      <th>start</th>\n",
       "      <th>start_col</th>\n",
       "      <th>start_m</th>\n",
       "      <th>start_y</th>\n",
       "      <th>sample_id_1979</th>\n",
       "      <th>...</th>\n",
       "      <th>y_dob</th>\n",
       "      <th>m_dob</th>\n",
       "      <th>y_age35</th>\n",
       "      <th>y_deceased</th>\n",
       "      <th>last_yr</th>\n",
       "      <th>attr_before35</th>\n",
       "      <th>deceased_before35</th>\n",
       "      <th>y_child18</th>\n",
       "      <th>deceased_child18</th>\n",
       "      <th>attr_child18</th>\n",
       "    </tr>\n",
       "  </thead>\n",
       "  <tbody>\n",
       "    <tr>\n",
       "      <th>0</th>\n",
       "      <td>3</td>\n",
       "      <td>-3</td>\n",
       "      <td>per1_stop_1987_job02_xrnd</td>\n",
       "      <td>NaN</td>\n",
       "      <td>NaN</td>\n",
       "      <td>-3</td>\n",
       "      <td>per1_start_1987_job02_xrnd</td>\n",
       "      <td>NaN</td>\n",
       "      <td>NaN</td>\n",
       "      <td>5</td>\n",
       "      <td>...</td>\n",
       "      <td>1961</td>\n",
       "      <td>8</td>\n",
       "      <td>1996</td>\n",
       "      <td>NaN</td>\n",
       "      <td>2012</td>\n",
       "      <td>False</td>\n",
       "      <td>False</td>\n",
       "      <td>1999</td>\n",
       "      <td>False</td>\n",
       "      <td>False</td>\n",
       "    </tr>\n",
       "    <tr>\n",
       "      <th>1</th>\n",
       "      <td>4</td>\n",
       "      <td>-3</td>\n",
       "      <td>per2_stop_1987_job01_xrnd</td>\n",
       "      <td>NaN</td>\n",
       "      <td>NaN</td>\n",
       "      <td>471</td>\n",
       "      <td>per2_start_1987_job01_xrnd</td>\n",
       "      <td>1.0</td>\n",
       "      <td>1987.0</td>\n",
       "      <td>5</td>\n",
       "      <td>...</td>\n",
       "      <td>1962</td>\n",
       "      <td>8</td>\n",
       "      <td>1997</td>\n",
       "      <td>NaN</td>\n",
       "      <td>1998</td>\n",
       "      <td>False</td>\n",
       "      <td>False</td>\n",
       "      <td>1998</td>\n",
       "      <td>False</td>\n",
       "      <td>False</td>\n",
       "    </tr>\n",
       "    <tr>\n",
       "      <th>2</th>\n",
       "      <td>92</td>\n",
       "      <td>-3</td>\n",
       "      <td>per2_stop_1992_job01_xrnd</td>\n",
       "      <td>NaN</td>\n",
       "      <td>NaN</td>\n",
       "      <td>750</td>\n",
       "      <td>per2_start_1992_job01_xrnd</td>\n",
       "      <td>5.0</td>\n",
       "      <td>1992.0</td>\n",
       "      <td>5</td>\n",
       "      <td>...</td>\n",
       "      <td>1962</td>\n",
       "      <td>8</td>\n",
       "      <td>1997</td>\n",
       "      <td>NaN</td>\n",
       "      <td>2012</td>\n",
       "      <td>False</td>\n",
       "      <td>False</td>\n",
       "      <td>2000</td>\n",
       "      <td>False</td>\n",
       "      <td>False</td>\n",
       "    </tr>\n",
       "    <tr>\n",
       "      <th>3</th>\n",
       "      <td>165</td>\n",
       "      <td>-3</td>\n",
       "      <td>per2_stop_1992_job01_xrnd</td>\n",
       "      <td>NaN</td>\n",
       "      <td>NaN</td>\n",
       "      <td>752</td>\n",
       "      <td>per2_start_1992_job01_xrnd</td>\n",
       "      <td>5.0</td>\n",
       "      <td>1992.0</td>\n",
       "      <td>5</td>\n",
       "      <td>...</td>\n",
       "      <td>1960</td>\n",
       "      <td>10</td>\n",
       "      <td>1995</td>\n",
       "      <td>NaN</td>\n",
       "      <td>2012</td>\n",
       "      <td>False</td>\n",
       "      <td>False</td>\n",
       "      <td>2006</td>\n",
       "      <td>False</td>\n",
       "      <td>False</td>\n",
       "    </tr>\n",
       "    <tr>\n",
       "      <th>4</th>\n",
       "      <td>340</td>\n",
       "      <td>-2</td>\n",
       "      <td>per3_stop_2006_job01_xrnd</td>\n",
       "      <td>NaN</td>\n",
       "      <td>NaN</td>\n",
       "      <td>1513</td>\n",
       "      <td>per3_start_2006_job01_xrnd</td>\n",
       "      <td>12.0</td>\n",
       "      <td>2006.0</td>\n",
       "      <td>7</td>\n",
       "      <td>...</td>\n",
       "      <td>1962</td>\n",
       "      <td>12</td>\n",
       "      <td>1997</td>\n",
       "      <td>NaN</td>\n",
       "      <td>2012</td>\n",
       "      <td>False</td>\n",
       "      <td>False</td>\n",
       "      <td>1999</td>\n",
       "      <td>False</td>\n",
       "      <td>False</td>\n",
       "    </tr>\n",
       "  </tbody>\n",
       "</table>\n",
       "<p>5 rows × 44 columns</p>\n",
       "</div>"
      ],
      "text/plain": [
       "   caseid_1979  end                    end_col  end_m  end_y  start  \\\n",
       "0            3   -3  per1_stop_1987_job02_xrnd    NaN    NaN     -3   \n",
       "1            4   -3  per2_stop_1987_job01_xrnd    NaN    NaN    471   \n",
       "2           92   -3  per2_stop_1992_job01_xrnd    NaN    NaN    750   \n",
       "3          165   -3  per2_stop_1992_job01_xrnd    NaN    NaN    752   \n",
       "4          340   -2  per3_stop_2006_job01_xrnd    NaN    NaN   1513   \n",
       "\n",
       "                    start_col  start_m  start_y  sample_id_1979      ...       \\\n",
       "0  per1_start_1987_job02_xrnd      NaN      NaN               5      ...        \n",
       "1  per2_start_1987_job01_xrnd      1.0   1987.0               5      ...        \n",
       "2  per2_start_1992_job01_xrnd      5.0   1992.0               5      ...        \n",
       "3  per2_start_1992_job01_xrnd      5.0   1992.0               5      ...        \n",
       "4  per3_start_2006_job01_xrnd     12.0   2006.0               7      ...        \n",
       "\n",
       "   y_dob  m_dob  y_age35  y_deceased  last_yr  attr_before35  \\\n",
       "0   1961      8     1996         NaN     2012          False   \n",
       "1   1962      8     1997         NaN     1998          False   \n",
       "2   1962      8     1997         NaN     2012          False   \n",
       "3   1960     10     1995         NaN     2012          False   \n",
       "4   1962     12     1997         NaN     2012          False   \n",
       "\n",
       "   deceased_before35  y_child18  deceased_child18  attr_child18  \n",
       "0              False       1999             False         False  \n",
       "1              False       1998             False         False  \n",
       "2              False       2000             False         False  \n",
       "3              False       2006             False         False  \n",
       "4              False       1999             False         False  \n",
       "\n",
       "[5 rows x 44 columns]"
      ]
     },
     "execution_count": 48,
     "metadata": {},
     "output_type": "execute_result"
    }
   ],
   "source": [
    "# select only respondents who are in our sample\n",
    "miss_df = miss_df[miss_df.caseid_1979.isin(analytic_df.caseid_1979.values.tolist())] \n",
    "\n",
    "# merge with childbirth dates\n",
    "merged = miss_df.merge(analytic_df, on='caseid_1979')\n",
    "merged.head()"
   ]
  },
  {
   "cell_type": "code",
   "execution_count": 50,
   "metadata": {
    "collapsed": false
   },
   "outputs": [
    {
     "name": "stdout",
     "output_type": "stream",
     "text": [
      "only start missing : 7\n",
      "both missing : 163\n",
      "only end missing : 132\n"
     ]
    }
   ],
   "source": [
    "# what types of missing do we have? \n",
    "# both start and end missing? or only start or only end missing?\n",
    "\n",
    "counts = defaultdict(list)\n",
    "\n",
    "for i, row in merged.iterrows():\n",
    "    \n",
    "    if row['end'] < 0 and row['start'] < 0:\n",
    "        counts['both missing'].append(i)\n",
    "    elif row['end'] < 0 and row['start'] >= 0:\n",
    "        counts['only end missing'].append(i)\n",
    "    elif row['end'] >= 0 and row['start'] < 0:\n",
    "        counts['only start missing'].append(i)\n",
    "    else:\n",
    "        print 'uncaptured:', row['start'], row['end']\n",
    "        \n",
    "\n",
    "for k, v in counts.items():\n",
    "    print k, ':', len(v)"
   ]
  },
  {
   "cell_type": "code",
   "execution_count": 60,
   "metadata": {
    "collapsed": false
   },
   "outputs": [
    {
     "data": {
      "text/plain": [
       "False    264\n",
       "True      38\n",
       "Name: same_year, dtype: int64"
      ]
     },
     "execution_count": 60,
     "metadata": {},
     "output_type": "execute_result"
    }
   ],
   "source": [
    "# how many gaps happened in the same year as a childbirth? 38 cases\n",
    "\n",
    "def same_year(row):\n",
    "    \"\"\"\n",
    "    Return True if a gap year was reported in the same year as a childbirth \n",
    "    or started or ended in the sameyear as a childbirth\n",
    "    \"\"\"\n",
    "    \n",
    "    for i in range(1, 12):\n",
    "        if row['c%idob_y_xrnd'%i] > 0:\n",
    "            if str(row['c%idob_y_xrnd'%i]) in row['start_col']:\n",
    "                return True\n",
    "            elif str(row['c%idob_y_xrnd'%i]) in row['end_col']:\n",
    "                return True\n",
    "            elif row['c%idob_y_xrnd'%i] == row['start_y']:\n",
    "                return True\n",
    "            elif row['c%idob_y_xrnd'%i] == row['end_y']:\n",
    "                return True\n",
    "    return False\n",
    "\n",
    "\n",
    "merged['same_year'] = merged.apply(same_year, axis=1)\n",
    "merged.same_year.value_counts()"
   ]
  },
  {
   "cell_type": "code",
   "execution_count": 63,
   "metadata": {
    "collapsed": false
   },
   "outputs": [
    {
     "data": {
      "text/html": [
       "<div>\n",
       "<table border=\"1\" class=\"dataframe\">\n",
       "  <thead>\n",
       "    <tr style=\"text-align: right;\">\n",
       "      <th></th>\n",
       "      <th>caseid_1979</th>\n",
       "      <th>end</th>\n",
       "      <th>end_col</th>\n",
       "      <th>end_m</th>\n",
       "      <th>end_y</th>\n",
       "      <th>start</th>\n",
       "      <th>start_col</th>\n",
       "      <th>start_m</th>\n",
       "      <th>start_y</th>\n",
       "      <th>sample_id_1979</th>\n",
       "      <th>...</th>\n",
       "      <th>y_age35</th>\n",
       "      <th>y_deceased</th>\n",
       "      <th>last_yr</th>\n",
       "      <th>attr_before35</th>\n",
       "      <th>deceased_before35</th>\n",
       "      <th>y_child18</th>\n",
       "      <th>deceased_child18</th>\n",
       "      <th>attr_child18</th>\n",
       "      <th>same_year</th>\n",
       "      <th>min_months</th>\n",
       "    </tr>\n",
       "  </thead>\n",
       "  <tbody>\n",
       "    <tr>\n",
       "      <th>0</th>\n",
       "      <td>3</td>\n",
       "      <td>-3</td>\n",
       "      <td>per1_stop_1987_job02_xrnd</td>\n",
       "      <td>NaN</td>\n",
       "      <td>NaN</td>\n",
       "      <td>-3</td>\n",
       "      <td>per1_start_1987_job02_xrnd</td>\n",
       "      <td>NaN</td>\n",
       "      <td>NaN</td>\n",
       "      <td>5</td>\n",
       "      <td>...</td>\n",
       "      <td>1996</td>\n",
       "      <td>NaN</td>\n",
       "      <td>2012</td>\n",
       "      <td>False</td>\n",
       "      <td>False</td>\n",
       "      <td>1999</td>\n",
       "      <td>False</td>\n",
       "      <td>False</td>\n",
       "      <td>False</td>\n",
       "      <td>NaN</td>\n",
       "    </tr>\n",
       "    <tr>\n",
       "      <th>1</th>\n",
       "      <td>4</td>\n",
       "      <td>-3</td>\n",
       "      <td>per2_stop_1987_job01_xrnd</td>\n",
       "      <td>NaN</td>\n",
       "      <td>NaN</td>\n",
       "      <td>471</td>\n",
       "      <td>per2_start_1987_job01_xrnd</td>\n",
       "      <td>1.0</td>\n",
       "      <td>1987.0</td>\n",
       "      <td>5</td>\n",
       "      <td>...</td>\n",
       "      <td>1997</td>\n",
       "      <td>NaN</td>\n",
       "      <td>1998</td>\n",
       "      <td>False</td>\n",
       "      <td>False</td>\n",
       "      <td>1998</td>\n",
       "      <td>False</td>\n",
       "      <td>False</td>\n",
       "      <td>False</td>\n",
       "      <td>-77.0</td>\n",
       "    </tr>\n",
       "    <tr>\n",
       "      <th>2</th>\n",
       "      <td>92</td>\n",
       "      <td>-3</td>\n",
       "      <td>per2_stop_1992_job01_xrnd</td>\n",
       "      <td>NaN</td>\n",
       "      <td>NaN</td>\n",
       "      <td>750</td>\n",
       "      <td>per2_start_1992_job01_xrnd</td>\n",
       "      <td>5.0</td>\n",
       "      <td>1992.0</td>\n",
       "      <td>5</td>\n",
       "      <td>...</td>\n",
       "      <td>1997</td>\n",
       "      <td>NaN</td>\n",
       "      <td>2012</td>\n",
       "      <td>False</td>\n",
       "      <td>False</td>\n",
       "      <td>2000</td>\n",
       "      <td>False</td>\n",
       "      <td>False</td>\n",
       "      <td>True</td>\n",
       "      <td>-1.0</td>\n",
       "    </tr>\n",
       "    <tr>\n",
       "      <th>3</th>\n",
       "      <td>165</td>\n",
       "      <td>-3</td>\n",
       "      <td>per2_stop_1992_job01_xrnd</td>\n",
       "      <td>NaN</td>\n",
       "      <td>NaN</td>\n",
       "      <td>752</td>\n",
       "      <td>per2_start_1992_job01_xrnd</td>\n",
       "      <td>5.0</td>\n",
       "      <td>1992.0</td>\n",
       "      <td>5</td>\n",
       "      <td>...</td>\n",
       "      <td>1995</td>\n",
       "      <td>NaN</td>\n",
       "      <td>2012</td>\n",
       "      <td>False</td>\n",
       "      <td>False</td>\n",
       "      <td>2006</td>\n",
       "      <td>False</td>\n",
       "      <td>False</td>\n",
       "      <td>True</td>\n",
       "      <td>-1.0</td>\n",
       "    </tr>\n",
       "    <tr>\n",
       "      <th>4</th>\n",
       "      <td>340</td>\n",
       "      <td>-2</td>\n",
       "      <td>per3_stop_2006_job01_xrnd</td>\n",
       "      <td>NaN</td>\n",
       "      <td>NaN</td>\n",
       "      <td>1513</td>\n",
       "      <td>per3_start_2006_job01_xrnd</td>\n",
       "      <td>12.0</td>\n",
       "      <td>2006.0</td>\n",
       "      <td>7</td>\n",
       "      <td>...</td>\n",
       "      <td>1997</td>\n",
       "      <td>NaN</td>\n",
       "      <td>2012</td>\n",
       "      <td>False</td>\n",
       "      <td>False</td>\n",
       "      <td>1999</td>\n",
       "      <td>False</td>\n",
       "      <td>False</td>\n",
       "      <td>False</td>\n",
       "      <td>-222.0</td>\n",
       "    </tr>\n",
       "  </tbody>\n",
       "</table>\n",
       "<p>5 rows × 46 columns</p>\n",
       "</div>"
      ],
      "text/plain": [
       "   caseid_1979  end                    end_col  end_m  end_y  start  \\\n",
       "0            3   -3  per1_stop_1987_job02_xrnd    NaN    NaN     -3   \n",
       "1            4   -3  per2_stop_1987_job01_xrnd    NaN    NaN    471   \n",
       "2           92   -3  per2_stop_1992_job01_xrnd    NaN    NaN    750   \n",
       "3          165   -3  per2_stop_1992_job01_xrnd    NaN    NaN    752   \n",
       "4          340   -2  per3_stop_2006_job01_xrnd    NaN    NaN   1513   \n",
       "\n",
       "                    start_col  start_m  start_y  sample_id_1979     ...      \\\n",
       "0  per1_start_1987_job02_xrnd      NaN      NaN               5     ...       \n",
       "1  per2_start_1987_job01_xrnd      1.0   1987.0               5     ...       \n",
       "2  per2_start_1992_job01_xrnd      5.0   1992.0               5     ...       \n",
       "3  per2_start_1992_job01_xrnd      5.0   1992.0               5     ...       \n",
       "4  per3_start_2006_job01_xrnd     12.0   2006.0               7     ...       \n",
       "\n",
       "   y_age35  y_deceased  last_yr  attr_before35  deceased_before35  y_child18  \\\n",
       "0     1996         NaN     2012          False              False       1999   \n",
       "1     1997         NaN     1998          False              False       1998   \n",
       "2     1997         NaN     2012          False              False       2000   \n",
       "3     1995         NaN     2012          False              False       2006   \n",
       "4     1997         NaN     2012          False              False       1999   \n",
       "\n",
       "   deceased_child18  attr_child18  same_year  min_months  \n",
       "0             False         False      False         NaN  \n",
       "1             False         False      False       -77.0  \n",
       "2             False         False       True        -1.0  \n",
       "3             False         False       True        -1.0  \n",
       "4             False         False      False      -222.0  \n",
       "\n",
       "[5 rows x 46 columns]"
      ]
     },
     "execution_count": 63,
     "metadata": {},
     "output_type": "execute_result"
    }
   ],
   "source": [
    "# What are the min number of months between the known start/end date and a childbirth?\n",
    "\n",
    "\n",
    "def diff_month(d1, d2):\n",
    "    \"\"\"\n",
    "    Return the number of months between the two dates\n",
    "    \"\"\"\n",
    "    \n",
    "    return (d1.year - d2.year) * 12 + d1.month - d2.month\n",
    "\n",
    "\n",
    "def min_months(row):\n",
    "    \"\"\"\n",
    "    If a row has a valid starting week or a valid end week of a job gap, \n",
    "    calculate all of the differences in months bewteen the gap and all valid childbirths,\n",
    "    return the min\n",
    "    \"\"\"\n",
    "    \n",
    "    diffs = []\n",
    "    \n",
    "    if row['start'] > 0:\n",
    "        for i in range(1, 12):\n",
    "            if row['c%idob_y_xrnd'%i] > 0:\n",
    "                # a positive diff means birth happened after gap\n",
    "                # a negative diff means birth happened before gap\n",
    "                if row['c%idob_m_xrnd'%i] > 0:\n",
    "                    diffs.append(diff_month(datetime(row['c%idob_y_xrnd'%i], row['c%idob_m_xrnd'%i], 1), \n",
    "                                            datetime(int(row['start_y']), int(row['start_m']), 1)))\n",
    "                else: # assume June for respondent 8511\n",
    "                    diffs.append(diff_month(datetime(row['c%idob_y_xrnd'%i], 6, 1), \n",
    "                                            datetime(int(row['start_y']), int(row['start_m']), 1)))\n",
    "                    \n",
    "            \n",
    "    if row['end'] > 0:\n",
    "        for i in range(1, 12):\n",
    "            if row['c%idob_y_xrnd'%i] > 0:\n",
    "                if row['c%idob_m_xrnd'%i] > 0:\n",
    "                    diffs.append(diff_month(datetime(row['c%idob_y_xrnd'%i], row['c%idob_m_xrnd'%i], 1), \n",
    "                                            datetime(int(row['end_y']), int(row['end_m']), 1)))\n",
    "                else:\n",
    "                    diffs.append(diff_month(datetime(row['c%idob_y_xrnd'%i], 6, 1), \n",
    "                                            datetime(int(row['end_y']), int(row['end_m']), 1)))\n",
    "            \n",
    "    \n",
    "    if len(diffs) == 0:\n",
    "        return None\n",
    "    else:\n",
    "        return min(diffs, key=abs) # return the number with smallest magnitude, but preserve the sign\n",
    "    \n",
    "    \n",
    "merged['min_months'] = merged.apply(min_months, axis=1)\n",
    "merged.head()"
   ]
  },
  {
   "cell_type": "code",
   "execution_count": 64,
   "metadata": {
    "collapsed": false
   },
   "outputs": [
    {
     "data": {
      "image/png": "[encoded data removed]",
      "text/plain": [
       "<matplotlib.figure.Figure at 0x10aa3c9d0>"
      ]
     },
     "metadata": {},
     "output_type": "display_data"
    }
   ],
   "source": [
    "x = merged.min_months[~merged.min_months.isnull()] # remove missing\n",
    "plt.hist(x)\n",
    "remove_border()"
   ]
  },
  {
   "cell_type": "code",
   "execution_count": 66,
   "metadata": {
    "collapsed": false
   },
   "outputs": [
    {
     "data": {
      "text/plain": [
       "4"
      ]
     },
     "execution_count": 66,
     "metadata": {},
     "output_type": "execute_result"
    }
   ],
   "source": [
    "# how many are within four months before birth?\n",
    "merged[merged.min_months.isin([1, 2, 3, 4])].shape[0]"
   ]
  },
  {
   "cell_type": "code",
   "execution_count": 67,
   "metadata": {
    "collapsed": false
   },
   "outputs": [
    {
     "data": {
      "text/plain": [
       "6"
      ]
     },
     "execution_count": 67,
     "metadata": {},
     "output_type": "execute_result"
    }
   ],
   "source": [
    "# how many are within four months after birth?\n",
    "merged[merged.min_months.isin([-1, -2, -3, -4])].shape[0]"
   ]
  },
  {
   "cell_type": "code",
   "execution_count": 68,
   "metadata": {
    "collapsed": false
   },
   "outputs": [
    {
     "data": {
      "text/plain": [
       "2"
      ]
     },
     "execution_count": 68,
     "metadata": {},
     "output_type": "execute_result"
    }
   ],
   "source": [
    "# how many overlap with birth?\n",
    "merged[merged.min_months==0].shape[0]"
   ]
  },
  {
   "cell_type": "markdown",
   "metadata": {},
   "source": [
    "Among all the 139 cases where we have only partial missing dates (either start or end week is known), very few (12 cases) took place within 4 months near a childbirth. <font color='red'>CONFIRM WITH SASHA: Is it okay to disregard all these missing gaps?</font>"
   ]
  },
  {
   "cell_type": "code",
   "execution_count": 69,
   "metadata": {
    "collapsed": false
   },
   "outputs": [
    {
     "data": {
      "text/plain": [
       "7002     8\n",
       "1446     5\n",
       "746      4\n",
       "6666     4\n",
       "8869     4\n",
       "1953     4\n",
       "2669     4\n",
       "11756    4\n",
       "11989    4\n",
       "2193     4\n",
       "7158     4\n",
       "5793     3\n",
       "4185     3\n",
       "5561     3\n",
       "1225     3\n",
       "7211     3\n",
       "7302     3\n",
       "7601     3\n",
       "4766     2\n",
       "10125    2\n",
       "7997     2\n",
       "6262     2\n",
       "582      2\n",
       "3738     2\n",
       "5127     2\n",
       "4959     2\n",
       "8103     2\n",
       "8354     2\n",
       "4974     2\n",
       "9817     2\n",
       "        ..\n",
       "12029    1\n",
       "8953     1\n",
       "5624     1\n",
       "3317     1\n",
       "7981     1\n",
       "1839     1\n",
       "6448     1\n",
       "3889     1\n",
       "1419     1\n",
       "4464     1\n",
       "1900     1\n",
       "4971     1\n",
       "2407     1\n",
       "9206     1\n",
       "9381     1\n",
       "3423     1\n",
       "862      1\n",
       "2396     1\n",
       "6489     1\n",
       "340      1\n",
       "5459     1\n",
       "8315     1\n",
       "3407     1\n",
       "5453     1\n",
       "4428     1\n",
       "836      1\n",
       "2369     1\n",
       "5428     1\n",
       "4447     1\n",
       "3073     1\n",
       "Name: caseid_1979, dtype: int64"
      ]
     },
     "execution_count": 69,
     "metadata": {},
     "output_type": "execute_result"
    }
   ],
   "source": [
    "# distribution of missing gaps per respondent (if a gap misses both start and end, count as 2 instances of missing)\n",
    "merged.caseid_1979.value_counts()"
   ]
  },
  {
   "cell_type": "markdown",
   "metadata": {},
   "source": [
    "### When did respondent 8511's gaps happen? \n",
    "\n",
    "She had month msising for her 4th birth in 2001. None of her gap happened in that year. In fact, she never had any leaves around childbirth."
   ]
  },
  {
   "cell_type": "code",
   "execution_count": 31,
   "metadata": {
    "collapsed": false
   },
   "outputs": [
    {
     "data": {
      "text/plain": [
       "[(104, 106)]"
      ]
     },
     "execution_count": 31,
     "metadata": {},
     "output_type": "execute_result"
    }
   ],
   "source": [
    "# check respondent caseid 8511\n",
    "get_gaps(8511)"
   ]
  },
  {
   "cell_type": "code",
   "execution_count": 32,
   "metadata": {
    "collapsed": false
   },
   "outputs": [
    {
     "name": "stdout",
     "output_type": "stream",
     "text": [
      "(1979, 12) (1980, 1)\n"
     ]
    }
   ],
   "source": [
    "print get_year_month(104), get_year_month(106)"
   ]
  },
  {
   "cell_type": "code",
   "execution_count": 19,
   "metadata": {
    "collapsed": false
   },
   "outputs": [
    {
     "data": {
      "text/html": [
       "<div>\n",
       "<table border=\"1\" class=\"dataframe\">\n",
       "  <thead>\n",
       "    <tr style=\"text-align: right;\">\n",
       "      <th></th>\n",
       "      <th>caseid_1979</th>\n",
       "      <th>sample_id_1979</th>\n",
       "      <th>sample_race_1979</th>\n",
       "      <th>sample_sex_1979</th>\n",
       "      <th>c1dob_m_xrnd</th>\n",
       "      <th>c1dob_y_xrnd</th>\n",
       "      <th>c2dob_m_xrnd</th>\n",
       "      <th>c2dob_y_xrnd</th>\n",
       "      <th>c3dob_m_xrnd</th>\n",
       "      <th>c3dob_y_xrnd</th>\n",
       "      <th>...</th>\n",
       "      <th>c11dob_y_xrnd</th>\n",
       "      <th>y_dob</th>\n",
       "      <th>y_age35</th>\n",
       "      <th>y_deceased</th>\n",
       "      <th>last_yr</th>\n",
       "      <th>attr_before35</th>\n",
       "      <th>deceased_before35</th>\n",
       "      <th>y_child18</th>\n",
       "      <th>deceased_child18</th>\n",
       "      <th>attr_child18</th>\n",
       "    </tr>\n",
       "  </thead>\n",
       "  <tbody>\n",
       "    <tr>\n",
       "      <th>2739</th>\n",
       "      <td>8511</td>\n",
       "      <td>13</td>\n",
       "      <td>2</td>\n",
       "      <td>2</td>\n",
       "      <td>3</td>\n",
       "      <td>1990</td>\n",
       "      <td>11</td>\n",
       "      <td>1994</td>\n",
       "      <td>7</td>\n",
       "      <td>1998</td>\n",
       "      <td>...</td>\n",
       "      <td>-4</td>\n",
       "      <td>1962</td>\n",
       "      <td>1997</td>\n",
       "      <td>NaN</td>\n",
       "      <td>2012</td>\n",
       "      <td>False</td>\n",
       "      <td>False</td>\n",
       "      <td>2008</td>\n",
       "      <td>False</td>\n",
       "      <td>False</td>\n",
       "    </tr>\n",
       "  </tbody>\n",
       "</table>\n",
       "<p>1 rows × 35 columns</p>\n",
       "</div>"
      ],
      "text/plain": [
       "      caseid_1979  sample_id_1979  sample_race_1979  sample_sex_1979  \\\n",
       "2739         8511              13                 2                2   \n",
       "\n",
       "      c1dob_m_xrnd  c1dob_y_xrnd  c2dob_m_xrnd  c2dob_y_xrnd  c3dob_m_xrnd  \\\n",
       "2739             3          1990            11          1994             7   \n",
       "\n",
       "      c3dob_y_xrnd      ...       c11dob_y_xrnd  y_dob  y_age35  y_deceased  \\\n",
       "2739          1998      ...                  -4   1962     1997         NaN   \n",
       "\n",
       "      last_yr  attr_before35  deceased_before35  y_child18  deceased_child18  \\\n",
       "2739     2012          False              False       2008             False   \n",
       "\n",
       "      attr_child18  \n",
       "2739         False  \n",
       "\n",
       "[1 rows x 35 columns]"
      ]
     },
     "execution_count": 19,
     "metadata": {},
     "output_type": "execute_result"
    }
   ],
   "source": [
    "# when did respondent 8511 have birth?\n",
    "analytic_df[analytic_df.caseid_1979==8511]"
   ]
  },
  {
   "cell_type": "markdown",
   "metadata": {},
   "source": [
    "### Write a function to determine weeks of maternity leave - DISREGARD ALL MISSING GAPS FOR NOW"
   ]
  },
  {
   "cell_type": "code",
   "execution_count": 73,
   "metadata": {
    "collapsed": false
   },
   "outputs": [],
   "source": [
    "###modify to handle months prior to 1978\n",
    "\n",
    "\n",
    "def get_gaps(row, d=missing_data): # copy the same function above, remove the part that deals with missing values\n",
    "    \"\"\"\n",
    "    Given a row of respondent data, \n",
    "    Return a list of tuples (start week, end week) of work gaps for respondent i\n",
    "    \"\"\"\n",
    "    \n",
    "    gap_row = gap_df[gap_df.caseid_1979==row['caseid_1979']].iloc[0]\n",
    "    gaps = []\n",
    "    \n",
    "    #look for within-job gaps in all years. sometimes the gaps were recorded in later years\n",
    "    for y in range(1979, 1995)+range(1996, 2013, 2): \n",
    "        for j in range(1, 5): #4 possible gap periods\n",
    "            for k in range(1, 6): #5 possible jobs\n",
    "                try: \n",
    "                    gap_start = gap_row['per%s_start_%s_job0%s_xrnd'%(j, y, k)]\n",
    "                    gap_stop = gap_row['per%s_stop_%s_job0%s_xrnd'%(j, y, k)]\n",
    "                    \n",
    "                    if gap_start >= 0 and gap_stop >= 0:\n",
    "                        gaps.append((gap_start, gap_stop))\n",
    "                    elif gap_start == -4 and gap_stop == -4:\n",
    "                        pass # valid skip\n",
    "                    else:\n",
    "                        pass\n",
    "#                         missing_data['caseid_1979'].append(row['caseid_1979'])\n",
    "#                         missing_data['start_col'].append('per%s_start_%s_job0%s_xrnd'%(j, y, k))\n",
    "#                         missing_data['start'].append(gap_start) \n",
    "                        \n",
    "#                         start_y = None\n",
    "#                         start_m = None\n",
    "#                         if gap_start > 0:\n",
    "#                             start_y, start_m = get_year_month(gap_start)\n",
    "#                         missing_data['start_y'].append(start_y)\n",
    "#                         missing_data['start_m'].append(start_m)\n",
    "\n",
    "#                         missing_data['end_col'].append('per%s_stop_%s_job0%s_xrnd'%(j, y, k))\n",
    "#                         missing_data['end'].append(gap_stop)\n",
    "                        \n",
    "#                         end_y = None\n",
    "#                         end_m = None\n",
    "#                         if gap_stop > 0:\n",
    "#                             end_y, end_m = get_year_month(gap_stop)\n",
    "#                         missing_data['end_y'].append(end_y)\n",
    "#                         missing_data['end_m'].append(end_m)\n",
    "\n",
    "#                         print 'missing data - id:', row['caseid_1979'], 'year:', y, 'gap #:', j, 'job #:', k, 'weeks: ', (gap_start, gap_stop)\n",
    "                        \n",
    "                except KeyError: # some years do not report 5 jobs\n",
    "                    pass\n",
    "                \n",
    "    return gaps\n",
    "\n",
    "\n",
    "def find_maternal_leave_no_before(row):\n",
    "    \"\"\"\n",
    "    Given a row of respondent data, return a list of all weeks identified as maternal leaves\n",
    "    \"\"\"\n",
    "    \n",
    "    leaves = []\n",
    "    \n",
    "    gaps = get_gaps(row)\n",
    "    \n",
    "    for j in range(1, 12): # all births\n",
    "        dob_y = row['c%idob_y_xrnd'%j]\n",
    "        dob_m = row['c%idob_m_xrnd'%j]\n",
    "        \n",
    "        if dob_y>0 and dob_m>0:\n",
    "            \n",
    "            #modification: job gap dates do not go prior to 1978\n",
    "            # we only had one person who possibly had a job gap around birth time prior to 1/1/1978, \n",
    "            # but she only worked 40 hours pre-1978, so assume no maternity leave\n",
    "            \n",
    "            if dob_y>=1978: \n",
    "                \n",
    "                for (gap_start, gap_stop) in gaps:\n",
    "                    birth_wks = range(get_week_num(dob_y, dob_m, 'first'), get_week_num(dob_y, dob_m, 'last')+1)\n",
    "                    gap_wks = range(gap_start, gap_stop+1)\n",
    "                    is_ma_leave = False\n",
    "\n",
    "                    if set(birth_wks)&set(gap_wks): #the gap took place in the month of the birth\n",
    "                        is_ma_leave = True\n",
    "\n",
    "                    elif gap_start>birth_wks[-1] and gap_start-birth_wks[-1]<=16: #gap started within 16 weeks after birth\n",
    "                        is_ma_leave = True\n",
    "\n",
    "                    if is_ma_leave:\n",
    "                        leaves += range(gap_start, gap_stop+1)\n",
    "    \n",
    "    return leaves"
   ]
  },
  {
   "cell_type": "markdown",
   "metadata": {},
   "source": [
    "## Tranform weekly sequences\n",
    "\n",
    "My status classification scheme:\n",
    "\n",
    "* 1 - full-time employment\n",
    "* 2 - working with missing hours\n",
    "* 3 - part-time employent\n",
    "* 4 - nonwokring \n",
    "* 5 - maternity leave\n",
    "\n",
    "\n",
    "NEW: If respondents reported working 0 hours in week 0 (total hours worked pre-1978), assign 4-nonworking to all weeks before week 1. "
   ]
  },
  {
   "cell_type": "code",
   "execution_count": 76,
   "metadata": {
    "collapsed": false
   },
   "outputs": [
    {
     "name": "stdout",
     "output_type": "stream",
     "text": [
      "(3378, 3798)\n"
     ]
    }
   ],
   "source": [
    "#select only week array data for our selected sample\n",
    "merged_wkarray_df = analytic_df.merge(wkarray_df, on='caseid_1979')\n",
    "print merged_wkarray_df.shape"
   ]
  },
  {
   "cell_type": "markdown",
   "metadata": {},
   "source": [
    "### How to handle work hour 0? Should it count as part-time? How many monthly status will be affected if we could or do not count it as part-time?"
   ]
  },
  {
   "cell_type": "code",
   "execution_count": 78,
   "metadata": {
    "collapsed": false,
    "scrolled": true
   },
   "outputs": [
    {
     "name": "stdout",
     "output_type": "stream",
     "text": [
      "0\n",
      "100\n",
      "200\n",
      "300\n",
      "400\n",
      "500\n",
      "600\n",
      "700\n",
      "800\n",
      "900\n",
      "1000\n",
      "1100\n",
      "1200\n",
      "1300\n",
      "1400\n",
      "1500\n",
      "1600\n",
      "1700\n",
      "1800\n",
      "1900\n",
      "2000\n",
      "2100\n",
      "2200\n",
      "2300\n",
      "2400\n",
      "2500\n",
      "2600\n",
      "2700\n",
      "2800\n",
      "2900\n",
      "3000\n",
      "3100\n",
      "3200\n",
      "3300\n"
     ]
    }
   ],
   "source": [
    "# what labor force status are associated with work hour 0?\n",
    "\n",
    "# Create a dictionary to store counts\n",
    "counts = defaultdict(list)\n",
    "\n",
    "for i, row in merged_wkarray_df.iterrows(): #iterate through weekly array rows\n",
    "\n",
    "    #keep track of progress\n",
    "    if i%100 == 0: \n",
    "        print i\n",
    "    \n",
    "    #find year and month of first childbirth\n",
    "    dob_y = row['c1dob_y_xrnd']\n",
    "    dob_m = row['c1dob_m_xrnd']\n",
    "    \n",
    "    #find employment sequence start year and month\n",
    "    if dob_m == 12:\n",
    "        start_y = dob_y+1\n",
    "        start_m = 1\n",
    "    else:\n",
    "        start_y = dob_y\n",
    "        start_m = dob_m+1\n",
    "        \n",
    "    #maternal leaves\n",
    "    leaves = find_maternal_leave_no_before(row)\n",
    "        \n",
    "    for week_num in range(1, 1880): #iterate through all weekly work variables\n",
    "         \n",
    "        #if the week is maternity leave\n",
    "        if week_num in leaves:\n",
    "            continue\n",
    "        \n",
    "        #otherwise:\n",
    "        my_status = None\n",
    "        \n",
    "        #get the hours worked this week \n",
    "        hours = row['hrs_worked_wk_num%04d_xrnd'%week_num]\n",
    "    \n",
    "        #get the employment status this week\n",
    "        status = row['status_wk_num%04d_xrnd'%week_num]\n",
    "\n",
    "        if (status >= 100 and status <= 2510):\n",
    "            status = 'w' #working\n",
    "        \n",
    "        if hours == 0:\n",
    "            counts[status].append(row['caseid_1979'])"
   ]
  },
  {
   "cell_type": "code",
   "execution_count": 81,
   "metadata": {
    "collapsed": false
   },
   "outputs": [
    {
     "name": "stdout",
     "output_type": "stream",
     "text": [
      "display freq of labor force status associated with work hour 0 (i.e. number of weeks)\n",
      "0 : 404425\n",
      "2 : 29233\n",
      "4 : 303358\n",
      "5 : 1741711\n",
      "7 : 11214\n",
      "w : 4752\n",
      "\n",
      "display number of unique respondents in each labor force status associated with work hour 0\n",
      "0 : 3378\n",
      "2 : 838\n",
      "4 : 3180\n",
      "5 : 3344\n",
      "7 : 50\n",
      "w : 95\n"
     ]
    }
   ],
   "source": [
    "print 'display freq of labor force status associated with work hour 0 (i.e. number of weeks)'\n",
    "for k, v in counts.items():\n",
    "    print k, ':', len(v)    \n",
    "    \n",
    "print\n",
    "print 'display number of unique respondents in each labor force status associated with work hour 0'\n",
    "for k, v in counts.items():\n",
    "    print k, ':', len(set(v))    "
   ]
  },
  {
   "cell_type": "code",
   "execution_count": 82,
   "metadata": {
    "collapsed": false
   },
   "outputs": [
    {
     "name": "stdout",
     "output_type": "stream",
     "text": [
      "0\n",
      "100\n",
      "200\n",
      "300\n",
      "400\n",
      "500\n",
      "600\n",
      "700\n",
      "800\n",
      "900\n",
      "1000\n",
      "1100\n",
      "1200\n",
      "1300\n",
      "1400\n",
      "1500\n",
      "1600\n",
      "1700\n",
      "1800\n",
      "1900\n",
      "2000\n",
      "2100\n",
      "2200\n",
      "2300\n",
      "2400\n",
      "2500\n",
      "2600\n",
      "2700\n",
      "2800\n",
      "2900\n",
      "3000\n",
      "3100\n",
      "3200\n",
      "3300\n"
     ]
    }
   ],
   "source": [
    "### modification: assign a unique status (99) to weeks with labor force status 'w' and work hour 0\n",
    "\n",
    "\n",
    "# Create a dictionary to store data\n",
    "data = defaultdict(list)\n",
    "\n",
    "# count how many hours people work with employment status 3 (associated with employer)\n",
    "count_hrs_status3 = []\n",
    "\n",
    "for i, row in merged_wkarray_df.iterrows(): #iterate through weekly array rows\n",
    "\n",
    "    #keep track of progress\n",
    "    if i%100 == 0: \n",
    "        print i\n",
    "    \n",
    "    #find year and month of first childbirth\n",
    "    dob_y = row['c1dob_y_xrnd']\n",
    "    dob_m = row['c1dob_m_xrnd']\n",
    "    \n",
    "    #find employment sequence start year and month\n",
    "    if dob_m == 12:\n",
    "        start_y = dob_y+1\n",
    "        start_m = 1\n",
    "    else:\n",
    "        start_y = dob_y\n",
    "        start_m = dob_m+1\n",
    "    \n",
    "    \n",
    "    #keep three columns: id, start_y, start_m\n",
    "    data['id'].append(row['caseid_1979'])\n",
    "    data['start_y'].append(start_y)\n",
    "    data['start_m'].append(start_m) \n",
    "        \n",
    "    #maternal leaves\n",
    "    leaves = find_maternal_leave_no_before(row)\n",
    "        \n",
    "    for week_num in range(1, 1880): #iterate through all weekly work variables\n",
    "         \n",
    "        #if the week is maternity leave\n",
    "        if week_num in leaves:\n",
    "            data['week%s'%week_num].append(5) \n",
    "            continue\n",
    "        \n",
    "        #otherwise:\n",
    "        my_status = None\n",
    "        \n",
    "        #get the hours worked this week \n",
    "        hours = row['hrs_worked_wk_num%04d_xrnd'%week_num]\n",
    "    \n",
    "        #get the employment status this week\n",
    "        status = row['status_wk_num%04d_xrnd'%week_num]\n",
    "\n",
    "        if (status >= 100 and status <= 2510):\n",
    "            status = 'w' #working\n",
    "        \n",
    "        if hours >= 35:\n",
    "            hours = 'ft' #full-time working hours\n",
    "        elif hours > 0 and hours < 35:\n",
    "            hours = 'pt' #part-time working hours\n",
    "        \n",
    "        \n",
    "        ### define employment status according to my classification scheme ###\n",
    "        \n",
    "        # missing\n",
    "        if hours == 0 and status == 0:\n",
    "            my_status = 0\n",
    "            \n",
    "        # full time\n",
    "        elif hours == 'ft' and status in ['w', 3]:\n",
    "            my_status = 1\n",
    "        elif hours == 0 and status == 7:\n",
    "            my_status = 1\n",
    "            \n",
    "        # working, missing hours\n",
    "        elif hours < 0 and status in ['w', 3]: \n",
    "            my_status = 2\n",
    "            \n",
    "            ###################\n",
    "            if status==3:\n",
    "                count_hrs_status3.append(hours)\n",
    "            \n",
    "        # part time\n",
    "        elif hours == 'pt' and status in ['w', 3]:\n",
    "            my_status = 3\n",
    "            \n",
    "        ### NEW ###\n",
    "        elif hours == 0 and status == 'w':\n",
    "            my_status = 99\n",
    "            \n",
    "        # non-working\n",
    "        elif hours <= 0 and status == 2:\n",
    "            my_status = 4\n",
    "        elif hours <= 0 and status == 4:\n",
    "            my_status = 4\n",
    "        elif hours <= 0 and status == 5:\n",
    "            my_status = 4\n",
    "\n",
    "        else:\n",
    "            raise Exception, 'unknown hours and status: (%s, %s)'%(hours, status)\n",
    "            \n",
    "        data['week%s'%week_num].append(my_status) #make the week number start from 0, easier for indexing in Python"
   ]
  },
  {
   "cell_type": "code",
   "execution_count": 83,
   "metadata": {
    "collapsed": false
   },
   "outputs": [
    {
     "name": "stdout",
     "output_type": "stream",
     "text": [
      "id             2\n",
      "start_y     1993\n",
      "start_m        4\n",
      "week1          4\n",
      "week2          4\n",
      "week3          4\n",
      "week4          4\n",
      "week5          4\n",
      "week6          4\n",
      "week7          4\n",
      "week8          4\n",
      "week9          4\n",
      "week10         4\n",
      "week11         4\n",
      "week12         4\n",
      "week13         4\n",
      "week14         4\n",
      "week15         4\n",
      "week16         4\n",
      "week17         4\n",
      "week18         4\n",
      "week19         1\n",
      "week20         1\n",
      "week21         1\n",
      "week22         1\n",
      "week23         1\n",
      "week24         1\n",
      "week25         1\n",
      "week26         1\n",
      "week27         1\n",
      "            ... \n",
      "week1850       0\n",
      "week1851       0\n",
      "week1852       0\n",
      "week1853       0\n",
      "week1854       0\n",
      "week1855       0\n",
      "week1856       0\n",
      "week1857       0\n",
      "week1858       0\n",
      "week1859       0\n",
      "week1860       0\n",
      "week1861       0\n",
      "week1862       0\n",
      "week1863       0\n",
      "week1864       0\n",
      "week1865       0\n",
      "week1866       0\n",
      "week1867       0\n",
      "week1868       0\n",
      "week1869       0\n",
      "week1870       0\n",
      "week1871       0\n",
      "week1872       0\n",
      "week1873       0\n",
      "week1874       0\n",
      "week1875       0\n",
      "week1876       0\n",
      "week1877       0\n",
      "week1878       0\n",
      "week1879       0\n",
      "Name: 0, dtype: int64\n"
     ]
    }
   ],
   "source": [
    "#create the new weekly array dataframe with my edited employment status\n",
    "\n",
    "#week number range: 1 - 1879\n",
    "\n",
    "#order the columns in the new dataframe\n",
    "cols = ['id', 'start_y', 'start_m'] + ['week%s'%n for n in range(1, 1880)]\n",
    "\n",
    "full_df = pd.DataFrame(data, columns=cols)\n",
    "print full_df.iloc[0]"
   ]
  },
  {
   "cell_type": "code",
   "execution_count": 84,
   "metadata": {
    "collapsed": false
   },
   "outputs": [
    {
     "name": "stdout",
     "output_type": "stream",
     "text": [
      "826\n"
     ]
    }
   ],
   "source": [
    "#how many times did status 3 appear?\n",
    "print len(count_hrs_status3)"
   ]
  },
  {
   "cell_type": "code",
   "execution_count": 85,
   "metadata": {
    "collapsed": false
   },
   "outputs": [
    {
     "data": {
      "text/plain": [
       "{-3}"
      ]
     },
     "execution_count": 85,
     "metadata": {},
     "output_type": "execute_result"
    }
   ],
   "source": [
    "#what work hours are associated with status 3?\n",
    "set(count_hrs_status3)"
   ]
  },
  {
   "cell_type": "code",
   "execution_count": 86,
   "metadata": {
    "collapsed": true
   },
   "outputs": [],
   "source": [
    "# export to csv\n",
    "full_df.to_csv('../data/full_wk_df.csv', index=False)"
   ]
  },
  {
   "cell_type": "markdown",
   "metadata": {},
   "source": [
    "## Construct 18-year monthly sequences"
   ]
  },
  {
   "cell_type": "code",
   "execution_count": 88,
   "metadata": {
    "collapsed": false
   },
   "outputs": [
    {
     "name": "stdout",
     "output_type": "stream",
     "text": [
      "[1]\n",
      "[1, 2]\n"
     ]
    }
   ],
   "source": [
    "def find_modal(l):\n",
    "    \"\"\"\n",
    "    Given a list l, return the most common element in the list. \n",
    "    if there is a tie, return all elements.\n",
    "    \"\"\"\n",
    "    \n",
    "    #first, count frequency of each unique item in the list\n",
    "    counter = defaultdict(int)\n",
    "    for item in l:\n",
    "        counter[item] += 1\n",
    "\n",
    "    #rank items from most frequent to least frequent\n",
    "    popular_items = sorted(counter, key=counter.get, reverse = True)\n",
    "    \n",
    "    most_common = [popular_items[0]]\n",
    "    \n",
    "    for other in popular_items[1:]:\n",
    "        if counter[other] < counter[most_common[0]]:\n",
    "            break\n",
    "        elif counter[other] == counter[most_common[0]]: #find an equally frequent item\n",
    "            most_common.append(other)\n",
    "        else:\n",
    "            print 'impossible'\n",
    "\n",
    "    return most_common\n",
    "\n",
    "#for example\n",
    "print find_modal([1, 1, 2, 1, 5])\n",
    "print find_modal([1, 1, 2, 1, 5, 2, 2, 33])"
   ]
  },
  {
   "cell_type": "markdown",
   "metadata": {},
   "source": [
    "### Version 1: treat work hour 0 as 'working, with missing hours'"
   ]
  },
  {
   "cell_type": "code",
   "execution_count": 90,
   "metadata": {
    "collapsed": false
   },
   "outputs": [
    {
     "name": "stdout",
     "output_type": "stream",
     "text": [
      "0\n",
      "100\n",
      "200\n",
      "300\n",
      "400\n",
      "500\n",
      "600\n",
      "700\n",
      "800\n",
      "900\n",
      "1000\n",
      "1100\n",
      "1200\n",
      "1300\n",
      "1400\n",
      "1500\n",
      "1600\n",
      "1700\n",
      "1800\n",
      "1900\n",
      "2000\n",
      "2100\n",
      "2200\n",
      "2300\n",
      "2400\n",
      "2500\n",
      "2600\n",
      "2700\n",
      "2800\n",
      "2900\n",
      "3000\n",
      "3100\n",
      "3200\n",
      "3300\n"
     ]
    }
   ],
   "source": [
    "import random\n",
    "random.seed(7222014)\n",
    "\n",
    "res_data = defaultdict(list) #create an empty dictionary to store data\n",
    "\n",
    "count_ties = [] #how many we get ties of modal, store a tuple (respondent id, month # where a tie occured) \n",
    "\n",
    "for i, row in full_df.iterrows():\n",
    "    \n",
    "    # keep track of progress\n",
    "    if i%100 == 0:\n",
    "        print i\n",
    "    \n",
    "    # keep basic info: id, sequence start year and month\n",
    "    res_data['id'].append(row['id'])\n",
    "    \n",
    "    y = row['start_y']\n",
    "    m = row['start_m']\n",
    "    \n",
    "    res_data['start_y'].append(y)\n",
    "    res_data['start_m'].append(m)\n",
    "    \n",
    "    \n",
    "    # look at weekly statuses\n",
    "    for j in range(1, 217): # from month 1 to month 216\n",
    "        \n",
    "        if y < 1978: #prior to 1978\n",
    "            hrs_pre1978 = merged_wkarray_df[merged_wkarray_df.caseid_1979==row['id']].iloc[0]['hrs_worked_wk_num0000_xrnd']\n",
    "            \n",
    "            if hrs_pre1978 == 0: # never worked before 1978\n",
    "                res_data['month%s'%j].append(4) # assign 4 - nonemployed\n",
    "            else:\n",
    "                res_data['month%s'%j].append(0) # otherwise, assign missing\n",
    "            \n",
    "        else:\n",
    "            start = get_week_num(y, m, 'first')\n",
    "            end = get_week_num(y, m, 'last')\n",
    "            wk_statuses = [row['week%i'%k] for k in range(start, end+1)]\n",
    "            \n",
    "            #### replace 99 (work hour 0) as status 2 (working, with missing hours) ####\n",
    "            wk_statuses = [v if v != 99 else 2 for v in wk_statuses]\n",
    "\n",
    "            #find unique items in the given month \n",
    "            distinct = list(set(wk_statuses))\n",
    "            distinct.sort()\n",
    "\n",
    "            if len(distinct) == 1:\n",
    "                res_data['month%s'%j].append(distinct[0])\n",
    "\n",
    "            elif len(distinct) >= 2:\n",
    "                modal = find_modal(wk_statuses)\n",
    "                if len(modal) == 1:\n",
    "                    res_data['month%s'%j].append(modal[0])\n",
    "                else:\n",
    "                    res_data['month%s'%j].append(random.choice(modal))\n",
    "                    count_ties.append((row['id'], j))\n",
    "\n",
    "         \n",
    "        #move to next month\n",
    "        if m < 12:\n",
    "            m += 1\n",
    "        elif m == 12:\n",
    "            m = 1\n",
    "            y += 1\n",
    "\n",
    "cols = ['id', 'start_y', 'start_m'] + ['month%s'%i for i in range(1, 217)]\n",
    "res_df = pd.DataFrame(res_data, columns=cols) #restricted dataframe"
   ]
  },
  {
   "cell_type": "code",
   "execution_count": 91,
   "metadata": {
    "collapsed": false
   },
   "outputs": [
    {
     "name": "stdout",
     "output_type": "stream",
     "text": [
      "5769 instances of ties\n",
      "2381 unique respondents have ties\n"
     ]
    }
   ],
   "source": [
    "print \"%s instances of ties\"%len(count_ties)\n",
    "\n",
    "ids = map(itemgetter(0), count_ties)\n",
    "print \"%s unique respondents have ties\"%len(set(ids))"
   ]
  },
  {
   "cell_type": "markdown",
   "metadata": {},
   "source": [
    "### Version 2: treat work hour 0 as 'part-time'"
   ]
  },
  {
   "cell_type": "code",
   "execution_count": null,
   "metadata": {
    "collapsed": false
   },
   "outputs": [
    {
     "name": "stdout",
     "output_type": "stream",
     "text": [
      "0\n",
      "100\n",
      "200\n",
      "300\n",
      "400\n",
      "500\n",
      "600\n",
      "700\n",
      "800\n",
      "900\n",
      "1000\n",
      "1100\n",
      "1200\n",
      "1300\n",
      "1400\n",
      "1500\n",
      "1600\n",
      "1700\n",
      "1800\n",
      "1900\n",
      "2000\n",
      "2100\n",
      "2200\n",
      "2300\n",
      "2400\n",
      "2500\n",
      "2600\n",
      "2700\n",
      "2800\n"
     ]
    }
   ],
   "source": [
    "import random\n",
    "random.seed(7222014)\n",
    "\n",
    "res_data2 = defaultdict(list) #create an empty dictionary to store data\n",
    "\n",
    "count_ties2 = [] #how many we get ties of modal\n",
    "\n",
    "for i, row in full_df.iterrows():\n",
    "    \n",
    "    # keep track of progress\n",
    "    if i%100 == 0:\n",
    "        print i\n",
    "    \n",
    "    # keep basic info: id, sequence start year and month\n",
    "    res_data2['id'].append(row['id'])\n",
    "    \n",
    "    y = row['start_y']\n",
    "    m = row['start_m']\n",
    "    \n",
    "    res_data2['start_y'].append(y)\n",
    "    res_data2['start_m'].append(m)\n",
    "    \n",
    "    \n",
    "    # look at weekly statuses\n",
    "    for j in range(1, 217): # from month 1 to month 216\n",
    "        \n",
    "        if y < 1978: #prior to 1978\n",
    "            hrs_pre1978 = merged_wkarray_df[merged_wkarray_df.caseid_1979==row['id']].iloc[0]['hrs_worked_wk_num0000_xrnd']\n",
    "            \n",
    "            if hrs_pre1978 == 0: # never worked before 1978\n",
    "                res_data2['month%s'%j].append(4) # assign 4 - nonemployed\n",
    "            else:\n",
    "                res_data2['month%s'%j].append(0) # otherwise, assign missing\n",
    "            \n",
    "        else:\n",
    "            start = get_week_num(y, m, 'first')\n",
    "            end = get_week_num(y, m, 'last')\n",
    "            wk_statuses = [row['week%i'%k] for k in range(start, end+1)]\n",
    "            \n",
    "            #### modification ####\n",
    "            if not 99 in wk_statuses: # directly use the monthly status derived before\n",
    "                status = res_df[res_df.id==row['id']].iloc[0]['month%s'%j]\n",
    "                res_data2['month%s'%j].append(status)\n",
    "            else:            \n",
    "                #### replace 99 (work hour 0) as status 3 (part-time) ####\n",
    "                wk_statuses = [v if v != 99 else 3 for v in wk_statuses]\n",
    "\n",
    "                #find unique items in the given month \n",
    "                distinct = list(set(wk_statuses))\n",
    "                distinct.sort()\n",
    "\n",
    "                if len(distinct) == 1:\n",
    "                    res_data2['month%s'%j].append(distinct[0])\n",
    "\n",
    "                elif len(distinct) >= 2:\n",
    "                    modal = find_modal(wk_statuses)\n",
    "                    if len(modal) == 1:\n",
    "                        res_data2['month%s'%j].append(modal[0])\n",
    "                    else:\n",
    "                        res_data2['month%s'%j].append(random.choice(modal))\n",
    "                        count_ties2.append((row['id'], j))\n",
    "\n",
    "         \n",
    "        #move to next month\n",
    "        if m < 12:\n",
    "            m += 1\n",
    "        elif m == 12:\n",
    "            m = 1\n",
    "            y += 1\n",
    "\n",
    "cols = ['id', 'start_y', 'start_m'] + ['month%s'%i for i in range(1, 217)]\n",
    "res_df2 = pd.DataFrame(res_data2, columns=cols) #restricted dataframe"
   ]
  },
  {
   "cell_type": "code",
   "execution_count": null,
   "metadata": {
    "collapsed": true
   },
   "outputs": [],
   "source": [
    "print \"%s instances of ties\"%len(count_ties)\n",
    "print \"%s unique respondents have ties\"%len(set(count_ties))"
   ]
  },
  {
   "cell_type": "markdown",
   "metadata": {},
   "source": [
    "### Export both to csv for now"
   ]
  },
  {
   "cell_type": "code",
   "execution_count": 28,
   "metadata": {
    "collapsed": false
   },
   "outputs": [],
   "source": [
    "res_df.to_csv(\"../data/monthly_df.csv\", index=False)\n",
    "res_df2.to_csv(\"../data/monthly_df2.csv\", index=False)"
   ]
  },
  {
   "cell_type": "markdown",
   "metadata": {},
   "source": [
    "### Compare two versions of monthly sequences\n",
    "\n",
    "Some of their differences come from the random selection of multiple most frequent statuses."
   ]
  },
  {
   "cell_type": "code",
   "execution_count": null,
   "metadata": {
    "collapsed": true
   },
   "outputs": [],
   "source": [
    "diff = res_df[['month%s'%i for i in range(1, 217)]]\n",
    "\n",
    "for i in range(1, 217):\n",
    "    diff['month%s'%i] = res_df['month%s'%i] != res_df2['month%s'%i]"
   ]
  },
  {
   "cell_type": "code",
   "execution_count": null,
   "metadata": {
    "collapsed": true
   },
   "outputs": [],
   "source": [
    "diff_by_col = diff.apply(lambda col: sum(col), axis=0)\n",
    "plt.hist(diff_month_by_col.iloc[0].values)\n",
    "remove_border()"
   ]
  },
  {
   "cell_type": "markdown",
   "metadata": {},
   "source": [
    "# Explore the sequences\n",
    "\n",
    "* Version 1: treat work hour 0 as 'working, with missing hours'\n",
    "* Version 2: treat work hour 0 as 'part-time'"
   ]
  },
  {
   "cell_type": "markdown",
   "metadata": {},
   "source": [
    "### Explore distribution of status 0 - completely missing"
   ]
  },
  {
   "cell_type": "code",
   "execution_count": 29,
   "metadata": {
    "collapsed": true
   },
   "outputs": [],
   "source": [
    "def has_missing(row):\n",
    "    vals = [row['month%s'%i]==0 for i in range(1, 217)]\n",
    "    return sum(vals)\n",
    "\n",
    "num_missings = res_df.apply(has_missing, axis=1)\n",
    "num_missings2 = res_df.apply(has_missing2, axis=1)"
   ]
  },
  {
   "cell_type": "code",
   "execution_count": null,
   "metadata": {
    "collapsed": true
   },
   "outputs": [],
   "source": [
    "print \"Verzion 1: %s respondents have no missing\"%sum([v==0 for v in num_missings])\n",
    "print \"Verzion 2: %s respondents have no missing\"%sum([v==0 for v in num_missings2])"
   ]
  },
  {
   "cell_type": "code",
   "execution_count": null,
   "metadata": {
    "collapsed": true
   },
   "outputs": [],
   "source": [
    "# mean and median of missing months per respondent (after removing cases with no missing)\n",
    "print 'version 1:', np.mean([v for v in num_missings if v>0]), np.median([v for v in num_missings if v>0])\n",
    "print 'version 2:', np.mean([v for v in num_missings2 if v>0]), np.median([v for v in num_missings2 if v>0])"
   ]
  },
  {
   "cell_type": "code",
   "execution_count": 30,
   "metadata": {
    "collapsed": false
   },
   "outputs": [
    {
     "data": {
      "image/png": "[encoded data removed]",
      "text/plain": [
       "<matplotlib.figure.Figure at 0x10a943090>"
      ]
     },
     "metadata": {},
     "output_type": "display_data"
    }
   ],
   "source": [
    "# plot after removing cases with no missing\n",
    "f, (ax1, ax2) = plt.subplots(1, 2, sharey=True)\n",
    "ax1.hist([v for v in num_missings if v>0])\n",
    "ax1.set_title(\"Version 1: treat work hour 0 as 'working, with missing hours'\")\n",
    "ax2.hist([v for v in num_missings2 if v>0])\n",
    "ax2.set_title(\"Version 2: treat work hour 0 as 'part-time'\")"
   ]
  },
  {
   "cell_type": "markdown",
   "metadata": {
    "collapsed": false
   },
   "source": [
    "### Explore distribution of status 2 - work, with missing hours"
   ]
  },
  {
   "cell_type": "code",
   "execution_count": null,
   "metadata": {
    "collapsed": true
   },
   "outputs": [],
   "source": [
    "def has_missing_hours(row):\n",
    "    vals = [row['month%s'%i]==2 for i in range(1, 217)]\n",
    "    return sum(vals)\n",
    "\n",
    "num_missings = res_df.apply(has_missing, axis=1)\n",
    "num_missings2 = res_df.apply(has_missing2, axis=1)"
   ]
  },
  {
   "cell_type": "code",
   "execution_count": null,
   "metadata": {
    "collapsed": true
   },
   "outputs": [],
   "source": [
    "print \"Verzion 1: %s respondents have no missing hour\"%sum([v==0 for v in num_missings])\n",
    "print \"Verzion 2: %s respondents have no missing hour\"%sum([v==0 for v in num_missings2])"
   ]
  },
  {
   "cell_type": "code",
   "execution_count": null,
   "metadata": {
    "collapsed": true
   },
   "outputs": [],
   "source": [
    "# mean and median of missing months per respondent (after removing cases with no missing hour)\n",
    "print 'version 1:', np.mean([v for v in num_missings if v>0]), np.median([v for v in num_missings if v>0])\n",
    "print 'version 2:', np.mean([v for v in num_missings2 if v>0]), np.median([v for v in num_missings2 if v>0])"
   ]
  },
  {
   "cell_type": "code",
   "execution_count": null,
   "metadata": {
    "collapsed": true
   },
   "outputs": [],
   "source": [
    "# plot after removing cases with no missing hour\n",
    "f, (ax1, ax2) = plt.subplots(1, 2, sharey=True)\n",
    "ax1.hist([v for v in num_missings if v>0])\n",
    "ax1.set_title(\"Version 1: treat work hour 0 as 'working, with missing hours'\")\n",
    "ax2.hist([v for v in num_missings2 if v>0])\n",
    "ax2.set_title(\"Version 2: treat work hour 0 as 'part-time'\")"
   ]
  }
 ],
 "metadata": {
  "kernelspec": {
   "display_name": "Python 2",
   "language": "python",
   "name": "python2"
  },
  "language_info": {
   "codemirror_mode": {
    "name": "ipython",
    "version": 2
   },
   "file_extension": ".py",
   "mimetype": "text/x-python",
   "name": "python",
   "nbconvert_exporter": "python",
   "pygments_lexer": "ipython2",
   "version": "2.7.12"
  }
 },
 "nbformat": 4,
 "nbformat_minor": 0
}
