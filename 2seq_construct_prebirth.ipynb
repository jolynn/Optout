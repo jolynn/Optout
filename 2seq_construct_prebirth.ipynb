{
 "cells": [
  {
   "cell_type": "markdown",
   "metadata": {},
   "source": [
    "# OptOut Project: Sequence Construction for Plotting Purpose\n",
    "\n",
    "* Include an earlier year to show in state distribution plot\n",
    "* Construct monthly sequences"
   ]
  },
  {
   "cell_type": "code",
   "execution_count": 1,
   "metadata": {
    "collapsed": false
   },
   "outputs": [],
   "source": [
    "#setup\n",
    "%matplotlib inline\n",
    "import numpy as np\n",
    "import matplotlib.pyplot as plt\n",
    "import pandas as pd\n",
    "import time\n",
    "import random\n",
    "from collections import defaultdict"
   ]
  },
  {
   "cell_type": "markdown",
   "metadata": {},
   "source": [
    "# Week-to-week crosswalk\n",
    "\n",
    "Create two functions to convert between week number and calendar year and month"
   ]
  },
  {
   "cell_type": "code",
   "execution_count": 2,
   "metadata": {
    "collapsed": false
   },
   "outputs": [
    {
     "data": {
      "text/html": [
       "<div>\n",
       "<table border=\"1\" class=\"dataframe\">\n",
       "  <thead>\n",
       "    <tr style=\"text-align: right;\">\n",
       "      <th></th>\n",
       "      <th>Week Start:\n",
       "Month</th>\n",
       "      <th>Week Start: \n",
       "Day</th>\n",
       "      <th>Week Start: \n",
       "Year</th>\n",
       "      <th>Calendar Year \n",
       "Week Number</th>\n",
       "      <th>Continuous \n",
       "Week Number</th>\n",
       "    </tr>\n",
       "  </thead>\n",
       "  <tbody>\n",
       "    <tr>\n",
       "      <th>0</th>\n",
       "      <td>1</td>\n",
       "      <td>1</td>\n",
       "      <td>1978</td>\n",
       "      <td>1</td>\n",
       "      <td>1</td>\n",
       "    </tr>\n",
       "    <tr>\n",
       "      <th>1</th>\n",
       "      <td>1</td>\n",
       "      <td>8</td>\n",
       "      <td>1978</td>\n",
       "      <td>2</td>\n",
       "      <td>2</td>\n",
       "    </tr>\n",
       "    <tr>\n",
       "      <th>2</th>\n",
       "      <td>1</td>\n",
       "      <td>15</td>\n",
       "      <td>1978</td>\n",
       "      <td>3</td>\n",
       "      <td>3</td>\n",
       "    </tr>\n",
       "    <tr>\n",
       "      <th>3</th>\n",
       "      <td>1</td>\n",
       "      <td>22</td>\n",
       "      <td>1978</td>\n",
       "      <td>4</td>\n",
       "      <td>4</td>\n",
       "    </tr>\n",
       "    <tr>\n",
       "      <th>4</th>\n",
       "      <td>1</td>\n",
       "      <td>29</td>\n",
       "      <td>1978</td>\n",
       "      <td>5</td>\n",
       "      <td>5</td>\n",
       "    </tr>\n",
       "  </tbody>\n",
       "</table>\n",
       "</div>"
      ],
      "text/plain": [
       "   Week Start:\\nMonth  Week Start: \\nDay  Week Start: \\nYear  \\\n",
       "0                   1                  1                1978   \n",
       "1                   1                  8                1978   \n",
       "2                   1                 15                1978   \n",
       "3                   1                 22                1978   \n",
       "4                   1                 29                1978   \n",
       "\n",
       "   Calendar Year \\nWeek Number   Continuous \\nWeek Number  \n",
       "0                             1                         1  \n",
       "1                             2                         2  \n",
       "2                             3                         3  \n",
       "3                             4                         4  \n",
       "4                             5                         5  "
      ]
     },
     "execution_count": 2,
     "metadata": {},
     "output_type": "execute_result"
    }
   ],
   "source": [
    "#this is the file to switch between week number in NLSY79 and calendar year, month, and day\n",
    "xl_file = pd.ExcelFile('../data/continuous_week_crosswalk_2012.xlsx') \n",
    "\n",
    "weekdf = xl_file.parse('weekdates1')\n",
    "weekdf.head()"
   ]
  },
  {
   "cell_type": "code",
   "execution_count": 3,
   "metadata": {
    "collapsed": false
   },
   "outputs": [
    {
     "data": {
      "text/plain": [
       "Index([u'Week Start:\\nMonth', u'Week Start: \\nDay', u'Week Start: \\nYear',\n",
       "       u'Calendar Year \\nWeek Number ', u'Continuous \\nWeek Number'],\n",
       "      dtype='object')"
      ]
     },
     "execution_count": 3,
     "metadata": {},
     "output_type": "execute_result"
    }
   ],
   "source": [
    "#column names\n",
    "weekdf.columns"
   ]
  },
  {
   "cell_type": "code",
   "execution_count": 4,
   "metadata": {
    "collapsed": false
   },
   "outputs": [
    {
     "name": "stdout",
     "output_type": "stream",
     "text": [
      "1879 1879\n"
     ]
    }
   ],
   "source": [
    "#confirm the continuous week number equal the number of rows\n",
    "print max(weekdf['Continuous \\nWeek Number'].values), weekdf.shape[0]"
   ]
  },
  {
   "cell_type": "markdown",
   "metadata": {},
   "source": [
    "Weekdf has a total of 1826 rows, and the Continuous Week number should have a maximal value of 1826 too. Modify weekdf."
   ]
  },
  {
   "cell_type": "code",
   "execution_count": 5,
   "metadata": {
    "collapsed": false
   },
   "outputs": [],
   "source": [
    "def get_week_num(year, month, which, df=weekdf):\n",
    "    \"\"\"\n",
    "    Given a calendar year and month, return the corresponding week number in NLSY79.\n",
    "    \n",
    "    If which=='first', return the first week in that month.\n",
    "    If which=='last', return the last week in that month. \n",
    "    \"\"\"\n",
    "    \n",
    "    the_month = weekdf[(weekdf['Week Start:\\nMonth']==month)&(weekdf['Week Start: \\nYear']==year)]\n",
    "    \n",
    "    if which == 'first':\n",
    "        return int(the_month.iloc[0]['Continuous \\nWeek Number'])\n",
    "    elif which == 'last':\n",
    "        return int(the_month.iloc[len(the_month)-1]['Continuous \\nWeek Number'])"
   ]
  },
  {
   "cell_type": "code",
   "execution_count": 6,
   "metadata": {
    "collapsed": false
   },
   "outputs": [],
   "source": [
    "def get_year_month(weeknum, df=weekdf):\n",
    "    \"\"\"\n",
    "    Given a week number, return the corresponding calendar month and year (yyyy, m).\n",
    "    \"\"\"\n",
    "    \n",
    "    the_week = weekdf[weekdf['Continuous \\nWeek Number']==weeknum]\n",
    "    return int(the_week.iloc[0]['Week Start: \\nYear']), int(the_week.iloc[0]['Week Start:\\nMonth'])"
   ]
  },
  {
   "cell_type": "markdown",
   "metadata": {},
   "source": [
    "# Read weekly data\n",
    "My status classification scheme:\n",
    "\n",
    "* 1 - full-time employment\n",
    "* 2 - working with missing hours\n",
    "* 3 - part-time employent\n",
    "* 4 - nonwokring \n",
    "* 5 - maternity leave"
   ]
  },
  {
   "cell_type": "code",
   "execution_count": 7,
   "metadata": {
    "collapsed": false
   },
   "outputs": [
    {
     "name": "stdout",
     "output_type": "stream",
     "text": [
      "(3434, 1882)\n"
     ]
    },
    {
     "data": {
      "text/html": [
       "<div>\n",
       "<table border=\"1\" class=\"dataframe\">\n",
       "  <thead>\n",
       "    <tr style=\"text-align: right;\">\n",
       "      <th></th>\n",
       "      <th>id</th>\n",
       "      <th>start_y</th>\n",
       "      <th>start_m</th>\n",
       "      <th>week1</th>\n",
       "      <th>week2</th>\n",
       "      <th>week3</th>\n",
       "      <th>week4</th>\n",
       "      <th>week5</th>\n",
       "      <th>week6</th>\n",
       "      <th>week7</th>\n",
       "      <th>...</th>\n",
       "      <th>week1870</th>\n",
       "      <th>week1871</th>\n",
       "      <th>week1872</th>\n",
       "      <th>week1873</th>\n",
       "      <th>week1874</th>\n",
       "      <th>week1875</th>\n",
       "      <th>week1876</th>\n",
       "      <th>week1877</th>\n",
       "      <th>week1878</th>\n",
       "      <th>week1879</th>\n",
       "    </tr>\n",
       "  </thead>\n",
       "  <tbody>\n",
       "    <tr>\n",
       "      <th>0</th>\n",
       "      <td>2</td>\n",
       "      <td>1993</td>\n",
       "      <td>4</td>\n",
       "      <td>4</td>\n",
       "      <td>4</td>\n",
       "      <td>4</td>\n",
       "      <td>4</td>\n",
       "      <td>4</td>\n",
       "      <td>4</td>\n",
       "      <td>4</td>\n",
       "      <td>...</td>\n",
       "      <td>1</td>\n",
       "      <td>1</td>\n",
       "      <td>1</td>\n",
       "      <td>1</td>\n",
       "      <td>1</td>\n",
       "      <td>1</td>\n",
       "      <td>1</td>\n",
       "      <td>1</td>\n",
       "      <td>1</td>\n",
       "      <td>1</td>\n",
       "    </tr>\n",
       "    <tr>\n",
       "      <th>1</th>\n",
       "      <td>3</td>\n",
       "      <td>1981</td>\n",
       "      <td>7</td>\n",
       "      <td>4</td>\n",
       "      <td>4</td>\n",
       "      <td>4</td>\n",
       "      <td>4</td>\n",
       "      <td>1</td>\n",
       "      <td>1</td>\n",
       "      <td>1</td>\n",
       "      <td>...</td>\n",
       "      <td>1</td>\n",
       "      <td>1</td>\n",
       "      <td>1</td>\n",
       "      <td>1</td>\n",
       "      <td>1</td>\n",
       "      <td>1</td>\n",
       "      <td>1</td>\n",
       "      <td>1</td>\n",
       "      <td>1</td>\n",
       "      <td>1</td>\n",
       "    </tr>\n",
       "    <tr>\n",
       "      <th>2</th>\n",
       "      <td>4</td>\n",
       "      <td>1980</td>\n",
       "      <td>9</td>\n",
       "      <td>4</td>\n",
       "      <td>4</td>\n",
       "      <td>4</td>\n",
       "      <td>4</td>\n",
       "      <td>4</td>\n",
       "      <td>4</td>\n",
       "      <td>4</td>\n",
       "      <td>...</td>\n",
       "      <td>0</td>\n",
       "      <td>0</td>\n",
       "      <td>0</td>\n",
       "      <td>0</td>\n",
       "      <td>0</td>\n",
       "      <td>0</td>\n",
       "      <td>0</td>\n",
       "      <td>0</td>\n",
       "      <td>0</td>\n",
       "      <td>0</td>\n",
       "    </tr>\n",
       "    <tr>\n",
       "      <th>3</th>\n",
       "      <td>8</td>\n",
       "      <td>1976</td>\n",
       "      <td>4</td>\n",
       "      <td>4</td>\n",
       "      <td>4</td>\n",
       "      <td>4</td>\n",
       "      <td>4</td>\n",
       "      <td>4</td>\n",
       "      <td>4</td>\n",
       "      <td>4</td>\n",
       "      <td>...</td>\n",
       "      <td>1</td>\n",
       "      <td>1</td>\n",
       "      <td>1</td>\n",
       "      <td>1</td>\n",
       "      <td>1</td>\n",
       "      <td>1</td>\n",
       "      <td>1</td>\n",
       "      <td>1</td>\n",
       "      <td>1</td>\n",
       "      <td>1</td>\n",
       "    </tr>\n",
       "    <tr>\n",
       "      <th>4</th>\n",
       "      <td>16</td>\n",
       "      <td>1990</td>\n",
       "      <td>3</td>\n",
       "      <td>1</td>\n",
       "      <td>1</td>\n",
       "      <td>1</td>\n",
       "      <td>1</td>\n",
       "      <td>1</td>\n",
       "      <td>1</td>\n",
       "      <td>1</td>\n",
       "      <td>...</td>\n",
       "      <td>1</td>\n",
       "      <td>1</td>\n",
       "      <td>1</td>\n",
       "      <td>1</td>\n",
       "      <td>1</td>\n",
       "      <td>1</td>\n",
       "      <td>1</td>\n",
       "      <td>1</td>\n",
       "      <td>1</td>\n",
       "      <td>1</td>\n",
       "    </tr>\n",
       "  </tbody>\n",
       "</table>\n",
       "<p>5 rows × 1882 columns</p>\n",
       "</div>"
      ],
      "text/plain": [
       "   id  start_y  start_m  week1  week2  week3  week4  week5  week6  week7  \\\n",
       "0   2     1993        4      4      4      4      4      4      4      4   \n",
       "1   3     1981        7      4      4      4      4      1      1      1   \n",
       "2   4     1980        9      4      4      4      4      4      4      4   \n",
       "3   8     1976        4      4      4      4      4      4      4      4   \n",
       "4  16     1990        3      1      1      1      1      1      1      1   \n",
       "\n",
       "     ...     week1870  week1871  week1872  week1873  week1874  week1875  \\\n",
       "0    ...            1         1         1         1         1         1   \n",
       "1    ...            1         1         1         1         1         1   \n",
       "2    ...            0         0         0         0         0         0   \n",
       "3    ...            1         1         1         1         1         1   \n",
       "4    ...            1         1         1         1         1         1   \n",
       "\n",
       "   week1876  week1877  week1878  week1879  \n",
       "0         1         1         1         1  \n",
       "1         1         1         1         1  \n",
       "2         0         0         0         0  \n",
       "3         1         1         1         1  \n",
       "4         1         1         1         1  \n",
       "\n",
       "[5 rows x 1882 columns]"
      ]
     },
     "execution_count": 7,
     "metadata": {},
     "output_type": "execute_result"
    }
   ],
   "source": [
    "full_df = pd.read_csv('../data/full_wk_df.csv')\n",
    "print full_df.shape\n",
    "full_df.head()"
   ]
  },
  {
   "cell_type": "code",
   "execution_count": 8,
   "metadata": {
    "collapsed": false
   },
   "outputs": [
    {
     "name": "stdout",
     "output_type": "stream",
     "text": [
      "(12686, 3969)\n",
      "Index([u'caseid_1979', u'hrs_worked_wk_num0000_xrnd',\n",
      "       u'hrs_worked_wk_num0001_xrnd', u'hrs_worked_wk_num0002_xrnd',\n",
      "       u'hrs_worked_wk_num0003_xrnd', u'hrs_worked_wk_num0004_xrnd',\n",
      "       u'hrs_worked_wk_num0005_xrnd', u'hrs_worked_wk_num0006_xrnd',\n",
      "       u'hrs_worked_wk_num0007_xrnd', u'hrs_worked_wk_num0008_xrnd',\n",
      "       u'hrs_worked_wk_num0009_xrnd', u'hrs_worked_wk_num0010_xrnd',\n",
      "       u'hrs_worked_wk_num0011_xrnd', u'hrs_worked_wk_num0012_xrnd',\n",
      "       u'hrs_worked_wk_num0013_xrnd', u'hrs_worked_wk_num0014_xrnd',\n",
      "       u'hrs_worked_wk_num0015_xrnd', u'hrs_worked_wk_num0016_xrnd',\n",
      "       u'hrs_worked_wk_num0017_xrnd', u'hrs_worked_wk_num0018_xrnd'],\n",
      "      dtype='object')\n"
     ]
    }
   ],
   "source": [
    "#read weekly array data\n",
    "wkarray_df = pd.read_csv('../data/weeklyarrays.csv')\n",
    "print wkarray_df.shape\n",
    "print wkarray_df.columns[:20]"
   ]
  },
  {
   "cell_type": "markdown",
   "metadata": {},
   "source": [
    "# Construct one-year-prebirth monthly sequences"
   ]
  },
  {
   "cell_type": "code",
   "execution_count": 9,
   "metadata": {
    "collapsed": false
   },
   "outputs": [
    {
     "name": "stdout",
     "output_type": "stream",
     "text": [
      "[1]\n",
      "[1, 2]\n"
     ]
    }
   ],
   "source": [
    "def find_modal(l):\n",
    "    \"\"\"\n",
    "    Given a list l, return the most common element in the list. \n",
    "    if there is a tie, return all elements.\n",
    "    \"\"\"\n",
    "    \n",
    "    #first, count frequency of each unique item in the list\n",
    "    counter = defaultdict(int)\n",
    "    for item in l:\n",
    "        counter[item] += 1\n",
    "\n",
    "    #rank items from most frequent to least frequent\n",
    "    popular_items = sorted(counter, key=counter.get, reverse = True)\n",
    "    \n",
    "    most_common = [popular_items[0]]\n",
    "    \n",
    "    for other in popular_items[1:]:\n",
    "        if counter[other] < counter[most_common[0]]:\n",
    "            break\n",
    "        elif counter[other] == counter[most_common[0]]: #find an equally frequent item\n",
    "            most_common.append(other)\n",
    "        else:\n",
    "            print 'impossible'\n",
    "\n",
    "    return most_common\n",
    "\n",
    "#for example\n",
    "print find_modal([1, 1, 2, 1, 5])\n",
    "print find_modal([1, 1, 2, 1, 5, 2, 2, 33])"
   ]
  },
  {
   "cell_type": "code",
   "execution_count": 10,
   "metadata": {
    "collapsed": false
   },
   "outputs": [
    {
     "name": "stdout",
     "output_type": "stream",
     "text": [
      "0 100 200 300 400 500 600 700 800 900 1000 1100 1200 1300 1400 1500 1600 1700 1800 1900 2000 2100 2200 2300 2400 2500 2600 2700 2800 2900 3000 3100 3200 3300 3400\n"
     ]
    }
   ],
   "source": [
    "random.seed(7222014)\n",
    "\n",
    "res_data = defaultdict(list) #create an empty dictionary to store data\n",
    "count_ties = [] #how many we get ties of modal\n",
    "\n",
    "for i, row in full_df.iterrows():\n",
    "    \n",
    "    # keep track of progress\n",
    "    if i%100 == 0:\n",
    "        print i,\n",
    "    \n",
    "    # keep basic info: id, sequence start year and month\n",
    "    res_data['id'].append(row['id'])\n",
    "    \n",
    "    y = row['start_y']\n",
    "    m = row['start_m']\n",
    "    \n",
    "    # look at weekly statuses    \n",
    "    for j in range(-1, -13, -1): # from month -12 to month -1\n",
    "\n",
    "        #first, move to previous month (we are starting y, m from post-birth)\n",
    "        if m == 1:\n",
    "            m = 12\n",
    "            y -= 1\n",
    "        else:\n",
    "            m -= 1\n",
    "        \n",
    "        \n",
    "        ### modification: prior to 1978 ###\n",
    "        if y < 1978: \n",
    "            hrs_pre1978 = wkarray_df[wkarray_df.caseid_1979==row['id']].iloc[0]['hrs_worked_wk_num0000_xrnd']\n",
    "            \n",
    "            if hrs_pre1978 == 0: # never worked before 1978\n",
    "                res_data['month%s'%j].append(4) # assign 4 - nonemployed\n",
    "            else:\n",
    "                res_data['month%s'%j].append(0) # otherwise, assign missing\n",
    "        \n",
    "        else: \n",
    "            start = get_week_num(y, m, 'first')\n",
    "            end = get_week_num(y, m, 'last')\n",
    "            wk_statuses = [row['week%i'%k] for k in range(start, end+1)]\n",
    "            \n",
    "            #### replace status 99 (working, w/ hour 0) as status 3 (part-time) #### \n",
    "            wk_statuses = [v if v != 99 else 3 for v in wk_statuses]\n",
    "            ##########################################################\n",
    "\n",
    "            #find unique items in the given month \n",
    "            distinct = list(set(wk_statuses))\n",
    "            distinct.sort()\n",
    "\n",
    "            if len(distinct) == 1:\n",
    "                res_data['month%s'%j].append(distinct[0])\n",
    "\n",
    "            elif len(distinct) >= 2:\n",
    "                modal = find_modal(wk_statuses)\n",
    "                if len(modal) == 1:\n",
    "                    res_data['month%s'%j].append(modal[0])\n",
    "                else:\n",
    "                    res_data['month%s'%j].append(random.choice(modal))\n",
    "                    count_ties.append(row['id'])\n",
    "\n",
    "\n",
    "cols = ['id'] + ['month%s'%i for i in range(-12, 0)]\n",
    "res_df = pd.DataFrame(res_data, columns=cols) #restricted dataframe"
   ]
  },
  {
   "cell_type": "code",
   "execution_count": 11,
   "metadata": {
    "collapsed": false
   },
   "outputs": [
    {
     "data": {
      "text/html": [
       "<div>\n",
       "<table border=\"1\" class=\"dataframe\">\n",
       "  <thead>\n",
       "    <tr style=\"text-align: right;\">\n",
       "      <th></th>\n",
       "      <th>id</th>\n",
       "      <th>month-12</th>\n",
       "      <th>month-11</th>\n",
       "      <th>month-10</th>\n",
       "      <th>month-9</th>\n",
       "      <th>month-8</th>\n",
       "      <th>month-7</th>\n",
       "      <th>month-6</th>\n",
       "      <th>month-5</th>\n",
       "      <th>month-4</th>\n",
       "      <th>month-3</th>\n",
       "      <th>month-2</th>\n",
       "      <th>month-1</th>\n",
       "    </tr>\n",
       "  </thead>\n",
       "  <tbody>\n",
       "    <tr>\n",
       "      <th>0</th>\n",
       "      <td>2</td>\n",
       "      <td>1</td>\n",
       "      <td>1</td>\n",
       "      <td>1</td>\n",
       "      <td>1</td>\n",
       "      <td>1</td>\n",
       "      <td>1</td>\n",
       "      <td>1</td>\n",
       "      <td>1</td>\n",
       "      <td>1</td>\n",
       "      <td>4</td>\n",
       "      <td>4</td>\n",
       "      <td>5</td>\n",
       "    </tr>\n",
       "    <tr>\n",
       "      <th>1</th>\n",
       "      <td>3</td>\n",
       "      <td>1</td>\n",
       "      <td>1</td>\n",
       "      <td>1</td>\n",
       "      <td>1</td>\n",
       "      <td>1</td>\n",
       "      <td>1</td>\n",
       "      <td>1</td>\n",
       "      <td>1</td>\n",
       "      <td>1</td>\n",
       "      <td>1</td>\n",
       "      <td>4</td>\n",
       "      <td>4</td>\n",
       "    </tr>\n",
       "    <tr>\n",
       "      <th>2</th>\n",
       "      <td>4</td>\n",
       "      <td>4</td>\n",
       "      <td>4</td>\n",
       "      <td>4</td>\n",
       "      <td>4</td>\n",
       "      <td>4</td>\n",
       "      <td>4</td>\n",
       "      <td>4</td>\n",
       "      <td>4</td>\n",
       "      <td>4</td>\n",
       "      <td>4</td>\n",
       "      <td>4</td>\n",
       "      <td>4</td>\n",
       "    </tr>\n",
       "    <tr>\n",
       "      <th>3</th>\n",
       "      <td>8</td>\n",
       "      <td>4</td>\n",
       "      <td>4</td>\n",
       "      <td>4</td>\n",
       "      <td>4</td>\n",
       "      <td>4</td>\n",
       "      <td>4</td>\n",
       "      <td>4</td>\n",
       "      <td>4</td>\n",
       "      <td>4</td>\n",
       "      <td>4</td>\n",
       "      <td>4</td>\n",
       "      <td>4</td>\n",
       "    </tr>\n",
       "    <tr>\n",
       "      <th>4</th>\n",
       "      <td>16</td>\n",
       "      <td>1</td>\n",
       "      <td>1</td>\n",
       "      <td>1</td>\n",
       "      <td>1</td>\n",
       "      <td>1</td>\n",
       "      <td>1</td>\n",
       "      <td>1</td>\n",
       "      <td>1</td>\n",
       "      <td>1</td>\n",
       "      <td>1</td>\n",
       "      <td>1</td>\n",
       "      <td>1</td>\n",
       "    </tr>\n",
       "  </tbody>\n",
       "</table>\n",
       "</div>"
      ],
      "text/plain": [
       "   id  month-12  month-11  month-10  month-9  month-8  month-7  month-6  \\\n",
       "0   2         1         1         1        1        1        1        1   \n",
       "1   3         1         1         1        1        1        1        1   \n",
       "2   4         4         4         4        4        4        4        4   \n",
       "3   8         4         4         4        4        4        4        4   \n",
       "4  16         1         1         1        1        1        1        1   \n",
       "\n",
       "   month-5  month-4  month-3  month-2  month-1  \n",
       "0        1        1        4        4        5  \n",
       "1        1        1        1        4        4  \n",
       "2        4        4        4        4        4  \n",
       "3        4        4        4        4        4  \n",
       "4        1        1        1        1        1  "
      ]
     },
     "execution_count": 11,
     "metadata": {},
     "output_type": "execute_result"
    }
   ],
   "source": [
    "res_df.head()"
   ]
  },
  {
   "cell_type": "code",
   "execution_count": 12,
   "metadata": {
    "collapsed": false
   },
   "outputs": [],
   "source": [
    "res_df.to_csv(\"../data/monthly_df_prebirth.csv\", index=False)"
   ]
  },
  {
   "cell_type": "code",
   "execution_count": null,
   "metadata": {
    "collapsed": false
   },
   "outputs": [],
   "source": []
  }
 ],
 "metadata": {
  "kernelspec": {
   "display_name": "Python 2",
   "language": "python",
   "name": "python2"
  },
  "language_info": {
   "codemirror_mode": {
    "name": "ipython",
    "version": 2
   },
   "file_extension": ".py",
   "mimetype": "text/x-python",
   "name": "python",
   "nbconvert_exporter": "python",
   "pygments_lexer": "ipython2",
   "version": "2.7.12"
  }
 },
 "nbformat": 4,
 "nbformat_minor": 0
}
