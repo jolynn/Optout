{
 "metadata": {
  "name": "",
  "signature": "sha256:6f1c914bdef81a61a9204967f060e028c8e33a2b0a7c88a1c22ccdb3409d9cc2"
 },
 "nbformat": 3,
 "nbformat_minor": 0,
 "worksheets": [
  {
   "cells": [
    {
     "cell_type": "markdown",
     "metadata": {},
     "source": [
      "#OptOut Project: Sequence Construction\n",
      "\n",
      "* Construct monthly sequences\n",
      "* Include the newest available data (Wave 2012)"
     ]
    },
    {
     "cell_type": "code",
     "collapsed": false,
     "input": [
      "#setup\n",
      "%matplotlib inline\n",
      "import numpy as np\n",
      "import matplotlib.pyplot as plt\n",
      "import pandas as pd\n",
      "import time\n",
      "import random\n",
      "from collections import defaultdict"
     ],
     "language": "python",
     "metadata": {},
     "outputs": [],
     "prompt_number": 1
    },
    {
     "cell_type": "markdown",
     "metadata": {},
     "source": [
      "###Week-to-week crosswalk\n",
      "\n",
      "Create two functions to convert between week number and calendar year and month"
     ]
    },
    {
     "cell_type": "code",
     "collapsed": false,
     "input": [
      "#this is the file to switch between week number in NLSY79 and calendar year, month, and day\n",
      "xl_file = pd.ExcelFile('input_data/continuous_week_crosswalk_2012.xlsx') \n",
      "\n",
      "weekdf = xl_file.parse('weekdates1')\n",
      "weekdf.head()"
     ],
     "language": "python",
     "metadata": {},
     "outputs": [
      {
       "html": [
        "<div style=\"max-height:1000px;max-width:1500px;overflow:auto;\">\n",
        "<table border=\"1\" class=\"dataframe\">\n",
        "  <thead>\n",
        "    <tr style=\"text-align: right;\">\n",
        "      <th></th>\n",
        "      <th>Week Start:\n",
        "Month</th>\n",
        "      <th>Week Start: \n",
        "Day</th>\n",
        "      <th>Week Start: \n",
        "Year</th>\n",
        "      <th>Calendar Year \n",
        "Week Number </th>\n",
        "      <th>Continuous \n",
        "Week Number</th>\n",
        "    </tr>\n",
        "  </thead>\n",
        "  <tbody>\n",
        "    <tr>\n",
        "      <th>0</th>\n",
        "      <td> 1</td>\n",
        "      <td>  1</td>\n",
        "      <td> 1978</td>\n",
        "      <td> 1</td>\n",
        "      <td> 1</td>\n",
        "    </tr>\n",
        "    <tr>\n",
        "      <th>1</th>\n",
        "      <td> 1</td>\n",
        "      <td>  8</td>\n",
        "      <td> 1978</td>\n",
        "      <td> 2</td>\n",
        "      <td> 2</td>\n",
        "    </tr>\n",
        "    <tr>\n",
        "      <th>2</th>\n",
        "      <td> 1</td>\n",
        "      <td> 15</td>\n",
        "      <td> 1978</td>\n",
        "      <td> 3</td>\n",
        "      <td> 3</td>\n",
        "    </tr>\n",
        "    <tr>\n",
        "      <th>3</th>\n",
        "      <td> 1</td>\n",
        "      <td> 22</td>\n",
        "      <td> 1978</td>\n",
        "      <td> 4</td>\n",
        "      <td> 4</td>\n",
        "    </tr>\n",
        "    <tr>\n",
        "      <th>4</th>\n",
        "      <td> 1</td>\n",
        "      <td> 29</td>\n",
        "      <td> 1978</td>\n",
        "      <td> 5</td>\n",
        "      <td> 5</td>\n",
        "    </tr>\n",
        "  </tbody>\n",
        "</table>\n",
        "</div>"
       ],
       "metadata": {},
       "output_type": "pyout",
       "prompt_number": 2,
       "text": [
        "   Week Start:\\nMonth  Week Start: \\nDay  Week Start: \\nYear  \\\n",
        "0                   1                  1                1978   \n",
        "1                   1                  8                1978   \n",
        "2                   1                 15                1978   \n",
        "3                   1                 22                1978   \n",
        "4                   1                 29                1978   \n",
        "\n",
        "   Calendar Year \\nWeek Number   Continuous \\nWeek Number  \n",
        "0                             1                         1  \n",
        "1                             2                         2  \n",
        "2                             3                         3  \n",
        "3                             4                         4  \n",
        "4                             5                         5  "
       ]
      }
     ],
     "prompt_number": 2
    },
    {
     "cell_type": "code",
     "collapsed": false,
     "input": [
      "#column names\n",
      "weekdf.columns"
     ],
     "language": "python",
     "metadata": {},
     "outputs": [
      {
       "metadata": {},
       "output_type": "pyout",
       "prompt_number": 3,
       "text": [
        "Index([u'Week Start:\\nMonth', u'Week Start: \\nDay', u'Week Start: \\nYear', u'Calendar Year \\nWeek Number ', u'Continuous \\nWeek Number'], dtype='object')"
       ]
      }
     ],
     "prompt_number": 3
    },
    {
     "cell_type": "code",
     "collapsed": false,
     "input": [
      "#confirm the continuous week number equal the number of rows\n",
      "print max(weekdf['Continuous \\nWeek Number'].values), weekdf.shape[0]"
     ],
     "language": "python",
     "metadata": {},
     "outputs": [
      {
       "output_type": "stream",
       "stream": "stdout",
       "text": [
        "1879 1879\n"
       ]
      }
     ],
     "prompt_number": 4
    },
    {
     "cell_type": "code",
     "collapsed": false,
     "input": [
      "def get_week_num(year, month, which, df=weekdf):\n",
      "    \"\"\"\n",
      "    Given a calendar year and month, return the corresponding week number in NLSY79.\n",
      "    \n",
      "    If which=='first', return the first week in that month.\n",
      "    If which=='last', return the last week in that month. \n",
      "    \"\"\"\n",
      "    \n",
      "    the_month = weekdf[(weekdf['Week Start:\\nMonth']==month)&(weekdf['Week Start: \\nYear']==year)]\n",
      "    \n",
      "    if which == 'first':\n",
      "        return int(the_month.iloc[0]['Continuous \\nWeek Number'])\n",
      "    elif which == 'last':\n",
      "        return int(the_month.iloc[len(the_month)-1]['Continuous \\nWeek Number'])"
     ],
     "language": "python",
     "metadata": {},
     "outputs": [],
     "prompt_number": 5
    },
    {
     "cell_type": "code",
     "collapsed": false,
     "input": [
      "def get_year_month(weeknum, df=weekdf):\n",
      "    \"\"\"\n",
      "    Given a week number, return the corresponding calendar month and year (yyyy, m).\n",
      "    \"\"\"\n",
      "    \n",
      "    the_week = weekdf[weekdf['Continuous \\nWeek Number']==weeknum]\n",
      "    return int(the_week.iloc[0]['Week Start: \\nYear']), int(the_week.iloc[0]['Week Start:\\nMonth'])"
     ],
     "language": "python",
     "metadata": {},
     "outputs": [],
     "prompt_number": 6
    },
    {
     "cell_type": "markdown",
     "metadata": {},
     "source": [
      "###Retrieve analytic sample"
     ]
    },
    {
     "cell_type": "code",
     "collapsed": false,
     "input": [
      "analytic_df = pd.read_csv('output_data/analytic_df.csv') #includes fertility data\n",
      "sample = analytic_df.caseid_1979.values.tolist() #save respondnet Ids into a list\n",
      "print len(sample)"
     ],
     "language": "python",
     "metadata": {},
     "outputs": [
      {
       "output_type": "stream",
       "stream": "stdout",
       "text": [
        "2458\n"
       ]
      }
     ],
     "prompt_number": 7
    },
    {
     "cell_type": "markdown",
     "metadata": {},
     "source": [
      "###Read weekly arrays and within-job gap dates"
     ]
    },
    {
     "cell_type": "code",
     "collapsed": false,
     "input": [
      "#read weekly array data\n",
      "wkarray_df = pd.read_csv('input_data/weeklyarrays.csv')\n",
      "print wkarray_df.shape\n",
      "print wkarray_df.columns[:20]"
     ],
     "language": "python",
     "metadata": {},
     "outputs": [
      {
       "output_type": "stream",
       "stream": "stdout",
       "text": [
        "(12686, 3763)\n",
        "Index([u'caseid_1979', u'sample_race_1979', u'sample_sex_1979', u'hrs_worked_wk_num0000_xrnd', u'hrs_worked_wk_num0001_xrnd', u'hrs_worked_wk_num0002_xrnd', u'hrs_worked_wk_num0003_xrnd', u'hrs_worked_wk_num0004_xrnd', u'hrs_worked_wk_num0005_xrnd', u'hrs_worked_wk_num0006_xrnd', u'hrs_worked_wk_num0007_xrnd', u'hrs_worked_wk_num0008_xrnd', u'hrs_worked_wk_num0009_xrnd', u'hrs_worked_wk_num0010_xrnd', u'hrs_worked_wk_num0011_xrnd', u'hrs_worked_wk_num0012_xrnd', u'hrs_worked_wk_num0013_xrnd', u'hrs_worked_wk_num0014_xrnd', u'hrs_worked_wk_num0015_xrnd', u'hrs_worked_wk_num0016_xrnd'], dtype='object')\n"
       ]
      }
     ],
     "prompt_number": 8
    },
    {
     "cell_type": "code",
     "collapsed": false,
     "input": [
      "#read within-job-gap data\n",
      "gap_df = pd.read_csv(\"input_data/withingaps.csv\")\n",
      "print gap_df.shape\n",
      "print gap_df.columns[:20]"
     ],
     "language": "python",
     "metadata": {},
     "outputs": [
      {
       "output_type": "stream",
       "stream": "stdout",
       "text": [
        "(12686, 807)\n",
        "Index([u'caseid_1979', u'per1_start_1979_job01_xrnd', u'per1_start_1979_job02_xrnd', u'per1_start_1979_job03_xrnd', u'per1_start_1979_job04_xrnd', u'per1_start_1979_job05_xrnd', u'per1_stop_1979_job01_xrnd', u'per1_stop_1979_job02_xrnd', u'per1_stop_1979_job03_xrnd', u'per1_stop_1979_job04_xrnd', u'per1_stop_1979_job05_xrnd', u'per2_start_1979_job01_xrnd', u'per2_start_1979_job02_xrnd', u'per2_start_1979_job03_xrnd', u'per2_start_1979_job04_xrnd', u'per2_start_1979_job05_xrnd', u'per2_stop_1979_job01_xrnd', u'per2_stop_1979_job02_xrnd', u'per2_stop_1979_job03_xrnd', u'per2_stop_1979_job04_xrnd'], dtype='object')\n"
       ]
      }
     ],
     "prompt_number": 9
    },
    {
     "cell_type": "markdown",
     "metadata": {},
     "source": [
      "###Identify maternity leaves\n",
      "\n",
      "Maternity leave could cover the birth, start after the birth, or end before the birth. \n",
      "\n",
      "First, let's assume any within-job gap that start or end within 4 months (16 weeks) of birth as maternity leave. Record the types of maternity leave: \n",
      "\n",
      "* 100 - gap covered birth, \n",
      "* (100+n) - gap started within n weeks after birth, \n",
      "* (100-n) - gap ended within n weeks before birth. "
     ]
    },
    {
     "cell_type": "code",
     "collapsed": false,
     "input": [
      "#find the possible range of period numbers and job numbers in the column names\n",
      "import re\n",
      "per_num = set([])\n",
      "job_num = set([])\n",
      "\n",
      "for col in gap_df.columns[1:]:\n",
      "    per_num.add(re.search(r'per\\d*', col).group(0)[3:])\n",
      "    job_num.add(re.search(r'job\\d*', col).group(0)[3:])\n",
      "    \n",
      "print per_num\n",
      "print job_num"
     ],
     "language": "python",
     "metadata": {},
     "outputs": [
      {
       "output_type": "stream",
       "stream": "stdout",
       "text": [
        "set(['1', '3', '2', '4'])\n",
        "set(['02', '03', '01', '04', '05'])\n"
       ]
      }
     ],
     "prompt_number": 10
    },
    {
     "cell_type": "code",
     "collapsed": false,
     "input": [
      "def find_maternal_leave(Id):\n",
      "    \"\"\"\n",
      "    Given respondent id, return a dictionary in which the key is the week number \n",
      "    and the value is the type of maternity leave.\n",
      "    \"\"\"\n",
      "    \n",
      "    leaves = {}\n",
      "    \n",
      "    gap_row = gap_df[gap_df.caseid_1979==Id].iloc[0]\n",
      "    gaps = []\n",
      "    \n",
      "    #look for within-job gaps in all years. sometimes the gaps were recorded in later years\n",
      "    for y in range(1979, 1995)+range(1996, 2013, 2): \n",
      "        for j in range(1, 5): #4 possible gap periods\n",
      "            for k in range(1, 6): #5 possible jobs\n",
      "                try: \n",
      "                    gap_start = gap_row['per%s_start_%s_job0%s_xrnd'%(j, y, k)]\n",
      "                    gap_stop = gap_row['per%s_stop_%s_job0%s_xrnd'%(j, y, k)]\n",
      "                    \n",
      "                    if gap_start!= -4 and gap_stop!=-4:\n",
      "                        gaps.append((gap_start, gap_stop))\n",
      "                    elif gap_start!= -4 or gap_stop != -4:\n",
      "                        print row['id'], y, j, k, 'missing data'\n",
      "                except KeyError:\n",
      "                    pass\n",
      "    \n",
      "    #get the row of birth date data\n",
      "    #HERE I DID NOT ASSUME THAT THE BIRTH TOOK PLACE IN THE LAST WEEK OF THE MONTH\n",
      "    dob_row = analytic_df[analytic_df.caseid_1979==Id].iloc[0]\n",
      "    \n",
      "    # all births\n",
      "    for j in range(1, 12):\n",
      "        dob_y = dob_row['c%idob_y_xrnd'%j]\n",
      "        dob_m = dob_row['c%idob_m_xrnd'%j]\n",
      "        \n",
      "        if dob_y>0 and dob_m>0: \n",
      "            for (gap_start, gap_stop) in gaps:\n",
      "                birth_wks = range(get_week_num(dob_y, dob_m, 'first'), get_week_num(dob_y, dob_m, 'last')+1)\n",
      "                gap_wks = range(gap_start, gap_stop+1)\n",
      "                res = None\n",
      "                \n",
      "                if set(birth_wks)&set(gap_wks): #the gap took place in the month of the birth\n",
      "                    res = 100\n",
      "            \n",
      "                elif gap_start>birth_wks[-1] and gap_start-birth_wks[-1]<=16: #gap started within 16 weeks after birth\n",
      "                    res = 100+(gap_start-birth_wks[-1])\n",
      "                    \n",
      "                elif gap_stop<birth_wks[0] and birth_wks[0]-gap_stop<=16: #gap finished within 16 weeks before birth\n",
      "                    res = 100-(birth_wks[0]-gap_stop)                    \n",
      "                    \n",
      "                \n",
      "                if res != None: #only record maternity leave week\n",
      "                    for k in range(gap_start, gap_stop+1):\n",
      "                        leaves[k] = res                    \n",
      "    \n",
      "    return leaves"
     ],
     "language": "python",
     "metadata": {},
     "outputs": [],
     "prompt_number": 11
    },
    {
     "cell_type": "code",
     "collapsed": false,
     "input": [
      "#for example\n",
      "l = find_maternal_leave(160)\n",
      "print l"
     ],
     "language": "python",
     "metadata": {},
     "outputs": [
      {
       "output_type": "stream",
       "stream": "stdout",
       "text": [
        "{689: 110, 690: 110, 691: 110, 692: 110, 693: 110, 694: 110, 695: 110, 696: 110, 697: 110, 698: 110, 699: 110, 700: 110}\n"
       ]
      }
     ],
     "prompt_number": 12
    },
    {
     "cell_type": "code",
     "collapsed": false,
     "input": [
      "#count number of weeks for each type of maternity leaves\n",
      "count_wks = defaultdict(int)\n",
      "\n",
      "#iterate through the sample\n",
      "for i in sample:\n",
      "    leaves = find_maternal_leave(i)\n",
      "    for v in leaves.values():\n",
      "        count_wks[v] += 1\n",
      "        \n",
      "for (k, v) in count_wks.items():\n",
      "    print k, v"
     ],
     "language": "python",
     "metadata": {},
     "outputs": [
      {
       "output_type": "stream",
       "stream": "stdout",
       "text": [
        "84 81\n",
        "85 22\n",
        "86 57\n",
        "87 122\n",
        "88 162\n",
        "89 34\n",
        "90 30\n",
        "91 105\n",
        "92 37\n",
        "93 104\n",
        "94 47\n",
        "95 74\n",
        "96 24\n",
        "97 89\n",
        "98 16\n",
        "99 86\n",
        "100 23112\n",
        "101 170\n",
        "102 248\n",
        "103 216\n",
        "104 404\n",
        "105 192\n",
        "106 158\n",
        "107 119\n",
        "108 206\n",
        "109 249\n",
        "110 94\n",
        "111 91\n",
        "112 90\n",
        "113 134\n",
        "114 36\n",
        "115 214\n",
        "116 63\n"
       ]
      }
     ],
     "prompt_number": 13
    },
    {
     "cell_type": "code",
     "collapsed": false,
     "input": [
      "#count number of respondents of each type of maternity leaves\n",
      "count_indiv = defaultdict(int)\n",
      "\n",
      "for i in sample:\n",
      "    leaves = find_maternal_leave(i)\n",
      "    if len(leaves) > 0:\n",
      "        for v in list(set(leaves.values())): #a respondent may have more than one type of maternity leave\n",
      "            count_indiv[v] += 1 \n",
      "        \n",
      "for (k, v) in count_indiv.items():\n",
      "    print k, v"
     ],
     "language": "python",
     "metadata": {},
     "outputs": [
      {
       "output_type": "stream",
       "stream": "stdout",
       "text": [
        "84 17\n",
        "85 7\n",
        "86 11\n",
        "87 12\n",
        "88 18\n",
        "89 7\n",
        "90 6\n",
        "91 15\n",
        "92 10\n",
        "93 11\n",
        "94 8\n",
        "95 10\n",
        "96 7\n",
        "97 13\n",
        "98 4\n",
        "99 12\n",
        "100 857\n",
        "101 20\n",
        "102 32\n",
        "103 24\n",
        "104 30\n",
        "105 28\n",
        "106 15\n",
        "107 16\n",
        "108 11\n",
        "109 21\n",
        "110 10\n",
        "111 9\n",
        "112 10\n",
        "113 12\n",
        "114 5\n",
        "115 18\n",
        "116 7\n"
       ]
      }
     ],
     "prompt_number": 15
    },
    {
     "cell_type": "markdown",
     "metadata": {},
     "source": [
      "There are relatively fewer maternity gaps that finished within 16 weeks before birth, so do not consider within-job gaps that ended within 16 weeks before birth as maternity leave."
     ]
    },
    {
     "cell_type": "code",
     "collapsed": false,
     "input": [
      "#modify the function to exclude within-job gaps that ended within 16 weeks before the birth.\n",
      "\n",
      "def find_maternal_leave_no_before(Id):\n",
      "    \"\"\"Given a respondent id, return a list all weeks identified as maternal leaves.\"\"\"\n",
      "    \n",
      "    leaves = []\n",
      "    \n",
      "    gap_row = gap_df[gap_df.caseid_1979==Id].iloc[0]\n",
      "    gaps = []\n",
      "    \n",
      "    #look for within-job gaps in all years. sometimes the gaps were recorded in later years\n",
      "    for y in range(1979, 1995)+range(1996, 2013, 2): \n",
      "        for j in range(1, 5): #4 possible gap periods\n",
      "            for k in range(1, 6): #5 possible jobs\n",
      "                try: \n",
      "                    gap_start = gap_row['per%s_start_%s_job0%s_xrnd'%(j, y, k)]\n",
      "                    gap_stop = gap_row['per%s_stop_%s_job0%s_xrnd'%(j, y, k)]\n",
      "                    \n",
      "                    if gap_start!= -4 and gap_stop!=-4:\n",
      "                        gaps.append((gap_start, gap_stop))\n",
      "                    elif gap_start!= -4 or gap_stop != -4:\n",
      "                        print row['id'], y, j, k, 'missing data'\n",
      "                except KeyError:\n",
      "                    pass\n",
      "    \n",
      "    dob_row = analytic_df[analytic_df.caseid_1979==Id].iloc[0]\n",
      "    \n",
      "    for j in range(1, 12): # all births\n",
      "        dob_y = dob_row['c%idob_y_xrnd'%j]\n",
      "        dob_m = dob_row['c%idob_m_xrnd'%j]\n",
      "        \n",
      "        if dob_y>0 and dob_m>0:\n",
      "            for (gap_start, gap_stop) in gaps:\n",
      "                birth_wks = range(get_week_num(dob_y, dob_m, 'first'), get_week_num(dob_y, dob_m, 'last')+1)\n",
      "                gap_wks = range(gap_start, gap_stop+1)\n",
      "                res = None\n",
      "                \n",
      "                if set(birth_wks)&set(gap_wks): #the gap took place in the month of the birth\n",
      "                    res = 100\n",
      "            \n",
      "                elif gap_start>birth_wks[-1] and gap_start-birth_wks[-1]<=16: #gap started within 16 weeks after birth\n",
      "                    res = 100+(gap_start-birth_wks[-1])\n",
      "                                        \n",
      "                if res != None:\n",
      "                    for k in range(gap_start, gap_stop+1):\n",
      "                        leaves.append(k)\n",
      "    \n",
      "    return leaves"
     ],
     "language": "python",
     "metadata": {},
     "outputs": [],
     "prompt_number": 16
    },
    {
     "cell_type": "markdown",
     "metadata": {},
     "source": [
      "###Tranform weekly sequences\n",
      "\n",
      "My status classification scheme:\n",
      "\n",
      "* 1 - full-time employment\n",
      "* 2 - working with missing hours\n",
      "* 3 - part-time employent\n",
      "* 4 - nonwokring \n",
      "* 5 - maternity leave"
     ]
    },
    {
     "cell_type": "code",
     "collapsed": false,
     "input": [
      "#select only week array data for our selected sample\n",
      "wkarray_df_partial = wkarray_df[wkarray_df.caseid_1979.isin(sample)]\n",
      "print wkarray_df_partial.shape"
     ],
     "language": "python",
     "metadata": {},
     "outputs": [
      {
       "output_type": "stream",
       "stream": "stdout",
       "text": [
        "(2458, 3763)\n"
       ]
      }
     ],
     "prompt_number": 17
    },
    {
     "cell_type": "code",
     "collapsed": false,
     "input": [
      "wkarray_df.columns[:10]"
     ],
     "language": "python",
     "metadata": {},
     "outputs": [
      {
       "metadata": {},
       "output_type": "pyout",
       "prompt_number": 18,
       "text": [
        "Index([u'caseid_1979', u'sample_race_1979', u'sample_sex_1979', u'hrs_worked_wk_num0000_xrnd', u'hrs_worked_wk_num0001_xrnd', u'hrs_worked_wk_num0002_xrnd', u'hrs_worked_wk_num0003_xrnd', u'hrs_worked_wk_num0004_xrnd', u'hrs_worked_wk_num0005_xrnd', u'hrs_worked_wk_num0006_xrnd'], dtype='object')"
       ]
      }
     ],
     "prompt_number": 18
    },
    {
     "cell_type": "code",
     "collapsed": false,
     "input": [
      "#find all possible week numbers in the weekly array dataframe\n",
      "week_num = set([])\n",
      "\n",
      "for col in wkarray_df_partial.columns[3:]:\n",
      "    week_num.add(int(re.search(r'\\d{4}', col).group(0)))\n",
      "    \n",
      "week_num = list(week_num)\n",
      "week_num.sort()\n",
      "print week_num[-1]"
     ],
     "language": "python",
     "metadata": {},
     "outputs": [
      {
       "output_type": "stream",
       "stream": "stdout",
       "text": [
        "1879\n"
       ]
      }
     ],
     "prompt_number": 19
    },
    {
     "cell_type": "code",
     "collapsed": false,
     "input": [
      "# Create a dictionary to store data\n",
      "data = defaultdict(list)\n",
      "\n",
      "# count how many hours people work with employment status 3 (associated with employer)\n",
      "count_hrs_status3 = []\n",
      "\n",
      "for i, row in wkarray_df_partial.iterrows(): #iterate through weekly array rows\n",
      "\n",
      "    #keep track of progress\n",
      "    if i%100 == 0: \n",
      "        print i\n",
      "\n",
      "    dob_row = analytic_df[analytic_df.caseid_1979==row['caseid_1979']].iloc[0]\n",
      "    dob_y = dob_row['c1dob_y_xrnd']\n",
      "    dob_m = dob_row['c1dob_m_xrnd']\n",
      "    \n",
      "    #find employment sequence start year and month\n",
      "    if dob_m == 12:\n",
      "        start_y = dob_y+1\n",
      "        start_m = 1\n",
      "    else:\n",
      "        start_y = dob_y\n",
      "        start_m = dob_m+1\n",
      "    \n",
      "    \n",
      "    #keep three columns: id, start_y, start_m\n",
      "    data['id'].append(row['caseid_1979'])\n",
      "    data['start_y'].append(start_y)\n",
      "    data['start_m'].append(start_m) \n",
      "        \n",
      "    #maternal leaves\n",
      "    leaves = find_maternal_leave_no_before(row['caseid_1979'])\n",
      "        \n",
      "    for week_num in range(1, 1880): #iterate through all weeks\n",
      "         \n",
      "        #if the week is maternity leave\n",
      "        if week_num in leaves:\n",
      "            data['week%s'%(week_num-1)].append(5) #make the week number start from 0, easier for indexing in Python\n",
      "            continue\n",
      "        \n",
      "        #otherwise:\n",
      "        my_status = None\n",
      "        \n",
      "        #get the hours worked this week \n",
      "        hours = row['hrs_worked_wk_num%04d_xrnd'%week_num]\n",
      "    \n",
      "        #get the employment status this week\n",
      "        status = row['status_wk_num%04d_xrnd'%week_num]\n",
      "\n",
      "        \n",
      "        if (status >= 100 and status <= 2510):\n",
      "            status = 'w' #working\n",
      "        \n",
      "        if hours >= 35:\n",
      "            hours = 'ft' #full-time working hours\n",
      "        elif hours > 0 and hours < 35:\n",
      "            hours = 'pt' #part-time working hours\n",
      "        \n",
      "        \n",
      "       #define employment status according to my classification scheme\n",
      "        \n",
      "        # missing\n",
      "        if hours == 0 and status == 0:\n",
      "            my_status = 0\n",
      "            \n",
      "        # full time\n",
      "        elif hours == 'ft' and status in ['w', 3]:\n",
      "            my_status = 1\n",
      "        elif hours == 0 and status == 7:\n",
      "            my_status = 1\n",
      "            \n",
      "        # working, missing hours\n",
      "        elif hours <= 0 and status in ['w', 3]: \n",
      "            my_status = 2\n",
      "            \n",
      "            ###################\n",
      "            if status==3:\n",
      "                count_hrs_status3.append(hours)\n",
      "            \n",
      "        # part time\n",
      "        elif hours == 'pt' and status in ['w', 3]:\n",
      "            my_status = 3\n",
      "            \n",
      "        # non-working\n",
      "        elif hours <= 0 and status == 2:\n",
      "            my_status = 4\n",
      "        elif hours <= 0 and status == 4:\n",
      "            my_status = 4\n",
      "        elif hours <= 0 and status == 5:\n",
      "            my_status = 4\n",
      "\n",
      "        else:\n",
      "            raise Exception, 'unknown hours and status: (%s, %s)'%(hours, status)\n",
      "            \n",
      "        data['week%s'%(week_num-1)].append(my_status) #make the week number start from 0, easier for indexing in Python"
     ],
     "language": "python",
     "metadata": {},
     "outputs": [
      {
       "output_type": "stream",
       "stream": "stdout",
       "text": [
        "400\n",
        "800"
       ]
      },
      {
       "output_type": "stream",
       "stream": "stdout",
       "text": [
        "\n",
        "1100"
       ]
      },
      {
       "output_type": "stream",
       "stream": "stdout",
       "text": [
        "\n",
        "2300"
       ]
      },
      {
       "output_type": "stream",
       "stream": "stdout",
       "text": [
        "\n",
        "2500"
       ]
      },
      {
       "output_type": "stream",
       "stream": "stdout",
       "text": [
        "\n",
        "3100"
       ]
      },
      {
       "output_type": "stream",
       "stream": "stdout",
       "text": [
        "\n",
        "3200"
       ]
      },
      {
       "output_type": "stream",
       "stream": "stdout",
       "text": [
        "\n",
        "3600"
       ]
      },
      {
       "output_type": "stream",
       "stream": "stdout",
       "text": [
        "\n",
        "4000"
       ]
      },
      {
       "output_type": "stream",
       "stream": "stdout",
       "text": [
        "\n",
        "5000"
       ]
      },
      {
       "output_type": "stream",
       "stream": "stdout",
       "text": [
        "\n",
        "5300"
       ]
      },
      {
       "output_type": "stream",
       "stream": "stdout",
       "text": [
        "\n",
        "5700"
       ]
      },
      {
       "output_type": "stream",
       "stream": "stdout",
       "text": [
        "\n",
        "5800"
       ]
      },
      {
       "output_type": "stream",
       "stream": "stdout",
       "text": [
        "\n",
        "6900"
       ]
      },
      {
       "output_type": "stream",
       "stream": "stdout",
       "text": [
        "\n",
        "7600"
       ]
      },
      {
       "output_type": "stream",
       "stream": "stdout",
       "text": [
        "\n",
        "8600"
       ]
      },
      {
       "output_type": "stream",
       "stream": "stdout",
       "text": [
        "\n",
        "10400"
       ]
      },
      {
       "output_type": "stream",
       "stream": "stdout",
       "text": [
        "\n",
        "11900"
       ]
      },
      {
       "output_type": "stream",
       "stream": "stdout",
       "text": [
        "\n",
        "12200"
       ]
      },
      {
       "output_type": "stream",
       "stream": "stdout",
       "text": [
        "\n"
       ]
      }
     ],
     "prompt_number": 20
    },
    {
     "cell_type": "code",
     "collapsed": false,
     "input": [
      "#create the new weekly array dataframe with my edited employment status\n",
      "\n",
      "#week number range in NLSY79: 1 - 1879\n",
      "#week number range in Python: 0 - 1878\n",
      "\n",
      "#order the columns in the new dataframe\n",
      "cols = ['id', 'start_y', 'start_m'] + ['week%s'%n for n in range(1879)]\n",
      "\n",
      "full_df = pd.DataFrame(data, columns=cols)\n",
      "print full_df.iloc[0]"
     ],
     "language": "python",
     "metadata": {},
     "outputs": [
      {
       "output_type": "stream",
       "stream": "stdout",
       "text": [
        "id            2\n",
        "start_y    1993\n",
        "start_m       4\n",
        "week0         4\n",
        "week1         4\n",
        "week2         4\n",
        "week3         4\n",
        "week4         4\n",
        "week5         4\n",
        "week6         4\n",
        "week7         4\n",
        "week8         4\n",
        "week9         4\n",
        "week10        4\n",
        "week11        4\n",
        "...\n",
        "week1864    0\n",
        "week1865    0\n",
        "week1866    0\n",
        "week1867    0\n",
        "week1868    0\n",
        "week1869    0\n",
        "week1870    0\n",
        "week1871    0\n",
        "week1872    0\n",
        "week1873    0\n",
        "week1874    0\n",
        "week1875    0\n",
        "week1876    0\n",
        "week1877    0\n",
        "week1878    0\n",
        "Name: 0, Length: 1882, dtype: int64\n"
       ]
      }
     ],
     "prompt_number": 21
    },
    {
     "cell_type": "code",
     "collapsed": false,
     "input": [
      "#save to csv\n",
      "full_df.to_csv('output_data/full_wk_df.csv', index=False)"
     ],
     "language": "python",
     "metadata": {},
     "outputs": [],
     "prompt_number": 22
    },
    {
     "cell_type": "code",
     "collapsed": false,
     "input": [
      "#how frequent did status 3 appear?\n",
      "print len(count_hrs_status3)"
     ],
     "language": "python",
     "metadata": {},
     "outputs": [
      {
       "output_type": "stream",
       "stream": "stdout",
       "text": [
        "537\n"
       ]
      }
     ],
     "prompt_number": 23
    },
    {
     "cell_type": "code",
     "collapsed": false,
     "input": [
      "#what work hours are associated with status 3?\n",
      "set(count_hrs_status3)"
     ],
     "language": "python",
     "metadata": {},
     "outputs": [
      {
       "metadata": {},
       "output_type": "pyout",
       "prompt_number": 24,
       "text": [
        "{-3}"
       ]
      }
     ],
     "prompt_number": 24
    },
    {
     "cell_type": "markdown",
     "metadata": {},
     "source": [
      "###Within 18-year period after birth, how many weeks per respondent are maternity leaves?"
     ]
    },
    {
     "cell_type": "code",
     "collapsed": false,
     "input": [
      "def count_ml_per_indiv(row):\n",
      "    \"\"\"\n",
      "    Given a row of data for one respondent, return how many weeks are maternity leaves.\n",
      "    \"\"\"\n",
      "    \n",
      "    y = row['start_y']\n",
      "    m = row['start_m']\n",
      "    seq = row.values[3:].tolist() \n",
      "    start = get_week_num(y, m, 'first')\n",
      "    \n",
      "    #18 years == 936 weeks\n",
      "    wk_statuses = seq[start:start+936]  \n",
      "    is_ml = [status==5 for status in wk_statuses]\n",
      "    \n",
      "    return sum(is_ml)"
     ],
     "language": "python",
     "metadata": {},
     "outputs": [],
     "prompt_number": 25
    },
    {
     "cell_type": "code",
     "collapsed": false,
     "input": [
      "count_ml = full_df.apply(count_ml_per_indiv, axis=1)\n",
      "count_ml.describe()"
     ],
     "language": "python",
     "metadata": {},
     "outputs": [
      {
       "metadata": {},
       "output_type": "pyout",
       "prompt_number": 26,
       "text": [
        "count    2458.000000\n",
        "mean        6.429211\n",
        "std        23.449026\n",
        "min         0.000000\n",
        "25%         0.000000\n",
        "50%         0.000000\n",
        "75%         7.000000\n",
        "max       936.000000\n",
        "dtype: float64"
       ]
      }
     ],
     "prompt_number": 26
    },
    {
     "cell_type": "code",
     "collapsed": false,
     "input": [
      "hist = plt.hist(count_ml, bins=100)"
     ],
     "language": "python",
     "metadata": {},
     "outputs": [
      {
       "metadata": {},
       "output_type": "display_data",
       "png": "[encoded data removed]",
       "text": [
        "<matplotlib.figure.Figure at 0x106543310>"
       ]
      }
     ],
     "prompt_number": 27
    },
    {
     "cell_type": "markdown",
     "metadata": {},
     "source": [
      "###Construct 18-year monthly sequences"
     ]
    },
    {
     "cell_type": "code",
     "collapsed": false,
     "input": [
      "def find_modal(l):\n",
      "    \"\"\"\n",
      "    Given a list l, return the most common element in the list. \n",
      "    if there is a tie, return all elements.\n",
      "    \"\"\"\n",
      "    \n",
      "    #first, count frequency of each unique item in the list\n",
      "    counter = defaultdict(int)\n",
      "    for item in l:\n",
      "        counter[item] += 1\n",
      "\n",
      "    #rank items from most frequent to least frequent\n",
      "    popular_items = sorted(counter, key=counter.get, reverse = True)\n",
      "    \n",
      "    most_common = [popular_items[0]]\n",
      "    \n",
      "    for other in popular_items[1:]:\n",
      "        if counter[other] < counter[most_common[0]]:\n",
      "            break\n",
      "        elif counter[other] == counter[most_common[0]]: #find an equally frequent item\n",
      "            most_common.append(other)\n",
      "        else:\n",
      "            print 'impossible'\n",
      "\n",
      "    return most_common\n",
      "\n",
      "#for example\n",
      "print find_modal([1, 1, 2, 1, 5])\n",
      "print find_modal([1, 1, 2, 1, 5, 2, 2, 33])"
     ],
     "language": "python",
     "metadata": {},
     "outputs": [
      {
       "output_type": "stream",
       "stream": "stdout",
       "text": [
        "[1]\n",
        "[1, 2]\n"
       ]
      }
     ],
     "prompt_number": 28
    },
    {
     "cell_type": "code",
     "collapsed": false,
     "input": [
      "random.seed(7222014)\n",
      "\n",
      "res_data = defaultdict(list) #create an empty dictionary to store data\n",
      "\n",
      "count_ties = [] #how many we get ties of modal\n",
      "\n",
      "for i, row in full_df.iterrows():\n",
      "    \n",
      "    # keep track of progress\n",
      "    if i%100 == 0:\n",
      "        print i\n",
      "    \n",
      "    # keep basic info: id, sequence start year and month\n",
      "    res_data['id'].append(row['id'])\n",
      "    \n",
      "    y = row['start_y']\n",
      "    m = row['start_m']\n",
      "    \n",
      "    res_data['start_y'].append(y)\n",
      "    res_data['start_m'].append(m)\n",
      "    \n",
      "    \n",
      "    # look at weekly statuses\n",
      "    seq = row.values[3:].tolist()\n",
      "    \n",
      "    for j in range(216): # from month 0 to month 215\n",
      "        start = get_week_num(y, m, 'first')\n",
      "        end = get_week_num(y, m, 'last')\n",
      "        wk_statuses = seq[start:end+1]\n",
      "        \n",
      "        #find unique items in the given month \n",
      "        distinct = list(set(wk_statuses))\n",
      "        distinct.sort()\n",
      "        \n",
      "        if len(distinct) == 1:\n",
      "            res_data['month%s'%j].append(distinct[0])\n",
      "                \n",
      "        elif len(distinct) >= 2:\n",
      "            modal = find_modal(wk_statuses)\n",
      "            if len(modal) == 1:\n",
      "                res_data['month%s'%j].append(modal[0])\n",
      "            else:\n",
      "                res_data['month%s'%j].append(random.choice(modal))\n",
      "                count_ties.append(row['id'])\n",
      "\n",
      "         \n",
      "        #move to next month\n",
      "        if m < 12:\n",
      "            m += 1\n",
      "        elif m == 12:\n",
      "            m = 1\n",
      "            y += 1\n",
      "\n",
      "cols = ['id', 'start_y', 'start_m'] + ['month%s'%i for i in range(216)]\n",
      "res_df = pd.DataFrame(res_data, columns=cols) #restricted dataframe"
     ],
     "language": "python",
     "metadata": {},
     "outputs": [
      {
       "output_type": "stream",
       "stream": "stdout",
       "text": [
        "0\n",
        "100"
       ]
      },
      {
       "output_type": "stream",
       "stream": "stdout",
       "text": [
        "\n",
        "200"
       ]
      },
      {
       "output_type": "stream",
       "stream": "stdout",
       "text": [
        "\n",
        "300"
       ]
      },
      {
       "output_type": "stream",
       "stream": "stdout",
       "text": [
        "\n",
        "400"
       ]
      },
      {
       "output_type": "stream",
       "stream": "stdout",
       "text": [
        "\n",
        "500"
       ]
      },
      {
       "output_type": "stream",
       "stream": "stdout",
       "text": [
        "\n",
        "600"
       ]
      },
      {
       "output_type": "stream",
       "stream": "stdout",
       "text": [
        "\n",
        "700"
       ]
      },
      {
       "output_type": "stream",
       "stream": "stdout",
       "text": [
        "\n",
        "800"
       ]
      },
      {
       "output_type": "stream",
       "stream": "stdout",
       "text": [
        "\n",
        "900"
       ]
      },
      {
       "output_type": "stream",
       "stream": "stdout",
       "text": [
        "\n",
        "1000"
       ]
      },
      {
       "output_type": "stream",
       "stream": "stdout",
       "text": [
        "\n",
        "1100"
       ]
      },
      {
       "output_type": "stream",
       "stream": "stdout",
       "text": [
        "\n",
        "1200"
       ]
      },
      {
       "output_type": "stream",
       "stream": "stdout",
       "text": [
        "\n",
        "1300"
       ]
      },
      {
       "output_type": "stream",
       "stream": "stdout",
       "text": [
        "\n",
        "1400"
       ]
      },
      {
       "output_type": "stream",
       "stream": "stdout",
       "text": [
        "\n",
        "1500"
       ]
      },
      {
       "output_type": "stream",
       "stream": "stdout",
       "text": [
        "\n",
        "1600"
       ]
      },
      {
       "output_type": "stream",
       "stream": "stdout",
       "text": [
        "\n",
        "1700"
       ]
      },
      {
       "output_type": "stream",
       "stream": "stdout",
       "text": [
        "\n",
        "1800"
       ]
      },
      {
       "output_type": "stream",
       "stream": "stdout",
       "text": [
        "\n",
        "1900"
       ]
      },
      {
       "output_type": "stream",
       "stream": "stdout",
       "text": [
        "\n",
        "2000"
       ]
      },
      {
       "output_type": "stream",
       "stream": "stdout",
       "text": [
        "\n",
        "2100"
       ]
      },
      {
       "output_type": "stream",
       "stream": "stdout",
       "text": [
        "\n",
        "2200"
       ]
      },
      {
       "output_type": "stream",
       "stream": "stdout",
       "text": [
        "\n",
        "2300"
       ]
      },
      {
       "output_type": "stream",
       "stream": "stdout",
       "text": [
        "\n",
        "2400"
       ]
      },
      {
       "output_type": "stream",
       "stream": "stdout",
       "text": [
        "\n"
       ]
      }
     ],
     "prompt_number": 29
    },
    {
     "cell_type": "code",
     "collapsed": false,
     "input": [
      "len(count_ties)"
     ],
     "language": "python",
     "metadata": {},
     "outputs": [
      {
       "metadata": {},
       "output_type": "pyout",
       "prompt_number": 30,
       "text": [
        "4007"
       ]
      }
     ],
     "prompt_number": 30
    },
    {
     "cell_type": "code",
     "collapsed": false,
     "input": [
      "len(set(count_ties))"
     ],
     "language": "python",
     "metadata": {},
     "outputs": [
      {
       "metadata": {},
       "output_type": "pyout",
       "prompt_number": 31,
       "text": [
        "1723"
       ]
      }
     ],
     "prompt_number": 31
    },
    {
     "cell_type": "code",
     "collapsed": false,
     "input": [
      "print res_df.iloc[0]"
     ],
     "language": "python",
     "metadata": {},
     "outputs": [
      {
       "output_type": "stream",
       "stream": "stdout",
       "text": [
        "id            2\n",
        "start_y    1993\n",
        "start_m       4\n",
        "month0        5\n",
        "month1        4\n",
        "month2        4\n",
        "month3        4\n",
        "month4        4\n",
        "month5        4\n",
        "month6        4\n",
        "month7        4\n",
        "month8        4\n",
        "month9        4\n",
        "month10       4\n",
        "month11       4\n",
        "...\n",
        "month201    3\n",
        "month202    3\n",
        "month203    1\n",
        "month204    1\n",
        "month205    1\n",
        "month206    1\n",
        "month207    1\n",
        "month208    1\n",
        "month209    1\n",
        "month210    1\n",
        "month211    1\n",
        "month212    1\n",
        "month213    1\n",
        "month214    1\n",
        "month215    1\n",
        "Name: 0, Length: 219, dtype: int64\n"
       ]
      }
     ],
     "prompt_number": 32
    },
    {
     "cell_type": "code",
     "collapsed": false,
     "input": [
      "#export to csv\n",
      "res_df.to_csv(\"output_data/monthly_df.csv\", index=False)"
     ],
     "language": "python",
     "metadata": {},
     "outputs": [],
     "prompt_number": 33
    },
    {
     "cell_type": "markdown",
     "metadata": {},
     "source": [
      "###Examine distribution of each status"
     ]
    },
    {
     "cell_type": "code",
     "collapsed": false,
     "input": [
      "def list_duplicates_of(seq, item):\n",
      "    \"\"\"\n",
      "    Given a seq and item, return the indexes of duplicate items in the list (as a list).\n",
      "    (found online)\n",
      "    \"\"\"\n",
      "    start_at = -1\n",
      "    locs = []\n",
      "    while True:\n",
      "        try:\n",
      "            loc = seq.index(item,start_at+1)\n",
      "        except ValueError:\n",
      "            break\n",
      "        else:\n",
      "            locs.append(loc)\n",
      "            start_at = loc\n",
      "    return locs"
     ],
     "language": "python",
     "metadata": {},
     "outputs": [],
     "prompt_number": 34
    },
    {
     "cell_type": "code",
     "collapsed": false,
     "input": [
      "def check_distribution(value, df, start_value):\n",
      "    \"\"\"\n",
      "    A function to exmine the distribution of the given value in the dataframe.\n",
      "    \n",
      "    start_value is the column number starting from which are the actual data. \n",
      "    i.e. here we want only to examine the distribution of certain values in the weekly status,\n",
      "    so the columns id, start_y, start_m, and start_week are not relevant, and we want to skip\n",
      "    those columns, so the start_value will be 4.\n",
      "    \"\"\"   \n",
      "    \n",
      "    ###how many respondents have the given value in their sequences?\n",
      "    indices_by_person = []\n",
      "    for i, row in df.iterrows():        \n",
      "        seq = row.values[start_value:].tolist()\n",
      "\n",
      "        if value in seq: \n",
      "            #find the list of indexes of the given value\n",
      "            indices_by_person.append(list_duplicates_of(seq, value))  \n",
      "\n",
      "    print '%s respondents have at least one months of status %s'%(len(indices_by_person), value)\n",
      "    print\n",
      "    \n",
      "    ###how many such weeks are in each respondent's sequence?\n",
      "    count_by_person = [len(l) for l in indices_by_person]\n",
      "    plt.hist(count_by_person, bins=50)\n",
      "    plt.title('Count of Months of Status %s per Respondent'%value)\n",
      "    plt.ylabel('Frequency')\n",
      "    plt.show()    \n",
      "    \n",
      "    print 'The number of months with %s status per respondent'%value\n",
      "    print 'Min:', min(count_by_person)\n",
      "    print 'Max:', max(count_by_person)\n",
      "    print 'Mean:', np.mean(count_by_person)\n",
      "    print 'Quantiles (1/4, 1/2, 3/4):', np.percentile(count_by_person, 25), \\\n",
      "                        np.percentile(count_by_person, 50), \\\n",
      "                        np.percentile(count_by_person, 75)\n",
      "    print"
     ],
     "language": "python",
     "metadata": {},
     "outputs": [],
     "prompt_number": 35
    },
    {
     "cell_type": "code",
     "collapsed": false,
     "input": [
      "check_distribution(0, res_df, 3)"
     ],
     "language": "python",
     "metadata": {},
     "outputs": [
      {
       "output_type": "stream",
       "stream": "stdout",
       "text": [
        "224 respondents have at least one months of status 0\n",
        "\n"
       ]
      },
      {
       "metadata": {},
       "output_type": "display_data",
       "png": "[encoded data removed]",
       "text": [
        "<matplotlib.figure.Figure at 0x10a67f090>"
       ]
      },
      {
       "output_type": "stream",
       "stream": "stdout",
       "text": [
        "The number of months with 0 status per respondent\n",
        "Min: 1\n",
        "Max: 108\n",
        "Mean: 10.8526785714\n",
        "Quantiles (1/4, 1/2, 3/4): 2.0 8.0 13.0\n",
        "\n"
       ]
      }
     ],
     "prompt_number": 36
    },
    {
     "cell_type": "code",
     "collapsed": false,
     "input": [
      "check_distribution(2, res_df, 3)"
     ],
     "language": "python",
     "metadata": {},
     "outputs": [
      {
       "output_type": "stream",
       "stream": "stdout",
       "text": [
        "234 respondents have at least one months of status 2\n",
        "\n"
       ]
      },
      {
       "metadata": {},
       "output_type": "display_data",
       "png": "[encoded data removed]",
       "text": [
        "<matplotlib.figure.Figure at 0x1163ca390>"
       ]
      },
      {
       "output_type": "stream",
       "stream": "stdout",
       "text": [
        "The number of months with 2 status per respondent\n",
        "Min: 1\n",
        "Max: 52\n",
        "Mean: 13.3461538462\n",
        "Quantiles (1/4, 1/2, 3/4): 5.0 11.0 19.0\n",
        "\n"
       ]
      }
     ],
     "prompt_number": 37
    },
    {
     "cell_type": "code",
     "collapsed": false,
     "input": [
      "check_distribution(5, res_df, 3)"
     ],
     "language": "python",
     "metadata": {},
     "outputs": [
      {
       "output_type": "stream",
       "stream": "stdout",
       "text": [
        "851 respondents have at least one months of status 5\n",
        "\n"
       ]
      },
      {
       "metadata": {},
       "output_type": "display_data",
       "png": "[encoded data removed]",
       "text": [
        "<matplotlib.figure.Figure at 0x1163ca410>"
       ]
      },
      {
       "output_type": "stream",
       "stream": "stdout",
       "text": [
        "The number of months with 5 status per respondent\n",
        "Min: 1\n",
        "Max: 216\n",
        "Mean: 4.2714453584\n",
        "Quantiles (1/4, 1/2, 3/4): 2.0 3.0 5.0\n",
        "\n"
       ]
      }
     ],
     "prompt_number": 38
    },
    {
     "cell_type": "markdown",
     "metadata": {},
     "source": [
      "###Fraction of respondents having at least one month of either type of missing"
     ]
    },
    {
     "cell_type": "code",
     "collapsed": false,
     "input": [
      "res_df.shape[0]"
     ],
     "language": "python",
     "metadata": {},
     "outputs": [
      {
       "metadata": {},
       "output_type": "pyout",
       "prompt_number": 39,
       "text": [
        "2458"
       ]
      }
     ],
     "prompt_number": 39
    },
    {
     "cell_type": "code",
     "collapsed": false,
     "input": [
      "#revised based on the check_distribution function\n",
      "\n",
      "###how many respondents have the given value in their sequences?\n",
      "count_by_person = []\n",
      "for i, row in res_df.iterrows():\n",
      "    seq = row.values[3:].tolist()\n",
      "    \n",
      "    if 0 in seq or 2 in seq: \n",
      "        count_by_person.append(seq.count(0)+seq.count(2))  \n",
      "\n",
      "print '%s respondents have some months of status 0 or 2'%(len(count_by_person))\n",
      "print len(count_by_person)/float(res_df.shape[0])\n",
      "print\n",
      "    \n",
      "###how many such weeks are in each respondent's sequence?\n",
      "print 'Mean:', np.mean(count_by_person)\n",
      "print 'Median:', np.percentile(count_by_person, 50)\n",
      "plt.hist(count_by_person, bins=50)\n",
      "plt.ylabel('Frequency')\n",
      "plt.show()    "
     ],
     "language": "python",
     "metadata": {},
     "outputs": [
      {
       "output_type": "stream",
       "stream": "stdout",
       "text": [
        "429 respondents have some months of status 0 or 2\n",
        "0.174532139951\n",
        "\n",
        "Mean: 12.9463869464\n",
        "Median: 10.0\n"
       ]
      },
      {
       "metadata": {},
       "output_type": "display_data",
       "png": "[encoded data removed]",
       "text": [
        "<matplotlib.figure.Figure at 0x10b1d4a50>"
       ]
      }
     ],
     "prompt_number": 40
    },
    {
     "cell_type": "code",
     "collapsed": false,
     "input": [],
     "language": "python",
     "metadata": {},
     "outputs": [],
     "prompt_number": 40
    }
   ],
   "metadata": {}
  }
 ]
}