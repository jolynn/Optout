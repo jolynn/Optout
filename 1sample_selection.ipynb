{
 "cells": [
  {
   "cell_type": "markdown",
   "metadata": {},
   "source": [
    "# OptOut Project: Sample Selection\n",
    "\n",
    "* Construct Extended Sample: biological mothers who lived until their first child’s 18th birthday\n",
    "* Construct 14-year-sequence Sample: capture a larger sample by analyzing 14 years of maternal employment for robustness chek\n",
    "* Dataset: NLSY79 (1979-2014)"
   ]
  },
  {
   "cell_type": "code",
   "execution_count": 1,
   "metadata": {},
   "outputs": [],
   "source": [
    "#setup\n",
    "%matplotlib inline\n",
    "import numpy as np\n",
    "import matplotlib.pyplot as plt\n",
    "import pandas as pd\n",
    "import time\n",
    "import datetime\n",
    "from collections import defaultdict\n",
    "from dateutil.relativedelta import relativedelta\n",
    "\n",
    "# set some nicer defaults for matplotlib\n",
    "from matplotlib import rcParams\n",
    "\n",
    "rcParams['figure.figsize'] = (10, 6)\n",
    "rcParams['figure.dpi'] = 150\n",
    "rcParams['lines.linewidth'] = 2\n",
    "rcParams['axes.grid'] = False\n",
    "rcParams['axes.facecolor'] = 'white'\n",
    "rcParams['font.size'] = 14\n",
    "rcParams['patch.edgecolor'] = 'none'\n",
    "\n",
    "def remove_border(axes=None, top=False, right=False, left=True, bottom=True):\n",
    "    \"\"\"\n",
    "    Minimize chartjunk by stripping out unnecessary plot borders and axis ticks\n",
    "    \n",
    "    The top/right/left/bottom keywords toggle whether the corresponding plot border is drawn\n",
    "    \"\"\"\n",
    "    ax = axes or plt.gca()\n",
    "    ax.spines['top'].set_visible(top)\n",
    "    ax.spines['right'].set_visible(right)\n",
    "    ax.spines['left'].set_visible(left)\n",
    "    ax.spines['bottom'].set_visible(bottom)\n",
    "    \n",
    "    #turn off all ticks\n",
    "    ax.yaxis.set_ticks_position('none')\n",
    "    ax.xaxis.set_ticks_position('none')\n",
    "    \n",
    "    #now re-enable visibles\n",
    "    if top:\n",
    "        ax.xaxis.tick_top()\n",
    "    if bottom:\n",
    "        ax.xaxis.tick_bottom()\n",
    "    if left:\n",
    "        ax.yaxis.tick_left()\n",
    "    if right:\n",
    "        ax.yaxis.tick_right()"
   ]
  },
  {
   "cell_type": "markdown",
   "metadata": {},
   "source": [
    "## Start from the entire NLSY79 sample"
   ]
  },
  {
   "cell_type": "code",
   "execution_count": 2,
   "metadata": {},
   "outputs": [
    {
     "name": "stdout",
     "output_type": "stream",
     "text": [
      "(12686, 26)\n"
     ]
    },
    {
     "data": {
      "text/html": [
       "<div>\n",
       "<style scoped>\n",
       "    .dataframe tbody tr th:only-of-type {\n",
       "        vertical-align: middle;\n",
       "    }\n",
       "\n",
       "    .dataframe tbody tr th {\n",
       "        vertical-align: top;\n",
       "    }\n",
       "\n",
       "    .dataframe thead th {\n",
       "        text-align: right;\n",
       "    }\n",
       "</style>\n",
       "<table border=\"1\" class=\"dataframe\">\n",
       "  <thead>\n",
       "    <tr style=\"text-align: right;\">\n",
       "      <th></th>\n",
       "      <th>caseid_1979</th>\n",
       "      <th>sample_id_1979</th>\n",
       "      <th>sample_race_1979</th>\n",
       "      <th>sample_sex_1979</th>\n",
       "      <th>c1dob_m_xrnd</th>\n",
       "      <th>c1dob_y_xrnd</th>\n",
       "      <th>c2dob_m_xrnd</th>\n",
       "      <th>c2dob_y_xrnd</th>\n",
       "      <th>c3dob_m_xrnd</th>\n",
       "      <th>c3dob_y_xrnd</th>\n",
       "      <th>...</th>\n",
       "      <th>c7dob_m_xrnd</th>\n",
       "      <th>c7dob_y_xrnd</th>\n",
       "      <th>c8dob_m_xrnd</th>\n",
       "      <th>c8dob_y_xrnd</th>\n",
       "      <th>c9dob_m_xrnd</th>\n",
       "      <th>c9dob_y_xrnd</th>\n",
       "      <th>c10dob_m_xrnd</th>\n",
       "      <th>c10dob_y_xrnd</th>\n",
       "      <th>c11dob_m_xrnd</th>\n",
       "      <th>c11dob_y_xrnd</th>\n",
       "    </tr>\n",
       "  </thead>\n",
       "  <tbody>\n",
       "    <tr>\n",
       "      <th>0</th>\n",
       "      <td>1</td>\n",
       "      <td>5</td>\n",
       "      <td>3</td>\n",
       "      <td>2</td>\n",
       "      <td>-4</td>\n",
       "      <td>-4</td>\n",
       "      <td>-4</td>\n",
       "      <td>-4</td>\n",
       "      <td>-4</td>\n",
       "      <td>-4</td>\n",
       "      <td>...</td>\n",
       "      <td>-4</td>\n",
       "      <td>-4</td>\n",
       "      <td>-4</td>\n",
       "      <td>-4</td>\n",
       "      <td>-4</td>\n",
       "      <td>-4</td>\n",
       "      <td>-4</td>\n",
       "      <td>-4</td>\n",
       "      <td>-4</td>\n",
       "      <td>-4</td>\n",
       "    </tr>\n",
       "    <tr>\n",
       "      <th>1</th>\n",
       "      <td>2</td>\n",
       "      <td>5</td>\n",
       "      <td>3</td>\n",
       "      <td>2</td>\n",
       "      <td>3</td>\n",
       "      <td>1993</td>\n",
       "      <td>11</td>\n",
       "      <td>1994</td>\n",
       "      <td>-4</td>\n",
       "      <td>-4</td>\n",
       "      <td>...</td>\n",
       "      <td>-4</td>\n",
       "      <td>-4</td>\n",
       "      <td>-4</td>\n",
       "      <td>-4</td>\n",
       "      <td>-4</td>\n",
       "      <td>-4</td>\n",
       "      <td>-4</td>\n",
       "      <td>-4</td>\n",
       "      <td>-4</td>\n",
       "      <td>-4</td>\n",
       "    </tr>\n",
       "    <tr>\n",
       "      <th>2</th>\n",
       "      <td>3</td>\n",
       "      <td>5</td>\n",
       "      <td>3</td>\n",
       "      <td>2</td>\n",
       "      <td>6</td>\n",
       "      <td>1981</td>\n",
       "      <td>10</td>\n",
       "      <td>1983</td>\n",
       "      <td>4</td>\n",
       "      <td>1986</td>\n",
       "      <td>...</td>\n",
       "      <td>-4</td>\n",
       "      <td>-4</td>\n",
       "      <td>-4</td>\n",
       "      <td>-4</td>\n",
       "      <td>-4</td>\n",
       "      <td>-4</td>\n",
       "      <td>-4</td>\n",
       "      <td>-4</td>\n",
       "      <td>-4</td>\n",
       "      <td>-4</td>\n",
       "    </tr>\n",
       "    <tr>\n",
       "      <th>3</th>\n",
       "      <td>4</td>\n",
       "      <td>5</td>\n",
       "      <td>3</td>\n",
       "      <td>2</td>\n",
       "      <td>8</td>\n",
       "      <td>1980</td>\n",
       "      <td>3</td>\n",
       "      <td>1997</td>\n",
       "      <td>-4</td>\n",
       "      <td>-4</td>\n",
       "      <td>...</td>\n",
       "      <td>-4</td>\n",
       "      <td>-4</td>\n",
       "      <td>-4</td>\n",
       "      <td>-4</td>\n",
       "      <td>-4</td>\n",
       "      <td>-4</td>\n",
       "      <td>-4</td>\n",
       "      <td>-4</td>\n",
       "      <td>-4</td>\n",
       "      <td>-4</td>\n",
       "    </tr>\n",
       "    <tr>\n",
       "      <th>4</th>\n",
       "      <td>5</td>\n",
       "      <td>1</td>\n",
       "      <td>3</td>\n",
       "      <td>1</td>\n",
       "      <td>5</td>\n",
       "      <td>1989</td>\n",
       "      <td>-4</td>\n",
       "      <td>-4</td>\n",
       "      <td>-4</td>\n",
       "      <td>-4</td>\n",
       "      <td>...</td>\n",
       "      <td>-4</td>\n",
       "      <td>-4</td>\n",
       "      <td>-4</td>\n",
       "      <td>-4</td>\n",
       "      <td>-4</td>\n",
       "      <td>-4</td>\n",
       "      <td>-4</td>\n",
       "      <td>-4</td>\n",
       "      <td>-4</td>\n",
       "      <td>-4</td>\n",
       "    </tr>\n",
       "  </tbody>\n",
       "</table>\n",
       "<p>5 rows × 26 columns</p>\n",
       "</div>"
      ],
      "text/plain": [
       "   caseid_1979  sample_id_1979  sample_race_1979  sample_sex_1979  \\\n",
       "0            1               5                 3                2   \n",
       "1            2               5                 3                2   \n",
       "2            3               5                 3                2   \n",
       "3            4               5                 3                2   \n",
       "4            5               1                 3                1   \n",
       "\n",
       "   c1dob_m_xrnd  c1dob_y_xrnd  c2dob_m_xrnd  c2dob_y_xrnd  c3dob_m_xrnd  \\\n",
       "0            -4            -4            -4            -4            -4   \n",
       "1             3          1993            11          1994            -4   \n",
       "2             6          1981            10          1983             4   \n",
       "3             8          1980             3          1997            -4   \n",
       "4             5          1989            -4            -4            -4   \n",
       "\n",
       "   c3dob_y_xrnd      ...        c7dob_m_xrnd  c7dob_y_xrnd  c8dob_m_xrnd  \\\n",
       "0            -4      ...                  -4            -4            -4   \n",
       "1            -4      ...                  -4            -4            -4   \n",
       "2          1986      ...                  -4            -4            -4   \n",
       "3            -4      ...                  -4            -4            -4   \n",
       "4            -4      ...                  -4            -4            -4   \n",
       "\n",
       "   c8dob_y_xrnd  c9dob_m_xrnd  c9dob_y_xrnd  c10dob_m_xrnd  c10dob_y_xrnd  \\\n",
       "0            -4            -4            -4             -4             -4   \n",
       "1            -4            -4            -4             -4             -4   \n",
       "2            -4            -4            -4             -4             -4   \n",
       "3            -4            -4            -4             -4             -4   \n",
       "4            -4            -4            -4             -4             -4   \n",
       "\n",
       "   c11dob_m_xrnd  c11dob_y_xrnd  \n",
       "0             -4             -4  \n",
       "1             -4             -4  \n",
       "2             -4             -4  \n",
       "3             -4             -4  \n",
       "4             -4             -4  \n",
       "\n",
       "[5 rows x 26 columns]"
      ]
     },
     "execution_count": 2,
     "metadata": {},
     "output_type": "execute_result"
    }
   ],
   "source": [
    "#read birth data\n",
    "dob_df = pd.read_csv('../data/childbirth.csv')\n",
    "print dob_df.shape\n",
    "dob_df.head()"
   ]
  },
  {
   "cell_type": "code",
   "execution_count": 3,
   "metadata": {},
   "outputs": [
    {
     "name": "stdout",
     "output_type": "stream",
     "text": [
      "(6283, 26)\n"
     ]
    }
   ],
   "source": [
    "#drop males\n",
    "#1-male; 2-female\n",
    "sample_df = dob_df[dob_df.sample_sex_1979==2]\n",
    "print sample_df.shape"
   ]
  },
  {
   "cell_type": "code",
   "execution_count": 4,
   "metadata": {},
   "outputs": [
    {
     "name": "stdout",
     "output_type": "stream",
     "text": [
      "subsamples before dropping: [ 5  6  8  7 14 12 13 18 19 20]\n",
      "subsamples after dropping: [ 5  6  8  7 14 13]\n",
      "(4926, 26)\n"
     ]
    }
   ],
   "source": [
    "#drop subsamples that weren’t followed over the entire survey period\n",
    "print 'subsamples before dropping:', sample_df.sample_id_1979.unique()\n",
    "sample_df = sample_df[(~sample_df.sample_id_1979.isin([9, 12, 15, 16, 17, 18, 19, 20]))]\n",
    "print 'subsamples after dropping:', sample_df.sample_id_1979.unique()\n",
    "print sample_df.shape"
   ]
  },
  {
   "cell_type": "markdown",
   "metadata": {},
   "source": [
    "There are 4926 women in NLSY79."
   ]
  },
  {
   "cell_type": "code",
   "execution_count": 5,
   "metadata": {},
   "outputs": [
    {
     "data": {
      "image/png": "[encoded data removed]",
      "text/plain": [
       "<Figure size 432x288 with 1 Axes>"
      ]
     },
     "metadata": {
      "needs_background": "light"
     },
     "output_type": "display_data"
    }
   ],
   "source": [
    "#distribution of child birth dates\n",
    "plt.hist(sample_df.c1dob_y_xrnd[sample_df.c1dob_y_xrnd!=-4])\n",
    "remove_border()"
   ]
  },
  {
   "cell_type": "markdown",
   "metadata": {},
   "source": [
    "### Respondents's date of birth"
   ]
  },
  {
   "cell_type": "code",
   "execution_count": 6,
   "metadata": {},
   "outputs": [
    {
     "data": {
      "text/html": [
       "<div>\n",
       "<style scoped>\n",
       "    .dataframe tbody tr th:only-of-type {\n",
       "        vertical-align: middle;\n",
       "    }\n",
       "\n",
       "    .dataframe tbody tr th {\n",
       "        vertical-align: top;\n",
       "    }\n",
       "\n",
       "    .dataframe thead th {\n",
       "        text-align: right;\n",
       "    }\n",
       "</style>\n",
       "<table border=\"1\" class=\"dataframe\">\n",
       "  <thead>\n",
       "    <tr style=\"text-align: right;\">\n",
       "      <th></th>\n",
       "      <th>caseid_1979</th>\n",
       "      <th>m_dob_1979</th>\n",
       "      <th>y_dob_1979</th>\n",
       "      <th>m_dob_1981</th>\n",
       "      <th>y_dob_1981</th>\n",
       "    </tr>\n",
       "  </thead>\n",
       "  <tbody>\n",
       "    <tr>\n",
       "      <th>0</th>\n",
       "      <td>1</td>\n",
       "      <td>9</td>\n",
       "      <td>58</td>\n",
       "      <td>9</td>\n",
       "      <td>58</td>\n",
       "    </tr>\n",
       "    <tr>\n",
       "      <th>1</th>\n",
       "      <td>2</td>\n",
       "      <td>1</td>\n",
       "      <td>59</td>\n",
       "      <td>1</td>\n",
       "      <td>59</td>\n",
       "    </tr>\n",
       "    <tr>\n",
       "      <th>2</th>\n",
       "      <td>3</td>\n",
       "      <td>8</td>\n",
       "      <td>61</td>\n",
       "      <td>-5</td>\n",
       "      <td>-5</td>\n",
       "    </tr>\n",
       "    <tr>\n",
       "      <th>3</th>\n",
       "      <td>4</td>\n",
       "      <td>8</td>\n",
       "      <td>62</td>\n",
       "      <td>8</td>\n",
       "      <td>62</td>\n",
       "    </tr>\n",
       "    <tr>\n",
       "      <th>4</th>\n",
       "      <td>5</td>\n",
       "      <td>7</td>\n",
       "      <td>59</td>\n",
       "      <td>7</td>\n",
       "      <td>59</td>\n",
       "    </tr>\n",
       "  </tbody>\n",
       "</table>\n",
       "</div>"
      ],
      "text/plain": [
       "   caseid_1979  m_dob_1979  y_dob_1979  m_dob_1981  y_dob_1981\n",
       "0            1           9          58           9          58\n",
       "1            2           1          59           1          59\n",
       "2            3           8          61          -5          -5\n",
       "3            4           8          62           8          62\n",
       "4            5           7          59           7          59"
      ]
     },
     "execution_count": 6,
     "metadata": {},
     "output_type": "execute_result"
    }
   ],
   "source": [
    "# read data\n",
    "dob_df = pd.read_csv('../data/dob.csv')\n",
    "dob_df.head()"
   ]
  },
  {
   "cell_type": "code",
   "execution_count": 7,
   "metadata": {},
   "outputs": [
    {
     "name": "stdout",
     "output_type": "stream",
     "text": [
      "0\n"
     ]
    }
   ],
   "source": [
    "#is there missing dob reported in 1979? NO\n",
    "missing79 = []\n",
    "for i, row in dob_df.iterrows():\n",
    "    if row['m_dob_1979']<=0 or row['y_dob_1979']<=0: \n",
    "        missing79.append(row)\n",
    "\n",
    "print len(missing79)"
   ]
  },
  {
   "cell_type": "code",
   "execution_count": 8,
   "metadata": {},
   "outputs": [
    {
     "name": "stdout",
     "output_type": "stream",
     "text": [
      "491 respondents had missing dob in 1981 survey\n",
      "263 respondents had valid, but different (from 1979) dob in 1981 survey\n"
     ]
    }
   ],
   "source": [
    "#verify if dob reported in 1979 is the same as dob reported in 1981\n",
    "diff= []\n",
    "missing81 = []\n",
    "for i, row in dob_df.iterrows():\n",
    "    if row['m_dob_1981']>0 and row['y_dob_1981']>0: #if it's valid dob in 1981\n",
    "        if row['m_dob_1979']!=row['m_dob_1981'] or row['y_dob_1979']!=row['y_dob_1981']:\n",
    "            diff.append(row)\n",
    "    else:\n",
    "        missing81.append(row)\n",
    "\n",
    "print '%s respondents had missing dob in 1981 survey'%len(missing81)\n",
    "print '%s respondents had valid, but different (from 1979) dob in 1981 survey'%len(diff)"
   ]
  },
  {
   "cell_type": "code",
   "execution_count": 9,
   "metadata": {},
   "outputs": [
    {
     "name": "stdout",
     "output_type": "stream",
     "text": [
      "1979 birth month | year | 1981 birth month | year\n",
      "[ 1 59 11 59]\n",
      "[11 63  9 63]\n",
      "[12 57 12 59]\n",
      "[ 9 62  9 63]\n",
      "[ 6 64  6 65]\n",
      "[ 6 57  7 57]\n",
      "[ 9 63  5 63]\n",
      "[ 9 58 11 58]\n",
      "[ 4 63  5 63]\n",
      "[ 3 60  4 60]\n",
      "[ 5 58  9 58]\n",
      "[ 3 63  7 62]\n",
      "[ 6 58  5 58]\n",
      "[ 7 64  4 64]\n",
      "[ 5 58  4 58]\n"
     ]
    }
   ],
   "source": [
    "# how are dob different in 1979 and 1981 (just show the first 15 cases)\n",
    "# show the first 15 cases\n",
    "\n",
    "i = 0\n",
    "print '1979 birth month | year | 1981 birth month | year'\n",
    "for row in diff:\n",
    "    print row.values[1:]\n",
    "    i += 1\n",
    "    \n",
    "    if i>=15:\n",
    "        break"
   ]
  },
  {
   "cell_type": "markdown",
   "metadata": {},
   "source": [
    "Some people reported different birth months and some reported different birth years. **DECISION: USE DOB REPORTED IN 1979.**"
   ]
  },
  {
   "cell_type": "code",
   "execution_count": 10,
   "metadata": {},
   "outputs": [
    {
     "data": {
      "text/plain": [
       "array([58, 59, 61, 62, 60, 64, 63, 57])"
      ]
     },
     "execution_count": 10,
     "metadata": {},
     "output_type": "execute_result"
    }
   ],
   "source": [
    "# use dob reported in 1979. What are the unique birth years present in the dataset?\n",
    "dob_df.y_dob_1979.unique()"
   ]
  },
  {
   "cell_type": "code",
   "execution_count": 11,
   "metadata": {},
   "outputs": [],
   "source": [
    "# add birth year and birth month\n",
    "sample_df = sample_df.merge(dob_df[['caseid_1979', 'y_dob_1979', 'm_dob_1979']], on='caseid_1979')\n",
    "\n",
    "# rename\n",
    "sample_df = sample_df.rename(index=str, columns={\"y_dob_1979\": \"y_dob\", \"m_dob_1979\":\"m_dob\"})"
   ]
  },
  {
   "cell_type": "code",
   "execution_count": 12,
   "metadata": {},
   "outputs": [],
   "source": [
    "# add 1900 to dob year\n",
    "sample_df.y_dob = sample_df.y_dob.map(lambda x: x+1900)"
   ]
  },
  {
   "cell_type": "code",
   "execution_count": 13,
   "metadata": {},
   "outputs": [
    {
     "data": {
      "text/html": [
       "<div>\n",
       "<style scoped>\n",
       "    .dataframe tbody tr th:only-of-type {\n",
       "        vertical-align: middle;\n",
       "    }\n",
       "\n",
       "    .dataframe tbody tr th {\n",
       "        vertical-align: top;\n",
       "    }\n",
       "\n",
       "    .dataframe thead th {\n",
       "        text-align: right;\n",
       "    }\n",
       "</style>\n",
       "<table border=\"1\" class=\"dataframe\">\n",
       "  <thead>\n",
       "    <tr style=\"text-align: right;\">\n",
       "      <th></th>\n",
       "      <th>caseid_1979</th>\n",
       "      <th>sample_id_1979</th>\n",
       "      <th>sample_race_1979</th>\n",
       "      <th>sample_sex_1979</th>\n",
       "      <th>c1dob_m_xrnd</th>\n",
       "      <th>c1dob_y_xrnd</th>\n",
       "      <th>c2dob_m_xrnd</th>\n",
       "      <th>c2dob_y_xrnd</th>\n",
       "      <th>c3dob_m_xrnd</th>\n",
       "      <th>c3dob_y_xrnd</th>\n",
       "      <th>...</th>\n",
       "      <th>c8dob_m_xrnd</th>\n",
       "      <th>c8dob_y_xrnd</th>\n",
       "      <th>c9dob_m_xrnd</th>\n",
       "      <th>c9dob_y_xrnd</th>\n",
       "      <th>c10dob_m_xrnd</th>\n",
       "      <th>c10dob_y_xrnd</th>\n",
       "      <th>c11dob_m_xrnd</th>\n",
       "      <th>c11dob_y_xrnd</th>\n",
       "      <th>y_dob</th>\n",
       "      <th>m_dob</th>\n",
       "    </tr>\n",
       "  </thead>\n",
       "  <tbody>\n",
       "    <tr>\n",
       "      <th>0</th>\n",
       "      <td>1</td>\n",
       "      <td>5</td>\n",
       "      <td>3</td>\n",
       "      <td>2</td>\n",
       "      <td>-4</td>\n",
       "      <td>-4</td>\n",
       "      <td>-4</td>\n",
       "      <td>-4</td>\n",
       "      <td>-4</td>\n",
       "      <td>-4</td>\n",
       "      <td>...</td>\n",
       "      <td>-4</td>\n",
       "      <td>-4</td>\n",
       "      <td>-4</td>\n",
       "      <td>-4</td>\n",
       "      <td>-4</td>\n",
       "      <td>-4</td>\n",
       "      <td>-4</td>\n",
       "      <td>-4</td>\n",
       "      <td>1958</td>\n",
       "      <td>9</td>\n",
       "    </tr>\n",
       "    <tr>\n",
       "      <th>1</th>\n",
       "      <td>2</td>\n",
       "      <td>5</td>\n",
       "      <td>3</td>\n",
       "      <td>2</td>\n",
       "      <td>3</td>\n",
       "      <td>1993</td>\n",
       "      <td>11</td>\n",
       "      <td>1994</td>\n",
       "      <td>-4</td>\n",
       "      <td>-4</td>\n",
       "      <td>...</td>\n",
       "      <td>-4</td>\n",
       "      <td>-4</td>\n",
       "      <td>-4</td>\n",
       "      <td>-4</td>\n",
       "      <td>-4</td>\n",
       "      <td>-4</td>\n",
       "      <td>-4</td>\n",
       "      <td>-4</td>\n",
       "      <td>1959</td>\n",
       "      <td>1</td>\n",
       "    </tr>\n",
       "    <tr>\n",
       "      <th>2</th>\n",
       "      <td>3</td>\n",
       "      <td>5</td>\n",
       "      <td>3</td>\n",
       "      <td>2</td>\n",
       "      <td>6</td>\n",
       "      <td>1981</td>\n",
       "      <td>10</td>\n",
       "      <td>1983</td>\n",
       "      <td>4</td>\n",
       "      <td>1986</td>\n",
       "      <td>...</td>\n",
       "      <td>-4</td>\n",
       "      <td>-4</td>\n",
       "      <td>-4</td>\n",
       "      <td>-4</td>\n",
       "      <td>-4</td>\n",
       "      <td>-4</td>\n",
       "      <td>-4</td>\n",
       "      <td>-4</td>\n",
       "      <td>1961</td>\n",
       "      <td>8</td>\n",
       "    </tr>\n",
       "    <tr>\n",
       "      <th>3</th>\n",
       "      <td>4</td>\n",
       "      <td>5</td>\n",
       "      <td>3</td>\n",
       "      <td>2</td>\n",
       "      <td>8</td>\n",
       "      <td>1980</td>\n",
       "      <td>3</td>\n",
       "      <td>1997</td>\n",
       "      <td>-4</td>\n",
       "      <td>-4</td>\n",
       "      <td>...</td>\n",
       "      <td>-4</td>\n",
       "      <td>-4</td>\n",
       "      <td>-4</td>\n",
       "      <td>-4</td>\n",
       "      <td>-4</td>\n",
       "      <td>-4</td>\n",
       "      <td>-4</td>\n",
       "      <td>-4</td>\n",
       "      <td>1962</td>\n",
       "      <td>8</td>\n",
       "    </tr>\n",
       "    <tr>\n",
       "      <th>4</th>\n",
       "      <td>8</td>\n",
       "      <td>6</td>\n",
       "      <td>3</td>\n",
       "      <td>2</td>\n",
       "      <td>3</td>\n",
       "      <td>1976</td>\n",
       "      <td>5</td>\n",
       "      <td>1979</td>\n",
       "      <td>9</td>\n",
       "      <td>1982</td>\n",
       "      <td>...</td>\n",
       "      <td>-4</td>\n",
       "      <td>-4</td>\n",
       "      <td>-4</td>\n",
       "      <td>-4</td>\n",
       "      <td>-4</td>\n",
       "      <td>-4</td>\n",
       "      <td>-4</td>\n",
       "      <td>-4</td>\n",
       "      <td>1958</td>\n",
       "      <td>7</td>\n",
       "    </tr>\n",
       "  </tbody>\n",
       "</table>\n",
       "<p>5 rows × 28 columns</p>\n",
       "</div>"
      ],
      "text/plain": [
       "   caseid_1979  sample_id_1979  sample_race_1979  sample_sex_1979  \\\n",
       "0            1               5                 3                2   \n",
       "1            2               5                 3                2   \n",
       "2            3               5                 3                2   \n",
       "3            4               5                 3                2   \n",
       "4            8               6                 3                2   \n",
       "\n",
       "   c1dob_m_xrnd  c1dob_y_xrnd  c2dob_m_xrnd  c2dob_y_xrnd  c3dob_m_xrnd  \\\n",
       "0            -4            -4            -4            -4            -4   \n",
       "1             3          1993            11          1994            -4   \n",
       "2             6          1981            10          1983             4   \n",
       "3             8          1980             3          1997            -4   \n",
       "4             3          1976             5          1979             9   \n",
       "\n",
       "   c3dob_y_xrnd  ...    c8dob_m_xrnd  c8dob_y_xrnd  c9dob_m_xrnd  \\\n",
       "0            -4  ...              -4            -4            -4   \n",
       "1            -4  ...              -4            -4            -4   \n",
       "2          1986  ...              -4            -4            -4   \n",
       "3            -4  ...              -4            -4            -4   \n",
       "4          1982  ...              -4            -4            -4   \n",
       "\n",
       "   c9dob_y_xrnd  c10dob_m_xrnd  c10dob_y_xrnd  c11dob_m_xrnd  c11dob_y_xrnd  \\\n",
       "0            -4             -4             -4             -4             -4   \n",
       "1            -4             -4             -4             -4             -4   \n",
       "2            -4             -4             -4             -4             -4   \n",
       "3            -4             -4             -4             -4             -4   \n",
       "4            -4             -4             -4             -4             -4   \n",
       "\n",
       "   y_dob  m_dob  \n",
       "0   1958      9  \n",
       "1   1959      1  \n",
       "2   1961      8  \n",
       "3   1962      8  \n",
       "4   1958      7  \n",
       "\n",
       "[5 rows x 28 columns]"
      ]
     },
     "execution_count": 13,
     "metadata": {},
     "output_type": "execute_result"
    }
   ],
   "source": [
    "sample_df.head()"
   ]
  },
  {
   "cell_type": "markdown",
   "metadata": {},
   "source": [
    "### Survey year and month"
   ]
  },
  {
   "cell_type": "code",
   "execution_count": 14,
   "metadata": {},
   "outputs": [
    {
     "data": {
      "text/html": [
       "<div>\n",
       "<style scoped>\n",
       "    .dataframe tbody tr th:only-of-type {\n",
       "        vertical-align: middle;\n",
       "    }\n",
       "\n",
       "    .dataframe tbody tr th {\n",
       "        vertical-align: top;\n",
       "    }\n",
       "\n",
       "    .dataframe thead th {\n",
       "        text-align: right;\n",
       "    }\n",
       "</style>\n",
       "<table border=\"1\" class=\"dataframe\">\n",
       "  <thead>\n",
       "    <tr style=\"text-align: right;\">\n",
       "      <th></th>\n",
       "      <th>caseid_1979</th>\n",
       "      <th>date_m_1979</th>\n",
       "      <th>date_d_1979</th>\n",
       "      <th>date_m_1980</th>\n",
       "      <th>date_d_1980</th>\n",
       "      <th>date_m_1981</th>\n",
       "      <th>date_d_1981</th>\n",
       "      <th>date_m_1982</th>\n",
       "      <th>date_d_1982</th>\n",
       "      <th>date_m_1983</th>\n",
       "      <th>...</th>\n",
       "      <th>date_y_2008</th>\n",
       "      <th>date_d_2010</th>\n",
       "      <th>date_m_2010</th>\n",
       "      <th>date_y_2010</th>\n",
       "      <th>date_d_2012</th>\n",
       "      <th>date_m_2012</th>\n",
       "      <th>date_y_2012</th>\n",
       "      <th>date_d_2014</th>\n",
       "      <th>date_m_2014</th>\n",
       "      <th>date_y_2014</th>\n",
       "    </tr>\n",
       "  </thead>\n",
       "  <tbody>\n",
       "    <tr>\n",
       "      <th>0</th>\n",
       "      <td>1</td>\n",
       "      <td>3</td>\n",
       "      <td>3</td>\n",
       "      <td>-5</td>\n",
       "      <td>-5</td>\n",
       "      <td>6</td>\n",
       "      <td>25</td>\n",
       "      <td>-5</td>\n",
       "      <td>-5</td>\n",
       "      <td>-5</td>\n",
       "      <td>...</td>\n",
       "      <td>-5</td>\n",
       "      <td>-5</td>\n",
       "      <td>-5</td>\n",
       "      <td>-5</td>\n",
       "      <td>-5</td>\n",
       "      <td>-5</td>\n",
       "      <td>-5</td>\n",
       "      <td>-5</td>\n",
       "      <td>-5</td>\n",
       "      <td>-5</td>\n",
       "    </tr>\n",
       "    <tr>\n",
       "      <th>1</th>\n",
       "      <td>2</td>\n",
       "      <td>2</td>\n",
       "      <td>28</td>\n",
       "      <td>3</td>\n",
       "      <td>3</td>\n",
       "      <td>2</td>\n",
       "      <td>23</td>\n",
       "      <td>2</td>\n",
       "      <td>6</td>\n",
       "      <td>2</td>\n",
       "      <td>...</td>\n",
       "      <td>2008</td>\n",
       "      <td>10</td>\n",
       "      <td>3</td>\n",
       "      <td>2010</td>\n",
       "      <td>3</td>\n",
       "      <td>12</td>\n",
       "      <td>2012</td>\n",
       "      <td>26</td>\n",
       "      <td>12</td>\n",
       "      <td>2014</td>\n",
       "    </tr>\n",
       "    <tr>\n",
       "      <th>2</th>\n",
       "      <td>3</td>\n",
       "      <td>2</td>\n",
       "      <td>8</td>\n",
       "      <td>5</td>\n",
       "      <td>20</td>\n",
       "      <td>-5</td>\n",
       "      <td>-5</td>\n",
       "      <td>3</td>\n",
       "      <td>11</td>\n",
       "      <td>3</td>\n",
       "      <td>...</td>\n",
       "      <td>2008</td>\n",
       "      <td>-5</td>\n",
       "      <td>-5</td>\n",
       "      <td>-5</td>\n",
       "      <td>19</td>\n",
       "      <td>3</td>\n",
       "      <td>2013</td>\n",
       "      <td>8</td>\n",
       "      <td>5</td>\n",
       "      <td>2015</td>\n",
       "    </tr>\n",
       "    <tr>\n",
       "      <th>3</th>\n",
       "      <td>4</td>\n",
       "      <td>2</td>\n",
       "      <td>8</td>\n",
       "      <td>-5</td>\n",
       "      <td>-5</td>\n",
       "      <td>3</td>\n",
       "      <td>24</td>\n",
       "      <td>3</td>\n",
       "      <td>3</td>\n",
       "      <td>1</td>\n",
       "      <td>...</td>\n",
       "      <td>-5</td>\n",
       "      <td>-5</td>\n",
       "      <td>-5</td>\n",
       "      <td>-5</td>\n",
       "      <td>-5</td>\n",
       "      <td>-5</td>\n",
       "      <td>-5</td>\n",
       "      <td>-5</td>\n",
       "      <td>-5</td>\n",
       "      <td>-5</td>\n",
       "    </tr>\n",
       "    <tr>\n",
       "      <th>4</th>\n",
       "      <td>5</td>\n",
       "      <td>4</td>\n",
       "      <td>19</td>\n",
       "      <td>4</td>\n",
       "      <td>3</td>\n",
       "      <td>3</td>\n",
       "      <td>12</td>\n",
       "      <td>3</td>\n",
       "      <td>1</td>\n",
       "      <td>4</td>\n",
       "      <td>...</td>\n",
       "      <td>-5</td>\n",
       "      <td>-5</td>\n",
       "      <td>-5</td>\n",
       "      <td>-5</td>\n",
       "      <td>-5</td>\n",
       "      <td>-5</td>\n",
       "      <td>-5</td>\n",
       "      <td>-5</td>\n",
       "      <td>-5</td>\n",
       "      <td>-5</td>\n",
       "    </tr>\n",
       "  </tbody>\n",
       "</table>\n",
       "<p>5 rows × 65 columns</p>\n",
       "</div>"
      ],
      "text/plain": [
       "   caseid_1979  date_m_1979  date_d_1979  date_m_1980  date_d_1980  \\\n",
       "0            1            3            3           -5           -5   \n",
       "1            2            2           28            3            3   \n",
       "2            3            2            8            5           20   \n",
       "3            4            2            8           -5           -5   \n",
       "4            5            4           19            4            3   \n",
       "\n",
       "   date_m_1981  date_d_1981  date_m_1982  date_d_1982  date_m_1983  \\\n",
       "0            6           25           -5           -5           -5   \n",
       "1            2           23            2            6            2   \n",
       "2           -5           -5            3           11            3   \n",
       "3            3           24            3            3            1   \n",
       "4            3           12            3            1            4   \n",
       "\n",
       "      ...       date_y_2008  date_d_2010  date_m_2010  date_y_2010  \\\n",
       "0     ...                -5           -5           -5           -5   \n",
       "1     ...              2008           10            3         2010   \n",
       "2     ...              2008           -5           -5           -5   \n",
       "3     ...                -5           -5           -5           -5   \n",
       "4     ...                -5           -5           -5           -5   \n",
       "\n",
       "   date_d_2012  date_m_2012  date_y_2012  date_d_2014  date_m_2014  \\\n",
       "0           -5           -5           -5           -5           -5   \n",
       "1            3           12         2012           26           12   \n",
       "2           19            3         2013            8            5   \n",
       "3           -5           -5           -5           -5           -5   \n",
       "4           -5           -5           -5           -5           -5   \n",
       "\n",
       "   date_y_2014  \n",
       "0           -5  \n",
       "1         2014  \n",
       "2         2015  \n",
       "3           -5  \n",
       "4           -5  \n",
       "\n",
       "[5 rows x 65 columns]"
      ]
     },
     "execution_count": 14,
     "metadata": {},
     "output_type": "execute_result"
    }
   ],
   "source": [
    "intdate_df = pd.read_csv('../data/int_date.csv')\n",
    "intdate_df.head()"
   ]
  },
  {
   "cell_type": "code",
   "execution_count": 15,
   "metadata": {},
   "outputs": [],
   "source": [
    "sample_df = sample_df.merge(intdate_df, on='caseid_1979')"
   ]
  },
  {
   "cell_type": "markdown",
   "metadata": {},
   "source": [
    "### Determine last valid year and deceased year from reasons for non-interview variables "
   ]
  },
  {
   "cell_type": "code",
   "execution_count": 16,
   "metadata": {},
   "outputs": [
    {
     "data": {
      "text/html": [
       "<div>\n",
       "<style scoped>\n",
       "    .dataframe tbody tr th:only-of-type {\n",
       "        vertical-align: middle;\n",
       "    }\n",
       "\n",
       "    .dataframe tbody tr th {\n",
       "        vertical-align: top;\n",
       "    }\n",
       "\n",
       "    .dataframe thead th {\n",
       "        text-align: right;\n",
       "    }\n",
       "</style>\n",
       "<table border=\"1\" class=\"dataframe\">\n",
       "  <thead>\n",
       "    <tr style=\"text-align: right;\">\n",
       "      <th></th>\n",
       "      <th>caseid_1979</th>\n",
       "      <th>rni_1980</th>\n",
       "      <th>rni_1981</th>\n",
       "      <th>rni_1982</th>\n",
       "      <th>rni_1983</th>\n",
       "      <th>rni_1984</th>\n",
       "      <th>rni_1985</th>\n",
       "      <th>rni_1986</th>\n",
       "      <th>rni_1987</th>\n",
       "      <th>rni_1988</th>\n",
       "      <th>...</th>\n",
       "      <th>rni_1996</th>\n",
       "      <th>rni_1998</th>\n",
       "      <th>rni_2000</th>\n",
       "      <th>rni_2002</th>\n",
       "      <th>rni_2004</th>\n",
       "      <th>rni_2006</th>\n",
       "      <th>rni_2008</th>\n",
       "      <th>rni_2010</th>\n",
       "      <th>rni_2012</th>\n",
       "      <th>rni_2014</th>\n",
       "    </tr>\n",
       "  </thead>\n",
       "  <tbody>\n",
       "    <tr>\n",
       "      <th>0</th>\n",
       "      <td>1</td>\n",
       "      <td>61</td>\n",
       "      <td>-4</td>\n",
       "      <td>61</td>\n",
       "      <td>61</td>\n",
       "      <td>61</td>\n",
       "      <td>61</td>\n",
       "      <td>61</td>\n",
       "      <td>61</td>\n",
       "      <td>61</td>\n",
       "      <td>...</td>\n",
       "      <td>61</td>\n",
       "      <td>61</td>\n",
       "      <td>61</td>\n",
       "      <td>61</td>\n",
       "      <td>61</td>\n",
       "      <td>61</td>\n",
       "      <td>61</td>\n",
       "      <td>61</td>\n",
       "      <td>61</td>\n",
       "      <td>61</td>\n",
       "    </tr>\n",
       "    <tr>\n",
       "      <th>1</th>\n",
       "      <td>2</td>\n",
       "      <td>-4</td>\n",
       "      <td>-4</td>\n",
       "      <td>-4</td>\n",
       "      <td>-4</td>\n",
       "      <td>-4</td>\n",
       "      <td>-4</td>\n",
       "      <td>-4</td>\n",
       "      <td>-4</td>\n",
       "      <td>-4</td>\n",
       "      <td>...</td>\n",
       "      <td>-4</td>\n",
       "      <td>-4</td>\n",
       "      <td>-4</td>\n",
       "      <td>-4</td>\n",
       "      <td>-4</td>\n",
       "      <td>-4</td>\n",
       "      <td>-4</td>\n",
       "      <td>-4</td>\n",
       "      <td>-4</td>\n",
       "      <td>-4</td>\n",
       "    </tr>\n",
       "    <tr>\n",
       "      <th>2</th>\n",
       "      <td>3</td>\n",
       "      <td>-4</td>\n",
       "      <td>61</td>\n",
       "      <td>-4</td>\n",
       "      <td>-4</td>\n",
       "      <td>-4</td>\n",
       "      <td>-4</td>\n",
       "      <td>-4</td>\n",
       "      <td>-4</td>\n",
       "      <td>-4</td>\n",
       "      <td>...</td>\n",
       "      <td>-4</td>\n",
       "      <td>-4</td>\n",
       "      <td>-4</td>\n",
       "      <td>-4</td>\n",
       "      <td>64</td>\n",
       "      <td>-4</td>\n",
       "      <td>-4</td>\n",
       "      <td>61</td>\n",
       "      <td>-4</td>\n",
       "      <td>-4</td>\n",
       "    </tr>\n",
       "    <tr>\n",
       "      <th>3</th>\n",
       "      <td>4</td>\n",
       "      <td>66</td>\n",
       "      <td>-4</td>\n",
       "      <td>-4</td>\n",
       "      <td>-4</td>\n",
       "      <td>-4</td>\n",
       "      <td>-4</td>\n",
       "      <td>-4</td>\n",
       "      <td>-4</td>\n",
       "      <td>-4</td>\n",
       "      <td>...</td>\n",
       "      <td>-4</td>\n",
       "      <td>-4</td>\n",
       "      <td>61</td>\n",
       "      <td>61</td>\n",
       "      <td>64</td>\n",
       "      <td>61</td>\n",
       "      <td>66</td>\n",
       "      <td>61</td>\n",
       "      <td>61</td>\n",
       "      <td>61</td>\n",
       "    </tr>\n",
       "    <tr>\n",
       "      <th>4</th>\n",
       "      <td>5</td>\n",
       "      <td>-4</td>\n",
       "      <td>-4</td>\n",
       "      <td>-4</td>\n",
       "      <td>-4</td>\n",
       "      <td>-4</td>\n",
       "      <td>61</td>\n",
       "      <td>-4</td>\n",
       "      <td>67</td>\n",
       "      <td>-4</td>\n",
       "      <td>...</td>\n",
       "      <td>61</td>\n",
       "      <td>61</td>\n",
       "      <td>61</td>\n",
       "      <td>72</td>\n",
       "      <td>61</td>\n",
       "      <td>61</td>\n",
       "      <td>61</td>\n",
       "      <td>61</td>\n",
       "      <td>61</td>\n",
       "      <td>61</td>\n",
       "    </tr>\n",
       "  </tbody>\n",
       "</table>\n",
       "<p>5 rows × 26 columns</p>\n",
       "</div>"
      ],
      "text/plain": [
       "   caseid_1979  rni_1980  rni_1981  rni_1982  rni_1983  rni_1984  rni_1985  \\\n",
       "0            1        61        -4        61        61        61        61   \n",
       "1            2        -4        -4        -4        -4        -4        -4   \n",
       "2            3        -4        61        -4        -4        -4        -4   \n",
       "3            4        66        -4        -4        -4        -4        -4   \n",
       "4            5        -4        -4        -4        -4        -4        61   \n",
       "\n",
       "   rni_1986  rni_1987  rni_1988    ...     rni_1996  rni_1998  rni_2000  \\\n",
       "0        61        61        61    ...           61        61        61   \n",
       "1        -4        -4        -4    ...           -4        -4        -4   \n",
       "2        -4        -4        -4    ...           -4        -4        -4   \n",
       "3        -4        -4        -4    ...           -4        -4        61   \n",
       "4        -4        67        -4    ...           61        61        61   \n",
       "\n",
       "   rni_2002  rni_2004  rni_2006  rni_2008  rni_2010  rni_2012  rni_2014  \n",
       "0        61        61        61        61        61        61        61  \n",
       "1        -4        -4        -4        -4        -4        -4        -4  \n",
       "2        -4        64        -4        -4        61        -4        -4  \n",
       "3        61        64        61        66        61        61        61  \n",
       "4        72        61        61        61        61        61        61  \n",
       "\n",
       "[5 rows x 26 columns]"
      ]
     },
     "execution_count": 16,
     "metadata": {},
     "output_type": "execute_result"
    }
   ],
   "source": [
    "#read reson-for-non-interview data\n",
    "rni_df = pd.read_csv('../data/reasonnonint.csv')\n",
    "rni_df.head()"
   ]
  },
  {
   "cell_type": "code",
   "execution_count": 17,
   "metadata": {},
   "outputs": [
    {
     "name": "stdout",
     "output_type": "stream",
     "text": [
      "296 respondents passed away during the period of study\n"
     ]
    }
   ],
   "source": [
    "#how many women decreased during the course of surveys?\n",
    "\n",
    "deceased = {} # dictionary to store {id: year deceased}\n",
    "\n",
    "sample = sample_df.caseid_1979.values.tolist() #save respondent Ids in a list \n",
    "\n",
    "for i in sample: #iterate through the sample\n",
    "    \n",
    "    #find the row in reason-noninterview dataframe that corresponds to the given id\n",
    "    row = rni_df[rni_df.caseid_1979==i].iloc[0]\n",
    "    \n",
    "    #get a list of rni values, not counting the first variable caseid\n",
    "    vals = row.values.tolist()[1:]\n",
    "  \n",
    "    if 65 in vals:\n",
    "        #derive death year from column name\n",
    "        col_name = row.index[vals.index(65)+1] #because vals is defined starting from index 1\n",
    "        deceased[i] = int(col_name[-4:]) \n",
    "        \n",
    "print '%s respondents passed away during the period of study'%len(deceased.keys())"
   ]
  },
  {
   "cell_type": "code",
   "execution_count": 18,
   "metadata": {},
   "outputs": [
    {
     "data": {
      "text/plain": [
       "[(1025, 2012),\n",
       " (3074, 2004),\n",
       " (4099, 2010),\n",
       " (1540, 2014),\n",
       " (4182, 2014),\n",
       " (7681, 2006),\n",
       " (1544, 2000),\n",
       " (6828, 2008),\n",
       " (5634, 2006),\n",
       " (1550, 1985)]"
      ]
     },
     "execution_count": 18,
     "metadata": {},
     "output_type": "execute_result"
    }
   ],
   "source": [
    "#for exmaple, in format (id, year decased)\n",
    "deceased.items()[:10]"
   ]
  },
  {
   "cell_type": "code",
   "execution_count": 19,
   "metadata": {},
   "outputs": [
    {
     "name": "stdout",
     "output_type": "stream",
     "text": [
      "1980 2014\n"
     ]
    },
    {
     "data": {
      "image/png": "[encoded data removed]",
      "text/plain": [
       "<Figure size 432x288 with 1 Axes>"
      ]
     },
     "metadata": {
      "needs_background": "light"
     },
     "output_type": "display_data"
    }
   ],
   "source": [
    "#distribution of the years in which respondents deceased\n",
    "print min(deceased.values()), max(deceased.values())\n",
    "plt.hist(deceased.values(), bins=30)\n",
    "plt.xlim(min(deceased.values()), max(deceased.values()))\n",
    "remove_border()"
   ]
  },
  {
   "cell_type": "code",
   "execution_count": 20,
   "metadata": {},
   "outputs": [
    {
     "data": {
      "text/html": [
       "<div>\n",
       "<style scoped>\n",
       "    .dataframe tbody tr th:only-of-type {\n",
       "        vertical-align: middle;\n",
       "    }\n",
       "\n",
       "    .dataframe tbody tr th {\n",
       "        vertical-align: top;\n",
       "    }\n",
       "\n",
       "    .dataframe thead th {\n",
       "        text-align: right;\n",
       "    }\n",
       "</style>\n",
       "<table border=\"1\" class=\"dataframe\">\n",
       "  <thead>\n",
       "    <tr style=\"text-align: right;\">\n",
       "      <th></th>\n",
       "      <th>caseid_1979</th>\n",
       "      <th>sample_id_1979</th>\n",
       "      <th>sample_race_1979</th>\n",
       "      <th>sample_sex_1979</th>\n",
       "      <th>c1dob_m_xrnd</th>\n",
       "      <th>c1dob_y_xrnd</th>\n",
       "      <th>c2dob_m_xrnd</th>\n",
       "      <th>c2dob_y_xrnd</th>\n",
       "      <th>c3dob_m_xrnd</th>\n",
       "      <th>c3dob_y_xrnd</th>\n",
       "      <th>...</th>\n",
       "      <th>date_d_2010</th>\n",
       "      <th>date_m_2010</th>\n",
       "      <th>date_y_2010</th>\n",
       "      <th>date_d_2012</th>\n",
       "      <th>date_m_2012</th>\n",
       "      <th>date_y_2012</th>\n",
       "      <th>date_d_2014</th>\n",
       "      <th>date_m_2014</th>\n",
       "      <th>date_y_2014</th>\n",
       "      <th>y_deceased</th>\n",
       "    </tr>\n",
       "  </thead>\n",
       "  <tbody>\n",
       "    <tr>\n",
       "      <th>0</th>\n",
       "      <td>1</td>\n",
       "      <td>5</td>\n",
       "      <td>3</td>\n",
       "      <td>2</td>\n",
       "      <td>-4</td>\n",
       "      <td>-4</td>\n",
       "      <td>-4</td>\n",
       "      <td>-4</td>\n",
       "      <td>-4</td>\n",
       "      <td>-4</td>\n",
       "      <td>...</td>\n",
       "      <td>-5</td>\n",
       "      <td>-5</td>\n",
       "      <td>-5</td>\n",
       "      <td>-5</td>\n",
       "      <td>-5</td>\n",
       "      <td>-5</td>\n",
       "      <td>-5</td>\n",
       "      <td>-5</td>\n",
       "      <td>-5</td>\n",
       "      <td>NaN</td>\n",
       "    </tr>\n",
       "    <tr>\n",
       "      <th>1</th>\n",
       "      <td>2</td>\n",
       "      <td>5</td>\n",
       "      <td>3</td>\n",
       "      <td>2</td>\n",
       "      <td>3</td>\n",
       "      <td>1993</td>\n",
       "      <td>11</td>\n",
       "      <td>1994</td>\n",
       "      <td>-4</td>\n",
       "      <td>-4</td>\n",
       "      <td>...</td>\n",
       "      <td>10</td>\n",
       "      <td>3</td>\n",
       "      <td>2010</td>\n",
       "      <td>3</td>\n",
       "      <td>12</td>\n",
       "      <td>2012</td>\n",
       "      <td>26</td>\n",
       "      <td>12</td>\n",
       "      <td>2014</td>\n",
       "      <td>NaN</td>\n",
       "    </tr>\n",
       "    <tr>\n",
       "      <th>2</th>\n",
       "      <td>3</td>\n",
       "      <td>5</td>\n",
       "      <td>3</td>\n",
       "      <td>2</td>\n",
       "      <td>6</td>\n",
       "      <td>1981</td>\n",
       "      <td>10</td>\n",
       "      <td>1983</td>\n",
       "      <td>4</td>\n",
       "      <td>1986</td>\n",
       "      <td>...</td>\n",
       "      <td>-5</td>\n",
       "      <td>-5</td>\n",
       "      <td>-5</td>\n",
       "      <td>19</td>\n",
       "      <td>3</td>\n",
       "      <td>2013</td>\n",
       "      <td>8</td>\n",
       "      <td>5</td>\n",
       "      <td>2015</td>\n",
       "      <td>NaN</td>\n",
       "    </tr>\n",
       "    <tr>\n",
       "      <th>3</th>\n",
       "      <td>4</td>\n",
       "      <td>5</td>\n",
       "      <td>3</td>\n",
       "      <td>2</td>\n",
       "      <td>8</td>\n",
       "      <td>1980</td>\n",
       "      <td>3</td>\n",
       "      <td>1997</td>\n",
       "      <td>-4</td>\n",
       "      <td>-4</td>\n",
       "      <td>...</td>\n",
       "      <td>-5</td>\n",
       "      <td>-5</td>\n",
       "      <td>-5</td>\n",
       "      <td>-5</td>\n",
       "      <td>-5</td>\n",
       "      <td>-5</td>\n",
       "      <td>-5</td>\n",
       "      <td>-5</td>\n",
       "      <td>-5</td>\n",
       "      <td>NaN</td>\n",
       "    </tr>\n",
       "    <tr>\n",
       "      <th>4</th>\n",
       "      <td>8</td>\n",
       "      <td>6</td>\n",
       "      <td>3</td>\n",
       "      <td>2</td>\n",
       "      <td>3</td>\n",
       "      <td>1976</td>\n",
       "      <td>5</td>\n",
       "      <td>1979</td>\n",
       "      <td>9</td>\n",
       "      <td>1982</td>\n",
       "      <td>...</td>\n",
       "      <td>20</td>\n",
       "      <td>12</td>\n",
       "      <td>2009</td>\n",
       "      <td>8</td>\n",
       "      <td>10</td>\n",
       "      <td>2012</td>\n",
       "      <td>6</td>\n",
       "      <td>1</td>\n",
       "      <td>2015</td>\n",
       "      <td>NaN</td>\n",
       "    </tr>\n",
       "  </tbody>\n",
       "</table>\n",
       "<p>5 rows × 93 columns</p>\n",
       "</div>"
      ],
      "text/plain": [
       "   caseid_1979  sample_id_1979  sample_race_1979  sample_sex_1979  \\\n",
       "0            1               5                 3                2   \n",
       "1            2               5                 3                2   \n",
       "2            3               5                 3                2   \n",
       "3            4               5                 3                2   \n",
       "4            8               6                 3                2   \n",
       "\n",
       "   c1dob_m_xrnd  c1dob_y_xrnd  c2dob_m_xrnd  c2dob_y_xrnd  c3dob_m_xrnd  \\\n",
       "0            -4            -4            -4            -4            -4   \n",
       "1             3          1993            11          1994            -4   \n",
       "2             6          1981            10          1983             4   \n",
       "3             8          1980             3          1997            -4   \n",
       "4             3          1976             5          1979             9   \n",
       "\n",
       "   c3dob_y_xrnd     ...      date_d_2010  date_m_2010  date_y_2010  \\\n",
       "0            -4     ...               -5           -5           -5   \n",
       "1            -4     ...               10            3         2010   \n",
       "2          1986     ...               -5           -5           -5   \n",
       "3            -4     ...               -5           -5           -5   \n",
       "4          1982     ...               20           12         2009   \n",
       "\n",
       "   date_d_2012  date_m_2012  date_y_2012  date_d_2014  date_m_2014  \\\n",
       "0           -5           -5           -5           -5           -5   \n",
       "1            3           12         2012           26           12   \n",
       "2           19            3         2013            8            5   \n",
       "3           -5           -5           -5           -5           -5   \n",
       "4            8           10         2012            6            1   \n",
       "\n",
       "   date_y_2014  y_deceased  \n",
       "0           -5         NaN  \n",
       "1         2014         NaN  \n",
       "2         2015         NaN  \n",
       "3           -5         NaN  \n",
       "4         2015         NaN  \n",
       "\n",
       "[5 rows x 93 columns]"
      ]
     },
     "execution_count": 20,
     "metadata": {},
     "output_type": "execute_result"
    }
   ],
   "source": [
    "#add column year of death\n",
    "sample_df['y_deceased'] = [deceased.get(i) for i in sample]\n",
    "sample_df.head()"
   ]
  },
  {
   "cell_type": "code",
   "execution_count": 21,
   "metadata": {},
   "outputs": [
    {
     "name": "stdout",
     "output_type": "stream",
     "text": [
      "set([1979, 1980, 1981, 1982, 1983, 1984, 1985, 1986, 1987, 1988, 1989, 1990, 1991, 1992, 1993, 1994, 1996, 1998, 2000, 2002, 2004, 2006, 2008, 2010, 2012, 2014])\n"
     ]
    }
   ],
   "source": [
    "#determine last valid year\n",
    "#last valid year is the year after which all rni stopped being -4\n",
    "#-4 means the respondent was valid skip, i.e. interviewed\n",
    "last_yr = []\n",
    "\n",
    "for i in sample: #iterate through the sample\n",
    "\n",
    "    #find the row in reason-noninterview dataframe that corresponds to the given id\n",
    "    row = rni_df[rni_df.caseid_1979==i].iloc[0]\n",
    "    \n",
    "    # remove the first variable caseid_1979\n",
    "    vals = row.values.tolist()[1:] \n",
    "    \n",
    "    # find the last index -4 appeared\n",
    "    if not -4 in vals: # respondent stopped participating since 1980, so last valid year is 1979\n",
    "        last_yr.append(1979)\n",
    "        \n",
    "    else:\n",
    "        last_ind = len(vals) - 1 - vals[::-1].index(-4) # last index at which -4 appeared\n",
    "        \n",
    "        #get the survey year from the variable name\n",
    "        col_name = row.index[last_ind+1] # +1 because first variable caseid_1979\n",
    "        last_yr.append(int(col_name[-4:]))\n",
    "    \n",
    "    \n",
    "print set(last_yr)"
   ]
  },
  {
   "cell_type": "code",
   "execution_count": 22,
   "metadata": {},
   "outputs": [
    {
     "data": {
      "text/html": [
       "<div>\n",
       "<style scoped>\n",
       "    .dataframe tbody tr th:only-of-type {\n",
       "        vertical-align: middle;\n",
       "    }\n",
       "\n",
       "    .dataframe tbody tr th {\n",
       "        vertical-align: top;\n",
       "    }\n",
       "\n",
       "    .dataframe thead th {\n",
       "        text-align: right;\n",
       "    }\n",
       "</style>\n",
       "<table border=\"1\" class=\"dataframe\">\n",
       "  <thead>\n",
       "    <tr style=\"text-align: right;\">\n",
       "      <th></th>\n",
       "      <th>caseid_1979</th>\n",
       "      <th>sample_id_1979</th>\n",
       "      <th>sample_race_1979</th>\n",
       "      <th>sample_sex_1979</th>\n",
       "      <th>c1dob_m_xrnd</th>\n",
       "      <th>c1dob_y_xrnd</th>\n",
       "      <th>c2dob_m_xrnd</th>\n",
       "      <th>c2dob_y_xrnd</th>\n",
       "      <th>c3dob_m_xrnd</th>\n",
       "      <th>c3dob_y_xrnd</th>\n",
       "      <th>...</th>\n",
       "      <th>date_m_2010</th>\n",
       "      <th>date_y_2010</th>\n",
       "      <th>date_d_2012</th>\n",
       "      <th>date_m_2012</th>\n",
       "      <th>date_y_2012</th>\n",
       "      <th>date_d_2014</th>\n",
       "      <th>date_m_2014</th>\n",
       "      <th>date_y_2014</th>\n",
       "      <th>y_deceased</th>\n",
       "      <th>last_yr</th>\n",
       "    </tr>\n",
       "  </thead>\n",
       "  <tbody>\n",
       "    <tr>\n",
       "      <th>0</th>\n",
       "      <td>1</td>\n",
       "      <td>5</td>\n",
       "      <td>3</td>\n",
       "      <td>2</td>\n",
       "      <td>-4</td>\n",
       "      <td>-4</td>\n",
       "      <td>-4</td>\n",
       "      <td>-4</td>\n",
       "      <td>-4</td>\n",
       "      <td>-4</td>\n",
       "      <td>...</td>\n",
       "      <td>-5</td>\n",
       "      <td>-5</td>\n",
       "      <td>-5</td>\n",
       "      <td>-5</td>\n",
       "      <td>-5</td>\n",
       "      <td>-5</td>\n",
       "      <td>-5</td>\n",
       "      <td>-5</td>\n",
       "      <td>NaN</td>\n",
       "      <td>1981</td>\n",
       "    </tr>\n",
       "    <tr>\n",
       "      <th>1</th>\n",
       "      <td>2</td>\n",
       "      <td>5</td>\n",
       "      <td>3</td>\n",
       "      <td>2</td>\n",
       "      <td>3</td>\n",
       "      <td>1993</td>\n",
       "      <td>11</td>\n",
       "      <td>1994</td>\n",
       "      <td>-4</td>\n",
       "      <td>-4</td>\n",
       "      <td>...</td>\n",
       "      <td>3</td>\n",
       "      <td>2010</td>\n",
       "      <td>3</td>\n",
       "      <td>12</td>\n",
       "      <td>2012</td>\n",
       "      <td>26</td>\n",
       "      <td>12</td>\n",
       "      <td>2014</td>\n",
       "      <td>NaN</td>\n",
       "      <td>2014</td>\n",
       "    </tr>\n",
       "    <tr>\n",
       "      <th>2</th>\n",
       "      <td>3</td>\n",
       "      <td>5</td>\n",
       "      <td>3</td>\n",
       "      <td>2</td>\n",
       "      <td>6</td>\n",
       "      <td>1981</td>\n",
       "      <td>10</td>\n",
       "      <td>1983</td>\n",
       "      <td>4</td>\n",
       "      <td>1986</td>\n",
       "      <td>...</td>\n",
       "      <td>-5</td>\n",
       "      <td>-5</td>\n",
       "      <td>19</td>\n",
       "      <td>3</td>\n",
       "      <td>2013</td>\n",
       "      <td>8</td>\n",
       "      <td>5</td>\n",
       "      <td>2015</td>\n",
       "      <td>NaN</td>\n",
       "      <td>2014</td>\n",
       "    </tr>\n",
       "    <tr>\n",
       "      <th>3</th>\n",
       "      <td>4</td>\n",
       "      <td>5</td>\n",
       "      <td>3</td>\n",
       "      <td>2</td>\n",
       "      <td>8</td>\n",
       "      <td>1980</td>\n",
       "      <td>3</td>\n",
       "      <td>1997</td>\n",
       "      <td>-4</td>\n",
       "      <td>-4</td>\n",
       "      <td>...</td>\n",
       "      <td>-5</td>\n",
       "      <td>-5</td>\n",
       "      <td>-5</td>\n",
       "      <td>-5</td>\n",
       "      <td>-5</td>\n",
       "      <td>-5</td>\n",
       "      <td>-5</td>\n",
       "      <td>-5</td>\n",
       "      <td>NaN</td>\n",
       "      <td>1998</td>\n",
       "    </tr>\n",
       "    <tr>\n",
       "      <th>4</th>\n",
       "      <td>8</td>\n",
       "      <td>6</td>\n",
       "      <td>3</td>\n",
       "      <td>2</td>\n",
       "      <td>3</td>\n",
       "      <td>1976</td>\n",
       "      <td>5</td>\n",
       "      <td>1979</td>\n",
       "      <td>9</td>\n",
       "      <td>1982</td>\n",
       "      <td>...</td>\n",
       "      <td>12</td>\n",
       "      <td>2009</td>\n",
       "      <td>8</td>\n",
       "      <td>10</td>\n",
       "      <td>2012</td>\n",
       "      <td>6</td>\n",
       "      <td>1</td>\n",
       "      <td>2015</td>\n",
       "      <td>NaN</td>\n",
       "      <td>2014</td>\n",
       "    </tr>\n",
       "  </tbody>\n",
       "</table>\n",
       "<p>5 rows × 94 columns</p>\n",
       "</div>"
      ],
      "text/plain": [
       "   caseid_1979  sample_id_1979  sample_race_1979  sample_sex_1979  \\\n",
       "0            1               5                 3                2   \n",
       "1            2               5                 3                2   \n",
       "2            3               5                 3                2   \n",
       "3            4               5                 3                2   \n",
       "4            8               6                 3                2   \n",
       "\n",
       "   c1dob_m_xrnd  c1dob_y_xrnd  c2dob_m_xrnd  c2dob_y_xrnd  c3dob_m_xrnd  \\\n",
       "0            -4            -4            -4            -4            -4   \n",
       "1             3          1993            11          1994            -4   \n",
       "2             6          1981            10          1983             4   \n",
       "3             8          1980             3          1997            -4   \n",
       "4             3          1976             5          1979             9   \n",
       "\n",
       "   c3dob_y_xrnd   ...     date_m_2010  date_y_2010  date_d_2012  date_m_2012  \\\n",
       "0            -4   ...              -5           -5           -5           -5   \n",
       "1            -4   ...               3         2010            3           12   \n",
       "2          1986   ...              -5           -5           19            3   \n",
       "3            -4   ...              -5           -5           -5           -5   \n",
       "4          1982   ...              12         2009            8           10   \n",
       "\n",
       "   date_y_2012  date_d_2014  date_m_2014  date_y_2014  y_deceased  last_yr  \n",
       "0           -5           -5           -5           -5         NaN     1981  \n",
       "1         2012           26           12         2014         NaN     2014  \n",
       "2         2013            8            5         2015         NaN     2014  \n",
       "3           -5           -5           -5           -5         NaN     1998  \n",
       "4         2012            6            1         2015         NaN     2014  \n",
       "\n",
       "[5 rows x 94 columns]"
      ]
     },
     "execution_count": 22,
     "metadata": {},
     "output_type": "execute_result"
    }
   ],
   "source": [
    "#add last valid year as a new column to sample_df\n",
    "sample_df['last_yr'] = last_yr\n",
    "sample_df.head()"
   ]
  },
  {
   "cell_type": "code",
   "execution_count": 23,
   "metadata": {},
   "outputs": [
    {
     "data": {
      "text/plain": [
       "2014    3656\n",
       "2012     234\n",
       "2010     149\n",
       "2008     114\n",
       "1998      99\n",
       "2000      93\n",
       "2004      75\n",
       "2002      69\n",
       "2006      61\n",
       "1996      52\n",
       "1994      52\n",
       "1993      37\n",
       "1989      26\n",
       "1988      23\n",
       "1991      23\n",
       "1979      23\n",
       "1987      18\n",
       "1990      18\n",
       "1992      18\n",
       "1983      18\n",
       "1984      18\n",
       "1985      13\n",
       "1982      12\n",
       "1986      12\n",
       "1981       7\n",
       "1980       6\n",
       "Name: last_yr, dtype: int64"
      ]
     },
     "execution_count": 23,
     "metadata": {},
     "output_type": "execute_result"
    }
   ],
   "source": [
    "#distribution of last valid year\n",
    "sample_df.last_yr.value_counts()"
   ]
  },
  {
   "cell_type": "code",
   "execution_count": 24,
   "metadata": {},
   "outputs": [
    {
     "data": {
      "text/plain": [
       "False    4396\n",
       "True      530\n",
       "Name: attr_before40, dtype: int64"
      ]
     },
     "execution_count": 24,
     "metadata": {},
     "output_type": "execute_result"
    }
   ],
   "source": [
    "def attr_before40(row):\n",
    "    \"\"\"\n",
    "    Return True if respondent left study before turning age 40.\n",
    "    Return False otherwise. \n",
    "    \n",
    "    NEW: determined using month\n",
    "    \"\"\"\n",
    "    \n",
    "    # it's last valid year, so everyone has a valid interview month in the year\n",
    "    if row['last_yr'] < 1993:\n",
    "        last_survey_dt = datetime.datetime(int(row['last_yr']), int(row['date_m_%s'%int(row['last_yr'])]), 1)\n",
    "    else:\n",
    "        y = int(row['date_y_%s'%int(row['last_yr'])])\n",
    "        if y < 1900:\n",
    "            y += 1900\n",
    "        last_survey_dt = datetime.datetime(y, int(row['date_m_%s'%int(row['last_yr'])]), 1)\n",
    "        \n",
    "    birth_dt = datetime.datetime(int(row['y_dob']), int(row['m_dob']), 1)\n",
    "    diff_in_years = relativedelta(last_survey_dt, birth_dt).years\n",
    "    return (diff_in_years < 40)\n",
    "\n",
    "sample_df['attr_before40'] = sample_df.apply(attr_before40, axis=1)\n",
    "sample_df.attr_before40.value_counts()"
   ]
  },
  {
   "cell_type": "code",
   "execution_count": 25,
   "metadata": {},
   "outputs": [
    {
     "data": {
      "text/plain": [
       "False    4846\n",
       "True       80\n",
       "Name: deceased_before40, dtype: int64"
      ]
     },
     "execution_count": 25,
     "metadata": {},
     "output_type": "execute_result"
    }
   ],
   "source": [
    "# there is no month for deceased date. it is always -5\n",
    "# I don't think it helps to look at the interview date from the previous survey wave \n",
    "# because we'll get the same result from year alone\n",
    "\n",
    "def deceased_before40(row):\n",
    "    \"\"\"Return True if respondent deceased before age 40.\"\"\"\n",
    "    \n",
    "    if not np.isnan(row['y_deceased']): #if respondent deceased\n",
    "        return row['y_deceased'] < row['y_dob']+40\n",
    "    return False\n",
    "\n",
    "sample_df['deceased_before40'] = sample_df.apply(deceased_before40, axis=1)\n",
    "sample_df.deceased_before40.value_counts()"
   ]
  },
  {
   "cell_type": "markdown",
   "metadata": {},
   "source": [
    "### Categories of respondents"
   ]
  },
  {
   "cell_type": "code",
   "execution_count": 26,
   "metadata": {},
   "outputs": [
    {
     "name": "stdout",
     "output_type": "stream",
     "text": [
      "4926\n"
     ]
    }
   ],
   "source": [
    "#total number of female respondents\n",
    "print sample_df.shape[0]"
   ]
  },
  {
   "cell_type": "code",
   "execution_count": 27,
   "metadata": {},
   "outputs": [
    {
     "name": "stdout",
     "output_type": "stream",
     "text": [
      "defaultdict(<type 'int'>, {'not attr, not deceased': 4396, 'attr, not deceased': 450, 'attr, deceased': 80})\n"
     ]
    }
   ],
   "source": [
    "count = defaultdict(int)\n",
    "\n",
    "for i, row in sample_df.iterrows():\n",
    "    \n",
    "    if row['attr_before40']==True and row['deceased_before40']==True:\n",
    "        count['attr, deceased'] += 1\n",
    "        \n",
    "    elif row['attr_before40']==True and row['deceased_before40']==False:\n",
    "        count['attr, not deceased'] += 1\n",
    "        \n",
    "    elif row['attr_before40']==False and row['deceased_before40']==True: # impossible\n",
    "        count['not attr, deceased'] += 1\n",
    "        \n",
    "    elif row['attr_before40']==False and row['deceased_before40']==False:\n",
    "        count['not attr, not deceased'] += 1\n",
    "        \n",
    "print count"
   ]
  },
  {
   "cell_type": "code",
   "execution_count": 28,
   "metadata": {},
   "outputs": [
    {
     "name": "stdout",
     "output_type": "stream",
     "text": [
      "692\n",
      "692\n"
     ]
    }
   ],
   "source": [
    "#how many childless women who are observed through age 40?\n",
    "#these women remained childless until the end of their reproductive years\n",
    "\n",
    "print sample_df[(sample_df.c1dob_y_xrnd==-4)&(sample_df.attr_before40==False)].shape[0]\n",
    "print sample_df[(sample_df.c1dob_y_xrnd==-4)&(sample_df.attr_before40==False)&(sample_df.deceased_before40==False)].shape[0]"
   ]
  },
  {
   "cell_type": "code",
   "execution_count": 29,
   "metadata": {},
   "outputs": [],
   "source": [
    "df = sample_df[(sample_df.c1dob_y_xrnd==-4)&(sample_df.attr_before40==False)]\n",
    "df.to_csv('../data/childless_df.csv', index=False)"
   ]
  },
  {
   "cell_type": "code",
   "execution_count": 30,
   "metadata": {},
   "outputs": [
    {
     "name": "stdout",
     "output_type": "stream",
     "text": [
      "35\n"
     ]
    }
   ],
   "source": [
    "#childless women who deceased before age 40\n",
    "#These women could have had children, but were unobserved\n",
    "\n",
    "#We need to find whether the women remained childless until the end of their reproductive years or their death, \n",
    "#whichever came first \n",
    " \n",
    "print sample_df[(sample_df.c1dob_y_xrnd==-4)&(sample_df.deceased_before40==True)].shape[0]"
   ]
  },
  {
   "cell_type": "code",
   "execution_count": 31,
   "metadata": {},
   "outputs": [],
   "source": [
    "def decease_before_child14(row):\n",
    "    \"\"\"\n",
    "    Return True if respondent deceased before her first child turned age 14.\n",
    "    Return False otherwise. \n",
    "    \"\"\"\n",
    "    \n",
    "    if row['c1dob_y_xrnd'] == -4: #no child\n",
    "        return False\n",
    "    elif not np.isnan(row['y_deceased']):\n",
    "        return row['y_deceased'] < row['c1dob_y_xrnd']+14\n",
    "    return False\n",
    "\n",
    "sample_df['deceased_child14'] = sample_df.apply(decease_before_child14, axis=1)"
   ]
  },
  {
   "cell_type": "code",
   "execution_count": 32,
   "metadata": {},
   "outputs": [],
   "source": [
    "def decease_before_child18(row):\n",
    "    \"\"\"\n",
    "    Return True if respondent deceased before her first child turned age 18.\n",
    "    Return False otherwise. \n",
    "    \"\"\"\n",
    "    \n",
    "    if row['c1dob_y_xrnd'] == -4: #no child\n",
    "        return False\n",
    "    elif not np.isnan(row['y_deceased']):\n",
    "        return row['y_deceased'] < row['c1dob_y_xrnd']+18\n",
    "    return False\n",
    "\n",
    "sample_df['deceased_child18'] = sample_df.apply(decease_before_child18, axis=1)"
   ]
  },
  {
   "cell_type": "code",
   "execution_count": 33,
   "metadata": {},
   "outputs": [
    {
     "data": {
      "text/plain": [
       "False    4872\n",
       "True       54\n",
       "Name: deceased_child18, dtype: int64"
      ]
     },
     "execution_count": 33,
     "metadata": {},
     "output_type": "execute_result"
    }
   ],
   "source": [
    "sample_df.deceased_child18.value_counts()"
   ]
  },
  {
   "cell_type": "code",
   "execution_count": 34,
   "metadata": {},
   "outputs": [
    {
     "data": {
      "text/plain": [
       "False    4885\n",
       "True       41\n",
       "Name: deceased_child14, dtype: int64"
      ]
     },
     "execution_count": 34,
     "metadata": {},
     "output_type": "execute_result"
    }
   ],
   "source": [
    "sample_df.deceased_child14.value_counts()"
   ]
  },
  {
   "cell_type": "code",
   "execution_count": 35,
   "metadata": {},
   "outputs": [
    {
     "data": {
      "text/plain": [
       "54"
      ]
     },
     "execution_count": 35,
     "metadata": {},
     "output_type": "execute_result"
    }
   ],
   "source": [
    "#mothers who deceased before child turned 18\n",
    "sample_df[(sample_df.c1dob_m_xrnd>0)&(sample_df.deceased_child18==True)].shape[0]"
   ]
  },
  {
   "cell_type": "code",
   "execution_count": 36,
   "metadata": {},
   "outputs": [
    {
     "name": "stdout",
     "output_type": "stream",
     "text": [
      "(4145, 98)\n"
     ]
    }
   ],
   "source": [
    "#the following respondents should be excluded from the denominator when calculating missing cases:\n",
    "# - respondents who remained childless and were observed until the end of their reproduction years (age 40)\n",
    "# - respondents who were childless and died before age 40\n",
    "# - respondents who had children and died before child turned age 18\n",
    "\n",
    "to_drop = sample_df[(sample_df.c1dob_y_xrnd==-4)&(sample_df.attr_before40==False)]['caseid_1979'].values.tolist() \\\n",
    "            + sample_df[(sample_df.c1dob_y_xrnd==-4)&(sample_df.deceased_before40==True)]['caseid_1979'].values.tolist() \\\n",
    "            + sample_df[(sample_df.c1dob_m_xrnd>0)&(sample_df.deceased_child18==True)]['caseid_1979'].values.tolist()\n",
    "\n",
    "#denominator sample dataframe\n",
    "denom_df = sample_df[~sample_df.caseid_1979.isin(to_drop)]\n",
    "print denom_df.shape"
   ]
  },
  {
   "cell_type": "markdown",
   "metadata": {},
   "source": [
    "## Construct Extended Sample"
   ]
  },
  {
   "cell_type": "code",
   "execution_count": 37,
   "metadata": {},
   "outputs": [
    {
     "data": {
      "text/plain": [
       "array([  -4, 1993, 1981, 1980, 1976, 1983, 1989, 1990, 1987, 1988, 1982,\n",
       "       1994, 1985, 1979, 1996, 1977, 1986, 1992, 1991, 1978, 1984, 1999,\n",
       "       1995, 1975, 1974, 1998, 1973, 1997, 1971, 2002, 2001, 2007, 2003,\n",
       "       2006, 1972, 2004, 2000, 2005, 2011, 1970])"
      ]
     },
     "execution_count": 37,
     "metadata": {},
     "output_type": "execute_result"
    }
   ],
   "source": [
    "#the birth year of first birth present in target population \n",
    "denom_df.c1dob_y_xrnd.unique()"
   ]
  },
  {
   "cell_type": "code",
   "execution_count": 38,
   "metadata": {},
   "outputs": [
    {
     "name": "stderr",
     "output_type": "stream",
     "text": [
      "/Users/xzhuo/anaconda3/envs/py27/lib/python2.7/site-packages/ipykernel_launcher.py:28: SettingWithCopyWarning: \n",
      "A value is trying to be set on a copy of a slice from a DataFrame.\n",
      "Try using .loc[row_indexer,col_indexer] = value instead\n",
      "\n",
      "See the caveats in the documentation: http://pandas.pydata.org/pandas-docs/stable/indexing.html#indexing-view-versus-copy\n"
     ]
    },
    {
     "data": {
      "text/plain": [
       "False    4012\n",
       "True      133\n",
       "Name: too_late, dtype: int64"
      ]
     },
     "execution_count": 38,
     "metadata": {},
     "output_type": "execute_result"
    }
   ],
   "source": [
    "#number of women who had first birth too late - < 216 months observed\n",
    "#too late - because we can't observe 18 years of sequences after first childbirth\n",
    "\n",
    "def is_too_late(row):\n",
    "    \"\"\"\n",
    "    Return True if respondent had birth, but too late -\n",
    "    < 216 months observed. \n",
    "    \n",
    "    For example, a mother who gave birth in 1998, and attrited by 2000 is classified as attriter \n",
    "    (return True by attr_before_child216), not as too late.\n",
    "    \"\"\"\n",
    "    if row['c1dob_y_xrnd'] < 0:\n",
    "        return False\n",
    "    \n",
    "    # it's last valid year, so everyone has a valid interview month in the year\n",
    "    if row['last_yr'] < 1993:\n",
    "        last_survey_dt = datetime.datetime(int(row['last_yr']), int(row['date_m_%s'%int(row['last_yr'])]), 1)\n",
    "    else:\n",
    "        y = int(row['date_y_%s'%int(row['last_yr'])])\n",
    "        if y < 1900:\n",
    "            y += 1900\n",
    "        last_survey_dt = datetime.datetime(y, int(row['date_m_%s'%int(row['last_yr'])]), 1)\n",
    "     \n",
    "    child_birth_dt = datetime.datetime(int(row['c1dob_y_xrnd']), int(row['c1dob_m_xrnd']), 1)\n",
    "    diff_in_m = relativedelta(last_survey_dt, child_birth_dt).months + relativedelta(last_survey_dt, child_birth_dt).years*12\n",
    "    return (diff_in_m < 216 and row['last_yr'] >= 2014)\n",
    "\n",
    "denom_df['too_late'] = denom_df.apply(is_too_late, axis=1)\n",
    "denom_df.too_late.value_counts()"
   ]
  },
  {
   "cell_type": "code",
   "execution_count": 39,
   "metadata": {},
   "outputs": [
    {
     "data": {
      "text/plain": [
       "False    0.967913\n",
       "True     0.032087\n",
       "Name: too_late, dtype: float64"
      ]
     },
     "execution_count": 39,
     "metadata": {},
     "output_type": "execute_result"
    }
   ],
   "source": [
    "denom_df.too_late.value_counts(normalize=True)"
   ]
  },
  {
   "cell_type": "code",
   "execution_count": 40,
   "metadata": {},
   "outputs": [
    {
     "name": "stdout",
     "output_type": "stream",
     "text": [
      "172\n",
      "0.0414957780458\n"
     ]
    }
   ],
   "source": [
    "#women who never had children and attrited at some point before they turned 40 - end of reproductive years\n",
    "childless_df = denom_df[denom_df.c1dob_y_xrnd==-4]\n",
    "print childless_df.shape[0]\n",
    "print childless_df.shape[0]/float(denom_df.shape[0])"
   ]
  },
  {
   "cell_type": "code",
   "execution_count": 41,
   "metadata": {},
   "outputs": [
    {
     "data": {
      "text/plain": [
       "True    172\n",
       "Name: attr_before40, dtype: int64"
      ]
     },
     "execution_count": 41,
     "metadata": {},
     "output_type": "execute_result"
    }
   ],
   "source": [
    "childless_df.attr_before40.value_counts()"
   ]
  },
  {
   "cell_type": "code",
   "execution_count": 42,
   "metadata": {},
   "outputs": [
    {
     "name": "stderr",
     "output_type": "stream",
     "text": [
      "/Users/xzhuo/anaconda3/envs/py27/lib/python2.7/site-packages/ipykernel_launcher.py:29: SettingWithCopyWarning: \n",
      "A value is trying to be set on a copy of a slice from a DataFrame.\n",
      "Try using .loc[row_indexer,col_indexer] = value instead\n",
      "\n",
      "See the caveats in the documentation: http://pandas.pydata.org/pandas-docs/stable/indexing.html#indexing-view-versus-copy\n"
     ]
    },
    {
     "data": {
      "text/plain": [
       "False    3770\n",
       "True      375\n",
       "Name: attr_child18, dtype: int64"
      ]
     },
     "execution_count": 42,
     "metadata": {},
     "output_type": "execute_result"
    }
   ],
   "source": [
    "#whether respondents attrited the study before first child turning 18\n",
    "\n",
    "def attr_before_child216(row):\n",
    "    \"\"\"\n",
    "    Return True if respondent left study before her first child turned age 18 (216 months after birth).\n",
    "    Return False otherwise. \n",
    "\n",
    "    NEW: determined using month\n",
    "    \"\"\"\n",
    "    \n",
    "    if row['c1dob_y_xrnd'] < 0:\n",
    "        return False\n",
    "    \n",
    "    # it's last valid year, so everyone has a valid interview month in the year\n",
    "    if row['last_yr'] < 1993:\n",
    "        last_survey_dt = datetime.datetime(int(row['last_yr']), int(row['date_m_%s'%int(row['last_yr'])]), 1)\n",
    "    else:\n",
    "        y = int(row['date_y_%s'%int(row['last_yr'])])\n",
    "        if y < 1900:\n",
    "            y += 1900\n",
    "        last_survey_dt = datetime.datetime(y, int(row['date_m_%s'%int(row['last_yr'])]), 1)\n",
    "\n",
    "    \n",
    "    child_birth_dt = datetime.datetime(int(row['c1dob_y_xrnd']), int(row['c1dob_m_xrnd']), 1)\n",
    "    diff_in_m = relativedelta(last_survey_dt, child_birth_dt).months + relativedelta(last_survey_dt, child_birth_dt).years*12\n",
    "    return (diff_in_m < 216 and row['too_late']==False)\n",
    "\n",
    "\n",
    "denom_df['attr_child18'] = denom_df.apply(attr_before_child216, axis=1)\n",
    "denom_df.attr_child18.value_counts()"
   ]
  },
  {
   "cell_type": "code",
   "execution_count": 43,
   "metadata": {},
   "outputs": [
    {
     "data": {
      "text/plain": [
       "False    0.90953\n",
       "True     0.09047\n",
       "Name: attr_child18, dtype: float64"
      ]
     },
     "execution_count": 43,
     "metadata": {},
     "output_type": "execute_result"
    }
   ],
   "source": [
    "denom_df.attr_child18.value_counts(normalize=True)"
   ]
  },
  {
   "cell_type": "code",
   "execution_count": 44,
   "metadata": {},
   "outputs": [
    {
     "name": "stdout",
     "output_type": "stream",
     "text": [
      "(3465, 100)\n"
     ]
    }
   ],
   "source": [
    "#select mothers who had first birth before 1994 (inclusive)\n",
    "analytic_df = denom_df[((denom_df.c1dob_y_xrnd>0) & (denom_df.attr_child18==False) & (denom_df.too_late==False))]\n",
    "print analytic_df.shape"
   ]
  },
  {
   "cell_type": "code",
   "execution_count": 45,
   "metadata": {},
   "outputs": [
    {
     "name": "stdout",
     "output_type": "stream",
     "text": [
      "8511\n"
     ]
    }
   ],
   "source": [
    "#does every mother have valid child birth dates? One respondent doesn't\n",
    "\n",
    "for i, row in analytic_df.iterrows():\n",
    "    for j in range(1, 12):\n",
    "        if (row['c%sdob_y_xrnd'%j]<0 and row['c%sdob_y_xrnd'%j]!=-4) or (row['c%sdob_m_xrnd'%j]<0 and row['c%sdob_m_xrnd'%j]!=-4):\n",
    "            print row['caseid_1979']"
   ]
  },
  {
   "cell_type": "code",
   "execution_count": 46,
   "metadata": {},
   "outputs": [
    {
     "data": {
      "text/plain": [
       "caseid_1979           8511\n",
       "sample_id_1979          13\n",
       "sample_race_1979         2\n",
       "sample_sex_1979          2\n",
       "c1dob_m_xrnd             3\n",
       "c1dob_y_xrnd          1990\n",
       "c2dob_m_xrnd            11\n",
       "c2dob_y_xrnd          1994\n",
       "c3dob_m_xrnd             7\n",
       "c3dob_y_xrnd          1998\n",
       "c4dob_m_xrnd            -1\n",
       "c4dob_y_xrnd          2001\n",
       "c5dob_m_xrnd            -4\n",
       "c5dob_y_xrnd            -4\n",
       "c6dob_m_xrnd            -4\n",
       "c6dob_y_xrnd            -4\n",
       "c7dob_m_xrnd            -4\n",
       "c7dob_y_xrnd            -4\n",
       "c8dob_m_xrnd            -4\n",
       "c8dob_y_xrnd            -4\n",
       "c9dob_m_xrnd            -4\n",
       "c9dob_y_xrnd            -4\n",
       "c10dob_m_xrnd           -4\n",
       "c10dob_y_xrnd           -4\n",
       "c11dob_m_xrnd           -4\n",
       "c11dob_y_xrnd           -4\n",
       "y_dob                 1962\n",
       "m_dob                    1\n",
       "date_m_1979              2\n",
       "date_d_1979             14\n",
       "                     ...  \n",
       "date_y_2000             -5\n",
       "date_d_2002             -5\n",
       "date_m_2002             -5\n",
       "date_y_2002             -5\n",
       "date_d_2004             28\n",
       "date_m_2004              9\n",
       "date_y_2004           2004\n",
       "date_d_2006             -5\n",
       "date_m_2006             -5\n",
       "date_y_2006             -5\n",
       "date_d_2008              8\n",
       "date_m_2008              8\n",
       "date_y_2008           2008\n",
       "date_d_2010             21\n",
       "date_m_2010              9\n",
       "date_y_2010           2010\n",
       "date_d_2012             20\n",
       "date_m_2012              7\n",
       "date_y_2012           2013\n",
       "date_d_2014             25\n",
       "date_m_2014              6\n",
       "date_y_2014           2015\n",
       "y_deceased             NaN\n",
       "last_yr               2014\n",
       "attr_before40        False\n",
       "deceased_before40    False\n",
       "deceased_child14     False\n",
       "deceased_child18     False\n",
       "too_late             False\n",
       "attr_child18         False\n",
       "Name: 4049, Length: 100, dtype: object"
      ]
     },
     "execution_count": 46,
     "metadata": {},
     "output_type": "execute_result"
    }
   ],
   "source": [
    "# check variables for respondent id 8511\n",
    "analytic_df[analytic_df.caseid_1979==8511].iloc[0]"
   ]
  },
  {
   "cell_type": "markdown",
   "metadata": {},
   "source": [
    "**Update (6/15/2017)**: Respondent 8511 has a missing value for c4dob_m_xrnd. Previously, we decided to remove her, but now we decided to keep her. The missing birth month affects the construction of work sequences. We will see whether she took any leave in 1998, if had leave, assume birth happened that month (although be careful how many spells of leaves we got). Otherwise, assume birth happened in June. \n",
    "<br /><br />\n",
    "The final sample consists of 3465 mothers."
   ]
  },
  {
   "cell_type": "code",
   "execution_count": 47,
   "metadata": {},
   "outputs": [],
   "source": [
    "# export to csv\n",
    "analytic_df.to_csv('../data/analytic_df.csv', index=False)"
   ]
  },
  {
   "cell_type": "code",
   "execution_count": 48,
   "metadata": {},
   "outputs": [
    {
     "data": {
      "text/plain": [
       "1980    279\n",
       "1981    258\n",
       "1982    255\n",
       "1979    242\n",
       "1983    226\n",
       "1984    205\n",
       "1985    204\n",
       "1978    185\n",
       "1986    167\n",
       "1977    152\n",
       "1988    146\n",
       "1989    144\n",
       "1976    138\n",
       "1987    135\n",
       "1990    121\n",
       "1975    110\n",
       "1991     94\n",
       "1992     85\n",
       "1993     83\n",
       "1994     55\n",
       "1974     52\n",
       "1995     45\n",
       "1996     40\n",
       "1973     28\n",
       "1972      8\n",
       "1997      4\n",
       "1971      3\n",
       "1970      1\n",
       "Name: c1dob_y_xrnd, dtype: int64"
      ]
     },
     "execution_count": 48,
     "metadata": {},
     "output_type": "execute_result"
    }
   ],
   "source": [
    "#distribution of birth years in the final analytic sample\n",
    "analytic_df.c1dob_y_xrnd.value_counts()"
   ]
  },
  {
   "cell_type": "code",
   "execution_count": 49,
   "metadata": {},
   "outputs": [
    {
     "data": {
      "text/plain": [
       "(492, 0.141991341991342)"
      ]
     },
     "execution_count": 49,
     "metadata": {},
     "output_type": "execute_result"
    }
   ],
   "source": [
    "# number of Rs with first childbirth before 1978\n",
    "sum(analytic_df.c1dob_y_xrnd < 1978), sum(analytic_df.c1dob_y_xrnd < 1978)/float(analytic_df.shape[0])"
   ]
  },
  {
   "cell_type": "code",
   "execution_count": 50,
   "metadata": {},
   "outputs": [
    {
     "data": {
      "text/plain": [
       "(677, 0.19538239538239538)"
      ]
     },
     "execution_count": 50,
     "metadata": {},
     "output_type": "execute_result"
    }
   ],
   "source": [
    "# number of Rs with *one year before first childbirth* before 1978\n",
    "sum(analytic_df.c1dob_y_xrnd < 1979), sum(analytic_df.c1dob_y_xrnd < 1979)/float(analytic_df.shape[0])"
   ]
  },
  {
   "cell_type": "markdown",
   "metadata": {},
   "source": [
    "## Construct 14-year-sequence sample"
   ]
  },
  {
   "cell_type": "code",
   "execution_count": 51,
   "metadata": {},
   "outputs": [
    {
     "name": "stdout",
     "output_type": "stream",
     "text": [
      "(4158, 98)\n"
     ]
    }
   ],
   "source": [
    "to_drop = sample_df[(sample_df.c1dob_y_xrnd==-4)&(sample_df.attr_before40==False)]['caseid_1979'].values.tolist() \\\n",
    "            + sample_df[(sample_df.c1dob_y_xrnd==-4)&(sample_df.deceased_before40==True)]['caseid_1979'].values.tolist() \\\n",
    "            + sample_df[(sample_df.c1dob_m_xrnd>0)&(sample_df.deceased_child14==True)]['caseid_1979'].values.tolist()\n",
    "\n",
    "#denominator sample dataframe\n",
    "denom_df14 = sample_df[~sample_df.caseid_1979.isin(to_drop)]\n",
    "print denom_df14.shape"
   ]
  },
  {
   "cell_type": "code",
   "execution_count": 52,
   "metadata": {},
   "outputs": [
    {
     "name": "stderr",
     "output_type": "stream",
     "text": [
      "/Users/xzhuo/anaconda3/envs/py27/lib/python2.7/site-packages/ipykernel_launcher.py:25: SettingWithCopyWarning: \n",
      "A value is trying to be set on a copy of a slice from a DataFrame.\n",
      "Try using .loc[row_indexer,col_indexer] = value instead\n",
      "\n",
      "See the caveats in the documentation: http://pandas.pydata.org/pandas-docs/stable/indexing.html#indexing-view-versus-copy\n"
     ]
    },
    {
     "data": {
      "text/plain": [
       "False    4124\n",
       "True       34\n",
       "Name: too_late, dtype: int64"
      ]
     },
     "execution_count": 52,
     "metadata": {},
     "output_type": "execute_result"
    }
   ],
   "source": [
    "#number of women who had first birth too late - < 168 months observed\n",
    "#too late - because we can't observe 14 years of sequences after first childbirth\n",
    "\n",
    "def is_too_late14(row):\n",
    "    \"\"\"\n",
    "    Return True if respondent had birth, but too late -\n",
    "    < 168 months observed. \n",
    "    \"\"\"\n",
    "    if row['c1dob_y_xrnd'] < 0:\n",
    "        return False\n",
    "    \n",
    "    # it's last valid year, so everyone has a valid interview month in the year\n",
    "    if row['last_yr'] < 1993:\n",
    "        last_survey_dt = datetime.datetime(int(row['last_yr']), int(row['date_m_%s'%int(row['last_yr'])]), 1)\n",
    "    else:\n",
    "        y = int(row['date_y_%s'%int(row['last_yr'])])\n",
    "        if y < 1900:\n",
    "            y += 1900\n",
    "        last_survey_dt = datetime.datetime(y, int(row['date_m_%s'%int(row['last_yr'])]), 1)\n",
    "     \n",
    "    child_birth_dt = datetime.datetime(int(row['c1dob_y_xrnd']), int(row['c1dob_m_xrnd']), 1)\n",
    "    diff_in_m = relativedelta(last_survey_dt, child_birth_dt).months + relativedelta(last_survey_dt, child_birth_dt).years*12\n",
    "    return (diff_in_m < 168 and row['last_yr'] >= 2014)\n",
    "\n",
    "denom_df14['too_late'] = denom_df14.apply(is_too_late14, axis=1)\n",
    "denom_df14.too_late.value_counts()"
   ]
  },
  {
   "cell_type": "code",
   "execution_count": 53,
   "metadata": {},
   "outputs": [
    {
     "name": "stderr",
     "output_type": "stream",
     "text": [
      "/Users/xzhuo/anaconda3/envs/py27/lib/python2.7/site-packages/ipykernel_launcher.py:27: SettingWithCopyWarning: \n",
      "A value is trying to be set on a copy of a slice from a DataFrame.\n",
      "Try using .loc[row_indexer,col_indexer] = value instead\n",
      "\n",
      "See the caveats in the documentation: http://pandas.pydata.org/pandas-docs/stable/indexing.html#indexing-view-versus-copy\n"
     ]
    },
    {
     "data": {
      "text/plain": [
       "False    3860\n",
       "True      298\n",
       "Name: attr_child14, dtype: int64"
      ]
     },
     "execution_count": 53,
     "metadata": {},
     "output_type": "execute_result"
    }
   ],
   "source": [
    "def attr_before_child14(row):\n",
    "    \"\"\"\n",
    "    Return True if respondent left study before her first child turned age 14 (168 months after birth).\n",
    "    Return False otherwise. \n",
    "\n",
    "    NEW: determined using month\n",
    "    \"\"\"\n",
    "    \n",
    "    if row['c1dob_y_xrnd'] < 0:\n",
    "        return False\n",
    "    \n",
    "    # it's last valid year, so everyone has a valid interview month in the year\n",
    "    if row['last_yr'] < 1993:\n",
    "        last_survey_dt = datetime.datetime(int(row['last_yr']), int(row['date_m_%s'%int(row['last_yr'])]), 1)\n",
    "    else:\n",
    "        y = int(row['date_y_%s'%int(row['last_yr'])])\n",
    "        if y < 1900:\n",
    "            y += 1900\n",
    "        last_survey_dt = datetime.datetime(y, int(row['date_m_%s'%int(row['last_yr'])]), 1)\n",
    "\n",
    "    child_birth_dt = datetime.datetime(int(row['c1dob_y_xrnd']), int(row['c1dob_m_xrnd']), 1)  \n",
    "    \n",
    "    diff_in_m = relativedelta(last_survey_dt, child_birth_dt).months + relativedelta(last_survey_dt, child_birth_dt).years*12\n",
    "    return (diff_in_m < 168)\n",
    "\n",
    "\n",
    "denom_df14['attr_child14'] = denom_df14.apply(attr_before_child14, axis=1)\n",
    "denom_df14.attr_child14.value_counts()"
   ]
  },
  {
   "cell_type": "code",
   "execution_count": 54,
   "metadata": {},
   "outputs": [
    {
     "name": "stdout",
     "output_type": "stream",
     "text": [
      "172\n",
      "0.041366041366\n"
     ]
    }
   ],
   "source": [
    "#women who never had children and attrited at some point before they turned 40\n",
    "childless_df = denom_df14[denom_df14.c1dob_y_xrnd==-4]\n",
    "print childless_df.shape[0]\n",
    "print childless_df.shape[0]/float(denom_df14.shape[0])"
   ]
  },
  {
   "cell_type": "code",
   "execution_count": 55,
   "metadata": {},
   "outputs": [
    {
     "data": {
      "text/plain": [
       "True    172\n",
       "Name: attr_before40, dtype: int64"
      ]
     },
     "execution_count": 55,
     "metadata": {},
     "output_type": "execute_result"
    }
   ],
   "source": [
    "childless_df.attr_before40.value_counts()"
   ]
  },
  {
   "cell_type": "code",
   "execution_count": 56,
   "metadata": {},
   "outputs": [
    {
     "name": "stdout",
     "output_type": "stream",
     "text": [
      "(3688, 100)\n"
     ]
    }
   ],
   "source": [
    "analytic_df14 = denom_df14[(denom_df14.c1dob_y_xrnd>0)&(denom_df14.attr_child14==False)&(denom_df14.too_late==False)]\n",
    "print analytic_df14.shape"
   ]
  },
  {
   "cell_type": "code",
   "execution_count": 57,
   "metadata": {},
   "outputs": [
    {
     "name": "stdout",
     "output_type": "stream",
     "text": [
      "8511\n"
     ]
    }
   ],
   "source": [
    "#does every mother have valid child birth dates? One doesn't. The same one\n",
    "for i, row in analytic_df14.iterrows():\n",
    "    for j in range(1, 12):\n",
    "        if (row['c%sdob_y_xrnd'%j]<0 and row['c%sdob_y_xrnd'%j]!=-4) or (row['c%sdob_m_xrnd'%j]<0 and row['c%sdob_m_xrnd'%j]!=-4):\n",
    "            print row['caseid_1979']"
   ]
  },
  {
   "cell_type": "code",
   "execution_count": 58,
   "metadata": {},
   "outputs": [
    {
     "data": {
      "text/plain": [
       "1980    287\n",
       "1982    264\n",
       "1981    264\n",
       "1979    245\n",
       "1983    233\n",
       "1985    218\n",
       "1984    214\n",
       "1978    187\n",
       "1986    180\n",
       "1977    158\n",
       "1989    151\n",
       "1988    150\n",
       "1976    141\n",
       "1987    137\n",
       "1990    124\n",
       "1975    110\n",
       "1991    100\n",
       "1992     90\n",
       "1993     87\n",
       "1994     58\n",
       "1974     52\n",
       "1995     49\n",
       "1996     43\n",
       "1997     39\n",
       "1973     29\n",
       "1998     28\n",
       "1999     22\n",
       "2000     14\n",
       "1972      8\n",
       "1971      3\n",
       "2001      2\n",
       "1970      1\n",
       "Name: c1dob_y_xrnd, dtype: int64"
      ]
     },
     "execution_count": 58,
     "metadata": {},
     "output_type": "execute_result"
    }
   ],
   "source": [
    "analytic_df14.c1dob_y_xrnd.value_counts()"
   ]
  },
  {
   "cell_type": "code",
   "execution_count": 61,
   "metadata": {
    "collapsed": true
   },
   "outputs": [],
   "source": [
    "analytic_df14.to_csv('../data/analytic_df_seq14.csv', index=False)"
   ]
  },
  {
   "cell_type": "code",
   "execution_count": 59,
   "metadata": {},
   "outputs": [
    {
     "data": {
      "text/html": [
       "<div>\n",
       "<style scoped>\n",
       "    .dataframe tbody tr th:only-of-type {\n",
       "        vertical-align: middle;\n",
       "    }\n",
       "\n",
       "    .dataframe tbody tr th {\n",
       "        vertical-align: top;\n",
       "    }\n",
       "\n",
       "    .dataframe thead th {\n",
       "        text-align: right;\n",
       "    }\n",
       "</style>\n",
       "<table border=\"1\" class=\"dataframe\">\n",
       "  <thead>\n",
       "    <tr style=\"text-align: right;\">\n",
       "      <th></th>\n",
       "      <th>caseid_1979</th>\n",
       "      <th>sample_id_1979</th>\n",
       "      <th>sample_race_1979</th>\n",
       "      <th>sample_sex_1979</th>\n",
       "      <th>c1dob_m_xrnd</th>\n",
       "      <th>c1dob_y_xrnd</th>\n",
       "      <th>c2dob_m_xrnd</th>\n",
       "      <th>c2dob_y_xrnd</th>\n",
       "      <th>c3dob_m_xrnd</th>\n",
       "      <th>c3dob_y_xrnd</th>\n",
       "      <th>...</th>\n",
       "      <th>date_m_2014</th>\n",
       "      <th>date_y_2014</th>\n",
       "      <th>y_deceased</th>\n",
       "      <th>last_yr</th>\n",
       "      <th>attr_before40</th>\n",
       "      <th>deceased_before40</th>\n",
       "      <th>deceased_child14</th>\n",
       "      <th>deceased_child18</th>\n",
       "      <th>too_late</th>\n",
       "      <th>attr_child14</th>\n",
       "    </tr>\n",
       "  </thead>\n",
       "  <tbody>\n",
       "    <tr>\n",
       "      <th>0</th>\n",
       "      <td>1</td>\n",
       "      <td>5</td>\n",
       "      <td>3</td>\n",
       "      <td>2</td>\n",
       "      <td>-4</td>\n",
       "      <td>-4</td>\n",
       "      <td>-4</td>\n",
       "      <td>-4</td>\n",
       "      <td>-4</td>\n",
       "      <td>-4</td>\n",
       "      <td>...</td>\n",
       "      <td>-5</td>\n",
       "      <td>-5</td>\n",
       "      <td>NaN</td>\n",
       "      <td>1981</td>\n",
       "      <td>True</td>\n",
       "      <td>False</td>\n",
       "      <td>False</td>\n",
       "      <td>False</td>\n",
       "      <td>False</td>\n",
       "      <td>False</td>\n",
       "    </tr>\n",
       "    <tr>\n",
       "      <th>1</th>\n",
       "      <td>2</td>\n",
       "      <td>5</td>\n",
       "      <td>3</td>\n",
       "      <td>2</td>\n",
       "      <td>3</td>\n",
       "      <td>1993</td>\n",
       "      <td>11</td>\n",
       "      <td>1994</td>\n",
       "      <td>-4</td>\n",
       "      <td>-4</td>\n",
       "      <td>...</td>\n",
       "      <td>12</td>\n",
       "      <td>2014</td>\n",
       "      <td>NaN</td>\n",
       "      <td>2014</td>\n",
       "      <td>False</td>\n",
       "      <td>False</td>\n",
       "      <td>False</td>\n",
       "      <td>False</td>\n",
       "      <td>False</td>\n",
       "      <td>False</td>\n",
       "    </tr>\n",
       "    <tr>\n",
       "      <th>2</th>\n",
       "      <td>3</td>\n",
       "      <td>5</td>\n",
       "      <td>3</td>\n",
       "      <td>2</td>\n",
       "      <td>6</td>\n",
       "      <td>1981</td>\n",
       "      <td>10</td>\n",
       "      <td>1983</td>\n",
       "      <td>4</td>\n",
       "      <td>1986</td>\n",
       "      <td>...</td>\n",
       "      <td>5</td>\n",
       "      <td>2015</td>\n",
       "      <td>NaN</td>\n",
       "      <td>2014</td>\n",
       "      <td>False</td>\n",
       "      <td>False</td>\n",
       "      <td>False</td>\n",
       "      <td>False</td>\n",
       "      <td>False</td>\n",
       "      <td>False</td>\n",
       "    </tr>\n",
       "    <tr>\n",
       "      <th>3</th>\n",
       "      <td>4</td>\n",
       "      <td>5</td>\n",
       "      <td>3</td>\n",
       "      <td>2</td>\n",
       "      <td>8</td>\n",
       "      <td>1980</td>\n",
       "      <td>3</td>\n",
       "      <td>1997</td>\n",
       "      <td>-4</td>\n",
       "      <td>-4</td>\n",
       "      <td>...</td>\n",
       "      <td>-5</td>\n",
       "      <td>-5</td>\n",
       "      <td>NaN</td>\n",
       "      <td>1998</td>\n",
       "      <td>True</td>\n",
       "      <td>False</td>\n",
       "      <td>False</td>\n",
       "      <td>False</td>\n",
       "      <td>False</td>\n",
       "      <td>False</td>\n",
       "    </tr>\n",
       "    <tr>\n",
       "      <th>4</th>\n",
       "      <td>8</td>\n",
       "      <td>6</td>\n",
       "      <td>3</td>\n",
       "      <td>2</td>\n",
       "      <td>3</td>\n",
       "      <td>1976</td>\n",
       "      <td>5</td>\n",
       "      <td>1979</td>\n",
       "      <td>9</td>\n",
       "      <td>1982</td>\n",
       "      <td>...</td>\n",
       "      <td>1</td>\n",
       "      <td>2015</td>\n",
       "      <td>NaN</td>\n",
       "      <td>2014</td>\n",
       "      <td>False</td>\n",
       "      <td>False</td>\n",
       "      <td>False</td>\n",
       "      <td>False</td>\n",
       "      <td>False</td>\n",
       "      <td>False</td>\n",
       "    </tr>\n",
       "  </tbody>\n",
       "</table>\n",
       "<p>5 rows × 100 columns</p>\n",
       "</div>"
      ],
      "text/plain": [
       "   caseid_1979  sample_id_1979  sample_race_1979  sample_sex_1979  \\\n",
       "0            1               5                 3                2   \n",
       "1            2               5                 3                2   \n",
       "2            3               5                 3                2   \n",
       "3            4               5                 3                2   \n",
       "4            8               6                 3                2   \n",
       "\n",
       "   c1dob_m_xrnd  c1dob_y_xrnd  c2dob_m_xrnd  c2dob_y_xrnd  c3dob_m_xrnd  \\\n",
       "0            -4            -4            -4            -4            -4   \n",
       "1             3          1993            11          1994            -4   \n",
       "2             6          1981            10          1983             4   \n",
       "3             8          1980             3          1997            -4   \n",
       "4             3          1976             5          1979             9   \n",
       "\n",
       "   c3dob_y_xrnd      ...       date_m_2014  date_y_2014  y_deceased  last_yr  \\\n",
       "0            -4      ...                -5           -5         NaN     1981   \n",
       "1            -4      ...                12         2014         NaN     2014   \n",
       "2          1986      ...                 5         2015         NaN     2014   \n",
       "3            -4      ...                -5           -5         NaN     1998   \n",
       "4          1982      ...                 1         2015         NaN     2014   \n",
       "\n",
       "   attr_before40  deceased_before40  deceased_child14  deceased_child18  \\\n",
       "0           True              False             False             False   \n",
       "1          False              False             False             False   \n",
       "2          False              False             False             False   \n",
       "3           True              False             False             False   \n",
       "4          False              False             False             False   \n",
       "\n",
       "   too_late  attr_child14  \n",
       "0     False         False  \n",
       "1     False         False  \n",
       "2     False         False  \n",
       "3     False         False  \n",
       "4     False         False  \n",
       "\n",
       "[5 rows x 100 columns]"
      ]
     },
     "execution_count": 59,
     "metadata": {},
     "output_type": "execute_result"
    }
   ],
   "source": [
    "denom_df14.head()"
   ]
  },
  {
   "cell_type": "code",
   "execution_count": 60,
   "metadata": {},
   "outputs": [
    {
     "name": "stderr",
     "output_type": "stream",
     "text": [
      "/Users/xzhuo/anaconda3/envs/py27/lib/python2.7/site-packages/ipykernel_launcher.py:1: SettingWithCopyWarning: \n",
      "A value is trying to be set on a copy of a slice from a DataFrame.\n",
      "Try using .loc[row_indexer,col_indexer] = value instead\n",
      "\n",
      "See the caveats in the documentation: http://pandas.pydata.org/pandas-docs/stable/indexing.html#indexing-view-versus-copy\n",
      "  \"\"\"Entry point for launching an IPython kernel.\n"
     ]
    },
    {
     "data": {
      "text/html": [
       "<div>\n",
       "<style scoped>\n",
       "    .dataframe tbody tr th:only-of-type {\n",
       "        vertical-align: middle;\n",
       "    }\n",
       "\n",
       "    .dataframe tbody tr th {\n",
       "        vertical-align: top;\n",
       "    }\n",
       "\n",
       "    .dataframe thead th {\n",
       "        text-align: right;\n",
       "    }\n",
       "</style>\n",
       "<table border=\"1\" class=\"dataframe\">\n",
       "  <thead>\n",
       "    <tr style=\"text-align: right;\">\n",
       "      <th></th>\n",
       "      <th>caseid_1979</th>\n",
       "      <th>sample_id_1979</th>\n",
       "      <th>sample_race_1979</th>\n",
       "      <th>sample_sex_1979</th>\n",
       "      <th>c1dob_m_xrnd</th>\n",
       "      <th>c1dob_y_xrnd</th>\n",
       "      <th>c2dob_m_xrnd</th>\n",
       "      <th>c2dob_y_xrnd</th>\n",
       "      <th>c3dob_m_xrnd</th>\n",
       "      <th>c3dob_y_xrnd</th>\n",
       "      <th>...</th>\n",
       "      <th>date_y_2014</th>\n",
       "      <th>y_deceased</th>\n",
       "      <th>last_yr</th>\n",
       "      <th>attr_before40</th>\n",
       "      <th>deceased_before40</th>\n",
       "      <th>deceased_child14</th>\n",
       "      <th>deceased_child18</th>\n",
       "      <th>too_late</th>\n",
       "      <th>attr_child14</th>\n",
       "      <th>attr_child18</th>\n",
       "    </tr>\n",
       "  </thead>\n",
       "  <tbody>\n",
       "    <tr>\n",
       "      <th>0</th>\n",
       "      <td>1</td>\n",
       "      <td>5</td>\n",
       "      <td>3</td>\n",
       "      <td>2</td>\n",
       "      <td>-4</td>\n",
       "      <td>-4</td>\n",
       "      <td>-4</td>\n",
       "      <td>-4</td>\n",
       "      <td>-4</td>\n",
       "      <td>-4</td>\n",
       "      <td>...</td>\n",
       "      <td>-5</td>\n",
       "      <td>NaN</td>\n",
       "      <td>1981</td>\n",
       "      <td>True</td>\n",
       "      <td>False</td>\n",
       "      <td>False</td>\n",
       "      <td>False</td>\n",
       "      <td>False</td>\n",
       "      <td>False</td>\n",
       "      <td>False</td>\n",
       "    </tr>\n",
       "    <tr>\n",
       "      <th>1</th>\n",
       "      <td>2</td>\n",
       "      <td>5</td>\n",
       "      <td>3</td>\n",
       "      <td>2</td>\n",
       "      <td>3</td>\n",
       "      <td>1993</td>\n",
       "      <td>11</td>\n",
       "      <td>1994</td>\n",
       "      <td>-4</td>\n",
       "      <td>-4</td>\n",
       "      <td>...</td>\n",
       "      <td>2014</td>\n",
       "      <td>NaN</td>\n",
       "      <td>2014</td>\n",
       "      <td>False</td>\n",
       "      <td>False</td>\n",
       "      <td>False</td>\n",
       "      <td>False</td>\n",
       "      <td>False</td>\n",
       "      <td>False</td>\n",
       "      <td>False</td>\n",
       "    </tr>\n",
       "    <tr>\n",
       "      <th>2</th>\n",
       "      <td>3</td>\n",
       "      <td>5</td>\n",
       "      <td>3</td>\n",
       "      <td>2</td>\n",
       "      <td>6</td>\n",
       "      <td>1981</td>\n",
       "      <td>10</td>\n",
       "      <td>1983</td>\n",
       "      <td>4</td>\n",
       "      <td>1986</td>\n",
       "      <td>...</td>\n",
       "      <td>2015</td>\n",
       "      <td>NaN</td>\n",
       "      <td>2014</td>\n",
       "      <td>False</td>\n",
       "      <td>False</td>\n",
       "      <td>False</td>\n",
       "      <td>False</td>\n",
       "      <td>False</td>\n",
       "      <td>False</td>\n",
       "      <td>False</td>\n",
       "    </tr>\n",
       "    <tr>\n",
       "      <th>3</th>\n",
       "      <td>4</td>\n",
       "      <td>5</td>\n",
       "      <td>3</td>\n",
       "      <td>2</td>\n",
       "      <td>8</td>\n",
       "      <td>1980</td>\n",
       "      <td>3</td>\n",
       "      <td>1997</td>\n",
       "      <td>-4</td>\n",
       "      <td>-4</td>\n",
       "      <td>...</td>\n",
       "      <td>-5</td>\n",
       "      <td>NaN</td>\n",
       "      <td>1998</td>\n",
       "      <td>True</td>\n",
       "      <td>False</td>\n",
       "      <td>False</td>\n",
       "      <td>False</td>\n",
       "      <td>False</td>\n",
       "      <td>False</td>\n",
       "      <td>True</td>\n",
       "    </tr>\n",
       "    <tr>\n",
       "      <th>4</th>\n",
       "      <td>8</td>\n",
       "      <td>6</td>\n",
       "      <td>3</td>\n",
       "      <td>2</td>\n",
       "      <td>3</td>\n",
       "      <td>1976</td>\n",
       "      <td>5</td>\n",
       "      <td>1979</td>\n",
       "      <td>9</td>\n",
       "      <td>1982</td>\n",
       "      <td>...</td>\n",
       "      <td>2015</td>\n",
       "      <td>NaN</td>\n",
       "      <td>2014</td>\n",
       "      <td>False</td>\n",
       "      <td>False</td>\n",
       "      <td>False</td>\n",
       "      <td>False</td>\n",
       "      <td>False</td>\n",
       "      <td>False</td>\n",
       "      <td>False</td>\n",
       "    </tr>\n",
       "  </tbody>\n",
       "</table>\n",
       "<p>5 rows × 101 columns</p>\n",
       "</div>"
      ],
      "text/plain": [
       "   caseid_1979  sample_id_1979  sample_race_1979  sample_sex_1979  \\\n",
       "0            1               5                 3                2   \n",
       "1            2               5                 3                2   \n",
       "2            3               5                 3                2   \n",
       "3            4               5                 3                2   \n",
       "4            8               6                 3                2   \n",
       "\n",
       "   c1dob_m_xrnd  c1dob_y_xrnd  c2dob_m_xrnd  c2dob_y_xrnd  c3dob_m_xrnd  \\\n",
       "0            -4            -4            -4            -4            -4   \n",
       "1             3          1993            11          1994            -4   \n",
       "2             6          1981            10          1983             4   \n",
       "3             8          1980             3          1997            -4   \n",
       "4             3          1976             5          1979             9   \n",
       "\n",
       "   c3dob_y_xrnd      ...       date_y_2014  y_deceased  last_yr  \\\n",
       "0            -4      ...                -5         NaN     1981   \n",
       "1            -4      ...              2014         NaN     2014   \n",
       "2          1986      ...              2015         NaN     2014   \n",
       "3            -4      ...                -5         NaN     1998   \n",
       "4          1982      ...              2015         NaN     2014   \n",
       "\n",
       "   attr_before40  deceased_before40  deceased_child14  deceased_child18  \\\n",
       "0           True              False             False             False   \n",
       "1          False              False             False             False   \n",
       "2          False              False             False             False   \n",
       "3           True              False             False             False   \n",
       "4          False              False             False             False   \n",
       "\n",
       "   too_late  attr_child14  attr_child18  \n",
       "0     False         False         False  \n",
       "1     False         False         False  \n",
       "2     False         False         False  \n",
       "3     False         False          True  \n",
       "4     False         False         False  \n",
       "\n",
       "[5 rows x 101 columns]"
      ]
     },
     "execution_count": 60,
     "metadata": {},
     "output_type": "execute_result"
    }
   ],
   "source": [
    "denom_df14['attr_child18'] = denom_df14.apply(attr_before_child216, axis=1)\n",
    "denom_df14.head()"
   ]
  },
  {
   "cell_type": "code",
   "execution_count": 66,
   "metadata": {},
   "outputs": [
    {
     "data": {
      "text/plain": [
       "(223, 101)"
      ]
     },
     "execution_count": 66,
     "metadata": {},
     "output_type": "execute_result"
    }
   ],
   "source": [
    "denom_df14[((denom_df14.attr_child14==False) & (denom_df14.attr_child18==True))].shape"
   ]
  },
  {
   "cell_type": "code",
   "execution_count": 67,
   "metadata": {},
   "outputs": [
    {
     "data": {
      "text/plain": [
       "(13, 101)"
      ]
     },
     "execution_count": 67,
     "metadata": {},
     "output_type": "execute_result"
    }
   ],
   "source": [
    "denom_df14[((denom_df14.deceased_child14==False) & (denom_df14.deceased_child18==True))].shape"
   ]
  },
  {
   "cell_type": "code",
   "execution_count": null,
   "metadata": {},
   "outputs": [],
   "source": []
  }
 ],
 "metadata": {
  "kernelspec": {
   "display_name": "Python 2",
   "language": "python",
   "name": "python2"
  },
  "language_info": {
   "codemirror_mode": {
    "name": "ipython",
    "version": 2
   },
   "file_extension": ".py",
   "mimetype": "text/x-python",
   "name": "python",
   "nbconvert_exporter": "python",
   "pygments_lexer": "ipython2",
   "version": "2.7.15"
  }
 },
 "nbformat": 4,
 "nbformat_minor": 1
}
