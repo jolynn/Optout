{
 "metadata": {
  "name": "",
  "signature": "sha256:c752ffa3ed5528d4c8fec4ad2e82d1099383efd9a059231da64db4da15b808bd"
 },
 "nbformat": 3,
 "nbformat_minor": 0,
 "worksheets": [
  {
   "cells": [
    {
     "cell_type": "markdown",
     "metadata": {},
     "source": [
      "#OptOut Project: Constructing Independent Variables and Pairwise Weight\n",
      "\n",
      "February 2015"
     ]
    },
    {
     "cell_type": "code",
     "collapsed": false,
     "input": [
      "#setup\n",
      "%matplotlib inline\n",
      "import numpy as np\n",
      "import matplotlib.pyplot as plt\n",
      "import pandas as pd\n",
      "import time\n",
      "import random\n",
      "import itertools\n",
      "from collections import defaultdict\n",
      "from operator import itemgetter"
     ],
     "language": "python",
     "metadata": {},
     "outputs": [],
     "prompt_number": 79
    },
    {
     "cell_type": "markdown",
     "metadata": {},
     "source": [
      "##Week-to-week crosswalk\n",
      "\n",
      "Create two functions to convert between week number and calendar year and month"
     ]
    },
    {
     "cell_type": "code",
     "collapsed": false,
     "input": [
      "#this is the file to switch between week number in NLSY79 and calendar year, month, and day\n",
      "xl_file = pd.ExcelFile('continuous_week_crosswalk.xlsx') \n",
      "\n",
      "weekdf = xl_file.parse('weekdates1')\n",
      "print weekdf.shape # print (total row number, total column number)\n",
      "weekdf.head()"
     ],
     "language": "python",
     "metadata": {},
     "outputs": [
      {
       "output_type": "stream",
       "stream": "stdout",
       "text": [
        "(1826, 5)\n"
       ]
      },
      {
       "html": [
        "<div style=\"max-height:1000px;max-width:1500px;overflow:auto;\">\n",
        "<table border=\"1\" class=\"dataframe\">\n",
        "  <thead>\n",
        "    <tr style=\"text-align: right;\">\n",
        "      <th></th>\n",
        "      <th>Week Start:\n",
        "Month</th>\n",
        "      <th>Week Start: \n",
        "Day</th>\n",
        "      <th>Week Start: \n",
        "Year</th>\n",
        "      <th>Calendar Year \n",
        "Week Number </th>\n",
        "      <th>Continuous \n",
        "Week Number</th>\n",
        "    </tr>\n",
        "  </thead>\n",
        "  <tbody>\n",
        "    <tr>\n",
        "      <th>0</th>\n",
        "      <td> 1</td>\n",
        "      <td>  1</td>\n",
        "      <td> 1978</td>\n",
        "      <td> 1</td>\n",
        "      <td> 1</td>\n",
        "    </tr>\n",
        "    <tr>\n",
        "      <th>1</th>\n",
        "      <td> 1</td>\n",
        "      <td>  8</td>\n",
        "      <td> 1978</td>\n",
        "      <td> 2</td>\n",
        "      <td> 2</td>\n",
        "    </tr>\n",
        "    <tr>\n",
        "      <th>2</th>\n",
        "      <td> 1</td>\n",
        "      <td> 15</td>\n",
        "      <td> 1978</td>\n",
        "      <td> 3</td>\n",
        "      <td> 3</td>\n",
        "    </tr>\n",
        "    <tr>\n",
        "      <th>3</th>\n",
        "      <td> 1</td>\n",
        "      <td> 22</td>\n",
        "      <td> 1978</td>\n",
        "      <td> 4</td>\n",
        "      <td> 4</td>\n",
        "    </tr>\n",
        "    <tr>\n",
        "      <th>4</th>\n",
        "      <td> 1</td>\n",
        "      <td> 29</td>\n",
        "      <td> 1978</td>\n",
        "      <td> 5</td>\n",
        "      <td> 5</td>\n",
        "    </tr>\n",
        "  </tbody>\n",
        "</table>\n",
        "</div>"
       ],
       "metadata": {},
       "output_type": "pyout",
       "prompt_number": 2,
       "text": [
        "   Week Start:\\nMonth  Week Start: \\nDay  Week Start: \\nYear  \\\n",
        "0                   1                  1                1978   \n",
        "1                   1                  8                1978   \n",
        "2                   1                 15                1978   \n",
        "3                   1                 22                1978   \n",
        "4                   1                 29                1978   \n",
        "\n",
        "   Calendar Year \\nWeek Number   Continuous \\nWeek Number  \n",
        "0                             1                         1  \n",
        "1                             2                         2  \n",
        "2                             3                         3  \n",
        "3                             4                         4  \n",
        "4                             5                         5  "
       ]
      }
     ],
     "prompt_number": 2
    },
    {
     "cell_type": "code",
     "collapsed": false,
     "input": [
      "def get_week_num(year, month, which, df=weekdf):\n",
      "    \"\"\"\n",
      "    Given a year and month in the calendar, \n",
      "    return the corresponding week number in NLSY79\n",
      "    using coutinuous_week_crosswalk.xlsx\n",
      "    \n",
      "    if which=='first', return the first week in that month\n",
      "    if which=='last', return the last week in that month \n",
      "    \"\"\"\n",
      "\n",
      "    \n",
      "    #column names in weekdf:\n",
      "    #u'Week Start:\\nMonth'\n",
      "    #u'Week Start: \\nDay'\n",
      "    #u'Week Start: \\nYear'\n",
      "    #u'Calendar Year \\nWeek Number '\n",
      "    #u'Continuous \\nWeek Number'\n",
      "    \n",
      "    that_month = weekdf[(weekdf['Week Start:\\nMonth']==month)&(weekdf['Week Start: \\nYear']==year)]\n",
      "    \n",
      "    if which == 'first':\n",
      "        return int(that_month.iloc[0]['Continuous \\nWeek Number'])\n",
      "    elif which == 'last':\n",
      "        return int(that_month.iloc[len(that_month)-1]['Continuous \\nWeek Number'])"
     ],
     "language": "python",
     "metadata": {},
     "outputs": [],
     "prompt_number": 3
    },
    {
     "cell_type": "code",
     "collapsed": false,
     "input": [
      "def get_year_month(weeknum, df=weekdf):\n",
      "    \"\"\"\n",
      "    Given a week number, return the corresponding month and year (yyyy, m).\n",
      "    \"\"\"\n",
      "    \n",
      "    that_week = weekdf[weekdf['Continuous \\nWeek Number']==weeknum]\n",
      "    return int(that_week.iloc[0]['Week Start: \\nYear']), int(that_week.iloc[0]['Week Start:\\nMonth'])"
     ],
     "language": "python",
     "metadata": {},
     "outputs": [],
     "prompt_number": 4
    },
    {
     "cell_type": "markdown",
     "metadata": {},
     "source": [
      "##Get analytic sample"
     ]
    },
    {
     "cell_type": "code",
     "collapsed": false,
     "input": [
      "analytic_df = pd.read_csv('analytic_df.csv') #includes fertility data\n",
      "sample = analytic_df.caseid_1979.values.tolist()\n",
      "print len(sample)"
     ],
     "language": "python",
     "metadata": {},
     "outputs": [
      {
       "output_type": "stream",
       "stream": "stdout",
       "text": [
        "2459\n"
       ]
      }
     ],
     "prompt_number": 5
    },
    {
     "cell_type": "code",
     "collapsed": false,
     "input": [
      "#drop respondent id 8511 because of her missing birth dates\n",
      "print analytic_df[analytic_df.caseid_1979==8511].iloc[0]['c4dob_m_xrnd'], analytic_df[analytic_df.caseid_1979==8511].iloc[0]['c4dob_y_xrnd']\n",
      "analytic_df = analytic_df[analytic_df.caseid_1979!=8511]\n",
      "sample = analytic_df.caseid_1979.values.tolist()\n",
      "print 'size of new sample:', len(sample)"
     ],
     "language": "python",
     "metadata": {},
     "outputs": [
      {
       "output_type": "stream",
       "stream": "stdout",
       "text": [
        "-1 2001\n",
        "size of new sample: 2458\n"
       ]
      }
     ],
     "prompt_number": 6
    },
    {
     "cell_type": "markdown",
     "metadata": {},
     "source": [
      "##Read clustering results and weights (any weights)"
     ]
    },
    {
     "cell_type": "code",
     "collapsed": false,
     "input": [
      "clust_wt_df = pd.read_csv('clusters_and_wt.csv')\n",
      "print clust_wt_df.shape\n",
      "clust_wt_df.head()"
     ],
     "language": "python",
     "metadata": {},
     "outputs": [
      {
       "output_type": "stream",
       "stream": "stdout",
       "text": [
        "(2458, 16)\n"
       ]
      },
      {
       "html": [
        "<div style=\"max-height:1000px;max-width:1500px;overflow:auto;\">\n",
        "<table border=\"1\" class=\"dataframe\">\n",
        "  <thead>\n",
        "    <tr style=\"text-align: right;\">\n",
        "      <th></th>\n",
        "      <th>id</th>\n",
        "      <th>wt</th>\n",
        "      <th>cluster2</th>\n",
        "      <th>cluster3</th>\n",
        "      <th>cluster4</th>\n",
        "      <th>cluster5</th>\n",
        "      <th>cluster6</th>\n",
        "      <th>cluster7</th>\n",
        "      <th>cluster8</th>\n",
        "      <th>cluster9</th>\n",
        "      <th>cluster10</th>\n",
        "      <th>cluster11</th>\n",
        "      <th>cluster12</th>\n",
        "      <th>cluster13</th>\n",
        "      <th>cluster14</th>\n",
        "      <th>cluster15</th>\n",
        "    </tr>\n",
        "  </thead>\n",
        "  <tbody>\n",
        "    <tr>\n",
        "      <th>0</th>\n",
        "      <td>  2</td>\n",
        "      <td> 763795</td>\n",
        "      <td> 2165</td>\n",
        "      <td>  154</td>\n",
        "      <td> 2445</td>\n",
        "      <td>  579</td>\n",
        "      <td>  579</td>\n",
        "      <td>  579</td>\n",
        "      <td>  579</td>\n",
        "      <td> 1209</td>\n",
        "      <td> 1209</td>\n",
        "      <td> 1161</td>\n",
        "      <td> 1161</td>\n",
        "      <td> 1161</td>\n",
        "      <td> 1161</td>\n",
        "      <td> 1161</td>\n",
        "    </tr>\n",
        "    <tr>\n",
        "      <th>1</th>\n",
        "      <td>  3</td>\n",
        "      <td> 536272</td>\n",
        "      <td> 2165</td>\n",
        "      <td> 2445</td>\n",
        "      <td> 2445</td>\n",
        "      <td> 2445</td>\n",
        "      <td> 2445</td>\n",
        "      <td> 2445</td>\n",
        "      <td> 2445</td>\n",
        "      <td> 2445</td>\n",
        "      <td> 2445</td>\n",
        "      <td> 2445</td>\n",
        "      <td> 2445</td>\n",
        "      <td> 2445</td>\n",
        "      <td> 2445</td>\n",
        "      <td> 2445</td>\n",
        "    </tr>\n",
        "    <tr>\n",
        "      <th>2</th>\n",
        "      <td>  4</td>\n",
        "      <td> 565820</td>\n",
        "      <td> 2165</td>\n",
        "      <td>  154</td>\n",
        "      <td>  798</td>\n",
        "      <td>  798</td>\n",
        "      <td>  798</td>\n",
        "      <td>  461</td>\n",
        "      <td>  900</td>\n",
        "      <td>  461</td>\n",
        "      <td>  461</td>\n",
        "      <td> 2398</td>\n",
        "      <td> 2398</td>\n",
        "      <td> 2398</td>\n",
        "      <td>  900</td>\n",
        "      <td>  900</td>\n",
        "    </tr>\n",
        "    <tr>\n",
        "      <th>3</th>\n",
        "      <td> 16</td>\n",
        "      <td> 729160</td>\n",
        "      <td>  462</td>\n",
        "      <td> 2431</td>\n",
        "      <td>    7</td>\n",
        "      <td>    7</td>\n",
        "      <td>    7</td>\n",
        "      <td>    7</td>\n",
        "      <td>  845</td>\n",
        "      <td>  845</td>\n",
        "      <td>  845</td>\n",
        "      <td>  845</td>\n",
        "      <td>  845</td>\n",
        "      <td>  845</td>\n",
        "      <td>  845</td>\n",
        "      <td>  898</td>\n",
        "    </tr>\n",
        "    <tr>\n",
        "      <th>4</th>\n",
        "      <td> 19</td>\n",
        "      <td> 770089</td>\n",
        "      <td> 2165</td>\n",
        "      <td> 2445</td>\n",
        "      <td> 2445</td>\n",
        "      <td> 2445</td>\n",
        "      <td> 2445</td>\n",
        "      <td> 2445</td>\n",
        "      <td> 2445</td>\n",
        "      <td> 2445</td>\n",
        "      <td> 2445</td>\n",
        "      <td> 2445</td>\n",
        "      <td> 2445</td>\n",
        "      <td> 2445</td>\n",
        "      <td> 2445</td>\n",
        "      <td> 2445</td>\n",
        "    </tr>\n",
        "  </tbody>\n",
        "</table>\n",
        "</div>"
       ],
       "metadata": {},
       "output_type": "pyout",
       "prompt_number": 7,
       "text": [
        "   id      wt  cluster2  cluster3  cluster4  cluster5  cluster6  cluster7  \\\n",
        "0   2  763795      2165       154      2445       579       579       579   \n",
        "1   3  536272      2165      2445      2445      2445      2445      2445   \n",
        "2   4  565820      2165       154       798       798       798       461   \n",
        "3  16  729160       462      2431         7         7         7         7   \n",
        "4  19  770089      2165      2445      2445      2445      2445      2445   \n",
        "\n",
        "   cluster8  cluster9  cluster10  cluster11  cluster12  cluster13  cluster14  \\\n",
        "0       579      1209       1209       1161       1161       1161       1161   \n",
        "1      2445      2445       2445       2445       2445       2445       2445   \n",
        "2       900       461        461       2398       2398       2398        900   \n",
        "3       845       845        845        845        845        845        845   \n",
        "4      2445      2445       2445       2445       2445       2445       2445   \n",
        "\n",
        "   cluster15  \n",
        "0       1161  \n",
        "1       2445  \n",
        "2        900  \n",
        "3        898  \n",
        "4       2445  "
       ]
      }
     ],
     "prompt_number": 7
    },
    {
     "cell_type": "markdown",
     "metadata": {},
     "source": [
      "##Construct IVs"
     ]
    },
    {
     "cell_type": "code",
     "collapsed": false,
     "input": [
      "#survey years\n",
      "years = range(1979, 1995) + range(1996, 2013, 2)"
     ],
     "language": "python",
     "metadata": {},
     "outputs": [],
     "prompt_number": 8
    },
    {
     "cell_type": "code",
     "collapsed": false,
     "input": [
      "iv_df = pd.DataFrame({\"id\":sample, \"wt\":clust_wt_df.wt.tolist()})\n",
      "iv_df.head()"
     ],
     "language": "python",
     "metadata": {},
     "outputs": [
      {
       "html": [
        "<div style=\"max-height:1000px;max-width:1500px;overflow:auto;\">\n",
        "<table border=\"1\" class=\"dataframe\">\n",
        "  <thead>\n",
        "    <tr style=\"text-align: right;\">\n",
        "      <th></th>\n",
        "      <th>id</th>\n",
        "      <th>wt</th>\n",
        "    </tr>\n",
        "  </thead>\n",
        "  <tbody>\n",
        "    <tr>\n",
        "      <th>0</th>\n",
        "      <td>  2</td>\n",
        "      <td> 763795</td>\n",
        "    </tr>\n",
        "    <tr>\n",
        "      <th>1</th>\n",
        "      <td>  3</td>\n",
        "      <td> 536272</td>\n",
        "    </tr>\n",
        "    <tr>\n",
        "      <th>2</th>\n",
        "      <td>  4</td>\n",
        "      <td> 565820</td>\n",
        "    </tr>\n",
        "    <tr>\n",
        "      <th>3</th>\n",
        "      <td> 16</td>\n",
        "      <td> 729160</td>\n",
        "    </tr>\n",
        "    <tr>\n",
        "      <th>4</th>\n",
        "      <td> 19</td>\n",
        "      <td> 770089</td>\n",
        "    </tr>\n",
        "  </tbody>\n",
        "</table>\n",
        "</div>"
       ],
       "metadata": {},
       "output_type": "pyout",
       "prompt_number": 9,
       "text": [
        "   id      wt\n",
        "0   2  763795\n",
        "1   3  536272\n",
        "2   4  565820\n",
        "3  16  729160\n",
        "4  19  770089"
       ]
      }
     ],
     "prompt_number": 9
    },
    {
     "cell_type": "code",
     "collapsed": false,
     "input": [
      "iv_df.shape"
     ],
     "language": "python",
     "metadata": {},
     "outputs": [
      {
       "metadata": {},
       "output_type": "pyout",
       "prompt_number": 10,
       "text": [
        "(2458, 2)"
       ]
      }
     ],
     "prompt_number": 10
    },
    {
     "cell_type": "markdown",
     "metadata": {},
     "source": [
      "###Education/highest grade completed"
     ]
    },
    {
     "cell_type": "code",
     "collapsed": false,
     "input": [
      "hi_grade_df = pd.read_csv('hi_grade.csv')\n",
      "hi_grade_df.head()"
     ],
     "language": "python",
     "metadata": {},
     "outputs": [
      {
       "html": [
        "<div style=\"max-height:1000px;max-width:1500px;overflow:auto;\">\n",
        "<table border=\"1\" class=\"dataframe\">\n",
        "  <thead>\n",
        "    <tr style=\"text-align: right;\">\n",
        "      <th></th>\n",
        "      <th>caseid_1979</th>\n",
        "      <th>hi_grade_1979</th>\n",
        "      <th>sample_race_1979</th>\n",
        "      <th>sample_sex_1979</th>\n",
        "      <th>hi_grade_1980</th>\n",
        "      <th>hi_grade_1981</th>\n",
        "      <th>hi_grade_1982</th>\n",
        "      <th>hi_grade_1983</th>\n",
        "      <th>hi_grade_1984</th>\n",
        "      <th>hi_grade_1985</th>\n",
        "      <th>...</th>\n",
        "      <th>hi_grade_1994</th>\n",
        "      <th>hi_grade_1996</th>\n",
        "      <th>hi_grade_1998</th>\n",
        "      <th>hi_grade_2000</th>\n",
        "      <th>hi_grade_2002</th>\n",
        "      <th>hi_grade_2004</th>\n",
        "      <th>hi_grade_2006</th>\n",
        "      <th>hi_grade_2008</th>\n",
        "      <th>hi_grade_2010</th>\n",
        "      <th>hi_grade_2012</th>\n",
        "    </tr>\n",
        "  </thead>\n",
        "  <tbody>\n",
        "    <tr>\n",
        "      <th>0</th>\n",
        "      <td> 1</td>\n",
        "      <td> 12</td>\n",
        "      <td> 3</td>\n",
        "      <td> 2</td>\n",
        "      <td> -5</td>\n",
        "      <td> -4</td>\n",
        "      <td> -5</td>\n",
        "      <td> -5</td>\n",
        "      <td> -5</td>\n",
        "      <td> -5</td>\n",
        "      <td>...</td>\n",
        "      <td> -5</td>\n",
        "      <td>-5</td>\n",
        "      <td>-5</td>\n",
        "      <td>-5</td>\n",
        "      <td>-5</td>\n",
        "      <td>-5</td>\n",
        "      <td>-5</td>\n",
        "      <td> -5</td>\n",
        "      <td> -5</td>\n",
        "      <td> -5</td>\n",
        "    </tr>\n",
        "    <tr>\n",
        "      <th>1</th>\n",
        "      <td> 2</td>\n",
        "      <td>  9</td>\n",
        "      <td> 3</td>\n",
        "      <td> 2</td>\n",
        "      <td> -4</td>\n",
        "      <td> -4</td>\n",
        "      <td> -4</td>\n",
        "      <td> -4</td>\n",
        "      <td> -4</td>\n",
        "      <td> 12</td>\n",
        "      <td>...</td>\n",
        "      <td> -4</td>\n",
        "      <td>-4</td>\n",
        "      <td>-4</td>\n",
        "      <td>-4</td>\n",
        "      <td>-4</td>\n",
        "      <td>-4</td>\n",
        "      <td>-4</td>\n",
        "      <td> 13</td>\n",
        "      <td> 13</td>\n",
        "      <td> 13</td>\n",
        "    </tr>\n",
        "    <tr>\n",
        "      <th>2</th>\n",
        "      <td> 3</td>\n",
        "      <td> 10</td>\n",
        "      <td> 3</td>\n",
        "      <td> 2</td>\n",
        "      <td> 10</td>\n",
        "      <td> -5</td>\n",
        "      <td> -4</td>\n",
        "      <td> -4</td>\n",
        "      <td> -4</td>\n",
        "      <td> -4</td>\n",
        "      <td>...</td>\n",
        "      <td> 13</td>\n",
        "      <td>-4</td>\n",
        "      <td>-4</td>\n",
        "      <td>-4</td>\n",
        "      <td>-4</td>\n",
        "      <td>-5</td>\n",
        "      <td>-4</td>\n",
        "      <td> 12</td>\n",
        "      <td> -5</td>\n",
        "      <td> 10</td>\n",
        "    </tr>\n",
        "    <tr>\n",
        "      <th>3</th>\n",
        "      <td> 4</td>\n",
        "      <td>  9</td>\n",
        "      <td> 3</td>\n",
        "      <td> 2</td>\n",
        "      <td> -5</td>\n",
        "      <td> -4</td>\n",
        "      <td> -4</td>\n",
        "      <td> -4</td>\n",
        "      <td> 13</td>\n",
        "      <td> 13</td>\n",
        "      <td>...</td>\n",
        "      <td> -5</td>\n",
        "      <td>-4</td>\n",
        "      <td>-4</td>\n",
        "      <td>-5</td>\n",
        "      <td>-5</td>\n",
        "      <td>-5</td>\n",
        "      <td>-5</td>\n",
        "      <td> -5</td>\n",
        "      <td> -5</td>\n",
        "      <td> -5</td>\n",
        "    </tr>\n",
        "    <tr>\n",
        "      <th>4</th>\n",
        "      <td> 5</td>\n",
        "      <td> 13</td>\n",
        "      <td> 3</td>\n",
        "      <td> 1</td>\n",
        "      <td> 14</td>\n",
        "      <td> 15</td>\n",
        "      <td> 16</td>\n",
        "      <td> 17</td>\n",
        "      <td> 18</td>\n",
        "      <td> -5</td>\n",
        "      <td>...</td>\n",
        "      <td> -5</td>\n",
        "      <td>-5</td>\n",
        "      <td>-5</td>\n",
        "      <td>-5</td>\n",
        "      <td>-5</td>\n",
        "      <td>-5</td>\n",
        "      <td>-5</td>\n",
        "      <td> -5</td>\n",
        "      <td> -5</td>\n",
        "      <td> -5</td>\n",
        "    </tr>\n",
        "  </tbody>\n",
        "</table>\n",
        "<p>5 rows \u00d7 28 columns</p>\n",
        "</div>"
       ],
       "metadata": {},
       "output_type": "pyout",
       "prompt_number": 11,
       "text": [
        "   caseid_1979  hi_grade_1979  sample_race_1979  sample_sex_1979  \\\n",
        "0            1             12                 3                2   \n",
        "1            2              9                 3                2   \n",
        "2            3             10                 3                2   \n",
        "3            4              9                 3                2   \n",
        "4            5             13                 3                1   \n",
        "\n",
        "   hi_grade_1980  hi_grade_1981  hi_grade_1982  hi_grade_1983  hi_grade_1984  \\\n",
        "0             -5             -4             -5             -5             -5   \n",
        "1             -4             -4             -4             -4             -4   \n",
        "2             10             -5             -4             -4             -4   \n",
        "3             -5             -4             -4             -4             13   \n",
        "4             14             15             16             17             18   \n",
        "\n",
        "   hi_grade_1985      ...        hi_grade_1994  hi_grade_1996  hi_grade_1998  \\\n",
        "0             -5      ...                   -5             -5             -5   \n",
        "1             12      ...                   -4             -4             -4   \n",
        "2             -4      ...                   13             -4             -4   \n",
        "3             13      ...                   -5             -4             -4   \n",
        "4             -5      ...                   -5             -5             -5   \n",
        "\n",
        "   hi_grade_2000  hi_grade_2002  hi_grade_2004  hi_grade_2006  hi_grade_2008  \\\n",
        "0             -5             -5             -5             -5             -5   \n",
        "1             -4             -4             -4             -4             13   \n",
        "2             -4             -4             -5             -4             12   \n",
        "3             -5             -5             -5             -5             -5   \n",
        "4             -5             -5             -5             -5             -5   \n",
        "\n",
        "   hi_grade_2010  hi_grade_2012  \n",
        "0             -5             -5  \n",
        "1             13             13  \n",
        "2             -5             10  \n",
        "3             -5             -5  \n",
        "4             -5             -5  \n",
        "\n",
        "[5 rows x 28 columns]"
       ]
      }
     ],
     "prompt_number": 11
    },
    {
     "cell_type": "code",
     "collapsed": false,
     "input": [
      "hi_grade = []\n",
      "hi_grade_last = []\n",
      "\n",
      "for i in sample:\n",
      "    row = hi_grade_df[hi_grade_df.caseid_1979==i].iloc[0]\n",
      "    vals = [row['hi_grade_%s'%y] for y in years if row['hi_grade_%s'%y]<95 and row['hi_grade_%s'%y]>0] # do not include grade 95 (which stands for ungraded study)\n",
      "    \n",
      "    hi_grade.append(max(vals)) #use the maximum\n",
      "    hi_grade_last.append(vals[-1]) # use the last valid answer for highest grade completed"
     ],
     "language": "python",
     "metadata": {},
     "outputs": [],
     "prompt_number": 12
    },
    {
     "cell_type": "code",
     "collapsed": false,
     "input": [
      "same = [hi_grade[i]==hi_grade_last[i] for i in range(2458)]\n",
      "print 'Same: %s, different: %s'%(same.count(True), same.count(False))"
     ],
     "language": "python",
     "metadata": {},
     "outputs": [
      {
       "output_type": "stream",
       "stream": "stdout",
       "text": [
        "Same: 1816, different: 642\n"
       ]
      }
     ],
     "prompt_number": 13
    },
    {
     "cell_type": "code",
     "collapsed": false,
     "input": [
      "#plot distribution of difference between max highest grade and highest grade reported in last year surveyd\n",
      "diff = [hi_grade[i]-hi_grade_last[i] for i in range(2458) if hi_grade[i]-hi_grade_last[i]>0]\n",
      "diff_fig = plt.hist(diff, bins=1000)"
     ],
     "language": "python",
     "metadata": {},
     "outputs": [
      {
       "metadata": {},
       "output_type": "display_data",
       "png": "[encoded data removed]",
       "text": [
        "<matplotlib.figure.Figure at 0x10a2f0ad0>"
       ]
      }
     ],
     "prompt_number": 14
    },
    {
     "cell_type": "code",
     "collapsed": false,
     "input": [
      "#take hi grade reported in last year surveyed for now\n",
      "iv_df[\"higrade\"] = hi_grade_last\n",
      "iv_df.head()"
     ],
     "language": "python",
     "metadata": {},
     "outputs": [
      {
       "html": [
        "<div style=\"max-height:1000px;max-width:1500px;overflow:auto;\">\n",
        "<table border=\"1\" class=\"dataframe\">\n",
        "  <thead>\n",
        "    <tr style=\"text-align: right;\">\n",
        "      <th></th>\n",
        "      <th>id</th>\n",
        "      <th>wt</th>\n",
        "      <th>higrade</th>\n",
        "    </tr>\n",
        "  </thead>\n",
        "  <tbody>\n",
        "    <tr>\n",
        "      <th>0</th>\n",
        "      <td>  2</td>\n",
        "      <td> 763795</td>\n",
        "      <td> 13</td>\n",
        "    </tr>\n",
        "    <tr>\n",
        "      <th>1</th>\n",
        "      <td>  3</td>\n",
        "      <td> 536272</td>\n",
        "      <td> 10</td>\n",
        "    </tr>\n",
        "    <tr>\n",
        "      <th>2</th>\n",
        "      <td>  4</td>\n",
        "      <td> 565820</td>\n",
        "      <td> 14</td>\n",
        "    </tr>\n",
        "    <tr>\n",
        "      <th>3</th>\n",
        "      <td> 16</td>\n",
        "      <td> 729160</td>\n",
        "      <td> 12</td>\n",
        "    </tr>\n",
        "    <tr>\n",
        "      <th>4</th>\n",
        "      <td> 19</td>\n",
        "      <td> 770089</td>\n",
        "      <td> 12</td>\n",
        "    </tr>\n",
        "  </tbody>\n",
        "</table>\n",
        "</div>"
       ],
       "metadata": {},
       "output_type": "pyout",
       "prompt_number": 15,
       "text": [
        "   id      wt  higrade\n",
        "0   2  763795       13\n",
        "1   3  536272       10\n",
        "2   4  565820       14\n",
        "3  16  729160       12\n",
        "4  19  770089       12"
       ]
      }
     ],
     "prompt_number": 15
    },
    {
     "cell_type": "markdown",
     "metadata": {},
     "source": [
      "###Age at first birth"
     ]
    },
    {
     "cell_type": "code",
     "collapsed": false,
     "input": [
      "age_df = pd.read_csv('ageatint.csv')\n",
      "age_df.head()"
     ],
     "language": "python",
     "metadata": {},
     "outputs": [
      {
       "html": [
        "<div style=\"max-height:1000px;max-width:1500px;overflow:auto;\">\n",
        "<table border=\"1\" class=\"dataframe\">\n",
        "  <thead>\n",
        "    <tr style=\"text-align: right;\">\n",
        "      <th></th>\n",
        "      <th>caseid_1979</th>\n",
        "      <th>ageatint_1979</th>\n",
        "      <th>ageatint_1980</th>\n",
        "      <th>ageatint_1981</th>\n",
        "      <th>ageatint_1982</th>\n",
        "      <th>ageatint_1983</th>\n",
        "      <th>ageatint_1984</th>\n",
        "      <th>ageatint_1985</th>\n",
        "      <th>ageatint_1986</th>\n",
        "      <th>ageatint_1987</th>\n",
        "      <th>...</th>\n",
        "      <th>ageatint_1994</th>\n",
        "      <th>ageatint_1996</th>\n",
        "      <th>ageatint_1998</th>\n",
        "      <th>ageatint_2000</th>\n",
        "      <th>ageatint_2002</th>\n",
        "      <th>ageatint_2004</th>\n",
        "      <th>ageatint_2006</th>\n",
        "      <th>ageatint_2008</th>\n",
        "      <th>ageatint_2010</th>\n",
        "      <th>ageatint_2012</th>\n",
        "    </tr>\n",
        "  </thead>\n",
        "  <tbody>\n",
        "    <tr>\n",
        "      <th>0</th>\n",
        "      <td> 1</td>\n",
        "      <td> 20</td>\n",
        "      <td> -5</td>\n",
        "      <td> 22</td>\n",
        "      <td> -5</td>\n",
        "      <td> -5</td>\n",
        "      <td> -5</td>\n",
        "      <td> -5</td>\n",
        "      <td> -5</td>\n",
        "      <td> -5</td>\n",
        "      <td>...</td>\n",
        "      <td> -5</td>\n",
        "      <td> -5</td>\n",
        "      <td> -5</td>\n",
        "      <td> -5</td>\n",
        "      <td> -5</td>\n",
        "      <td> -5</td>\n",
        "      <td> -5</td>\n",
        "      <td> -5</td>\n",
        "      <td> -5</td>\n",
        "      <td> -5</td>\n",
        "    </tr>\n",
        "    <tr>\n",
        "      <th>1</th>\n",
        "      <td> 2</td>\n",
        "      <td> 20</td>\n",
        "      <td> 21</td>\n",
        "      <td> 22</td>\n",
        "      <td> 23</td>\n",
        "      <td> 24</td>\n",
        "      <td> 25</td>\n",
        "      <td> 26</td>\n",
        "      <td> 27</td>\n",
        "      <td> 28</td>\n",
        "      <td>...</td>\n",
        "      <td> 35</td>\n",
        "      <td> 37</td>\n",
        "      <td> 39</td>\n",
        "      <td> 41</td>\n",
        "      <td> 43</td>\n",
        "      <td> 45</td>\n",
        "      <td> 47</td>\n",
        "      <td> 49</td>\n",
        "      <td> 51</td>\n",
        "      <td> 53</td>\n",
        "    </tr>\n",
        "    <tr>\n",
        "      <th>2</th>\n",
        "      <td> 3</td>\n",
        "      <td> 17</td>\n",
        "      <td> 18</td>\n",
        "      <td> -5</td>\n",
        "      <td> 20</td>\n",
        "      <td> 21</td>\n",
        "      <td> 22</td>\n",
        "      <td> 23</td>\n",
        "      <td> 24</td>\n",
        "      <td> 25</td>\n",
        "      <td>...</td>\n",
        "      <td> 33</td>\n",
        "      <td> 34</td>\n",
        "      <td> 36</td>\n",
        "      <td> 38</td>\n",
        "      <td> 40</td>\n",
        "      <td> -5</td>\n",
        "      <td> 44</td>\n",
        "      <td> 47</td>\n",
        "      <td> -5</td>\n",
        "      <td> 51</td>\n",
        "    </tr>\n",
        "    <tr>\n",
        "      <th>3</th>\n",
        "      <td> 4</td>\n",
        "      <td> 16</td>\n",
        "      <td> -5</td>\n",
        "      <td> 18</td>\n",
        "      <td> 19</td>\n",
        "      <td> 20</td>\n",
        "      <td> 21</td>\n",
        "      <td> 22</td>\n",
        "      <td> 23</td>\n",
        "      <td> 25</td>\n",
        "      <td>...</td>\n",
        "      <td> -5</td>\n",
        "      <td> 33</td>\n",
        "      <td> 35</td>\n",
        "      <td> -5</td>\n",
        "      <td> -5</td>\n",
        "      <td> -5</td>\n",
        "      <td> -5</td>\n",
        "      <td> -5</td>\n",
        "      <td> -5</td>\n",
        "      <td> -5</td>\n",
        "    </tr>\n",
        "    <tr>\n",
        "      <th>4</th>\n",
        "      <td> 5</td>\n",
        "      <td> 19</td>\n",
        "      <td> 20</td>\n",
        "      <td> 21</td>\n",
        "      <td> 22</td>\n",
        "      <td> 23</td>\n",
        "      <td> 24</td>\n",
        "      <td> -5</td>\n",
        "      <td> 26</td>\n",
        "      <td> -5</td>\n",
        "      <td>...</td>\n",
        "      <td> -5</td>\n",
        "      <td> -5</td>\n",
        "      <td> -5</td>\n",
        "      <td> -5</td>\n",
        "      <td> -5</td>\n",
        "      <td> -5</td>\n",
        "      <td> -5</td>\n",
        "      <td> -5</td>\n",
        "      <td> -5</td>\n",
        "      <td> -5</td>\n",
        "    </tr>\n",
        "  </tbody>\n",
        "</table>\n",
        "<p>5 rows \u00d7 26 columns</p>\n",
        "</div>"
       ],
       "metadata": {},
       "output_type": "pyout",
       "prompt_number": 16,
       "text": [
        "   caseid_1979  ageatint_1979  ageatint_1980  ageatint_1981  ageatint_1982  \\\n",
        "0            1             20             -5             22             -5   \n",
        "1            2             20             21             22             23   \n",
        "2            3             17             18             -5             20   \n",
        "3            4             16             -5             18             19   \n",
        "4            5             19             20             21             22   \n",
        "\n",
        "   ageatint_1983  ageatint_1984  ageatint_1985  ageatint_1986  ageatint_1987  \\\n",
        "0             -5             -5             -5             -5             -5   \n",
        "1             24             25             26             27             28   \n",
        "2             21             22             23             24             25   \n",
        "3             20             21             22             23             25   \n",
        "4             23             24             -5             26             -5   \n",
        "\n",
        "       ...        ageatint_1994  ageatint_1996  ageatint_1998  ageatint_2000  \\\n",
        "0      ...                   -5             -5             -5             -5   \n",
        "1      ...                   35             37             39             41   \n",
        "2      ...                   33             34             36             38   \n",
        "3      ...                   -5             33             35             -5   \n",
        "4      ...                   -5             -5             -5             -5   \n",
        "\n",
        "   ageatint_2002  ageatint_2004  ageatint_2006  ageatint_2008  ageatint_2010  \\\n",
        "0             -5             -5             -5             -5             -5   \n",
        "1             43             45             47             49             51   \n",
        "2             40             -5             44             47             -5   \n",
        "3             -5             -5             -5             -5             -5   \n",
        "4             -5             -5             -5             -5             -5   \n",
        "\n",
        "   ageatint_2012  \n",
        "0             -5  \n",
        "1             53  \n",
        "2             51  \n",
        "3             -5  \n",
        "4             -5  \n",
        "\n",
        "[5 rows x 26 columns]"
       ]
      }
     ],
     "prompt_number": 16
    },
    {
     "cell_type": "code",
     "collapsed": false,
     "input": [
      "age = [analytic_df[analytic_df.caseid_1979==i].iloc[0]['c1dob_y_xrnd']\n",
      "       -1979\n",
      "       +age_df[age_df.caseid_1979==i].iloc[0]['ageatint_1979'] for i in sample]\n",
      "\n",
      "age_fig = plt.hist(age, bins=1000)"
     ],
     "language": "python",
     "metadata": {},
     "outputs": [
      {
       "metadata": {},
       "output_type": "display_data",
       "png": "[encoded data removed]",
       "text": [
        "<matplotlib.figure.Figure at 0x10b009390>"
       ]
      }
     ],
     "prompt_number": 17
    },
    {
     "cell_type": "code",
     "collapsed": false,
     "input": [
      "iv_df['age_at_first_birth'] = age\n",
      "iv_df.head()"
     ],
     "language": "python",
     "metadata": {},
     "outputs": [
      {
       "html": [
        "<div style=\"max-height:1000px;max-width:1500px;overflow:auto;\">\n",
        "<table border=\"1\" class=\"dataframe\">\n",
        "  <thead>\n",
        "    <tr style=\"text-align: right;\">\n",
        "      <th></th>\n",
        "      <th>id</th>\n",
        "      <th>wt</th>\n",
        "      <th>higrade</th>\n",
        "      <th>age_at_first_birth</th>\n",
        "    </tr>\n",
        "  </thead>\n",
        "  <tbody>\n",
        "    <tr>\n",
        "      <th>0</th>\n",
        "      <td>  2</td>\n",
        "      <td> 763795</td>\n",
        "      <td> 13</td>\n",
        "      <td> 34</td>\n",
        "    </tr>\n",
        "    <tr>\n",
        "      <th>1</th>\n",
        "      <td>  3</td>\n",
        "      <td> 536272</td>\n",
        "      <td> 10</td>\n",
        "      <td> 19</td>\n",
        "    </tr>\n",
        "    <tr>\n",
        "      <th>2</th>\n",
        "      <td>  4</td>\n",
        "      <td> 565820</td>\n",
        "      <td> 14</td>\n",
        "      <td> 17</td>\n",
        "    </tr>\n",
        "    <tr>\n",
        "      <th>3</th>\n",
        "      <td> 16</td>\n",
        "      <td> 729160</td>\n",
        "      <td> 12</td>\n",
        "      <td> 31</td>\n",
        "    </tr>\n",
        "    <tr>\n",
        "      <th>4</th>\n",
        "      <td> 19</td>\n",
        "      <td> 770089</td>\n",
        "      <td> 12</td>\n",
        "      <td> 29</td>\n",
        "    </tr>\n",
        "  </tbody>\n",
        "</table>\n",
        "</div>"
       ],
       "metadata": {},
       "output_type": "pyout",
       "prompt_number": 18,
       "text": [
        "   id      wt  higrade  age_at_first_birth\n",
        "0   2  763795       13                  34\n",
        "1   3  536272       10                  19\n",
        "2   4  565820       14                  17\n",
        "3  16  729160       12                  31\n",
        "4  19  770089       12                  29"
       ]
      }
     ],
     "prompt_number": 18
    },
    {
     "cell_type": "markdown",
     "metadata": {},
     "source": [
      "###Occupation and Industry of the Last Job Held prior to 12 Months Before First Birth"
     ]
    },
    {
     "cell_type": "code",
     "collapsed": false,
     "input": [
      "occ_df = pd.read_csv(\"occupation.csv\")\n",
      "ind_df = pd.read_csv(\"industry.csv\")\n",
      "hrrate_df = pd.read_csv(\"hrrate.csv\")\n",
      "jobdates_df = pd.read_csv(\"jobdates.csv\")"
     ],
     "language": "python",
     "metadata": {},
     "outputs": [],
     "prompt_number": 19
    },
    {
     "cell_type": "code",
     "collapsed": false,
     "input": [
      "occ_df.columns[:10]"
     ],
     "language": "python",
     "metadata": {},
     "outputs": [
      {
       "metadata": {},
       "output_type": "pyout",
       "prompt_number": 20,
       "text": [
        "Index([u'caseid_1979', u'cpsocc70_1979', u'occall_emp_02_1979', u'occall_emp_03_1979', u'occall_emp_04_1979', u'occall_emp_05_1979', u'cpsocc70_1980', u'occall_emp_01_1980', u'occall_emp_02_1980', u'occall_emp_03_1980'], dtype='object')"
       ]
      }
     ],
     "prompt_number": 20
    },
    {
     "cell_type": "markdown",
     "metadata": {},
     "source": [
      "Sometimes the occupations are available for job 1-5 and/or for cps job in 1970/1980 census codes. I recorded the variables available for each year:\n",
      "\n",
      "\n",
      "cpsocc70_1979\n",
      "\n",
      "cpsocc70_1980\n",
      "occall_emp_01_1980\n",
      "\n",
      "cpsocc70_1981\n",
      "occall_emp_01_1981\n",
      "\n",
      "cpsocc70_1982\n",
      "cpsocc80_1982\n",
      "occall_emp_01_1982\n",
      "\n",
      "cpsocc70_1983\n",
      "cpsocc80_1983\n",
      "occall_emp_01_1983\n",
      "\n",
      "cpsocc70_1984\n",
      "cpsocc80_1984\n",
      "occall_emp_01_1984\n",
      "\n",
      "cpsocc70_1985\n",
      "cpsocc80_1985\n",
      "occall_emp_01_1985\n",
      "\n",
      "cpsocc70_1986\n",
      "cpsocc80_1986\n",
      "occall_emp_01_1986\n",
      "\n",
      "cpsocc70_1987\n",
      "cpsocc80_1987\n",
      "occall_emp_01_1987\n",
      "\n",
      "cpsocc70_1988\n",
      "cpsocc80_1988\n",
      "occall_emp_01_1988\n",
      "\n",
      "cpsocc70_1989\n",
      "cpsocc80_1989\n",
      "occall_emp_01_1989\n",
      "\n",
      "cpsocc70_1990\n",
      "cpsocc80_1990\n",
      "occall_emp_01_1990\n",
      "\n",
      "cpsocc70_1991\n",
      "cpsocc80_1991\n",
      "occall_emp_01_1991\n",
      "\n",
      "cpsocc70_1992\n",
      "cpsocc80_1992\n",
      "occall_emp_01_1992\n",
      "\n",
      "cpsocc70_1993\n",
      "cpsocc80_1993\n",
      "\n",
      "cpsocc80_1994\n",
      "occall_emp_01_1994\n",
      "\n",
      "occall_emp_01_1996\n",
      "cpsocc80_1996\n",
      "\n",
      "occall_emp_01_1998\n",
      "cpsocc80_1998\n",
      "\n",
      "occall_emp_01_2000\n",
      "cpsocc80_01_2000\n",
      "\n",
      "occall_emp_01_2002\n",
      "\n",
      "occall_emp_01_2004\n",
      "\n",
      "occall_emp_01_2006\n",
      "\n",
      "occall_emp_01_2008\n",
      "\n",
      "occall_emp_01_2010\n",
      "\n",
      "occall_emp_01_2012"
     ]
    },
    {
     "cell_type": "code",
     "collapsed": false,
     "input": [
      "ind_df.columns[:10]"
     ],
     "language": "python",
     "metadata": {},
     "outputs": [
      {
       "metadata": {},
       "output_type": "pyout",
       "prompt_number": 21,
       "text": [
        "Index([u'caseid_1979', u'cpsind70_1979', u'indall_emp_02_1979', u'indall_emp_03_1979', u'indall_emp_04_1979', u'indall_emp_05_1979', u'cpsind70_1980', u'indall_emp_01_1980', u'indall_emp_02_1980', u'indall_emp_03_1980'], dtype='object')"
       ]
      }
     ],
     "prompt_number": 21
    },
    {
     "cell_type": "markdown",
     "metadata": {},
     "source": [
      "The first industry variable has the same pattern as occupations"
     ]
    },
    {
     "cell_type": "code",
     "collapsed": false,
     "input": [
      "def get_occ_ind(i, choice_num, choice_yr):\n",
      "    \"\"\"\n",
      "    \"\"\"\n",
      "    \n",
      "    occ_row = occ_df[occ_df.caseid_1979==i].iloc[0]\n",
      "    ind_row = ind_df[ind_df.caseid_1979==i].iloc[0]\n",
      "\n",
      "    # occupation (all in 1970 census codes)\n",
      "    if choice_num==1:\n",
      "        try: \n",
      "            occ_name = 'cpsocc70_%s'%choice_yr\n",
      "            if int(occ_row[occ_name])<0 and int(occ_row['occall_emp_01_%s'%choice_yr])>0:\n",
      "                occ_name = 'occall_emp_01_%s'%choice_yr\n",
      "        except KeyError:\n",
      "            occ_name = 'occall_emp_01_%s'%choice_yr\n",
      "            \n",
      "    else:\n",
      "        occ_name = 'occall_emp_%02d_%i'%(choice_num, choice_yr)\n",
      "\n",
      "    occ = int(occ_row[occ_name])\n",
      "    if occ<0:\n",
      "        occ=None\n",
      "        \n",
      "       \n",
      "    # industry    \n",
      "    if choice_num==1:\n",
      "        try: \n",
      "            ind_name = 'cpsind70_%s'%choice_yr      \n",
      "            if int(ind_row[ind_name])<0 and int(ind_row['indall_emp_01_%s'%choice_yr])>0:\n",
      "                ind_name = 'indall_emp_01_%s'%choice_yr\n",
      "        except KeyError:\n",
      "            ind_name = 'indall_emp_01_%s'%choice_yr\n",
      "    else:    \n",
      "        ind_name = 'indall_emp_%02d_%i'%(choice_num, choice_yr)\n",
      "        \n",
      "        \n",
      "    ind = int(ind_row[ind_name])\n",
      "    if ind<0:\n",
      "        ind=None\n",
      "    \n",
      "    return(occ, ind)"
     ],
     "language": "python",
     "metadata": {},
     "outputs": [],
     "prompt_number": 22
    },
    {
     "cell_type": "code",
     "collapsed": false,
     "input": [
      "hrrate_df.columns[:10]"
     ],
     "language": "python",
     "metadata": {},
     "outputs": [
      {
       "metadata": {},
       "output_type": "pyout",
       "prompt_number": 23,
       "text": [
        "Index([u'caseid_1979', u'cpshrp_1979', u'hrp1_1979', u'hrp2_1979', u'hrp3_1979', u'hrp4_1979', u'hrp5_1979', u'cpshrp_1980', u'hrp1_1980', u'hrp2_1980'], dtype='object')"
       ]
      }
     ],
     "prompt_number": 23
    },
    {
     "cell_type": "code",
     "collapsed": false,
     "input": [
      "jobdates_df.columns[:10]"
     ],
     "language": "python",
     "metadata": {},
     "outputs": [
      {
       "metadata": {},
       "output_type": "pyout",
       "prompt_number": 24,
       "text": [
        "Index([u'caseid_1979', u'start_wk_1979_job01_xrnd', u'start_wk_1979_job02_xrnd', u'start_wk_1979_job03_xrnd', u'start_wk_1979_job04_xrnd', u'start_wk_1979_job05_xrnd', u'stop_wk_1979_job01_xrnd', u'stop_wk_1979_job02_xrnd', u'stop_wk_1979_job03_xrnd', u'stop_wk_1979_job04_xrnd'], dtype='object')"
       ]
      }
     ],
     "prompt_number": 24
    },
    {
     "cell_type": "code",
     "collapsed": false,
     "input": [
      "print 'year | # same | # different'\n",
      "for year in years:\n",
      "    try: \n",
      "        same = (hrrate_df['cpshrp_%i'%year]==hrrate_df['hrp1_%i'%year]).values.tolist()\n",
      "        print year, '|', same.count(True), '|', same.count(False)\n",
      "    except KeyError:\n",
      "        pass"
     ],
     "language": "python",
     "metadata": {},
     "outputs": [
      {
       "output_type": "stream",
       "stream": "stdout",
       "text": [
        "year | # same | # different\n",
        "1979 | 12686 | 0\n",
        "1980 | 11075 | 1611\n",
        "1981 | 11050 | 1636\n",
        "1982 | 12404 | 282\n",
        "1983 | 12582 | 104\n",
        "1984 | 12548 | 138\n",
        "1985 | 12610 | 76\n",
        "1986 | 12635 | 51\n",
        "1987 | 12666 | 20\n",
        "1988 | 12468 | 218\n",
        "1989 | 12608 | 78\n",
        "1990 | 12630 | 56\n",
        "1991 | 12663 | 23\n",
        "1992 | 12603 | 83\n",
        "1993 | 12650 | 36\n",
        "1994 | 12665 | 21\n"
       ]
      }
     ],
     "prompt_number": 25
    },
    {
     "cell_type": "code",
     "collapsed": false,
     "input": [
      "#for example\n",
      "year = 1980\n",
      "hrrate_df[(hrrate_df['cpshrp_%i'%year]==hrrate_df['hrp1_%i'%year])==False]"
     ],
     "language": "python",
     "metadata": {},
     "outputs": [
      {
       "html": [
        "<div style=\"max-height:1000px;max-width:1500px;overflow:auto;\">\n",
        "<table border=\"1\" class=\"dataframe\">\n",
        "  <thead>\n",
        "    <tr style=\"text-align: right;\">\n",
        "      <th></th>\n",
        "      <th>caseid_1979</th>\n",
        "      <th>cpshrp_1979</th>\n",
        "      <th>hrp1_1979</th>\n",
        "      <th>hrp2_1979</th>\n",
        "      <th>hrp3_1979</th>\n",
        "      <th>hrp4_1979</th>\n",
        "      <th>hrp5_1979</th>\n",
        "      <th>cpshrp_1980</th>\n",
        "      <th>hrp1_1980</th>\n",
        "      <th>hrp2_1980</th>\n",
        "      <th>...</th>\n",
        "      <th>hrp1_2010</th>\n",
        "      <th>hrp2_2010</th>\n",
        "      <th>hrp3_2010</th>\n",
        "      <th>hrp4_2010</th>\n",
        "      <th>hrp5_2010</th>\n",
        "      <th>hrp1_2012</th>\n",
        "      <th>hrp2_2012</th>\n",
        "      <th>hrp3_2012</th>\n",
        "      <th>hrp4_2012</th>\n",
        "      <th>hrp5_2012</th>\n",
        "    </tr>\n",
        "  </thead>\n",
        "  <tbody>\n",
        "    <tr>\n",
        "      <th>7    </th>\n",
        "      <td>     8</td>\n",
        "      <td>  -4</td>\n",
        "      <td>  -4</td>\n",
        "      <td>  -4</td>\n",
        "      <td>  -4</td>\n",
        "      <td>  -4</td>\n",
        "      <td>-4</td>\n",
        "      <td>  -4</td>\n",
        "      <td>  394</td>\n",
        "      <td>  -4</td>\n",
        "      <td>...</td>\n",
        "      <td>  2019</td>\n",
        "      <td>  800</td>\n",
        "      <td>   -4</td>\n",
        "      <td>-4</td>\n",
        "      <td>-4</td>\n",
        "      <td> 1615</td>\n",
        "      <td>  800</td>\n",
        "      <td>-4</td>\n",
        "      <td>-4</td>\n",
        "      <td>-4</td>\n",
        "    </tr>\n",
        "    <tr>\n",
        "      <th>15   </th>\n",
        "      <td>    16</td>\n",
        "      <td> 455</td>\n",
        "      <td> 455</td>\n",
        "      <td>  -4</td>\n",
        "      <td>  -4</td>\n",
        "      <td>  -4</td>\n",
        "      <td>-4</td>\n",
        "      <td>  -4</td>\n",
        "      <td>  571</td>\n",
        "      <td> 489</td>\n",
        "      <td>...</td>\n",
        "      <td>  2863</td>\n",
        "      <td> 2884</td>\n",
        "      <td> 2735</td>\n",
        "      <td>-4</td>\n",
        "      <td>-4</td>\n",
        "      <td> 3643</td>\n",
        "      <td>   -4</td>\n",
        "      <td>-4</td>\n",
        "      <td>-4</td>\n",
        "      <td>-4</td>\n",
        "    </tr>\n",
        "    <tr>\n",
        "      <th>22   </th>\n",
        "      <td>    23</td>\n",
        "      <td> 353</td>\n",
        "      <td> 353</td>\n",
        "      <td> 390</td>\n",
        "      <td>  -4</td>\n",
        "      <td>  -4</td>\n",
        "      <td>-4</td>\n",
        "      <td>  -4</td>\n",
        "      <td>  431</td>\n",
        "      <td>  -4</td>\n",
        "      <td>...</td>\n",
        "      <td>    -5</td>\n",
        "      <td>   -5</td>\n",
        "      <td>   -5</td>\n",
        "      <td>-5</td>\n",
        "      <td>-5</td>\n",
        "      <td>   -5</td>\n",
        "      <td>   -5</td>\n",
        "      <td>-5</td>\n",
        "      <td>-5</td>\n",
        "      <td>-5</td>\n",
        "    </tr>\n",
        "    <tr>\n",
        "      <th>43   </th>\n",
        "      <td>    44</td>\n",
        "      <td>  -4</td>\n",
        "      <td>  -4</td>\n",
        "      <td>  -4</td>\n",
        "      <td>  -4</td>\n",
        "      <td>  -4</td>\n",
        "      <td>-4</td>\n",
        "      <td>  -4</td>\n",
        "      <td>  351</td>\n",
        "      <td>  -4</td>\n",
        "      <td>...</td>\n",
        "      <td>  1500</td>\n",
        "      <td>   -4</td>\n",
        "      <td>   -4</td>\n",
        "      <td>-4</td>\n",
        "      <td>-4</td>\n",
        "      <td> 1800</td>\n",
        "      <td>   -4</td>\n",
        "      <td>-4</td>\n",
        "      <td>-4</td>\n",
        "      <td>-4</td>\n",
        "    </tr>\n",
        "    <tr>\n",
        "      <th>55   </th>\n",
        "      <td>    56</td>\n",
        "      <td>  -4</td>\n",
        "      <td>  -4</td>\n",
        "      <td>  -4</td>\n",
        "      <td>  -4</td>\n",
        "      <td>  -4</td>\n",
        "      <td>-4</td>\n",
        "      <td>  -4</td>\n",
        "      <td>  291</td>\n",
        "      <td>  -4</td>\n",
        "      <td>...</td>\n",
        "      <td>    -5</td>\n",
        "      <td>   -5</td>\n",
        "      <td>   -5</td>\n",
        "      <td>-5</td>\n",
        "      <td>-5</td>\n",
        "      <td>   -5</td>\n",
        "      <td>   -5</td>\n",
        "      <td>-5</td>\n",
        "      <td>-5</td>\n",
        "      <td>-5</td>\n",
        "    </tr>\n",
        "    <tr>\n",
        "      <th>71   </th>\n",
        "      <td>    72</td>\n",
        "      <td> 250</td>\n",
        "      <td> 250</td>\n",
        "      <td> 312</td>\n",
        "      <td>  -4</td>\n",
        "      <td>  -4</td>\n",
        "      <td>-4</td>\n",
        "      <td>  -4</td>\n",
        "      <td>  371</td>\n",
        "      <td>  -4</td>\n",
        "      <td>...</td>\n",
        "      <td>  1895</td>\n",
        "      <td> 2200</td>\n",
        "      <td>   -4</td>\n",
        "      <td>-4</td>\n",
        "      <td>-4</td>\n",
        "      <td> 2211</td>\n",
        "      <td>   -4</td>\n",
        "      <td>-4</td>\n",
        "      <td>-4</td>\n",
        "      <td>-4</td>\n",
        "    </tr>\n",
        "    <tr>\n",
        "      <th>72   </th>\n",
        "      <td>    73</td>\n",
        "      <td>  -4</td>\n",
        "      <td>  -4</td>\n",
        "      <td>  -4</td>\n",
        "      <td>  -4</td>\n",
        "      <td>  -4</td>\n",
        "      <td>-4</td>\n",
        "      <td>  -4</td>\n",
        "      <td>  166</td>\n",
        "      <td>  -4</td>\n",
        "      <td>...</td>\n",
        "      <td>  3205</td>\n",
        "      <td> 5288</td>\n",
        "      <td>   -4</td>\n",
        "      <td>-4</td>\n",
        "      <td>-4</td>\n",
        "      <td>   -5</td>\n",
        "      <td>   -5</td>\n",
        "      <td>-5</td>\n",
        "      <td>-5</td>\n",
        "      <td>-5</td>\n",
        "    </tr>\n",
        "    <tr>\n",
        "      <th>100  </th>\n",
        "      <td>   101</td>\n",
        "      <td> 375</td>\n",
        "      <td> 375</td>\n",
        "      <td> 581</td>\n",
        "      <td>  -4</td>\n",
        "      <td>  -4</td>\n",
        "      <td>-4</td>\n",
        "      <td>  -4</td>\n",
        "      <td>  654</td>\n",
        "      <td>  -4</td>\n",
        "      <td>...</td>\n",
        "      <td>  3589</td>\n",
        "      <td>   -4</td>\n",
        "      <td>   -4</td>\n",
        "      <td>-4</td>\n",
        "      <td>-4</td>\n",
        "      <td>   -5</td>\n",
        "      <td>   -5</td>\n",
        "      <td>-5</td>\n",
        "      <td>-5</td>\n",
        "      <td>-5</td>\n",
        "    </tr>\n",
        "    <tr>\n",
        "      <th>123  </th>\n",
        "      <td>   124</td>\n",
        "      <td> 200</td>\n",
        "      <td> 200</td>\n",
        "      <td>  -4</td>\n",
        "      <td>  -4</td>\n",
        "      <td>  -4</td>\n",
        "      <td>-4</td>\n",
        "      <td>  -4</td>\n",
        "      <td>  250</td>\n",
        "      <td> 350</td>\n",
        "      <td>...</td>\n",
        "      <td>    -4</td>\n",
        "      <td>   -4</td>\n",
        "      <td>   -4</td>\n",
        "      <td>-4</td>\n",
        "      <td>-4</td>\n",
        "      <td> 1000</td>\n",
        "      <td>   -4</td>\n",
        "      <td>-4</td>\n",
        "      <td>-4</td>\n",
        "      <td>-4</td>\n",
        "    </tr>\n",
        "    <tr>\n",
        "      <th>128  </th>\n",
        "      <td>   129</td>\n",
        "      <td> 300</td>\n",
        "      <td> 300</td>\n",
        "      <td>  -4</td>\n",
        "      <td>  -4</td>\n",
        "      <td>  -4</td>\n",
        "      <td>-4</td>\n",
        "      <td>  -4</td>\n",
        "      <td>  291</td>\n",
        "      <td>  -4</td>\n",
        "      <td>...</td>\n",
        "      <td>  3685</td>\n",
        "      <td> 2000</td>\n",
        "      <td>   -4</td>\n",
        "      <td>-4</td>\n",
        "      <td>-4</td>\n",
        "      <td> 3012</td>\n",
        "      <td>   -4</td>\n",
        "      <td>-4</td>\n",
        "      <td>-4</td>\n",
        "      <td>-4</td>\n",
        "    </tr>\n",
        "    <tr>\n",
        "      <th>136  </th>\n",
        "      <td>   137</td>\n",
        "      <td> 312</td>\n",
        "      <td> 312</td>\n",
        "      <td>  -4</td>\n",
        "      <td>  -4</td>\n",
        "      <td>  -4</td>\n",
        "      <td>-4</td>\n",
        "      <td>  -4</td>\n",
        "      <td>  340</td>\n",
        "      <td>  -4</td>\n",
        "      <td>...</td>\n",
        "      <td>  7692</td>\n",
        "      <td>   -4</td>\n",
        "      <td>   -4</td>\n",
        "      <td>-4</td>\n",
        "      <td>-4</td>\n",
        "      <td> 7437</td>\n",
        "      <td>   -4</td>\n",
        "      <td>-4</td>\n",
        "      <td>-4</td>\n",
        "      <td>-4</td>\n",
        "    </tr>\n",
        "    <tr>\n",
        "      <th>143  </th>\n",
        "      <td>   144</td>\n",
        "      <td> 100</td>\n",
        "      <td> 100</td>\n",
        "      <td>  -4</td>\n",
        "      <td>  -4</td>\n",
        "      <td>  -4</td>\n",
        "      <td>-4</td>\n",
        "      <td> 100</td>\n",
        "      <td>   -4</td>\n",
        "      <td> 100</td>\n",
        "      <td>...</td>\n",
        "      <td>   905</td>\n",
        "      <td>   -4</td>\n",
        "      <td>   -4</td>\n",
        "      <td>-4</td>\n",
        "      <td>-4</td>\n",
        "      <td> 1028</td>\n",
        "      <td>   -4</td>\n",
        "      <td>-4</td>\n",
        "      <td>-4</td>\n",
        "      <td>-4</td>\n",
        "    </tr>\n",
        "    <tr>\n",
        "      <th>156  </th>\n",
        "      <td>   157</td>\n",
        "      <td>  -4</td>\n",
        "      <td>  -4</td>\n",
        "      <td> 416</td>\n",
        "      <td>  -4</td>\n",
        "      <td>  -4</td>\n",
        "      <td>-4</td>\n",
        "      <td> 800</td>\n",
        "      <td>   -4</td>\n",
        "      <td> 800</td>\n",
        "      <td>...</td>\n",
        "      <td>  2884</td>\n",
        "      <td>   -4</td>\n",
        "      <td>   -4</td>\n",
        "      <td>-4</td>\n",
        "      <td>-4</td>\n",
        "      <td> 3434</td>\n",
        "      <td>   -4</td>\n",
        "      <td>-4</td>\n",
        "      <td>-4</td>\n",
        "      <td>-4</td>\n",
        "    </tr>\n",
        "    <tr>\n",
        "      <th>158  </th>\n",
        "      <td>   159</td>\n",
        "      <td> 400</td>\n",
        "      <td> 400</td>\n",
        "      <td>  -4</td>\n",
        "      <td> 300</td>\n",
        "      <td>  -4</td>\n",
        "      <td>-4</td>\n",
        "      <td> 520</td>\n",
        "      <td>   -4</td>\n",
        "      <td> 520</td>\n",
        "      <td>...</td>\n",
        "      <td>    -5</td>\n",
        "      <td>   -5</td>\n",
        "      <td>   -5</td>\n",
        "      <td>-5</td>\n",
        "      <td>-5</td>\n",
        "      <td>   -5</td>\n",
        "      <td>   -5</td>\n",
        "      <td>-5</td>\n",
        "      <td>-5</td>\n",
        "      <td>-5</td>\n",
        "    </tr>\n",
        "    <tr>\n",
        "      <th>164  </th>\n",
        "      <td>   165</td>\n",
        "      <td> 333</td>\n",
        "      <td> 333</td>\n",
        "      <td>  -4</td>\n",
        "      <td>  -4</td>\n",
        "      <td>  -4</td>\n",
        "      <td>-4</td>\n",
        "      <td> 385</td>\n",
        "      <td>  312</td>\n",
        "      <td> 385</td>\n",
        "      <td>...</td>\n",
        "      <td>  1794</td>\n",
        "      <td>   -4</td>\n",
        "      <td>   -4</td>\n",
        "      <td>-4</td>\n",
        "      <td>-4</td>\n",
        "      <td> 1495</td>\n",
        "      <td>   -4</td>\n",
        "      <td>-4</td>\n",
        "      <td>-4</td>\n",
        "      <td>-4</td>\n",
        "    </tr>\n",
        "    <tr>\n",
        "      <th>167  </th>\n",
        "      <td>   168</td>\n",
        "      <td>  -4</td>\n",
        "      <td>  -4</td>\n",
        "      <td>  -4</td>\n",
        "      <td>  -4</td>\n",
        "      <td>  -4</td>\n",
        "      <td>-4</td>\n",
        "      <td>  -4</td>\n",
        "      <td>  295</td>\n",
        "      <td>  -4</td>\n",
        "      <td>...</td>\n",
        "      <td>  1875</td>\n",
        "      <td> 1140</td>\n",
        "      <td> 1045</td>\n",
        "      <td>-4</td>\n",
        "      <td>-4</td>\n",
        "      <td>  725</td>\n",
        "      <td>   -4</td>\n",
        "      <td>-4</td>\n",
        "      <td>-4</td>\n",
        "      <td>-4</td>\n",
        "    </tr>\n",
        "    <tr>\n",
        "      <th>175  </th>\n",
        "      <td>   176</td>\n",
        "      <td> 320</td>\n",
        "      <td> 320</td>\n",
        "      <td>  -4</td>\n",
        "      <td> 428</td>\n",
        "      <td> 500</td>\n",
        "      <td>-4</td>\n",
        "      <td> 225</td>\n",
        "      <td>   -4</td>\n",
        "      <td> 200</td>\n",
        "      <td>...</td>\n",
        "      <td>    -5</td>\n",
        "      <td>   -5</td>\n",
        "      <td>   -5</td>\n",
        "      <td>-5</td>\n",
        "      <td>-5</td>\n",
        "      <td>   -5</td>\n",
        "      <td>   -5</td>\n",
        "      <td>-5</td>\n",
        "      <td>-5</td>\n",
        "      <td>-5</td>\n",
        "    </tr>\n",
        "    <tr>\n",
        "      <th>179  </th>\n",
        "      <td>   180</td>\n",
        "      <td>  -4</td>\n",
        "      <td>  -4</td>\n",
        "      <td>  -4</td>\n",
        "      <td>  -4</td>\n",
        "      <td>  -4</td>\n",
        "      <td>-4</td>\n",
        "      <td>  -4</td>\n",
        "      <td>  450</td>\n",
        "      <td>  -4</td>\n",
        "      <td>...</td>\n",
        "      <td>    -5</td>\n",
        "      <td>   -5</td>\n",
        "      <td>   -5</td>\n",
        "      <td>-5</td>\n",
        "      <td>-5</td>\n",
        "      <td>   -5</td>\n",
        "      <td>   -5</td>\n",
        "      <td>-5</td>\n",
        "      <td>-5</td>\n",
        "      <td>-5</td>\n",
        "    </tr>\n",
        "    <tr>\n",
        "      <th>187  </th>\n",
        "      <td>   188</td>\n",
        "      <td> 337</td>\n",
        "      <td> 337</td>\n",
        "      <td> 350</td>\n",
        "      <td>  -4</td>\n",
        "      <td>  -4</td>\n",
        "      <td>-4</td>\n",
        "      <td> 360</td>\n",
        "      <td>   -4</td>\n",
        "      <td> 360</td>\n",
        "      <td>...</td>\n",
        "      <td>   860</td>\n",
        "      <td>   -4</td>\n",
        "      <td>   -4</td>\n",
        "      <td>-4</td>\n",
        "      <td>-4</td>\n",
        "      <td>  946</td>\n",
        "      <td>   -4</td>\n",
        "      <td>-4</td>\n",
        "      <td>-4</td>\n",
        "      <td>-4</td>\n",
        "    </tr>\n",
        "    <tr>\n",
        "      <th>189  </th>\n",
        "      <td>   190</td>\n",
        "      <td>  -4</td>\n",
        "      <td>  -4</td>\n",
        "      <td>  -4</td>\n",
        "      <td>  -4</td>\n",
        "      <td>  -4</td>\n",
        "      <td>-4</td>\n",
        "      <td>  -4</td>\n",
        "      <td>  295</td>\n",
        "      <td>  -4</td>\n",
        "      <td>...</td>\n",
        "      <td>  4501</td>\n",
        "      <td>   -4</td>\n",
        "      <td>   -4</td>\n",
        "      <td>-4</td>\n",
        "      <td>-4</td>\n",
        "      <td> 5384</td>\n",
        "      <td>   -4</td>\n",
        "      <td>-4</td>\n",
        "      <td>-4</td>\n",
        "      <td>-4</td>\n",
        "    </tr>\n",
        "    <tr>\n",
        "      <th>194  </th>\n",
        "      <td>   195</td>\n",
        "      <td> 375</td>\n",
        "      <td> 375</td>\n",
        "      <td>  -4</td>\n",
        "      <td> 275</td>\n",
        "      <td> 265</td>\n",
        "      <td>-4</td>\n",
        "      <td>  -4</td>\n",
        "      <td>  425</td>\n",
        "      <td>  -4</td>\n",
        "      <td>...</td>\n",
        "      <td>   480</td>\n",
        "      <td>   -4</td>\n",
        "      <td>   -4</td>\n",
        "      <td>-4</td>\n",
        "      <td>-4</td>\n",
        "      <td> 7692</td>\n",
        "      <td> 2307</td>\n",
        "      <td>-4</td>\n",
        "      <td>-4</td>\n",
        "      <td>-4</td>\n",
        "    </tr>\n",
        "    <tr>\n",
        "      <th>198  </th>\n",
        "      <td>   199</td>\n",
        "      <td> 355</td>\n",
        "      <td> 355</td>\n",
        "      <td> 437</td>\n",
        "      <td>  -4</td>\n",
        "      <td>  -4</td>\n",
        "      <td>-4</td>\n",
        "      <td>  -4</td>\n",
        "      <td>  357</td>\n",
        "      <td>  -4</td>\n",
        "      <td>...</td>\n",
        "      <td>  2500</td>\n",
        "      <td>   -4</td>\n",
        "      <td>   -4</td>\n",
        "      <td>-4</td>\n",
        "      <td>-4</td>\n",
        "      <td> 4615</td>\n",
        "      <td> 2500</td>\n",
        "      <td>-4</td>\n",
        "      <td>-4</td>\n",
        "      <td>-4</td>\n",
        "    </tr>\n",
        "    <tr>\n",
        "      <th>201  </th>\n",
        "      <td>   202</td>\n",
        "      <td>  -4</td>\n",
        "      <td>  -4</td>\n",
        "      <td>  -4</td>\n",
        "      <td>  -4</td>\n",
        "      <td>  -4</td>\n",
        "      <td>-4</td>\n",
        "      <td>  -4</td>\n",
        "      <td>  400</td>\n",
        "      <td> 400</td>\n",
        "      <td>...</td>\n",
        "      <td>   900</td>\n",
        "      <td> 1730</td>\n",
        "      <td>   -4</td>\n",
        "      <td>-4</td>\n",
        "      <td>-4</td>\n",
        "      <td>   -4</td>\n",
        "      <td> 1000</td>\n",
        "      <td>-4</td>\n",
        "      <td>-4</td>\n",
        "      <td>-4</td>\n",
        "    </tr>\n",
        "    <tr>\n",
        "      <th>206  </th>\n",
        "      <td>   207</td>\n",
        "      <td>  -4</td>\n",
        "      <td>  -4</td>\n",
        "      <td>  -4</td>\n",
        "      <td>  -4</td>\n",
        "      <td>  -4</td>\n",
        "      <td>-4</td>\n",
        "      <td>  -4</td>\n",
        "      <td>  330</td>\n",
        "      <td> 325</td>\n",
        "      <td>...</td>\n",
        "      <td>  1410</td>\n",
        "      <td> 1600</td>\n",
        "      <td>   -4</td>\n",
        "      <td>-4</td>\n",
        "      <td>-4</td>\n",
        "      <td>   -5</td>\n",
        "      <td>   -5</td>\n",
        "      <td>-5</td>\n",
        "      <td>-5</td>\n",
        "      <td>-5</td>\n",
        "    </tr>\n",
        "    <tr>\n",
        "      <th>227  </th>\n",
        "      <td>   228</td>\n",
        "      <td>  -4</td>\n",
        "      <td>  -4</td>\n",
        "      <td>  -4</td>\n",
        "      <td>  -4</td>\n",
        "      <td>  -4</td>\n",
        "      <td>-4</td>\n",
        "      <td>  -4</td>\n",
        "      <td>  325</td>\n",
        "      <td>  -4</td>\n",
        "      <td>...</td>\n",
        "      <td>   350</td>\n",
        "      <td>   -4</td>\n",
        "      <td>   -4</td>\n",
        "      <td>-4</td>\n",
        "      <td>-4</td>\n",
        "      <td>   -4</td>\n",
        "      <td>   -4</td>\n",
        "      <td>-4</td>\n",
        "      <td>-4</td>\n",
        "      <td>-4</td>\n",
        "    </tr>\n",
        "    <tr>\n",
        "      <th>244  </th>\n",
        "      <td>   245</td>\n",
        "      <td>  -4</td>\n",
        "      <td>  -4</td>\n",
        "      <td>  -4</td>\n",
        "      <td>  -4</td>\n",
        "      <td>  -4</td>\n",
        "      <td>-4</td>\n",
        "      <td>  -4</td>\n",
        "      <td>  290</td>\n",
        "      <td>  -4</td>\n",
        "      <td>...</td>\n",
        "      <td>  1983</td>\n",
        "      <td>   -4</td>\n",
        "      <td>   -4</td>\n",
        "      <td>-4</td>\n",
        "      <td>-4</td>\n",
        "      <td> 1802</td>\n",
        "      <td>   -4</td>\n",
        "      <td>-4</td>\n",
        "      <td>-4</td>\n",
        "      <td>-4</td>\n",
        "    </tr>\n",
        "    <tr>\n",
        "      <th>248  </th>\n",
        "      <td>   249</td>\n",
        "      <td>  -4</td>\n",
        "      <td>  -4</td>\n",
        "      <td> 300</td>\n",
        "      <td>  -4</td>\n",
        "      <td>  -4</td>\n",
        "      <td>-4</td>\n",
        "      <td>  -4</td>\n",
        "      <td>  290</td>\n",
        "      <td>  -4</td>\n",
        "      <td>...</td>\n",
        "      <td>   875</td>\n",
        "      <td>   -4</td>\n",
        "      <td>   -4</td>\n",
        "      <td>-4</td>\n",
        "      <td>-4</td>\n",
        "      <td>  952</td>\n",
        "      <td>   -4</td>\n",
        "      <td>-4</td>\n",
        "      <td>-4</td>\n",
        "      <td>-4</td>\n",
        "    </tr>\n",
        "    <tr>\n",
        "      <th>255  </th>\n",
        "      <td>   256</td>\n",
        "      <td> 290</td>\n",
        "      <td> 290</td>\n",
        "      <td>  -4</td>\n",
        "      <td>  -4</td>\n",
        "      <td>  -4</td>\n",
        "      <td>-4</td>\n",
        "      <td>  -4</td>\n",
        "      <td>  265</td>\n",
        "      <td>  -4</td>\n",
        "      <td>...</td>\n",
        "      <td>    -4</td>\n",
        "      <td>   -4</td>\n",
        "      <td>   -4</td>\n",
        "      <td>-4</td>\n",
        "      <td>-4</td>\n",
        "      <td>  825</td>\n",
        "      <td>   -4</td>\n",
        "      <td>-4</td>\n",
        "      <td>-4</td>\n",
        "      <td>-4</td>\n",
        "    </tr>\n",
        "    <tr>\n",
        "      <th>267  </th>\n",
        "      <td>   268</td>\n",
        "      <td> 290</td>\n",
        "      <td> 290</td>\n",
        "      <td>  -4</td>\n",
        "      <td> 300</td>\n",
        "      <td>  -4</td>\n",
        "      <td>-4</td>\n",
        "      <td>  -4</td>\n",
        "      <td>  375</td>\n",
        "      <td>  -4</td>\n",
        "      <td>...</td>\n",
        "      <td>    -4</td>\n",
        "      <td>   -4</td>\n",
        "      <td>   -4</td>\n",
        "      <td>-4</td>\n",
        "      <td>-4</td>\n",
        "      <td>   -4</td>\n",
        "      <td>   -4</td>\n",
        "      <td>-4</td>\n",
        "      <td>-4</td>\n",
        "      <td>-4</td>\n",
        "    </tr>\n",
        "    <tr>\n",
        "      <th>268  </th>\n",
        "      <td>   269</td>\n",
        "      <td>  -4</td>\n",
        "      <td>  -4</td>\n",
        "      <td>  -4</td>\n",
        "      <td> 375</td>\n",
        "      <td>  -4</td>\n",
        "      <td>-4</td>\n",
        "      <td>  -4</td>\n",
        "      <td>  315</td>\n",
        "      <td>  -4</td>\n",
        "      <td>...</td>\n",
        "      <td> 11752</td>\n",
        "      <td>   -4</td>\n",
        "      <td>   -4</td>\n",
        "      <td>-4</td>\n",
        "      <td>-4</td>\n",
        "      <td> 9230</td>\n",
        "      <td>   -4</td>\n",
        "      <td>-4</td>\n",
        "      <td>-4</td>\n",
        "      <td>-4</td>\n",
        "    </tr>\n",
        "    <tr>\n",
        "      <th>...</th>\n",
        "      <td>...</td>\n",
        "      <td>...</td>\n",
        "      <td>...</td>\n",
        "      <td>...</td>\n",
        "      <td>...</td>\n",
        "      <td>...</td>\n",
        "      <td>...</td>\n",
        "      <td>...</td>\n",
        "      <td>...</td>\n",
        "      <td>...</td>\n",
        "      <td>...</td>\n",
        "      <td>...</td>\n",
        "      <td>...</td>\n",
        "      <td>...</td>\n",
        "      <td>...</td>\n",
        "      <td>...</td>\n",
        "      <td>...</td>\n",
        "      <td>...</td>\n",
        "      <td>...</td>\n",
        "      <td>...</td>\n",
        "      <td>...</td>\n",
        "    </tr>\n",
        "    <tr>\n",
        "      <th>12366</th>\n",
        "      <td> 12367</td>\n",
        "      <td>  -4</td>\n",
        "      <td>  -4</td>\n",
        "      <td>  -4</td>\n",
        "      <td>  -4</td>\n",
        "      <td>  -4</td>\n",
        "      <td>-4</td>\n",
        "      <td>  -4</td>\n",
        "      <td>  290</td>\n",
        "      <td>  -4</td>\n",
        "      <td>...</td>\n",
        "      <td>    -5</td>\n",
        "      <td>   -5</td>\n",
        "      <td>   -5</td>\n",
        "      <td>-5</td>\n",
        "      <td>-5</td>\n",
        "      <td>   -5</td>\n",
        "      <td>   -5</td>\n",
        "      <td>-5</td>\n",
        "      <td>-5</td>\n",
        "      <td>-5</td>\n",
        "    </tr>\n",
        "    <tr>\n",
        "      <th>12370</th>\n",
        "      <td> 12371</td>\n",
        "      <td>  -4</td>\n",
        "      <td>  -4</td>\n",
        "      <td>  -4</td>\n",
        "      <td>  -4</td>\n",
        "      <td>  -4</td>\n",
        "      <td>-4</td>\n",
        "      <td>  -4</td>\n",
        "      <td>  250</td>\n",
        "      <td>  -4</td>\n",
        "      <td>...</td>\n",
        "      <td>    -5</td>\n",
        "      <td>   -5</td>\n",
        "      <td>   -5</td>\n",
        "      <td>-5</td>\n",
        "      <td>-5</td>\n",
        "      <td>   -5</td>\n",
        "      <td>   -5</td>\n",
        "      <td>-5</td>\n",
        "      <td>-5</td>\n",
        "      <td>-5</td>\n",
        "    </tr>\n",
        "    <tr>\n",
        "      <th>12378</th>\n",
        "      <td> 12379</td>\n",
        "      <td> 300</td>\n",
        "      <td> 300</td>\n",
        "      <td>  -4</td>\n",
        "      <td>  -4</td>\n",
        "      <td>  -4</td>\n",
        "      <td>-4</td>\n",
        "      <td>  -4</td>\n",
        "      <td>  400</td>\n",
        "      <td>  -4</td>\n",
        "      <td>...</td>\n",
        "      <td>    -5</td>\n",
        "      <td>   -5</td>\n",
        "      <td>   -5</td>\n",
        "      <td>-5</td>\n",
        "      <td>-5</td>\n",
        "      <td>   -5</td>\n",
        "      <td>   -5</td>\n",
        "      <td>-5</td>\n",
        "      <td>-5</td>\n",
        "      <td>-5</td>\n",
        "    </tr>\n",
        "    <tr>\n",
        "      <th>12383</th>\n",
        "      <td> 12384</td>\n",
        "      <td>  -4</td>\n",
        "      <td>  -4</td>\n",
        "      <td>  -4</td>\n",
        "      <td>  -4</td>\n",
        "      <td>  -4</td>\n",
        "      <td>-4</td>\n",
        "      <td>  -4</td>\n",
        "      <td>  270</td>\n",
        "      <td>  -4</td>\n",
        "      <td>...</td>\n",
        "      <td>    -5</td>\n",
        "      <td>   -5</td>\n",
        "      <td>   -5</td>\n",
        "      <td>-5</td>\n",
        "      <td>-5</td>\n",
        "      <td>   -5</td>\n",
        "      <td>   -5</td>\n",
        "      <td>-5</td>\n",
        "      <td>-5</td>\n",
        "      <td>-5</td>\n",
        "    </tr>\n",
        "    <tr>\n",
        "      <th>12398</th>\n",
        "      <td> 12399</td>\n",
        "      <td> 375</td>\n",
        "      <td> 375</td>\n",
        "      <td>  -4</td>\n",
        "      <td>  -4</td>\n",
        "      <td>  -4</td>\n",
        "      <td>-4</td>\n",
        "      <td> 200</td>\n",
        "      <td>   -4</td>\n",
        "      <td> 200</td>\n",
        "      <td>...</td>\n",
        "      <td>    -5</td>\n",
        "      <td>   -5</td>\n",
        "      <td>   -5</td>\n",
        "      <td>-5</td>\n",
        "      <td>-5</td>\n",
        "      <td>   -5</td>\n",
        "      <td>   -5</td>\n",
        "      <td>-5</td>\n",
        "      <td>-5</td>\n",
        "      <td>-5</td>\n",
        "    </tr>\n",
        "    <tr>\n",
        "      <th>12420</th>\n",
        "      <td> 12421</td>\n",
        "      <td> 300</td>\n",
        "      <td> 300</td>\n",
        "      <td>  -4</td>\n",
        "      <td>  -4</td>\n",
        "      <td>  -4</td>\n",
        "      <td>-4</td>\n",
        "      <td>  -4</td>\n",
        "      <td>  375</td>\n",
        "      <td>  -4</td>\n",
        "      <td>...</td>\n",
        "      <td>    -5</td>\n",
        "      <td>   -5</td>\n",
        "      <td>   -5</td>\n",
        "      <td>-5</td>\n",
        "      <td>-5</td>\n",
        "      <td>   -5</td>\n",
        "      <td>   -5</td>\n",
        "      <td>-5</td>\n",
        "      <td>-5</td>\n",
        "      <td>-5</td>\n",
        "    </tr>\n",
        "    <tr>\n",
        "      <th>12457</th>\n",
        "      <td> 12458</td>\n",
        "      <td>  -4</td>\n",
        "      <td>  -4</td>\n",
        "      <td> 248</td>\n",
        "      <td>  -4</td>\n",
        "      <td>  -4</td>\n",
        "      <td>-4</td>\n",
        "      <td>  -4</td>\n",
        "      <td>  270</td>\n",
        "      <td>  -4</td>\n",
        "      <td>...</td>\n",
        "      <td>    -5</td>\n",
        "      <td>   -5</td>\n",
        "      <td>   -5</td>\n",
        "      <td>-5</td>\n",
        "      <td>-5</td>\n",
        "      <td>   -5</td>\n",
        "      <td>   -5</td>\n",
        "      <td>-5</td>\n",
        "      <td>-5</td>\n",
        "      <td>-5</td>\n",
        "    </tr>\n",
        "    <tr>\n",
        "      <th>12462</th>\n",
        "      <td> 12463</td>\n",
        "      <td> 311</td>\n",
        "      <td> 311</td>\n",
        "      <td>  -4</td>\n",
        "      <td>  -4</td>\n",
        "      <td>  -4</td>\n",
        "      <td>-4</td>\n",
        "      <td>  -4</td>\n",
        "      <td>  340</td>\n",
        "      <td>  -4</td>\n",
        "      <td>...</td>\n",
        "      <td>    -5</td>\n",
        "      <td>   -5</td>\n",
        "      <td>   -5</td>\n",
        "      <td>-5</td>\n",
        "      <td>-5</td>\n",
        "      <td>   -5</td>\n",
        "      <td>   -5</td>\n",
        "      <td>-5</td>\n",
        "      <td>-5</td>\n",
        "      <td>-5</td>\n",
        "    </tr>\n",
        "    <tr>\n",
        "      <th>12483</th>\n",
        "      <td> 12484</td>\n",
        "      <td>  57</td>\n",
        "      <td>  57</td>\n",
        "      <td>  -4</td>\n",
        "      <td>  -4</td>\n",
        "      <td>  -4</td>\n",
        "      <td>-4</td>\n",
        "      <td>  -4</td>\n",
        "      <td>  700</td>\n",
        "      <td> 362</td>\n",
        "      <td>...</td>\n",
        "      <td>    -5</td>\n",
        "      <td>   -5</td>\n",
        "      <td>   -5</td>\n",
        "      <td>-5</td>\n",
        "      <td>-5</td>\n",
        "      <td>   -5</td>\n",
        "      <td>   -5</td>\n",
        "      <td>-5</td>\n",
        "      <td>-5</td>\n",
        "      <td>-5</td>\n",
        "    </tr>\n",
        "    <tr>\n",
        "      <th>12485</th>\n",
        "      <td> 12486</td>\n",
        "      <td> 160</td>\n",
        "      <td> 160</td>\n",
        "      <td> 125</td>\n",
        "      <td>  -4</td>\n",
        "      <td>  -4</td>\n",
        "      <td>-4</td>\n",
        "      <td>  -4</td>\n",
        "      <td>  217</td>\n",
        "      <td>  -4</td>\n",
        "      <td>...</td>\n",
        "      <td>    -5</td>\n",
        "      <td>   -5</td>\n",
        "      <td>   -5</td>\n",
        "      <td>-5</td>\n",
        "      <td>-5</td>\n",
        "      <td>   -5</td>\n",
        "      <td>   -5</td>\n",
        "      <td>-5</td>\n",
        "      <td>-5</td>\n",
        "      <td>-5</td>\n",
        "    </tr>\n",
        "    <tr>\n",
        "      <th>12497</th>\n",
        "      <td> 12498</td>\n",
        "      <td>  -4</td>\n",
        "      <td>  -4</td>\n",
        "      <td>  -4</td>\n",
        "      <td>  -4</td>\n",
        "      <td>  -4</td>\n",
        "      <td>-4</td>\n",
        "      <td>  -4</td>\n",
        "      <td>  340</td>\n",
        "      <td>  -4</td>\n",
        "      <td>...</td>\n",
        "      <td>    -5</td>\n",
        "      <td>   -5</td>\n",
        "      <td>   -5</td>\n",
        "      <td>-5</td>\n",
        "      <td>-5</td>\n",
        "      <td>   -5</td>\n",
        "      <td>   -5</td>\n",
        "      <td>-5</td>\n",
        "      <td>-5</td>\n",
        "      <td>-5</td>\n",
        "    </tr>\n",
        "    <tr>\n",
        "      <th>12500</th>\n",
        "      <td> 12501</td>\n",
        "      <td>  -4</td>\n",
        "      <td>  -4</td>\n",
        "      <td>  -4</td>\n",
        "      <td>  -4</td>\n",
        "      <td>  -4</td>\n",
        "      <td>-4</td>\n",
        "      <td>  -4</td>\n",
        "      <td>  280</td>\n",
        "      <td>  -4</td>\n",
        "      <td>...</td>\n",
        "      <td>    -5</td>\n",
        "      <td>   -5</td>\n",
        "      <td>   -5</td>\n",
        "      <td>-5</td>\n",
        "      <td>-5</td>\n",
        "      <td>   -5</td>\n",
        "      <td>   -5</td>\n",
        "      <td>-5</td>\n",
        "      <td>-5</td>\n",
        "      <td>-5</td>\n",
        "    </tr>\n",
        "    <tr>\n",
        "      <th>12501</th>\n",
        "      <td> 12502</td>\n",
        "      <td> 277</td>\n",
        "      <td> 277</td>\n",
        "      <td>  -4</td>\n",
        "      <td>  -4</td>\n",
        "      <td>  -4</td>\n",
        "      <td>-4</td>\n",
        "      <td>  -4</td>\n",
        "      <td>  366</td>\n",
        "      <td>  -4</td>\n",
        "      <td>...</td>\n",
        "      <td>    -5</td>\n",
        "      <td>   -5</td>\n",
        "      <td>   -5</td>\n",
        "      <td>-5</td>\n",
        "      <td>-5</td>\n",
        "      <td>   -5</td>\n",
        "      <td>   -5</td>\n",
        "      <td>-5</td>\n",
        "      <td>-5</td>\n",
        "      <td>-5</td>\n",
        "    </tr>\n",
        "    <tr>\n",
        "      <th>12510</th>\n",
        "      <td> 12511</td>\n",
        "      <td> 257</td>\n",
        "      <td> 257</td>\n",
        "      <td> 217</td>\n",
        "      <td>  -4</td>\n",
        "      <td>  -4</td>\n",
        "      <td>-4</td>\n",
        "      <td>  -4</td>\n",
        "      <td>  300</td>\n",
        "      <td>  -4</td>\n",
        "      <td>...</td>\n",
        "      <td>    -5</td>\n",
        "      <td>   -5</td>\n",
        "      <td>   -5</td>\n",
        "      <td>-5</td>\n",
        "      <td>-5</td>\n",
        "      <td>   -5</td>\n",
        "      <td>   -5</td>\n",
        "      <td>-5</td>\n",
        "      <td>-5</td>\n",
        "      <td>-5</td>\n",
        "    </tr>\n",
        "    <tr>\n",
        "      <th>12516</th>\n",
        "      <td> 12517</td>\n",
        "      <td>  -4</td>\n",
        "      <td>  -4</td>\n",
        "      <td>  -4</td>\n",
        "      <td>  -4</td>\n",
        "      <td>  -4</td>\n",
        "      <td>-4</td>\n",
        "      <td>  -4</td>\n",
        "      <td>  290</td>\n",
        "      <td>  -4</td>\n",
        "      <td>...</td>\n",
        "      <td>  1292</td>\n",
        "      <td> 1025</td>\n",
        "      <td>   -4</td>\n",
        "      <td>-4</td>\n",
        "      <td>-4</td>\n",
        "      <td> 1375</td>\n",
        "      <td>  944</td>\n",
        "      <td>-4</td>\n",
        "      <td>-4</td>\n",
        "      <td>-4</td>\n",
        "    </tr>\n",
        "    <tr>\n",
        "      <th>12517</th>\n",
        "      <td> 12518</td>\n",
        "      <td>  -4</td>\n",
        "      <td>  -4</td>\n",
        "      <td>  -4</td>\n",
        "      <td>  -4</td>\n",
        "      <td>  -4</td>\n",
        "      <td>-4</td>\n",
        "      <td>  -4</td>\n",
        "      <td>  290</td>\n",
        "      <td>  -4</td>\n",
        "      <td>...</td>\n",
        "      <td>    -5</td>\n",
        "      <td>   -5</td>\n",
        "      <td>   -5</td>\n",
        "      <td>-5</td>\n",
        "      <td>-5</td>\n",
        "      <td>   -5</td>\n",
        "      <td>   -5</td>\n",
        "      <td>-5</td>\n",
        "      <td>-5</td>\n",
        "      <td>-5</td>\n",
        "    </tr>\n",
        "    <tr>\n",
        "      <th>12524</th>\n",
        "      <td> 12525</td>\n",
        "      <td>  -4</td>\n",
        "      <td>  -4</td>\n",
        "      <td>  -4</td>\n",
        "      <td>  -4</td>\n",
        "      <td>  -4</td>\n",
        "      <td>-4</td>\n",
        "      <td>  -4</td>\n",
        "      <td>  375</td>\n",
        "      <td>  -4</td>\n",
        "      <td>...</td>\n",
        "      <td>    -5</td>\n",
        "      <td>   -5</td>\n",
        "      <td>   -5</td>\n",
        "      <td>-5</td>\n",
        "      <td>-5</td>\n",
        "      <td>   -5</td>\n",
        "      <td>   -5</td>\n",
        "      <td>-5</td>\n",
        "      <td>-5</td>\n",
        "      <td>-5</td>\n",
        "    </tr>\n",
        "    <tr>\n",
        "      <th>12525</th>\n",
        "      <td> 12526</td>\n",
        "      <td>  -4</td>\n",
        "      <td>  -4</td>\n",
        "      <td>  -4</td>\n",
        "      <td>  -4</td>\n",
        "      <td>  -4</td>\n",
        "      <td>-4</td>\n",
        "      <td>  -4</td>\n",
        "      <td>  310</td>\n",
        "      <td>  -4</td>\n",
        "      <td>...</td>\n",
        "      <td>    -5</td>\n",
        "      <td>   -5</td>\n",
        "      <td>   -5</td>\n",
        "      <td>-5</td>\n",
        "      <td>-5</td>\n",
        "      <td>   -5</td>\n",
        "      <td>   -5</td>\n",
        "      <td>-5</td>\n",
        "      <td>-5</td>\n",
        "      <td>-5</td>\n",
        "    </tr>\n",
        "    <tr>\n",
        "      <th>12530</th>\n",
        "      <td> 12531</td>\n",
        "      <td>  -4</td>\n",
        "      <td>  -4</td>\n",
        "      <td>  -4</td>\n",
        "      <td>  -4</td>\n",
        "      <td>  -4</td>\n",
        "      <td>-4</td>\n",
        "      <td>  -4</td>\n",
        "      <td>  275</td>\n",
        "      <td>  -4</td>\n",
        "      <td>...</td>\n",
        "      <td>    -5</td>\n",
        "      <td>   -5</td>\n",
        "      <td>   -5</td>\n",
        "      <td>-5</td>\n",
        "      <td>-5</td>\n",
        "      <td>   -5</td>\n",
        "      <td>   -5</td>\n",
        "      <td>-5</td>\n",
        "      <td>-5</td>\n",
        "      <td>-5</td>\n",
        "    </tr>\n",
        "    <tr>\n",
        "      <th>12542</th>\n",
        "      <td> 12543</td>\n",
        "      <td> 290</td>\n",
        "      <td> 290</td>\n",
        "      <td>  -4</td>\n",
        "      <td>  -4</td>\n",
        "      <td>  -4</td>\n",
        "      <td>-4</td>\n",
        "      <td>  -4</td>\n",
        "      <td>  290</td>\n",
        "      <td>  -4</td>\n",
        "      <td>...</td>\n",
        "      <td>    -5</td>\n",
        "      <td>   -5</td>\n",
        "      <td>   -5</td>\n",
        "      <td>-5</td>\n",
        "      <td>-5</td>\n",
        "      <td>   -5</td>\n",
        "      <td>   -5</td>\n",
        "      <td>-5</td>\n",
        "      <td>-5</td>\n",
        "      <td>-5</td>\n",
        "    </tr>\n",
        "    <tr>\n",
        "      <th>12551</th>\n",
        "      <td> 12552</td>\n",
        "      <td> 350</td>\n",
        "      <td> 350</td>\n",
        "      <td>  -4</td>\n",
        "      <td>  -4</td>\n",
        "      <td>  -4</td>\n",
        "      <td>-4</td>\n",
        "      <td>  -4</td>\n",
        "      <td>  420</td>\n",
        "      <td>  -4</td>\n",
        "      <td>...</td>\n",
        "      <td>    -5</td>\n",
        "      <td>   -5</td>\n",
        "      <td>   -5</td>\n",
        "      <td>-5</td>\n",
        "      <td>-5</td>\n",
        "      <td>   -5</td>\n",
        "      <td>   -5</td>\n",
        "      <td>-5</td>\n",
        "      <td>-5</td>\n",
        "      <td>-5</td>\n",
        "    </tr>\n",
        "    <tr>\n",
        "      <th>12553</th>\n",
        "      <td> 12554</td>\n",
        "      <td>  -4</td>\n",
        "      <td>  -4</td>\n",
        "      <td> 290</td>\n",
        "      <td> 265</td>\n",
        "      <td>  -4</td>\n",
        "      <td>-4</td>\n",
        "      <td>  -4</td>\n",
        "      <td>  337</td>\n",
        "      <td>  -4</td>\n",
        "      <td>...</td>\n",
        "      <td>    -5</td>\n",
        "      <td>   -5</td>\n",
        "      <td>   -5</td>\n",
        "      <td>-5</td>\n",
        "      <td>-5</td>\n",
        "      <td>   -5</td>\n",
        "      <td>   -5</td>\n",
        "      <td>-5</td>\n",
        "      <td>-5</td>\n",
        "      <td>-5</td>\n",
        "    </tr>\n",
        "    <tr>\n",
        "      <th>12555</th>\n",
        "      <td> 12556</td>\n",
        "      <td> 600</td>\n",
        "      <td> 600</td>\n",
        "      <td>  -4</td>\n",
        "      <td>  -4</td>\n",
        "      <td>  -4</td>\n",
        "      <td>-4</td>\n",
        "      <td>  -4</td>\n",
        "      <td>  714</td>\n",
        "      <td>  -4</td>\n",
        "      <td>...</td>\n",
        "      <td>    -5</td>\n",
        "      <td>   -5</td>\n",
        "      <td>   -5</td>\n",
        "      <td>-5</td>\n",
        "      <td>-5</td>\n",
        "      <td>   -5</td>\n",
        "      <td>   -5</td>\n",
        "      <td>-5</td>\n",
        "      <td>-5</td>\n",
        "      <td>-5</td>\n",
        "    </tr>\n",
        "    <tr>\n",
        "      <th>12572</th>\n",
        "      <td> 12573</td>\n",
        "      <td>  -4</td>\n",
        "      <td>  -4</td>\n",
        "      <td>  -4</td>\n",
        "      <td>  -4</td>\n",
        "      <td>  -4</td>\n",
        "      <td>-4</td>\n",
        "      <td>  -4</td>\n",
        "      <td>  697</td>\n",
        "      <td>  -4</td>\n",
        "      <td>...</td>\n",
        "      <td>    -5</td>\n",
        "      <td>   -5</td>\n",
        "      <td>   -5</td>\n",
        "      <td>-5</td>\n",
        "      <td>-5</td>\n",
        "      <td>   -5</td>\n",
        "      <td>   -5</td>\n",
        "      <td>-5</td>\n",
        "      <td>-5</td>\n",
        "      <td>-5</td>\n",
        "    </tr>\n",
        "    <tr>\n",
        "      <th>12577</th>\n",
        "      <td> 12578</td>\n",
        "      <td> 375</td>\n",
        "      <td> 375</td>\n",
        "      <td>  -4</td>\n",
        "      <td>  -4</td>\n",
        "      <td>  -4</td>\n",
        "      <td>-4</td>\n",
        "      <td>  -4</td>\n",
        "      <td> 1410</td>\n",
        "      <td>  -4</td>\n",
        "      <td>...</td>\n",
        "      <td>    -5</td>\n",
        "      <td>   -5</td>\n",
        "      <td>   -5</td>\n",
        "      <td>-5</td>\n",
        "      <td>-5</td>\n",
        "      <td>   -5</td>\n",
        "      <td>   -5</td>\n",
        "      <td>-5</td>\n",
        "      <td>-5</td>\n",
        "      <td>-5</td>\n",
        "    </tr>\n",
        "    <tr>\n",
        "      <th>12580</th>\n",
        "      <td> 12581</td>\n",
        "      <td> 250</td>\n",
        "      <td> 250</td>\n",
        "      <td>  -4</td>\n",
        "      <td>  -4</td>\n",
        "      <td>  -4</td>\n",
        "      <td>-4</td>\n",
        "      <td>  -4</td>\n",
        "      <td>  400</td>\n",
        "      <td>  -4</td>\n",
        "      <td>...</td>\n",
        "      <td>    -5</td>\n",
        "      <td>   -5</td>\n",
        "      <td>   -5</td>\n",
        "      <td>-5</td>\n",
        "      <td>-5</td>\n",
        "      <td>   -5</td>\n",
        "      <td>   -5</td>\n",
        "      <td>-5</td>\n",
        "      <td>-5</td>\n",
        "      <td>-5</td>\n",
        "    </tr>\n",
        "    <tr>\n",
        "      <th>12605</th>\n",
        "      <td> 12606</td>\n",
        "      <td>  -4</td>\n",
        "      <td>  -4</td>\n",
        "      <td> 225</td>\n",
        "      <td>  -4</td>\n",
        "      <td>  -4</td>\n",
        "      <td>-4</td>\n",
        "      <td>  -4</td>\n",
        "      <td>  295</td>\n",
        "      <td>  -4</td>\n",
        "      <td>...</td>\n",
        "      <td>    -5</td>\n",
        "      <td>   -5</td>\n",
        "      <td>   -5</td>\n",
        "      <td>-5</td>\n",
        "      <td>-5</td>\n",
        "      <td>   -5</td>\n",
        "      <td>   -5</td>\n",
        "      <td>-5</td>\n",
        "      <td>-5</td>\n",
        "      <td>-5</td>\n",
        "    </tr>\n",
        "    <tr>\n",
        "      <th>12613</th>\n",
        "      <td> 12614</td>\n",
        "      <td>  -4</td>\n",
        "      <td>  -4</td>\n",
        "      <td>  -4</td>\n",
        "      <td>  -4</td>\n",
        "      <td>  -4</td>\n",
        "      <td>-4</td>\n",
        "      <td>  -4</td>\n",
        "      <td>  385</td>\n",
        "      <td>  -4</td>\n",
        "      <td>...</td>\n",
        "      <td>    -5</td>\n",
        "      <td>   -5</td>\n",
        "      <td>   -5</td>\n",
        "      <td>-5</td>\n",
        "      <td>-5</td>\n",
        "      <td>   -5</td>\n",
        "      <td>   -5</td>\n",
        "      <td>-5</td>\n",
        "      <td>-5</td>\n",
        "      <td>-5</td>\n",
        "    </tr>\n",
        "    <tr>\n",
        "      <th>12646</th>\n",
        "      <td> 12647</td>\n",
        "      <td>  -4</td>\n",
        "      <td>  -4</td>\n",
        "      <td>  -4</td>\n",
        "      <td>  -4</td>\n",
        "      <td>  -4</td>\n",
        "      <td>-4</td>\n",
        "      <td>  -4</td>\n",
        "      <td>  444</td>\n",
        "      <td>  -4</td>\n",
        "      <td>...</td>\n",
        "      <td>    -5</td>\n",
        "      <td>   -5</td>\n",
        "      <td>   -5</td>\n",
        "      <td>-5</td>\n",
        "      <td>-5</td>\n",
        "      <td>   -5</td>\n",
        "      <td>   -5</td>\n",
        "      <td>-5</td>\n",
        "      <td>-5</td>\n",
        "      <td>-5</td>\n",
        "    </tr>\n",
        "    <tr>\n",
        "      <th>12654</th>\n",
        "      <td> 12655</td>\n",
        "      <td>  -4</td>\n",
        "      <td>  -4</td>\n",
        "      <td>  -4</td>\n",
        "      <td>  -4</td>\n",
        "      <td>  -4</td>\n",
        "      <td>-4</td>\n",
        "      <td>  -4</td>\n",
        "      <td>  437</td>\n",
        "      <td>  -4</td>\n",
        "      <td>...</td>\n",
        "      <td>    -5</td>\n",
        "      <td>   -5</td>\n",
        "      <td>   -5</td>\n",
        "      <td>-5</td>\n",
        "      <td>-5</td>\n",
        "      <td>   -5</td>\n",
        "      <td>   -5</td>\n",
        "      <td>-5</td>\n",
        "      <td>-5</td>\n",
        "      <td>-5</td>\n",
        "    </tr>\n",
        "  </tbody>\n",
        "</table>\n",
        "<p>1611 rows \u00d7 142 columns</p>\n",
        "</div>"
       ],
       "metadata": {},
       "output_type": "pyout",
       "prompt_number": 26,
       "text": [
        "       caseid_1979  cpshrp_1979  hrp1_1979  hrp2_1979  hrp3_1979  hrp4_1979  \\\n",
        "7                8           -4         -4         -4         -4         -4   \n",
        "15              16          455        455         -4         -4         -4   \n",
        "22              23          353        353        390         -4         -4   \n",
        "43              44           -4         -4         -4         -4         -4   \n",
        "55              56           -4         -4         -4         -4         -4   \n",
        "71              72          250        250        312         -4         -4   \n",
        "72              73           -4         -4         -4         -4         -4   \n",
        "100            101          375        375        581         -4         -4   \n",
        "123            124          200        200         -4         -4         -4   \n",
        "128            129          300        300         -4         -4         -4   \n",
        "136            137          312        312         -4         -4         -4   \n",
        "143            144          100        100         -4         -4         -4   \n",
        "156            157           -4         -4        416         -4         -4   \n",
        "158            159          400        400         -4        300         -4   \n",
        "164            165          333        333         -4         -4         -4   \n",
        "167            168           -4         -4         -4         -4         -4   \n",
        "175            176          320        320         -4        428        500   \n",
        "179            180           -4         -4         -4         -4         -4   \n",
        "187            188          337        337        350         -4         -4   \n",
        "189            190           -4         -4         -4         -4         -4   \n",
        "194            195          375        375         -4        275        265   \n",
        "198            199          355        355        437         -4         -4   \n",
        "201            202           -4         -4         -4         -4         -4   \n",
        "206            207           -4         -4         -4         -4         -4   \n",
        "227            228           -4         -4         -4         -4         -4   \n",
        "244            245           -4         -4         -4         -4         -4   \n",
        "248            249           -4         -4        300         -4         -4   \n",
        "255            256          290        290         -4         -4         -4   \n",
        "267            268          290        290         -4        300         -4   \n",
        "268            269           -4         -4         -4        375         -4   \n",
        "...            ...          ...        ...        ...        ...        ...   \n",
        "12366        12367           -4         -4         -4         -4         -4   \n",
        "12370        12371           -4         -4         -4         -4         -4   \n",
        "12378        12379          300        300         -4         -4         -4   \n",
        "12383        12384           -4         -4         -4         -4         -4   \n",
        "12398        12399          375        375         -4         -4         -4   \n",
        "12420        12421          300        300         -4         -4         -4   \n",
        "12457        12458           -4         -4        248         -4         -4   \n",
        "12462        12463          311        311         -4         -4         -4   \n",
        "12483        12484           57         57         -4         -4         -4   \n",
        "12485        12486          160        160        125         -4         -4   \n",
        "12497        12498           -4         -4         -4         -4         -4   \n",
        "12500        12501           -4         -4         -4         -4         -4   \n",
        "12501        12502          277        277         -4         -4         -4   \n",
        "12510        12511          257        257        217         -4         -4   \n",
        "12516        12517           -4         -4         -4         -4         -4   \n",
        "12517        12518           -4         -4         -4         -4         -4   \n",
        "12524        12525           -4         -4         -4         -4         -4   \n",
        "12525        12526           -4         -4         -4         -4         -4   \n",
        "12530        12531           -4         -4         -4         -4         -4   \n",
        "12542        12543          290        290         -4         -4         -4   \n",
        "12551        12552          350        350         -4         -4         -4   \n",
        "12553        12554           -4         -4        290        265         -4   \n",
        "12555        12556          600        600         -4         -4         -4   \n",
        "12572        12573           -4         -4         -4         -4         -4   \n",
        "12577        12578          375        375         -4         -4         -4   \n",
        "12580        12581          250        250         -4         -4         -4   \n",
        "12605        12606           -4         -4        225         -4         -4   \n",
        "12613        12614           -4         -4         -4         -4         -4   \n",
        "12646        12647           -4         -4         -4         -4         -4   \n",
        "12654        12655           -4         -4         -4         -4         -4   \n",
        "\n",
        "       hrp5_1979  cpshrp_1980  hrp1_1980  hrp2_1980    ...      hrp1_2010  \\\n",
        "7             -4           -4        394         -4    ...           2019   \n",
        "15            -4           -4        571        489    ...           2863   \n",
        "22            -4           -4        431         -4    ...             -5   \n",
        "43            -4           -4        351         -4    ...           1500   \n",
        "55            -4           -4        291         -4    ...             -5   \n",
        "71            -4           -4        371         -4    ...           1895   \n",
        "72            -4           -4        166         -4    ...           3205   \n",
        "100           -4           -4        654         -4    ...           3589   \n",
        "123           -4           -4        250        350    ...             -4   \n",
        "128           -4           -4        291         -4    ...           3685   \n",
        "136           -4           -4        340         -4    ...           7692   \n",
        "143           -4          100         -4        100    ...            905   \n",
        "156           -4          800         -4        800    ...           2884   \n",
        "158           -4          520         -4        520    ...             -5   \n",
        "164           -4          385        312        385    ...           1794   \n",
        "167           -4           -4        295         -4    ...           1875   \n",
        "175           -4          225         -4        200    ...             -5   \n",
        "179           -4           -4        450         -4    ...             -5   \n",
        "187           -4          360         -4        360    ...            860   \n",
        "189           -4           -4        295         -4    ...           4501   \n",
        "194           -4           -4        425         -4    ...            480   \n",
        "198           -4           -4        357         -4    ...           2500   \n",
        "201           -4           -4        400        400    ...            900   \n",
        "206           -4           -4        330        325    ...           1410   \n",
        "227           -4           -4        325         -4    ...            350   \n",
        "244           -4           -4        290         -4    ...           1983   \n",
        "248           -4           -4        290         -4    ...            875   \n",
        "255           -4           -4        265         -4    ...             -4   \n",
        "267           -4           -4        375         -4    ...             -4   \n",
        "268           -4           -4        315         -4    ...          11752   \n",
        "...          ...          ...        ...        ...    ...            ...   \n",
        "12366         -4           -4        290         -4    ...             -5   \n",
        "12370         -4           -4        250         -4    ...             -5   \n",
        "12378         -4           -4        400         -4    ...             -5   \n",
        "12383         -4           -4        270         -4    ...             -5   \n",
        "12398         -4          200         -4        200    ...             -5   \n",
        "12420         -4           -4        375         -4    ...             -5   \n",
        "12457         -4           -4        270         -4    ...             -5   \n",
        "12462         -4           -4        340         -4    ...             -5   \n",
        "12483         -4           -4        700        362    ...             -5   \n",
        "12485         -4           -4        217         -4    ...             -5   \n",
        "12497         -4           -4        340         -4    ...             -5   \n",
        "12500         -4           -4        280         -4    ...             -5   \n",
        "12501         -4           -4        366         -4    ...             -5   \n",
        "12510         -4           -4        300         -4    ...             -5   \n",
        "12516         -4           -4        290         -4    ...           1292   \n",
        "12517         -4           -4        290         -4    ...             -5   \n",
        "12524         -4           -4        375         -4    ...             -5   \n",
        "12525         -4           -4        310         -4    ...             -5   \n",
        "12530         -4           -4        275         -4    ...             -5   \n",
        "12542         -4           -4        290         -4    ...             -5   \n",
        "12551         -4           -4        420         -4    ...             -5   \n",
        "12553         -4           -4        337         -4    ...             -5   \n",
        "12555         -4           -4        714         -4    ...             -5   \n",
        "12572         -4           -4        697         -4    ...             -5   \n",
        "12577         -4           -4       1410         -4    ...             -5   \n",
        "12580         -4           -4        400         -4    ...             -5   \n",
        "12605         -4           -4        295         -4    ...             -5   \n",
        "12613         -4           -4        385         -4    ...             -5   \n",
        "12646         -4           -4        444         -4    ...             -5   \n",
        "12654         -4           -4        437         -4    ...             -5   \n",
        "\n",
        "       hrp2_2010  hrp3_2010  hrp4_2010  hrp5_2010  hrp1_2012  hrp2_2012  \\\n",
        "7            800         -4         -4         -4       1615        800   \n",
        "15          2884       2735         -4         -4       3643         -4   \n",
        "22            -5         -5         -5         -5         -5         -5   \n",
        "43            -4         -4         -4         -4       1800         -4   \n",
        "55            -5         -5         -5         -5         -5         -5   \n",
        "71          2200         -4         -4         -4       2211         -4   \n",
        "72          5288         -4         -4         -4         -5         -5   \n",
        "100           -4         -4         -4         -4         -5         -5   \n",
        "123           -4         -4         -4         -4       1000         -4   \n",
        "128         2000         -4         -4         -4       3012         -4   \n",
        "136           -4         -4         -4         -4       7437         -4   \n",
        "143           -4         -4         -4         -4       1028         -4   \n",
        "156           -4         -4         -4         -4       3434         -4   \n",
        "158           -5         -5         -5         -5         -5         -5   \n",
        "164           -4         -4         -4         -4       1495         -4   \n",
        "167         1140       1045         -4         -4        725         -4   \n",
        "175           -5         -5         -5         -5         -5         -5   \n",
        "179           -5         -5         -5         -5         -5         -5   \n",
        "187           -4         -4         -4         -4        946         -4   \n",
        "189           -4         -4         -4         -4       5384         -4   \n",
        "194           -4         -4         -4         -4       7692       2307   \n",
        "198           -4         -4         -4         -4       4615       2500   \n",
        "201         1730         -4         -4         -4         -4       1000   \n",
        "206         1600         -4         -4         -4         -5         -5   \n",
        "227           -4         -4         -4         -4         -4         -4   \n",
        "244           -4         -4         -4         -4       1802         -4   \n",
        "248           -4         -4         -4         -4        952         -4   \n",
        "255           -4         -4         -4         -4        825         -4   \n",
        "267           -4         -4         -4         -4         -4         -4   \n",
        "268           -4         -4         -4         -4       9230         -4   \n",
        "...          ...        ...        ...        ...        ...        ...   \n",
        "12366         -5         -5         -5         -5         -5         -5   \n",
        "12370         -5         -5         -5         -5         -5         -5   \n",
        "12378         -5         -5         -5         -5         -5         -5   \n",
        "12383         -5         -5         -5         -5         -5         -5   \n",
        "12398         -5         -5         -5         -5         -5         -5   \n",
        "12420         -5         -5         -5         -5         -5         -5   \n",
        "12457         -5         -5         -5         -5         -5         -5   \n",
        "12462         -5         -5         -5         -5         -5         -5   \n",
        "12483         -5         -5         -5         -5         -5         -5   \n",
        "12485         -5         -5         -5         -5         -5         -5   \n",
        "12497         -5         -5         -5         -5         -5         -5   \n",
        "12500         -5         -5         -5         -5         -5         -5   \n",
        "12501         -5         -5         -5         -5         -5         -5   \n",
        "12510         -5         -5         -5         -5         -5         -5   \n",
        "12516       1025         -4         -4         -4       1375        944   \n",
        "12517         -5         -5         -5         -5         -5         -5   \n",
        "12524         -5         -5         -5         -5         -5         -5   \n",
        "12525         -5         -5         -5         -5         -5         -5   \n",
        "12530         -5         -5         -5         -5         -5         -5   \n",
        "12542         -5         -5         -5         -5         -5         -5   \n",
        "12551         -5         -5         -5         -5         -5         -5   \n",
        "12553         -5         -5         -5         -5         -5         -5   \n",
        "12555         -5         -5         -5         -5         -5         -5   \n",
        "12572         -5         -5         -5         -5         -5         -5   \n",
        "12577         -5         -5         -5         -5         -5         -5   \n",
        "12580         -5         -5         -5         -5         -5         -5   \n",
        "12605         -5         -5         -5         -5         -5         -5   \n",
        "12613         -5         -5         -5         -5         -5         -5   \n",
        "12646         -5         -5         -5         -5         -5         -5   \n",
        "12654         -5         -5         -5         -5         -5         -5   \n",
        "\n",
        "       hrp3_2012  hrp4_2012  hrp5_2012  \n",
        "7             -4         -4         -4  \n",
        "15            -4         -4         -4  \n",
        "22            -5         -5         -5  \n",
        "43            -4         -4         -4  \n",
        "55            -5         -5         -5  \n",
        "71            -4         -4         -4  \n",
        "72            -5         -5         -5  \n",
        "100           -5         -5         -5  \n",
        "123           -4         -4         -4  \n",
        "128           -4         -4         -4  \n",
        "136           -4         -4         -4  \n",
        "143           -4         -4         -4  \n",
        "156           -4         -4         -4  \n",
        "158           -5         -5         -5  \n",
        "164           -4         -4         -4  \n",
        "167           -4         -4         -4  \n",
        "175           -5         -5         -5  \n",
        "179           -5         -5         -5  \n",
        "187           -4         -4         -4  \n",
        "189           -4         -4         -4  \n",
        "194           -4         -4         -4  \n",
        "198           -4         -4         -4  \n",
        "201           -4         -4         -4  \n",
        "206           -5         -5         -5  \n",
        "227           -4         -4         -4  \n",
        "244           -4         -4         -4  \n",
        "248           -4         -4         -4  \n",
        "255           -4         -4         -4  \n",
        "267           -4         -4         -4  \n",
        "268           -4         -4         -4  \n",
        "...          ...        ...        ...  \n",
        "12366         -5         -5         -5  \n",
        "12370         -5         -5         -5  \n",
        "12378         -5         -5         -5  \n",
        "12383         -5         -5         -5  \n",
        "12398         -5         -5         -5  \n",
        "12420         -5         -5         -5  \n",
        "12457         -5         -5         -5  \n",
        "12462         -5         -5         -5  \n",
        "12483         -5         -5         -5  \n",
        "12485         -5         -5         -5  \n",
        "12497         -5         -5         -5  \n",
        "12500         -5         -5         -5  \n",
        "12501         -5         -5         -5  \n",
        "12510         -5         -5         -5  \n",
        "12516         -4         -4         -4  \n",
        "12517         -5         -5         -5  \n",
        "12524         -5         -5         -5  \n",
        "12525         -5         -5         -5  \n",
        "12530         -5         -5         -5  \n",
        "12542         -5         -5         -5  \n",
        "12551         -5         -5         -5  \n",
        "12553         -5         -5         -5  \n",
        "12555         -5         -5         -5  \n",
        "12572         -5         -5         -5  \n",
        "12577         -5         -5         -5  \n",
        "12580         -5         -5         -5  \n",
        "12605         -5         -5         -5  \n",
        "12613         -5         -5         -5  \n",
        "12646         -5         -5         -5  \n",
        "12654         -5         -5         -5  \n",
        "\n",
        "[1611 rows x 142 columns]"
       ]
      }
     ],
     "prompt_number": 26
    },
    {
     "cell_type": "code",
     "collapsed": false,
     "input": [
      "def find_rate(rate_row, year, j):\n",
      "    \"\"\"\n",
      "    \"\"\"\n",
      "    \n",
      "    if j==1:\n",
      "        try: \n",
      "            r = rate_row['cpshrp_%s'%year] #hourly rate\n",
      "            if r<0 and rate_row['hrp%s_%s'%(j, year)]>0:\n",
      "                r = rate_row['hrp%s_%s'%(j, year)]\n",
      "        except KeyError:\n",
      "            r = rate_row['hrp%s_%s'%(j, year)]\n",
      "    else:    \n",
      "        r = rate_row['hrp%s_%s'%(j, year)]\n",
      "\n",
      "    return r"
     ],
     "language": "python",
     "metadata": {},
     "outputs": [],
     "prompt_number": 27
    },
    {
     "cell_type": "code",
     "collapsed": false,
     "input": [
      "def find_nearby_job_rate(i, choice_start):\n",
      "    \"\"\"\n",
      "    \"\"\"\n",
      "    \n",
      "    job_row = jobdates_df[jobdates_df.caseid_1979==i].iloc[0]\n",
      "    rate_row = hrrate_df[hrrate_df.caseid_1979==i].iloc[0]\n",
      "    dob_row = analytic_df[analytic_df.caseid_1979==i].iloc[0]\n",
      "\n",
      "    dob_m = int(dob_row['c1dob_m_xrnd'])\n",
      "    dob_y = int(dob_row['c1dob_y_xrnd'])\n",
      "    week = get_week_num(dob_y-1, dob_m, 'last')\n",
      "    \n",
      "    rates = []\n",
      "    \n",
      "    for year in years:\n",
      "        for j in range(1, 6):\n",
      "            start = int(job_row['start_wk_%i_job%02d_xrnd'%(year, j)])\n",
      "            #if start >= 0 and abs(start-choice_start) <= 52*3 and rate_row['hrp%s_%s'%(j, year)]>0: # within three years\n",
      "            #    rates.append((rate_row['hrp%s_%s'%(j, year)], choice_start-start))\n",
      "\n",
      "            # return the hourly rate of the closest job that is also before birth\n",
      "            if start >= 0 and start<=week and rate_row['hrp%s_%s'%(j, year)]>0: # within three years\n",
      "                r = find_rate(rate_row, year, j)\n",
      "                rates.append((r, abs(choice_start-start)))\n",
      "         \n",
      "    if len(rates) == 0:\n",
      "        return None\n",
      "    else:\n",
      "        rates = sorted(rates, key=itemgetter(1))\n",
      "        return rates[0][0]"
     ],
     "language": "python",
     "metadata": {},
     "outputs": [],
     "prompt_number": 28
    },
    {
     "cell_type": "code",
     "collapsed": false,
     "input": [
      "def get_job_info(i):\n",
      "    \"\"\"\n",
      "    Given respondent id, find the latest valid job that the respondent took\n",
      "    prior to 12 months before first birth. \n",
      "    \n",
      "    ALSO, report how many weeks are between the job I found and one year before the first birth\n",
      "    \"\"\"\n",
      "    \n",
      "    dob_row = analytic_df[analytic_df.caseid_1979==i].iloc[0]\n",
      "    dob_m = int(dob_row['c1dob_m_xrnd'])\n",
      "    dob_y = int(dob_row['c1dob_y_xrnd'])\n",
      "    week = get_week_num(dob_y-1, dob_m, 'last')\n",
      "    \n",
      "    jobs = []\n",
      "    job_row = jobdates_df[jobdates_df.caseid_1979==i].iloc[0]\n",
      "    \n",
      "    for year in years:   \n",
      "        for j in range(1, 6):\n",
      "            start = int(job_row['start_wk_%i_job%02d_xrnd'%(year, j)])\n",
      "            #end = int(job_row['stop_wk_%i_job%02d_xrnd'%(year, j)])\n",
      "            # some jobs have missing stop dates, but it's irrelevant to what I'm doing here\n",
      "            if start >= 0 and start <= week:\n",
      "                jobs.append((start, j, year))\n",
      "    \n",
      "    jobs = sorted(jobs, key=itemgetter(0), reverse=True) # the first is the most recent/latest\n",
      "    \n",
      "\n",
      "    final = None # final choice of job\n",
      "    \n",
      "    for k in range(len(jobs)):\n",
      "        choice_num = jobs[k][1]\n",
      "        choice_yr = jobs[k][2]\n",
      "        occ, ind = get_occ_ind(i, choice_num, choice_yr)\n",
      "    \n",
      "        if occ!=None and ind!=None:\n",
      "            final = k\n",
      "            start = jobs[k][0]\n",
      "            break\n",
      "    \n",
      "    if final==None:\n",
      "        print i\n",
      "        return [None]*8\n",
      "    \n",
      "\n",
      "    rate_row = hrrate_df[hrrate_df.caseid_1979==i].iloc[0]\n",
      "    rate = find_rate(rate_row, jobs[final][2], jobs[final][1])\n",
      "    if rate<0: # 72 respondents in this category\n",
      "        rate = find_nearby_job_rate(i, jobs[final][0])\n",
      "        \n",
      "            \n",
      "    start = int(job_row['start_wk_%i_job%02d_xrnd'%(jobs[final][2], jobs[final][1])])\n",
      "    end = int(job_row['stop_wk_%i_job%02d_xrnd'%(jobs[final][2], jobs[final][1])])\n",
      "    \n",
      "    gap = week-start # number of weeks between one year prior to birth and start week of job\n",
      "    \n",
      "    if start > 0:\n",
      "        job_year = get_year_month(start)[0] #the year in which the job was held\n",
      "    else:\n",
      "        job_year = 1978 # week prior to 1978, assume 1978\n",
      "    \n",
      "    tenure = None\n",
      "    if end <= week:\n",
      "        tenure = end - start\n",
      "        tenure_type = 1\n",
      "    else:\n",
      "        tenure = week - start\n",
      "        tenure_type = 2        \n",
      "\n",
      "        \n",
      "    #look at the most recent job held one year prior to birth\n",
      "    latest_job_start = int(job_row['start_wk_%i_job%02d_xrnd'%(jobs[0][2], jobs[0][1])])\n",
      "    latest_job_end = int(job_row['stop_wk_%i_job%02d_xrnd'%(jobs[0][2], jobs[0][1])])\n",
      "    if latest_job_start>=0 and latest_job_end>=0:\n",
      "        latest_job_span = range(latest_job_start, latest_job_end+1)\n",
      "        birth_span = range(get_week_num(dob_y-1, dob_m, 'first'), get_week_num(dob_y-1, dob_m, 'last')+1)\n",
      "        had_job = (len(set(latest_job_span)&set(birth_span))>0)\n",
      "    else:\n",
      "        had_job = None\n",
      "        birth_span = range(get_week_num(dob_y-1, dob_m, 'first'), get_week_num(dob_y-1, dob_m, 'last')+1)\n",
      "        print i, jobs[0][2], jobs[0][1], latest_job_start, latest_job_end, birth_span\n",
      "        #8353 1979 2 3 -3 57\n",
      "        #respondent 8353's next job is in 1986, and all her sequent jobs were very short\n",
      "        #so assume she was not working in week57\n",
      "        #had_job = False \n",
      "        #print 'only one case?'\n",
      "        \n",
      "    \n",
      "    return (occ, ind, rate, job_year, tenure, tenure_type, gap, had_job)"
     ],
     "language": "python",
     "metadata": {},
     "outputs": [],
     "prompt_number": 29
    },
    {
     "cell_type": "code",
     "collapsed": false,
     "input": [
      "occ = []\n",
      "ind = []\n",
      "rate = []\n",
      "job_year = []\n",
      "tenure = []  # the total number of weeks the respondent spent on the job\n",
      "tenure_type = []\n",
      "gap = []\n",
      "had_job = []\n",
      "\n",
      "for i in sample:\n",
      "    a, b, c, d, e, f, g, h = get_job_info(i)\n",
      "    occ.append(a)\n",
      "    ind.append(b)\n",
      "    rate.append(c)\n",
      "    job_year.append(d)\n",
      "    tenure.append(e)\n",
      "    tenure_type.append(f)\n",
      "    gap.append(g)\n",
      "    had_job.append(h)\n",
      "\n",
      "    \n",
      "print len(occ), len(ind), len(rate), len(job_year), len(tenure), len(gap), len(had_job), len(tenure_type)\n",
      "print had_job.count(None)\n",
      "print min(tenure), max(tenure)\n",
      "print tenure_type.count(1), tenure_type.count(2)"
     ],
     "language": "python",
     "metadata": {},
     "outputs": [
      {
       "output_type": "stream",
       "stream": "stdout",
       "text": [
        "4\n",
        "172"
       ]
      },
      {
       "output_type": "stream",
       "stream": "stdout",
       "text": [
        "\n",
        "228"
       ]
      },
      {
       "output_type": "stream",
       "stream": "stdout",
       "text": [
        "\n",
        "239\n",
        "289"
       ]
      },
      {
       "output_type": "stream",
       "stream": "stdout",
       "text": [
        "\n",
        "305\n",
        "391"
       ]
      },
      {
       "output_type": "stream",
       "stream": "stdout",
       "text": [
        "\n",
        "504"
       ]
      },
      {
       "output_type": "stream",
       "stream": "stdout",
       "text": [
        "\n",
        "589"
       ]
      },
      {
       "output_type": "stream",
       "stream": "stdout",
       "text": [
        "\n",
        "764"
       ]
      },
      {
       "output_type": "stream",
       "stream": "stdout",
       "text": [
        "\n",
        "770\n",
        "783\n",
        "880"
       ]
      },
      {
       "output_type": "stream",
       "stream": "stdout",
       "text": [
        "\n",
        "1033"
       ]
      },
      {
       "output_type": "stream",
       "stream": "stdout",
       "text": [
        "\n",
        "1220"
       ]
      },
      {
       "output_type": "stream",
       "stream": "stdout",
       "text": [
        "\n",
        "1241\n",
        "1244\n",
        "1295"
       ]
      },
      {
       "output_type": "stream",
       "stream": "stdout",
       "text": [
        "\n",
        "1381"
       ]
      },
      {
       "output_type": "stream",
       "stream": "stdout",
       "text": [
        "\n",
        "1400\n",
        "1440"
       ]
      },
      {
       "output_type": "stream",
       "stream": "stdout",
       "text": [
        "\n",
        "1489"
       ]
      },
      {
       "output_type": "stream",
       "stream": "stdout",
       "text": [
        "\n",
        "1524"
       ]
      },
      {
       "output_type": "stream",
       "stream": "stdout",
       "text": [
        "\n",
        "1546\n",
        "1642"
       ]
      },
      {
       "output_type": "stream",
       "stream": "stdout",
       "text": [
        "\n",
        "1719"
       ]
      },
      {
       "output_type": "stream",
       "stream": "stdout",
       "text": [
        "\n",
        "1747"
       ]
      },
      {
       "output_type": "stream",
       "stream": "stdout",
       "text": [
        "\n",
        "1749\n",
        "1789"
       ]
      },
      {
       "output_type": "stream",
       "stream": "stdout",
       "text": [
        "\n",
        "1797\n",
        "1940"
       ]
      },
      {
       "output_type": "stream",
       "stream": "stdout",
       "text": [
        "\n",
        "1990\n",
        "2130"
       ]
      },
      {
       "output_type": "stream",
       "stream": "stdout",
       "text": [
        "\n",
        "2131\n",
        "2134\n",
        "2179\n",
        "2260"
       ]
      },
      {
       "output_type": "stream",
       "stream": "stdout",
       "text": [
        "\n",
        "2645"
       ]
      },
      {
       "output_type": "stream",
       "stream": "stdout",
       "text": [
        "\n",
        "2651\n",
        "2679"
       ]
      },
      {
       "output_type": "stream",
       "stream": "stdout",
       "text": [
        "\n",
        "2698\n",
        "2736"
       ]
      },
      {
       "output_type": "stream",
       "stream": "stdout",
       "text": [
        "\n",
        "2737\n",
        "2758\n",
        "2769\n",
        "2781"
       ]
      },
      {
       "output_type": "stream",
       "stream": "stdout",
       "text": [
        "\n",
        "2808\n",
        "2817\n",
        "2969"
       ]
      },
      {
       "output_type": "stream",
       "stream": "stdout",
       "text": [
        "\n",
        "3035"
       ]
      },
      {
       "output_type": "stream",
       "stream": "stdout",
       "text": [
        "\n",
        "3105"
       ]
      },
      {
       "output_type": "stream",
       "stream": "stdout",
       "text": [
        "\n",
        "3201"
       ]
      },
      {
       "output_type": "stream",
       "stream": "stdout",
       "text": [
        "\n",
        "3306"
       ]
      },
      {
       "output_type": "stream",
       "stream": "stdout",
       "text": [
        "\n",
        "3438"
       ]
      },
      {
       "output_type": "stream",
       "stream": "stdout",
       "text": [
        "\n",
        "3448\n",
        "3476"
       ]
      },
      {
       "output_type": "stream",
       "stream": "stdout",
       "text": [
        "\n",
        "3560"
       ]
      },
      {
       "output_type": "stream",
       "stream": "stdout",
       "text": [
        "\n",
        "3633"
       ]
      },
      {
       "output_type": "stream",
       "stream": "stdout",
       "text": [
        "\n",
        "3837"
       ]
      },
      {
       "output_type": "stream",
       "stream": "stdout",
       "text": [
        "\n",
        "3998"
       ]
      },
      {
       "output_type": "stream",
       "stream": "stdout",
       "text": [
        "\n",
        "4012\n",
        "4085"
       ]
      },
      {
       "output_type": "stream",
       "stream": "stdout",
       "text": [
        "\n",
        "4133\n",
        "4154"
       ]
      },
      {
       "output_type": "stream",
       "stream": "stdout",
       "text": [
        "\n",
        "4167\n",
        "4175\n",
        "4178\n",
        "4198"
       ]
      },
      {
       "output_type": "stream",
       "stream": "stdout",
       "text": [
        "\n",
        "4215\n",
        "4249"
       ]
      },
      {
       "output_type": "stream",
       "stream": "stdout",
       "text": [
        "\n",
        "4375"
       ]
      },
      {
       "output_type": "stream",
       "stream": "stdout",
       "text": [
        "\n",
        "4391\n",
        "4541"
       ]
      },
      {
       "output_type": "stream",
       "stream": "stdout",
       "text": [
        "\n",
        "4622"
       ]
      },
      {
       "output_type": "stream",
       "stream": "stdout",
       "text": [
        "\n",
        "4744"
       ]
      },
      {
       "output_type": "stream",
       "stream": "stdout",
       "text": [
        "\n",
        "4947"
       ]
      },
      {
       "output_type": "stream",
       "stream": "stdout",
       "text": [
        "\n",
        "4978"
       ]
      },
      {
       "output_type": "stream",
       "stream": "stdout",
       "text": [
        "\n",
        "5085"
       ]
      },
      {
       "output_type": "stream",
       "stream": "stdout",
       "text": [
        "\n",
        "5131"
       ]
      },
      {
       "output_type": "stream",
       "stream": "stdout",
       "text": [
        "\n",
        "5135\n",
        "5454"
       ]
      },
      {
       "output_type": "stream",
       "stream": "stdout",
       "text": [
        "\n",
        "5455\n",
        "5458\n",
        "5462\n",
        "5464\n",
        "5467\n",
        "5480\n",
        "5498"
       ]
      },
      {
       "output_type": "stream",
       "stream": "stdout",
       "text": [
        "\n",
        "5509\n",
        "5536"
       ]
      },
      {
       "output_type": "stream",
       "stream": "stdout",
       "text": [
        "\n",
        "5631"
       ]
      },
      {
       "output_type": "stream",
       "stream": "stdout",
       "text": [
        "\n",
        "5646\n",
        "5674"
       ]
      },
      {
       "output_type": "stream",
       "stream": "stdout",
       "text": [
        "\n",
        "5681\n",
        "5713"
       ]
      },
      {
       "output_type": "stream",
       "stream": "stdout",
       "text": [
        "\n",
        "5746\n",
        "5781"
       ]
      },
      {
       "output_type": "stream",
       "stream": "stdout",
       "text": [
        "\n",
        "5793\n",
        "5803\n",
        "5805\n",
        "5899"
       ]
      },
      {
       "output_type": "stream",
       "stream": "stdout",
       "text": [
        "\n",
        "6007"
       ]
      },
      {
       "output_type": "stream",
       "stream": "stdout",
       "text": [
        "\n",
        "6023\n",
        "6030\n",
        "6033\n",
        "6040\n",
        "6107"
       ]
      },
      {
       "output_type": "stream",
       "stream": "stdout",
       "text": [
        "\n",
        "6150\n",
        "6210"
       ]
      },
      {
       "output_type": "stream",
       "stream": "stdout",
       "text": [
        "\n",
        "6221\n",
        "6270"
       ]
      },
      {
       "output_type": "stream",
       "stream": "stdout",
       "text": [
        "\n",
        "6282\n",
        "6293\n",
        "6296\n",
        "6312"
       ]
      },
      {
       "output_type": "stream",
       "stream": "stdout",
       "text": [
        "\n",
        "6335\n",
        "6336\n",
        "6339\n",
        "6342\n",
        "6356\n",
        "6357\n",
        "6358\n",
        "6365"
       ]
      },
      {
       "output_type": "stream",
       "stream": "stdout",
       "text": [
        "\n",
        "6366\n",
        "6368\n",
        "6394\n",
        "6396\n",
        "6405\n",
        "6407\n",
        "6410"
       ]
      },
      {
       "output_type": "stream",
       "stream": "stdout",
       "text": [
        "\n",
        "6427\n",
        "6428\n",
        "6429\n",
        "6445\n",
        "6481"
       ]
      },
      {
       "output_type": "stream",
       "stream": "stdout",
       "text": [
        "\n",
        "6555\n",
        "6602\n",
        "6671"
       ]
      },
      {
       "output_type": "stream",
       "stream": "stdout",
       "text": [
        "\n",
        "6704\n",
        "6730"
       ]
      },
      {
       "output_type": "stream",
       "stream": "stdout",
       "text": [
        "\n",
        "6752\n",
        "6847"
       ]
      },
      {
       "output_type": "stream",
       "stream": "stdout",
       "text": [
        "\n",
        "6966"
       ]
      },
      {
       "output_type": "stream",
       "stream": "stdout",
       "text": [
        "\n",
        "6971\n",
        "7049\n",
        "7064\n",
        "7220"
       ]
      },
      {
       "output_type": "stream",
       "stream": "stdout",
       "text": [
        "\n",
        "7232\n",
        "7235\n",
        "7258"
       ]
      },
      {
       "output_type": "stream",
       "stream": "stdout",
       "text": [
        "\n",
        "7283\n",
        "7322"
       ]
      },
      {
       "output_type": "stream",
       "stream": "stdout",
       "text": [
        "\n",
        "7324\n",
        "7390\n",
        "7448"
       ]
      },
      {
       "output_type": "stream",
       "stream": "stdout",
       "text": [
        "\n",
        "7451\n",
        "7480\n",
        "7503"
       ]
      },
      {
       "output_type": "stream",
       "stream": "stdout",
       "text": [
        "\n",
        "7504\n",
        "7571\n",
        "7580"
       ]
      },
      {
       "output_type": "stream",
       "stream": "stdout",
       "text": [
        "\n",
        "7616"
       ]
      },
      {
       "output_type": "stream",
       "stream": "stdout",
       "text": [
        "\n",
        "7645\n",
        "7652\n",
        "7704"
       ]
      },
      {
       "output_type": "stream",
       "stream": "stdout",
       "text": [
        "\n",
        "7820"
       ]
      },
      {
       "output_type": "stream",
       "stream": "stdout",
       "text": [
        "\n",
        "7823\n",
        "7831\n",
        "7864"
       ]
      },
      {
       "output_type": "stream",
       "stream": "stdout",
       "text": [
        "\n",
        "7865\n",
        "7945\n",
        "8031"
       ]
      },
      {
       "output_type": "stream",
       "stream": "stdout",
       "text": [
        "\n",
        "8039\n",
        "8143"
       ]
      },
      {
       "output_type": "stream",
       "stream": "stdout",
       "text": [
        "\n",
        "8161\n",
        "8175\n",
        "8184"
       ]
      },
      {
       "output_type": "stream",
       "stream": "stdout",
       "text": [
        "\n",
        "8195\n",
        "8289"
       ]
      },
      {
       "output_type": "stream",
       "stream": "stdout",
       "text": [
        "\n",
        "8343"
       ]
      },
      {
       "output_type": "stream",
       "stream": "stdout",
       "text": [
        "\n",
        "8353 1979 2 3 -3 [54, 55, 56, 57]\n",
        "8383"
       ]
      },
      {
       "output_type": "stream",
       "stream": "stdout",
       "text": [
        "\n",
        "8408\n",
        "8430"
       ]
      },
      {
       "output_type": "stream",
       "stream": "stdout",
       "text": [
        "\n",
        "8500"
       ]
      },
      {
       "output_type": "stream",
       "stream": "stdout",
       "text": [
        "\n",
        "8649"
       ]
      },
      {
       "output_type": "stream",
       "stream": "stdout",
       "text": [
        "\n",
        "8684\n",
        "8690\n",
        "8695"
       ]
      },
      {
       "output_type": "stream",
       "stream": "stdout",
       "text": [
        "\n",
        "8706\n",
        "8787\n",
        "8890"
       ]
      },
      {
       "output_type": "stream",
       "stream": "stdout",
       "text": [
        "\n",
        "8948"
       ]
      },
      {
       "output_type": "stream",
       "stream": "stdout",
       "text": [
        "\n",
        "8949\n",
        "8969\n",
        "8996\n",
        "9021"
       ]
      },
      {
       "output_type": "stream",
       "stream": "stdout",
       "text": [
        "\n",
        "9035\n",
        "9037\n",
        "9040\n",
        "9065\n",
        "9081"
       ]
      },
      {
       "output_type": "stream",
       "stream": "stdout",
       "text": [
        "\n",
        "9092\n",
        "9109\n",
        "9275"
       ]
      },
      {
       "output_type": "stream",
       "stream": "stdout",
       "text": [
        "\n",
        "9286\n",
        "9522"
       ]
      },
      {
       "output_type": "stream",
       "stream": "stdout",
       "text": [
        "\n",
        "9537\n",
        "9680"
       ]
      },
      {
       "output_type": "stream",
       "stream": "stdout",
       "text": [
        "\n",
        "9684\n",
        "9686\n",
        "9765\n",
        "9830"
       ]
      },
      {
       "output_type": "stream",
       "stream": "stdout",
       "text": [
        "\n",
        "9865"
       ]
      },
      {
       "output_type": "stream",
       "stream": "stdout",
       "text": [
        "\n",
        "9930"
       ]
      },
      {
       "output_type": "stream",
       "stream": "stdout",
       "text": [
        "\n",
        "9970\n",
        "9974"
       ]
      },
      {
       "output_type": "stream",
       "stream": "stdout",
       "text": [
        "\n",
        "10032"
       ]
      },
      {
       "output_type": "stream",
       "stream": "stdout",
       "text": [
        "\n",
        "10132"
       ]
      },
      {
       "output_type": "stream",
       "stream": "stdout",
       "text": [
        "\n",
        "10181\n",
        "10321"
       ]
      },
      {
       "output_type": "stream",
       "stream": "stdout",
       "text": [
        "\n",
        "10332\n",
        "10340\n",
        "10421"
       ]
      },
      {
       "output_type": "stream",
       "stream": "stdout",
       "text": [
        "\n",
        "10422\n",
        "11772"
       ]
      },
      {
       "output_type": "stream",
       "stream": "stdout",
       "text": [
        "\n",
        "11773\n",
        "11814"
       ]
      },
      {
       "output_type": "stream",
       "stream": "stdout",
       "text": [
        "\n",
        "11855"
       ]
      },
      {
       "output_type": "stream",
       "stream": "stdout",
       "text": [
        "\n",
        "11876\n",
        "11878\n",
        "11932"
       ]
      },
      {
       "output_type": "stream",
       "stream": "stdout",
       "text": [
        "\n",
        "11950\n",
        "11951\n",
        "12083"
       ]
      },
      {
       "output_type": "stream",
       "stream": "stdout",
       "text": [
        "\n",
        "12148"
       ]
      },
      {
       "output_type": "stream",
       "stream": "stdout",
       "text": [
        "\n",
        "12172\n",
        "12177\n",
        "12191\n",
        "12210"
       ]
      },
      {
       "output_type": "stream",
       "stream": "stdout",
       "text": [
        "\n",
        "12228\n",
        "12515\n",
        "2458 2458 2458 2458 2458 2458 2458 2458\n",
        "242\n",
        "None 333\n",
        "582 1635\n"
       ]
      }
     ],
     "prompt_number": 30
    },
    {
     "cell_type": "markdown",
     "metadata": {},
     "source": [
      "###Marital Status 12 Months prior to First Birth"
     ]
    },
    {
     "cell_type": "code",
     "collapsed": false,
     "input": [
      "marstat_df = pd.read_csv('marstat.csv')\n",
      "marstat_df.head()"
     ],
     "language": "python",
     "metadata": {},
     "outputs": [
      {
       "html": [
        "<div style=\"max-height:1000px;max-width:1500px;overflow:auto;\">\n",
        "<table border=\"1\" class=\"dataframe\">\n",
        "  <thead>\n",
        "    <tr style=\"text-align: right;\">\n",
        "      <th></th>\n",
        "      <th>caseid_1979</th>\n",
        "      <th>marstat_1979</th>\n",
        "      <th>marstat_1980</th>\n",
        "      <th>marstat_1981</th>\n",
        "      <th>marstat_1982</th>\n",
        "      <th>marstat_1983</th>\n",
        "      <th>marstat_1984</th>\n",
        "      <th>marstat_1985</th>\n",
        "      <th>marstat_1986</th>\n",
        "      <th>marstat_1987</th>\n",
        "      <th>...</th>\n",
        "      <th>mobg2m_xrnd</th>\n",
        "      <th>yrbg2m_xrnd</th>\n",
        "      <th>moen2m_xrnd</th>\n",
        "      <th>yren2m_xrnd</th>\n",
        "      <th>mobg3m_xrnd</th>\n",
        "      <th>yrbg3m_xrnd</th>\n",
        "      <th>marstat_2006</th>\n",
        "      <th>marstat_2008</th>\n",
        "      <th>marstat_2010</th>\n",
        "      <th>marstat_2012</th>\n",
        "    </tr>\n",
        "  </thead>\n",
        "  <tbody>\n",
        "    <tr>\n",
        "      <th>0</th>\n",
        "      <td> 1</td>\n",
        "      <td> 0</td>\n",
        "      <td>-5</td>\n",
        "      <td> 0</td>\n",
        "      <td>-5</td>\n",
        "      <td>-5</td>\n",
        "      <td>-5</td>\n",
        "      <td>-5</td>\n",
        "      <td>-5</td>\n",
        "      <td>-5</td>\n",
        "      <td>...</td>\n",
        "      <td>-999</td>\n",
        "      <td> -999</td>\n",
        "      <td>-999</td>\n",
        "      <td>-999</td>\n",
        "      <td>-999</td>\n",
        "      <td>-999</td>\n",
        "      <td>-5</td>\n",
        "      <td>-5</td>\n",
        "      <td>-5</td>\n",
        "      <td>-5</td>\n",
        "    </tr>\n",
        "    <tr>\n",
        "      <th>1</th>\n",
        "      <td> 2</td>\n",
        "      <td> 0</td>\n",
        "      <td> 0</td>\n",
        "      <td> 0</td>\n",
        "      <td> 0</td>\n",
        "      <td> 0</td>\n",
        "      <td> 0</td>\n",
        "      <td> 0</td>\n",
        "      <td> 0</td>\n",
        "      <td> 0</td>\n",
        "      <td>...</td>\n",
        "      <td>-998</td>\n",
        "      <td> -998</td>\n",
        "      <td>-998</td>\n",
        "      <td>-998</td>\n",
        "      <td>-998</td>\n",
        "      <td>-998</td>\n",
        "      <td> 1</td>\n",
        "      <td> 1</td>\n",
        "      <td> 1</td>\n",
        "      <td> 1</td>\n",
        "    </tr>\n",
        "    <tr>\n",
        "      <th>2</th>\n",
        "      <td> 3</td>\n",
        "      <td> 0</td>\n",
        "      <td> 0</td>\n",
        "      <td>-5</td>\n",
        "      <td> 1</td>\n",
        "      <td> 1</td>\n",
        "      <td> 1</td>\n",
        "      <td> 1</td>\n",
        "      <td> 1</td>\n",
        "      <td> 1</td>\n",
        "      <td>...</td>\n",
        "      <td>-998</td>\n",
        "      <td> -998</td>\n",
        "      <td>-998</td>\n",
        "      <td>-998</td>\n",
        "      <td>-998</td>\n",
        "      <td>-998</td>\n",
        "      <td> 1</td>\n",
        "      <td> 1</td>\n",
        "      <td>-5</td>\n",
        "      <td> 1</td>\n",
        "    </tr>\n",
        "    <tr>\n",
        "      <th>3</th>\n",
        "      <td> 4</td>\n",
        "      <td> 0</td>\n",
        "      <td>-5</td>\n",
        "      <td> 1</td>\n",
        "      <td> 1</td>\n",
        "      <td> 2</td>\n",
        "      <td> 2</td>\n",
        "      <td> 2</td>\n",
        "      <td> 3</td>\n",
        "      <td> 2</td>\n",
        "      <td>...</td>\n",
        "      <td>   5</td>\n",
        "      <td> 1995</td>\n",
        "      <td>-996</td>\n",
        "      <td>-996</td>\n",
        "      <td>-996</td>\n",
        "      <td>-996</td>\n",
        "      <td>-5</td>\n",
        "      <td>-5</td>\n",
        "      <td>-5</td>\n",
        "      <td>-5</td>\n",
        "    </tr>\n",
        "    <tr>\n",
        "      <th>4</th>\n",
        "      <td> 5</td>\n",
        "      <td> 0</td>\n",
        "      <td> 0</td>\n",
        "      <td> 0</td>\n",
        "      <td> 0</td>\n",
        "      <td> 0</td>\n",
        "      <td> 0</td>\n",
        "      <td>-5</td>\n",
        "      <td> 1</td>\n",
        "      <td>-5</td>\n",
        "      <td>...</td>\n",
        "      <td>-998</td>\n",
        "      <td> -998</td>\n",
        "      <td>-998</td>\n",
        "      <td>-998</td>\n",
        "      <td>-998</td>\n",
        "      <td>-998</td>\n",
        "      <td>-5</td>\n",
        "      <td>-5</td>\n",
        "      <td>-5</td>\n",
        "      <td>-5</td>\n",
        "    </tr>\n",
        "  </tbody>\n",
        "</table>\n",
        "<p>5 rows \u00d7 36 columns</p>\n",
        "</div>"
       ],
       "metadata": {},
       "output_type": "pyout",
       "prompt_number": 31,
       "text": [
        "   caseid_1979  marstat_1979  marstat_1980  marstat_1981  marstat_1982  \\\n",
        "0            1             0            -5             0            -5   \n",
        "1            2             0             0             0             0   \n",
        "2            3             0             0            -5             1   \n",
        "3            4             0            -5             1             1   \n",
        "4            5             0             0             0             0   \n",
        "\n",
        "   marstat_1983  marstat_1984  marstat_1985  marstat_1986  marstat_1987  \\\n",
        "0            -5            -5            -5            -5            -5   \n",
        "1             0             0             0             0             0   \n",
        "2             1             1             1             1             1   \n",
        "3             2             2             2             3             2   \n",
        "4             0             0            -5             1            -5   \n",
        "\n",
        "       ...       mobg2m_xrnd  yrbg2m_xrnd  moen2m_xrnd  yren2m_xrnd  \\\n",
        "0      ...              -999         -999         -999         -999   \n",
        "1      ...              -998         -998         -998         -998   \n",
        "2      ...              -998         -998         -998         -998   \n",
        "3      ...                 5         1995         -996         -996   \n",
        "4      ...              -998         -998         -998         -998   \n",
        "\n",
        "   mobg3m_xrnd  yrbg3m_xrnd  marstat_2006  marstat_2008  marstat_2010  \\\n",
        "0         -999         -999            -5            -5            -5   \n",
        "1         -998         -998             1             1             1   \n",
        "2         -998         -998             1             1            -5   \n",
        "3         -996         -996            -5            -5            -5   \n",
        "4         -998         -998            -5            -5            -5   \n",
        "\n",
        "   marstat_2012  \n",
        "0            -5  \n",
        "1             1  \n",
        "2             1  \n",
        "3            -5  \n",
        "4            -5  \n",
        "\n",
        "[5 rows x 36 columns]"
       ]
      }
     ],
     "prompt_number": 31
    },
    {
     "cell_type": "code",
     "collapsed": false,
     "input": [
      "# marital status\n",
      "# 0 - never married before, 1 - married, 2 - divorced/separated/widowed\n",
      "\n",
      "def get_marstat_prev(i):\n",
      "    \"\"\"\n",
      "    This function returns the marital status 12 months prior to first birth.\n",
      "    \"\"\"\n",
      "    \n",
      "    dob_row = analytic_df[analytic_df.caseid_1979==i].iloc[0]\n",
      "    mar_row = marstat_df[marstat_df.caseid_1979==i].iloc[0]\n",
      "    m = int(dob_row['c1dob_m_xrnd'])\n",
      "    y = int(dob_row['c1dob_y_xrnd'])-1\n",
      "    \n",
      "    #Documentation:\n",
      "        # -999: NEVER MARRIED\n",
      "        # -998: 1ST MARRIAGE NEVER ENDED\n",
      "        # -997: 1ST MARRIAGE ENDED NO 2ND MARRIAGE\n",
      "        # 0 TO 1979: <=1979\n",
      "        # 1980, etc.\n",
      "    \n",
      "    ################################\n",
      "    ###Consider various situations:\n",
      "    ################################\n",
      "    \n",
      "    #never married\n",
      "    if mar_row['yrbg1m_xrnd'] == -999: \n",
      "        return 0\n",
      "    \n",
      "    #first marriage started after the given year\n",
      "    if mar_row['yrbg1m_xrnd']>y or (mar_row['yrbg1m_xrnd']==y and mar_row['mobg1m_xrnd']>m):\n",
      "        return 0    \n",
      "    \n",
      "    #first marriage started before one year prior to birth\n",
      "    #did it last until one year prior to birth?\n",
      "    \n",
      "    # first marriage never ended\n",
      "    if mar_row['yren1m_xrnd'] == -998: \n",
      "        return 1\n",
      "    \n",
      "    #first marriage ended after the given time\n",
      "    if mar_row['yren1m_xrnd']>y or (mar_row['yren1m_xrnd']==y and mar_row['moen1m_xrnd']>=m):\n",
      "        return 1\n",
      "        \n",
      "    # first marriage ended before one year prior to birth\n",
      "    # check when second marriage starts\n",
      "    \n",
      "    # 1ST MARRIAGE ENDED NO 2ND MARRIAGE\n",
      "    if mar_row['yrbg2m_xrnd'] == -997:  \n",
      "        return 2\n",
      "    \n",
      "    #second marriage started after the given time\n",
      "    if mar_row['yrbg2m_xrnd']>y | (mar_row['yrbg2m_xrnd']==y and mar_row['mobg2m_xrnd']>m):\n",
      "        return 2\n",
      "    \n",
      "    # second marriage started before childbirth\n",
      "    # check if it lasted until childbirth\n",
      "    \n",
      "    #2ND MARRIAGE NEVER ENDED\n",
      "    if mar_row['yren2m_xrnd'] == -996:\n",
      "        return 1\n",
      "    \n",
      "    #second marriage ended after the given time\n",
      "    if mar_row['yren2m_xrnd']>y or (mar_row['yren2m_xrnd']==y and mar_row['moen2m_xrnd']>=m):\n",
      "        return 1\n",
      "    \n",
      "    # second marriage ended before childbirth\n",
      "    # check when third marriage starts\n",
      "    \n",
      "    #no third marriage\n",
      "    if mar_row['yrbg3m_xrnd'] == -995:\n",
      "        return 2\n",
      "    \n",
      "    #third marriage started after the given time\n",
      "    if mar_row['yrbg3m_xrnd']>y or (mar_row['yrbg3m_xrnd']==y and mar_row['mobg3m_xrnd']>m):\n",
      "        return 2\n",
      "\n",
      "    # third marriage started before the first birth\n",
      "    # did it last until the given time?\n",
      "    \n",
      "    try:\n",
      "        ind = years.index(mar_row['yrbg3m_xrnd'])\n",
      "        print i, [mar_row['marstat_%s'%y] for y in years[ind-1:]]\n",
      "        \n",
      "    except ValueError:\n",
      "        ind = years.index(mar_row['yrbg3m_xrnd']-1)\n",
      "        print i, [mar_row['marstat_%s'%y] for y in years[ind:]]"
     ],
     "language": "python",
     "metadata": {},
     "outputs": [],
     "prompt_number": 32
    },
    {
     "cell_type": "code",
     "collapsed": false,
     "input": [
      "count = [] # just to make sure every R has a valid marital status\n",
      "\n",
      "for i in sample:\n",
      "    if get_marstat_prev(i) == None:\n",
      "        count.append(i)     \n",
      "        \n",
      "print 'There are %s respondents with missing marital status'%len(count)"
     ],
     "language": "python",
     "metadata": {},
     "outputs": [
      {
       "output_type": "stream",
       "stream": "stdout",
       "text": [
        "1259 [1, 3, 1, 1, 1, 1, 1, 1, 2, 3, 1, 1, 1, 1, 1, 1, 1, 1, -5, -5, -5, -5, -5, 1]\n",
        "1263 [1, 1, 1, 1, 1, 1, 1, 1, 1, 1, 1, 1, 1, 1, 1, 1, 1, 1, 1, 1, 1, 1]\n",
        "1305 [3, 1, 1, 1, 1, 1, 1, 1, 1, 1, 1, 1, 1, 1, -5, -5, -5, -5, -5, 1, -5]\n",
        "11955"
       ]
      },
      {
       "output_type": "stream",
       "stream": "stdout",
       "text": [
        " [3, 1, 1, 1, 1, 1, 1, 1, 1, 1, 1, 1, 1, 1]\n",
        "There are 4 respondents with missing marital status"
       ]
      },
      {
       "output_type": "stream",
       "stream": "stdout",
       "text": [
        "\n"
       ]
      }
     ],
     "prompt_number": 33
    },
    {
     "cell_type": "code",
     "collapsed": false,
     "input": [
      "#assume the four respondents with missing marital status were married one year prior to birth\n",
      "\n",
      "# marital status\n",
      "# 0 - never married before, 1 - married, 2 - divorced/separated/widowed\n",
      "\n",
      "def get_marstat_prev(i):\n",
      "    \"\"\"\n",
      "    This function returns the marital status 12 months prior to first birth.\n",
      "    \"\"\"\n",
      "    \n",
      "    dob_row = analytic_df[analytic_df.caseid_1979==i].iloc[0]\n",
      "    mar_row = marstat_df[marstat_df.caseid_1979==i].iloc[0]\n",
      "    m = int(dob_row['c1dob_m_xrnd'])\n",
      "    y = int(dob_row['c1dob_y_xrnd'])-1\n",
      "    \n",
      "    #Documentation:\n",
      "        # -999: NEVER MARRIED\n",
      "        # -998: 1ST MARRIAGE NEVER ENDED\n",
      "        # -997: 1ST MARRIAGE ENDED NO 2ND MARRIAGE\n",
      "        # 0 TO 1979: <=1979\n",
      "        # 1980, etc.\n",
      "    \n",
      "    ################################\n",
      "    ###Consider various situations:\n",
      "    ################################\n",
      "    \n",
      "    #never married\n",
      "    if mar_row['yrbg1m_xrnd'] == -999: \n",
      "        return 0\n",
      "    \n",
      "    #first marriage started after the given year\n",
      "    if mar_row['yrbg1m_xrnd']>y or (mar_row['yrbg1m_xrnd']==y and mar_row['mobg1m_xrnd']>m):\n",
      "        return 0    \n",
      "    \n",
      "    #first marriage started before one year prior to birth\n",
      "    #did it last until one year prior to birth?\n",
      "    \n",
      "    # first marriage never ended\n",
      "    if mar_row['yren1m_xrnd'] == -998: \n",
      "        return 1\n",
      "    \n",
      "    #first marriage ended after the given time\n",
      "    if mar_row['yren1m_xrnd']>y or (mar_row['yren1m_xrnd']==y and mar_row['moen1m_xrnd']>=m):\n",
      "        return 1\n",
      "        \n",
      "    # first marriage ended before one year prior to birth\n",
      "    # check when second marriage starts\n",
      "    \n",
      "    # 1ST MARRIAGE ENDED NO 2ND MARRIAGE\n",
      "    if mar_row['yrbg2m_xrnd'] == -997:  \n",
      "        return 2\n",
      "    \n",
      "    #second marriage started after the given time\n",
      "    if mar_row['yrbg2m_xrnd']>y | (mar_row['yrbg2m_xrnd']==y and mar_row['mobg2m_xrnd']>m):\n",
      "        return 2\n",
      "    \n",
      "    # second marriage started before childbirth\n",
      "    # check if it lasted until childbirth\n",
      "    \n",
      "    #2ND MARRIAGE NEVER ENDED\n",
      "    if mar_row['yren2m_xrnd'] == -996:\n",
      "        return 1\n",
      "    \n",
      "    #second marriage ended after the given time\n",
      "    if mar_row['yren2m_xrnd']>y or (mar_row['yren2m_xrnd']==y and mar_row['moen2m_xrnd']>=m):\n",
      "        return 1\n",
      "    \n",
      "    # second marriage ended before childbirth\n",
      "    # check when third marriage starts\n",
      "    \n",
      "    #no third marriage\n",
      "    if mar_row['yrbg3m_xrnd'] == -995:\n",
      "        return 2\n",
      "    \n",
      "    #third marriage started after the given time\n",
      "    if mar_row['yrbg3m_xrnd']>y or (mar_row['yrbg3m_xrnd']==y and mar_row['mobg3m_xrnd']>m):\n",
      "        return 2\n",
      "\n",
      "    # third marriage started before the first birth\n",
      "    # did it last until the given time?\n",
      "    return 1\n",
      "\n",
      "\n",
      "# 0 - never married before, 1 - married, 2 - divorced/separated/widowed\n",
      "marstat_prev = [get_marstat_prev(i) for i in sample] "
     ],
     "language": "python",
     "metadata": {},
     "outputs": [],
     "prompt_number": 34
    },
    {
     "cell_type": "code",
     "collapsed": false,
     "input": [
      "iv_df[\"marstat_prev\"] = marstat_prev\n",
      "iv_df.head()"
     ],
     "language": "python",
     "metadata": {},
     "outputs": [
      {
       "html": [
        "<div style=\"max-height:1000px;max-width:1500px;overflow:auto;\">\n",
        "<table border=\"1\" class=\"dataframe\">\n",
        "  <thead>\n",
        "    <tr style=\"text-align: right;\">\n",
        "      <th></th>\n",
        "      <th>id</th>\n",
        "      <th>wt</th>\n",
        "      <th>higrade</th>\n",
        "      <th>age_at_first_birth</th>\n",
        "      <th>marstat_prev</th>\n",
        "    </tr>\n",
        "  </thead>\n",
        "  <tbody>\n",
        "    <tr>\n",
        "      <th>0</th>\n",
        "      <td>  2</td>\n",
        "      <td> 763795</td>\n",
        "      <td> 13</td>\n",
        "      <td> 34</td>\n",
        "      <td> 0</td>\n",
        "    </tr>\n",
        "    <tr>\n",
        "      <th>1</th>\n",
        "      <td>  3</td>\n",
        "      <td> 536272</td>\n",
        "      <td> 10</td>\n",
        "      <td> 19</td>\n",
        "      <td> 0</td>\n",
        "    </tr>\n",
        "    <tr>\n",
        "      <th>2</th>\n",
        "      <td>  4</td>\n",
        "      <td> 565820</td>\n",
        "      <td> 14</td>\n",
        "      <td> 17</td>\n",
        "      <td> 0</td>\n",
        "    </tr>\n",
        "    <tr>\n",
        "      <th>3</th>\n",
        "      <td> 16</td>\n",
        "      <td> 729160</td>\n",
        "      <td> 12</td>\n",
        "      <td> 31</td>\n",
        "      <td> 1</td>\n",
        "    </tr>\n",
        "    <tr>\n",
        "      <th>4</th>\n",
        "      <td> 19</td>\n",
        "      <td> 770089</td>\n",
        "      <td> 12</td>\n",
        "      <td> 29</td>\n",
        "      <td> 2</td>\n",
        "    </tr>\n",
        "  </tbody>\n",
        "</table>\n",
        "</div>"
       ],
       "metadata": {},
       "output_type": "pyout",
       "prompt_number": 35,
       "text": [
        "   id      wt  higrade  age_at_first_birth  marstat_prev\n",
        "0   2  763795       13                  34             0\n",
        "1   3  536272       10                  19             0\n",
        "2   4  565820       14                  17             0\n",
        "3  16  729160       12                  31             1\n",
        "4  19  770089       12                  29             2"
       ]
      }
     ],
     "prompt_number": 35
    },
    {
     "cell_type": "code",
     "collapsed": false,
     "input": [
      "# create marital status in another way, using variables from NLSY79\n",
      "def get_marstat_prev2(i):\n",
      "    \"\"\"\n",
      "    \"\"\"\n",
      "    \n",
      "    dob_row = analytic_df[analytic_df.caseid_1979==i].iloc[0]\n",
      "    dob_y = int(dob_row['c1dob_y_xrnd'])\n",
      "    \n",
      "    try:\n",
      "        years.index(dob_y-1)\n",
      "        return marstat_df[marstat_df.caseid_1979==i].iloc[0]['marstat_%s'%(dob_y-1)]\n",
      "        \n",
      "    except ValueError:\n",
      "        return marstat_df[marstat_df.caseid_1979==i].iloc[0]['marstat_%s'%(dob_y-2)]\n",
      "\n",
      "    \n",
      "marstat_prev2 = [get_marstat_prev2(i) for i in sample]"
     ],
     "language": "python",
     "metadata": {},
     "outputs": [],
     "prompt_number": 36
    },
    {
     "cell_type": "code",
     "collapsed": false,
     "input": [
      "set(marstat_prev2)"
     ],
     "language": "python",
     "metadata": {},
     "outputs": [
      {
       "metadata": {},
       "output_type": "pyout",
       "prompt_number": 37,
       "text": [
        "{-5, 0, 1, 2, 3, 6}"
       ]
      }
     ],
     "prompt_number": 37
    },
    {
     "cell_type": "code",
     "collapsed": false,
     "input": [
      "print '%s respondents have missing value'%marstat_prev2.count(-5)"
     ],
     "language": "python",
     "metadata": {},
     "outputs": [
      {
       "output_type": "stream",
       "stream": "stdout",
       "text": [
        "75 respondents have missing value\n"
       ]
      }
     ],
     "prompt_number": 38
    },
    {
     "cell_type": "code",
     "collapsed": false,
     "input": [
      "iv_df[\"marstat_prev2\"] = marstat_prev2\n",
      "iv_df.head()"
     ],
     "language": "python",
     "metadata": {},
     "outputs": [
      {
       "html": [
        "<div style=\"max-height:1000px;max-width:1500px;overflow:auto;\">\n",
        "<table border=\"1\" class=\"dataframe\">\n",
        "  <thead>\n",
        "    <tr style=\"text-align: right;\">\n",
        "      <th></th>\n",
        "      <th>id</th>\n",
        "      <th>wt</th>\n",
        "      <th>higrade</th>\n",
        "      <th>age_at_first_birth</th>\n",
        "      <th>marstat_prev</th>\n",
        "      <th>marstat_prev2</th>\n",
        "    </tr>\n",
        "  </thead>\n",
        "  <tbody>\n",
        "    <tr>\n",
        "      <th>0</th>\n",
        "      <td>  2</td>\n",
        "      <td> 763795</td>\n",
        "      <td> 13</td>\n",
        "      <td> 34</td>\n",
        "      <td> 0</td>\n",
        "      <td> 1</td>\n",
        "    </tr>\n",
        "    <tr>\n",
        "      <th>1</th>\n",
        "      <td>  3</td>\n",
        "      <td> 536272</td>\n",
        "      <td> 10</td>\n",
        "      <td> 19</td>\n",
        "      <td> 0</td>\n",
        "      <td> 0</td>\n",
        "    </tr>\n",
        "    <tr>\n",
        "      <th>2</th>\n",
        "      <td>  4</td>\n",
        "      <td> 565820</td>\n",
        "      <td> 14</td>\n",
        "      <td> 17</td>\n",
        "      <td> 0</td>\n",
        "      <td> 0</td>\n",
        "    </tr>\n",
        "    <tr>\n",
        "      <th>3</th>\n",
        "      <td> 16</td>\n",
        "      <td> 729160</td>\n",
        "      <td> 12</td>\n",
        "      <td> 31</td>\n",
        "      <td> 1</td>\n",
        "      <td> 1</td>\n",
        "    </tr>\n",
        "    <tr>\n",
        "      <th>4</th>\n",
        "      <td> 19</td>\n",
        "      <td> 770089</td>\n",
        "      <td> 12</td>\n",
        "      <td> 29</td>\n",
        "      <td> 2</td>\n",
        "      <td> 3</td>\n",
        "    </tr>\n",
        "  </tbody>\n",
        "</table>\n",
        "</div>"
       ],
       "metadata": {},
       "output_type": "pyout",
       "prompt_number": 39,
       "text": [
        "   id      wt  higrade  age_at_first_birth  marstat_prev  marstat_prev2\n",
        "0   2  763795       13                  34             0              1\n",
        "1   3  536272       10                  19             0              0\n",
        "2   4  565820       14                  17             0              0\n",
        "3  16  729160       12                  31             1              1\n",
        "4  19  770089       12                  29             2              3"
       ]
      }
     ],
     "prompt_number": 39
    },
    {
     "cell_type": "markdown",
     "metadata": {},
     "source": [
      "###Spouse pre-birth wage"
     ]
    },
    {
     "cell_type": "code",
     "collapsed": false,
     "input": [
      "spouse_yrs = set(analytic_df[\"c1dob_y_xrnd\"].values.tolist())\n",
      "print min(spouse_yrs), max(spouse_yrs)"
     ],
     "language": "python",
     "metadata": {},
     "outputs": [
      {
       "output_type": "stream",
       "stream": "stdout",
       "text": [
        "1980 1994\n"
       ]
      }
     ],
     "prompt_number": 40
    },
    {
     "cell_type": "code",
     "collapsed": false,
     "input": [
      "spwage_df = pd.read_csv('spouse_wage.csv')\n",
      "spwage_df.head()"
     ],
     "language": "python",
     "metadata": {},
     "outputs": [
      {
       "html": [
        "<div style=\"max-height:1000px;max-width:1500px;overflow:auto;\">\n",
        "<table border=\"1\" class=\"dataframe\">\n",
        "  <thead>\n",
        "    <tr style=\"text-align: right;\">\n",
        "      <th></th>\n",
        "      <th>caseid_1979</th>\n",
        "      <th>spouse_wage_1979</th>\n",
        "      <th>spouse_wage_1980</th>\n",
        "      <th>spouse_wage_1981</th>\n",
        "      <th>spouse_wage_1982</th>\n",
        "      <th>spouse_wage_1983</th>\n",
        "      <th>spouse_wage_1984</th>\n",
        "      <th>spouse_wage_1985</th>\n",
        "      <th>spouse_wage_1986</th>\n",
        "      <th>spouse_wage_1987</th>\n",
        "      <th>...</th>\n",
        "      <th>spouse_wage_sr000002_trunc_2010</th>\n",
        "      <th>spouse_wage_uab_a_2010</th>\n",
        "      <th>spouse_wage_uab_b_2010</th>\n",
        "      <th>spouse_wage_uab_c_2010</th>\n",
        "      <th>spouse_wage_trunc_2012</th>\n",
        "      <th>spouse_wage_sr000001_trunc_2012</th>\n",
        "      <th>spouse_wage_sr000002_trunc_2012</th>\n",
        "      <th>spouse_wage_uab_a_2012</th>\n",
        "      <th>spouse_wage_uab_b_2012</th>\n",
        "      <th>spouse_wage_uab_c_2012</th>\n",
        "    </tr>\n",
        "  </thead>\n",
        "  <tbody>\n",
        "    <tr>\n",
        "      <th>0</th>\n",
        "      <td> 1</td>\n",
        "      <td>-4</td>\n",
        "      <td>-5</td>\n",
        "      <td>    -4</td>\n",
        "      <td>    -5</td>\n",
        "      <td>   -5</td>\n",
        "      <td>   -5</td>\n",
        "      <td>    -5</td>\n",
        "      <td>    -5</td>\n",
        "      <td>    -5</td>\n",
        "      <td>...</td>\n",
        "      <td>-5</td>\n",
        "      <td>-5</td>\n",
        "      <td>-5</td>\n",
        "      <td>-5</td>\n",
        "      <td>    -5</td>\n",
        "      <td>-5</td>\n",
        "      <td>-5</td>\n",
        "      <td>-5</td>\n",
        "      <td>-5</td>\n",
        "      <td>-5</td>\n",
        "    </tr>\n",
        "    <tr>\n",
        "      <th>1</th>\n",
        "      <td> 2</td>\n",
        "      <td>-4</td>\n",
        "      <td>-4</td>\n",
        "      <td>    -4</td>\n",
        "      <td>    -4</td>\n",
        "      <td>   -4</td>\n",
        "      <td>   -4</td>\n",
        "      <td>    -4</td>\n",
        "      <td>    -4</td>\n",
        "      <td>    -4</td>\n",
        "      <td>...</td>\n",
        "      <td>-4</td>\n",
        "      <td>-4</td>\n",
        "      <td>-4</td>\n",
        "      <td>-4</td>\n",
        "      <td>     0</td>\n",
        "      <td>-4</td>\n",
        "      <td>-4</td>\n",
        "      <td>-4</td>\n",
        "      <td>-4</td>\n",
        "      <td>-4</td>\n",
        "    </tr>\n",
        "    <tr>\n",
        "      <th>2</th>\n",
        "      <td> 3</td>\n",
        "      <td>-4</td>\n",
        "      <td>-4</td>\n",
        "      <td>    -5</td>\n",
        "      <td> 10000</td>\n",
        "      <td> 9600</td>\n",
        "      <td> 4200</td>\n",
        "      <td> 18000</td>\n",
        "      <td> 30000</td>\n",
        "      <td> 20000</td>\n",
        "      <td>...</td>\n",
        "      <td>-5</td>\n",
        "      <td>-5</td>\n",
        "      <td>-5</td>\n",
        "      <td>-5</td>\n",
        "      <td> 55000</td>\n",
        "      <td>-4</td>\n",
        "      <td>-4</td>\n",
        "      <td>-4</td>\n",
        "      <td>-4</td>\n",
        "      <td>-4</td>\n",
        "    </tr>\n",
        "    <tr>\n",
        "      <th>3</th>\n",
        "      <td> 4</td>\n",
        "      <td>-4</td>\n",
        "      <td>-5</td>\n",
        "      <td> 14000</td>\n",
        "      <td> 10000</td>\n",
        "      <td>   -4</td>\n",
        "      <td>   -4</td>\n",
        "      <td>    -4</td>\n",
        "      <td>    -4</td>\n",
        "      <td>    -4</td>\n",
        "      <td>...</td>\n",
        "      <td>-5</td>\n",
        "      <td>-5</td>\n",
        "      <td>-5</td>\n",
        "      <td>-5</td>\n",
        "      <td>    -5</td>\n",
        "      <td>-5</td>\n",
        "      <td>-5</td>\n",
        "      <td>-5</td>\n",
        "      <td>-5</td>\n",
        "      <td>-5</td>\n",
        "    </tr>\n",
        "    <tr>\n",
        "      <th>4</th>\n",
        "      <td> 5</td>\n",
        "      <td>-4</td>\n",
        "      <td>-4</td>\n",
        "      <td>    -4</td>\n",
        "      <td>    -4</td>\n",
        "      <td>   -4</td>\n",
        "      <td>   -4</td>\n",
        "      <td>    -5</td>\n",
        "      <td> 18000</td>\n",
        "      <td>    -5</td>\n",
        "      <td>...</td>\n",
        "      <td>-5</td>\n",
        "      <td>-5</td>\n",
        "      <td>-5</td>\n",
        "      <td>-5</td>\n",
        "      <td>    -5</td>\n",
        "      <td>-5</td>\n",
        "      <td>-5</td>\n",
        "      <td>-5</td>\n",
        "      <td>-5</td>\n",
        "      <td>-5</td>\n",
        "    </tr>\n",
        "  </tbody>\n",
        "</table>\n",
        "<p>5 rows \u00d7 61 columns</p>\n",
        "</div>"
       ],
       "metadata": {},
       "output_type": "pyout",
       "prompt_number": 41,
       "text": [
        "   caseid_1979  spouse_wage_1979  spouse_wage_1980  spouse_wage_1981  \\\n",
        "0            1                -4                -5                -4   \n",
        "1            2                -4                -4                -4   \n",
        "2            3                -4                -4                -5   \n",
        "3            4                -4                -5             14000   \n",
        "4            5                -4                -4                -4   \n",
        "\n",
        "   spouse_wage_1982  spouse_wage_1983  spouse_wage_1984  spouse_wage_1985  \\\n",
        "0                -5                -5                -5                -5   \n",
        "1                -4                -4                -4                -4   \n",
        "2             10000              9600              4200             18000   \n",
        "3             10000                -4                -4                -4   \n",
        "4                -4                -4                -4                -5   \n",
        "\n",
        "   spouse_wage_1986  spouse_wage_1987           ...            \\\n",
        "0                -5                -5           ...             \n",
        "1                -4                -4           ...             \n",
        "2             30000             20000           ...             \n",
        "3                -4                -4           ...             \n",
        "4             18000                -5           ...             \n",
        "\n",
        "   spouse_wage_sr000002_trunc_2010  spouse_wage_uab_a_2010  \\\n",
        "0                               -5                      -5   \n",
        "1                               -4                      -4   \n",
        "2                               -5                      -5   \n",
        "3                               -5                      -5   \n",
        "4                               -5                      -5   \n",
        "\n",
        "   spouse_wage_uab_b_2010  spouse_wage_uab_c_2010  spouse_wage_trunc_2012  \\\n",
        "0                      -5                      -5                      -5   \n",
        "1                      -4                      -4                       0   \n",
        "2                      -5                      -5                   55000   \n",
        "3                      -5                      -5                      -5   \n",
        "4                      -5                      -5                      -5   \n",
        "\n",
        "   spouse_wage_sr000001_trunc_2012  spouse_wage_sr000002_trunc_2012  \\\n",
        "0                               -5                               -5   \n",
        "1                               -4                               -4   \n",
        "2                               -4                               -4   \n",
        "3                               -5                               -5   \n",
        "4                               -5                               -5   \n",
        "\n",
        "   spouse_wage_uab_a_2012  spouse_wage_uab_b_2012  spouse_wage_uab_c_2012  \n",
        "0                      -5                      -5                      -5  \n",
        "1                      -4                      -4                      -4  \n",
        "2                      -4                      -4                      -4  \n",
        "3                      -5                      -5                      -5  \n",
        "4                      -5                      -5                      -5  \n",
        "\n",
        "[5 rows x 61 columns]"
       ]
      }
     ],
     "prompt_number": 41
    },
    {
     "cell_type": "code",
     "collapsed": false,
     "input": [
      "def convert_to_2014dollar(m, y):\n",
      "    \"\"\"\n",
      "    \"\"\"\n",
      "    \n",
      "    convert_dict = {\n",
      "        1979: 3.26,\n",
      "        1980: 2.87,\n",
      "        1981: 2.60,\n",
      "        1982: 2.45,\n",
      "        1983: 2.38,\n",
      "        1984: 2.28,\n",
      "        1985: 2.20,\n",
      "        1986: 2.16,\n",
      "        1987: 2.08,\n",
      "        1988: 2.00,\n",
      "        1989: 1.91,\n",
      "        1990: 1.81,\n",
      "        1991: 1.74,\n",
      "        1992: 1.69,\n",
      "        1993: 1.64,\n",
      "        1994: 1.60\n",
      "    }\n",
      "    \n",
      "    return m*convert_dict[y]"
     ],
     "language": "python",
     "metadata": {},
     "outputs": [],
     "prompt_number": 42
    },
    {
     "cell_type": "code",
     "collapsed": false,
     "input": [
      "# can you impute the noninterview?\n",
      "spouse_wage = []\n",
      "marstat_new = []\n",
      "\n",
      "def get_spouse_wage(i):\n",
      "    \"\"\"\n",
      "    Return (spouse wage, marital status)\n",
      "    \"\"\"\n",
      "    \n",
      "    dob_y = analytic_df[analytic_df.caseid_1979==i].iloc[0]['c1dob_y_xrnd']\n",
      "    marstat_prev = iv_df[iv_df.id==i].iloc[0][\"marstat_prev\"] # created by me\n",
      "    marstat_prev2 = iv_df[iv_df.id==i].iloc[0][\"marstat_prev2\"] # from NLSY79\n",
      "    \n",
      "    if marstat_prev2 == -5:\n",
      "        marstat_prev2 = marstat_prev\n",
      "    \n",
      "    wage = spwage_df[spwage_df.caseid_1979==i].iloc[0]['spouse_wage_%s'%(dob_y-1)]\n",
      "    \n",
      "    if wage >= 0:\n",
      "        return (convert_to_2014dollar(wage, dob_y-1), 1)\n",
      "        \n",
      "        if marstat_prev2 != 1:\n",
      "            print \"changed from unmarried to married\"\n",
      "    \n",
      "    else:\n",
      "        if marstat_prev2 in [0, 2, 3, 6]:\n",
      "            return (0, 2)\n",
      "        elif marstat_prev2==1:\n",
      "            if dob_y>=1981:\n",
      "                prev = spwage_df[spwage_df.caseid_1979==i].iloc[0]['spouse_wage_%s'%(dob_y-2)]\n",
      "                following = spwage_df[spwage_df.caseid_1979==i].iloc[0]['spouse_wage_%s'%(dob_y)]\n",
      "            \n",
      "                if prev>=0 and following>=0:\n",
      "                    return (convert_to_2014dollar((prev+following)/2., dob_y-1), 1)\n",
      "                elif prev>=0 and following<0:\n",
      "                    return (convert_to_2014dollar(prev, dob_y-1), 1)\n",
      "                elif prev<0 and following>=0:\n",
      "                    return (convert_to_2014dollar(following, dob_y-1), 1)   \n",
      "                else:\n",
      "                    return (None, 1)\n",
      "            else:\n",
      "                following = spwage_df[spwage_df.caseid_1979==i].iloc[0]['spouse_wage_%s'%(dob_y)]\n",
      "                if following>=0:\n",
      "                    return (convert_to_2014dollar(following, dob_y-1), 1)\n",
      "                else:\n",
      "                    return (None, 1)\n",
      "        else:\n",
      "            print 'unknown case'"
     ],
     "language": "python",
     "metadata": {},
     "outputs": [],
     "prompt_number": 43
    },
    {
     "cell_type": "code",
     "collapsed": false,
     "input": [
      "spouse_wage = [get_spouse_wage(i)[0] for i in sample]\n",
      "marstat_new = [get_spouse_wage(i)[1] for i in sample]"
     ],
     "language": "python",
     "metadata": {},
     "outputs": [],
     "prompt_number": 44
    },
    {
     "cell_type": "code",
     "collapsed": false,
     "input": [
      "iv_df[\"spouse_wage\"] = spouse_wage\n",
      "iv_df[\"marstat_prev_new\"] = marstat_new\n",
      "iv_df.head()"
     ],
     "language": "python",
     "metadata": {},
     "outputs": [
      {
       "html": [
        "<div style=\"max-height:1000px;max-width:1500px;overflow:auto;\">\n",
        "<table border=\"1\" class=\"dataframe\">\n",
        "  <thead>\n",
        "    <tr style=\"text-align: right;\">\n",
        "      <th></th>\n",
        "      <th>id</th>\n",
        "      <th>wt</th>\n",
        "      <th>higrade</th>\n",
        "      <th>age_at_first_birth</th>\n",
        "      <th>marstat_prev</th>\n",
        "      <th>marstat_prev2</th>\n",
        "      <th>spouse_wage</th>\n",
        "      <th>marstat_prev_new</th>\n",
        "    </tr>\n",
        "  </thead>\n",
        "  <tbody>\n",
        "    <tr>\n",
        "      <th>0</th>\n",
        "      <td>  2</td>\n",
        "      <td> 763795</td>\n",
        "      <td> 13</td>\n",
        "      <td> 34</td>\n",
        "      <td> 0</td>\n",
        "      <td> 1</td>\n",
        "      <td> 55770</td>\n",
        "      <td> 1</td>\n",
        "    </tr>\n",
        "    <tr>\n",
        "      <th>1</th>\n",
        "      <td>  3</td>\n",
        "      <td> 536272</td>\n",
        "      <td> 10</td>\n",
        "      <td> 19</td>\n",
        "      <td> 0</td>\n",
        "      <td> 0</td>\n",
        "      <td>     0</td>\n",
        "      <td> 2</td>\n",
        "    </tr>\n",
        "    <tr>\n",
        "      <th>2</th>\n",
        "      <td>  4</td>\n",
        "      <td> 565820</td>\n",
        "      <td> 14</td>\n",
        "      <td> 17</td>\n",
        "      <td> 0</td>\n",
        "      <td> 0</td>\n",
        "      <td>     0</td>\n",
        "      <td> 2</td>\n",
        "    </tr>\n",
        "    <tr>\n",
        "      <th>3</th>\n",
        "      <td> 16</td>\n",
        "      <td> 729160</td>\n",
        "      <td> 12</td>\n",
        "      <td> 31</td>\n",
        "      <td> 1</td>\n",
        "      <td> 1</td>\n",
        "      <td> 13370</td>\n",
        "      <td> 1</td>\n",
        "    </tr>\n",
        "    <tr>\n",
        "      <th>4</th>\n",
        "      <td> 19</td>\n",
        "      <td> 770089</td>\n",
        "      <td> 12</td>\n",
        "      <td> 29</td>\n",
        "      <td> 2</td>\n",
        "      <td> 3</td>\n",
        "      <td>     0</td>\n",
        "      <td> 2</td>\n",
        "    </tr>\n",
        "  </tbody>\n",
        "</table>\n",
        "</div>"
       ],
       "metadata": {},
       "output_type": "pyout",
       "prompt_number": 45,
       "text": [
        "   id      wt  higrade  age_at_first_birth  marstat_prev  marstat_prev2  \\\n",
        "0   2  763795       13                  34             0              1   \n",
        "1   3  536272       10                  19             0              0   \n",
        "2   4  565820       14                  17             0              0   \n",
        "3  16  729160       12                  31             1              1   \n",
        "4  19  770089       12                  29             2              3   \n",
        "\n",
        "   spouse_wage  marstat_prev_new  \n",
        "0        55770                 1  \n",
        "1            0                 2  \n",
        "2            0                 2  \n",
        "3        13370                 1  \n",
        "4            0                 2  "
       ]
      }
     ],
     "prompt_number": 45
    },
    {
     "cell_type": "code",
     "collapsed": false,
     "input": [
      "print '%s respondents had missing spouse wage when they were married'%iv_df.spouse_wage.isnull().tolist().count(True)"
     ],
     "language": "python",
     "metadata": {},
     "outputs": [
      {
       "output_type": "stream",
       "stream": "stdout",
       "text": [
        "95 respondents had missing spouse wage when they were married\n"
       ]
      }
     ],
     "prompt_number": 46
    },
    {
     "cell_type": "code",
     "collapsed": false,
     "input": [
      "iv_df[\"spouse_wage_mis\"] = iv_df.spouse_wage.isnull()\n",
      "iv_df.head()"
     ],
     "language": "python",
     "metadata": {},
     "outputs": [
      {
       "html": [
        "<div style=\"max-height:1000px;max-width:1500px;overflow:auto;\">\n",
        "<table border=\"1\" class=\"dataframe\">\n",
        "  <thead>\n",
        "    <tr style=\"text-align: right;\">\n",
        "      <th></th>\n",
        "      <th>id</th>\n",
        "      <th>wt</th>\n",
        "      <th>higrade</th>\n",
        "      <th>age_at_first_birth</th>\n",
        "      <th>marstat_prev</th>\n",
        "      <th>marstat_prev2</th>\n",
        "      <th>spouse_wage</th>\n",
        "      <th>marstat_prev_new</th>\n",
        "      <th>spouse_wage_mis</th>\n",
        "    </tr>\n",
        "  </thead>\n",
        "  <tbody>\n",
        "    <tr>\n",
        "      <th>0</th>\n",
        "      <td>  2</td>\n",
        "      <td> 763795</td>\n",
        "      <td> 13</td>\n",
        "      <td> 34</td>\n",
        "      <td> 0</td>\n",
        "      <td> 1</td>\n",
        "      <td> 55770</td>\n",
        "      <td> 1</td>\n",
        "      <td> False</td>\n",
        "    </tr>\n",
        "    <tr>\n",
        "      <th>1</th>\n",
        "      <td>  3</td>\n",
        "      <td> 536272</td>\n",
        "      <td> 10</td>\n",
        "      <td> 19</td>\n",
        "      <td> 0</td>\n",
        "      <td> 0</td>\n",
        "      <td>     0</td>\n",
        "      <td> 2</td>\n",
        "      <td> False</td>\n",
        "    </tr>\n",
        "    <tr>\n",
        "      <th>2</th>\n",
        "      <td>  4</td>\n",
        "      <td> 565820</td>\n",
        "      <td> 14</td>\n",
        "      <td> 17</td>\n",
        "      <td> 0</td>\n",
        "      <td> 0</td>\n",
        "      <td>     0</td>\n",
        "      <td> 2</td>\n",
        "      <td> False</td>\n",
        "    </tr>\n",
        "    <tr>\n",
        "      <th>3</th>\n",
        "      <td> 16</td>\n",
        "      <td> 729160</td>\n",
        "      <td> 12</td>\n",
        "      <td> 31</td>\n",
        "      <td> 1</td>\n",
        "      <td> 1</td>\n",
        "      <td> 13370</td>\n",
        "      <td> 1</td>\n",
        "      <td> False</td>\n",
        "    </tr>\n",
        "    <tr>\n",
        "      <th>4</th>\n",
        "      <td> 19</td>\n",
        "      <td> 770089</td>\n",
        "      <td> 12</td>\n",
        "      <td> 29</td>\n",
        "      <td> 2</td>\n",
        "      <td> 3</td>\n",
        "      <td>     0</td>\n",
        "      <td> 2</td>\n",
        "      <td> False</td>\n",
        "    </tr>\n",
        "  </tbody>\n",
        "</table>\n",
        "</div>"
       ],
       "metadata": {},
       "output_type": "pyout",
       "prompt_number": 47,
       "text": [
        "   id      wt  higrade  age_at_first_birth  marstat_prev  marstat_prev2  \\\n",
        "0   2  763795       13                  34             0              1   \n",
        "1   3  536272       10                  19             0              0   \n",
        "2   4  565820       14                  17             0              0   \n",
        "3  16  729160       12                  31             1              1   \n",
        "4  19  770089       12                  29             2              3   \n",
        "\n",
        "   spouse_wage  marstat_prev_new spouse_wage_mis  \n",
        "0        55770                 1           False  \n",
        "1            0                 2           False  \n",
        "2            0                 2           False  \n",
        "3        13370                 1           False  \n",
        "4            0                 2           False  "
       ]
      }
     ],
     "prompt_number": 47
    },
    {
     "cell_type": "code",
     "collapsed": false,
     "input": [
      "#replace missing values with sample mean\n",
      "valid_married_df = iv_df[(iv_df.spouse_wage_mis==False)&(iv_df.marstat_prev_new==1)]\n",
      "iv_df.spouse_wage = iv_df.spouse_wage.replace(np.nan, np.average(valid_married_df.spouse_wage, weights=valid_married_df.wt))\n",
      "print iv_df.spouse_wage.isnull().tolist().count(True)"
     ],
     "language": "python",
     "metadata": {},
     "outputs": [
      {
       "output_type": "stream",
       "stream": "stdout",
       "text": [
        "0\n"
       ]
      }
     ],
     "prompt_number": 50
    },
    {
     "cell_type": "code",
     "collapsed": false,
     "input": [
      "print 'sample spouse wage average is', np.average(valid_married_df.spouse_wage, weights=valid_married_df.wt)"
     ],
     "language": "python",
     "metadata": {},
     "outputs": [
      {
       "output_type": "stream",
       "stream": "stdout",
       "text": [
        "sample spouse wage average is 46805.7926782\n"
       ]
      }
     ],
     "prompt_number": 52
    },
    {
     "cell_type": "markdown",
     "metadata": {},
     "source": [
      "###Parents' Education"
     ]
    },
    {
     "cell_type": "code",
     "collapsed": false,
     "input": [
      "parents_df = pd.read_csv('parents.csv')"
     ],
     "language": "python",
     "metadata": {},
     "outputs": [],
     "prompt_number": 53
    },
    {
     "cell_type": "code",
     "collapsed": false,
     "input": [
      "print parents_df.columns"
     ],
     "language": "python",
     "metadata": {},
     "outputs": [
      {
       "output_type": "stream",
       "stream": "stdout",
       "text": [
        "Index([u'h40_bpar_1_xrnd', u'h40_bpar_2_xrnd', u'h40_bpar_3_xrnd', u'h40_bpar_4_xrnd', u'h40_bpar_5_code1_xrnd', u'h40_bpar_5_code2_xrnd', u'h40_bpar_5_code3_xrnd', u'h40_bpar_5_code4_xrnd', u'h40_bpar_6_xrnd', u'h40_bpar_7_xrnd', u'h40_bpar_8_xrnd', u'h40_bpar_9_xrnd', u'h40_bpar_10_code1_xrnd', u'h40_bpar_10_code2_xrnd', u'h40_bpar_10_code3_xrnd', u'h40_bpar_10_code4_xrnd', u'h50bparchk1_xrnd', u'h50bpar_1_xrnd', u'h50bpar_2_xrnd', u'h50bpar_3_xrnd', u'h50bpar_4_xrnd', u'h50bpar_5_code1_xrnd', u'h50bpar_5_code2_xrnd', u'h50bpar_5_code3_xrnd', u'h50bpar_5_code4_xrnd', u'h50bpar_5_code5_xrnd', u'h50bpar_5_code6_xrnd', u'h50bparchk2_xrnd', u'h50bpar_6_xrnd', u'h50bpar_7_xrnd', u'h50bpar_8_xrnd', u'h50bpar_9_xrnd', u'h50bpar_10_code1_xrnd', u'h50bpar_10_code2_xrnd', u'h50bpar_10_code3_xrnd', u'h50bpar_10_code4_xrnd', u'h50bpar_10_code5_xrnd', u'h50bpar_10_code6_xrnd', u'h50bpar_10_code7_xrnd', u'h50bpar_10_code8_xrnd', u'caseid_1979', u'fam_8_1979', u'fam_9_1979', u'fam_9a_1979', u'fam_10_1979', u'fam_11_1979', u'fam_11a_1979', u'fam_15_1979', u'fam_15a_1979', u'hgc_mother_1979', u'fam_17_1979', u'h40_bpar_6_1979', u'fam_19_1979', u'famocc_19_1979', u'fam_19c_1979', u'fam_20_1979', u'fam_20a_1979', u'fam_21_1979', u'fam_21a_1979', u'fam_22_1979', u'hgc_father_1979', u'fam_24_1979', u'h40_bpar_1_1979', u'fam_26_1979', u'famocc_26_1979', u'fam_26c_1979', u'fam_27_1979', u'fam_27c_1979', u'fan_27d_1979', u'fam_17_1980', u'h40_bpar_6_1980', u'fam_19_1980', u'fam_19c_1980', u'fam_24_1980', u'h40_bpar_1_1980', u'fam_26_1980', u'fam_26c_1980', u'fam_dad_m_1987', u'fam_dad_y_1987', u'fam_dad_age_1987', u'fam_mom_m_1987', u'fam_mom_y_1987', u'fam_mom_age_1987', u'fam_dad_m_1988', u'fam_dad_y_1988', u'fam_dad_age_1988', u'fam_mom_m_1988', u'fam_mom_y_1988', u'fam_mom_age_1988'], dtype='object')\n"
       ]
      }
     ],
     "prompt_number": 55
    },
    {
     "cell_type": "code",
     "collapsed": false,
     "input": [
      "#mother's origin:\n",
      "#1 IN THE UNITED STATES\n",
      "#2 OTHER COUNTRY\n",
      "#3 NEVER KNEW MOTHER\n",
      "\n",
      "combo = [(row['fam_15_1979'], row['hgc_mother_1979']) \n",
      "         for i, row in parents_df[parents_df.caseid_1979.isin(sample)].iterrows()]\n",
      "combo = list(set(combo))\n",
      "\n",
      "for (ma_origin, ma_educ) in combo:\n",
      "    if ma_educ<0 or ma_origin<0:\n",
      "        print (ma_origin, ma_educ)       "
     ],
     "language": "python",
     "metadata": {},
     "outputs": [
      {
       "output_type": "stream",
       "stream": "stdout",
       "text": [
        "(-3, 8)\n",
        "(-3, -2)\n",
        "(1, -2)\n",
        "(2, -3)\n",
        "(1, -1)\n",
        "(-2, 10)\n",
        "(3, -4)\n",
        "(1, -3)\n",
        "(2, -2)\n",
        "(-3, 14)\n",
        "(-2, -2)\n"
       ]
      }
     ],
     "prompt_number": 57
    },
    {
     "cell_type": "code",
     "collapsed": false,
     "input": [
      "def get_ma_educ(i):\n",
      "    \"\"\"\n",
      "    if never knew mother, code ma educ to 0, but not missing. \n",
      "    if knew mother and invalid educ, set to missing\n",
      "    \"\"\"\n",
      "    \n",
      "    row = parents_df[parents_df.caseid_1979==i].iloc[0]\n",
      "    origin = row['fam_15_1979']\n",
      "    educ = row['hgc_mother_1979']\n",
      "    \n",
      "    if educ >= 0:\n",
      "        return (educ, False)\n",
      "    elif educ==-4:\n",
      "        return (0, False)\n",
      "    else:\n",
      "        return (None, True)\n",
      "        "
     ],
     "language": "python",
     "metadata": {},
     "outputs": [],
     "prompt_number": 58
    },
    {
     "cell_type": "code",
     "collapsed": false,
     "input": [
      "ma_hi_grade = [get_ma_educ(i) for i in sample]\n",
      "ma_educ_mis = [x==None for x in ma_hi_grade]\n",
      "iv_df[\"ma_hi_grade\"] = ma_hi_grade\n",
      "iv_df[\"ma_educ_mis\"] = ma_educ_mis\n",
      "iv_df.head()"
     ],
     "language": "python",
     "metadata": {},
     "outputs": [
      {
       "html": [
        "<div style=\"max-height:1000px;max-width:1500px;overflow:auto;\">\n",
        "<table border=\"1\" class=\"dataframe\">\n",
        "  <thead>\n",
        "    <tr style=\"text-align: right;\">\n",
        "      <th></th>\n",
        "      <th>id</th>\n",
        "      <th>wt</th>\n",
        "      <th>higrade</th>\n",
        "      <th>age_at_first_birth</th>\n",
        "      <th>marstat_prev</th>\n",
        "      <th>marstat_prev2</th>\n",
        "      <th>spouse_wage</th>\n",
        "      <th>marstat_prev_new</th>\n",
        "      <th>spouse_wage_mis</th>\n",
        "      <th>ma_hi_grade</th>\n",
        "      <th>ma_educ_mis</th>\n",
        "    </tr>\n",
        "  </thead>\n",
        "  <tbody>\n",
        "    <tr>\n",
        "      <th>0</th>\n",
        "      <td>  2</td>\n",
        "      <td> 763795</td>\n",
        "      <td> 13</td>\n",
        "      <td> 34</td>\n",
        "      <td> 0</td>\n",
        "      <td> 1</td>\n",
        "      <td> 55770</td>\n",
        "      <td> 1</td>\n",
        "      <td> False</td>\n",
        "      <td>  5</td>\n",
        "      <td> False</td>\n",
        "    </tr>\n",
        "    <tr>\n",
        "      <th>1</th>\n",
        "      <td>  3</td>\n",
        "      <td> 536272</td>\n",
        "      <td> 10</td>\n",
        "      <td> 19</td>\n",
        "      <td> 0</td>\n",
        "      <td> 0</td>\n",
        "      <td>     0</td>\n",
        "      <td> 2</td>\n",
        "      <td> False</td>\n",
        "      <td> 10</td>\n",
        "      <td> False</td>\n",
        "    </tr>\n",
        "    <tr>\n",
        "      <th>2</th>\n",
        "      <td>  4</td>\n",
        "      <td> 565820</td>\n",
        "      <td> 14</td>\n",
        "      <td> 17</td>\n",
        "      <td> 0</td>\n",
        "      <td> 0</td>\n",
        "      <td>     0</td>\n",
        "      <td> 2</td>\n",
        "      <td> False</td>\n",
        "      <td> 11</td>\n",
        "      <td> False</td>\n",
        "    </tr>\n",
        "    <tr>\n",
        "      <th>3</th>\n",
        "      <td> 16</td>\n",
        "      <td> 729160</td>\n",
        "      <td> 12</td>\n",
        "      <td> 31</td>\n",
        "      <td> 1</td>\n",
        "      <td> 1</td>\n",
        "      <td> 13370</td>\n",
        "      <td> 1</td>\n",
        "      <td> False</td>\n",
        "      <td> 12</td>\n",
        "      <td> False</td>\n",
        "    </tr>\n",
        "    <tr>\n",
        "      <th>4</th>\n",
        "      <td> 19</td>\n",
        "      <td> 770089</td>\n",
        "      <td> 12</td>\n",
        "      <td> 29</td>\n",
        "      <td> 2</td>\n",
        "      <td> 3</td>\n",
        "      <td>     0</td>\n",
        "      <td> 2</td>\n",
        "      <td> False</td>\n",
        "      <td> 10</td>\n",
        "      <td> False</td>\n",
        "    </tr>\n",
        "  </tbody>\n",
        "</table>\n",
        "</div>"
       ],
       "metadata": {},
       "output_type": "pyout",
       "prompt_number": 60,
       "text": [
        "   id      wt  higrade  age_at_first_birth  marstat_prev  marstat_prev2  \\\n",
        "0   2  763795       13                  34             0              1   \n",
        "1   3  536272       10                  19             0              0   \n",
        "2   4  565820       14                  17             0              0   \n",
        "3  16  729160       12                  31             1              1   \n",
        "4  19  770089       12                  29             2              3   \n",
        "\n",
        "   spouse_wage  marstat_prev_new spouse_wage_mis  ma_hi_grade ma_educ_mis  \n",
        "0        55770                 1           False            5       False  \n",
        "1            0                 2           False           10       False  \n",
        "2            0                 2           False           11       False  \n",
        "3        13370                 1           False           12       False  \n",
        "4            0                 2           False           10       False  "
       ]
      }
     ],
     "prompt_number": 60
    },
    {
     "cell_type": "code",
     "collapsed": false,
     "input": [
      "# set missings to sample mean\n",
      "#valid_ma_df = iv_df[(iv_df.ma_educ_mis==False)&(iv_df.ma_hi_grade==1)]\n",
      "#iv_df.spouse_wage = iv_df.spouse_wage.replace(np.nan, np.average(valid_married_df.spouse_wage, weights=valid_married_df.wt))\n",
      "#print iv_df.spouse_wage.isnull().tolist().count(True)\n",
      "\n",
      "\n",
      "#print iv_df[np.isnan(iv_df.mother_hi_grade)].shape\n",
      "#iv_df.mother_hi_grade = iv_df.mother_hi_grade.replace(np.nan, np.mean(iv_df[\"mother_hi_grade\"]))\n",
      "#print iv_df[np.isnan(iv_df.mother_hi_grade)].shape\n",
      "#iv_df.head()"
     ],
     "language": "python",
     "metadata": {},
     "outputs": []
    },
    {
     "cell_type": "markdown",
     "metadata": {},
     "source": [
      "##Calculate pair weights and conduct elbow test"
     ]
    },
    {
     "cell_type": "code",
     "collapsed": false,
     "input": [
      "diss = pd.read_csv('diss.csv')\n",
      "diss.head()"
     ],
     "language": "python",
     "metadata": {},
     "outputs": [
      {
       "html": [
        "<div style=\"max-height:1000px;max-width:1500px;overflow:auto;\">\n",
        "<table border=\"1\" class=\"dataframe\">\n",
        "  <thead>\n",
        "    <tr style=\"text-align: right;\">\n",
        "      <th></th>\n",
        "      <th>V1</th>\n",
        "      <th>V2</th>\n",
        "      <th>V3</th>\n",
        "      <th>V4</th>\n",
        "      <th>V5</th>\n",
        "      <th>V6</th>\n",
        "      <th>V7</th>\n",
        "      <th>V8</th>\n",
        "      <th>V9</th>\n",
        "      <th>V10</th>\n",
        "      <th>...</th>\n",
        "      <th>V2449</th>\n",
        "      <th>V2450</th>\n",
        "      <th>V2451</th>\n",
        "      <th>V2452</th>\n",
        "      <th>V2453</th>\n",
        "      <th>V2454</th>\n",
        "      <th>V2455</th>\n",
        "      <th>V2456</th>\n",
        "      <th>V2457</th>\n",
        "      <th>V2458</th>\n",
        "    </tr>\n",
        "  </thead>\n",
        "  <tbody>\n",
        "    <tr>\n",
        "      <th>0</th>\n",
        "      <td>   0</td>\n",
        "      <td> 249</td>\n",
        "      <td> 333</td>\n",
        "      <td> 390</td>\n",
        "      <td> 209</td>\n",
        "      <td> 460</td>\n",
        "      <td> 273</td>\n",
        "      <td> 251</td>\n",
        "      <td> 341</td>\n",
        "      <td> 241</td>\n",
        "      <td>...</td>\n",
        "      <td> 480</td>\n",
        "      <td> 289</td>\n",
        "      <td> 309</td>\n",
        "      <td> 647</td>\n",
        "      <td> 515</td>\n",
        "      <td> 233</td>\n",
        "      <td> 267</td>\n",
        "      <td> 651</td>\n",
        "      <td> 279</td>\n",
        "      <td> 157</td>\n",
        "    </tr>\n",
        "    <tr>\n",
        "      <th>1</th>\n",
        "      <td> 249</td>\n",
        "      <td>   0</td>\n",
        "      <td> 386</td>\n",
        "      <td> 535</td>\n",
        "      <td> 216</td>\n",
        "      <td> 549</td>\n",
        "      <td> 410</td>\n",
        "      <td> 218</td>\n",
        "      <td> 305</td>\n",
        "      <td> 420</td>\n",
        "      <td>...</td>\n",
        "      <td> 479</td>\n",
        "      <td> 228</td>\n",
        "      <td> 308</td>\n",
        "      <td> 638</td>\n",
        "      <td> 474</td>\n",
        "      <td> 392</td>\n",
        "      <td> 262</td>\n",
        "      <td> 668</td>\n",
        "      <td> 370</td>\n",
        "      <td> 320</td>\n",
        "    </tr>\n",
        "    <tr>\n",
        "      <th>2</th>\n",
        "      <td> 333</td>\n",
        "      <td> 386</td>\n",
        "      <td>   0</td>\n",
        "      <td> 410</td>\n",
        "      <td> 479</td>\n",
        "      <td> 470</td>\n",
        "      <td> 380</td>\n",
        "      <td> 473</td>\n",
        "      <td> 552</td>\n",
        "      <td> 325</td>\n",
        "      <td>...</td>\n",
        "      <td> 244</td>\n",
        "      <td> 453</td>\n",
        "      <td> 403</td>\n",
        "      <td> 391</td>\n",
        "      <td> 341</td>\n",
        "      <td> 449</td>\n",
        "      <td> 414</td>\n",
        "      <td> 405</td>\n",
        "      <td> 247</td>\n",
        "      <td> 357</td>\n",
        "    </tr>\n",
        "    <tr>\n",
        "      <th>3</th>\n",
        "      <td> 390</td>\n",
        "      <td> 535</td>\n",
        "      <td> 410</td>\n",
        "      <td>   0</td>\n",
        "      <td> 599</td>\n",
        "      <td> 210</td>\n",
        "      <td> 202</td>\n",
        "      <td> 501</td>\n",
        "      <td> 478</td>\n",
        "      <td> 287</td>\n",
        "      <td>...</td>\n",
        "      <td> 371</td>\n",
        "      <td> 559</td>\n",
        "      <td> 571</td>\n",
        "      <td> 263</td>\n",
        "      <td> 353</td>\n",
        "      <td> 384</td>\n",
        "      <td> 410</td>\n",
        "      <td> 265</td>\n",
        "      <td> 305</td>\n",
        "      <td> 346</td>\n",
        "    </tr>\n",
        "    <tr>\n",
        "      <th>4</th>\n",
        "      <td> 209</td>\n",
        "      <td> 216</td>\n",
        "      <td> 479</td>\n",
        "      <td> 599</td>\n",
        "      <td>   0</td>\n",
        "      <td> 669</td>\n",
        "      <td> 430</td>\n",
        "      <td>  98</td>\n",
        "      <td> 133</td>\n",
        "      <td> 448</td>\n",
        "      <td>...</td>\n",
        "      <td> 675</td>\n",
        "      <td>  84</td>\n",
        "      <td> 220</td>\n",
        "      <td> 846</td>\n",
        "      <td> 662</td>\n",
        "      <td> 264</td>\n",
        "      <td> 214</td>\n",
        "      <td> 844</td>\n",
        "      <td> 450</td>\n",
        "      <td> 300</td>\n",
        "    </tr>\n",
        "  </tbody>\n",
        "</table>\n",
        "<p>5 rows \u00d7 2458 columns</p>\n",
        "</div>"
       ],
       "metadata": {},
       "output_type": "pyout",
       "prompt_number": 61,
       "text": [
        "    V1   V2   V3   V4   V5   V6   V7   V8   V9  V10  ...    V2449  V2450  \\\n",
        "0    0  249  333  390  209  460  273  251  341  241  ...      480    289   \n",
        "1  249    0  386  535  216  549  410  218  305  420  ...      479    228   \n",
        "2  333  386    0  410  479  470  380  473  552  325  ...      244    453   \n",
        "3  390  535  410    0  599  210  202  501  478  287  ...      371    559   \n",
        "4  209  216  479  599    0  669  430   98  133  448  ...      675     84   \n",
        "\n",
        "   V2451  V2452  V2453  V2454  V2455  V2456  V2457  V2458  \n",
        "0    309    647    515    233    267    651    279    157  \n",
        "1    308    638    474    392    262    668    370    320  \n",
        "2    403    391    341    449    414    405    247    357  \n",
        "3    571    263    353    384    410    265    305    346  \n",
        "4    220    846    662    264    214    844    450    300  \n",
        "\n",
        "[5 rows x 2458 columns]"
       ]
      }
     ],
     "prompt_number": 61
    },
    {
     "cell_type": "code",
     "collapsed": false,
     "input": [
      "diss.columns = range(2458)\n",
      "diss.head()"
     ],
     "language": "python",
     "metadata": {},
     "outputs": [
      {
       "html": [
        "<div style=\"max-height:1000px;max-width:1500px;overflow:auto;\">\n",
        "<table border=\"1\" class=\"dataframe\">\n",
        "  <thead>\n",
        "    <tr style=\"text-align: right;\">\n",
        "      <th></th>\n",
        "      <th>0</th>\n",
        "      <th>1</th>\n",
        "      <th>2</th>\n",
        "      <th>3</th>\n",
        "      <th>4</th>\n",
        "      <th>5</th>\n",
        "      <th>6</th>\n",
        "      <th>7</th>\n",
        "      <th>8</th>\n",
        "      <th>9</th>\n",
        "      <th>...</th>\n",
        "      <th>2448</th>\n",
        "      <th>2449</th>\n",
        "      <th>2450</th>\n",
        "      <th>2451</th>\n",
        "      <th>2452</th>\n",
        "      <th>2453</th>\n",
        "      <th>2454</th>\n",
        "      <th>2455</th>\n",
        "      <th>2456</th>\n",
        "      <th>2457</th>\n",
        "    </tr>\n",
        "  </thead>\n",
        "  <tbody>\n",
        "    <tr>\n",
        "      <th>0</th>\n",
        "      <td>   0</td>\n",
        "      <td> 249</td>\n",
        "      <td> 333</td>\n",
        "      <td> 390</td>\n",
        "      <td> 209</td>\n",
        "      <td> 460</td>\n",
        "      <td> 273</td>\n",
        "      <td> 251</td>\n",
        "      <td> 341</td>\n",
        "      <td> 241</td>\n",
        "      <td>...</td>\n",
        "      <td> 480</td>\n",
        "      <td> 289</td>\n",
        "      <td> 309</td>\n",
        "      <td> 647</td>\n",
        "      <td> 515</td>\n",
        "      <td> 233</td>\n",
        "      <td> 267</td>\n",
        "      <td> 651</td>\n",
        "      <td> 279</td>\n",
        "      <td> 157</td>\n",
        "    </tr>\n",
        "    <tr>\n",
        "      <th>1</th>\n",
        "      <td> 249</td>\n",
        "      <td>   0</td>\n",
        "      <td> 386</td>\n",
        "      <td> 535</td>\n",
        "      <td> 216</td>\n",
        "      <td> 549</td>\n",
        "      <td> 410</td>\n",
        "      <td> 218</td>\n",
        "      <td> 305</td>\n",
        "      <td> 420</td>\n",
        "      <td>...</td>\n",
        "      <td> 479</td>\n",
        "      <td> 228</td>\n",
        "      <td> 308</td>\n",
        "      <td> 638</td>\n",
        "      <td> 474</td>\n",
        "      <td> 392</td>\n",
        "      <td> 262</td>\n",
        "      <td> 668</td>\n",
        "      <td> 370</td>\n",
        "      <td> 320</td>\n",
        "    </tr>\n",
        "    <tr>\n",
        "      <th>2</th>\n",
        "      <td> 333</td>\n",
        "      <td> 386</td>\n",
        "      <td>   0</td>\n",
        "      <td> 410</td>\n",
        "      <td> 479</td>\n",
        "      <td> 470</td>\n",
        "      <td> 380</td>\n",
        "      <td> 473</td>\n",
        "      <td> 552</td>\n",
        "      <td> 325</td>\n",
        "      <td>...</td>\n",
        "      <td> 244</td>\n",
        "      <td> 453</td>\n",
        "      <td> 403</td>\n",
        "      <td> 391</td>\n",
        "      <td> 341</td>\n",
        "      <td> 449</td>\n",
        "      <td> 414</td>\n",
        "      <td> 405</td>\n",
        "      <td> 247</td>\n",
        "      <td> 357</td>\n",
        "    </tr>\n",
        "    <tr>\n",
        "      <th>3</th>\n",
        "      <td> 390</td>\n",
        "      <td> 535</td>\n",
        "      <td> 410</td>\n",
        "      <td>   0</td>\n",
        "      <td> 599</td>\n",
        "      <td> 210</td>\n",
        "      <td> 202</td>\n",
        "      <td> 501</td>\n",
        "      <td> 478</td>\n",
        "      <td> 287</td>\n",
        "      <td>...</td>\n",
        "      <td> 371</td>\n",
        "      <td> 559</td>\n",
        "      <td> 571</td>\n",
        "      <td> 263</td>\n",
        "      <td> 353</td>\n",
        "      <td> 384</td>\n",
        "      <td> 410</td>\n",
        "      <td> 265</td>\n",
        "      <td> 305</td>\n",
        "      <td> 346</td>\n",
        "    </tr>\n",
        "    <tr>\n",
        "      <th>4</th>\n",
        "      <td> 209</td>\n",
        "      <td> 216</td>\n",
        "      <td> 479</td>\n",
        "      <td> 599</td>\n",
        "      <td>   0</td>\n",
        "      <td> 669</td>\n",
        "      <td> 430</td>\n",
        "      <td>  98</td>\n",
        "      <td> 133</td>\n",
        "      <td> 448</td>\n",
        "      <td>...</td>\n",
        "      <td> 675</td>\n",
        "      <td>  84</td>\n",
        "      <td> 220</td>\n",
        "      <td> 846</td>\n",
        "      <td> 662</td>\n",
        "      <td> 264</td>\n",
        "      <td> 214</td>\n",
        "      <td> 844</td>\n",
        "      <td> 450</td>\n",
        "      <td> 300</td>\n",
        "    </tr>\n",
        "  </tbody>\n",
        "</table>\n",
        "<p>5 rows \u00d7 2458 columns</p>\n",
        "</div>"
       ],
       "metadata": {},
       "output_type": "pyout",
       "prompt_number": 63,
       "text": [
        "   0     1     2     3     4     5     6     7     8     9     ...   2448  \\\n",
        "0     0   249   333   390   209   460   273   251   341   241  ...    480   \n",
        "1   249     0   386   535   216   549   410   218   305   420  ...    479   \n",
        "2   333   386     0   410   479   470   380   473   552   325  ...    244   \n",
        "3   390   535   410     0   599   210   202   501   478   287  ...    371   \n",
        "4   209   216   479   599     0   669   430    98   133   448  ...    675   \n",
        "\n",
        "   2449  2450  2451  2452  2453  2454  2455  2456  2457  \n",
        "0   289   309   647   515   233   267   651   279   157  \n",
        "1   228   308   638   474   392   262   668   370   320  \n",
        "2   453   403   391   341   449   414   405   247   357  \n",
        "3   559   571   263   353   384   410   265   305   346  \n",
        "4    84   220   846   662   264   214   844   450   300  \n",
        "\n",
        "[5 rows x 2458 columns]"
       ]
      }
     ],
     "prompt_number": 63
    },
    {
     "cell_type": "code",
     "collapsed": false,
     "input": [
      "def trim_wt(pair_diss, pair_wt):\n",
      "    \"\"\"\n",
      "    \"\"\"\n",
      "    \n",
      "    sum_wt = sum(pair_wt)\n",
      "    res = []\n",
      "    \n",
      "    for pct in range(70, 100):\n",
      "        cut_point = np.percentile(np.array(pair_wt), pct)\n",
      "        wt_trimmed = [w if w<cut_point else cut_point for w in pair_wt]\n",
      "        sum_wt_trimmed = sum(wt_trimmed)\n",
      "        amount_to_add = (sum_wt-sum_wt_trimmed)/float(sum([w<cut_point for w in pair_wt]))\n",
      "        wt_new = [w+amount_to_add if w<cut_point else w for w in wt_trimmed]\n",
      "        avg = np.average(pair_diss, weights=wt_new)\n",
      "        bias = np.average(pair_diss, weights=pair_wt) - avg\n",
      "        var = np.average((pair_diss-avg)**2, weights=wt_new)\n",
      "        MSE = var + bias**2\n",
      "        res.append((pct, MSE))\n",
      "        \n",
      "    best_pct = sorted(res, key=itemgetter(1))[0][0]\n",
      "    print 'best percentile is', best_pct\n",
      "        \n",
      "    cut_point = np.percentile(np.array(pair_wt), best_pct)\n",
      "    wt_trimmed = [w if w<cut_point else cut_point for w in pair_wt]\n",
      "    sum_wt_trimmed = sum(wt_trimmed)\n",
      "    amount_to_add = (sum_wt-sum_wt_trimmed)/float(sum([w<cut_point for w in pair_wt]))\n",
      "    wt_new = [w+amount_to_add if w<cut_point else w for w in wt_trimmed]\n",
      "    return wt_new"
     ],
     "language": "python",
     "metadata": {},
     "outputs": [],
     "prompt_number": 131
    },
    {
     "cell_type": "code",
     "collapsed": false,
     "input": [
      "def get_sum_squares(clust_wt_df, k):\n",
      "    \"\"\"\n",
      "    \"\"\"\n",
      "    \n",
      "    print 'working on %s clusters'%k\n",
      "    \n",
      "    groups = list(set(clust_wt_df['cluster%s'%k].tolist()))\n",
      "    total_ssq = 0\n",
      "    for g in groups:\n",
      "        members = np.where(clust_wt_df['cluster%s'%k]==g)[0].tolist()\n",
      "        pairs = list(itertools.combinations(members, 2)) #the sample of all pairs\n",
      "        pair_diss = [diss.iat[p[0], p[1]] for p in pairs]\n",
      "        pair_wt = [clust_wt_df.at[p[0], 'wt']*clust_wt_df.at[p[1], 'wt'] for p in pairs]\n",
      "        wt_new = trim_wt(pair_diss, pair_wt)\n",
      "        avg = np.average(pair_diss, weights=wt_new)\n",
      "        total_ssq += np.dot((pair_diss-avg)**2, wt_new)\n",
      "\n",
      "    return total_ssq"
     ],
     "language": "python",
     "metadata": {},
     "outputs": [],
     "prompt_number": 132
    },
    {
     "cell_type": "code",
     "collapsed": false,
     "input": [
      "num_clusters = range(2, 16)\n",
      "total_ssq = [get_sum_squares(clust_wt_df, k) for k in num_clusters]\n",
      "plt.scatter(num_clusters, total_ssq, color='blue', edgecolor='none')\n",
      "plt.show()"
     ],
     "language": "python",
     "metadata": {},
     "outputs": [
      {
       "output_type": "stream",
       "stream": "stdout",
       "text": [
        "working on 2 clusters\n",
        "best percentile is"
       ]
      },
      {
       "output_type": "stream",
       "stream": "stdout",
       "text": [
        " 99\n",
        "best percentile is"
       ]
      },
      {
       "output_type": "stream",
       "stream": "stdout",
       "text": [
        " 90\n",
        "working on 3 clusters"
       ]
      },
      {
       "output_type": "stream",
       "stream": "stdout",
       "text": [
        "\n",
        "best percentile is"
       ]
      },
      {
       "output_type": "stream",
       "stream": "stdout",
       "text": [
        " 70\n",
        "best percentile is"
       ]
      },
      {
       "output_type": "stream",
       "stream": "stdout",
       "text": [
        " 99\n",
        "best percentile is"
       ]
      },
      {
       "output_type": "stream",
       "stream": "stdout",
       "text": [
        " 95\n",
        "working on 4 clusters"
       ]
      },
      {
       "output_type": "stream",
       "stream": "stdout",
       "text": [
        "\n",
        "best percentile is"
       ]
      },
      {
       "output_type": "stream",
       "stream": "stdout",
       "text": [
        " 90\n",
        "best percentile is"
       ]
      },
      {
       "output_type": "stream",
       "stream": "stdout",
       "text": [
        " 99\n",
        "best percentile is"
       ]
      },
      {
       "output_type": "stream",
       "stream": "stdout",
       "text": [
        " 99\n",
        "best percentile is"
       ]
      },
      {
       "output_type": "stream",
       "stream": "stdout",
       "text": [
        " 93\n",
        "working on 5 clusters"
       ]
      },
      {
       "output_type": "stream",
       "stream": "stdout",
       "text": [
        "\n",
        "best percentile is"
       ]
      },
      {
       "output_type": "stream",
       "stream": "stdout",
       "text": [
        " 91\n",
        "best percentile is"
       ]
      },
      {
       "output_type": "stream",
       "stream": "stdout",
       "text": [
        " 96\n",
        "best percentile is"
       ]
      },
      {
       "output_type": "stream",
       "stream": "stdout",
       "text": [
        " 99\n",
        "best percentile is"
       ]
      },
      {
       "output_type": "stream",
       "stream": "stdout",
       "text": [
        " 99\n",
        "best percentile is"
       ]
      },
      {
       "output_type": "stream",
       "stream": "stdout",
       "text": [
        " 70\n",
        "working on 6 clusters"
       ]
      },
      {
       "output_type": "stream",
       "stream": "stdout",
       "text": [
        "\n",
        "best percentile is"
       ]
      },
      {
       "output_type": "stream",
       "stream": "stdout",
       "text": [
        " 96\n",
        "best percentile is"
       ]
      },
      {
       "output_type": "stream",
       "stream": "stdout",
       "text": [
        " 96\n",
        "best percentile is"
       ]
      },
      {
       "output_type": "stream",
       "stream": "stdout",
       "text": [
        " 99\n",
        "best percentile is"
       ]
      },
      {
       "output_type": "stream",
       "stream": "stdout",
       "text": [
        " 82\n",
        "best percentile is"
       ]
      },
      {
       "output_type": "stream",
       "stream": "stdout",
       "text": [
        " 99\n",
        "best percentile is"
       ]
      },
      {
       "output_type": "stream",
       "stream": "stdout",
       "text": [
        " 70\n",
        "working on 7 clusters"
       ]
      },
      {
       "output_type": "stream",
       "stream": "stdout",
       "text": [
        "\n",
        "best percentile is"
       ]
      },
      {
       "output_type": "stream",
       "stream": "stdout",
       "text": [
        " 92\n",
        "best percentile is"
       ]
      },
      {
       "output_type": "stream",
       "stream": "stdout",
       "text": [
        " 70\n",
        "best percentile is"
       ]
      },
      {
       "output_type": "stream",
       "stream": "stdout",
       "text": [
        " 99\n",
        "best percentile is"
       ]
      },
      {
       "output_type": "stream",
       "stream": "stdout",
       "text": [
        " 98\n",
        "best percentile is"
       ]
      },
      {
       "output_type": "stream",
       "stream": "stdout",
       "text": [
        " 83\n",
        "best percentile is"
       ]
      },
      {
       "output_type": "stream",
       "stream": "stdout",
       "text": [
        " 99\n",
        "best percentile is"
       ]
      },
      {
       "output_type": "stream",
       "stream": "stdout",
       "text": [
        " 70\n",
        "working on 8 clusters"
       ]
      },
      {
       "output_type": "stream",
       "stream": "stdout",
       "text": [
        "\n",
        "best percentile is"
       ]
      },
      {
       "output_type": "stream",
       "stream": "stdout",
       "text": [
        " 99\n",
        "best percentile is"
       ]
      },
      {
       "output_type": "stream",
       "stream": "stdout",
       "text": [
        " 70\n",
        "best percentile is"
       ]
      },
      {
       "output_type": "stream",
       "stream": "stdout",
       "text": [
        " 99\n",
        "best percentile is"
       ]
      },
      {
       "output_type": "stream",
       "stream": "stdout",
       "text": [
        " 70\n",
        "best percentile is"
       ]
      },
      {
       "output_type": "stream",
       "stream": "stdout",
       "text": [
        " 99\n",
        "best percentile is"
       ]
      },
      {
       "output_type": "stream",
       "stream": "stdout",
       "text": [
        " 99\n",
        "best percentile is"
       ]
      },
      {
       "output_type": "stream",
       "stream": "stdout",
       "text": [
        " 76\n",
        "best percentile is"
       ]
      },
      {
       "output_type": "stream",
       "stream": "stdout",
       "text": [
        " 70\n",
        "working on 9 clusters"
       ]
      },
      {
       "output_type": "stream",
       "stream": "stdout",
       "text": [
        "\n",
        "best percentile is"
       ]
      },
      {
       "output_type": "stream",
       "stream": "stdout",
       "text": [
        " 97\n",
        "best percentile is"
       ]
      },
      {
       "output_type": "stream",
       "stream": "stdout",
       "text": [
        " 99\n",
        "best percentile is"
       ]
      },
      {
       "output_type": "stream",
       "stream": "stdout",
       "text": [
        " 93\n",
        "best percentile is"
       ]
      },
      {
       "output_type": "stream",
       "stream": "stdout",
       "text": [
        " 83\n",
        "best percentile is"
       ]
      },
      {
       "output_type": "stream",
       "stream": "stdout",
       "text": [
        " 70\n",
        "best percentile is"
       ]
      },
      {
       "output_type": "stream",
       "stream": "stdout",
       "text": [
        " 99\n",
        "best percentile is"
       ]
      },
      {
       "output_type": "stream",
       "stream": "stdout",
       "text": [
        " 70\n",
        "best percentile is"
       ]
      },
      {
       "output_type": "stream",
       "stream": "stdout",
       "text": [
        " 99\n",
        "best percentile is"
       ]
      },
      {
       "output_type": "stream",
       "stream": "stdout",
       "text": [
        " 70\n",
        "working on 10 clusters"
       ]
      },
      {
       "output_type": "stream",
       "stream": "stdout",
       "text": [
        "\n",
        "best percentile is"
       ]
      },
      {
       "output_type": "stream",
       "stream": "stdout",
       "text": [
        " 98\n",
        "best percentile is"
       ]
      },
      {
       "output_type": "stream",
       "stream": "stdout",
       "text": [
        " 99\n",
        "best percentile is"
       ]
      },
      {
       "output_type": "stream",
       "stream": "stdout",
       "text": [
        " 99\n",
        "best percentile is"
       ]
      },
      {
       "output_type": "stream",
       "stream": "stdout",
       "text": [
        " 83\n",
        "best percentile is"
       ]
      },
      {
       "output_type": "stream",
       "stream": "stdout",
       "text": [
        " 92\n",
        "best percentile is"
       ]
      },
      {
       "output_type": "stream",
       "stream": "stdout",
       "text": [
        " 70\n",
        "best percentile is"
       ]
      },
      {
       "output_type": "stream",
       "stream": "stdout",
       "text": [
        " 75\n",
        "best percentile is"
       ]
      },
      {
       "output_type": "stream",
       "stream": "stdout",
       "text": [
        " 99\n",
        "best percentile is"
       ]
      },
      {
       "output_type": "stream",
       "stream": "stdout",
       "text": [
        " 99\n",
        "best percentile is"
       ]
      },
      {
       "output_type": "stream",
       "stream": "stdout",
       "text": [
        " 70\n",
        "working on 11 clusters"
       ]
      },
      {
       "output_type": "stream",
       "stream": "stdout",
       "text": [
        "\n",
        "best percentile is"
       ]
      },
      {
       "output_type": "stream",
       "stream": "stdout",
       "text": [
        " 83\n",
        "best percentile is"
       ]
      },
      {
       "output_type": "stream",
       "stream": "stdout",
       "text": [
        " 99\n",
        "best percentile is"
       ]
      },
      {
       "output_type": "stream",
       "stream": "stdout",
       "text": [
        " 99\n",
        "best percentile is"
       ]
      },
      {
       "output_type": "stream",
       "stream": "stdout",
       "text": [
        " 99\n",
        "best percentile is"
       ]
      },
      {
       "output_type": "stream",
       "stream": "stdout",
       "text": [
        " 99\n",
        "best percentile is"
       ]
      },
      {
       "output_type": "stream",
       "stream": "stdout",
       "text": [
        " 84\n",
        "best percentile is"
       ]
      },
      {
       "output_type": "stream",
       "stream": "stdout",
       "text": [
        " 99\n",
        "best percentile is"
       ]
      },
      {
       "output_type": "stream",
       "stream": "stdout",
       "text": [
        " 70\n",
        "best percentile is"
       ]
      },
      {
       "output_type": "stream",
       "stream": "stdout",
       "text": [
        " 70\n",
        "best percentile is"
       ]
      },
      {
       "output_type": "stream",
       "stream": "stdout",
       "text": [
        " 70\n",
        "best percentile is"
       ]
      },
      {
       "output_type": "stream",
       "stream": "stdout",
       "text": [
        " 71\n",
        "working on 12 clusters"
       ]
      },
      {
       "output_type": "stream",
       "stream": "stdout",
       "text": [
        "\n",
        "best percentile is"
       ]
      },
      {
       "output_type": "stream",
       "stream": "stdout",
       "text": [
        " 78\n",
        "best percentile is"
       ]
      },
      {
       "output_type": "stream",
       "stream": "stdout",
       "text": [
        " 99\n",
        "best percentile is"
       ]
      },
      {
       "output_type": "stream",
       "stream": "stdout",
       "text": [
        " 99\n",
        "best percentile is"
       ]
      },
      {
       "output_type": "stream",
       "stream": "stdout",
       "text": [
        " 99\n",
        "best percentile is"
       ]
      },
      {
       "output_type": "stream",
       "stream": "stdout",
       "text": [
        " 99\n",
        "best percentile is"
       ]
      },
      {
       "output_type": "stream",
       "stream": "stdout",
       "text": [
        " 70\n",
        "best percentile is"
       ]
      },
      {
       "output_type": "stream",
       "stream": "stdout",
       "text": [
        " 82\n",
        "best percentile is"
       ]
      },
      {
       "output_type": "stream",
       "stream": "stdout",
       "text": [
        " 99\n",
        "best percentile is"
       ]
      },
      {
       "output_type": "stream",
       "stream": "stdout",
       "text": [
        " 70\n",
        "best percentile is"
       ]
      },
      {
       "output_type": "stream",
       "stream": "stdout",
       "text": [
        " 70\n",
        "best percentile is"
       ]
      },
      {
       "output_type": "stream",
       "stream": "stdout",
       "text": [
        " 71\n",
        "best percentile is"
       ]
      },
      {
       "output_type": "stream",
       "stream": "stdout",
       "text": [
        " 88\n",
        "working on 13 clusters"
       ]
      },
      {
       "output_type": "stream",
       "stream": "stdout",
       "text": [
        "\n",
        "best percentile is"
       ]
      },
      {
       "output_type": "stream",
       "stream": "stdout",
       "text": [
        " 74\n",
        "best percentile is"
       ]
      },
      {
       "output_type": "stream",
       "stream": "stdout",
       "text": [
        " 99\n",
        "best percentile is"
       ]
      },
      {
       "output_type": "stream",
       "stream": "stdout",
       "text": [
        " 99\n",
        "best percentile is"
       ]
      },
      {
       "output_type": "stream",
       "stream": "stdout",
       "text": [
        " 99\n",
        "best percentile is"
       ]
      },
      {
       "output_type": "stream",
       "stream": "stdout",
       "text": [
        " 99\n",
        "best percentile is"
       ]
      },
      {
       "output_type": "stream",
       "stream": "stdout",
       "text": [
        " 99\n",
        "best percentile is"
       ]
      },
      {
       "output_type": "stream",
       "stream": "stdout",
       "text": [
        " 77\n",
        "best percentile is"
       ]
      },
      {
       "output_type": "stream",
       "stream": "stdout",
       "text": [
        " 99\n",
        "best percentile is"
       ]
      },
      {
       "output_type": "stream",
       "stream": "stdout",
       "text": [
        " 97\n",
        "best percentile is"
       ]
      },
      {
       "output_type": "stream",
       "stream": "stdout",
       "text": [
        " 70\n",
        "best percentile is"
       ]
      },
      {
       "output_type": "stream",
       "stream": "stdout",
       "text": [
        " 70\n",
        "best percentile is"
       ]
      },
      {
       "output_type": "stream",
       "stream": "stdout",
       "text": [
        " 71\n",
        "best percentile is"
       ]
      },
      {
       "output_type": "stream",
       "stream": "stdout",
       "text": [
        " 88\n",
        "working on 14 clusters"
       ]
      },
      {
       "output_type": "stream",
       "stream": "stdout",
       "text": [
        "\n",
        "best percentile is"
       ]
      },
      {
       "output_type": "stream",
       "stream": "stdout",
       "text": [
        " 73\n",
        "best percentile is"
       ]
      },
      {
       "output_type": "stream",
       "stream": "stdout",
       "text": [
        " 99\n",
        "best percentile is"
       ]
      },
      {
       "output_type": "stream",
       "stream": "stdout",
       "text": [
        " 99\n",
        "best percentile is"
       ]
      },
      {
       "output_type": "stream",
       "stream": "stdout",
       "text": [
        " 99\n",
        "best percentile is"
       ]
      },
      {
       "output_type": "stream",
       "stream": "stdout",
       "text": [
        " 99\n",
        "best percentile is"
       ]
      },
      {
       "output_type": "stream",
       "stream": "stdout",
       "text": [
        " 99\n",
        "best percentile is"
       ]
      },
      {
       "output_type": "stream",
       "stream": "stdout",
       "text": [
        " 76\n",
        "best percentile is"
       ]
      },
      {
       "output_type": "stream",
       "stream": "stdout",
       "text": [
        " 89\n",
        "best percentile is"
       ]
      },
      {
       "output_type": "stream",
       "stream": "stdout",
       "text": [
        " 70\n",
        "best percentile is"
       ]
      },
      {
       "output_type": "stream",
       "stream": "stdout",
       "text": [
        " 98\n",
        "best percentile is"
       ]
      },
      {
       "output_type": "stream",
       "stream": "stdout",
       "text": [
        " 70\n",
        "best percentile is"
       ]
      },
      {
       "output_type": "stream",
       "stream": "stdout",
       "text": [
        " 70\n",
        "best percentile is"
       ]
      },
      {
       "output_type": "stream",
       "stream": "stdout",
       "text": [
        " 97\n",
        "best percentile is"
       ]
      },
      {
       "output_type": "stream",
       "stream": "stdout",
       "text": [
        " 99\n",
        "working on 15 clusters"
       ]
      },
      {
       "output_type": "stream",
       "stream": "stdout",
       "text": [
        "\n",
        "best percentile is"
       ]
      },
      {
       "output_type": "stream",
       "stream": "stdout",
       "text": [
        " 72\n",
        "best percentile is"
       ]
      },
      {
       "output_type": "stream",
       "stream": "stdout",
       "text": [
        " 95\n",
        "best percentile is"
       ]
      },
      {
       "output_type": "stream",
       "stream": "stdout",
       "text": [
        " 99\n",
        "best percentile is"
       ]
      },
      {
       "output_type": "stream",
       "stream": "stdout",
       "text": [
        " 99\n",
        "best percentile is"
       ]
      },
      {
       "output_type": "stream",
       "stream": "stdout",
       "text": [
        " 99\n",
        "best percentile is"
       ]
      },
      {
       "output_type": "stream",
       "stream": "stdout",
       "text": [
        " 99\n",
        "best percentile is"
       ]
      },
      {
       "output_type": "stream",
       "stream": "stdout",
       "text": [
        " 99\n",
        "best percentile is"
       ]
      },
      {
       "output_type": "stream",
       "stream": "stdout",
       "text": [
        " 76\n",
        "best percentile is"
       ]
      },
      {
       "output_type": "stream",
       "stream": "stdout",
       "text": [
        " 89\n",
        "best percentile is"
       ]
      },
      {
       "output_type": "stream",
       "stream": "stdout",
       "text": [
        " 70\n",
        "best percentile is"
       ]
      },
      {
       "output_type": "stream",
       "stream": "stdout",
       "text": [
        " 98\n",
        "best percentile is"
       ]
      },
      {
       "output_type": "stream",
       "stream": "stdout",
       "text": [
        " 70\n",
        "best percentile is"
       ]
      },
      {
       "output_type": "stream",
       "stream": "stdout",
       "text": [
        " 70\n",
        "best percentile is"
       ]
      },
      {
       "output_type": "stream",
       "stream": "stdout",
       "text": [
        " 99\n",
        "best percentile is"
       ]
      },
      {
       "output_type": "stream",
       "stream": "stdout",
       "text": [
        " 99\n"
       ]
      },
      {
       "metadata": {},
       "output_type": "display_data",
       "png": "[encoded data removed]",
       "text": [
        "<matplotlib.figure.Figure at 0x10eb9bed0>"
       ]
      }
     ],
     "prompt_number": 133
    },
    {
     "cell_type": "code",
     "collapsed": false,
     "input": [
      "plt.plot(num_clusters, total_ssq, color='grey',lw=1.5, zorder=1)\n",
      "plt.scatter(num_clusters, total_ssq, s=40, color='blue', edgecolor='none')\n",
      "plt.title('Elbow test')\n",
      "plt.xlabel('Number of clusters')\n",
      "plt.ylabel('Total sum of squares')\n",
      "plt.show()"
     ],
     "language": "python",
     "metadata": {},
     "outputs": [
      {
       "metadata": {},
       "output_type": "display_data",
       "png": "[encoded data removed]",
       "text": [
        "<matplotlib.figure.Figure at 0x12b3d4b50>"
       ]
      }
     ],
     "prompt_number": 146
    },
    {
     "cell_type": "markdown",
     "metadata": {},
     "source": [
      "##Davies-Bouldin index\n",
      "\n",
      "The Davies \u2013 Boludin index measures the average of similarity between each cluster and its most similar one. As the clusters have to be compact and separated the lower Davies \u2013 Bouldin index means better cluster configuration."
     ]
    },
    {
     "cell_type": "code",
     "collapsed": false,
     "input": [
      "def get_cluster_dispersion(clustering, m):\n",
      "    \"\"\"\n",
      "    \"\"\"\n",
      "    \n",
      "    members = np.where(clustering==m)[0].tolist()\n",
      "    pairs = [(member, m) for member in members] #the sample of all pairs\n",
      "    pair_diss = [diss.iat[p[0], p[1]] for p in pairs]\n",
      "    pair_wt = [clust_wt_df.at[p[0], 'wt']*clust_wt_df.at[p[1], 'wt'] for p in pairs]\n",
      "    wt_new = trim_wt(pair_diss, pair_wt)\n",
      "    return np.average(pair_diss, weights=wt_new) #dispersion within cluster"
     ],
     "language": "python",
     "metadata": {},
     "outputs": [],
     "prompt_number": 140
    },
    {
     "cell_type": "code",
     "collapsed": false,
     "input": [
      "def get_db_index(clust_wt_df, k):\n",
      "    \"\"\"\n",
      "    k: number of clusters\n",
      "    \"\"\"\n",
      "    \n",
      "    print 'working on %s clusters'%k\n",
      "\n",
      "    clustering = clust_wt_df['cluster%s'%k]\n",
      "    medoids = list(set(clustering.tolist()))\n",
      "    dispersons = {m:get_cluster_dispersion(clustering, m) for m in medoids}\n",
      "    \n",
      "    db_sum = 0\n",
      "    for m in medoids:\n",
      "        pairs = [(m, n) for n in medoids if n!=m]\n",
      "        db_sum += max([(dispersons[p[0]]+dispersons[p[1]])/float(diss.iat[p[0], p[1]]) for p in pairs])\n",
      "    db = db_sum/float(k)\n",
      "        \n",
      "    return db"
     ],
     "language": "python",
     "metadata": {},
     "outputs": [],
     "prompt_number": 141
    },
    {
     "cell_type": "code",
     "collapsed": false,
     "input": [
      "num_clusters = range(2, 16)\n",
      "db = [get_db_index(clust_wt_df, k) for k in num_clusters]"
     ],
     "language": "python",
     "metadata": {},
     "outputs": [
      {
       "output_type": "stream",
       "stream": "stdout",
       "text": [
        "working on 2 clusters\n",
        "best percentile is"
       ]
      },
      {
       "output_type": "stream",
       "stream": "stdout",
       "text": [
        " 93\n",
        "best percentile is"
       ]
      },
      {
       "output_type": "stream",
       "stream": "stdout",
       "text": [
        " 70\n",
        "working on 3 clusters\n",
        "best percentile is"
       ]
      },
      {
       "output_type": "stream",
       "stream": "stdout",
       "text": [
        " 72\n",
        "best percentile is"
       ]
      },
      {
       "output_type": "stream",
       "stream": "stdout",
       "text": [
        " 99\n",
        "best percentile is"
       ]
      },
      {
       "output_type": "stream",
       "stream": "stdout",
       "text": [
        " 72\n",
        "working on 4 clusters\n",
        "best percentile is"
       ]
      },
      {
       "output_type": "stream",
       "stream": "stdout",
       "text": [
        " 70\n",
        "best percentile is"
       ]
      },
      {
       "output_type": "stream",
       "stream": "stdout",
       "text": [
        " 99\n",
        "best percentile is"
       ]
      },
      {
       "output_type": "stream",
       "stream": "stdout",
       "text": [
        " 99\n",
        "best percentile is"
       ]
      },
      {
       "output_type": "stream",
       "stream": "stdout",
       "text": [
        " 76\n",
        "working on 5 clusters\n",
        "best percentile is"
       ]
      },
      {
       "output_type": "stream",
       "stream": "stdout",
       "text": [
        " 70\n",
        "best percentile is"
       ]
      },
      {
       "output_type": "stream",
       "stream": "stdout",
       "text": [
        " 99\n",
        "best percentile is"
       ]
      },
      {
       "output_type": "stream",
       "stream": "stdout",
       "text": [
        " 99\n",
        "best percentile is"
       ]
      },
      {
       "output_type": "stream",
       "stream": "stdout",
       "text": [
        " 99\n",
        "best percentile is"
       ]
      },
      {
       "output_type": "stream",
       "stream": "stdout",
       "text": [
        " 71\n",
        "working on 6 clusters\n",
        "best percentile is"
       ]
      },
      {
       "output_type": "stream",
       "stream": "stdout",
       "text": [
        " 99\n",
        "best percentile is"
       ]
      },
      {
       "output_type": "stream",
       "stream": "stdout",
       "text": [
        " 75\n",
        "best percentile is"
       ]
      },
      {
       "output_type": "stream",
       "stream": "stdout",
       "text": [
        " 99\n",
        "best percentile is 99\n",
        "best percentile is"
       ]
      },
      {
       "output_type": "stream",
       "stream": "stdout",
       "text": [
        " 99\n",
        "best percentile is"
       ]
      },
      {
       "output_type": "stream",
       "stream": "stdout",
       "text": [
        " 75\n",
        "working on 7 clusters\n",
        "best percentile is"
       ]
      },
      {
       "output_type": "stream",
       "stream": "stdout",
       "text": [
        " 99\n",
        "best percentile is"
       ]
      },
      {
       "output_type": "stream",
       "stream": "stdout",
       "text": [
        " 75\n",
        "best percentile is"
       ]
      },
      {
       "output_type": "stream",
       "stream": "stdout",
       "text": [
        " 99\n",
        "best percentile is"
       ]
      },
      {
       "output_type": "stream",
       "stream": "stdout",
       "text": [
        " 71\n",
        "best percentile is 99\n",
        "best percentile is"
       ]
      },
      {
       "output_type": "stream",
       "stream": "stdout",
       "text": [
        " 99\n",
        "best percentile is"
       ]
      },
      {
       "output_type": "stream",
       "stream": "stdout",
       "text": [
        " 75\n",
        "working on 8 clusters\n",
        "best percentile is"
       ]
      },
      {
       "output_type": "stream",
       "stream": "stdout",
       "text": [
        " 99\n",
        "best percentile is"
       ]
      },
      {
       "output_type": "stream",
       "stream": "stdout",
       "text": [
        " 99\n",
        "best percentile is"
       ]
      },
      {
       "output_type": "stream",
       "stream": "stdout",
       "text": [
        " 98\n",
        "best percentile is"
       ]
      },
      {
       "output_type": "stream",
       "stream": "stdout",
       "text": [
        " 99\n",
        "best percentile is"
       ]
      },
      {
       "output_type": "stream",
       "stream": "stdout",
       "text": [
        " 99\n",
        "best percentile is 78\n",
        "best percentile is"
       ]
      },
      {
       "output_type": "stream",
       "stream": "stdout",
       "text": [
        " 99\n",
        "best percentile is"
       ]
      },
      {
       "output_type": "stream",
       "stream": "stdout",
       "text": [
        " 74\n",
        "working on 9 clusters\n",
        "best percentile is"
       ]
      },
      {
       "output_type": "stream",
       "stream": "stdout",
       "text": [
        " 93\n",
        "best percentile is"
       ]
      },
      {
       "output_type": "stream",
       "stream": "stdout",
       "text": [
        " 99\n",
        "best percentile is 81\n",
        "best percentile is"
       ]
      },
      {
       "output_type": "stream",
       "stream": "stdout",
       "text": [
        " 99\n",
        "best percentile is 73\n",
        "best percentile is"
       ]
      },
      {
       "output_type": "stream",
       "stream": "stdout",
       "text": [
        " 72\n",
        "best percentile is"
       ]
      },
      {
       "output_type": "stream",
       "stream": "stdout",
       "text": [
        " 99\n",
        "best percentile is"
       ]
      },
      {
       "output_type": "stream",
       "stream": "stdout",
       "text": [
        " 99\n",
        "best percentile is"
       ]
      },
      {
       "output_type": "stream",
       "stream": "stdout",
       "text": [
        " 75\n",
        "working on 10 clusters\n",
        "best percentile is"
       ]
      },
      {
       "output_type": "stream",
       "stream": "stdout",
       "text": [
        " 93\n",
        "best percentile is"
       ]
      },
      {
       "output_type": "stream",
       "stream": "stdout",
       "text": [
        " 99\n",
        "best percentile is 79\n",
        "best percentile is"
       ]
      },
      {
       "output_type": "stream",
       "stream": "stdout",
       "text": [
        " 99\n",
        "best percentile is 99\n",
        "best percentile is"
       ]
      },
      {
       "output_type": "stream",
       "stream": "stdout",
       "text": [
        " 75\n",
        "best percentile is"
       ]
      },
      {
       "output_type": "stream",
       "stream": "stdout",
       "text": [
        " 70\n",
        "best percentile is 99\n",
        "best percentile is"
       ]
      },
      {
       "output_type": "stream",
       "stream": "stdout",
       "text": [
        " 99\n",
        "best percentile is"
       ]
      },
      {
       "output_type": "stream",
       "stream": "stdout",
       "text": [
        " 75\n",
        "working on 11 clusters\n",
        "best percentile is 99\n",
        "best percentile is"
       ]
      },
      {
       "output_type": "stream",
       "stream": "stdout",
       "text": [
        " 99\n",
        "best percentile is 99\n",
        "best percentile is"
       ]
      },
      {
       "output_type": "stream",
       "stream": "stdout",
       "text": [
        " 99\n",
        "best percentile is 79\n",
        "best percentile is"
       ]
      },
      {
       "output_type": "stream",
       "stream": "stdout",
       "text": [
        " 99\n",
        "best percentile is 98\n",
        "best percentile is"
       ]
      },
      {
       "output_type": "stream",
       "stream": "stdout",
       "text": [
        " 70\n",
        "best percentile is 99\n",
        "best percentile is"
       ]
      },
      {
       "output_type": "stream",
       "stream": "stdout",
       "text": [
        " 97\n",
        "best percentile is 99\n",
        "working on 12 clusters\n",
        "best percentile is"
       ]
      },
      {
       "output_type": "stream",
       "stream": "stdout",
       "text": [
        " 99\n",
        "best percentile is 98\n",
        "best percentile is"
       ]
      },
      {
       "output_type": "stream",
       "stream": "stdout",
       "text": [
        " 99\n",
        "best percentile is 73\n",
        "best percentile is"
       ]
      },
      {
       "output_type": "stream",
       "stream": "stdout",
       "text": [
        " 99\n",
        "best percentile is 79\n",
        "best percentile is"
       ]
      },
      {
       "output_type": "stream",
       "stream": "stdout",
       "text": [
        " 99\n",
        "best percentile is 98\n",
        "best percentile is"
       ]
      },
      {
       "output_type": "stream",
       "stream": "stdout",
       "text": [
        " 70\n",
        "best percentile is 99\n",
        "best percentile is"
       ]
      },
      {
       "output_type": "stream",
       "stream": "stdout",
       "text": [
        " 99\n",
        "best percentile is"
       ]
      },
      {
       "output_type": "stream",
       "stream": "stdout",
       "text": [
        " 95\n",
        "working on 13 clusters\n",
        "best percentile is 70\n",
        "best percentile is"
       ]
      },
      {
       "output_type": "stream",
       "stream": "stdout",
       "text": [
        " 99\n",
        "best percentile is 99\n",
        "best percentile is"
       ]
      },
      {
       "output_type": "stream",
       "stream": "stdout",
       "text": [
        " 72\n",
        "best percentile is"
       ]
      },
      {
       "output_type": "stream",
       "stream": "stdout",
       "text": [
        " 99\n",
        "best percentile is 78\n",
        "best percentile is"
       ]
      },
      {
       "output_type": "stream",
       "stream": "stdout",
       "text": [
        " 99\n",
        "best percentile is 98\n",
        "best percentile is"
       ]
      },
      {
       "output_type": "stream",
       "stream": "stdout",
       "text": [
        " 99\n",
        "best percentile is 70\n",
        "best percentile is"
       ]
      },
      {
       "output_type": "stream",
       "stream": "stdout",
       "text": [
        " 99\n",
        "best percentile is 99\n",
        "best percentile is"
       ]
      },
      {
       "output_type": "stream",
       "stream": "stdout",
       "text": [
        " 95\n",
        "working on 14 clusters\n",
        "best percentile is 70\n",
        "best percentile is"
       ]
      },
      {
       "output_type": "stream",
       "stream": "stdout",
       "text": [
        " 97\n",
        "best percentile is 99\n",
        "best percentile is"
       ]
      },
      {
       "output_type": "stream",
       "stream": "stdout",
       "text": [
        " 99\n",
        "best percentile is 73\n",
        "best percentile is"
       ]
      },
      {
       "output_type": "stream",
       "stream": "stdout",
       "text": [
        " 99\n",
        "best percentile is 70\n",
        "best percentile is"
       ]
      },
      {
       "output_type": "stream",
       "stream": "stdout",
       "text": [
        " 73\n",
        "best percentile is 99\n",
        "best percentile is"
       ]
      },
      {
       "output_type": "stream",
       "stream": "stdout",
       "text": [
        " 99\n",
        "best percentile is 70\n",
        "best percentile is"
       ]
      },
      {
       "output_type": "stream",
       "stream": "stdout",
       "text": [
        " 99\n",
        "best percentile is"
       ]
      },
      {
       "output_type": "stream",
       "stream": "stdout",
       "text": [
        " 99\n",
        "best percentile is 98\n",
        "working on 15 clusters\n",
        "best percentile is"
       ]
      },
      {
       "output_type": "stream",
       "stream": "stdout",
       "text": [
        " 70\n",
        "best percentile is 99\n",
        "best percentile is"
       ]
      },
      {
       "output_type": "stream",
       "stream": "stdout",
       "text": [
        " 97\n",
        "best percentile is 99\n",
        "best percentile is"
       ]
      },
      {
       "output_type": "stream",
       "stream": "stdout",
       "text": [
        " 99\n",
        "best percentile is 71\n",
        "best percentile is"
       ]
      },
      {
       "output_type": "stream",
       "stream": "stdout",
       "text": [
        " 99\n",
        "best percentile is 77\n",
        "best percentile is"
       ]
      },
      {
       "output_type": "stream",
       "stream": "stdout",
       "text": [
        " 74\n",
        "best percentile is 99\n",
        "best percentile is"
       ]
      },
      {
       "output_type": "stream",
       "stream": "stdout",
       "text": [
        " 99\n",
        "best percentile is 70\n",
        "best percentile is"
       ]
      },
      {
       "output_type": "stream",
       "stream": "stdout",
       "text": [
        " 99\n",
        "best percentile is"
       ]
      },
      {
       "output_type": "stream",
       "stream": "stdout",
       "text": [
        " 96\n",
        "best percentile is 98\n"
       ]
      }
     ],
     "prompt_number": 144
    },
    {
     "cell_type": "code",
     "collapsed": false,
     "input": [
      "plt.scatter(num_clusters, db, color='blue', edgecolor='none')\n",
      "plt.title('Davies-Bouldin Index')\n",
      "plt.xlabel('Number of clusters')\n",
      "plt.ylabel('DB Index')\n",
      "plt.show()"
     ],
     "language": "python",
     "metadata": {},
     "outputs": [
      {
       "metadata": {},
       "output_type": "display_data",
       "png": "[encoded data removed]",
       "text": [
        "<matplotlib.figure.Figure at 0x12a34ed50>"
       ]
      }
     ],
     "prompt_number": 147
    },
    {
     "cell_type": "code",
     "collapsed": false,
     "input": [],
     "language": "python",
     "metadata": {},
     "outputs": []
    }
   ],
   "metadata": {}
  }
 ]
}