{
 "cells": [
  {
   "cell_type": "markdown",
   "metadata": {},
   "source": [
    "# OptOut Project R&R: Sample Selection\n",
    "\n",
    "* Select main sample of women who became mothers before (<=) 1994. We previously selected only women between 1980 and 1994, but following reviewer's suggestion, we are now including the younger mothers who gave birth before 1980 as well\n",
    "* select robustness check sample of women who became mothers before (<=) 1998. This is for our analysis of 14-year-long sequences\n",
    "* Dataset: NLSY79 (1979-2012)"
   ]
  },
  {
   "cell_type": "code",
   "execution_count": 1,
   "metadata": {
    "collapsed": false
   },
   "outputs": [
    {
     "name": "stderr",
     "output_type": "stream",
     "text": [
      "/Users/xzhuo/anaconda/lib/python2.7/site-packages/matplotlib/__init__.py:872: UserWarning: axes.color_cycle is deprecated and replaced with axes.prop_cycle; please use the latter.\n",
      "  warnings.warn(self.msg_depr % (key, alt_key))\n"
     ]
    }
   ],
   "source": [
    "#setup\n",
    "%matplotlib inline\n",
    "import numpy as np\n",
    "import matplotlib.pyplot as plt\n",
    "import pandas as pd\n",
    "import time\n",
    "from collections import defaultdict\n",
    "\n",
    "# set some nicer defaults for matplotlib\n",
    "from matplotlib import rcParams\n",
    "\n",
    "#these colors come from colorbrewer2.org. Each is an RGB triplet\n",
    "dark2_colors = [(0.10588235294117647, 0.6196078431372549, 0.4666666666666667),\n",
    "                (0.8509803921568627, 0.37254901960784315, 0.00784313725490196),\n",
    "                (0.4588235294117647, 0.4392156862745098, 0.7019607843137254),\n",
    "                (0.9058823529411765, 0.1607843137254902, 0.5411764705882353),\n",
    "                (0.4, 0.6509803921568628, 0.11764705882352941),\n",
    "                (0.9019607843137255, 0.6705882352941176, 0.00784313725490196),\n",
    "                (0.6509803921568628, 0.4627450980392157, 0.11372549019607843),\n",
    "                (0.4, 0.4, 0.4)]\n",
    "\n",
    "rcParams['figure.figsize'] = (10, 6)\n",
    "rcParams['figure.dpi'] = 150\n",
    "rcParams['axes.color_cycle'] = dark2_colors\n",
    "rcParams['lines.linewidth'] = 2\n",
    "rcParams['axes.grid'] = False\n",
    "rcParams['axes.facecolor'] = 'white'\n",
    "rcParams['font.size'] = 14\n",
    "rcParams['patch.edgecolor'] = 'none'\n",
    "\n",
    "def remove_border(axes=None, top=False, right=False, left=True, bottom=True):\n",
    "    \"\"\"\n",
    "    Minimize chartjunk by stripping out unnecessary plot borders and axis ticks\n",
    "    \n",
    "    The top/right/left/bottom keywords toggle whether the corresponding plot border is drawn\n",
    "    \"\"\"\n",
    "    ax = axes or plt.gca()\n",
    "    ax.spines['top'].set_visible(top)\n",
    "    ax.spines['right'].set_visible(right)\n",
    "    ax.spines['left'].set_visible(left)\n",
    "    ax.spines['bottom'].set_visible(bottom)\n",
    "    \n",
    "    #turn off all ticks\n",
    "    ax.yaxis.set_ticks_position('none')\n",
    "    ax.xaxis.set_ticks_position('none')\n",
    "    \n",
    "    #now re-enable visibles\n",
    "    if top:\n",
    "        ax.xaxis.tick_top()\n",
    "    if bottom:\n",
    "        ax.xaxis.tick_bottom()\n",
    "    if left:\n",
    "        ax.yaxis.tick_left()\n",
    "    if right:\n",
    "        ax.yaxis.tick_right()"
   ]
  },
  {
   "cell_type": "markdown",
   "metadata": {},
   "source": [
    "## Select sample based on dates of child birth"
   ]
  },
  {
   "cell_type": "code",
   "execution_count": 2,
   "metadata": {
    "collapsed": false
   },
   "outputs": [
    {
     "name": "stdout",
     "output_type": "stream",
     "text": [
      "(12686, 26)\n"
     ]
    },
    {
     "data": {
      "text/html": [
       "<div>\n",
       "<table border=\"1\" class=\"dataframe\">\n",
       "  <thead>\n",
       "    <tr style=\"text-align: right;\">\n",
       "      <th></th>\n",
       "      <th>caseid_1979</th>\n",
       "      <th>sample_id_1979</th>\n",
       "      <th>sample_race_1979</th>\n",
       "      <th>sample_sex_1979</th>\n",
       "      <th>c1dob_m_xrnd</th>\n",
       "      <th>c1dob_y_xrnd</th>\n",
       "      <th>c2dob_m_xrnd</th>\n",
       "      <th>c2dob_y_xrnd</th>\n",
       "      <th>c3dob_m_xrnd</th>\n",
       "      <th>c3dob_y_xrnd</th>\n",
       "      <th>...</th>\n",
       "      <th>c7dob_m_xrnd</th>\n",
       "      <th>c7dob_y_xrnd</th>\n",
       "      <th>c8dob_m_xrnd</th>\n",
       "      <th>c8dob_y_xrnd</th>\n",
       "      <th>c9dob_m_xrnd</th>\n",
       "      <th>c9dob_y_xrnd</th>\n",
       "      <th>c10dob_m_xrnd</th>\n",
       "      <th>c10dob_y_xrnd</th>\n",
       "      <th>c11dob_m_xrnd</th>\n",
       "      <th>c11dob_y_xrnd</th>\n",
       "    </tr>\n",
       "  </thead>\n",
       "  <tbody>\n",
       "    <tr>\n",
       "      <th>0</th>\n",
       "      <td>1</td>\n",
       "      <td>5</td>\n",
       "      <td>3</td>\n",
       "      <td>2</td>\n",
       "      <td>-4</td>\n",
       "      <td>-4</td>\n",
       "      <td>-4</td>\n",
       "      <td>-4</td>\n",
       "      <td>-4</td>\n",
       "      <td>-4</td>\n",
       "      <td>...</td>\n",
       "      <td>-4</td>\n",
       "      <td>-4</td>\n",
       "      <td>-4</td>\n",
       "      <td>-4</td>\n",
       "      <td>-4</td>\n",
       "      <td>-4</td>\n",
       "      <td>-4</td>\n",
       "      <td>-4</td>\n",
       "      <td>-4</td>\n",
       "      <td>-4</td>\n",
       "    </tr>\n",
       "    <tr>\n",
       "      <th>1</th>\n",
       "      <td>2</td>\n",
       "      <td>5</td>\n",
       "      <td>3</td>\n",
       "      <td>2</td>\n",
       "      <td>3</td>\n",
       "      <td>1993</td>\n",
       "      <td>11</td>\n",
       "      <td>1994</td>\n",
       "      <td>-4</td>\n",
       "      <td>-4</td>\n",
       "      <td>...</td>\n",
       "      <td>-4</td>\n",
       "      <td>-4</td>\n",
       "      <td>-4</td>\n",
       "      <td>-4</td>\n",
       "      <td>-4</td>\n",
       "      <td>-4</td>\n",
       "      <td>-4</td>\n",
       "      <td>-4</td>\n",
       "      <td>-4</td>\n",
       "      <td>-4</td>\n",
       "    </tr>\n",
       "    <tr>\n",
       "      <th>2</th>\n",
       "      <td>3</td>\n",
       "      <td>5</td>\n",
       "      <td>3</td>\n",
       "      <td>2</td>\n",
       "      <td>6</td>\n",
       "      <td>1981</td>\n",
       "      <td>10</td>\n",
       "      <td>1983</td>\n",
       "      <td>4</td>\n",
       "      <td>1986</td>\n",
       "      <td>...</td>\n",
       "      <td>-4</td>\n",
       "      <td>-4</td>\n",
       "      <td>-4</td>\n",
       "      <td>-4</td>\n",
       "      <td>-4</td>\n",
       "      <td>-4</td>\n",
       "      <td>-4</td>\n",
       "      <td>-4</td>\n",
       "      <td>-4</td>\n",
       "      <td>-4</td>\n",
       "    </tr>\n",
       "    <tr>\n",
       "      <th>3</th>\n",
       "      <td>4</td>\n",
       "      <td>5</td>\n",
       "      <td>3</td>\n",
       "      <td>2</td>\n",
       "      <td>8</td>\n",
       "      <td>1980</td>\n",
       "      <td>3</td>\n",
       "      <td>1997</td>\n",
       "      <td>-4</td>\n",
       "      <td>-4</td>\n",
       "      <td>...</td>\n",
       "      <td>-4</td>\n",
       "      <td>-4</td>\n",
       "      <td>-4</td>\n",
       "      <td>-4</td>\n",
       "      <td>-4</td>\n",
       "      <td>-4</td>\n",
       "      <td>-4</td>\n",
       "      <td>-4</td>\n",
       "      <td>-4</td>\n",
       "      <td>-4</td>\n",
       "    </tr>\n",
       "    <tr>\n",
       "      <th>4</th>\n",
       "      <td>5</td>\n",
       "      <td>1</td>\n",
       "      <td>3</td>\n",
       "      <td>1</td>\n",
       "      <td>5</td>\n",
       "      <td>1989</td>\n",
       "      <td>-4</td>\n",
       "      <td>-4</td>\n",
       "      <td>-4</td>\n",
       "      <td>-4</td>\n",
       "      <td>...</td>\n",
       "      <td>-4</td>\n",
       "      <td>-4</td>\n",
       "      <td>-4</td>\n",
       "      <td>-4</td>\n",
       "      <td>-4</td>\n",
       "      <td>-4</td>\n",
       "      <td>-4</td>\n",
       "      <td>-4</td>\n",
       "      <td>-4</td>\n",
       "      <td>-4</td>\n",
       "    </tr>\n",
       "  </tbody>\n",
       "</table>\n",
       "<p>5 rows × 26 columns</p>\n",
       "</div>"
      ],
      "text/plain": [
       "   caseid_1979  sample_id_1979  sample_race_1979  sample_sex_1979  \\\n",
       "0            1               5                 3                2   \n",
       "1            2               5                 3                2   \n",
       "2            3               5                 3                2   \n",
       "3            4               5                 3                2   \n",
       "4            5               1                 3                1   \n",
       "\n",
       "   c1dob_m_xrnd  c1dob_y_xrnd  c2dob_m_xrnd  c2dob_y_xrnd  c3dob_m_xrnd  \\\n",
       "0            -4            -4            -4            -4            -4   \n",
       "1             3          1993            11          1994            -4   \n",
       "2             6          1981            10          1983             4   \n",
       "3             8          1980             3          1997            -4   \n",
       "4             5          1989            -4            -4            -4   \n",
       "\n",
       "   c3dob_y_xrnd      ...        c7dob_m_xrnd  c7dob_y_xrnd  c8dob_m_xrnd  \\\n",
       "0            -4      ...                  -4            -4            -4   \n",
       "1            -4      ...                  -4            -4            -4   \n",
       "2          1986      ...                  -4            -4            -4   \n",
       "3            -4      ...                  -4            -4            -4   \n",
       "4            -4      ...                  -4            -4            -4   \n",
       "\n",
       "   c8dob_y_xrnd  c9dob_m_xrnd  c9dob_y_xrnd  c10dob_m_xrnd  c10dob_y_xrnd  \\\n",
       "0            -4            -4            -4             -4             -4   \n",
       "1            -4            -4            -4             -4             -4   \n",
       "2            -4            -4            -4             -4             -4   \n",
       "3            -4            -4            -4             -4             -4   \n",
       "4            -4            -4            -4             -4             -4   \n",
       "\n",
       "   c11dob_m_xrnd  c11dob_y_xrnd  \n",
       "0             -4             -4  \n",
       "1             -4             -4  \n",
       "2             -4             -4  \n",
       "3             -4             -4  \n",
       "4             -4             -4  \n",
       "\n",
       "[5 rows x 26 columns]"
      ]
     },
     "execution_count": 2,
     "metadata": {},
     "output_type": "execute_result"
    }
   ],
   "source": [
    "#read birth data\n",
    "dob_df = pd.read_csv('../data/childbirth.csv')\n",
    "print dob_df.shape\n",
    "dob_df.head()"
   ]
  },
  {
   "cell_type": "code",
   "execution_count": 3,
   "metadata": {
    "collapsed": false
   },
   "outputs": [
    {
     "name": "stdout",
     "output_type": "stream",
     "text": [
      "(6283, 26)\n"
     ]
    }
   ],
   "source": [
    "#drop males\n",
    "#1-male; 2-female\n",
    "sample_df = dob_df[dob_df.sample_sex_1979==2]\n",
    "print sample_df.shape"
   ]
  },
  {
   "cell_type": "code",
   "execution_count": 4,
   "metadata": {
    "collapsed": false
   },
   "outputs": [
    {
     "name": "stdout",
     "output_type": "stream",
     "text": [
      "before dropping: [ 5  6  8  7 14 12 13 18 19 20]\n",
      "after dropping: [ 5  6  8  7 14 13]\n",
      "(4926, 26)\n"
     ]
    }
   ],
   "source": [
    "#drop subsamples that weren’t followed over the entire survey period\n",
    "print 'before dropping:', sample_df.sample_id_1979.unique()\n",
    "sample_df = sample_df[(~sample_df.sample_id_1979.isin([9, 12, 15, 16, 17, 18, 19, 20]))]\n",
    "print 'after dropping:', sample_df.sample_id_1979.unique()\n",
    "print sample_df.shape"
   ]
  },
  {
   "cell_type": "markdown",
   "metadata": {},
   "source": [
    "There are 4926 women in NLSY79."
   ]
  },
  {
   "cell_type": "code",
   "execution_count": 5,
   "metadata": {
    "collapsed": false
   },
   "outputs": [
    {
     "data": {
      "image/png": "[encoded data removed]",
      "text/plain": [
       "<matplotlib.figure.Figure at 0x106eb7f90>"
      ]
     },
     "metadata": {},
     "output_type": "display_data"
    }
   ],
   "source": [
    "#distribution of child birth dates\n",
    "plt.hist(sample_df.c1dob_y_xrnd[sample_df.c1dob_y_xrnd!=-4])\n",
    "remove_border()"
   ]
  },
  {
   "cell_type": "markdown",
   "metadata": {},
   "source": [
    "## Respondent's age"
   ]
  },
  {
   "cell_type": "code",
   "execution_count": 6,
   "metadata": {
    "collapsed": false
   },
   "outputs": [
    {
     "data": {
      "text/html": [
       "<div>\n",
       "<table border=\"1\" class=\"dataframe\">\n",
       "  <thead>\n",
       "    <tr style=\"text-align: right;\">\n",
       "      <th></th>\n",
       "      <th>caseid_1979</th>\n",
       "      <th>m_dob_1979</th>\n",
       "      <th>y_dob_1979</th>\n",
       "      <th>m_dob_1981</th>\n",
       "      <th>y_dob_1981</th>\n",
       "    </tr>\n",
       "  </thead>\n",
       "  <tbody>\n",
       "    <tr>\n",
       "      <th>0</th>\n",
       "      <td>1</td>\n",
       "      <td>9</td>\n",
       "      <td>58</td>\n",
       "      <td>9</td>\n",
       "      <td>58</td>\n",
       "    </tr>\n",
       "    <tr>\n",
       "      <th>1</th>\n",
       "      <td>2</td>\n",
       "      <td>1</td>\n",
       "      <td>59</td>\n",
       "      <td>1</td>\n",
       "      <td>59</td>\n",
       "    </tr>\n",
       "    <tr>\n",
       "      <th>2</th>\n",
       "      <td>3</td>\n",
       "      <td>8</td>\n",
       "      <td>61</td>\n",
       "      <td>-5</td>\n",
       "      <td>-5</td>\n",
       "    </tr>\n",
       "    <tr>\n",
       "      <th>3</th>\n",
       "      <td>4</td>\n",
       "      <td>8</td>\n",
       "      <td>62</td>\n",
       "      <td>8</td>\n",
       "      <td>62</td>\n",
       "    </tr>\n",
       "    <tr>\n",
       "      <th>4</th>\n",
       "      <td>5</td>\n",
       "      <td>7</td>\n",
       "      <td>59</td>\n",
       "      <td>7</td>\n",
       "      <td>59</td>\n",
       "    </tr>\n",
       "  </tbody>\n",
       "</table>\n",
       "</div>"
      ],
      "text/plain": [
       "   caseid_1979  m_dob_1979  y_dob_1979  m_dob_1981  y_dob_1981\n",
       "0            1           9          58           9          58\n",
       "1            2           1          59           1          59\n",
       "2            3           8          61          -5          -5\n",
       "3            4           8          62           8          62\n",
       "4            5           7          59           7          59"
      ]
     },
     "execution_count": 6,
     "metadata": {},
     "output_type": "execute_result"
    }
   ],
   "source": [
    "dob_df = pd.read_csv('../data/dob.csv')\n",
    "dob_df.head()"
   ]
  },
  {
   "cell_type": "code",
   "execution_count": 7,
   "metadata": {
    "collapsed": false
   },
   "outputs": [
    {
     "name": "stdout",
     "output_type": "stream",
     "text": [
      "0\n"
     ]
    }
   ],
   "source": [
    "#is there missing dob reported in 1979? NO\n",
    "missing79 = []\n",
    "for i, row in dob_df.iterrows():\n",
    "    if row['m_dob_1979']<=0 or row['y_dob_1979']<=0: \n",
    "        missing79.append(row)\n",
    "\n",
    "print len(missing79)"
   ]
  },
  {
   "cell_type": "code",
   "execution_count": 8,
   "metadata": {
    "collapsed": false
   },
   "outputs": [
    {
     "name": "stdout",
     "output_type": "stream",
     "text": [
      "491 respondents had missing dob in 1981 survey\n",
      "263 respondents had valid, but different (from 1979) dob in 1981 survey\n"
     ]
    }
   ],
   "source": [
    "#verify if dob reported in 1979 is the same as dob reported in 1981\n",
    "diff= []\n",
    "missing81 = []\n",
    "for i, row in dob_df.iterrows():\n",
    "    if row['m_dob_1981']>0 and row['y_dob_1981']>0: #if it's valid dob in 1981\n",
    "        if row['m_dob_1979']!=row['m_dob_1981'] or row['y_dob_1979']!=row['y_dob_1981']:\n",
    "            diff.append(row)\n",
    "    else:\n",
    "        missing81.append(row)\n",
    "\n",
    "print '%s respondents had missing dob in 1981 survey'%len(missing81)\n",
    "print '%s respondents had valid, but different (from 1979) dob in 1981 survey'%len(diff)"
   ]
  },
  {
   "cell_type": "code",
   "execution_count": 9,
   "metadata": {
    "collapsed": false
   },
   "outputs": [
    {
     "name": "stdout",
     "output_type": "stream",
     "text": [
      "1979 birth month | year | 1981 birth month | year\n",
      "[ 1 59 11 59]\n",
      "[11 63  9 63]\n",
      "[12 57 12 59]\n",
      "[ 9 62  9 63]\n",
      "[ 6 64  6 65]\n",
      "[ 6 57  7 57]\n",
      "[ 9 63  5 63]\n",
      "[ 9 58 11 58]\n",
      "[ 4 63  5 63]\n",
      "[ 3 60  4 60]\n",
      "[ 5 58  9 58]\n",
      "[ 3 63  7 62]\n",
      "[ 6 58  5 58]\n",
      "[ 7 64  4 64]\n",
      "[ 5 58  4 58]\n"
     ]
    }
   ],
   "source": [
    "#how are dob different in 1979 and 1981 (just show the first 15 cases)\n",
    "#show the first 15 cases\n",
    "\n",
    "i = 0\n",
    "print '1979 birth month | year | 1981 birth month | year'\n",
    "for row in diff:\n",
    "    print row.values[1:]\n",
    "    i += 1\n",
    "    \n",
    "    if i>=15:\n",
    "        break"
   ]
  },
  {
   "cell_type": "markdown",
   "metadata": {},
   "source": [
    "Some people reported different birth months and some reported different birth years. **DECISION: USE DOB REPORTED IN 1979.**"
   ]
  },
  {
   "cell_type": "code",
   "execution_count": 10,
   "metadata": {
    "collapsed": false
   },
   "outputs": [
    {
     "data": {
      "text/plain": [
       "array([58, 59, 61, 62, 60, 64, 63, 57])"
      ]
     },
     "execution_count": 10,
     "metadata": {},
     "output_type": "execute_result"
    }
   ],
   "source": [
    "#Use dob reported in 1979. What are the unique birth years present in the dataset?\n",
    "dob_df.y_dob_1979.unique()"
   ]
  },
  {
   "cell_type": "code",
   "execution_count": 11,
   "metadata": {
    "collapsed": true
   },
   "outputs": [],
   "source": [
    "# add birth year and birth month\n",
    "sample_df = sample_df.merge(dob_df[['caseid_1979', 'y_dob_1979', 'm_dob_1979']], on='caseid_1979')\n",
    "\n",
    "# rename\n",
    "sample_df = sample_df.rename(index=str, columns={\"y_dob_1979\": \"y_dob\", \"m_dob_1979\":\"m_dob\"})"
   ]
  },
  {
   "cell_type": "code",
   "execution_count": 12,
   "metadata": {
    "collapsed": false
   },
   "outputs": [],
   "source": [
    "# add 1900 to dob year\n",
    "sample_df.y_dob = sample_df.y_dob.map(lambda x: x+1900)"
   ]
  },
  {
   "cell_type": "code",
   "execution_count": 13,
   "metadata": {
    "collapsed": false
   },
   "outputs": [],
   "source": [
    "#create a new column of the year in which R turns age 35\n",
    "sample_df['y_age35'] = sample_df.y_dob.map(lambda x: x+35)"
   ]
  },
  {
   "cell_type": "code",
   "execution_count": 14,
   "metadata": {
    "collapsed": false
   },
   "outputs": [
    {
     "data": {
      "text/html": [
       "<div>\n",
       "<table border=\"1\" class=\"dataframe\">\n",
       "  <thead>\n",
       "    <tr style=\"text-align: right;\">\n",
       "      <th></th>\n",
       "      <th>caseid_1979</th>\n",
       "      <th>sample_id_1979</th>\n",
       "      <th>sample_race_1979</th>\n",
       "      <th>sample_sex_1979</th>\n",
       "      <th>c1dob_m_xrnd</th>\n",
       "      <th>c1dob_y_xrnd</th>\n",
       "      <th>c2dob_m_xrnd</th>\n",
       "      <th>c2dob_y_xrnd</th>\n",
       "      <th>c3dob_m_xrnd</th>\n",
       "      <th>c3dob_y_xrnd</th>\n",
       "      <th>...</th>\n",
       "      <th>c8dob_y_xrnd</th>\n",
       "      <th>c9dob_m_xrnd</th>\n",
       "      <th>c9dob_y_xrnd</th>\n",
       "      <th>c10dob_m_xrnd</th>\n",
       "      <th>c10dob_y_xrnd</th>\n",
       "      <th>c11dob_m_xrnd</th>\n",
       "      <th>c11dob_y_xrnd</th>\n",
       "      <th>y_dob</th>\n",
       "      <th>m_dob</th>\n",
       "      <th>y_age35</th>\n",
       "    </tr>\n",
       "  </thead>\n",
       "  <tbody>\n",
       "    <tr>\n",
       "      <th>0</th>\n",
       "      <td>1</td>\n",
       "      <td>5</td>\n",
       "      <td>3</td>\n",
       "      <td>2</td>\n",
       "      <td>-4</td>\n",
       "      <td>-4</td>\n",
       "      <td>-4</td>\n",
       "      <td>-4</td>\n",
       "      <td>-4</td>\n",
       "      <td>-4</td>\n",
       "      <td>...</td>\n",
       "      <td>-4</td>\n",
       "      <td>-4</td>\n",
       "      <td>-4</td>\n",
       "      <td>-4</td>\n",
       "      <td>-4</td>\n",
       "      <td>-4</td>\n",
       "      <td>-4</td>\n",
       "      <td>1958</td>\n",
       "      <td>9</td>\n",
       "      <td>1993</td>\n",
       "    </tr>\n",
       "    <tr>\n",
       "      <th>1</th>\n",
       "      <td>2</td>\n",
       "      <td>5</td>\n",
       "      <td>3</td>\n",
       "      <td>2</td>\n",
       "      <td>3</td>\n",
       "      <td>1993</td>\n",
       "      <td>11</td>\n",
       "      <td>1994</td>\n",
       "      <td>-4</td>\n",
       "      <td>-4</td>\n",
       "      <td>...</td>\n",
       "      <td>-4</td>\n",
       "      <td>-4</td>\n",
       "      <td>-4</td>\n",
       "      <td>-4</td>\n",
       "      <td>-4</td>\n",
       "      <td>-4</td>\n",
       "      <td>-4</td>\n",
       "      <td>1959</td>\n",
       "      <td>1</td>\n",
       "      <td>1994</td>\n",
       "    </tr>\n",
       "    <tr>\n",
       "      <th>2</th>\n",
       "      <td>3</td>\n",
       "      <td>5</td>\n",
       "      <td>3</td>\n",
       "      <td>2</td>\n",
       "      <td>6</td>\n",
       "      <td>1981</td>\n",
       "      <td>10</td>\n",
       "      <td>1983</td>\n",
       "      <td>4</td>\n",
       "      <td>1986</td>\n",
       "      <td>...</td>\n",
       "      <td>-4</td>\n",
       "      <td>-4</td>\n",
       "      <td>-4</td>\n",
       "      <td>-4</td>\n",
       "      <td>-4</td>\n",
       "      <td>-4</td>\n",
       "      <td>-4</td>\n",
       "      <td>1961</td>\n",
       "      <td>8</td>\n",
       "      <td>1996</td>\n",
       "    </tr>\n",
       "    <tr>\n",
       "      <th>3</th>\n",
       "      <td>4</td>\n",
       "      <td>5</td>\n",
       "      <td>3</td>\n",
       "      <td>2</td>\n",
       "      <td>8</td>\n",
       "      <td>1980</td>\n",
       "      <td>3</td>\n",
       "      <td>1997</td>\n",
       "      <td>-4</td>\n",
       "      <td>-4</td>\n",
       "      <td>...</td>\n",
       "      <td>-4</td>\n",
       "      <td>-4</td>\n",
       "      <td>-4</td>\n",
       "      <td>-4</td>\n",
       "      <td>-4</td>\n",
       "      <td>-4</td>\n",
       "      <td>-4</td>\n",
       "      <td>1962</td>\n",
       "      <td>8</td>\n",
       "      <td>1997</td>\n",
       "    </tr>\n",
       "    <tr>\n",
       "      <th>4</th>\n",
       "      <td>8</td>\n",
       "      <td>6</td>\n",
       "      <td>3</td>\n",
       "      <td>2</td>\n",
       "      <td>3</td>\n",
       "      <td>1976</td>\n",
       "      <td>5</td>\n",
       "      <td>1979</td>\n",
       "      <td>9</td>\n",
       "      <td>1982</td>\n",
       "      <td>...</td>\n",
       "      <td>-4</td>\n",
       "      <td>-4</td>\n",
       "      <td>-4</td>\n",
       "      <td>-4</td>\n",
       "      <td>-4</td>\n",
       "      <td>-4</td>\n",
       "      <td>-4</td>\n",
       "      <td>1958</td>\n",
       "      <td>7</td>\n",
       "      <td>1993</td>\n",
       "    </tr>\n",
       "  </tbody>\n",
       "</table>\n",
       "<p>5 rows × 29 columns</p>\n",
       "</div>"
      ],
      "text/plain": [
       "   caseid_1979  sample_id_1979  sample_race_1979  sample_sex_1979  \\\n",
       "0            1               5                 3                2   \n",
       "1            2               5                 3                2   \n",
       "2            3               5                 3                2   \n",
       "3            4               5                 3                2   \n",
       "4            8               6                 3                2   \n",
       "\n",
       "   c1dob_m_xrnd  c1dob_y_xrnd  c2dob_m_xrnd  c2dob_y_xrnd  c3dob_m_xrnd  \\\n",
       "0            -4            -4            -4            -4            -4   \n",
       "1             3          1993            11          1994            -4   \n",
       "2             6          1981            10          1983             4   \n",
       "3             8          1980             3          1997            -4   \n",
       "4             3          1976             5          1979             9   \n",
       "\n",
       "   c3dob_y_xrnd   ...     c8dob_y_xrnd  c9dob_m_xrnd  c9dob_y_xrnd  \\\n",
       "0            -4   ...               -4            -4            -4   \n",
       "1            -4   ...               -4            -4            -4   \n",
       "2          1986   ...               -4            -4            -4   \n",
       "3            -4   ...               -4            -4            -4   \n",
       "4          1982   ...               -4            -4            -4   \n",
       "\n",
       "   c10dob_m_xrnd  c10dob_y_xrnd  c11dob_m_xrnd  c11dob_y_xrnd  y_dob  m_dob  \\\n",
       "0             -4             -4             -4             -4   1958      9   \n",
       "1             -4             -4             -4             -4   1959      1   \n",
       "2             -4             -4             -4             -4   1961      8   \n",
       "3             -4             -4             -4             -4   1962      8   \n",
       "4             -4             -4             -4             -4   1958      7   \n",
       "\n",
       "   y_age35  \n",
       "0     1993  \n",
       "1     1994  \n",
       "2     1996  \n",
       "3     1997  \n",
       "4     1993  \n",
       "\n",
       "[5 rows x 29 columns]"
      ]
     },
     "execution_count": 14,
     "metadata": {},
     "output_type": "execute_result"
    }
   ],
   "source": [
    "sample_df.head()"
   ]
  },
  {
   "cell_type": "markdown",
   "metadata": {},
   "source": [
    "## Determine last valid year and deceased year from reasons for non-interview variables "
   ]
  },
  {
   "cell_type": "code",
   "execution_count": 15,
   "metadata": {
    "collapsed": false
   },
   "outputs": [
    {
     "data": {
      "text/html": [
       "<div>\n",
       "<table border=\"1\" class=\"dataframe\">\n",
       "  <thead>\n",
       "    <tr style=\"text-align: right;\">\n",
       "      <th></th>\n",
       "      <th>caseid_1979</th>\n",
       "      <th>rni_1980</th>\n",
       "      <th>rni_1981</th>\n",
       "      <th>rni_1982</th>\n",
       "      <th>rni_1983</th>\n",
       "      <th>rni_1984</th>\n",
       "      <th>rni_1985</th>\n",
       "      <th>rni_1986</th>\n",
       "      <th>rni_1987</th>\n",
       "      <th>rni_1988</th>\n",
       "      <th>...</th>\n",
       "      <th>rni_1994</th>\n",
       "      <th>rni_1996</th>\n",
       "      <th>rni_1998</th>\n",
       "      <th>rni_2000</th>\n",
       "      <th>rni_2002</th>\n",
       "      <th>rni_2004</th>\n",
       "      <th>rni_2006</th>\n",
       "      <th>rni_2008</th>\n",
       "      <th>rni_2010</th>\n",
       "      <th>rni_2012</th>\n",
       "    </tr>\n",
       "  </thead>\n",
       "  <tbody>\n",
       "    <tr>\n",
       "      <th>0</th>\n",
       "      <td>1</td>\n",
       "      <td>61</td>\n",
       "      <td>-4</td>\n",
       "      <td>61</td>\n",
       "      <td>61</td>\n",
       "      <td>61</td>\n",
       "      <td>61</td>\n",
       "      <td>61</td>\n",
       "      <td>61</td>\n",
       "      <td>61</td>\n",
       "      <td>...</td>\n",
       "      <td>61</td>\n",
       "      <td>61</td>\n",
       "      <td>61</td>\n",
       "      <td>61</td>\n",
       "      <td>61</td>\n",
       "      <td>61</td>\n",
       "      <td>61</td>\n",
       "      <td>61</td>\n",
       "      <td>61</td>\n",
       "      <td>61</td>\n",
       "    </tr>\n",
       "    <tr>\n",
       "      <th>1</th>\n",
       "      <td>2</td>\n",
       "      <td>-4</td>\n",
       "      <td>-4</td>\n",
       "      <td>-4</td>\n",
       "      <td>-4</td>\n",
       "      <td>-4</td>\n",
       "      <td>-4</td>\n",
       "      <td>-4</td>\n",
       "      <td>-4</td>\n",
       "      <td>-4</td>\n",
       "      <td>...</td>\n",
       "      <td>-4</td>\n",
       "      <td>-4</td>\n",
       "      <td>-4</td>\n",
       "      <td>-4</td>\n",
       "      <td>-4</td>\n",
       "      <td>-4</td>\n",
       "      <td>-4</td>\n",
       "      <td>-4</td>\n",
       "      <td>-4</td>\n",
       "      <td>-4</td>\n",
       "    </tr>\n",
       "    <tr>\n",
       "      <th>2</th>\n",
       "      <td>3</td>\n",
       "      <td>-4</td>\n",
       "      <td>61</td>\n",
       "      <td>-4</td>\n",
       "      <td>-4</td>\n",
       "      <td>-4</td>\n",
       "      <td>-4</td>\n",
       "      <td>-4</td>\n",
       "      <td>-4</td>\n",
       "      <td>-4</td>\n",
       "      <td>...</td>\n",
       "      <td>-4</td>\n",
       "      <td>-4</td>\n",
       "      <td>-4</td>\n",
       "      <td>-4</td>\n",
       "      <td>-4</td>\n",
       "      <td>64</td>\n",
       "      <td>-4</td>\n",
       "      <td>-4</td>\n",
       "      <td>61</td>\n",
       "      <td>-4</td>\n",
       "    </tr>\n",
       "    <tr>\n",
       "      <th>3</th>\n",
       "      <td>4</td>\n",
       "      <td>66</td>\n",
       "      <td>-4</td>\n",
       "      <td>-4</td>\n",
       "      <td>-4</td>\n",
       "      <td>-4</td>\n",
       "      <td>-4</td>\n",
       "      <td>-4</td>\n",
       "      <td>-4</td>\n",
       "      <td>-4</td>\n",
       "      <td>...</td>\n",
       "      <td>66</td>\n",
       "      <td>-4</td>\n",
       "      <td>-4</td>\n",
       "      <td>61</td>\n",
       "      <td>61</td>\n",
       "      <td>64</td>\n",
       "      <td>61</td>\n",
       "      <td>66</td>\n",
       "      <td>61</td>\n",
       "      <td>61</td>\n",
       "    </tr>\n",
       "    <tr>\n",
       "      <th>4</th>\n",
       "      <td>5</td>\n",
       "      <td>-4</td>\n",
       "      <td>-4</td>\n",
       "      <td>-4</td>\n",
       "      <td>-4</td>\n",
       "      <td>-4</td>\n",
       "      <td>61</td>\n",
       "      <td>-4</td>\n",
       "      <td>67</td>\n",
       "      <td>-4</td>\n",
       "      <td>...</td>\n",
       "      <td>61</td>\n",
       "      <td>61</td>\n",
       "      <td>61</td>\n",
       "      <td>61</td>\n",
       "      <td>72</td>\n",
       "      <td>61</td>\n",
       "      <td>61</td>\n",
       "      <td>61</td>\n",
       "      <td>61</td>\n",
       "      <td>61</td>\n",
       "    </tr>\n",
       "  </tbody>\n",
       "</table>\n",
       "<p>5 rows × 25 columns</p>\n",
       "</div>"
      ],
      "text/plain": [
       "   caseid_1979  rni_1980  rni_1981  rni_1982  rni_1983  rni_1984  rni_1985  \\\n",
       "0            1        61        -4        61        61        61        61   \n",
       "1            2        -4        -4        -4        -4        -4        -4   \n",
       "2            3        -4        61        -4        -4        -4        -4   \n",
       "3            4        66        -4        -4        -4        -4        -4   \n",
       "4            5        -4        -4        -4        -4        -4        61   \n",
       "\n",
       "   rni_1986  rni_1987  rni_1988    ...     rni_1994  rni_1996  rni_1998  \\\n",
       "0        61        61        61    ...           61        61        61   \n",
       "1        -4        -4        -4    ...           -4        -4        -4   \n",
       "2        -4        -4        -4    ...           -4        -4        -4   \n",
       "3        -4        -4        -4    ...           66        -4        -4   \n",
       "4        -4        67        -4    ...           61        61        61   \n",
       "\n",
       "   rni_2000  rni_2002  rni_2004  rni_2006  rni_2008  rni_2010  rni_2012  \n",
       "0        61        61        61        61        61        61        61  \n",
       "1        -4        -4        -4        -4        -4        -4        -4  \n",
       "2        -4        -4        64        -4        -4        61        -4  \n",
       "3        61        61        64        61        66        61        61  \n",
       "4        61        72        61        61        61        61        61  \n",
       "\n",
       "[5 rows x 25 columns]"
      ]
     },
     "execution_count": 15,
     "metadata": {},
     "output_type": "execute_result"
    }
   ],
   "source": [
    "#read reson-for-non-interview data\n",
    "rni_df = pd.read_csv('../data/reasonnonint.csv')\n",
    "rni_df.head()"
   ]
  },
  {
   "cell_type": "code",
   "execution_count": 16,
   "metadata": {
    "collapsed": false
   },
   "outputs": [],
   "source": [
    "#save respondent Ids in a list \n",
    "sample = sample_df.caseid_1979.values.tolist()"
   ]
  },
  {
   "cell_type": "code",
   "execution_count": 17,
   "metadata": {
    "collapsed": false
   },
   "outputs": [
    {
     "name": "stdout",
     "output_type": "stream",
     "text": [
      "254 respondents deceased during the survey\n"
     ]
    }
   ],
   "source": [
    "#how many women decreased during the course of surveys?\n",
    "\n",
    "deceased = {} # dictionary to store {id: year deceased}\n",
    "\n",
    "for i in sample: #iterate through the sample\n",
    "    \n",
    "    #find the row in reason-noninterview dataframe that corresponds to the given id\n",
    "    row = rni_df[rni_df.caseid_1979==i].iloc[0]\n",
    "    \n",
    "    #get a list of rni values, not counting the first variable caseid\n",
    "    vals = row.values.tolist()[1:]\n",
    "  \n",
    "    if 65 in vals:\n",
    "        #derive death year from column name\n",
    "        col_name = row.index[vals.index(65)+1] #because vals is defined starting from index 1\n",
    "        deceased[i] = int(col_name[-4:]) \n",
    "        \n",
    "print '%s respondents deceased during the survey'%len(deceased.keys())"
   ]
  },
  {
   "cell_type": "code",
   "execution_count": 18,
   "metadata": {
    "collapsed": false
   },
   "outputs": [
    {
     "data": {
      "text/plain": [
       "[(1025, 2012),\n",
       " (3074, 2004),\n",
       " (4099, 2010),\n",
       " (7681, 2006),\n",
       " (1544, 2000),\n",
       " (6828, 2008),\n",
       " (5634, 2006),\n",
       " (1550, 1985),\n",
       " (2575, 1989),\n",
       " (1040, 2004)]"
      ]
     },
     "execution_count": 18,
     "metadata": {},
     "output_type": "execute_result"
    }
   ],
   "source": [
    "#for exmaple, in format (id, year decased)\n",
    "deceased.items()[:10]"
   ]
  },
  {
   "cell_type": "code",
   "execution_count": 19,
   "metadata": {
    "collapsed": false
   },
   "outputs": [
    {
     "name": "stdout",
     "output_type": "stream",
     "text": [
      "1980 2012\n"
     ]
    },
    {
     "data": {
      "image/png": "[encoded data removed]",
      "text/plain": [
       "<matplotlib.figure.Figure at 0x10aaff110>"
      ]
     },
     "metadata": {},
     "output_type": "display_data"
    }
   ],
   "source": [
    "#distribution of the years in which respondents deceased\n",
    "print min(deceased.values()), max(deceased.values())\n",
    "plt.hist(deceased.values(), bins=35)\n",
    "plt.xlim(min(deceased.values()), max(deceased.values()))\n",
    "remove_border()"
   ]
  },
  {
   "cell_type": "code",
   "execution_count": 20,
   "metadata": {
    "collapsed": false
   },
   "outputs": [
    {
     "data": {
      "text/html": [
       "<div>\n",
       "<table border=\"1\" class=\"dataframe\">\n",
       "  <thead>\n",
       "    <tr style=\"text-align: right;\">\n",
       "      <th></th>\n",
       "      <th>caseid_1979</th>\n",
       "      <th>sample_id_1979</th>\n",
       "      <th>sample_race_1979</th>\n",
       "      <th>sample_sex_1979</th>\n",
       "      <th>c1dob_m_xrnd</th>\n",
       "      <th>c1dob_y_xrnd</th>\n",
       "      <th>c2dob_m_xrnd</th>\n",
       "      <th>c2dob_y_xrnd</th>\n",
       "      <th>c3dob_m_xrnd</th>\n",
       "      <th>c3dob_y_xrnd</th>\n",
       "      <th>...</th>\n",
       "      <th>c9dob_m_xrnd</th>\n",
       "      <th>c9dob_y_xrnd</th>\n",
       "      <th>c10dob_m_xrnd</th>\n",
       "      <th>c10dob_y_xrnd</th>\n",
       "      <th>c11dob_m_xrnd</th>\n",
       "      <th>c11dob_y_xrnd</th>\n",
       "      <th>y_dob</th>\n",
       "      <th>m_dob</th>\n",
       "      <th>y_age35</th>\n",
       "      <th>y_deceased</th>\n",
       "    </tr>\n",
       "  </thead>\n",
       "  <tbody>\n",
       "    <tr>\n",
       "      <th>0</th>\n",
       "      <td>1</td>\n",
       "      <td>5</td>\n",
       "      <td>3</td>\n",
       "      <td>2</td>\n",
       "      <td>-4</td>\n",
       "      <td>-4</td>\n",
       "      <td>-4</td>\n",
       "      <td>-4</td>\n",
       "      <td>-4</td>\n",
       "      <td>-4</td>\n",
       "      <td>...</td>\n",
       "      <td>-4</td>\n",
       "      <td>-4</td>\n",
       "      <td>-4</td>\n",
       "      <td>-4</td>\n",
       "      <td>-4</td>\n",
       "      <td>-4</td>\n",
       "      <td>1958</td>\n",
       "      <td>9</td>\n",
       "      <td>1993</td>\n",
       "      <td>NaN</td>\n",
       "    </tr>\n",
       "    <tr>\n",
       "      <th>1</th>\n",
       "      <td>2</td>\n",
       "      <td>5</td>\n",
       "      <td>3</td>\n",
       "      <td>2</td>\n",
       "      <td>3</td>\n",
       "      <td>1993</td>\n",
       "      <td>11</td>\n",
       "      <td>1994</td>\n",
       "      <td>-4</td>\n",
       "      <td>-4</td>\n",
       "      <td>...</td>\n",
       "      <td>-4</td>\n",
       "      <td>-4</td>\n",
       "      <td>-4</td>\n",
       "      <td>-4</td>\n",
       "      <td>-4</td>\n",
       "      <td>-4</td>\n",
       "      <td>1959</td>\n",
       "      <td>1</td>\n",
       "      <td>1994</td>\n",
       "      <td>NaN</td>\n",
       "    </tr>\n",
       "    <tr>\n",
       "      <th>2</th>\n",
       "      <td>3</td>\n",
       "      <td>5</td>\n",
       "      <td>3</td>\n",
       "      <td>2</td>\n",
       "      <td>6</td>\n",
       "      <td>1981</td>\n",
       "      <td>10</td>\n",
       "      <td>1983</td>\n",
       "      <td>4</td>\n",
       "      <td>1986</td>\n",
       "      <td>...</td>\n",
       "      <td>-4</td>\n",
       "      <td>-4</td>\n",
       "      <td>-4</td>\n",
       "      <td>-4</td>\n",
       "      <td>-4</td>\n",
       "      <td>-4</td>\n",
       "      <td>1961</td>\n",
       "      <td>8</td>\n",
       "      <td>1996</td>\n",
       "      <td>NaN</td>\n",
       "    </tr>\n",
       "    <tr>\n",
       "      <th>3</th>\n",
       "      <td>4</td>\n",
       "      <td>5</td>\n",
       "      <td>3</td>\n",
       "      <td>2</td>\n",
       "      <td>8</td>\n",
       "      <td>1980</td>\n",
       "      <td>3</td>\n",
       "      <td>1997</td>\n",
       "      <td>-4</td>\n",
       "      <td>-4</td>\n",
       "      <td>...</td>\n",
       "      <td>-4</td>\n",
       "      <td>-4</td>\n",
       "      <td>-4</td>\n",
       "      <td>-4</td>\n",
       "      <td>-4</td>\n",
       "      <td>-4</td>\n",
       "      <td>1962</td>\n",
       "      <td>8</td>\n",
       "      <td>1997</td>\n",
       "      <td>NaN</td>\n",
       "    </tr>\n",
       "    <tr>\n",
       "      <th>4</th>\n",
       "      <td>8</td>\n",
       "      <td>6</td>\n",
       "      <td>3</td>\n",
       "      <td>2</td>\n",
       "      <td>3</td>\n",
       "      <td>1976</td>\n",
       "      <td>5</td>\n",
       "      <td>1979</td>\n",
       "      <td>9</td>\n",
       "      <td>1982</td>\n",
       "      <td>...</td>\n",
       "      <td>-4</td>\n",
       "      <td>-4</td>\n",
       "      <td>-4</td>\n",
       "      <td>-4</td>\n",
       "      <td>-4</td>\n",
       "      <td>-4</td>\n",
       "      <td>1958</td>\n",
       "      <td>7</td>\n",
       "      <td>1993</td>\n",
       "      <td>NaN</td>\n",
       "    </tr>\n",
       "  </tbody>\n",
       "</table>\n",
       "<p>5 rows × 30 columns</p>\n",
       "</div>"
      ],
      "text/plain": [
       "   caseid_1979  sample_id_1979  sample_race_1979  sample_sex_1979  \\\n",
       "0            1               5                 3                2   \n",
       "1            2               5                 3                2   \n",
       "2            3               5                 3                2   \n",
       "3            4               5                 3                2   \n",
       "4            8               6                 3                2   \n",
       "\n",
       "   c1dob_m_xrnd  c1dob_y_xrnd  c2dob_m_xrnd  c2dob_y_xrnd  c3dob_m_xrnd  \\\n",
       "0            -4            -4            -4            -4            -4   \n",
       "1             3          1993            11          1994            -4   \n",
       "2             6          1981            10          1983             4   \n",
       "3             8          1980             3          1997            -4   \n",
       "4             3          1976             5          1979             9   \n",
       "\n",
       "   c3dob_y_xrnd     ...      c9dob_m_xrnd  c9dob_y_xrnd  c10dob_m_xrnd  \\\n",
       "0            -4     ...                -4            -4             -4   \n",
       "1            -4     ...                -4            -4             -4   \n",
       "2          1986     ...                -4            -4             -4   \n",
       "3            -4     ...                -4            -4             -4   \n",
       "4          1982     ...                -4            -4             -4   \n",
       "\n",
       "   c10dob_y_xrnd  c11dob_m_xrnd  c11dob_y_xrnd  y_dob  m_dob  y_age35  \\\n",
       "0             -4             -4             -4   1958      9     1993   \n",
       "1             -4             -4             -4   1959      1     1994   \n",
       "2             -4             -4             -4   1961      8     1996   \n",
       "3             -4             -4             -4   1962      8     1997   \n",
       "4             -4             -4             -4   1958      7     1993   \n",
       "\n",
       "   y_deceased  \n",
       "0         NaN  \n",
       "1         NaN  \n",
       "2         NaN  \n",
       "3         NaN  \n",
       "4         NaN  \n",
       "\n",
       "[5 rows x 30 columns]"
      ]
     },
     "execution_count": 20,
     "metadata": {},
     "output_type": "execute_result"
    }
   ],
   "source": [
    "#add column year of death\n",
    "sample_df['y_deceased'] = [deceased.get(i) for i in sample]\n",
    "sample_df.head()"
   ]
  },
  {
   "cell_type": "code",
   "execution_count": 21,
   "metadata": {
    "collapsed": false
   },
   "outputs": [
    {
     "name": "stdout",
     "output_type": "stream",
     "text": [
      "set([1979, 1980, 1981, 1982, 1983, 1984, 1985, 1986, 1987, 1988, 1989, 1990, 1991, 1992, 1993, 1994, 1996, 1998, 2000, 2002, 2004, 2006, 2008, 2010, 2012])\n"
     ]
    }
   ],
   "source": [
    "#determine last valid year\n",
    "#last valid year is the year after which all rni stopped being -4\n",
    "#-4 means the respondent was valid skip, i.e. interviewed\n",
    "last_yr = []\n",
    "\n",
    "for i in sample: #iterate through the sample\n",
    "\n",
    "    #find the row in reason-noninterview dataframe that corresponds to the given id\n",
    "    row = rni_df[rni_df.caseid_1979==i].iloc[0]\n",
    "    \n",
    "    # remove the first variable caseid_1979\n",
    "    vals = row.values.tolist()[1:] \n",
    "    \n",
    "    # find the last index -4 appeared\n",
    "    if not -4 in vals: # respondent stopped participating since 1980, so last valid year is 1979\n",
    "        last_yr.append(1979)\n",
    "        \n",
    "    else:\n",
    "        last_ind = len(vals) - 1 - vals[::-1].index(-4) # last index at which -4 appeared\n",
    "        \n",
    "        #get the survey year from the variable name\n",
    "        col_name = row.index[last_ind+1]\n",
    "        last_yr.append(int(col_name[-4:]))\n",
    "    \n",
    "    \n",
    "print set(last_yr)"
   ]
  },
  {
   "cell_type": "code",
   "execution_count": 22,
   "metadata": {
    "collapsed": false
   },
   "outputs": [
    {
     "data": {
      "text/html": [
       "<div>\n",
       "<table border=\"1\" class=\"dataframe\">\n",
       "  <thead>\n",
       "    <tr style=\"text-align: right;\">\n",
       "      <th></th>\n",
       "      <th>caseid_1979</th>\n",
       "      <th>sample_id_1979</th>\n",
       "      <th>sample_race_1979</th>\n",
       "      <th>sample_sex_1979</th>\n",
       "      <th>c1dob_m_xrnd</th>\n",
       "      <th>c1dob_y_xrnd</th>\n",
       "      <th>c2dob_m_xrnd</th>\n",
       "      <th>c2dob_y_xrnd</th>\n",
       "      <th>c3dob_m_xrnd</th>\n",
       "      <th>c3dob_y_xrnd</th>\n",
       "      <th>...</th>\n",
       "      <th>c9dob_y_xrnd</th>\n",
       "      <th>c10dob_m_xrnd</th>\n",
       "      <th>c10dob_y_xrnd</th>\n",
       "      <th>c11dob_m_xrnd</th>\n",
       "      <th>c11dob_y_xrnd</th>\n",
       "      <th>y_dob</th>\n",
       "      <th>m_dob</th>\n",
       "      <th>y_age35</th>\n",
       "      <th>y_deceased</th>\n",
       "      <th>last_yr</th>\n",
       "    </tr>\n",
       "  </thead>\n",
       "  <tbody>\n",
       "    <tr>\n",
       "      <th>0</th>\n",
       "      <td>1</td>\n",
       "      <td>5</td>\n",
       "      <td>3</td>\n",
       "      <td>2</td>\n",
       "      <td>-4</td>\n",
       "      <td>-4</td>\n",
       "      <td>-4</td>\n",
       "      <td>-4</td>\n",
       "      <td>-4</td>\n",
       "      <td>-4</td>\n",
       "      <td>...</td>\n",
       "      <td>-4</td>\n",
       "      <td>-4</td>\n",
       "      <td>-4</td>\n",
       "      <td>-4</td>\n",
       "      <td>-4</td>\n",
       "      <td>1958</td>\n",
       "      <td>9</td>\n",
       "      <td>1993</td>\n",
       "      <td>NaN</td>\n",
       "      <td>1981</td>\n",
       "    </tr>\n",
       "    <tr>\n",
       "      <th>1</th>\n",
       "      <td>2</td>\n",
       "      <td>5</td>\n",
       "      <td>3</td>\n",
       "      <td>2</td>\n",
       "      <td>3</td>\n",
       "      <td>1993</td>\n",
       "      <td>11</td>\n",
       "      <td>1994</td>\n",
       "      <td>-4</td>\n",
       "      <td>-4</td>\n",
       "      <td>...</td>\n",
       "      <td>-4</td>\n",
       "      <td>-4</td>\n",
       "      <td>-4</td>\n",
       "      <td>-4</td>\n",
       "      <td>-4</td>\n",
       "      <td>1959</td>\n",
       "      <td>1</td>\n",
       "      <td>1994</td>\n",
       "      <td>NaN</td>\n",
       "      <td>2012</td>\n",
       "    </tr>\n",
       "    <tr>\n",
       "      <th>2</th>\n",
       "      <td>3</td>\n",
       "      <td>5</td>\n",
       "      <td>3</td>\n",
       "      <td>2</td>\n",
       "      <td>6</td>\n",
       "      <td>1981</td>\n",
       "      <td>10</td>\n",
       "      <td>1983</td>\n",
       "      <td>4</td>\n",
       "      <td>1986</td>\n",
       "      <td>...</td>\n",
       "      <td>-4</td>\n",
       "      <td>-4</td>\n",
       "      <td>-4</td>\n",
       "      <td>-4</td>\n",
       "      <td>-4</td>\n",
       "      <td>1961</td>\n",
       "      <td>8</td>\n",
       "      <td>1996</td>\n",
       "      <td>NaN</td>\n",
       "      <td>2012</td>\n",
       "    </tr>\n",
       "    <tr>\n",
       "      <th>3</th>\n",
       "      <td>4</td>\n",
       "      <td>5</td>\n",
       "      <td>3</td>\n",
       "      <td>2</td>\n",
       "      <td>8</td>\n",
       "      <td>1980</td>\n",
       "      <td>3</td>\n",
       "      <td>1997</td>\n",
       "      <td>-4</td>\n",
       "      <td>-4</td>\n",
       "      <td>...</td>\n",
       "      <td>-4</td>\n",
       "      <td>-4</td>\n",
       "      <td>-4</td>\n",
       "      <td>-4</td>\n",
       "      <td>-4</td>\n",
       "      <td>1962</td>\n",
       "      <td>8</td>\n",
       "      <td>1997</td>\n",
       "      <td>NaN</td>\n",
       "      <td>1998</td>\n",
       "    </tr>\n",
       "    <tr>\n",
       "      <th>4</th>\n",
       "      <td>8</td>\n",
       "      <td>6</td>\n",
       "      <td>3</td>\n",
       "      <td>2</td>\n",
       "      <td>3</td>\n",
       "      <td>1976</td>\n",
       "      <td>5</td>\n",
       "      <td>1979</td>\n",
       "      <td>9</td>\n",
       "      <td>1982</td>\n",
       "      <td>...</td>\n",
       "      <td>-4</td>\n",
       "      <td>-4</td>\n",
       "      <td>-4</td>\n",
       "      <td>-4</td>\n",
       "      <td>-4</td>\n",
       "      <td>1958</td>\n",
       "      <td>7</td>\n",
       "      <td>1993</td>\n",
       "      <td>NaN</td>\n",
       "      <td>2012</td>\n",
       "    </tr>\n",
       "  </tbody>\n",
       "</table>\n",
       "<p>5 rows × 31 columns</p>\n",
       "</div>"
      ],
      "text/plain": [
       "   caseid_1979  sample_id_1979  sample_race_1979  sample_sex_1979  \\\n",
       "0            1               5                 3                2   \n",
       "1            2               5                 3                2   \n",
       "2            3               5                 3                2   \n",
       "3            4               5                 3                2   \n",
       "4            8               6                 3                2   \n",
       "\n",
       "   c1dob_m_xrnd  c1dob_y_xrnd  c2dob_m_xrnd  c2dob_y_xrnd  c3dob_m_xrnd  \\\n",
       "0            -4            -4            -4            -4            -4   \n",
       "1             3          1993            11          1994            -4   \n",
       "2             6          1981            10          1983             4   \n",
       "3             8          1980             3          1997            -4   \n",
       "4             3          1976             5          1979             9   \n",
       "\n",
       "   c3dob_y_xrnd   ...     c9dob_y_xrnd  c10dob_m_xrnd  c10dob_y_xrnd  \\\n",
       "0            -4   ...               -4             -4             -4   \n",
       "1            -4   ...               -4             -4             -4   \n",
       "2          1986   ...               -4             -4             -4   \n",
       "3            -4   ...               -4             -4             -4   \n",
       "4          1982   ...               -4             -4             -4   \n",
       "\n",
       "   c11dob_m_xrnd  c11dob_y_xrnd  y_dob  m_dob  y_age35  y_deceased  last_yr  \n",
       "0             -4             -4   1958      9     1993         NaN     1981  \n",
       "1             -4             -4   1959      1     1994         NaN     2012  \n",
       "2             -4             -4   1961      8     1996         NaN     2012  \n",
       "3             -4             -4   1962      8     1997         NaN     1998  \n",
       "4             -4             -4   1958      7     1993         NaN     2012  \n",
       "\n",
       "[5 rows x 31 columns]"
      ]
     },
     "execution_count": 22,
     "metadata": {},
     "output_type": "execute_result"
    }
   ],
   "source": [
    "#add last valid year as a new column to sample_df\n",
    "sample_df['last_yr'] = last_yr\n",
    "sample_df.head()"
   ]
  },
  {
   "cell_type": "code",
   "execution_count": 23,
   "metadata": {
    "collapsed": false
   },
   "outputs": [
    {
     "data": {
      "text/plain": [
       "2012    3767\n",
       "2010     224\n",
       "2008     141\n",
       "1998     100\n",
       "2000      96\n",
       "2004      80\n",
       "2002      72\n",
       "2006      67\n",
       "1996      53\n",
       "1994      52\n",
       "1993      37\n",
       "1989      26\n",
       "1988      23\n",
       "1991      23\n",
       "1979      23\n",
       "1992      19\n",
       "1987      18\n",
       "1990      18\n",
       "1983      18\n",
       "1984      18\n",
       "1985      14\n",
       "1982      12\n",
       "1986      12\n",
       "1981       7\n",
       "1980       6\n",
       "Name: last_yr, dtype: int64"
      ]
     },
     "execution_count": 23,
     "metadata": {},
     "output_type": "execute_result"
    }
   ],
   "source": [
    "#distribution of last valid year\n",
    "sample_df.last_yr.value_counts()"
   ]
  },
  {
   "cell_type": "code",
   "execution_count": 24,
   "metadata": {
    "collapsed": false
   },
   "outputs": [
    {
     "data": {
      "text/plain": [
       "False    4598\n",
       "True      328\n",
       "Name: attr_before35, dtype: int64"
      ]
     },
     "execution_count": 24,
     "metadata": {},
     "output_type": "execute_result"
    }
   ],
   "source": [
    "def attr_before35(row):\n",
    "    \"\"\"\n",
    "    Return True if respondent left study before turning age 35.\n",
    "    Return False otherwise. \n",
    "    \"\"\"\n",
    "    return row['last_yr'] < row['y_age35']\n",
    "\n",
    "sample_df['attr_before35'] = sample_df.apply(attr_before35, axis=1)\n",
    "sample_df.attr_before35.value_counts()"
   ]
  },
  {
   "cell_type": "code",
   "execution_count": 25,
   "metadata": {
    "collapsed": false
   },
   "outputs": [
    {
     "data": {
      "text/plain": [
       "False    4870\n",
       "True       56\n",
       "Name: deceased_before35, dtype: int64"
      ]
     },
     "execution_count": 25,
     "metadata": {},
     "output_type": "execute_result"
    }
   ],
   "source": [
    "def deceased_before35(row):\n",
    "    \"\"\"Return True if respondent deceased before age 35.\"\"\"\n",
    "    \n",
    "    if not np.isnan(row['y_deceased']): #if respondent deceased\n",
    "        return row['y_deceased'] < row['y_age35']\n",
    "    return False\n",
    "\n",
    "sample_df['deceased_before35'] = sample_df.apply(deceased_before35, axis=1)\n",
    "sample_df.deceased_before35.value_counts()"
   ]
  },
  {
   "cell_type": "markdown",
   "metadata": {},
   "source": [
    "## Categories of respondents"
   ]
  },
  {
   "cell_type": "code",
   "execution_count": 26,
   "metadata": {
    "collapsed": false
   },
   "outputs": [
    {
     "name": "stdout",
     "output_type": "stream",
     "text": [
      "4926\n"
     ]
    }
   ],
   "source": [
    "#total number of female respondents\n",
    "print sample_df.shape[0]"
   ]
  },
  {
   "cell_type": "code",
   "execution_count": 27,
   "metadata": {
    "collapsed": false
   },
   "outputs": [
    {
     "name": "stdout",
     "output_type": "stream",
     "text": [
      "defaultdict(<type 'int'>, {'not attr, not deceased': 4598, 'attr, not deceased': 272, 'attr, deceased': 56})\n"
     ]
    }
   ],
   "source": [
    "count = defaultdict(int)\n",
    "\n",
    "for i, row in sample_df.iterrows():\n",
    "    \n",
    "    if row['attr_before35']==True and row['deceased_before35']==True:\n",
    "        count['attr, deceased'] += 1\n",
    "        \n",
    "    elif row['attr_before35']==True and row['deceased_before35']==False:\n",
    "        count['attr, not deceased'] += 1\n",
    "        \n",
    "    elif row['attr_before35']==False and row['deceased_before35']==True: # impossible\n",
    "        count['not attr, deceased'] += 1\n",
    "        \n",
    "    elif row['attr_before35']==False and row['deceased_before35']==False:\n",
    "        count['not attr, not deceased'] += 1\n",
    "        \n",
    "print count"
   ]
  },
  {
   "cell_type": "code",
   "execution_count": 28,
   "metadata": {
    "collapsed": false
   },
   "outputs": [
    {
     "name": "stdout",
     "output_type": "stream",
     "text": [
      "739\n"
     ]
    }
   ],
   "source": [
    "#how many childless women who are observed through age 35?\n",
    "#these women remained childless until the end of their reproductive years\n",
    "\n",
    "print sample_df[(sample_df.c1dob_y_xrnd==-4)&(sample_df.attr_before35==False)].shape[0]\n",
    "#print sample_df[(sample_df.c1dob_y_xrnd==-4)&(sample_df.attr_before35==False)&(sample_df.deceased_before35==False)].shape[0]"
   ]
  },
  {
   "cell_type": "code",
   "execution_count": 29,
   "metadata": {
    "collapsed": false
   },
   "outputs": [
    {
     "name": "stdout",
     "output_type": "stream",
     "text": [
      "28\n"
     ]
    }
   ],
   "source": [
    "#childless women who deceased before age 35\n",
    "#These women could have had children, but were unobserved\n",
    "\n",
    "#We need to find whether the women remained childless until the end of their reproductive years or their death, \n",
    "#whichever came first \n",
    " \n",
    "print sample_df[(sample_df.c1dob_y_xrnd==-4)&(sample_df.deceased_before35==True)].shape[0]"
   ]
  },
  {
   "cell_type": "code",
   "execution_count": 30,
   "metadata": {
    "collapsed": false
   },
   "outputs": [],
   "source": [
    "def get_year_child18(x):\n",
    "    \"\"\"\n",
    "    Given child's year of birth, return the year in which the child turned age 18.\n",
    "    If childless, return -4.\n",
    "    \"\"\"\n",
    "    \n",
    "    if x==-4:\n",
    "        return x\n",
    "    else:\n",
    "        return x+18\n",
    "\n",
    "sample_df['y_child18'] = sample_df.c1dob_y_xrnd.map(get_year_child18)"
   ]
  },
  {
   "cell_type": "code",
   "execution_count": 31,
   "metadata": {
    "collapsed": false
   },
   "outputs": [],
   "source": [
    "def decease_before_child18(row):\n",
    "    \"\"\"\n",
    "    Return True if respondent deceased before her first child turned age 18.\n",
    "    Return False otherwise. \n",
    "    \"\"\"\n",
    "    \n",
    "    if row['y_child18']==-4: #no child\n",
    "        return False\n",
    "    elif not np.isnan(row['y_deceased']):\n",
    "        return row['y_deceased'] < row['y_child18']\n",
    "    return False\n",
    "\n",
    "sample_df['deceased_child18'] = sample_df.apply(decease_before_child18, axis=1)"
   ]
  },
  {
   "cell_type": "code",
   "execution_count": 32,
   "metadata": {
    "collapsed": false
   },
   "outputs": [
    {
     "data": {
      "text/plain": [
       "53"
      ]
     },
     "execution_count": 32,
     "metadata": {},
     "output_type": "execute_result"
    }
   ],
   "source": [
    "#mothers who deceased before child turned 18\n",
    "sample_df[(sample_df.c1dob_m_xrnd>0)&(sample_df.deceased_child18==True)].shape[0]"
   ]
  },
  {
   "cell_type": "code",
   "execution_count": 33,
   "metadata": {
    "collapsed": false
   },
   "outputs": [
    {
     "name": "stdout",
     "output_type": "stream",
     "text": [
      "(4106, 35)\n"
     ]
    }
   ],
   "source": [
    "#the following respondents should be excluded from the denominator when calculating missing cases:\n",
    "# - respondents who remained childless and were observed until the end of their reproduction years\n",
    "# - respondents who were childless and died before age 35\n",
    "# - respondents who had children and died before child turned age 18\n",
    "\n",
    "to_drop = sample_df[(sample_df.c1dob_y_xrnd==-4)&(sample_df.attr_before35==False)]['caseid_1979'].values.tolist() \\\n",
    "            + sample_df[(sample_df.c1dob_y_xrnd==-4)&(sample_df.deceased_before35==True)]['caseid_1979'].values.tolist() \\\n",
    "            + sample_df[(sample_df.c1dob_m_xrnd>0)&(sample_df.deceased_child18==True)]['caseid_1979'].values.tolist()\n",
    "\n",
    "#denominator sample dataframe\n",
    "denom_df = sample_df[~sample_df.caseid_1979.isin(to_drop)]\n",
    "print denom_df.shape"
   ]
  },
  {
   "cell_type": "code",
   "execution_count": 34,
   "metadata": {
    "collapsed": false
   },
   "outputs": [
    {
     "data": {
      "text/plain": [
       "array([  -4, 1993, 1981, 1980, 1976, 1983, 1989, 1990, 1987, 1988, 1982,\n",
       "       1994, 1985, 1979, 1996, 1977, 1986, 1992, 1991, 1978, 1984, 1999,\n",
       "       1995, 1975, 1974, 1998, 1973, 1997, 1971, 2002, 2001, 2007, 2003,\n",
       "       2006, 1972, 2004, 2000, 2005, 2011, 1970])"
      ]
     },
     "execution_count": 34,
     "metadata": {},
     "output_type": "execute_result"
    }
   ],
   "source": [
    "#the birth year of first birth present in the dataset\n",
    "denom_df.c1dob_y_xrnd.unique()"
   ]
  },
  {
   "cell_type": "code",
   "execution_count": 35,
   "metadata": {
    "collapsed": false
   },
   "outputs": [],
   "source": [
    "#number of women who had first birth too early - before 1980 (EXCLUSIVE)\n",
    "#x = denom_df[(denom_df.c1dob_y_xrnd>0)&(denom_df.c1dob_y_xrnd<1980)].shape[0]\n",
    "#print x,\n",
    "#print x/float(denom_df.shape[0])"
   ]
  },
  {
   "cell_type": "code",
   "execution_count": 36,
   "metadata": {
    "collapsed": false
   },
   "outputs": [
    {
     "name": "stdout",
     "output_type": "stream",
     "text": [
      "270\n",
      "0.0657574281539\n"
     ]
    }
   ],
   "source": [
    "#number of women who had first birth too late - after 1994 (EXCLUSIVE)\n",
    "#too late - because we can't observe 18 years of sequences after first childbirth\n",
    "y = denom_df[denom_df.c1dob_y_xrnd>1994].shape[0]\n",
    "print y\n",
    "print y/float(denom_df.shape[0])"
   ]
  },
  {
   "cell_type": "code",
   "execution_count": 37,
   "metadata": {
    "collapsed": false
   },
   "outputs": [
    {
     "name": "stdout",
     "output_type": "stream",
     "text": [
      "132\n",
      "0.0321480759864\n"
     ]
    }
   ],
   "source": [
    "#women who never had children and attrited at some point before they turned 35 - end of reproductive years\n",
    "childless_df = denom_df[denom_df.c1dob_y_xrnd==-4]\n",
    "assert sum(childless_df.attr_before35==False) == 0 # assert attrited at some point before age 35\n",
    "print childless_df.shape[0]\n",
    "print childless_df.shape[0]/float(denom_df.shape[0])"
   ]
  },
  {
   "cell_type": "markdown",
   "metadata": {},
   "source": [
    "## Select analytic sample for main analysis"
   ]
  },
  {
   "cell_type": "code",
   "execution_count": 38,
   "metadata": {
    "collapsed": false
   },
   "outputs": [
    {
     "name": "stdout",
     "output_type": "stream",
     "text": [
      "(3704, 35)\n"
     ]
    }
   ],
   "source": [
    "#select mothers who had first birth before 1994 (inclusive)\n",
    "analytic_df = denom_df[(denom_df.c1dob_y_xrnd>0)&(denom_df.c1dob_y_xrnd<=1994)]\n",
    "print analytic_df.shape"
   ]
  },
  {
   "cell_type": "code",
   "execution_count": 39,
   "metadata": {
    "collapsed": false
   },
   "outputs": [
    {
     "name": "stderr",
     "output_type": "stream",
     "text": [
      "/Users/xzhuo/anaconda/lib/python2.7/site-packages/ipykernel/__main__.py:10: SettingWithCopyWarning: \n",
      "A value is trying to be set on a copy of a slice from a DataFrame.\n",
      "Try using .loc[row_indexer,col_indexer] = value instead\n",
      "\n",
      "See the caveats in the documentation: http://pandas.pydata.org/pandas-docs/stable/indexing.html#indexing-view-versus-copy\n"
     ]
    }
   ],
   "source": [
    "#whether respondents attrited the study before first child turning 18\n",
    "def attr_before_child18(row):\n",
    "    \"\"\"\n",
    "    Return True if respondent left study before her first child turned age 18.\n",
    "    Return False otherwise. \n",
    "    \"\"\"\n",
    "    \n",
    "    return row['last_yr'] < row['y_child18']\n",
    "\n",
    "analytic_df['attr_child18'] = analytic_df.apply(attr_before_child18, axis=1)"
   ]
  },
  {
   "cell_type": "code",
   "execution_count": 40,
   "metadata": {
    "collapsed": false
   },
   "outputs": [
    {
     "data": {
      "text/plain": [
       "False    3378\n",
       "True      326\n",
       "Name: attr_child18, dtype: int64"
      ]
     },
     "execution_count": 40,
     "metadata": {},
     "output_type": "execute_result"
    }
   ],
   "source": [
    "#distribution of attrition before first child turning age 18\n",
    "analytic_df.attr_child18.value_counts()"
   ]
  },
  {
   "cell_type": "code",
   "execution_count": 41,
   "metadata": {
    "collapsed": false
   },
   "outputs": [
    {
     "name": "stdout",
     "output_type": "stream",
     "text": [
      "0.0880129589633\n"
     ]
    }
   ],
   "source": [
    "# what percentage attributed before first child turned age 18?\n",
    "print analytic_df[analytic_df.attr_child18==True].shape[0]/float(analytic_df.shape[0])"
   ]
  },
  {
   "cell_type": "code",
   "execution_count": 42,
   "metadata": {
    "collapsed": false
   },
   "outputs": [
    {
     "name": "stdout",
     "output_type": "stream",
     "text": [
      "(3378, 36)\n"
     ]
    }
   ],
   "source": [
    "#select only women who remained in the study at least until their first child turned 18\n",
    "analytic_df = analytic_df[analytic_df.attr_child18==False]\n",
    "print analytic_df.shape"
   ]
  },
  {
   "cell_type": "code",
   "execution_count": 43,
   "metadata": {
    "collapsed": false
   },
   "outputs": [
    {
     "name": "stdout",
     "output_type": "stream",
     "text": [
      "8511\n"
     ]
    }
   ],
   "source": [
    "#does every mother have valid child birth dates? One respondent doesn't\n",
    "\n",
    "for i, row in analytic_df.iterrows():\n",
    "    for j in range(1, 12):\n",
    "        if (row['c%sdob_y_xrnd'%j]<0 and row['c%sdob_y_xrnd'%j]!=-4) or (row['c%sdob_m_xrnd'%j]<0 and row['c%sdob_m_xrnd'%j]!=-4):\n",
    "            print row['caseid_1979']"
   ]
  },
  {
   "cell_type": "code",
   "execution_count": 44,
   "metadata": {
    "collapsed": false
   },
   "outputs": [
    {
     "data": {
      "text/plain": [
       "caseid_1979           8511\n",
       "sample_id_1979          13\n",
       "sample_race_1979         2\n",
       "sample_sex_1979          2\n",
       "c1dob_m_xrnd             3\n",
       "c1dob_y_xrnd          1990\n",
       "c2dob_m_xrnd            11\n",
       "c2dob_y_xrnd          1994\n",
       "c3dob_m_xrnd             7\n",
       "c3dob_y_xrnd          1998\n",
       "c4dob_m_xrnd            -1\n",
       "c4dob_y_xrnd          2001\n",
       "c5dob_m_xrnd            -4\n",
       "c5dob_y_xrnd            -4\n",
       "c6dob_m_xrnd            -4\n",
       "c6dob_y_xrnd            -4\n",
       "c7dob_m_xrnd            -4\n",
       "c7dob_y_xrnd            -4\n",
       "c8dob_m_xrnd            -4\n",
       "c8dob_y_xrnd            -4\n",
       "c9dob_m_xrnd            -4\n",
       "c9dob_y_xrnd            -4\n",
       "c10dob_m_xrnd           -4\n",
       "c10dob_y_xrnd           -4\n",
       "c11dob_m_xrnd           -4\n",
       "c11dob_y_xrnd           -4\n",
       "y_dob                 1962\n",
       "m_dob                    1\n",
       "y_age35               1997\n",
       "y_deceased             NaN\n",
       "last_yr               2012\n",
       "attr_before35        False\n",
       "deceased_before35    False\n",
       "y_child18             2008\n",
       "deceased_child18     False\n",
       "attr_child18         False\n",
       "Name: 4049, dtype: object"
      ]
     },
     "execution_count": 44,
     "metadata": {},
     "output_type": "execute_result"
    }
   ],
   "source": [
    "# check variables for respondent id 8511\n",
    "analytic_df[analytic_df.caseid_1979==8511].iloc[0]"
   ]
  },
  {
   "cell_type": "markdown",
   "metadata": {
    "collapsed": false
   },
   "source": [
    "**Update (6/15/2017)**: Respondent 8511 has a missing value for c4dob_m_xrnd. Previously, we decided to remove her, but now we decided to keep her. The missing birth month affects the construction of work sequences. We will see whether she took any leave in 1998, if had leave, assume birth happened that month (although be careful how many spells of leaves we got). Otherwise, assume birth happened in June. \n",
    "<br /><br />\n",
    "The final sample consists of 3378 mothers."
   ]
  },
  {
   "cell_type": "code",
   "execution_count": 45,
   "metadata": {
    "collapsed": false
   },
   "outputs": [],
   "source": [
    "# export to csv\n",
    "analytic_df.to_csv('../data/analytic_df.csv', index=False)"
   ]
  },
  {
   "cell_type": "code",
   "execution_count": 46,
   "metadata": {
    "collapsed": false
   },
   "outputs": [
    {
     "data": {
      "text/plain": [
       "1980    283\n",
       "1981    258\n",
       "1982    256\n",
       "1979    242\n",
       "1983    226\n",
       "1984    206\n",
       "1985    204\n",
       "1978    185\n",
       "1986    171\n",
       "1977    151\n",
       "1988    147\n",
       "1989    143\n",
       "1976    139\n",
       "1987    134\n",
       "1990    121\n",
       "1975    110\n",
       "1991     93\n",
       "1992     84\n",
       "1993     79\n",
       "1994     54\n",
       "1974     52\n",
       "1973     28\n",
       "1972      8\n",
       "1971      3\n",
       "1970      1\n",
       "Name: c1dob_y_xrnd, dtype: int64"
      ]
     },
     "execution_count": 46,
     "metadata": {},
     "output_type": "execute_result"
    }
   ],
   "source": [
    "#distribution of birth years in the final analytic sample\n",
    "analytic_df.c1dob_y_xrnd.value_counts()"
   ]
  },
  {
   "cell_type": "markdown",
   "metadata": {},
   "source": [
    "## Select sample for 14-year-sequence analysis"
   ]
  },
  {
   "cell_type": "code",
   "execution_count": 47,
   "metadata": {
    "collapsed": false
   },
   "outputs": [
    {
     "name": "stdout",
     "output_type": "stream",
     "text": [
      "(3943, 35)\n"
     ]
    }
   ],
   "source": [
    "analytic_df14 = sample_df[(sample_df.c1dob_y_xrnd>0)&(sample_df.c1dob_y_xrnd<=1998)]\n",
    "print analytic_df14.shape"
   ]
  },
  {
   "cell_type": "code",
   "execution_count": 48,
   "metadata": {
    "collapsed": false
   },
   "outputs": [
    {
     "name": "stderr",
     "output_type": "stream",
     "text": [
      "/Users/xzhuo/anaconda/lib/python2.7/site-packages/ipykernel/__main__.py:1: SettingWithCopyWarning: \n",
      "A value is trying to be set on a copy of a slice from a DataFrame.\n",
      "Try using .loc[row_indexer,col_indexer] = value instead\n",
      "\n",
      "See the caveats in the documentation: http://pandas.pydata.org/pandas-docs/stable/indexing.html#indexing-view-versus-copy\n",
      "  if __name__ == '__main__':\n"
     ]
    },
    {
     "data": {
      "text/html": [
       "<div>\n",
       "<table border=\"1\" class=\"dataframe\">\n",
       "  <thead>\n",
       "    <tr style=\"text-align: right;\">\n",
       "      <th></th>\n",
       "      <th>caseid_1979</th>\n",
       "      <th>sample_id_1979</th>\n",
       "      <th>sample_race_1979</th>\n",
       "      <th>sample_sex_1979</th>\n",
       "      <th>c1dob_m_xrnd</th>\n",
       "      <th>c1dob_y_xrnd</th>\n",
       "      <th>c2dob_m_xrnd</th>\n",
       "      <th>c2dob_y_xrnd</th>\n",
       "      <th>c3dob_m_xrnd</th>\n",
       "      <th>c3dob_y_xrnd</th>\n",
       "      <th>...</th>\n",
       "      <th>y_dob</th>\n",
       "      <th>m_dob</th>\n",
       "      <th>y_age35</th>\n",
       "      <th>y_deceased</th>\n",
       "      <th>last_yr</th>\n",
       "      <th>attr_before35</th>\n",
       "      <th>deceased_before35</th>\n",
       "      <th>y_child18</th>\n",
       "      <th>deceased_child18</th>\n",
       "      <th>y_child14</th>\n",
       "    </tr>\n",
       "  </thead>\n",
       "  <tbody>\n",
       "    <tr>\n",
       "      <th>1</th>\n",
       "      <td>2</td>\n",
       "      <td>5</td>\n",
       "      <td>3</td>\n",
       "      <td>2</td>\n",
       "      <td>3</td>\n",
       "      <td>1993</td>\n",
       "      <td>11</td>\n",
       "      <td>1994</td>\n",
       "      <td>-4</td>\n",
       "      <td>-4</td>\n",
       "      <td>...</td>\n",
       "      <td>1959</td>\n",
       "      <td>1</td>\n",
       "      <td>1994</td>\n",
       "      <td>NaN</td>\n",
       "      <td>2012</td>\n",
       "      <td>False</td>\n",
       "      <td>False</td>\n",
       "      <td>2011</td>\n",
       "      <td>False</td>\n",
       "      <td>2007</td>\n",
       "    </tr>\n",
       "    <tr>\n",
       "      <th>2</th>\n",
       "      <td>3</td>\n",
       "      <td>5</td>\n",
       "      <td>3</td>\n",
       "      <td>2</td>\n",
       "      <td>6</td>\n",
       "      <td>1981</td>\n",
       "      <td>10</td>\n",
       "      <td>1983</td>\n",
       "      <td>4</td>\n",
       "      <td>1986</td>\n",
       "      <td>...</td>\n",
       "      <td>1961</td>\n",
       "      <td>8</td>\n",
       "      <td>1996</td>\n",
       "      <td>NaN</td>\n",
       "      <td>2012</td>\n",
       "      <td>False</td>\n",
       "      <td>False</td>\n",
       "      <td>1999</td>\n",
       "      <td>False</td>\n",
       "      <td>1995</td>\n",
       "    </tr>\n",
       "    <tr>\n",
       "      <th>3</th>\n",
       "      <td>4</td>\n",
       "      <td>5</td>\n",
       "      <td>3</td>\n",
       "      <td>2</td>\n",
       "      <td>8</td>\n",
       "      <td>1980</td>\n",
       "      <td>3</td>\n",
       "      <td>1997</td>\n",
       "      <td>-4</td>\n",
       "      <td>-4</td>\n",
       "      <td>...</td>\n",
       "      <td>1962</td>\n",
       "      <td>8</td>\n",
       "      <td>1997</td>\n",
       "      <td>NaN</td>\n",
       "      <td>1998</td>\n",
       "      <td>False</td>\n",
       "      <td>False</td>\n",
       "      <td>1998</td>\n",
       "      <td>False</td>\n",
       "      <td>1994</td>\n",
       "    </tr>\n",
       "    <tr>\n",
       "      <th>4</th>\n",
       "      <td>8</td>\n",
       "      <td>6</td>\n",
       "      <td>3</td>\n",
       "      <td>2</td>\n",
       "      <td>3</td>\n",
       "      <td>1976</td>\n",
       "      <td>5</td>\n",
       "      <td>1979</td>\n",
       "      <td>9</td>\n",
       "      <td>1982</td>\n",
       "      <td>...</td>\n",
       "      <td>1958</td>\n",
       "      <td>7</td>\n",
       "      <td>1993</td>\n",
       "      <td>NaN</td>\n",
       "      <td>2012</td>\n",
       "      <td>False</td>\n",
       "      <td>False</td>\n",
       "      <td>1994</td>\n",
       "      <td>False</td>\n",
       "      <td>1990</td>\n",
       "    </tr>\n",
       "    <tr>\n",
       "      <th>5</th>\n",
       "      <td>10</td>\n",
       "      <td>6</td>\n",
       "      <td>3</td>\n",
       "      <td>2</td>\n",
       "      <td>1</td>\n",
       "      <td>1983</td>\n",
       "      <td>7</td>\n",
       "      <td>1988</td>\n",
       "      <td>-4</td>\n",
       "      <td>-4</td>\n",
       "      <td>...</td>\n",
       "      <td>1960</td>\n",
       "      <td>10</td>\n",
       "      <td>1995</td>\n",
       "      <td>NaN</td>\n",
       "      <td>1994</td>\n",
       "      <td>True</td>\n",
       "      <td>False</td>\n",
       "      <td>2001</td>\n",
       "      <td>False</td>\n",
       "      <td>1997</td>\n",
       "    </tr>\n",
       "  </tbody>\n",
       "</table>\n",
       "<p>5 rows × 36 columns</p>\n",
       "</div>"
      ],
      "text/plain": [
       "   caseid_1979  sample_id_1979  sample_race_1979  sample_sex_1979  \\\n",
       "1            2               5                 3                2   \n",
       "2            3               5                 3                2   \n",
       "3            4               5                 3                2   \n",
       "4            8               6                 3                2   \n",
       "5           10               6                 3                2   \n",
       "\n",
       "   c1dob_m_xrnd  c1dob_y_xrnd  c2dob_m_xrnd  c2dob_y_xrnd  c3dob_m_xrnd  \\\n",
       "1             3          1993            11          1994            -4   \n",
       "2             6          1981            10          1983             4   \n",
       "3             8          1980             3          1997            -4   \n",
       "4             3          1976             5          1979             9   \n",
       "5             1          1983             7          1988            -4   \n",
       "\n",
       "   c3dob_y_xrnd    ...      y_dob  m_dob  y_age35  y_deceased  last_yr  \\\n",
       "1            -4    ...       1959      1     1994         NaN     2012   \n",
       "2          1986    ...       1961      8     1996         NaN     2012   \n",
       "3            -4    ...       1962      8     1997         NaN     1998   \n",
       "4          1982    ...       1958      7     1993         NaN     2012   \n",
       "5            -4    ...       1960     10     1995         NaN     1994   \n",
       "\n",
       "   attr_before35  deceased_before35  y_child18  deceased_child18  y_child14  \n",
       "1          False              False       2011             False       2007  \n",
       "2          False              False       1999             False       1995  \n",
       "3          False              False       1998             False       1994  \n",
       "4          False              False       1994             False       1990  \n",
       "5           True              False       2001             False       1997  \n",
       "\n",
       "[5 rows x 36 columns]"
      ]
     },
     "execution_count": 48,
     "metadata": {},
     "output_type": "execute_result"
    }
   ],
   "source": [
    "analytic_df14['y_child14'] = analytic_df14.c1dob_y_xrnd.map(lambda x: x+14)\n",
    "analytic_df14.head()"
   ]
  },
  {
   "cell_type": "code",
   "execution_count": 49,
   "metadata": {
    "collapsed": false
   },
   "outputs": [
    {
     "name": "stderr",
     "output_type": "stream",
     "text": [
      "/Users/xzhuo/anaconda/lib/python2.7/site-packages/ipykernel/__main__.py:8: SettingWithCopyWarning: \n",
      "A value is trying to be set on a copy of a slice from a DataFrame.\n",
      "Try using .loc[row_indexer,col_indexer] = value instead\n",
      "\n",
      "See the caveats in the documentation: http://pandas.pydata.org/pandas-docs/stable/indexing.html#indexing-view-versus-copy\n"
     ]
    },
    {
     "data": {
      "text/html": [
       "<div>\n",
       "<table border=\"1\" class=\"dataframe\">\n",
       "  <thead>\n",
       "    <tr style=\"text-align: right;\">\n",
       "      <th></th>\n",
       "      <th>caseid_1979</th>\n",
       "      <th>sample_id_1979</th>\n",
       "      <th>sample_race_1979</th>\n",
       "      <th>sample_sex_1979</th>\n",
       "      <th>c1dob_m_xrnd</th>\n",
       "      <th>c1dob_y_xrnd</th>\n",
       "      <th>c2dob_m_xrnd</th>\n",
       "      <th>c2dob_y_xrnd</th>\n",
       "      <th>c3dob_m_xrnd</th>\n",
       "      <th>c3dob_y_xrnd</th>\n",
       "      <th>...</th>\n",
       "      <th>m_dob</th>\n",
       "      <th>y_age35</th>\n",
       "      <th>y_deceased</th>\n",
       "      <th>last_yr</th>\n",
       "      <th>attr_before35</th>\n",
       "      <th>deceased_before35</th>\n",
       "      <th>y_child18</th>\n",
       "      <th>deceased_child18</th>\n",
       "      <th>y_child14</th>\n",
       "      <th>attr_child14</th>\n",
       "    </tr>\n",
       "  </thead>\n",
       "  <tbody>\n",
       "    <tr>\n",
       "      <th>1</th>\n",
       "      <td>2</td>\n",
       "      <td>5</td>\n",
       "      <td>3</td>\n",
       "      <td>2</td>\n",
       "      <td>3</td>\n",
       "      <td>1993</td>\n",
       "      <td>11</td>\n",
       "      <td>1994</td>\n",
       "      <td>-4</td>\n",
       "      <td>-4</td>\n",
       "      <td>...</td>\n",
       "      <td>1</td>\n",
       "      <td>1994</td>\n",
       "      <td>NaN</td>\n",
       "      <td>2012</td>\n",
       "      <td>False</td>\n",
       "      <td>False</td>\n",
       "      <td>2011</td>\n",
       "      <td>False</td>\n",
       "      <td>2007</td>\n",
       "      <td>False</td>\n",
       "    </tr>\n",
       "    <tr>\n",
       "      <th>2</th>\n",
       "      <td>3</td>\n",
       "      <td>5</td>\n",
       "      <td>3</td>\n",
       "      <td>2</td>\n",
       "      <td>6</td>\n",
       "      <td>1981</td>\n",
       "      <td>10</td>\n",
       "      <td>1983</td>\n",
       "      <td>4</td>\n",
       "      <td>1986</td>\n",
       "      <td>...</td>\n",
       "      <td>8</td>\n",
       "      <td>1996</td>\n",
       "      <td>NaN</td>\n",
       "      <td>2012</td>\n",
       "      <td>False</td>\n",
       "      <td>False</td>\n",
       "      <td>1999</td>\n",
       "      <td>False</td>\n",
       "      <td>1995</td>\n",
       "      <td>False</td>\n",
       "    </tr>\n",
       "    <tr>\n",
       "      <th>3</th>\n",
       "      <td>4</td>\n",
       "      <td>5</td>\n",
       "      <td>3</td>\n",
       "      <td>2</td>\n",
       "      <td>8</td>\n",
       "      <td>1980</td>\n",
       "      <td>3</td>\n",
       "      <td>1997</td>\n",
       "      <td>-4</td>\n",
       "      <td>-4</td>\n",
       "      <td>...</td>\n",
       "      <td>8</td>\n",
       "      <td>1997</td>\n",
       "      <td>NaN</td>\n",
       "      <td>1998</td>\n",
       "      <td>False</td>\n",
       "      <td>False</td>\n",
       "      <td>1998</td>\n",
       "      <td>False</td>\n",
       "      <td>1994</td>\n",
       "      <td>False</td>\n",
       "    </tr>\n",
       "    <tr>\n",
       "      <th>4</th>\n",
       "      <td>8</td>\n",
       "      <td>6</td>\n",
       "      <td>3</td>\n",
       "      <td>2</td>\n",
       "      <td>3</td>\n",
       "      <td>1976</td>\n",
       "      <td>5</td>\n",
       "      <td>1979</td>\n",
       "      <td>9</td>\n",
       "      <td>1982</td>\n",
       "      <td>...</td>\n",
       "      <td>7</td>\n",
       "      <td>1993</td>\n",
       "      <td>NaN</td>\n",
       "      <td>2012</td>\n",
       "      <td>False</td>\n",
       "      <td>False</td>\n",
       "      <td>1994</td>\n",
       "      <td>False</td>\n",
       "      <td>1990</td>\n",
       "      <td>False</td>\n",
       "    </tr>\n",
       "    <tr>\n",
       "      <th>5</th>\n",
       "      <td>10</td>\n",
       "      <td>6</td>\n",
       "      <td>3</td>\n",
       "      <td>2</td>\n",
       "      <td>1</td>\n",
       "      <td>1983</td>\n",
       "      <td>7</td>\n",
       "      <td>1988</td>\n",
       "      <td>-4</td>\n",
       "      <td>-4</td>\n",
       "      <td>...</td>\n",
       "      <td>10</td>\n",
       "      <td>1995</td>\n",
       "      <td>NaN</td>\n",
       "      <td>1994</td>\n",
       "      <td>True</td>\n",
       "      <td>False</td>\n",
       "      <td>2001</td>\n",
       "      <td>False</td>\n",
       "      <td>1997</td>\n",
       "      <td>True</td>\n",
       "    </tr>\n",
       "  </tbody>\n",
       "</table>\n",
       "<p>5 rows × 37 columns</p>\n",
       "</div>"
      ],
      "text/plain": [
       "   caseid_1979  sample_id_1979  sample_race_1979  sample_sex_1979  \\\n",
       "1            2               5                 3                2   \n",
       "2            3               5                 3                2   \n",
       "3            4               5                 3                2   \n",
       "4            8               6                 3                2   \n",
       "5           10               6                 3                2   \n",
       "\n",
       "   c1dob_m_xrnd  c1dob_y_xrnd  c2dob_m_xrnd  c2dob_y_xrnd  c3dob_m_xrnd  \\\n",
       "1             3          1993            11          1994            -4   \n",
       "2             6          1981            10          1983             4   \n",
       "3             8          1980             3          1997            -4   \n",
       "4             3          1976             5          1979             9   \n",
       "5             1          1983             7          1988            -4   \n",
       "\n",
       "   c3dob_y_xrnd      ...       m_dob  y_age35  y_deceased  last_yr  \\\n",
       "1            -4      ...           1     1994         NaN     2012   \n",
       "2          1986      ...           8     1996         NaN     2012   \n",
       "3            -4      ...           8     1997         NaN     1998   \n",
       "4          1982      ...           7     1993         NaN     2012   \n",
       "5            -4      ...          10     1995         NaN     1994   \n",
       "\n",
       "   attr_before35  deceased_before35  y_child18  deceased_child18  y_child14  \\\n",
       "1          False              False       2011             False       2007   \n",
       "2          False              False       1999             False       1995   \n",
       "3          False              False       1998             False       1994   \n",
       "4          False              False       1994             False       1990   \n",
       "5           True              False       2001             False       1997   \n",
       "\n",
       "   attr_child14  \n",
       "1         False  \n",
       "2         False  \n",
       "3         False  \n",
       "4         False  \n",
       "5          True  \n",
       "\n",
       "[5 rows x 37 columns]"
      ]
     },
     "execution_count": 49,
     "metadata": {},
     "output_type": "execute_result"
    }
   ],
   "source": [
    "def attr_before_child14(row):\n",
    "    \"\"\"\n",
    "    Return True if respondent left study before her first child turned age 14.\n",
    "    Return False otherwise. \n",
    "    \"\"\"\n",
    "    return row['last_yr'] < row['y_child14']\n",
    "\n",
    "analytic_df14['attr_child14'] = analytic_df14.apply(attr_before_child14, axis=1)\n",
    "analytic_df14.head()"
   ]
  },
  {
   "cell_type": "code",
   "execution_count": 50,
   "metadata": {
    "collapsed": false
   },
   "outputs": [
    {
     "data": {
      "text/plain": [
       "False    3650\n",
       "True      293\n",
       "Name: attr_child14, dtype: int64"
      ]
     },
     "execution_count": 50,
     "metadata": {},
     "output_type": "execute_result"
    }
   ],
   "source": [
    "analytic_df14.attr_child14.value_counts()"
   ]
  },
  {
   "cell_type": "code",
   "execution_count": 51,
   "metadata": {
    "collapsed": false
   },
   "outputs": [
    {
     "name": "stdout",
     "output_type": "stream",
     "text": [
      "(3650, 37)\n"
     ]
    }
   ],
   "source": [
    "analytic_df14 = analytic_df14[analytic_df14.attr_child14==False]\n",
    "print analytic_df14.shape"
   ]
  },
  {
   "cell_type": "code",
   "execution_count": 52,
   "metadata": {
    "collapsed": false
   },
   "outputs": [
    {
     "name": "stdout",
     "output_type": "stream",
     "text": [
      "8511\n"
     ]
    }
   ],
   "source": [
    "#does every mother have valid child birth dates? One doesn't. The same one\n",
    "for i, row in analytic_df14.iterrows():\n",
    "    for j in range(1, 12):\n",
    "        if (row['c%sdob_y_xrnd'%j]<0 and row['c%sdob_y_xrnd'%j]!=-4) or (row['c%sdob_m_xrnd'%j]<0 and row['c%sdob_m_xrnd'%j]!=-4):\n",
    "            print row['caseid_1979']"
   ]
  },
  {
   "cell_type": "code",
   "execution_count": 53,
   "metadata": {
    "collapsed": false
   },
   "outputs": [
    {
     "data": {
      "text/plain": [
       "1980    289\n",
       "1982    265\n",
       "1981    264\n",
       "1979    246\n",
       "1983    233\n",
       "1985    218\n",
       "1984    216\n",
       "1978    187\n",
       "1986    180\n",
       "1977    158\n",
       "1989    151\n",
       "1988    150\n",
       "1976    141\n",
       "1987    136\n",
       "1990    124\n",
       "1975    111\n",
       "1991     99\n",
       "1992     91\n",
       "1993     86\n",
       "1994     59\n",
       "1974     52\n",
       "1995     48\n",
       "1996     43\n",
       "1997     36\n",
       "1973     29\n",
       "1998     26\n",
       "1972      8\n",
       "1971      3\n",
       "1970      1\n",
       "Name: c1dob_y_xrnd, dtype: int64"
      ]
     },
     "execution_count": 53,
     "metadata": {},
     "output_type": "execute_result"
    }
   ],
   "source": [
    "analytic_df14.c1dob_y_xrnd.value_counts()"
   ]
  },
  {
   "cell_type": "code",
   "execution_count": 54,
   "metadata": {
    "collapsed": true
   },
   "outputs": [],
   "source": [
    "analytic_df14.to_csv('../data/analytic_df_seq14.csv', index=False)"
   ]
  },
  {
   "cell_type": "code",
   "execution_count": null,
   "metadata": {
    "collapsed": true
   },
   "outputs": [],
   "source": []
  }
 ],
 "metadata": {
  "kernelspec": {
   "display_name": "Python 2",
   "language": "python",
   "name": "python2"
  },
  "language_info": {
   "codemirror_mode": {
    "name": "ipython",
    "version": 2
   },
   "file_extension": ".py",
   "mimetype": "text/x-python",
   "name": "python",
   "nbconvert_exporter": "python",
   "pygments_lexer": "ipython2",
   "version": "2.7.12"
  }
 },
 "nbformat": 4,
 "nbformat_minor": 0
}
