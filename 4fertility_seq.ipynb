{
 "metadata": {
  "name": ""
 },
 "nbformat": 3,
 "nbformat_minor": 0,
 "worksheets": [
  {
   "cells": [
    {
     "cell_type": "markdown",
     "metadata": {},
     "source": [
      "#OptOut Project:\n",
      "#Part Four: Fertility Sequence"
     ]
    },
    {
     "cell_type": "code",
     "collapsed": false,
     "input": [
      "#setup\n",
      "%matplotlib inline\n",
      "import numpy as np\n",
      "import matplotlib.pyplot as plt\n",
      "import pandas as pd\n",
      "import time\n",
      "import csv\n",
      "import calendar\n",
      "from operator import itemgetter\n",
      "from collections import defaultdict, Counter\n",
      "\n",
      "# set some nicer defaults for matplotlib\n",
      "from matplotlib import rcParams\n",
      "\n",
      "#these colors come from colorbrewer2.org. Each is an RGB triplet\n",
      "dark2_colors = [(0.10588235294117647, 0.6196078431372549, 0.4666666666666667),\n",
      "                (0.8509803921568627, 0.37254901960784315, 0.00784313725490196),\n",
      "                (0.4588235294117647, 0.4392156862745098, 0.7019607843137254),\n",
      "                (0.9058823529411765, 0.1607843137254902, 0.5411764705882353),\n",
      "                (0.4, 0.6509803921568628, 0.11764705882352941),\n",
      "                (0.9019607843137255, 0.6705882352941176, 0.00784313725490196),\n",
      "                (0.6509803921568628, 0.4627450980392157, 0.11372549019607843),\n",
      "                (0.4, 0.4, 0.4)]\n",
      "\n",
      "rcParams['figure.figsize'] = (10, 6)\n",
      "rcParams['figure.dpi'] = 150\n",
      "rcParams['axes.color_cycle'] = dark2_colors\n",
      "rcParams['lines.linewidth'] = 2\n",
      "rcParams['axes.grid'] = False\n",
      "rcParams['axes.facecolor'] = 'white'\n",
      "rcParams['font.size'] = 14\n",
      "rcParams['patch.edgecolor'] = 'none'\n",
      "\n",
      "def remove_border(axes=None, top=False, right=False, left=True, bottom=True):\n",
      "    \"\"\"\n",
      "    Minimize chartjunk by stripping out unnecessary plot borders and axis ticks\n",
      "    \n",
      "    The top/right/left/bottom keywords toggle whether the corresponding plot border is drawn\n",
      "    \"\"\"\n",
      "    ax = axes or plt.gca()\n",
      "    ax.spines['top'].set_visible(top)\n",
      "    ax.spines['right'].set_visible(right)\n",
      "    ax.spines['left'].set_visible(left)\n",
      "    ax.spines['bottom'].set_visible(bottom)\n",
      "    \n",
      "    #turn off all ticks\n",
      "    ax.yaxis.set_ticks_position('none')\n",
      "    ax.xaxis.set_ticks_position('none')\n",
      "    \n",
      "    #now re-enable visibles\n",
      "    if top:\n",
      "        ax.xaxis.tick_top()\n",
      "    if bottom:\n",
      "        ax.xaxis.tick_bottom()\n",
      "    if left:\n",
      "        ax.yaxis.tick_left()\n",
      "    if right:\n",
      "        ax.yaxis.tick_right()"
     ],
     "language": "python",
     "metadata": {},
     "outputs": [],
     "prompt_number": 51
    },
    {
     "cell_type": "markdown",
     "metadata": {},
     "source": [
      "##0. Define some useful functions"
     ]
    },
    {
     "cell_type": "code",
     "collapsed": false,
     "input": [
      "xl_file = pd.ExcelFile('continuous_week_crosswalk.xlsx')\n",
      "weekdf = xl_file.parse('weekdates1')\n",
      "print weekdf.shape\n",
      "weekdf.head()"
     ],
     "language": "python",
     "metadata": {},
     "outputs": [
      {
       "output_type": "stream",
       "stream": "stdout",
       "text": [
        "(1774, 5)\n"
       ]
      },
      {
       "html": [
        "<div style=\"max-height:1000px;max-width:1500px;overflow:auto;\">\n",
        "<table border=\"1\" class=\"dataframe\">\n",
        "  <thead>\n",
        "    <tr style=\"text-align: right;\">\n",
        "      <th></th>\n",
        "      <th>Week Start:\n",
        "Month</th>\n",
        "      <th>Week Start: \n",
        "Day</th>\n",
        "      <th>Week Start: \n",
        "Year</th>\n",
        "      <th>Calendar Year \n",
        "Week Number </th>\n",
        "      <th>Continuous \n",
        "Week Number</th>\n",
        "    </tr>\n",
        "  </thead>\n",
        "  <tbody>\n",
        "    <tr>\n",
        "      <th>0</th>\n",
        "      <td> 1</td>\n",
        "      <td>  1</td>\n",
        "      <td> 1978</td>\n",
        "      <td> 1</td>\n",
        "      <td> 1</td>\n",
        "    </tr>\n",
        "    <tr>\n",
        "      <th>1</th>\n",
        "      <td> 1</td>\n",
        "      <td>  8</td>\n",
        "      <td> 1978</td>\n",
        "      <td> 2</td>\n",
        "      <td> 2</td>\n",
        "    </tr>\n",
        "    <tr>\n",
        "      <th>2</th>\n",
        "      <td> 1</td>\n",
        "      <td> 15</td>\n",
        "      <td> 1978</td>\n",
        "      <td> 3</td>\n",
        "      <td> 3</td>\n",
        "    </tr>\n",
        "    <tr>\n",
        "      <th>3</th>\n",
        "      <td> 1</td>\n",
        "      <td> 22</td>\n",
        "      <td> 1978</td>\n",
        "      <td> 4</td>\n",
        "      <td> 4</td>\n",
        "    </tr>\n",
        "    <tr>\n",
        "      <th>4</th>\n",
        "      <td> 1</td>\n",
        "      <td> 29</td>\n",
        "      <td> 1978</td>\n",
        "      <td> 5</td>\n",
        "      <td> 5</td>\n",
        "    </tr>\n",
        "  </tbody>\n",
        "</table>\n",
        "</div>"
       ],
       "metadata": {},
       "output_type": "pyout",
       "prompt_number": 2,
       "text": [
        "   Week Start:\\nMonth  Week Start: \\nDay  Week Start: \\nYear  \\\n",
        "0                   1                  1                1978   \n",
        "1                   1                  8                1978   \n",
        "2                   1                 15                1978   \n",
        "3                   1                 22                1978   \n",
        "4                   1                 29                1978   \n",
        "\n",
        "   Calendar Year \\nWeek Number   Continuous \\nWeek Number  \n",
        "0                             1                         1  \n",
        "1                             2                         2  \n",
        "2                             3                         3  \n",
        "3                             4                         4  \n",
        "4                             5                         5  "
       ]
      }
     ],
     "prompt_number": 2
    },
    {
     "cell_type": "code",
     "collapsed": false,
     "input": [
      "def get_week_num(year, month, which, df=weekdf):\n",
      "    \"\"\"Given a year and month in the calendar, \n",
      "    return the corresponding week number in NLSY79\n",
      "    using coutinuous_week_crosswalk.xlsx\n",
      "    \n",
      "    if which=='first', return the first week in that month\n",
      "    if which=='last', return the last week in that month \n",
      "    \"\"\"\n",
      "\n",
      "    \n",
      "    #column names in weekdf:\n",
      "    #u'Week Start:\\nMonth'\n",
      "    #u'Week Start: \\nDay'\n",
      "    #u'Week Start: \\nYear'\n",
      "    #u'Calendar Year \\nWeek Number '\n",
      "    #u'Continuous \\nWeek Number'\n",
      "    \n",
      "    that_month = weekdf[(weekdf['Week Start:\\nMonth']==month)&(weekdf['Week Start: \\nYear']==year)]\n",
      "    \n",
      "    if which == 'first':\n",
      "        return int(that_month.iloc[0]['Continuous \\nWeek Number'])\n",
      "    elif which == 'last':\n",
      "        return int(that_month.iloc[len(that_month)-1]['Continuous \\nWeek Number'])"
     ],
     "language": "python",
     "metadata": {},
     "outputs": [],
     "prompt_number": 3
    },
    {
     "cell_type": "code",
     "collapsed": false,
     "input": [
      "def get_year_month(weeknum, df=weekdf):\n",
      "    \"\"\"Given a week number, return the corresponding month and year (yyyy, m).\n",
      "    \"\"\"\n",
      "    \n",
      "    #column names in weekdf:\n",
      "    #u'Week Start:\\nMonth'\n",
      "    #u'Week Start: \\nDay'\n",
      "    #u'Week Start: \\nYear'\n",
      "    #u'Calendar Year \\nWeek Number '\n",
      "    #u'Continuous \\nWeek Number'\n",
      "    \n",
      "    that_week = weekdf[weekdf['Continuous \\nWeek Number']==weeknum]\n",
      "    return int(that_week.iloc[0]['Week Start: \\nYear']), int(that_week.iloc[0]['Week Start:\\nMonth'])"
     ],
     "language": "python",
     "metadata": {},
     "outputs": [],
     "prompt_number": 4
    },
    {
     "cell_type": "code",
     "collapsed": false,
     "input": [
      "def list_duplicates_of(seq,item):\n",
      "    \"\"\"\n",
      "    a function to return the indexes of duplicate items in a list (as a list)\n",
      "    \"\"\"\n",
      "    start_at = -1\n",
      "    locs = []\n",
      "    while True:\n",
      "        try:\n",
      "            loc = seq.index(item,start_at+1)\n",
      "        except ValueError:\n",
      "            break\n",
      "        else:\n",
      "            locs.append(loc)\n",
      "            start_at = loc\n",
      "    return locs"
     ],
     "language": "python",
     "metadata": {},
     "outputs": [],
     "prompt_number": 24
    },
    {
     "cell_type": "markdown",
     "metadata": {},
     "source": [
      "##1. Read data"
     ]
    },
    {
     "cell_type": "code",
     "collapsed": false,
     "input": [
      "dob_df = pd.read_csv('fertility_data.csv')\n",
      "print dob_df.shape"
     ],
     "language": "python",
     "metadata": {},
     "outputs": [
      {
       "output_type": "stream",
       "stream": "stdout",
       "text": [
        "(12686, 25)\n"
       ]
      }
     ],
     "prompt_number": 26
    },
    {
     "cell_type": "code",
     "collapsed": false,
     "input": [
      "dob_df.iloc[0]"
     ],
     "language": "python",
     "metadata": {},
     "outputs": [
      {
       "metadata": {},
       "output_type": "pyout",
       "prompt_number": 27,
       "text": [
        "id                                     1\n",
        "race             NON-BLACK, NON-HISPANIC\n",
        "sex                               FEMALE\n",
        "c1dob_m_xrnd                          -4\n",
        "c1dob_y_xrnd                          -4\n",
        "c2dob_m_xrnd                          -4\n",
        "c2dob_y_xrnd                          -4\n",
        "c3dob_m_xrnd                          -4\n",
        "c3dob_y_xrnd                          -4\n",
        "c4dob_m_xrnd                          -4\n",
        "c4dob_y_xrnd                          -4\n",
        "c5dob_m_xrnd                          -4\n",
        "c5dob_y_xrnd                          -4\n",
        "c6dob_m_xrnd                          -4\n",
        "c6dob_y_xrnd                          -4\n",
        "c7dob_m_xrnd                          -4\n",
        "c7dob_y_xrnd                          -4\n",
        "c8dob_m_xrnd                          -4\n",
        "c8dob_y_xrnd                          -4\n",
        "c9dob_m_xrnd                          -4\n",
        "c9dob_y_xrnd                          -4\n",
        "c10dob_m_xrnd                         -4\n",
        "c10dob_y_xrnd                         -4\n",
        "c11dob_m_xrnd                         -4\n",
        "c11dob_y_xrnd                         -4\n",
        "Name: 0, dtype: object"
       ]
      }
     ],
     "prompt_number": 27
    },
    {
     "cell_type": "code",
     "collapsed": false,
     "input": [
      "res_df = pd.read_csv('res_df_original.csv')"
     ],
     "language": "python",
     "metadata": {},
     "outputs": [],
     "prompt_number": 10
    },
    {
     "cell_type": "code",
     "collapsed": false,
     "input": [
      "# Selected sample\n",
      "sample = res_df['id'].tolist()"
     ],
     "language": "python",
     "metadata": {},
     "outputs": [],
     "prompt_number": 11
    },
    {
     "cell_type": "markdown",
     "metadata": {},
     "source": [
      "##2. Construct fertility sequence\n",
      "\n",
      "Assume that the child was born at the end of the month (i.e. if a woman reports that her baby was born in March, we call April her first month of parenthood, and we start the employment history with the week that includes April 1). For subsequent births, also assume that the birth occurred at the end of the month in which it was reported.\n",
      "\n",
      "For each respondent, create a fertility quarterly sequence. In general, the length of the fertility sequence should be equal to the employment sequence. However, make one modification here. Employment sequence starts right after the woman's first childbirth. If I also start the fertility sequence right after the woman's first childbirth, we will lose the first childbirth. So include the first childbirth as the first element in the sequence and assign a distinct status to it to distinguish it from following births. So the final fertility sequence will be a first childbirth + 72 quarters.\n",
      "\n",
      "\n",
      "\n",
      "###2.1 For respondents in our sample, they should all have valid first childbirths. Otherwise, they wouldn't be in our sample. \n",
      "\n",
      "Verify this."
     ]
    },
    {
     "cell_type": "code",
     "collapsed": false,
     "input": [
      "for i, row in dob_df[dob_df.id.isin(sample)].iterrows():\n",
      "    if row['c1dob_m_xrnd'] == -4 or row['c1dob_y_xrnd'] == -4:\n",
      "        print row['id'], row['c1dob_m_xrnd'], row['c1dob_y_xrnd']"
     ],
     "language": "python",
     "metadata": {},
     "outputs": [],
     "prompt_number": 28
    },
    {
     "cell_type": "markdown",
     "metadata": {},
     "source": [
      "Yes, that's right."
     ]
    },
    {
     "cell_type": "markdown",
     "metadata": {},
     "source": [
      "###2.2 Definition of quarters\n",
      "\n",
      "When constructing quarterly employment sequence, assume each quarter corresponds to 13 weeks and examine the 72 x 13 weeks after first childbirths. \n",
      "\n",
      "In fertility sequence, we know the year and month of each birth. A natural way is to count 3 months as a quarter, but this might differ from the quarters identified by every 13 weeks. Moreover, if we construct each quarter by every 13 weeks, we might end up with a childbirth month spanning two quarters.\n",
      "\n",
      "The solution is based on our assumption that each childbirth took place at the end of the month, i.e. in the last week of the month. So we identify the week number of the last week of the childbirth month, count every 13 weeks as a quarter, and assign the childbirth to a quarter.  "
     ]
    },
    {
     "cell_type": "code",
     "collapsed": false,
     "input": [
      "def get_quarter_index(seq_start, y, m):\n",
      "    \"\"\"\n",
      "    Given a sequence starting week, year and month of a childbirth,\n",
      "    return the index of the quarter in which the childbirth took place.\n",
      "    \n",
      "    Assume each quarter contains 13 weeks. \n",
      "    Assume childbirth took place in the last week of the month. \n",
      "    \n",
      "    For example, respondent with id 3 has sequence starting week 184. \n",
      "    She had another childbirth in April 1986, which is week 435. \n",
      "    (435-184)/13 = 19.3\n",
      "    So the quarter index is 19. \n",
      "    Yet, we return 20 here since we inserted the first childbirth as the first quarter\n",
      "    \"\"\"\n",
      "    \n",
      "    n = get_week_num(y, m, 'last') \n",
      "    return (n-seq_start)//13      "
     ],
     "language": "python",
     "metadata": {},
     "outputs": [],
     "prompt_number": 109
    },
    {
     "cell_type": "code",
     "collapsed": false,
     "input": [
      "fer_data = defaultdict(list)\n",
      "\n",
      "for i, row in dob_df[dob_df.id.isin(sample)].iterrows():\n",
      "    \n",
      "    fer_data['id'].append(row['id'])\n",
      "    \n",
      "    seq_start = res_df[res_df.id==row['id']].iloc[0]['start_week']\n",
      "    \n",
      "    res = []\n",
      "    \n",
      "    #### need modification! look at only 18-year. \n",
      "    \n",
      "    \n",
      "    for j in range(1, 12):\n",
      "        dob_y = row['c%idob_y_xrnd'%j]\n",
      "        dob_m = row['c%idob_m_xrnd'%j]\n",
      "        \n",
      "        if dob_y > 0 and dob_m > 0:\n",
      "            # Add 1 to the quarter number because we inserted the first childbirth as the first quarter\n",
      "            res.append(int(get_quarter_index(seq_start, dob_y, dob_m)+1))\n",
      "        elif dob_y == -4 and dob_m == -4:\n",
      "            pass\n",
      "        else:\n",
      "            print 'unknown childbirth dates', row['id'], dob_y, dob_m\n",
      "            \n",
      "            \n",
      "    for qrt_num in range(73): # Specify the range of fertiliy sequence we want\n",
      "        if qrt_num in res:\n",
      "            fer_data['qrt%i'%qrt_num].append(1)\n",
      "        else:\n",
      "            fer_data['qrt%i'%qrt_num].append(0)\n"
     ],
     "language": "python",
     "metadata": {},
     "outputs": [
      {
       "output_type": "stream",
       "stream": "stdout",
       "text": [
        "unknown childbirth dates 8511 2001 -1\n"
       ]
      }
     ],
     "prompt_number": 118
    },
    {
     "cell_type": "code",
     "collapsed": false,
     "input": [
      "# Create new quarterly fertility dataframe\n",
      "\n",
      "# Specify the column order to make it more convenient for later analysis\n",
      "cols = ['id'] + ['qrt%s'%n for n in range(73)]\n",
      "\n",
      "fer_df = pd.DataFrame(fer_data, columns=cols)"
     ],
     "language": "python",
     "metadata": {},
     "outputs": [],
     "prompt_number": 119
    },
    {
     "cell_type": "code",
     "collapsed": false,
     "input": [
      "# Save fertility dataframe to csv\n",
      "fer_df.to_csv('fertility_df.csv', index=False)"
     ],
     "language": "python",
     "metadata": {},
     "outputs": [],
     "prompt_number": 120
    },
    {
     "cell_type": "markdown",
     "metadata": {},
     "source": [
      "##3. Descriptive Statistics\n",
      "\n",
      "###3.1 What is the distribution of childbirths?"
     ]
    },
    {
     "cell_type": "code",
     "collapsed": false,
     "input": [
      "childbirths_per_res = [] # Number of childbirths per respondent\n",
      "\n",
      "for i, row in fer_df.iterrows():\n",
      "    fer_seq = row.values[1:].tolist()\n",
      "    childbirths_per_res.append(fer_seq.count(1))\n",
      "\n",
      "plt.hist(childbirths_per_res, bins=50)\n",
      "plt.title('Number of childbirths per respondent')\n",
      "plt.ylabel('Frequency')\n",
      "remove_border()   \n",
      "plt.show()\n",
      "\n",
      "print 'The number of childbirths per respondent'\n",
      "print 'Min:', min(childbirths_per_res)\n",
      "print 'Max:', max(childbirths_per_res)\n",
      "print 'Mean:', np.mean(childbirths_per_res)\n",
      "print 'Quantiles:', np.percentile(childbirths_per_res, 25), \\\n",
      "                np.percentile(childbirths_per_res, 50), \\\n",
      "                np.percentile(childbirths_per_res, 75)"
     ],
     "language": "python",
     "metadata": {},
     "outputs": [
      {
       "metadata": {},
       "output_type": "display_data",
       "png": "[encoded data removed]",
       "text": [
        "<matplotlib.figure.Figure at 0x1094a85d0>"
       ]
      },
      {
       "output_type": "stream",
       "stream": "stdout",
       "text": [
        "The number of childbirths per respondent\n",
        "Min: 1\n",
        "Max: 10\n",
        "Mean: 2.43963896202\n",
        "Quantiles: 2.0 2.0 3.0\n"
       ]
      }
     ],
     "prompt_number": 121
    },
    {
     "cell_type": "markdown",
     "metadata": {},
     "source": [
      "###3.2 What is the distribution of length between childbirths?\n",
      "\n",
      "More specifically, I'm looking at how many quarters are between childbirths. Keep in mind that 4 quarters = 1 year."
     ]
    },
    {
     "cell_type": "code",
     "collapsed": false,
     "input": [
      "lens = [] # Number of quarters between childbirths\n",
      "\n",
      "for i, row in fer_df.iterrows():\n",
      "    fer_seq = row.values[1:].tolist()\n",
      "    indices = list_duplicates_of(fer_seq, 1)\n",
      "    \n",
      "    for j in range(len(indices)-1):\n",
      "        lens.append(indices[j+1]-indices[j])\n",
      "\n",
      "\n",
      "plt.hist(lens, bins=71)\n",
      "plt.title('Number of quarters between childbirths')\n",
      "plt.ylabel('Frequency')\n",
      "remove_border()   \n",
      "plt.show()\n",
      "\n",
      "print 'The number of quarters between childbirths'\n",
      "print 'Min:', min(lens)\n",
      "print 'Max:', max(lens)\n",
      "print 'Mean:', np.mean(lens)\n",
      "print 'Mode:', Counter(lens).most_common(1)[0][0] \n",
      "print 'Quantiles:', np.percentile(lens, 25), np.percentile(lens, 50), np.percentile(lens, 75)"
     ],
     "language": "python",
     "metadata": {},
     "outputs": [
      {
       "metadata": {},
       "output_type": "display_data",
       "png": "[encoded data removed]",
       "text": [
        "<matplotlib.figure.Figure at 0x10a09d790>"
       ]
      },
      {
       "output_type": "stream",
       "stream": "stdout",
       "text": [
        "The number of quarters between childbirths\n",
        "Min: 2\n",
        "Max: 71\n",
        "Mean: 15.8782654127\n",
        "Mode: 8\n",
        "Quantiles: 8.0 12.0 20.0\n"
       ]
      }
     ],
     "prompt_number": 122
    },
    {
     "cell_type": "code",
     "collapsed": false,
     "input": [],
     "language": "python",
     "metadata": {},
     "outputs": []
    }
   ],
   "metadata": {}
  }
 ]
}