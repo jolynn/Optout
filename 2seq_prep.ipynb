{
 "metadata": {
  "name": ""
 },
 "nbformat": 3,
 "nbformat_minor": 0,
 "worksheets": [
  {
   "cells": [
    {
     "cell_type": "markdown",
     "metadata": {},
     "source": [
      "#Optout Project: \n",
      "#Part Two: Quarterly Sequence Preparation"
     ]
    },
    {
     "cell_type": "code",
     "collapsed": false,
     "input": [
      "#setup\n",
      "%matplotlib inline\n",
      "import numpy as np\n",
      "import matplotlib.pyplot as plt\n",
      "import pandas as pd\n",
      "import time\n",
      "import csv\n",
      "import calendar\n",
      "from collections import defaultdict\n",
      "from operator import itemgetter\n",
      "\n",
      "# set some nicer defaults for matplotlib\n",
      "from matplotlib import rcParams\n",
      "\n",
      "#these colors come from colorbrewer2.org. Each is an RGB triplet\n",
      "dark2_colors = [(0.10588235294117647, 0.6196078431372549, 0.4666666666666667),\n",
      "                (0.8509803921568627, 0.37254901960784315, 0.00784313725490196),\n",
      "                (0.4588235294117647, 0.4392156862745098, 0.7019607843137254),\n",
      "                (0.9058823529411765, 0.1607843137254902, 0.5411764705882353),\n",
      "                (0.4, 0.6509803921568628, 0.11764705882352941),\n",
      "                (0.9019607843137255, 0.6705882352941176, 0.00784313725490196),\n",
      "                (0.6509803921568628, 0.4627450980392157, 0.11372549019607843),\n",
      "                (0.4, 0.4, 0.4)]\n",
      "\n",
      "rcParams['figure.figsize'] = (10, 6)\n",
      "rcParams['figure.dpi'] = 150\n",
      "rcParams['axes.color_cycle'] = dark2_colors\n",
      "rcParams['lines.linewidth'] = 2\n",
      "rcParams['axes.grid'] = False\n",
      "rcParams['axes.facecolor'] = 'white'\n",
      "rcParams['font.size'] = 14\n",
      "rcParams['patch.edgecolor'] = 'none'\n",
      "\n",
      "def remove_border(axes=None, top=False, right=False, left=True, bottom=True):\n",
      "    \"\"\"\n",
      "    Minimize chartjunk by stripping out unnecessary plot borders and axis ticks\n",
      "    \n",
      "    The top/right/left/bottom keywords toggle whether the corresponding plot border is drawn\n",
      "    \"\"\"\n",
      "    ax = axes or plt.gca()\n",
      "    ax.spines['top'].set_visible(top)\n",
      "    ax.spines['right'].set_visible(right)\n",
      "    ax.spines['left'].set_visible(left)\n",
      "    ax.spines['bottom'].set_visible(bottom)\n",
      "    \n",
      "    #turn off all ticks\n",
      "    ax.yaxis.set_ticks_position('none')\n",
      "    ax.xaxis.set_ticks_position('none')\n",
      "    \n",
      "    #now re-enable visibles\n",
      "    if top:\n",
      "        ax.xaxis.tick_top()\n",
      "    if bottom:\n",
      "        ax.xaxis.tick_bottom()\n",
      "    if left:\n",
      "        ax.yaxis.tick_left()\n",
      "    if right:\n",
      "        ax.yaxis.tick_right()"
     ],
     "language": "python",
     "metadata": {},
     "outputs": [],
     "prompt_number": 1
    },
    {
     "cell_type": "markdown",
     "metadata": {},
     "source": [
      "##0. Define some useful functions"
     ]
    },
    {
     "cell_type": "code",
     "collapsed": false,
     "input": [
      "xl_file = pd.ExcelFile('continuous_week_crosswalk.xlsx')\n",
      "weekdf = xl_file.parse('weekdates1')\n",
      "print weekdf.shape\n",
      "weekdf.head()"
     ],
     "language": "python",
     "metadata": {},
     "outputs": [
      {
       "output_type": "stream",
       "stream": "stdout",
       "text": [
        "(1774, 5)\n"
       ]
      },
      {
       "html": [
        "<div style=\"max-height:1000px;max-width:1500px;overflow:auto;\">\n",
        "<table border=\"1\" class=\"dataframe\">\n",
        "  <thead>\n",
        "    <tr style=\"text-align: right;\">\n",
        "      <th></th>\n",
        "      <th>Week Start:\n",
        "Month</th>\n",
        "      <th>Week Start: \n",
        "Day</th>\n",
        "      <th>Week Start: \n",
        "Year</th>\n",
        "      <th>Calendar Year \n",
        "Week Number </th>\n",
        "      <th>Continuous \n",
        "Week Number</th>\n",
        "    </tr>\n",
        "  </thead>\n",
        "  <tbody>\n",
        "    <tr>\n",
        "      <th>0</th>\n",
        "      <td> 1</td>\n",
        "      <td>  1</td>\n",
        "      <td> 1978</td>\n",
        "      <td> 1</td>\n",
        "      <td> 1</td>\n",
        "    </tr>\n",
        "    <tr>\n",
        "      <th>1</th>\n",
        "      <td> 1</td>\n",
        "      <td>  8</td>\n",
        "      <td> 1978</td>\n",
        "      <td> 2</td>\n",
        "      <td> 2</td>\n",
        "    </tr>\n",
        "    <tr>\n",
        "      <th>2</th>\n",
        "      <td> 1</td>\n",
        "      <td> 15</td>\n",
        "      <td> 1978</td>\n",
        "      <td> 3</td>\n",
        "      <td> 3</td>\n",
        "    </tr>\n",
        "    <tr>\n",
        "      <th>3</th>\n",
        "      <td> 1</td>\n",
        "      <td> 22</td>\n",
        "      <td> 1978</td>\n",
        "      <td> 4</td>\n",
        "      <td> 4</td>\n",
        "    </tr>\n",
        "    <tr>\n",
        "      <th>4</th>\n",
        "      <td> 1</td>\n",
        "      <td> 29</td>\n",
        "      <td> 1978</td>\n",
        "      <td> 5</td>\n",
        "      <td> 5</td>\n",
        "    </tr>\n",
        "  </tbody>\n",
        "</table>\n",
        "</div>"
       ],
       "metadata": {},
       "output_type": "pyout",
       "prompt_number": 2,
       "text": [
        "   Week Start:\\nMonth  Week Start: \\nDay  Week Start: \\nYear  \\\n",
        "0                   1                  1                1978   \n",
        "1                   1                  8                1978   \n",
        "2                   1                 15                1978   \n",
        "3                   1                 22                1978   \n",
        "4                   1                 29                1978   \n",
        "\n",
        "   Calendar Year \\nWeek Number   Continuous \\nWeek Number  \n",
        "0                             1                         1  \n",
        "1                             2                         2  \n",
        "2                             3                         3  \n",
        "3                             4                         4  \n",
        "4                             5                         5  "
       ]
      }
     ],
     "prompt_number": 2
    },
    {
     "cell_type": "code",
     "collapsed": false,
     "input": [
      "def get_week_num(year, month, which, df=weekdf):\n",
      "    \"\"\"Given a year and month in the calendar, \n",
      "    return the corresponding week number in NLSY79\n",
      "    using coutinuous_week_crosswalk.xlsx\n",
      "    \n",
      "    if which=='first', return the first week in that month\n",
      "    if which=='last', return the last week in that month \n",
      "    \"\"\"\n",
      "\n",
      "    \n",
      "    #column names in weekdf:\n",
      "    #u'Week Start:\\nMonth'\n",
      "    #u'Week Start: \\nDay'\n",
      "    #u'Week Start: \\nYear'\n",
      "    #u'Calendar Year \\nWeek Number '\n",
      "    #u'Continuous \\nWeek Number'\n",
      "    \n",
      "    that_month = weekdf[(weekdf['Week Start:\\nMonth']==month)&(weekdf['Week Start: \\nYear']==year)]\n",
      "    \n",
      "    if which == 'first':\n",
      "        return int(that_month.iloc[0]['Continuous \\nWeek Number'])\n",
      "    elif which == 'last':\n",
      "        return int(that_month.iloc[len(that_month)-1]['Continuous \\nWeek Number'])"
     ],
     "language": "python",
     "metadata": {},
     "outputs": [],
     "prompt_number": 3
    },
    {
     "cell_type": "code",
     "collapsed": false,
     "input": [
      "def get_year_month(weeknum, df=weekdf):\n",
      "    \"\"\"Given a week number, return the corresponding month and year (yyyy, m).\n",
      "    \"\"\"\n",
      "    \n",
      "    #column names in weekdf:\n",
      "    #u'Week Start:\\nMonth'\n",
      "    #u'Week Start: \\nDay'\n",
      "    #u'Week Start: \\nYear'\n",
      "    #u'Calendar Year \\nWeek Number '\n",
      "    #u'Continuous \\nWeek Number'\n",
      "    \n",
      "    that_week = weekdf[weekdf['Continuous \\nWeek Number']==weeknum]\n",
      "    return int(that_week.iloc[0]['Week Start: \\nYear']), int(that_week.iloc[0]['Week Start:\\nMonth'])"
     ],
     "language": "python",
     "metadata": {},
     "outputs": [],
     "prompt_number": 4
    },
    {
     "cell_type": "code",
     "collapsed": false,
     "input": [
      "def list_duplicates_of(seq,item):\n",
      "    \"\"\"\n",
      "    a function to return the indexes of duplicate items in a list (as a list)\n",
      "    \"\"\"\n",
      "    start_at = -1\n",
      "    locs = []\n",
      "    while True:\n",
      "        try:\n",
      "            loc = seq.index(item,start_at+1)\n",
      "        except ValueError:\n",
      "            break\n",
      "        else:\n",
      "            locs.append(loc)\n",
      "            start_at = loc\n",
      "    return locs"
     ],
     "language": "python",
     "metadata": {},
     "outputs": [],
     "prompt_number": 5
    },
    {
     "cell_type": "code",
     "collapsed": false,
     "input": [
      "def check_distribution(value, df, start_value):\n",
      "    \"\"\"\n",
      "    A function to exmine the distribution of the given value in the given dataframe\n",
      "    \n",
      "    start_value is the column number starting from which are our actual data. \n",
      "    e.g. here we want only to examine the distribution of certain values in the weekly status,\n",
      "    so the columns id, start_y, start_m, and start_week are not relevant, and we want to skip\n",
      "    those columns, so the start_value will be 4.\n",
      "    \"\"\"   \n",
      "    \n",
      "    ###how many respondents have the given value in their sequences?\n",
      "    indices_by_person = []\n",
      "    for i, row in df.iterrows():\n",
      "        \n",
      "        if value in row.values[start_value:]: \n",
      "            seq = row.values[start_value:].tolist()\n",
      "            \n",
      "            #find the list of the given value's positions in the sequence\n",
      "            indices_by_person.append(list_duplicates_of(seq, value))  \n",
      "            \n",
      "    print '%s respondents have some weeks of status %s'%(len(indices_by_person), value)\n",
      "    print\n",
      "    \n",
      "    ###how many such weeks are in each respondent's sequence?\n",
      "    count_by_person = [len(l) for l in indices_by_person]\n",
      "    plt.hist(count_by_person, bins=50)\n",
      "    plt.title('Count of Weeks of Status %s per Respondent\\n(Not Considering Whether Continuously distributed or Not)'%value)\n",
      "    plt.ylabel('Frequency')\n",
      "    remove_border()\n",
      "    plt.show()    \n",
      "    print 'The number of weeks with %s status per respondent'%value\n",
      "    print 'Min:', min(count_by_person)\n",
      "    print 'Max:', max(count_by_person)\n",
      "    print 'Mean:', np.mean(count_by_person)\n",
      "    print 'Quantiles:', np.percentile(count_by_person, 25), \\\n",
      "                        np.percentile(count_by_person, 50), \\\n",
      "                        np.percentile(count_by_person, 75)\n",
      "    print\n",
      " \n",
      "    ###Overall gap lengths of the given status?\n",
      "    gaps_by_person = [] \n",
      "    total_gaps = []\n",
      "    for indices in indices_by_person:\n",
      "        gap_len_for_this_person = []\n",
      "        start = 0 #count the start pos of each continuous gap\n",
      "        while start < len(indices):\n",
      "            i = 0\n",
      "            while start+i+1<len(indices) and indices[start+i+1]==indices[start+i]+1:\n",
      "                i += 1\n",
      "            gap_len_for_this_person.append(i+1)\n",
      "            total_gaps.append(i+1)\n",
      "            start += i+1\n",
      "        gaps_by_person.append(gap_len_for_this_person)    \n",
      "    \n",
      "    plt.hist(total_gaps, bins=50)\n",
      "    plt.title('Lengths of Spells of Status %s'%value)\n",
      "    plt.ylabel('Frequency')\n",
      "    remove_border()   \n",
      "    plt.show()\n",
      "    print 'The total number of spells of status %s: %s'%(value, len(total_gaps))        \n",
      "    print 'The lengths of spells of status %s'%value\n",
      "    print 'Min:', min(total_gaps)\n",
      "    print 'Max:', max(total_gaps)\n",
      "    print 'Mean:', np.mean(total_gaps)\n",
      "    print 'Quantiles:', np.percentile(total_gaps, 25), \\\n",
      "                    np.percentile(total_gaps, 50), \\\n",
      "                    np.percentile(total_gaps, 75)\n",
      "    print\n",
      "\n",
      "    \n",
      "    ###how many 'gaps' of the given status per respondent?\n",
      "    count_gaps_by_person = [len(gaps_per_person) for gaps_per_person in gaps_by_person]\n",
      "    plt.hist(count_gaps_by_person, bins=50)\n",
      "    plt.title('Number of Spells of Status %s Per Respondents'%value)\n",
      "    plt.ylabel('Frequency')\n",
      "    remove_border()    \n",
      "    plt.show()    \n",
      "    print 'The number of spells of status %s per respondent'%value\n",
      "    print 'Min:', min(count_gaps_by_person)\n",
      "    print 'Max:', max(count_gaps_by_person)\n",
      "    print 'Mean:', np.mean(count_gaps_by_person)\n",
      "    print 'Quantiles:', np.percentile(count_gaps_by_person, 25), \\\n",
      "                    np.percentile(count_gaps_by_person, 50), \\\n",
      "                    np.percentile(count_gaps_by_person, 75)    "
     ],
     "language": "python",
     "metadata": {},
     "outputs": [],
     "prompt_number": 6
    },
    {
     "cell_type": "markdown",
     "metadata": {},
     "source": [
      "##1. Examine what combos of weekly hours and status variables there are\n",
      "\n",
      "The sequence starts in the month after the respondent's first childbirth. Assume the childbirth took place in the last week of the month. The sequence ends 18 years after the first childbirths. \n",
      "\n",
      "Assume 13 weeks per quarter."
     ]
    },
    {
     "cell_type": "code",
     "collapsed": false,
     "input": [
      "df = pd.read_csv('employmentseq.csv')\n",
      "print df.shape"
     ],
     "language": "python",
     "metadata": {},
     "outputs": [
      {
       "output_type": "stream",
       "stream": "stdout",
       "text": [
        "(2659, 3489)\n"
       ]
      }
     ],
     "prompt_number": 7
    },
    {
     "cell_type": "markdown",
     "metadata": {},
     "source": [
      "What values could the weekly hours and status variables take on?\n",
      "\n",
      "* types of missings:  \n",
      "    * .a (refusal), \n",
      "    * .b (don't know), \n",
      "    * .c (invalid skip), \n",
      "    * .d (valid skip), \n",
      "    * .e (noninterview), \n",
      "    * .f (invalid hours, such as negative working hours)\n",
      "\n",
      "* hours: 0-99\n",
      "\n",
      "* status: 100-2410, 0, 2, 3, 4, 5, 7\n",
      "\n",
      "    * both hours and status may have missing values: .a, .b, ..., .f\n",
      "\n",
      "Edit hours and status into the following types:\n",
      "\n",
      "* hours: missing, 0, pt (part-time, <35), ft(full-time, >=35)\n",
      "\n",
      "* status: w (working, code 100-2410), 0, 2, 3, 4, 5, 7\n",
      "    \n",
      "Check out what combos of hours and status are there in total? "
     ]
    },
    {
     "cell_type": "code",
     "collapsed": false,
     "input": [
      "combo = defaultdict(list)\n",
      "\n",
      "missing_values = ['.a', '.b', '.c', '.d', '.e', '.f'] \n",
      "#'.f' is added by me to indicate invalid values, \n",
      "#such as -8 as hours worked in week 1268 for respondent id 7232\n",
      "\n",
      "for i, row in df.iterrows():\n",
      "    \n",
      "    #to keep track of progress\n",
      "    if i%100 == 0: \n",
      "        print i\n",
      "    \n",
      "    #only want employment status data from 1978 to 2009 --- week 1 to week 1670\n",
      "    for week_num in range(1, 1671):\n",
      "        \n",
      "        #get the hours worked this week\n",
      "        hours = row['hrs_worked_wk_num%04d'%week_num]\n",
      "        if type(hours) == int:\n",
      "            pass\n",
      "        elif type(hours) == str and hours.isdigit():\n",
      "            hours = int(hours)\n",
      "        else: #there might be missing data\n",
      "            if hours in missing_values:\n",
      "                pass\n",
      "            elif int(hours) < 0:\n",
      "                hours = '.f'\n",
      "            else:\n",
      "                print 'wrong hours data, id %s, week %s'%(row['id'], week_num)\n",
      "    \n",
      "        #get the employment status this week\n",
      "        status = row['status_wk_num%04d'%week_num]\n",
      "        \n",
      "        assert type(status) == int, 'wrong assertion of status type'\n",
      "        \n",
      "        if (status >= 100 and status <= 2410):\n",
      "            status = 'w' #working\n",
      "        \n",
      "        if type(hours) == int and hours >= 35:\n",
      "            hours = 'ft' #full-time working hours\n",
      "        elif type(hours) == int and hours > 0 and hours < 35:\n",
      "            hours = 'pt' #part-time working hours\n",
      "        \n",
      "        combo[(hours, status)].append(row['id'])"
     ],
     "language": "python",
     "metadata": {},
     "outputs": [
      {
       "output_type": "stream",
       "stream": "stdout",
       "text": [
        "0\n",
        "100"
       ]
      },
      {
       "output_type": "stream",
       "stream": "stdout",
       "text": [
        "\n",
        "200"
       ]
      },
      {
       "output_type": "stream",
       "stream": "stdout",
       "text": [
        "\n",
        "300"
       ]
      },
      {
       "output_type": "stream",
       "stream": "stdout",
       "text": [
        "\n",
        "400"
       ]
      },
      {
       "output_type": "stream",
       "stream": "stdout",
       "text": [
        "\n",
        "500"
       ]
      },
      {
       "output_type": "stream",
       "stream": "stdout",
       "text": [
        "\n",
        "600"
       ]
      },
      {
       "output_type": "stream",
       "stream": "stdout",
       "text": [
        "\n",
        "700"
       ]
      },
      {
       "output_type": "stream",
       "stream": "stdout",
       "text": [
        "\n",
        "800"
       ]
      },
      {
       "output_type": "stream",
       "stream": "stdout",
       "text": [
        "\n",
        "900"
       ]
      },
      {
       "output_type": "stream",
       "stream": "stdout",
       "text": [
        "\n",
        "1000"
       ]
      },
      {
       "output_type": "stream",
       "stream": "stdout",
       "text": [
        "\n",
        "1100"
       ]
      },
      {
       "output_type": "stream",
       "stream": "stdout",
       "text": [
        "\n",
        "1200"
       ]
      },
      {
       "output_type": "stream",
       "stream": "stdout",
       "text": [
        "\n",
        "1300"
       ]
      },
      {
       "output_type": "stream",
       "stream": "stdout",
       "text": [
        "\n",
        "1400"
       ]
      },
      {
       "output_type": "stream",
       "stream": "stdout",
       "text": [
        "\n",
        "1500"
       ]
      },
      {
       "output_type": "stream",
       "stream": "stdout",
       "text": [
        "\n",
        "1600"
       ]
      },
      {
       "output_type": "stream",
       "stream": "stdout",
       "text": [
        "\n",
        "1700"
       ]
      },
      {
       "output_type": "stream",
       "stream": "stdout",
       "text": [
        "\n",
        "1800"
       ]
      },
      {
       "output_type": "stream",
       "stream": "stdout",
       "text": [
        "\n",
        "1900"
       ]
      },
      {
       "output_type": "stream",
       "stream": "stdout",
       "text": [
        "\n",
        "2000"
       ]
      },
      {
       "output_type": "stream",
       "stream": "stdout",
       "text": [
        "\n",
        "2100"
       ]
      },
      {
       "output_type": "stream",
       "stream": "stdout",
       "text": [
        "\n",
        "2200"
       ]
      },
      {
       "output_type": "stream",
       "stream": "stdout",
       "text": [
        "\n",
        "2300"
       ]
      },
      {
       "output_type": "stream",
       "stream": "stdout",
       "text": [
        "\n",
        "2400"
       ]
      },
      {
       "output_type": "stream",
       "stream": "stdout",
       "text": [
        "\n",
        "2500"
       ]
      },
      {
       "output_type": "stream",
       "stream": "stdout",
       "text": [
        "\n",
        "2600"
       ]
      },
      {
       "output_type": "stream",
       "stream": "stdout",
       "text": [
        "\n"
       ]
      }
     ],
     "prompt_number": 8
    },
    {
     "cell_type": "code",
     "collapsed": false,
     "input": [
      "len(combo)"
     ],
     "language": "python",
     "metadata": {},
     "outputs": [
      {
       "metadata": {},
       "output_type": "pyout",
       "prompt_number": 9,
       "text": [
        "17"
       ]
      }
     ],
     "prompt_number": 9
    },
    {
     "cell_type": "markdown",
     "metadata": {},
     "source": [
      "There are 17 types of combinations in total"
     ]
    },
    {
     "cell_type": "code",
     "collapsed": false,
     "input": [
      "# Print the combo and its frequency\n",
      "for (k, v) in combo.items():\n",
      "    print k, len(v)"
     ],
     "language": "python",
     "metadata": {},
     "outputs": [
      {
       "output_type": "stream",
       "stream": "stdout",
       "text": [
        "(0, 'w') 3398\n",
        "(0, 0) 129615\n",
        "('.c', 4) 15\n",
        "('.c', 5) 267\n",
        "('.c', 2) 1\n",
        "(0, 4) 216014\n",
        "('.a', 'w') 1\n",
        "('.c', 3) 620\n",
        "('.c', 'w') 20607\n",
        "('pt', 3) 2528\n",
        "(0, 5) 1282771\n",
        "('ft', 'w') 2089369\n",
        "('ft', 3) 2078\n",
        "('pt', 'w') 663111\n",
        "(0, 7) 8490\n",
        "(0, 2) 21644\n",
        "('.f', 'w') 1\n"
       ]
      }
     ],
     "prompt_number": 10
    },
    {
     "cell_type": "markdown",
     "metadata": {},
     "source": [
      "##2. Convert values according to customized scheme of employment status"
     ]
    },
    {
     "cell_type": "markdown",
     "metadata": {},
     "source": [
      "Edit the values of employment staus in seq_df. Turn all of them into numeric values. Create a new dataframe with the edited data.\n",
      "\n",
      "* 0\t- Missing both hours and status\t(0, 0)\n",
      "* 1\t- Full-time working\t('ft', 'w'), ('ft', 3)\n",
      "* 1.5 - Working, missing hours\t('.f', 'w'), ('.c', 'w'), ('.c', 3), ('.a', 'w'), (0, 'w')\n",
      "* 2 - Part-time working\t('pt', 'w'), ('pt', 3)\n",
      "* 3 - Undetermined (unemployed or OOLF)\t(0, 2), ('.c', 2)\n",
      "* 4\t- Unemployed \t('.c', 4), (0, 4)\n",
      "* 5\t- OOLF\t('.c', 5), (0, 5)\n",
      "* 6\t- Military\t(0, 7)\n",
      "* 7 - In school (to be determined from missing, undetermined, or sOOLF weeks)"
     ]
    },
    {
     "cell_type": "code",
     "collapsed": false,
     "input": [
      "# Create a dictionary to store data\n",
      "data = defaultdict(list)\n",
      "\n",
      "missing_values = ['.a', '.b', '.c', '.d', '.e', '.f'] \n",
      "#'.f' is added by me to indicate invalid values, \n",
      "#such as -8 as hours worked in week 1268 for respondent id 7232\n",
      "\n",
      "for i, row in df.iterrows():\n",
      "\n",
      "    #to keep track of progress\n",
      "    if i%100 == 0: \n",
      "        print i\n",
      "\n",
      "    #keep three columns: id, start_y, start_m\n",
      "    data['id'].append(row['id'])\n",
      "    data['start_y'].append(row['start_y'])\n",
      "    data['start_m'].append(row['start_m'])\n",
      "    \n",
      "    #add week number derived from continuous_week_crosswalk.xlsx\n",
      "    data['start_week'].append(get_week_num(row['start_y'], row['start_m'], 'first'))\n",
      "       \n",
      "        \n",
      "    #only want employment status data from 1978 to 2009 --- week 1 to week 1670\n",
      "    for week_num in range(1, 1671):\n",
      "        \n",
      "        #get the hours worked this week\n",
      "        hours = row['hrs_worked_wk_num%04d'%week_num]\n",
      "        if type(hours) == int:\n",
      "            pass\n",
      "        elif type(hours) == str and hours.isdigit():\n",
      "            hours = int(hours)\n",
      "        else: #there might be missing data\n",
      "            if hours in missing_values:\n",
      "                pass\n",
      "            elif int(hours) < 0:\n",
      "                hours = '.f'\n",
      "            else:\n",
      "                print 'wrong hours data, id %s, week %s'%(row['id'], week_num)\n",
      "    \n",
      "        #get the employment status this week\n",
      "        status = row['status_wk_num%04d'%week_num]\n",
      "        \n",
      "        assert type(status) == int, 'wrong assertion of status type'\n",
      "\n",
      "        \n",
      "        if (status >= 100 and status <= 2410):\n",
      "            status = 'w' #working\n",
      "        \n",
      "        if type(hours) == int and hours >= 35:\n",
      "            hours = 'ft' #full-time working hours\n",
      "        elif type(hours) == int and hours > 0 and hours < 35:\n",
      "            hours = 'pt' #part-time working hours\n",
      "        \n",
      "       #define employment status according to my classification scheme\n",
      "        my_status = None\n",
      "        \n",
      "        if hours == 0 and status == 0:\n",
      "            my_status = 0\n",
      "        elif hours == 'ft' and status in ['w', 3]:\n",
      "            my_status = 1\n",
      "        elif hours in ['.f', '.c', '.a', 0] and status in ['w', 3]:\n",
      "            my_status = 1.5\n",
      "        elif hours == 'pt' and status in ['w', 3]:\n",
      "            my_status = 2\n",
      "        elif hours in [0, '.c'] and status == 2:\n",
      "            my_status = 3\n",
      "        elif hours in [0, '.c'] and status == 4:\n",
      "            my_status = 4\n",
      "        elif hours in [0, '.c'] and status == 5:\n",
      "            my_status = 5\n",
      "        elif hours == 0 and status == 7:\n",
      "            my_status = 6\n",
      "        else:\n",
      "            raise Exception, 'unknown combo: (%s, %s)'%(hours, status)\n",
      "            \n",
      "        data['week%s'%(week_num-1)].append(my_status) #make the week number start from 0, easier for indexing in Python"
     ],
     "language": "python",
     "metadata": {},
     "outputs": [
      {
       "output_type": "stream",
       "stream": "stdout",
       "text": [
        "0\n",
        "100"
       ]
      },
      {
       "output_type": "stream",
       "stream": "stdout",
       "text": [
        "\n",
        "200"
       ]
      },
      {
       "output_type": "stream",
       "stream": "stdout",
       "text": [
        "\n",
        "300"
       ]
      },
      {
       "output_type": "stream",
       "stream": "stdout",
       "text": [
        "\n",
        "400"
       ]
      },
      {
       "output_type": "stream",
       "stream": "stdout",
       "text": [
        "\n",
        "500"
       ]
      },
      {
       "output_type": "stream",
       "stream": "stdout",
       "text": [
        "\n",
        "600"
       ]
      },
      {
       "output_type": "stream",
       "stream": "stdout",
       "text": [
        "\n",
        "700"
       ]
      },
      {
       "output_type": "stream",
       "stream": "stdout",
       "text": [
        "\n",
        "800"
       ]
      },
      {
       "output_type": "stream",
       "stream": "stdout",
       "text": [
        "\n",
        "900"
       ]
      },
      {
       "output_type": "stream",
       "stream": "stdout",
       "text": [
        "\n",
        "1000"
       ]
      },
      {
       "output_type": "stream",
       "stream": "stdout",
       "text": [
        "\n",
        "1100"
       ]
      },
      {
       "output_type": "stream",
       "stream": "stdout",
       "text": [
        "\n",
        "1200"
       ]
      },
      {
       "output_type": "stream",
       "stream": "stdout",
       "text": [
        "\n",
        "1300"
       ]
      },
      {
       "output_type": "stream",
       "stream": "stdout",
       "text": [
        "\n",
        "1400"
       ]
      },
      {
       "output_type": "stream",
       "stream": "stdout",
       "text": [
        "\n",
        "1500"
       ]
      },
      {
       "output_type": "stream",
       "stream": "stdout",
       "text": [
        "\n",
        "1600"
       ]
      },
      {
       "output_type": "stream",
       "stream": "stdout",
       "text": [
        "\n",
        "1700"
       ]
      },
      {
       "output_type": "stream",
       "stream": "stdout",
       "text": [
        "\n",
        "1800"
       ]
      },
      {
       "output_type": "stream",
       "stream": "stdout",
       "text": [
        "\n",
        "1900"
       ]
      },
      {
       "output_type": "stream",
       "stream": "stdout",
       "text": [
        "\n",
        "2000"
       ]
      },
      {
       "output_type": "stream",
       "stream": "stdout",
       "text": [
        "\n",
        "2100"
       ]
      },
      {
       "output_type": "stream",
       "stream": "stdout",
       "text": [
        "\n",
        "2200"
       ]
      },
      {
       "output_type": "stream",
       "stream": "stdout",
       "text": [
        "\n",
        "2300"
       ]
      },
      {
       "output_type": "stream",
       "stream": "stdout",
       "text": [
        "\n",
        "2400"
       ]
      },
      {
       "output_type": "stream",
       "stream": "stdout",
       "text": [
        "\n",
        "2500"
       ]
      },
      {
       "output_type": "stream",
       "stream": "stdout",
       "text": [
        "\n",
        "2600"
       ]
      },
      {
       "output_type": "stream",
       "stream": "stdout",
       "text": [
        "\n"
       ]
      }
     ],
     "prompt_number": 11
    },
    {
     "cell_type": "code",
     "collapsed": false,
     "input": [
      "#create the new dataframe with my edited employment status\n",
      "\n",
      "#order the columns in the new dataframe\n",
      "cols = ['id', 'start_y', 'start_m', 'start_week'] + ['week%s'%n for n in range(1670)]\n",
      "\n",
      "full_df = pd.DataFrame(data, columns=cols)"
     ],
     "language": "python",
     "metadata": {},
     "outputs": [],
     "prompt_number": 12
    },
    {
     "cell_type": "code",
     "collapsed": false,
     "input": [
      "#save the full dataframe to csv\n",
      "full_df.to_csv('full_df_original.csv', index=False)"
     ],
     "language": "python",
     "metadata": {},
     "outputs": [],
     "prompt_number": 13
    },
    {
     "cell_type": "code",
     "collapsed": false,
     "input": [
      "#check the data for the first respondent (id 3)\n",
      "full_df.iloc[0]"
     ],
     "language": "python",
     "metadata": {},
     "outputs": [
      {
       "metadata": {},
       "output_type": "pyout",
       "prompt_number": 14,
       "text": [
        "id               3\n",
        "start_y       1981\n",
        "start_m          7\n",
        "start_week     184\n",
        "week0            5\n",
        "week1            5\n",
        "week2            4\n",
        "week3            5\n",
        "week4            1\n",
        "week5            1\n",
        "week6            1\n",
        "week7            1\n",
        "week8            1\n",
        "week9            1\n",
        "week10           1\n",
        "...\n",
        "week1655    0\n",
        "week1656    0\n",
        "week1657    0\n",
        "week1658    0\n",
        "week1659    0\n",
        "week1660    0\n",
        "week1661    0\n",
        "week1662    0\n",
        "week1663    0\n",
        "week1664    0\n",
        "week1665    0\n",
        "week1666    0\n",
        "week1667    0\n",
        "week1668    0\n",
        "week1669    0\n",
        "Name: 0, Length: 1674, dtype: float64"
       ]
      }
     ],
     "prompt_number": 14
    },
    {
     "cell_type": "markdown",
     "metadata": {},
     "source": [
      "##3. Construct a sub-dataframe of employment history during 18 years (i.e. 72-quarter, i.e. 936-week) after first childbirth"
     ]
    },
    {
     "cell_type": "code",
     "collapsed": false,
     "input": [
      "#create restricted sequence data, restricted to the 72 quarters (936 weeks)\n",
      "res_data = defaultdict(list)\n",
      "\n",
      "for i, row in full_df.iterrows():\n",
      "    res_data['id'].append(row['id'])\n",
      "    \n",
      "    start_wk = int(get_week_num(row['start_y'], row['start_m'], 'first')) \n",
      "    res_data['start_week'].append(start_wk)\n",
      "    \n",
      "    for j in range(936):\n",
      "        res_data['week%s'%j].append(row['week%s'%(start_wk+j)])\n",
      "        \n",
      "cols = ['id', 'start_week'] + ['week%s'%i for i in range(936)]\n",
      "res_df = pd.DataFrame(res_data, columns=cols) #restricted dataframe"
     ],
     "language": "python",
     "metadata": {},
     "outputs": [],
     "prompt_number": 15
    },
    {
     "cell_type": "code",
     "collapsed": false,
     "input": [
      "#save new dataframe to csv\n",
      "res_df.to_csv('res_df_original.csv', index=False)\n",
      "\n",
      "#check the dimensions of the new dataframe\n",
      "print res_df.shape\n",
      "\n",
      "#check the data of the first respondent \n",
      "print res_df.iloc[0]"
     ],
     "language": "python",
     "metadata": {},
     "outputs": [
      {
       "output_type": "stream",
       "stream": "stdout",
       "text": [
        "(2659, 938)\n",
        "id              3\n",
        "start_week    184\n",
        "week0           5\n",
        "week1           5\n",
        "week2           5\n",
        "week3           5\n",
        "week4           5\n",
        "week5           5\n",
        "week6           5\n",
        "week7           5\n",
        "week8           5\n",
        "week9           5\n",
        "week10          5\n",
        "week11          5\n",
        "week12          5\n",
        "...\n",
        "week921    1\n",
        "week922    1\n",
        "week923    1\n",
        "week924    1\n",
        "week925    1\n",
        "week926    1\n",
        "week927    1\n",
        "week928    1\n",
        "week929    1\n",
        "week930    1\n",
        "week931    1\n",
        "week932    1\n",
        "week933    1\n",
        "week934    1\n",
        "week935    1\n",
        "Name: 0, Length: 938, dtype: float64\n"
       ]
      }
     ],
     "prompt_number": 16
    },
    {
     "cell_type": "markdown",
     "metadata": {},
     "source": [
      "##4. Check missingness in the last years' employment"
     ]
    },
    {
     "cell_type": "code",
     "collapsed": false,
     "input": [
      "#for each respondent, find the weeks in each of her last three years with valid data, \n",
      "#and calculate the percentage of missingness in each year\n",
      "\n",
      "res = defaultdict(list) #create a dictionary object to store results\n",
      "\n",
      "for i, row in res_df.iterrows():\n",
      "    if i % 100 == 0:\n",
      "        print i\n",
      "        \n",
      "    res['id'].append(row['id'])\n",
      "    \n",
      "    #assume there are 52 weeks in a year, so check employment data in the last 52 weeks \n",
      "    seq1 = [res_df.at[i, 'week%s'%w] for w in range(884, 936)]\n",
      "    res['last_yr_%'].append((seq1.count(0))/52.0)\n",
      "    \n",
      "    seq2 = [res_df.at[i, 'week%s'%w] for w in range(832, 884)]\n",
      "    res['second_last_yr_%'].append((seq2.count(0))/52.0)\n",
      "    \n",
      "    seq3 = [res_df.at[i, 'week%s'%w] for w in range(780, 832)]\n",
      "    res['third_last_yr_%'].append((seq3.count(0))/52.0)    "
     ],
     "language": "python",
     "metadata": {},
     "outputs": [
      {
       "output_type": "stream",
       "stream": "stdout",
       "text": [
        "0\n",
        "100"
       ]
      },
      {
       "output_type": "stream",
       "stream": "stdout",
       "text": [
        "\n",
        "200"
       ]
      },
      {
       "output_type": "stream",
       "stream": "stdout",
       "text": [
        "\n",
        "300"
       ]
      },
      {
       "output_type": "stream",
       "stream": "stdout",
       "text": [
        "\n",
        "400"
       ]
      },
      {
       "output_type": "stream",
       "stream": "stdout",
       "text": [
        "\n",
        "500"
       ]
      },
      {
       "output_type": "stream",
       "stream": "stdout",
       "text": [
        "\n",
        "600"
       ]
      },
      {
       "output_type": "stream",
       "stream": "stdout",
       "text": [
        "\n",
        "700"
       ]
      },
      {
       "output_type": "stream",
       "stream": "stdout",
       "text": [
        "\n",
        "800"
       ]
      },
      {
       "output_type": "stream",
       "stream": "stdout",
       "text": [
        "\n",
        "900"
       ]
      },
      {
       "output_type": "stream",
       "stream": "stdout",
       "text": [
        "\n",
        "1000"
       ]
      },
      {
       "output_type": "stream",
       "stream": "stdout",
       "text": [
        "\n",
        "1100"
       ]
      },
      {
       "output_type": "stream",
       "stream": "stdout",
       "text": [
        "\n",
        "1200"
       ]
      },
      {
       "output_type": "stream",
       "stream": "stdout",
       "text": [
        "\n",
        "1300"
       ]
      },
      {
       "output_type": "stream",
       "stream": "stdout",
       "text": [
        "\n",
        "1400"
       ]
      },
      {
       "output_type": "stream",
       "stream": "stdout",
       "text": [
        "\n",
        "1500"
       ]
      },
      {
       "output_type": "stream",
       "stream": "stdout",
       "text": [
        "\n",
        "1600"
       ]
      },
      {
       "output_type": "stream",
       "stream": "stdout",
       "text": [
        "\n",
        "1700"
       ]
      },
      {
       "output_type": "stream",
       "stream": "stdout",
       "text": [
        "\n",
        "1800"
       ]
      },
      {
       "output_type": "stream",
       "stream": "stdout",
       "text": [
        "\n",
        "1900"
       ]
      },
      {
       "output_type": "stream",
       "stream": "stdout",
       "text": [
        "\n",
        "2000"
       ]
      },
      {
       "output_type": "stream",
       "stream": "stdout",
       "text": [
        "\n",
        "2100"
       ]
      },
      {
       "output_type": "stream",
       "stream": "stdout",
       "text": [
        "\n",
        "2200"
       ]
      },
      {
       "output_type": "stream",
       "stream": "stdout",
       "text": [
        "\n",
        "2300"
       ]
      },
      {
       "output_type": "stream",
       "stream": "stdout",
       "text": [
        "\n",
        "2400"
       ]
      },
      {
       "output_type": "stream",
       "stream": "stdout",
       "text": [
        "\n",
        "2500"
       ]
      },
      {
       "output_type": "stream",
       "stream": "stdout",
       "text": [
        "\n",
        "2600"
       ]
      },
      {
       "output_type": "stream",
       "stream": "stdout",
       "text": [
        "\n"
       ]
      }
     ],
     "prompt_number": 17
    },
    {
     "cell_type": "code",
     "collapsed": false,
     "input": [
      "missingness_df = pd.DataFrame(res)\n",
      "missingness_df.head()"
     ],
     "language": "python",
     "metadata": {},
     "outputs": [
      {
       "html": [
        "<div style=\"max-height:1000px;max-width:1500px;overflow:auto;\">\n",
        "<table border=\"1\" class=\"dataframe\">\n",
        "  <thead>\n",
        "    <tr style=\"text-align: right;\">\n",
        "      <th></th>\n",
        "      <th>id</th>\n",
        "      <th>last_yr_%</th>\n",
        "      <th>second_last_yr_%</th>\n",
        "      <th>third_last_yr_%</th>\n",
        "    </tr>\n",
        "  </thead>\n",
        "  <tbody>\n",
        "    <tr>\n",
        "      <th>0</th>\n",
        "      <td>  3</td>\n",
        "      <td> 0.000000</td>\n",
        "      <td> 0</td>\n",
        "      <td> 0</td>\n",
        "    </tr>\n",
        "    <tr>\n",
        "      <th>1</th>\n",
        "      <td>  4</td>\n",
        "      <td> 0.192308</td>\n",
        "      <td> 0</td>\n",
        "      <td> 0</td>\n",
        "    </tr>\n",
        "    <tr>\n",
        "      <th>2</th>\n",
        "      <td> 16</td>\n",
        "      <td> 0.000000</td>\n",
        "      <td> 0</td>\n",
        "      <td> 0</td>\n",
        "    </tr>\n",
        "    <tr>\n",
        "      <th>3</th>\n",
        "      <td> 19</td>\n",
        "      <td> 0.000000</td>\n",
        "      <td> 0</td>\n",
        "      <td> 0</td>\n",
        "    </tr>\n",
        "    <tr>\n",
        "      <th>4</th>\n",
        "      <td> 20</td>\n",
        "      <td> 0.250000</td>\n",
        "      <td> 0</td>\n",
        "      <td> 0</td>\n",
        "    </tr>\n",
        "  </tbody>\n",
        "</table>\n",
        "</div>"
       ],
       "metadata": {},
       "output_type": "pyout",
       "prompt_number": 18,
       "text": [
        "   id  last_yr_%  second_last_yr_%  third_last_yr_%\n",
        "0   3   0.000000                 0                0\n",
        "1   4   0.192308                 0                0\n",
        "2  16   0.000000                 0                0\n",
        "3  19   0.000000                 0                0\n",
        "4  20   0.250000                 0                0"
       ]
      }
     ],
     "prompt_number": 18
    },
    {
     "cell_type": "code",
     "collapsed": false,
     "input": [
      "print 'Percentage of respondents with no missing data in a given year:'\n",
      "print 'last year:', missingness_df[missingness_df['last_yr_%']==0].shape[0]/2659.0\n",
      "print 'second last year:', missingness_df[missingness_df['second_last_yr_%']==0].shape[0]/2659.0\n",
      "print 'third last year:', missingness_df[missingness_df['third_last_yr_%']==0].shape[0]/2659.0"
     ],
     "language": "python",
     "metadata": {},
     "outputs": [
      {
       "output_type": "stream",
       "stream": "stdout",
       "text": [
        "Percentage of respondents with no missing data in a given year:\n",
        "last year: 0.97028958255\n",
        "second last year: 0.983828506958\n",
        "third last year: 0.978939450921\n"
       ]
      }
     ],
     "prompt_number": 19
    },
    {
     "cell_type": "code",
     "collapsed": false,
     "input": [
      "#how many respondents have an over 60% proportion of missing data in their last year of employemnt\n",
      "missingness_df[missingness_df['last_yr_%']>0.6].shape[0]"
     ],
     "language": "python",
     "metadata": {},
     "outputs": [
      {
       "metadata": {},
       "output_type": "pyout",
       "prompt_number": 20,
       "text": [
        "14"
       ]
      }
     ],
     "prompt_number": 20
    },
    {
     "cell_type": "code",
     "collapsed": false,
     "input": [
      "#how many respondents have an over 90% proportion of missing data in their last year of employemnt\n",
      "missingness_df[missingness_df['last_yr_%']>0.9].shape[0]"
     ],
     "language": "python",
     "metadata": {},
     "outputs": [
      {
       "metadata": {},
       "output_type": "pyout",
       "prompt_number": 21,
       "text": [
        "8"
       ]
      }
     ],
     "prompt_number": 21
    },
    {
     "cell_type": "markdown",
     "metadata": {},
     "source": [
      "##5. Examine 'missing' weeks (status 0)\n",
      "\n",
      "###5.1 Examine the distribution of \u2018missing\u2019 weeks (status 0)"
     ]
    },
    {
     "cell_type": "code",
     "collapsed": false,
     "input": [
      "check_distribution(0, res_df, 2)"
     ],
     "language": "python",
     "metadata": {},
     "outputs": [
      {
       "output_type": "stream",
       "stream": "stdout",
       "text": [
        "461 respondents have some weeks of status 0\n",
        "\n"
       ]
      },
      {
       "metadata": {},
       "output_type": "display_data",
       "png": "[encoded data removed]",
       "text": [
        "<matplotlib.figure.Figure at 0x106f10e50>"
       ]
      },
      {
       "output_type": "stream",
       "stream": "stdout",
       "text": [
        "The number of weeks with 0 status per respondent\n",
        "Min: 1\n",
        "Max: 470\n",
        "Mean: 24.3210412148\n",
        "Quantiles: 1.0 4.0 35.0\n",
        "\n"
       ]
      },
      {
       "metadata": {},
       "output_type": "display_data",
       "png": "[encoded data removed]",
       "text": [
        "<matplotlib.figure.Figure at 0x10f298e10>"
       ]
      },
      {
       "output_type": "stream",
       "stream": "stdout",
       "text": [
        "The total number of spells of status 0: 534\n",
        "The lengths of spells of status 0\n",
        "Min: 1\n",
        "Max: 470\n",
        "Mean: 20.9962546816\n",
        "Quantiles: 1.0 3.0 27.75\n",
        "\n"
       ]
      },
      {
       "metadata": {},
       "output_type": "display_data",
       "png": "[encoded data removed]",
       "text": [
        "<matplotlib.figure.Figure at 0x108aa8750>"
       ]
      },
      {
       "output_type": "stream",
       "stream": "stdout",
       "text": [
        "The number of spells of status 0 per respondent\n",
        "Min: 1\n",
        "Max: 4\n",
        "Mean: 1.15835140998\n",
        "Quantiles: 1.0 1.0 1.0\n"
       ]
      }
     ],
     "prompt_number": 22
    },
    {
     "cell_type": "code",
     "collapsed": false,
     "input": [
      "#Who have missing weeks more than a quarter (13 weeks)? \n",
      "\n",
      "missing_a_quar = []\n",
      "\n",
      "for i, row in res_df.iterrows():\n",
      "    if 0 in row.values[2:]: \n",
      "        seq = row.values[2:].tolist()\n",
      "        \n",
      "        if seq.count(0) >= 13:\n",
      "            missing_a_quar.append(int(row['id']))\n",
      "            \n",
      "print 'The number of respondents with more than a quarter missing weeks: %s'%len(missing_a_quar)\n",
      "print 'The percentage:', len(missing_a_quar)/2659.0\n",
      "print 'Their ids are:', missing_a_quar"
     ],
     "language": "python",
     "metadata": {},
     "outputs": [
      {
       "output_type": "stream",
       "stream": "stdout",
       "text": [
        "The number of respondents with more than a quarter missing weeks: 169\n",
        "The percentage: 0.0635577284693\n",
        "Their ids are: [20, 95, 192, 322, 390, 542, 585, 656, 703, 783, 964, 1090, 1118, 1121, 1141, 1159, 1234, 1313, 1388, 1436, 1596, 1650, 1666, 1839, 1896, 1898, 1912, 2016, 2203, 2347, 2414, 2426, 2442, 2552, 2679, 2692, 2709, 2722, 2785, 2804, 2809, 2855, 2969, 2995, 3162, 3201, 3438, 3465, 3546, 3549, 3555, 3647, 3649, 3655, 3717, 3729, 3759, 3790, 3798, 3823, 3953, 4037, 4066, 4142, 4195, 4392, 4525, 4582, 4625, 4663, 4714, 4757, 4838, 4927, 4933, 4956, 5089, 5096, 5113, 5176, 5189, 5373, 5381, 5391, 5458, 5605, 5634, 5661, 5669, 5690, 5811, 5819, 5853, 5927, 5976, 5998, 5999, 6033, 6040, 6049, 6066, 6119, 6367, 6372, 6410, 6457, 6604, 6667, 6694, 6745, 6780, 6783, 6885, 7209, 7325, 7441, 7443, 7446, 7462, 7475, 7498, 7574, 7578, 7587, 7687, 7810, 7815, 7851, 7931, 7938, 7950, 7974, 8144, 8169, 8195, 8260, 8351, 8479, 8510, 8601, 8675, 8910, 8938, 8962, 9537, 9609, 9620, 9660, 9680, 9817, 9874, 9927, 9939, 10000, 10002, 10048, 10181, 10237, 10238, 10313, 10334, 10406, 10532, 11812, 11839, 11877, 12004, 12054, 12076]\n"
       ]
      }
     ],
     "prompt_number": 23
    },
    {
     "cell_type": "code",
     "collapsed": false,
     "input": [
      "#Who have missing weeks more than a month (4 weeks)? \n",
      "\n",
      "missing_a_month = []\n",
      "\n",
      "for i, row in res_df.iterrows():\n",
      "    if 0 in row.values[2:]: \n",
      "        seq = row.values[2:].tolist()\n",
      "        \n",
      "        if seq.count(0) >= 4:\n",
      "            missing_a_month.append(int(row['id']))\n",
      "            \n",
      "print 'The number of respondents with more than a month missing weeks: %s'%len(missing_a_month)\n",
      "print 'The percentage:', len(missing_a_month)/2659.0\n",
      "print 'Their ids are:', missing_a_month"
     ],
     "language": "python",
     "metadata": {},
     "outputs": [
      {
       "output_type": "stream",
       "stream": "stdout",
       "text": [
        "The number of respondents with more than a month missing weeks: 233\n",
        "The percentage: 0.0876269274163\n",
        "Their ids are: [4, 20, 95, 192, 297, 322, 390, 522, 542, 548, 585, 656, 703, 713, 783, 854, 923, 964, 1071, 1090, 1118, 1121, 1132, 1141, 1159, 1170, 1172, 1234, 1313, 1322, 1388, 1389, 1436, 1494, 1507, 1596, 1650, 1666, 1776, 1839, 1870, 1896, 1898, 1912, 2016, 2203, 2240, 2246, 2250, 2253, 2347, 2399, 2414, 2426, 2442, 2552, 2679, 2692, 2709, 2722, 2785, 2804, 2809, 2855, 2969, 2995, 3011, 3162, 3201, 3243, 3438, 3465, 3546, 3549, 3555, 3647, 3649, 3655, 3717, 3729, 3759, 3774, 3790, 3798, 3823, 3945, 3953, 4002, 4037, 4066, 4142, 4195, 4392, 4505, 4525, 4582, 4584, 4589, 4618, 4625, 4638, 4663, 4689, 4700, 4714, 4757, 4838, 4916, 4927, 4933, 4956, 5074, 5089, 5096, 5098, 5104, 5113, 5176, 5180, 5189, 5373, 5381, 5391, 5452, 5458, 5605, 5634, 5661, 5669, 5690, 5805, 5811, 5819, 5853, 5895, 5927, 5976, 5998, 5999, 6033, 6040, 6049, 6066, 6119, 6295, 6367, 6372, 6410, 6457, 6604, 6667, 6694, 6744, 6745, 6780, 6783, 6885, 7209, 7275, 7325, 7441, 7443, 7446, 7462, 7475, 7498, 7548, 7574, 7578, 7587, 7687, 7810, 7815, 7851, 7931, 7938, 7950, 7974, 8113, 8143, 8144, 8169, 8195, 8260, 8351, 8434, 8479, 8510, 8601, 8662, 8675, 8840, 8910, 8927, 8938, 8962, 9045, 9344, 9537, 9609, 9620, 9660, 9680, 9817, 9852, 9874, 9913, 9927, 9939, 10000, 10002, 10048, 10125, 10175, 10181, 10237, 10238, 10313, 10334, 10401, 10406, 10532, 11812, 11839, 11877, 11980, 12004, 12054, 12076, 12097, 12104, 12176, 12193]\n"
       ]
      }
     ],
     "prompt_number": 24
    },
    {
     "cell_type": "markdown",
     "metadata": {},
     "source": [
      "###5.2 Examine quarterly sequences from res_df (without dropping any respondents)"
     ]
    },
    {
     "cell_type": "code",
     "collapsed": false,
     "input": [
      "count = 0\n",
      "ids = set([])\n",
      "\n",
      "for i, row in res_df.iterrows():\n",
      "    \n",
      "    #72 quarter per sequence \n",
      "    for qrt_num in range(72):\n",
      "        \n",
      "        #13 weeks per quarter\n",
      "        qrt_start_week = qrt_num*13\n",
      "        \n",
      "        #get the weekly array of employment status \n",
      "        wks_in_qrt = [row['week%s'%(qrt_start_week+j)] for j in range(13)]\n",
      "        \n",
      "        if 0 in wks_in_qrt:\n",
      "            count += 1\n",
      "            ids.add(int(row['id']))\n",
      "            \n",
      "print '%s (%s) quarters have missing weeks'%(count, count/72/2659.)\n",
      "print '%s respondents have missing quarters'%(len(ids))"
     ],
     "language": "python",
     "metadata": {},
     "outputs": [
      {
       "output_type": "stream",
       "stream": "stdout",
       "text": [
        "1318 (0.00676946220384) quarters have missing weeks\n",
        "461 respondents have missing quarters\n"
       ]
      }
     ],
     "prompt_number": 25
    },
    {
     "cell_type": "markdown",
     "metadata": {},
     "source": [
      "What types of missing quarters? \n",
      "\n",
      "* How many quarters have completely missing weeks (all 13 weeks in the quarter are missing)?\n",
      "* For the rest, find out how many unique types of statuses per quarter and the freq of missing weeks"
     ]
    },
    {
     "cell_type": "code",
     "collapsed": false,
     "input": [
      "counts = defaultdict(int)\n",
      "counts2 = defaultdict(int) #only store quarters composed of two unique statuses, \n",
      "                           #key: (0-freq of 0-non-zero status-freq of non-zero status), value: freq\n",
      "    \n",
      "counts3 = defaultdict(int) #only store quarters composed of three unique statuses, \n",
      "                           #key: '0-freq0-type1-freq1-type2-freq2', value: freq\n",
      "\n",
      "other = defaultdict(int) #key: '0-freq0-type1-freq1-type2-freq2-...', value: freq\n",
      "    \n",
      "    \n",
      "for i, row in res_df.iterrows():\n",
      "    \n",
      "    #13 weeks per quarter. 72 quarter per sequence\n",
      "    for qrt_num in range(72):\n",
      "        qrt_start_week = qrt_num*13\n",
      "        \n",
      "        #get the weekly array of employment status \n",
      "        wks_in_qrt = [row['week%s'%(qrt_start_week+j)] for j in range(13)]\n",
      "        \n",
      "        if 0 in wks_in_qrt:\n",
      "            counts[len(set(wks_in_qrt))] += 1\n",
      "            \n",
      "            if len(set(wks_in_qrt)) == 2:\n",
      "                unique = list(set(wks_in_qrt))\n",
      "                unique.sort()\n",
      "                a, b = unique\n",
      "                assert a==0, 'wrong assertion!'\n",
      "                counts2['0-%s-%s-%s'%(wks_in_qrt.count(0),b,wks_in_qrt.count(b))] += 1\n",
      "            \n",
      "            elif len(set(wks_in_qrt)) == 3:\n",
      "                unique = list(set(wks_in_qrt))\n",
      "                unique.sort()\n",
      "                a, b, c = unique\n",
      "                assert a==0, 'wrong assertion!'\n",
      "                counts3['0-%s-%s-%s-%s-%s'%(wks_in_qrt.count(0),b,wks_in_qrt.count(b),c,wks_in_qrt.count(c))] += 1\n",
      "            \n",
      "            else: #put all other cases together\n",
      "                unique = list(set(wks_in_qrt))\n",
      "                unique.sort()\n",
      "                key = ''\n",
      "                for n in unique:\n",
      "                    key += str(n)\n",
      "                    key += '-'\n",
      "                    key += str(wks_in_qrt.count(n))\n",
      "                    key += '-'\n",
      "                other[key] += 1\n",
      "                \n",
      "print counts"
     ],
     "language": "python",
     "metadata": {},
     "outputs": [
      {
       "output_type": "stream",
       "stream": "stdout",
       "text": [
        "defaultdict(<type 'int'>, {1: 644, 2: 481, 3: 161, 4: 29, 5: 3})\n"
       ]
      }
     ],
     "prompt_number": 26
    },
    {
     "cell_type": "code",
     "collapsed": false,
     "input": [
      "#print counts2 in a way easier to edit it into a table\n",
      "print len(counts2)\n",
      "\n",
      "for (k, v) in counts2.items():\n",
      "    l = k.split('-')\n",
      "    s1,f1,s2,f2 = l #s-status, f-freq \n",
      "    print s1,f1,s2,f2, v   "
     ],
     "language": "python",
     "metadata": {},
     "outputs": [
      {
       "output_type": "stream",
       "stream": "stdout",
       "text": [
        "57\n",
        "0 10 1.0 3 15\n",
        "0 3 1.0 10 16\n",
        "0 10 5.0 3 10\n",
        "0 9 4.0 4 3\n",
        "0 2 4.0 11 1\n",
        "0 11 5.0 2 12\n",
        "0 4 2.0 9 4\n",
        "0 9 1.0 4 17\n",
        "0 3 2.0 10 9\n",
        "0 9 5.0 4 10\n",
        "0 9 2.0 4 2\n",
        "0 4 1.0 9 12\n",
        "0 2 1.0 11 10\n",
        "0 3 4.0 10 1\n",
        "0 3 5.0 10 14\n",
        "0 2 2.0 11 4\n",
        "0 9 1.5 4 1\n",
        "0 11 2.0 2 3\n",
        "0 3 1.5 10 2\n",
        "0 11 1.0 2 8\n",
        "0 8 5.0 5 7\n",
        "0 4 4.0 9 2\n",
        "0 7 2.0 6 1\n",
        "0 1 1.0 12 44\n",
        "0 6 2.0 7 7\n",
        "0 5 4.0 8 3\n",
        "0 9 3.0 4 2\n",
        "0 6 1.0 7 12\n",
        "0 6 1.5 7 1\n",
        "0 5 2.0 8 5\n",
        "0 7 4.0 6 3\n",
        "0 1 4.0 12 7\n",
        "0 7 1.0 6 13\n",
        "0 2 5.0 11 20\n",
        "0 7 5.0 6 8\n",
        "0 1 2.0 12 9\n",
        "0 8 2.0 5 2\n",
        "0 8 1.0 5 8\n",
        "0 10 4.0 3 2\n",
        "0 12 2.0 1 4\n",
        "0 1 5.0 12 71\n",
        "0 11 4.0 2 3\n",
        "0 6 5.0 7 13\n",
        "0 5 3.0 8 1\n",
        "0 4 5.0 9 17\n",
        "0 8 4.0 5 1\n",
        "0 4 6.0 9 1\n",
        "0 5 1.0 8 11\n",
        "0 5 5.0 8 15\n",
        "0 12 4.0 1 5\n",
        "0 10 2.0 3 9\n",
        "0 12 1.0 1 9\n",
        "0 4 3.0 9 2\n",
        "0 12 6.0 1 1\n",
        "0 12 5.0 1 5\n",
        "0 10 1.5 3 1\n",
        "0 8 1.5 5 2\n"
       ]
      }
     ],
     "prompt_number": 27
    },
    {
     "cell_type": "code",
     "collapsed": false,
     "input": [
      "#print counts3 in a way easier to edit it into a table\n",
      "\n",
      "print len(counts3)\n",
      "\n",
      "for (k, v) in counts3.items():\n",
      "    l = k.split('-')\n",
      "    s1,f1,s2,f2,s3,f3 = l #s-status, f-freq\n",
      "    \n",
      "    #put the non-missing most frequent status at the second place\n",
      "    if f2 < f3: #switch\n",
      "        s2, s3 = s3, s2\n",
      "        f2, f3 = f3, f2\n",
      "    print s1,f1,s2,f2,s3,f3, v   "
     ],
     "language": "python",
     "metadata": {},
     "outputs": [
      {
       "output_type": "stream",
       "stream": "stdout",
       "text": [
        "96\n",
        "0 1 2.0 6 5.0 6 1\n",
        "0 2 1.0 10 5.0 1 1\n",
        "0 4 2.0 8 5.0 1 1\n",
        "0 4 1.0 6 5.0 3 1\n",
        "0 5 1.0 4 4.0 4 1\n",
        "0 9 2.0 3 5.0 1 1\n",
        "0 3 2.0 9 4.0 1 1\n",
        "0 3 1.0 8 2.0 2 1\n",
        "0 7 2.0 4 5.0 2 1\n",
        "0 1 4.0 11 1.0 1 2\n",
        "0 2 5.0 6 1.5 5 1\n",
        "0 7 2.0 5 1.0 1 1\n",
        "0 1 2.0 8 5.0 4 3\n",
        "0 2 1.0 6 5.0 5 2\n",
        "0 1 5.0 9 4.0 3 3\n",
        "0 6 5.0 4 4.0 3 1\n",
        "0 1 5.0 11 2.0 1 3\n",
        "0 2 2.0 7 5.0 4 1\n",
        "0 1 1.0 2 5.0 10 2\n",
        "0 1 1.0 6 4.0 6 1\n",
        "0 1 4.0 11 5.0 1 1\n",
        "0 3 1.0 9 5.0 1 1\n",
        "0 3 5.0 7 4.0 3 1\n",
        "0 1 5.0 11 1.5 1 1\n",
        "0 8 1.0 4 5.0 1 1\n",
        "0 1 1.0 7 2.0 5 1\n",
        "0 1 5.0 9 1.5 3 1\n",
        "0 1 5.0 8 1.0 4 1\n",
        "0 1 1.0 9 5.0 3 1\n",
        "0 4 1.0 7 2.0 2 1\n",
        "0 1 1.0 6 5.0 6 6\n",
        "0 1 4.0 8 1.0 4 1\n",
        "0 7 1.0 5 5.0 1 1\n",
        "0 2 5.0 6 1.0 5 1\n",
        "0 1 2.0 11 5.0 1 4\n",
        "0 1 4.0 2 5.0 10 2\n",
        "0 9 4.0 3 1.0 1 1\n",
        "0 1 4.0 2 1.0 10 1\n",
        "0 4 5.0 7 2.0 2 1\n",
        "0 1 2.0 11 3.0 1 1\n",
        "0 7 1.0 4 5.0 2 1\n",
        "0 5 5.0 5 1.0 3 1\n",
        "0 6 5.0 5 1.0 2 1\n",
        "0 1 2.0 9 5.0 3 4\n",
        "0 5 1.0 4 2.0 4 1\n",
        "0 1 2.0 2 5.0 10 4\n",
        "0 6 2.0 5 5.0 2 2\n",
        "0 1 5.0 9 1.0 3 2\n",
        "0 1 5.0 2 2.0 10 3\n",
        "0 1 5.0 7 2.0 5 4\n",
        "0 1 5.0 2 1.0 10 7\n",
        "0 10 2.0 2 4.0 1 1\n",
        "0 3 2.0 5 5.0 5 1\n",
        "0 1 2.0 7 5.0 5 1\n",
        "0 3 1.0 6 5.0 4 1\n",
        "0 1 5.0 7 1.0 5 4\n",
        "0 10 1.0 2 4.0 1 1\n",
        "0 1 1.0 7 5.0 5 5\n",
        "0 2 2.0 8 5.0 3 2\n",
        "0 2 1.0 7 2.0 4 1\n",
        "0 2 5.0 9 1.0 2 1\n",
        "0 3 5.0 7 2.0 3 1\n",
        "0 1 2.0 11 1.0 1 1\n",
        "0 7 1.0 4 4.0 2 1\n",
        "0 1 1.0 11 5.0 1 9\n",
        "0 9 5.0 3 2.0 1 1\n",
        "0 5 2.0 5 5.0 3 1\n",
        "0 1 2.0 7 1.0 5 2\n",
        "0 1 1.5 11 4.0 1 1\n",
        "0 2 5.0 6 4.0 5 1\n",
        "0 1 2.0 7 4.0 5 1\n",
        "0 2 5.0 8 1.0 3 1\n",
        "0 1 4.0 7 1.0 5 3\n",
        "0 1 1.0 2 2.0 10 2\n",
        "0 4 2.0 7 5.0 2 1\n",
        "0 4 1.0 5 5.0 4 1\n",
        "0 1 1.0 2 4.0 10 1\n",
        "0 7 1.0 5 4.0 1 1\n",
        "0 2 2.0 10 4.0 1 1\n",
        "0 2 2.0 9 5.0 2 1\n",
        "0 6 1.0 5 5.0 2 1\n",
        "0 4 2.0 8 1.0 1 1\n",
        "0 3 1.0 7 4.0 3 1\n",
        "0 1 5.0 8 2.0 4 1\n",
        "0 1 5.0 11 1.0 1 2\n",
        "0 2 5.0 10 1.0 1 2\n",
        "0 1 1.0 9 4.0 3 1\n",
        "0 1 4.0 9 1.0 3 1\n",
        "0 1 5.0 11 4.0 1 3\n",
        "0 1 4.0 8 5.0 4 3\n",
        "0 3 1.0 5 4.0 5 1\n",
        "0 2 2.0 6 5.0 5 2\n",
        "0 1 1.0 8 5.0 4 2\n",
        "0 5 1.0 5 5.0 3 1\n",
        "0 2 4.0 10 1.0 1 1\n",
        "0 1 1.0 8 4.0 4 1\n"
       ]
      }
     ],
     "prompt_number": 28
    },
    {
     "cell_type": "code",
     "collapsed": false,
     "input": [
      "#print other in a way easier to edit it into a table\n",
      "\n",
      "print len(other)\n",
      "\n",
      "for (k, v) in other.items():\n",
      "    l = k.strip('-').split('-')\n",
      "    l.append(str(v))\n",
      "    print ' '.join(l)"
     ],
     "language": "python",
     "metadata": {},
     "outputs": [
      {
       "output_type": "stream",
       "stream": "stdout",
       "text": [
        "30\n",
        "0.0 1 2.0 3 4.0 5 5.0 4 1\n",
        "0.0 1 1.0 5 2.0 2 4.0 1 5.0 4 1\n",
        "0.0 2 1.0 3 2.0 1 5.0 7 1\n",
        "0.0 3 1.0 1 2.0 1 3.0 8 1\n",
        "0.0 3 1.0 6 2.0 3 5.0 1 1\n",
        "0.0 1 1.0 6 4.0 1 5.0 5 2\n",
        "0.0 1 1.0 2 2.0 3 4.0 2 5.0 5 1\n",
        "0.0 1 1.0 5 2.0 3 4.0 4 1\n",
        "0.0 1 1.0 8 4.0 1 5.0 3 1\n",
        "0.0 1 2.0 6 4.0 2 5.0 4 1\n",
        "0.0 1 1.0 10 4.0 1 5.0 1 2\n",
        "0.0 1 1.0 4 4.0 1 5.0 7 1\n",
        "0.0 1 1.0 3 2.0 7 5.0 2 1\n",
        "0.0 1 1.0 9 4.0 2 5.0 1 1\n",
        "0.0 1 1.0 9 4.0 1 5.0 2 1\n",
        "0.0 5 2.0 3 4.0 1 5.0 4 1\n",
        "0.0 13 644\n",
        "0.0 2 1.0 3 2.0 6 5.0 2 1\n",
        "0.0 1 2.0 8 4.0 2 5.0 2 1\n",
        "0.0 1 1.0 6 4.0 4 5.0 2 1\n",
        "0.0 1 1.0 3 4.0 8 5.0 1 1\n",
        "0.0 2 1.0 5 4.0 1 5.0 5 1\n",
        "0.0 1 1.0 10 2.0 1 5.0 1 1\n",
        "0.0 1 1.0 6 2.0 2 4.0 1 5.0 3 1\n",
        "0.0 1 1.0 4 4.0 6 5.0 2 1\n",
        "0.0 1 1.0 10 2.0 1 4.0 1 1\n",
        "0.0 1 1.0 1 4.0 2 5.0 9 1\n",
        "0.0 1 1.0 8 4.0 3 5.0 1 1\n",
        "0.0 3 1.0 3 2.0 1 5.0 6 1\n",
        "0.0 1 2.0 10 4.0 1 5.0 1 2\n"
       ]
      }
     ],
     "prompt_number": 29
    },
    {
     "cell_type": "markdown",
     "metadata": {},
     "source": [
      "##6. Examine working weeks without hours\n",
      "###6.1 Examine distribution of status 1.5 (working with missing hours)"
     ]
    },
    {
     "cell_type": "code",
     "collapsed": false,
     "input": [
      "check_distribution(1.5, res_df, 2)"
     ],
     "language": "python",
     "metadata": {},
     "outputs": [
      {
       "output_type": "stream",
       "stream": "stdout",
       "text": [
        "287 respondents have some weeks of status 1.5\n",
        "\n"
       ]
      },
      {
       "metadata": {},
       "output_type": "display_data",
       "png": "[encoded data removed]",
       "text": [
        "<matplotlib.figure.Figure at 0x10d2abc50>"
       ]
      },
      {
       "output_type": "stream",
       "stream": "stdout",
       "text": [
        "The number of weeks with 1.5 status per respondent\n",
        "Min: 1\n",
        "Max: 316\n",
        "Mean: 49.9721254355\n",
        "Quantiles: 11.0 38.0 71.0\n",
        "\n"
       ]
      },
      {
       "metadata": {},
       "output_type": "display_data",
       "png": "[encoded data removed]",
       "text": [
        "<matplotlib.figure.Figure at 0x10f272350>"
       ]
      },
      {
       "output_type": "stream",
       "stream": "stdout",
       "text": [
        "The total number of spells of status 1.5: 374\n",
        "The lengths of spells of status 1.5\n",
        "Min: 1\n",
        "Max: 216\n",
        "Mean: 38.3475935829\n",
        "Quantiles: 7.25 26.5 58.0\n",
        "\n"
       ]
      },
      {
       "metadata": {},
       "output_type": "display_data",
       "png": "[encoded data removed]",
       "text": [
        "<matplotlib.figure.Figure at 0x108666950>"
       ]
      },
      {
       "output_type": "stream",
       "stream": "stdout",
       "text": [
        "The number of spells of status 1.5 per respondent\n",
        "Min: 1\n",
        "Max: 5\n",
        "Mean: 1.3031358885\n",
        "Quantiles: 1.0 1.0 1.0\n"
       ]
      }
     ],
     "prompt_number": 30
    },
    {
     "cell_type": "markdown",
     "metadata": {},
     "source": [
      "###6.2 Examine quarterly sequences"
     ]
    },
    {
     "cell_type": "code",
     "collapsed": false,
     "input": [
      "count = 0\n",
      "ids = set([])\n",
      "\n",
      "for i, row in res_df.iterrows():\n",
      "    \n",
      "    #13 weeks per quarter. 72 quarter per sequence\n",
      "    for qrt_num in range(72):\n",
      "        qrt_start_week = qrt_num*13\n",
      "        \n",
      "        #get the weekly array of employment status \n",
      "        wks_in_qrt = [row['week%s'%(qrt_start_week+j)] for j in range(13)]\n",
      "        \n",
      "        if 1.5 in wks_in_qrt:\n",
      "            count += 1\n",
      "            ids.add(int(row['id']))\n",
      "            \n",
      "print '%s (%s) quarters have working weeks with missing hours'%(count, count/72/2659.)\n",
      "print '%s respondents have quarters containing status 1.5'%(len(ids))"
     ],
     "language": "python",
     "metadata": {},
     "outputs": [
      {
       "output_type": "stream",
       "stream": "stdout",
       "text": [
        "1411 (0.00714554343738) quarters have working weeks with missing hours\n",
        "287 respondents have quarters containing status 1.5\n"
       ]
      }
     ],
     "prompt_number": 31
    },
    {
     "cell_type": "markdown",
     "metadata": {},
     "source": [
      "Similar as what I did for the completely missing weeks above, find out among the quarters containing some 1.5 status, what are the unique types of statuses per quarter, and how many of each type are there?"
     ]
    },
    {
     "cell_type": "code",
     "collapsed": false,
     "input": [
      "counts = defaultdict(int)\n",
      "counts2 = defaultdict(int) #only store quarters composed of two unique statuses\n",
      "counts3 = defaultdict(int) #only store quarters composed of three unique statuses\n",
      "counts4 = defaultdict(int) #similar as above\n",
      "    \n",
      "for i, row in res_df.iterrows():\n",
      "    \n",
      "    #13 weeks per quarter. 72 quarter per sequence\n",
      "    for qrt_num in range(72):\n",
      "        qrt_start_week = qrt_num*13\n",
      "        \n",
      "        #get the weekly array of employment status \n",
      "        wks_in_qrt = [row['week%s'%(qrt_start_week+j)] for j in range(13)]\n",
      "        \n",
      "        if 1.5 in wks_in_qrt:\n",
      "            counts[len(set(wks_in_qrt))] += 1\n",
      "            \n",
      "            if len(set(wks_in_qrt)) == 1:\n",
      "                pass\n",
      "               \n",
      "            elif len(set(wks_in_qrt)) == 2:\n",
      "                unique = list(set(wks_in_qrt))\n",
      "                unique.sort()\n",
      "                a, b = unique\n",
      "                if a != 1.5:\n",
      "                    a, b = b, a\n",
      "                counts2['%s-%s-%s-%s'%(a,wks_in_qrt.count(a),b,wks_in_qrt.count(b))] += 1\n",
      "                \n",
      "            elif len(set(wks_in_qrt)) == 3:\n",
      "                unique = list(set(wks_in_qrt))\n",
      "                unique.sort()\n",
      "                a, b, c = unique\n",
      "                if a != 1.5:\n",
      "                    if b == 1.5:\n",
      "                        a, b = b, a\n",
      "                    elif c == 1.5:\n",
      "                        a, c = c, a\n",
      "                counts3['%s-%s-%s-%s-%s-%s'%(a,wks_in_qrt.count(a),b,wks_in_qrt.count(b),c,wks_in_qrt.count(c))] += 1\n",
      "            \n",
      "            elif len(set(wks_in_qrt)) == 4:\n",
      "                unique = list(set(wks_in_qrt))\n",
      "                unique.sort()\n",
      "                if a != 1.5:\n",
      "                    if b == 1.5:\n",
      "                        a, b = b, a\n",
      "                    elif c == 1.5:\n",
      "                        a, c = c, a                        \n",
      "                a, b, c, d = unique\n",
      "                counts4['%s-%s-%s-%s-%s-%s-%s-%s'%(a,wks_in_qrt.count(a),b,wks_in_qrt.count(b),c,wks_in_qrt.count(c),d,wks_in_qrt.count(d))] += 1\n",
      "\n",
      "            else:\n",
      "                print 'unknown combo of statuses per quarter'\n",
      "                \n",
      "                \n",
      "print counts"
     ],
     "language": "python",
     "metadata": {},
     "outputs": [
      {
       "output_type": "stream",
       "stream": "stdout",
       "text": [
        "defaultdict(<type 'int'>, {1: 833, 2: 470, 3: 97, 4: 11})\n"
       ]
      }
     ],
     "prompt_number": 32
    },
    {
     "cell_type": "code",
     "collapsed": false,
     "input": [
      "#print counts2 in a way easier to edit it into a table\n",
      "\n",
      "print len(counts2)\n",
      "for (k, v) in counts2.items():\n",
      "    l = k.strip('-').split('-')\n",
      "    l.append(str(v))\n",
      "    print ' '.join(l)"
     ],
     "language": "python",
     "metadata": {},
     "outputs": [
      {
       "output_type": "stream",
       "stream": "stdout",
       "text": [
        "52\n",
        "1.5 12 5.0 1 17\n",
        "1.5 12 2.0 1 5\n",
        "1.5 12 1.0 1 11\n",
        "1.5 11 4.0 2 2\n",
        "1.5 8 3.0 5 1\n",
        "1.5 1 1.0 12 19\n",
        "1.5 5 2.0 8 15\n",
        "1.5 6 5.0 7 6\n",
        "1.5 8 5.0 5 13\n",
        "1.5 11 3.0 2 1\n",
        "1.5 8 2.0 5 6\n",
        "1.5 4 1.0 9 16\n",
        "1.5 5 4.0 8 1\n",
        "1.5 4 2.0 9 11\n",
        "1.5 4 0.0 9 1\n",
        "1.5 5 5.0 8 10\n",
        "1.5 3 5.0 10 8\n",
        "1.5 2 2.0 11 8\n",
        "1.5 1 5.0 12 10\n",
        "1.5 3 3.0 10 1\n",
        "1.5 6 2.0 7 18\n",
        "1.5 6 1.0 7 26\n",
        "1.5 8 4.0 5 1\n",
        "1.5 11 2.0 2 10\n",
        "1.5 2 1.0 11 14\n",
        "1.5 10 0.0 3 2\n",
        "1.5 3 0.0 10 1\n",
        "1.5 9 5.0 4 6\n",
        "1.5 7 0.0 6 1\n",
        "1.5 1 3.0 12 1\n",
        "1.5 5 1.0 8 14\n",
        "1.5 4 4.0 9 1\n",
        "1.5 12 4.0 1 3\n",
        "1.5 10 2.0 3 12\n",
        "1.5 3 1.0 10 11\n",
        "1.5 7 1.0 6 12\n",
        "1.5 1 2.0 12 14\n",
        "1.5 11 1.0 2 18\n",
        "1.5 1 4.0 12 1\n",
        "1.5 9 1.0 4 16\n",
        "1.5 11 5.0 2 14\n",
        "1.5 9 2.0 4 13\n",
        "1.5 10 1.0 3 17\n",
        "1.5 2 5.0 11 10\n",
        "1.5 10 5.0 3 11\n",
        "1.5 4 5.0 9 7\n",
        "1.5 5 0.0 8 2\n",
        "1.5 10 4.0 3 1\n",
        "1.5 8 1.0 5 19\n",
        "1.5 3 2.0 10 15\n",
        "1.5 7 2.0 6 9\n",
        "1.5 7 5.0 6 8\n"
       ]
      }
     ],
     "prompt_number": 33
    },
    {
     "cell_type": "code",
     "collapsed": false,
     "input": [
      "print len(counts3)\n",
      "\n",
      "for (k, v) in counts3.items():\n",
      "    l = k.strip('-').split('-')\n",
      "    l.append(str(v))\n",
      "    print ' '.join(l)"
     ],
     "language": "python",
     "metadata": {},
     "outputs": [
      {
       "output_type": "stream",
       "stream": "stdout",
       "text": [
        "88\n",
        "1.5 7 1.0 3 2.0 3 1\n",
        "1.5 1 1.0 1 2.0 11 1\n",
        "1.5 2 1.0 2 5.0 9 2\n",
        "1.5 3 2.0 2 5.0 8 1\n",
        "1.5 1 4.0 6 5.0 6 1\n",
        "1.5 1 2.0 1 5.0 11 2\n",
        "1.5 6 4.0 4 5.0 3 1\n",
        "1.5 6 1.0 6 5.0 1 2\n",
        "1.5 4 2.0 7 5.0 2 1\n",
        "1.5 2 1.0 3 5.0 8 1\n",
        "1.5 2 1.0 10 5.0 1 1\n",
        "1.5 1 1.0 10 2.0 2 1\n",
        "1.5 1 2.0 9 5.0 3 1\n",
        "1.5 3 1.0 7 4.0 3 1\n",
        "1.5 7 2.0 5 5.0 1 1\n",
        "1.5 1 3.0 2 5.0 10 1\n",
        "1.5 3 1.0 2 5.0 8 2\n",
        "1.5 2 2.0 7 4.0 4 1\n",
        "1.5 3 1.0 7 2.0 3 1\n",
        "1.5 4 3.0 4 5.0 5 1\n",
        "1.5 1 1.0 9 5.0 3 2\n",
        "1.5 4 1.0 1 2.0 8 1\n",
        "1.5 5 1.0 5 2.0 3 1\n",
        "1.5 5 1.0 6 4.0 2 1\n",
        "1.5 1 0.0 1 5.0 11 1\n",
        "1.5 9 1.0 2 5.0 2 1\n",
        "1.5 1 1.0 5 2.0 7 1\n",
        "1.5 2 1.0 3 2.0 8 1\n",
        "1.5 9 1.0 2 4.0 2 1\n",
        "1.5 4 2.0 1 5.0 8 1\n",
        "1.5 2 1.0 8 5.0 3 1\n",
        "1.5 5 2.0 1 5.0 7 1\n",
        "1.5 6 1.0 4 5.0 3 1\n",
        "1.5 1 1.0 2 2.0 10 1\n",
        "1.5 6 2.0 3 5.0 4 2\n",
        "1.5 1 2.0 7 5.0 5 1\n",
        "1.5 1 2.0 4 5.0 8 1\n",
        "1.5 4 1.0 7 4.0 2 1\n",
        "1.5 5 2.0 2 5.0 6 1\n",
        "1.5 9 2.0 3 5.0 1 1\n",
        "1.5 2 2.0 10 5.0 1 1\n",
        "1.5 1 4.0 9 5.0 3 1\n",
        "1.5 1 4.0 7 5.0 5 1\n",
        "1.5 6 1.0 3 4.0 4 1\n",
        "1.5 4 4.0 6 5.0 3 1\n",
        "1.5 5 0.0 2 5.0 6 1\n",
        "1.5 6 1.0 5 5.0 2 1\n",
        "1.5 4 4.0 2 5.0 7 1\n",
        "1.5 4 4.0 5 5.0 4 1\n",
        "1.5 3 0.0 1 5.0 9 1\n",
        "1.5 5 1.0 4 2.0 4 1\n",
        "1.5 1 2.0 2 4.0 10 1\n",
        "1.5 4 2.0 2 5.0 7 1\n",
        "1.5 4 1.0 8 4.0 1 1\n",
        "1.5 4 2.0 4 4.0 5 1\n",
        "1.5 4 1.0 5 5.0 4 2\n",
        "1.5 1 2.0 5 5.0 7 1\n",
        "1.5 8 1.0 4 5.0 1 1\n",
        "1.5 1 1.0 11 2.0 1 2\n",
        "1.5 3 1.0 5 2.0 5 1\n",
        "1.5 7 2.0 2 5.0 4 1\n",
        "1.5 5 4.0 1 5.0 7 1\n",
        "1.5 8 1.0 1 5.0 4 1\n",
        "1.5 1 4.0 2 5.0 10 1\n",
        "1.5 8 1.0 2 5.0 3 1\n",
        "1.5 10 1.0 2 2.0 1 1\n",
        "1.5 11 0.0 1 4.0 1 1\n",
        "1.5 9 1.0 3 5.0 1 1\n",
        "1.5 2 4.0 7 5.0 4 1\n",
        "1.5 2 1.0 9 5.0 2 1\n",
        "1.5 1 2.0 11 5.0 1 1\n",
        "1.5 7 1.0 3 5.0 3 1\n",
        "1.5 1 1.0 7 5.0 5 1\n",
        "1.5 9 1.0 1 2.0 3 1\n",
        "1.5 2 4.0 6 5.0 5 1\n",
        "1.5 7 1.0 4 5.0 2 1\n",
        "1.5 2 1.0 5 2.0 6 1\n",
        "1.5 9 1.0 1 5.0 3 1\n",
        "1.5 3 1.0 3 2.0 7 1\n",
        "1.5 9 1.0 2 2.0 2 1\n",
        "1.5 7 1.0 2 5.0 4 1\n",
        "1.5 4 5.0 4 6.0 5 1\n",
        "1.5 5 4.0 2 5.0 6 1\n",
        "1.5 8 2.0 1 5.0 4 2\n",
        "1.5 1 2.0 5 4.0 7 1\n",
        "1.5 1 1.0 1 5.0 11 1\n",
        "1.5 3 1.0 1 2.0 9 1\n",
        "1.5 10 2.0 1 5.0 2 1\n"
       ]
      }
     ],
     "prompt_number": 34
    },
    {
     "cell_type": "code",
     "collapsed": false,
     "input": [
      "print len(counts4)\n",
      "\n",
      "for (k, v) in counts4.items():\n",
      "    l = k.strip('-').split('-')\n",
      "    l.append(str(v))\n",
      "    print ' '.join(l)"
     ],
     "language": "python",
     "metadata": {},
     "outputs": [
      {
       "output_type": "stream",
       "stream": "stdout",
       "text": [
        "11\n",
        "1.5 4 2.0 1 4.0 7 5.0 1 1\n",
        "1.0 1 1.5 7 2.0 4 5.0 1 1\n",
        "1.0 10 1.5 1 2.0 1 5.0 1 1\n",
        "1.0 4 1.5 3 2.0 3 5.0 3 1\n",
        "1.0 1 1.5 9 4.0 1 5.0 2 1\n",
        "1.0 2 1.5 4 4.0 3 5.0 4 1\n",
        "1.0 9 1.5 2 4.0 1 5.0 1 1\n",
        "1.0 6 1.5 1 2.0 5 5.0 1 1\n",
        "1.0 7 1.5 3 4.0 1 5.0 2 1\n",
        "1.0 3 1.5 2 4.0 2 5.0 6 1\n",
        "1.0 1 1.5 8 4.0 3 5.0 1 1\n"
       ]
      }
     ],
     "prompt_number": 35
    },
    {
     "cell_type": "markdown",
     "metadata": {},
     "source": [
      "##7. Examine distribution of status 3 (undetermined)"
     ]
    },
    {
     "cell_type": "code",
     "collapsed": false,
     "input": [
      "check_distribution(3, res_df, 2)"
     ],
     "language": "python",
     "metadata": {},
     "outputs": [
      {
       "output_type": "stream",
       "stream": "stdout",
       "text": [
        "250 respondents have some weeks of status 3\n",
        "\n"
       ]
      },
      {
       "metadata": {},
       "output_type": "display_data",
       "png": "[encoded data removed]",
       "text": [
        "<matplotlib.figure.Figure at 0x10867be90>"
       ]
      },
      {
       "output_type": "stream",
       "stream": "stdout",
       "text": [
        "The number of weeks with 3 status per respondent\n",
        "Min: 1\n",
        "Max: 551\n",
        "Mean: 30.772\n",
        "Quantiles: 4.25 18.5 47.75\n",
        "\n"
       ]
      },
      {
       "metadata": {},
       "output_type": "display_data",
       "png": "[encoded data removed]",
       "text": [
        "<matplotlib.figure.Figure at 0x1085e5850>"
       ]
      },
      {
       "output_type": "stream",
       "stream": "stdout",
       "text": [
        "The total number of spells of status 3: 298\n",
        "The lengths of spells of status 3\n",
        "Min: 1\n",
        "Max: 551\n",
        "Mean: 25.8154362416\n",
        "Quantiles: 4.0 13.0 40.0\n",
        "\n"
       ]
      },
      {
       "metadata": {},
       "output_type": "display_data",
       "png": "[encoded data removed]",
       "text": [
        "<matplotlib.figure.Figure at 0x10043cc90>"
       ]
      },
      {
       "output_type": "stream",
       "stream": "stdout",
       "text": [
        "The number of spells of status 3 per respondent\n",
        "Min: 1\n",
        "Max: 4\n",
        "Mean: 1.192\n",
        "Quantiles: 1.0 1.0 1.0\n"
       ]
      }
     ],
     "prompt_number": 36
    },
    {
     "cell_type": "markdown",
     "metadata": {},
     "source": [
      "##8. Examine distribution of status 5 (OOLF)"
     ]
    },
    {
     "cell_type": "code",
     "collapsed": false,
     "input": [
      "check_distribution(5, res_df, 2)"
     ],
     "language": "python",
     "metadata": {},
     "outputs": [
      {
       "output_type": "stream",
       "stream": "stdout",
       "text": [
        "2565 respondents have some weeks of status 5\n",
        "\n"
       ]
      },
      {
       "metadata": {},
       "output_type": "display_data",
       "png": "[encoded data removed]",
       "text": [
        "<matplotlib.figure.Figure at 0x10868ff50>"
       ]
      },
      {
       "output_type": "stream",
       "stream": "stdout",
       "text": [
        "The number of weeks with 5 status per respondent\n",
        "Min: 1\n",
        "Max: 936\n",
        "Mean: 318.051461988\n",
        "Quantiles: 80.0 262.0 508.0\n",
        "\n"
       ]
      },
      {
       "metadata": {},
       "output_type": "display_data",
       "png": "[encoded data removed]",
       "text": [
        "<matplotlib.figure.Figure at 0x1086867d0>"
       ]
      },
      {
       "output_type": "stream",
       "stream": "stdout",
       "text": [
        "The total number of spells of status 5: 17325\n",
        "The lengths of spells of status 5\n",
        "Min: 1\n",
        "Max: 936\n",
        "Mean: 47.0881385281\n",
        "Quantiles: 4.0 13.0 40.0\n",
        "\n"
       ]
      },
      {
       "metadata": {},
       "output_type": "display_data",
       "png": "[encoded data removed]",
       "text": [
        "<matplotlib.figure.Figure at 0x1085bbe50>"
       ]
      },
      {
       "output_type": "stream",
       "stream": "stdout",
       "text": [
        "The number of spells of status 5 per respondent\n",
        "Min: 1\n",
        "Max: 34\n",
        "Mean: 6.75438596491\n",
        "Quantiles: 3.0 6.0 9.0\n"
       ]
      }
     ],
     "prompt_number": 37
    },
    {
     "cell_type": "markdown",
     "metadata": {},
     "source": [
      "##9. Construct quarterly sequences and flag to-be-imputed quarters (do not impute them yet)"
     ]
    },
    {
     "cell_type": "markdown",
     "metadata": {},
     "source": [
      "What types of quarters are there?\n",
      "\n",
      "* certain (positive numbers):\n",
      "    * 1: one unique non-missing status in the quarter\n",
      "    * 2: two unique statuses and one of them is 0. the non-missing status more frequent than 0\n",
      "    * 3: two unique non-missing statuses, one status is more frequent than the other\n",
      "    * 4: three unique statuses, including 0. assign missing weeks the second most frequent non-missing status and the most frequent status remains the same\n",
      "    * 5: three unique non-missing statuses, there is the most frequent status (no tie)\n",
      "\n",
      "* to-be-imputed (negative numbers):\n",
      "    * -1: completely missing, all 0s in the quarter\n",
      "    * -2: two unique statuses, including 0. more or equally many 0's than the other status\n",
      "    * -3: two unique non-missing statuses per quarter, but equally many, so can't determine\n",
      "    * -4: three unique statuses, including 0. The two non-missing statuses have the same frequency\n",
      "    * -5: three unique statuses, including 0. assign missing weeks the second most frequent non-missing status and the most frequent status changed\n",
      "    * -6: three unique non-missing statuses, but there is a tie for the most frequent status"
     ]
    },
    {
     "cell_type": "code",
     "collapsed": false,
     "input": [
      "qrt_data = defaultdict(list)\n",
      "\n",
      "counts = defaultdict(int)\n",
      "\n",
      "for i, row in res_df.iterrows():\n",
      "    \n",
      "    #13 weeks per quarter. 72 quarter per sequence\n",
      "    for qrt_num in range(72):\n",
      "        \n",
      "        qrt_data['id'].append(row['id'])\n",
      "        qrt_data['start_week'].append(row['start_week'])\n",
      "\n",
      "        #get the weekly array of employment status in this quarter        \n",
      "        qrt_start_week = qrt_num*13\n",
      "        wks_in_qrt = [row['week%s'%(qrt_start_week+j)] for j in range(13)]\n",
      "        \n",
      "        \n",
      "        if len(set(wks_in_qrt)) == 1: #the entire quarter has only one type of status\n",
      "            \n",
      "            if 0 in wks_in_qrt:\n",
      "                qrt_data['qrt%s'%qrt_num].append(-1)\n",
      "                counts[-1] += 1\n",
      "            else:\n",
      "                qrt_data['qrt%s'%qrt_num].append(wks_in_qrt[0])\n",
      "                if 1.5 in wks_in_qrt:\n",
      "                    counts[1.15] += 1\n",
      "                elif 3 in wks_in_qrt:\n",
      "                    counts[1.3] += 1\n",
      "                else:\n",
      "                    counts[1] += 1\n",
      "            \n",
      "            \n",
      "        elif len(set(wks_in_qrt)) == 2: #this quarter has two unique types of statuses\n",
      "            unique = [int(n) for n in set(wks_in_qrt)]\n",
      "            unique.sort()\n",
      "            a, b = unique\n",
      "            \n",
      "            if 0 in wks_in_qrt:\n",
      "                assert a==0, 'wrong assertion!'\n",
      "                \n",
      "                if wks_in_qrt.count(0) < wks_in_qrt.count(b):\n",
      "                    qrt_data['qrt%s'%qrt_num].append(b)\n",
      "                    counts[2] += 1\n",
      "                    \n",
      "                else:\n",
      "                    qrt_data['qrt%s'%qrt_num].append(-2)\n",
      "                    counts[-2] += 1\n",
      "                    \n",
      "            else:\n",
      "                \n",
      "                if wks_in_qrt.count(a) < wks_in_qrt.count(b):\n",
      "                    qrt_data['qrt%s'%qrt_num].append(b)\n",
      "                    counts[3] += 1\n",
      "                elif wks_in_qrt.count(a) > wks_in_qrt.count(b):\n",
      "                    qrt_data['qrt%s'%qrt_num].append(a)\n",
      "                    counts[3] += 1\n",
      "                elif wks_in_qrt.count(a) == wks_in_qrt.count(b):\n",
      "                    qrt_data['qrt%s'%qrt_num].append(-3)\n",
      "                    counts[-3] += 1\n",
      "            \n",
      "        elif len(set(wks_in_qrt)) == 3:\n",
      "            unique = [int(n) for n in set(wks_in_qrt)]\n",
      "            unique.sort()\n",
      "            a, b, c = unique\n",
      "            \n",
      "            if 0 in wks_in_qrt:\n",
      "                assert a==0, 'wrong assertion!'\n",
      "                \n",
      "                if wks_in_qrt.count(b) == wks_in_qrt.count(c):\n",
      "                    qrt_data['qrt%s'%qrt_num].append(-4)\n",
      "                    counts[-4] += 1\n",
      "                \n",
      "                else:\n",
      "                    #let b represent the most frequent non-missing status and c the second most frequent\n",
      "                    if wks_in_qrt.count(b) < wks_in_qrt.count(c):\n",
      "                        b, c = c, b\n",
      "                    \n",
      "                    #assign the missing weeks the second frequent status \n",
      "                    #and see if the most frequent status changes\n",
      "                    if wks_in_qrt.count(b) > wks_in_qrt.count(c)+wks_in_qrt.count(0): #not change\n",
      "                        qrt_data['qrt%s'%qrt_num].append(b)\n",
      "                        counts[4] += 1\n",
      "                            \n",
      "                    elif wks_in_qrt.count(b) <= wks_in_qrt.count(c)+wks_in_qrt.count(0): #changed\n",
      "                        qrt_data['qrt%s'%qrt_num].append(-5)\n",
      "                        counts[-5] += 1\n",
      "                    \n",
      "            else:\n",
      "                freq = [(int(n), wks_in_qrt.count(n)) for n in set(wks_in_qrt)]\n",
      "                freq.sort(key=itemgetter(1))\n",
      "                \n",
      "                if freq[0][1] > freq[1][1]:\n",
      "                    qrt_data['qrt%s'%qrt_num].append(freq[0][0])\n",
      "                    counts[5] += 1\n",
      "                    \n",
      "                elif freq[0][1] == freq[1][1]:\n",
      "                    qrt_data['qrt%s'%qrt_num].append(-6)\n",
      "                    counts[-6] += 1\n",
      "        else:\n",
      "            qrt_data['qrt%s'%qrt_num].append(None)\n",
      "            counts['len%s'%len(set(wks_in_qrt))] += 1\n",
      "                          "
     ],
     "language": "python",
     "metadata": {},
     "outputs": [],
     "prompt_number": 39
    },
    {
     "cell_type": "code",
     "collapsed": false,
     "input": [
      "for (k, v) in counts.items():\n",
      "    print k, v, v/72/2659."
     ],
     "language": "python",
     "metadata": {},
     "outputs": [
      {
       "output_type": "stream",
       "stream": "stdout",
       "text": [
        "1 158633 0.828506957503\n",
        "2 311 0.00150432493419\n",
        "3 26821 0.139902218879\n",
        "4 119 0.000376081233546\n",
        "1.3 421 0.00188040616773\n",
        "-2 170 0.000752162467093\n",
        "len5 3 0.0\n",
        "len4 198 0.000752162467093\n",
        "1.15 833 0.00413689356901\n",
        "-6 616 0.00300864986837\n",
        "-5 30 0.0\n",
        "-4 12 0.0\n",
        "-3 193 0.000752162467093\n",
        "-1 644 0.00300864986837\n"
       ]
      }
     ],
     "prompt_number": 41
    },
    {
     "cell_type": "code",
     "collapsed": false,
     "input": [],
     "language": "python",
     "metadata": {},
     "outputs": []
    }
   ],
   "metadata": {}
  }
 ]
}