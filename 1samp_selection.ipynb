{
 "metadata": {
  "name": ""
 },
 "nbformat": 3,
 "nbformat_minor": 0,
 "worksheets": [
  {
   "cells": [
    {
     "cell_type": "markdown",
     "metadata": {},
     "source": [
      "#Optout Project\n",
      "#Part One: Sample Selection and Fertility Missing Data"
     ]
    },
    {
     "cell_type": "code",
     "collapsed": false,
     "input": [
      "#setup\n",
      "%matplotlib inline\n",
      "import numpy as np\n",
      "import matplotlib.pyplot as plt\n",
      "import pandas as pd\n",
      "import time\n",
      "from collections import defaultdict\n",
      "\n",
      "# set some nicer defaults for matplotlib\n",
      "from matplotlib import rcParams\n",
      "\n",
      "#these colors come from colorbrewer2.org. Each is an RGB triplet\n",
      "dark2_colors = [(0.10588235294117647, 0.6196078431372549, 0.4666666666666667),\n",
      "                (0.8509803921568627, 0.37254901960784315, 0.00784313725490196),\n",
      "                (0.4588235294117647, 0.4392156862745098, 0.7019607843137254),\n",
      "                (0.9058823529411765, 0.1607843137254902, 0.5411764705882353),\n",
      "                (0.4, 0.6509803921568628, 0.11764705882352941),\n",
      "                (0.9019607843137255, 0.6705882352941176, 0.00784313725490196),\n",
      "                (0.6509803921568628, 0.4627450980392157, 0.11372549019607843),\n",
      "                (0.4, 0.4, 0.4)]\n",
      "\n",
      "rcParams['figure.figsize'] = (10, 6)\n",
      "rcParams['figure.dpi'] = 150\n",
      "rcParams['axes.color_cycle'] = dark2_colors\n",
      "rcParams['lines.linewidth'] = 2\n",
      "rcParams['axes.grid'] = False\n",
      "rcParams['axes.facecolor'] = 'white'\n",
      "rcParams['font.size'] = 14\n",
      "rcParams['patch.edgecolor'] = 'none'\n",
      "\n",
      "def remove_border(axes=None, top=False, right=False, left=True, bottom=True):\n",
      "    \"\"\"\n",
      "    Minimize chartjunk by stripping out unnecessary plot borders and axis ticks\n",
      "    \n",
      "    The top/right/left/bottom keywords toggle whether the corresponding plot border is drawn\n",
      "    \"\"\"\n",
      "    ax = axes or plt.gca()\n",
      "    ax.spines['top'].set_visible(top)\n",
      "    ax.spines['right'].set_visible(right)\n",
      "    ax.spines['left'].set_visible(left)\n",
      "    ax.spines['bottom'].set_visible(bottom)\n",
      "    \n",
      "    #turn off all ticks\n",
      "    ax.yaxis.set_ticks_position('none')\n",
      "    ax.xaxis.set_ticks_position('none')\n",
      "    \n",
      "    #now re-enable visibles\n",
      "    if top:\n",
      "        ax.xaxis.tick_top()\n",
      "    if bottom:\n",
      "        ax.xaxis.tick_bottom()\n",
      "    if left:\n",
      "        ax.yaxis.tick_left()\n",
      "    if right:\n",
      "        ax.yaxis.tick_right()"
     ],
     "language": "python",
     "metadata": {},
     "outputs": [],
     "prompt_number": 1
    },
    {
     "cell_type": "code",
     "collapsed": false,
     "input": [
      "xl_file = pd.ExcelFile('continuous_week_crosswalk.xlsx')\n",
      "weekdf = xl_file.parse('weekdates1')\n",
      "print weekdf.shape\n",
      "weekdf.head()"
     ],
     "language": "python",
     "metadata": {},
     "outputs": [
      {
       "output_type": "stream",
       "stream": "stdout",
       "text": [
        "(1774, 5)\n"
       ]
      },
      {
       "html": [
        "<div style=\"max-height:1000px;max-width:1500px;overflow:auto;\">\n",
        "<table border=\"1\" class=\"dataframe\">\n",
        "  <thead>\n",
        "    <tr style=\"text-align: right;\">\n",
        "      <th></th>\n",
        "      <th>Week Start:\n",
        "Month</th>\n",
        "      <th>Week Start: \n",
        "Day</th>\n",
        "      <th>Week Start: \n",
        "Year</th>\n",
        "      <th>Calendar Year \n",
        "Week Number </th>\n",
        "      <th>Continuous \n",
        "Week Number</th>\n",
        "    </tr>\n",
        "  </thead>\n",
        "  <tbody>\n",
        "    <tr>\n",
        "      <th>0</th>\n",
        "      <td> 1</td>\n",
        "      <td>  1</td>\n",
        "      <td> 1978</td>\n",
        "      <td> 1</td>\n",
        "      <td> 1</td>\n",
        "    </tr>\n",
        "    <tr>\n",
        "      <th>1</th>\n",
        "      <td> 1</td>\n",
        "      <td>  8</td>\n",
        "      <td> 1978</td>\n",
        "      <td> 2</td>\n",
        "      <td> 2</td>\n",
        "    </tr>\n",
        "    <tr>\n",
        "      <th>2</th>\n",
        "      <td> 1</td>\n",
        "      <td> 15</td>\n",
        "      <td> 1978</td>\n",
        "      <td> 3</td>\n",
        "      <td> 3</td>\n",
        "    </tr>\n",
        "    <tr>\n",
        "      <th>3</th>\n",
        "      <td> 1</td>\n",
        "      <td> 22</td>\n",
        "      <td> 1978</td>\n",
        "      <td> 4</td>\n",
        "      <td> 4</td>\n",
        "    </tr>\n",
        "    <tr>\n",
        "      <th>4</th>\n",
        "      <td> 1</td>\n",
        "      <td> 29</td>\n",
        "      <td> 1978</td>\n",
        "      <td> 5</td>\n",
        "      <td> 5</td>\n",
        "    </tr>\n",
        "  </tbody>\n",
        "</table>\n",
        "</div>"
       ],
       "metadata": {},
       "output_type": "pyout",
       "prompt_number": 2,
       "text": [
        "   Week Start:\\nMonth  Week Start: \\nDay  Week Start: \\nYear  \\\n",
        "0                   1                  1                1978   \n",
        "1                   1                  8                1978   \n",
        "2                   1                 15                1978   \n",
        "3                   1                 22                1978   \n",
        "4                   1                 29                1978   \n",
        "\n",
        "   Calendar Year \\nWeek Number   Continuous \\nWeek Number  \n",
        "0                             1                         1  \n",
        "1                             2                         2  \n",
        "2                             3                         3  \n",
        "3                             4                         4  \n",
        "4                             5                         5  "
       ]
      }
     ],
     "prompt_number": 2
    },
    {
     "cell_type": "code",
     "collapsed": false,
     "input": [
      "def get_week_num(year, month, which, df=weekdf):\n",
      "    \"\"\"Given a year and month in the calendar, \n",
      "    return the corresponding week number in NLSY79\n",
      "    using coutinuous_week_crosswalk.xlsx\n",
      "    \n",
      "    if which=='first', return the first week in that month\n",
      "    if which=='last', return the last week in that month \n",
      "    \"\"\"\n",
      "\n",
      "    \n",
      "    #column names in weekdf:\n",
      "    #u'Week Start:\\nMonth'\n",
      "    #u'Week Start: \\nDay'\n",
      "    #u'Week Start: \\nYear'\n",
      "    #u'Calendar Year \\nWeek Number '\n",
      "    #u'Continuous \\nWeek Number'\n",
      "    \n",
      "    that_month = weekdf[(weekdf['Week Start:\\nMonth']==month)&(weekdf['Week Start: \\nYear']==year)]\n",
      "    \n",
      "    if which == 'first':\n",
      "        return that_month.iloc[0]['Continuous \\nWeek Number']\n",
      "    elif which == 'last':\n",
      "        return that_month.iloc[len(that_month)-1]['Continuous \\nWeek Number']"
     ],
     "language": "python",
     "metadata": {},
     "outputs": [],
     "prompt_number": 3
    },
    {
     "cell_type": "markdown",
     "metadata": {},
     "source": [
      "##1. Determine the last year with valid data using ageatint (age at interview) variables\n",
      "\n",
      "Goal: find the last year with valid data (i.e after this last valid year, all ageatint variables return .e, noninterview)"
     ]
    },
    {
     "cell_type": "code",
     "collapsed": false,
     "input": [
      "#read csv file and save it to a DataFrame object\n",
      "df = pd.read_csv(\"age_data.csv\")\n",
      "print df.shape"
     ],
     "language": "python",
     "metadata": {},
     "outputs": [
      {
       "output_type": "stream",
       "stream": "stdout",
       "text": [
        "(4926, 25)\n"
       ]
      }
     ],
     "prompt_number": 4
    },
    {
     "cell_type": "code",
     "collapsed": false,
     "input": [
      "#create a dictionary object to store results. \n",
      "#the dictionary d has two keys: \n",
      "    #id represents respondent id \n",
      "    #last_yr: after this last valid year, all ageatint variables return .e (noninterview)\n",
      "d = {'id':[], 'last_yr':[]}\n",
      "\n",
      "#iterate through the DataFrame \n",
      "for i, row in df.iterrows():\n",
      "    #for each row, find the column index of the last year with valid data\n",
      "    j = -1\n",
      "    while row[j] == '.e':\n",
      "        j -= 1\n",
      "        \n",
      "    #find the year associated with the column\n",
      "    var = row.index[j]\n",
      "    \n",
      "    #store results to the dictionary d\n",
      "    d['id'].append(row['id'])\n",
      "    d['last_yr'].append(time.strptime(var[-2:],'%y').tm_year)"
     ],
     "language": "python",
     "metadata": {},
     "outputs": [],
     "prompt_number": 5
    },
    {
     "cell_type": "code",
     "collapsed": false,
     "input": [
      "#create a new DataFrame using data in the dictionary d\n",
      "year_df = pd.DataFrame(d)\n",
      "\n",
      "#browse the first 20 rows in the new DataFrame\n",
      "year_df.head(10) "
     ],
     "language": "python",
     "metadata": {},
     "outputs": [
      {
       "html": [
        "<div style=\"max-height:1000px;max-width:1500px;overflow:auto;\">\n",
        "<table border=\"1\" class=\"dataframe\">\n",
        "  <thead>\n",
        "    <tr style=\"text-align: right;\">\n",
        "      <th></th>\n",
        "      <th>id</th>\n",
        "      <th>last_yr</th>\n",
        "    </tr>\n",
        "  </thead>\n",
        "  <tbody>\n",
        "    <tr>\n",
        "      <th>0</th>\n",
        "      <td>  1</td>\n",
        "      <td> 1981</td>\n",
        "    </tr>\n",
        "    <tr>\n",
        "      <th>1</th>\n",
        "      <td>  2</td>\n",
        "      <td> 2010</td>\n",
        "    </tr>\n",
        "    <tr>\n",
        "      <th>2</th>\n",
        "      <td>  3</td>\n",
        "      <td> 2008</td>\n",
        "    </tr>\n",
        "    <tr>\n",
        "      <th>3</th>\n",
        "      <td>  4</td>\n",
        "      <td> 1998</td>\n",
        "    </tr>\n",
        "    <tr>\n",
        "      <th>4</th>\n",
        "      <td>  8</td>\n",
        "      <td> 2010</td>\n",
        "    </tr>\n",
        "    <tr>\n",
        "      <th>5</th>\n",
        "      <td> 10</td>\n",
        "      <td> 1994</td>\n",
        "    </tr>\n",
        "    <tr>\n",
        "      <th>6</th>\n",
        "      <td> 12</td>\n",
        "      <td> 1994</td>\n",
        "    </tr>\n",
        "    <tr>\n",
        "      <th>7</th>\n",
        "      <td> 14</td>\n",
        "      <td> 2010</td>\n",
        "    </tr>\n",
        "    <tr>\n",
        "      <th>8</th>\n",
        "      <td> 16</td>\n",
        "      <td> 2010</td>\n",
        "    </tr>\n",
        "    <tr>\n",
        "      <th>9</th>\n",
        "      <td> 19</td>\n",
        "      <td> 2010</td>\n",
        "    </tr>\n",
        "  </tbody>\n",
        "</table>\n",
        "</div>"
       ],
       "metadata": {},
       "output_type": "pyout",
       "prompt_number": 6,
       "text": [
        "   id  last_yr\n",
        "0   1     1981\n",
        "1   2     2010\n",
        "2   3     2008\n",
        "3   4     1998\n",
        "4   8     2010\n",
        "5  10     1994\n",
        "6  12     1994\n",
        "7  14     2010\n",
        "8  16     2010\n",
        "9  19     2010"
       ]
      }
     ],
     "prompt_number": 6
    },
    {
     "cell_type": "code",
     "collapsed": false,
     "input": [
      "#save the new DataFrame into csv file last_year_data.csv\n",
      "year_df.to_csv('last_year_data.csv')"
     ],
     "language": "python",
     "metadata": {},
     "outputs": [],
     "prompt_number": 7
    },
    {
     "cell_type": "markdown",
     "metadata": {},
     "source": [
      "##2. Determine the last year with valid data using rni (reasons for non-interviews) variables "
     ]
    },
    {
     "cell_type": "code",
     "collapsed": false,
     "input": [
      "#similarly as before, read the csv file\n",
      "df_rni = pd.read_csv(\"rni_data.csv\")"
     ],
     "language": "python",
     "metadata": {},
     "outputs": [],
     "prompt_number": 8
    },
    {
     "cell_type": "code",
     "collapsed": false,
     "input": [
      "#create a dictionary object to store results\n",
      "e = {'id':[], 'last_yr':[]}\n",
      "\n",
      "#iterate through the rows and find the last year with valid data\n",
      "#the slight different from part 1 is that here the rni variables start from 1980, \n",
      "#which makes it a little bit tricky to determine the last year of valid data, which is\n",
      "#when analyzing a row, the while loop below might go all the way back to the first column of id\n",
      "#unlike in part 1, the while loop will stop at 1979 because all respondents must have taken the \n",
      "#survey in 1979 so I need some more codes to deal with the cases when the while loop goes all \n",
      "#the way back to the column id\n",
      "for i, row in df_rni.iterrows():\n",
      "    j = -1\n",
      "    while row[j] != '.d':\n",
      "        if row.index[j] == 'id': \n",
      "            break\n",
      "        else:\n",
      "            j -= 1\n",
      "\n",
      "    e['id'].append(row['id'])\n",
      "    \n",
      "    var = row.index[j]\n",
      "    if var == 'id':\n",
      "        e['last_yr'].append(1979)\n",
      "    else:\n",
      "        e['last_yr'].append(time.strptime(var[-2:],'%y').tm_year)"
     ],
     "language": "python",
     "metadata": {},
     "outputs": [],
     "prompt_number": 9
    },
    {
     "cell_type": "code",
     "collapsed": false,
     "input": [
      "#save results to a DataFrame and browse it\n",
      "year_rni_df = pd.DataFrame(e)\n",
      "year_rni_df.head(10) "
     ],
     "language": "python",
     "metadata": {},
     "outputs": [
      {
       "html": [
        "<div style=\"max-height:1000px;max-width:1500px;overflow:auto;\">\n",
        "<table border=\"1\" class=\"dataframe\">\n",
        "  <thead>\n",
        "    <tr style=\"text-align: right;\">\n",
        "      <th></th>\n",
        "      <th>id</th>\n",
        "      <th>last_yr</th>\n",
        "    </tr>\n",
        "  </thead>\n",
        "  <tbody>\n",
        "    <tr>\n",
        "      <th>0</th>\n",
        "      <td>  1</td>\n",
        "      <td> 1981</td>\n",
        "    </tr>\n",
        "    <tr>\n",
        "      <th>1</th>\n",
        "      <td>  2</td>\n",
        "      <td> 2010</td>\n",
        "    </tr>\n",
        "    <tr>\n",
        "      <th>2</th>\n",
        "      <td>  3</td>\n",
        "      <td> 2008</td>\n",
        "    </tr>\n",
        "    <tr>\n",
        "      <th>3</th>\n",
        "      <td>  4</td>\n",
        "      <td> 1998</td>\n",
        "    </tr>\n",
        "    <tr>\n",
        "      <th>4</th>\n",
        "      <td>  8</td>\n",
        "      <td> 2010</td>\n",
        "    </tr>\n",
        "    <tr>\n",
        "      <th>5</th>\n",
        "      <td> 10</td>\n",
        "      <td> 1994</td>\n",
        "    </tr>\n",
        "    <tr>\n",
        "      <th>6</th>\n",
        "      <td> 12</td>\n",
        "      <td> 1994</td>\n",
        "    </tr>\n",
        "    <tr>\n",
        "      <th>7</th>\n",
        "      <td> 14</td>\n",
        "      <td> 2010</td>\n",
        "    </tr>\n",
        "    <tr>\n",
        "      <th>8</th>\n",
        "      <td> 16</td>\n",
        "      <td> 2010</td>\n",
        "    </tr>\n",
        "    <tr>\n",
        "      <th>9</th>\n",
        "      <td> 19</td>\n",
        "      <td> 2010</td>\n",
        "    </tr>\n",
        "  </tbody>\n",
        "</table>\n",
        "</div>"
       ],
       "metadata": {},
       "output_type": "pyout",
       "prompt_number": 10,
       "text": [
        "   id  last_yr\n",
        "0   1     1981\n",
        "1   2     2010\n",
        "2   3     2008\n",
        "3   4     1998\n",
        "4   8     2010\n",
        "5  10     1994\n",
        "6  12     1994\n",
        "7  14     2010\n",
        "8  16     2010\n",
        "9  19     2010"
       ]
      }
     ],
     "prompt_number": 10
    },
    {
     "cell_type": "markdown",
     "metadata": {},
     "source": [
      "##3. Compare the results of final year of valid data from two methods"
     ]
    },
    {
     "cell_type": "code",
     "collapsed": false,
     "input": [
      "#compare the number of rows of the results stored in the two DataFrames\n",
      "year_df.shape == year_rni_df.shape"
     ],
     "language": "python",
     "metadata": {},
     "outputs": [
      {
       "metadata": {},
       "output_type": "pyout",
       "prompt_number": 11,
       "text": [
        "True"
       ]
      }
     ],
     "prompt_number": 11
    },
    {
     "cell_type": "code",
     "collapsed": false,
     "input": [
      "#compare id and last_yr in the two DataFrames\n",
      "for i in range(year_df.shape[0]):\n",
      "    assert year_df.iloc[i]['id'] == year_rni_df.iloc[i]['id'], 'Error appeared in id in row %s'%i\n",
      "    assert year_df.iloc[i]['last_yr'] == year_rni_df.iloc[i]['last_yr'], 'Error appeared in last_yr in row %s'%i"
     ],
     "language": "python",
     "metadata": {},
     "outputs": [],
     "prompt_number": 12
    },
    {
     "cell_type": "markdown",
     "metadata": {},
     "source": [
      "The last year of valid data derived using two methods (using ageatint variables and using rni variables) are the same. Therefore, the data are determined correctly."
     ]
    },
    {
     "cell_type": "markdown",
     "metadata": {},
     "source": [
      "##4. Check if employment history data were updated (nonmissing) until the last year with valid data identified in the above sections"
     ]
    },
    {
     "cell_type": "code",
     "collapsed": false,
     "input": [
      "#read csv file and save it to a DataFrame object\n",
      "seq_df = pd.read_csv('full_employmentseq.csv')\n",
      "print seq_df.shape"
     ],
     "language": "python",
     "metadata": {},
     "outputs": [
      {
       "output_type": "stream",
       "stream": "stdout",
       "text": [
        "(4926, 3483)\n"
       ]
      }
     ],
     "prompt_number": 13
    },
    {
     "cell_type": "code",
     "collapsed": false,
     "input": [
      "#check if the two dataframes seq_df and year_df have exactly the same column id\n",
      "\n",
      "#check the same number of rows/respondents\n",
      "print len(seq_df) == len(year_df) \n",
      "\n",
      "#check pairwise \n",
      "for i in range(year_df.shape[0]):\n",
      "    assert year_df.iloc[i]['id'] == seq_df.iloc[i]['id'], 'Error appeared in id in row %s'%i"
     ],
     "language": "python",
     "metadata": {},
     "outputs": [
      {
       "output_type": "stream",
       "stream": "stdout",
       "text": [
        "True\n"
       ]
      }
     ],
     "prompt_number": 14
    },
    {
     "cell_type": "markdown",
     "metadata": {},
     "source": [
      "###Check the percentage of missingness in employment weekly data in the last THREE year with valid data"
     ]
    },
    {
     "cell_type": "code",
     "collapsed": false,
     "input": [
      "#for each respondent, find the weeks in each of her last three years with data, \n",
      "#and calculate the percentage of missingness in the weeks in each year\n",
      "\n",
      "#create a dictionary object to store results\n",
      "e = defaultdict(list)\n",
      "\n",
      "for i, row in seq_df.iterrows():\n",
      "    if row['id'] % 100 == 0:\n",
      "        print row['id']\n",
      "        \n",
      "    e['id'].append(row['id'])\n",
      "    \n",
      "    #last year with valid data\n",
      "    last_yr3 = year_df.at[i, 'last_yr']\n",
      "    e['last_yr3'].append(last_yr3)\n",
      "    \n",
      "    start_wk3 = get_week_num(last_yr3, 1, 'first')\n",
      "    end_wk3 = get_week_num(last_yr3, 12, 'last')\n",
      "    seq3 = [seq_df.at[i, 'status_wk_num%04d'%s] for s in range(int(start_wk3), int(end_wk3)+1)]\n",
      "    e['last_yr3_%'].append(seq3.count('0: NO INFO REPORTED FOR WEEK')/float(len(seq3)))\n",
      "    \n",
      "    #second last year with valid data\n",
      "    last_yr2 = year_df.at[i, 'last_yr'] - 1\n",
      "    e['last_yr2'].append(last_yr2)    \n",
      "    \n",
      "    if last_yr2 >= 1978: #no employment history available for this year    \n",
      "        start_wk2 = get_week_num(last_yr2, 1, 'first')\n",
      "        end_wk2 = get_week_num(last_yr2, 12, 'last')\n",
      "        seq2 = [seq_df.at[i, 'status_wk_num%04d'%s] for s in range(int(start_wk2), int(end_wk2)+1)]\n",
      "        e['last_yr2_%'].append(seq2.count('0: NO INFO REPORTED FOR WEEK')/float(len(seq2)))\n",
      "    else: #no employment history available for this year\n",
      "        e['last_yr2_%'].append(None)\n",
      "    \n",
      "    #third last year with valid data\n",
      "    last_yr1 = year_df.at[i, 'last_yr'] - 2\n",
      "    e['last_yr1'].append(last_yr1)\n",
      "    \n",
      "    if last_yr1 >= 1978:\n",
      "        start_wk1 = get_week_num(last_yr1, 1, 'first')\n",
      "        end_wk1 = get_week_num(last_yr1, 12, 'last')\n",
      "        seq1 = [seq_df.at[i, 'status_wk_num%04d'%s] for s in range(int(start_wk1), int(end_wk1)+1)]        \n",
      "        e['last_yr1_%'].append(seq1.count('0: NO INFO REPORTED FOR WEEK')/float(len(seq1)))\n",
      "    else: #no employment history available for this year\n",
      "        e['last_yr1_%'].append(None)\n",
      "    "
     ],
     "language": "python",
     "metadata": {},
     "outputs": [
      {
       "output_type": "stream",
       "stream": "stdout",
       "text": [
        "100\n",
        "200"
       ]
      },
      {
       "output_type": "stream",
       "stream": "stdout",
       "text": [
        "\n",
        "400"
       ]
      },
      {
       "output_type": "stream",
       "stream": "stdout",
       "text": [
        "\n",
        "500"
       ]
      },
      {
       "output_type": "stream",
       "stream": "stdout",
       "text": [
        "\n",
        "900"
       ]
      },
      {
       "output_type": "stream",
       "stream": "stdout",
       "text": [
        "\n",
        "1100"
       ]
      },
      {
       "output_type": "stream",
       "stream": "stdout",
       "text": [
        "\n",
        "1200"
       ]
      },
      {
       "output_type": "stream",
       "stream": "stdout",
       "text": [
        "\n",
        "1400"
       ]
      },
      {
       "output_type": "stream",
       "stream": "stdout",
       "text": [
        "\n",
        "1600"
       ]
      },
      {
       "output_type": "stream",
       "stream": "stdout",
       "text": [
        "\n",
        "1800"
       ]
      },
      {
       "output_type": "stream",
       "stream": "stdout",
       "text": [
        "\n",
        "1900"
       ]
      },
      {
       "output_type": "stream",
       "stream": "stdout",
       "text": [
        "\n",
        "2200"
       ]
      },
      {
       "output_type": "stream",
       "stream": "stdout",
       "text": [
        "\n",
        "2400"
       ]
      },
      {
       "output_type": "stream",
       "stream": "stdout",
       "text": [
        "\n",
        "2500"
       ]
      },
      {
       "output_type": "stream",
       "stream": "stdout",
       "text": [
        "\n",
        "2600"
       ]
      },
      {
       "output_type": "stream",
       "stream": "stdout",
       "text": [
        "\n",
        "2700"
       ]
      },
      {
       "output_type": "stream",
       "stream": "stdout",
       "text": [
        "\n",
        "2900"
       ]
      },
      {
       "output_type": "stream",
       "stream": "stdout",
       "text": [
        "\n",
        "3000"
       ]
      },
      {
       "output_type": "stream",
       "stream": "stdout",
       "text": [
        "\n",
        "3300"
       ]
      },
      {
       "output_type": "stream",
       "stream": "stdout",
       "text": [
        "\n",
        "3500"
       ]
      },
      {
       "output_type": "stream",
       "stream": "stdout",
       "text": [
        "\n",
        "3800"
       ]
      },
      {
       "output_type": "stream",
       "stream": "stdout",
       "text": [
        "\n",
        "3900"
       ]
      },
      {
       "output_type": "stream",
       "stream": "stdout",
       "text": [
        "\n",
        "4100"
       ]
      },
      {
       "output_type": "stream",
       "stream": "stdout",
       "text": [
        "\n",
        "4200"
       ]
      },
      {
       "output_type": "stream",
       "stream": "stdout",
       "text": [
        "\n",
        "4300"
       ]
      },
      {
       "output_type": "stream",
       "stream": "stdout",
       "text": [
        "\n",
        "4400"
       ]
      },
      {
       "output_type": "stream",
       "stream": "stdout",
       "text": [
        "\n",
        "4600"
       ]
      },
      {
       "output_type": "stream",
       "stream": "stdout",
       "text": [
        "\n",
        "4700"
       ]
      },
      {
       "output_type": "stream",
       "stream": "stdout",
       "text": [
        "\n",
        "5100"
       ]
      },
      {
       "output_type": "stream",
       "stream": "stdout",
       "text": [
        "\n",
        "5200"
       ]
      },
      {
       "output_type": "stream",
       "stream": "stdout",
       "text": [
        "\n",
        "5600"
       ]
      },
      {
       "output_type": "stream",
       "stream": "stdout",
       "text": [
        "\n",
        "5900"
       ]
      },
      {
       "output_type": "stream",
       "stream": "stdout",
       "text": [
        "\n",
        "6400"
       ]
      },
      {
       "output_type": "stream",
       "stream": "stdout",
       "text": [
        "\n",
        "7000"
       ]
      },
      {
       "output_type": "stream",
       "stream": "stdout",
       "text": [
        "\n",
        "7300"
       ]
      },
      {
       "output_type": "stream",
       "stream": "stdout",
       "text": [
        "\n",
        "7500"
       ]
      },
      {
       "output_type": "stream",
       "stream": "stdout",
       "text": [
        "\n",
        "7600"
       ]
      },
      {
       "output_type": "stream",
       "stream": "stdout",
       "text": [
        "\n",
        "7900"
       ]
      },
      {
       "output_type": "stream",
       "stream": "stdout",
       "text": [
        "\n",
        "8000"
       ]
      },
      {
       "output_type": "stream",
       "stream": "stdout",
       "text": [
        "\n",
        "8500"
       ]
      },
      {
       "output_type": "stream",
       "stream": "stdout",
       "text": [
        "\n",
        "8600\n",
        "8900"
       ]
      },
      {
       "output_type": "stream",
       "stream": "stdout",
       "text": [
        "\n",
        "9100"
       ]
      },
      {
       "output_type": "stream",
       "stream": "stdout",
       "text": [
        "\n",
        "10000"
       ]
      },
      {
       "output_type": "stream",
       "stream": "stdout",
       "text": [
        "\n",
        "10500"
       ]
      },
      {
       "output_type": "stream",
       "stream": "stdout",
       "text": [
        "\n",
        "11800"
       ]
      },
      {
       "output_type": "stream",
       "stream": "stdout",
       "text": [
        "\n",
        "11900"
       ]
      },
      {
       "output_type": "stream",
       "stream": "stdout",
       "text": [
        "\n",
        "12000"
       ]
      },
      {
       "output_type": "stream",
       "stream": "stdout",
       "text": [
        "\n"
       ]
      }
     ],
     "prompt_number": 15
    },
    {
     "cell_type": "code",
     "collapsed": false,
     "input": [
      "missingness_df = pd.DataFrame(e)\n",
      "print missingness_df.shape\n",
      "missingness_df.head(10)"
     ],
     "language": "python",
     "metadata": {},
     "outputs": [
      {
       "output_type": "stream",
       "stream": "stdout",
       "text": [
        "(4926, 7)\n"
       ]
      },
      {
       "html": [
        "<div style=\"max-height:1000px;max-width:1500px;overflow:auto;\">\n",
        "<table border=\"1\" class=\"dataframe\">\n",
        "  <thead>\n",
        "    <tr style=\"text-align: right;\">\n",
        "      <th></th>\n",
        "      <th>id</th>\n",
        "      <th>last_yr1</th>\n",
        "      <th>last_yr1_%</th>\n",
        "      <th>last_yr2</th>\n",
        "      <th>last_yr2_%</th>\n",
        "      <th>last_yr3</th>\n",
        "      <th>last_yr3_%</th>\n",
        "    </tr>\n",
        "  </thead>\n",
        "  <tbody>\n",
        "    <tr>\n",
        "      <th>0</th>\n",
        "      <td>  1</td>\n",
        "      <td> 1979</td>\n",
        "      <td> 0.00000</td>\n",
        "      <td> 1980</td>\n",
        "      <td> 0.000000</td>\n",
        "      <td> 1981</td>\n",
        "      <td> 0.538462</td>\n",
        "    </tr>\n",
        "    <tr>\n",
        "      <th>1</th>\n",
        "      <td>  2</td>\n",
        "      <td> 2008</td>\n",
        "      <td> 0.00000</td>\n",
        "      <td> 2009</td>\n",
        "      <td> 0.000000</td>\n",
        "      <td> 2010</td>\n",
        "      <td> 0.830189</td>\n",
        "    </tr>\n",
        "    <tr>\n",
        "      <th>2</th>\n",
        "      <td>  3</td>\n",
        "      <td> 2006</td>\n",
        "      <td> 0.45283</td>\n",
        "      <td> 2007</td>\n",
        "      <td> 0.403846</td>\n",
        "      <td> 2008</td>\n",
        "      <td> 0.173077</td>\n",
        "    </tr>\n",
        "    <tr>\n",
        "      <th>3</th>\n",
        "      <td>  4</td>\n",
        "      <td> 1996</td>\n",
        "      <td> 0.00000</td>\n",
        "      <td> 1997</td>\n",
        "      <td> 0.000000</td>\n",
        "      <td> 1998</td>\n",
        "      <td> 0.557692</td>\n",
        "    </tr>\n",
        "    <tr>\n",
        "      <th>4</th>\n",
        "      <td>  8</td>\n",
        "      <td> 2008</td>\n",
        "      <td> 0.00000</td>\n",
        "      <td> 2009</td>\n",
        "      <td> 0.038462</td>\n",
        "      <td> 2010</td>\n",
        "      <td> 1.000000</td>\n",
        "    </tr>\n",
        "    <tr>\n",
        "      <th>5</th>\n",
        "      <td> 10</td>\n",
        "      <td> 1992</td>\n",
        "      <td> 0.00000</td>\n",
        "      <td> 1993</td>\n",
        "      <td> 0.000000</td>\n",
        "      <td> 1994</td>\n",
        "      <td> 0.384615</td>\n",
        "    </tr>\n",
        "    <tr>\n",
        "      <th>6</th>\n",
        "      <td> 12</td>\n",
        "      <td> 1992</td>\n",
        "      <td> 0.00000</td>\n",
        "      <td> 1993</td>\n",
        "      <td> 0.000000</td>\n",
        "      <td> 1994</td>\n",
        "      <td> 0.211538</td>\n",
        "    </tr>\n",
        "    <tr>\n",
        "      <th>7</th>\n",
        "      <td> 14</td>\n",
        "      <td> 2008</td>\n",
        "      <td> 0.00000</td>\n",
        "      <td> 2009</td>\n",
        "      <td> 0.000000</td>\n",
        "      <td> 2010</td>\n",
        "      <td> 0.849057</td>\n",
        "    </tr>\n",
        "    <tr>\n",
        "      <th>8</th>\n",
        "      <td> 16</td>\n",
        "      <td> 2008</td>\n",
        "      <td> 0.00000</td>\n",
        "      <td> 2009</td>\n",
        "      <td> 0.000000</td>\n",
        "      <td> 2010</td>\n",
        "      <td> 0.886792</td>\n",
        "    </tr>\n",
        "    <tr>\n",
        "      <th>9</th>\n",
        "      <td> 19</td>\n",
        "      <td> 2008</td>\n",
        "      <td> 0.00000</td>\n",
        "      <td> 2009</td>\n",
        "      <td> 0.038462</td>\n",
        "      <td> 2010</td>\n",
        "      <td> 1.000000</td>\n",
        "    </tr>\n",
        "  </tbody>\n",
        "</table>\n",
        "</div>"
       ],
       "metadata": {},
       "output_type": "pyout",
       "prompt_number": 17,
       "text": [
        "   id  last_yr1  last_yr1_%  last_yr2  last_yr2_%  last_yr3  last_yr3_%\n",
        "0   1      1979     0.00000      1980    0.000000      1981    0.538462\n",
        "1   2      2008     0.00000      2009    0.000000      2010    0.830189\n",
        "2   3      2006     0.45283      2007    0.403846      2008    0.173077\n",
        "3   4      1996     0.00000      1997    0.000000      1998    0.557692\n",
        "4   8      2008     0.00000      2009    0.038462      2010    1.000000\n",
        "5  10      1992     0.00000      1993    0.000000      1994    0.384615\n",
        "6  12      1992     0.00000      1993    0.000000      1994    0.211538\n",
        "7  14      2008     0.00000      2009    0.000000      2010    0.849057\n",
        "8  16      2008     0.00000      2009    0.000000      2010    0.886792\n",
        "9  19      2008     0.00000      2009    0.038462      2010    1.000000"
       ]
      }
     ],
     "prompt_number": 17
    },
    {
     "cell_type": "code",
     "collapsed": false,
     "input": [
      "missingness_df.to_csv('missing_employment_data.csv', index=False)"
     ],
     "language": "python",
     "metadata": {},
     "outputs": [],
     "prompt_number": 18
    },
    {
     "cell_type": "markdown",
     "metadata": {},
     "source": [
      "###Generate some illustrative graphs"
     ]
    },
    {
     "cell_type": "code",
     "collapsed": false,
     "input": [
      "plt.hist(missingness_df['last_yr3_%'], bins=50)\n",
      "plt.xlabel('Percentage of Missingness')\n",
      "plt.ylabel('Frequency')\n",
      "plt.title('Employment Data Missingness in the Last Year with Valid Data')\n",
      "plt.show()"
     ],
     "language": "python",
     "metadata": {},
     "outputs": [
      {
       "metadata": {},
       "output_type": "display_data",
       "png": "[encoded data removed]",
       "text": [
        "<matplotlib.figure.Figure at 0x118bae290>"
       ]
      }
     ],
     "prompt_number": 19
    },
    {
     "cell_type": "code",
     "collapsed": false,
     "input": [
      "plt.hist(missingness_df['last_yr2_%'], bins=50)\n",
      "plt.xlabel('Percentage of Missingness')\n",
      "plt.ylabel('Frequency')\n",
      "plt.title('Employment Data Missingness in the Second Last Year with Valid Data')\n",
      "plt.show()"
     ],
     "language": "python",
     "metadata": {},
     "outputs": [
      {
       "metadata": {},
       "output_type": "display_data",
       "png": "[encoded data removed]",
       "text": [
        "<matplotlib.figure.Figure at 0x1020afdd0>"
       ]
      }
     ],
     "prompt_number": 20
    },
    {
     "cell_type": "code",
     "collapsed": false,
     "input": [
      "#Employment Data Missingness in the Third Last Year with Valid Data\n",
      "missingness_df['last_yr1_%'].describe()"
     ],
     "language": "python",
     "metadata": {},
     "outputs": [
      {
       "metadata": {},
       "output_type": "pyout",
       "prompt_number": 21,
       "text": [
        "count    4903.000000\n",
        "mean        0.009670\n",
        "std         0.079664\n",
        "min         0.000000\n",
        "25%         0.000000\n",
        "50%         0.000000\n",
        "75%         0.000000\n",
        "max         1.000000\n",
        "dtype: float64"
       ]
      }
     ],
     "prompt_number": 21
    },
    {
     "cell_type": "markdown",
     "metadata": {},
     "source": [
      "##5. Examine missing employment data in the last valid year again after restricting to the 1978-1991 sample"
     ]
    },
    {
     "cell_type": "code",
     "collapsed": false,
     "input": [
      "new_seq_df = pd.read_csv('full_employmentseq_1978_1991.csv')\n",
      "print new_seq_df.shape"
     ],
     "language": "python",
     "metadata": {},
     "outputs": [
      {
       "output_type": "stream",
       "stream": "stdout",
       "text": [
        "(2962, 3897)\n"
       ]
      }
     ],
     "prompt_number": 22
    },
    {
     "cell_type": "code",
     "collapsed": false,
     "input": [
      "#a slight modification of the previous function\n",
      "\n",
      "#for each respondent, find the weeks in each of her last three years with data, \n",
      "#and calculate the percentage of missingness in the weeks in each year\n",
      "\n",
      "#create a dictionary object to store results\n",
      "e = defaultdict(list)\n",
      "\n",
      "for i, row in new_seq_df.iterrows():\n",
      "    if row['id'] % 100 == 0:\n",
      "        print row['id']\n",
      "        \n",
      "    e['id'].append(row['id'])\n",
      "    \n",
      "    #last year with valid data\n",
      "    last_yr3 = year_df[year_df.id==row['id']].iloc[0]['last_yr']\n",
      "    e['last_yr3'].append(last_yr3)\n",
      "    \n",
      "    start_wk3 = get_week_num(last_yr3, 1, 'first')\n",
      "    end_wk3 = get_week_num(last_yr3, 12, 'last')\n",
      "    seq3 = [seq_df.at[i, 'status_wk_num%04d'%s] for s in range(int(start_wk3), int(end_wk3)+1)]\n",
      "    e['last_yr3_%'].append(seq3.count('0: NO INFO REPORTED FOR WEEK')/float(len(seq3)))\n",
      "    \n",
      "    #second last year with valid data\n",
      "    last_yr2 = last_yr3 - 1\n",
      "    e['last_yr2'].append(last_yr2)    \n",
      "    \n",
      "    if last_yr2 >= 1978: #no employment history available for this year    \n",
      "        start_wk2 = get_week_num(last_yr2, 1, 'first')\n",
      "        end_wk2 = get_week_num(last_yr2, 12, 'last')\n",
      "        seq2 = [seq_df.at[i, 'status_wk_num%04d'%s] for s in range(int(start_wk2), int(end_wk2)+1)]\n",
      "        e['last_yr2_%'].append(seq2.count('0: NO INFO REPORTED FOR WEEK')/float(len(seq2)))\n",
      "    else: #no employment history available for this year\n",
      "        e['last_yr2_%'].append(None)\n",
      "    \n",
      "    #third last year with valid data\n",
      "    last_yr1 = last_yr3 - 2\n",
      "    e['last_yr1'].append(last_yr1)\n",
      "    \n",
      "    if last_yr1 >= 1978:\n",
      "        start_wk1 = get_week_num(last_yr1, 1, 'first')\n",
      "        end_wk1 = get_week_num(last_yr1, 12, 'last')\n",
      "        seq1 = [seq_df.at[i, 'status_wk_num%04d'%s] for s in range(int(start_wk1), int(end_wk1)+1)]        \n",
      "        e['last_yr1_%'].append(seq1.count('0: NO INFO REPORTED FOR WEEK')/float(len(seq1)))\n",
      "    else: #no employment history available for this year\n",
      "        e['last_yr1_%'].append(None)\n",
      "    "
     ],
     "language": "python",
     "metadata": {},
     "outputs": [
      {
       "output_type": "stream",
       "stream": "stdout",
       "text": [
        "100\n",
        "200"
       ]
      },
      {
       "output_type": "stream",
       "stream": "stdout",
       "text": [
        "\n",
        "400"
       ]
      },
      {
       "output_type": "stream",
       "stream": "stdout",
       "text": [
        "\n",
        "900"
       ]
      },
      {
       "output_type": "stream",
       "stream": "stdout",
       "text": [
        "\n",
        "1200"
       ]
      },
      {
       "output_type": "stream",
       "stream": "stdout",
       "text": [
        "\n",
        "1400"
       ]
      },
      {
       "output_type": "stream",
       "stream": "stdout",
       "text": [
        "\n",
        "1900"
       ]
      },
      {
       "output_type": "stream",
       "stream": "stdout",
       "text": [
        "\n",
        "2400"
       ]
      },
      {
       "output_type": "stream",
       "stream": "stdout",
       "text": [
        "\n",
        "2500"
       ]
      },
      {
       "output_type": "stream",
       "stream": "stdout",
       "text": [
        "\n",
        "2700"
       ]
      },
      {
       "output_type": "stream",
       "stream": "stdout",
       "text": [
        "\n",
        "2900"
       ]
      },
      {
       "output_type": "stream",
       "stream": "stdout",
       "text": [
        "\n",
        "3500"
       ]
      },
      {
       "output_type": "stream",
       "stream": "stdout",
       "text": [
        "\n",
        "4200"
       ]
      },
      {
       "output_type": "stream",
       "stream": "stdout",
       "text": [
        "\n",
        "4300"
       ]
      },
      {
       "output_type": "stream",
       "stream": "stdout",
       "text": [
        "\n",
        "4600"
       ]
      },
      {
       "output_type": "stream",
       "stream": "stdout",
       "text": [
        "\n",
        "4700"
       ]
      },
      {
       "output_type": "stream",
       "stream": "stdout",
       "text": [
        "\n",
        "5100"
       ]
      },
      {
       "output_type": "stream",
       "stream": "stdout",
       "text": [
        "\n",
        "5200"
       ]
      },
      {
       "output_type": "stream",
       "stream": "stdout",
       "text": [
        "\n",
        "5600"
       ]
      },
      {
       "output_type": "stream",
       "stream": "stdout",
       "text": [
        "\n",
        "7000"
       ]
      },
      {
       "output_type": "stream",
       "stream": "stdout",
       "text": [
        "\n",
        "7500"
       ]
      },
      {
       "output_type": "stream",
       "stream": "stdout",
       "text": [
        "\n",
        "8000"
       ]
      },
      {
       "output_type": "stream",
       "stream": "stdout",
       "text": [
        "\n",
        "8500"
       ]
      },
      {
       "output_type": "stream",
       "stream": "stdout",
       "text": [
        "\n",
        "8600\n",
        "8900"
       ]
      },
      {
       "output_type": "stream",
       "stream": "stdout",
       "text": [
        "\n",
        "9100"
       ]
      },
      {
       "output_type": "stream",
       "stream": "stdout",
       "text": [
        "\n",
        "10000"
       ]
      },
      {
       "output_type": "stream",
       "stream": "stdout",
       "text": [
        "\n",
        "10500"
       ]
      },
      {
       "output_type": "stream",
       "stream": "stdout",
       "text": [
        "\n",
        "12000"
       ]
      },
      {
       "output_type": "stream",
       "stream": "stdout",
       "text": [
        "\n"
       ]
      }
     ],
     "prompt_number": 30
    },
    {
     "cell_type": "code",
     "collapsed": false,
     "input": [
      "missingness_df = pd.DataFrame(e)\n",
      "print missingness_df.shape\n",
      "missingness_df.head(10)"
     ],
     "language": "python",
     "metadata": {},
     "outputs": [
      {
       "output_type": "stream",
       "stream": "stdout",
       "text": [
        "(2962, 7)\n"
       ]
      },
      {
       "html": [
        "<div style=\"max-height:1000px;max-width:1500px;overflow:auto;\">\n",
        "<table border=\"1\" class=\"dataframe\">\n",
        "  <thead>\n",
        "    <tr style=\"text-align: right;\">\n",
        "      <th></th>\n",
        "      <th>id</th>\n",
        "      <th>last_yr1</th>\n",
        "      <th>last_yr1_%</th>\n",
        "      <th>last_yr2</th>\n",
        "      <th>last_yr2_%</th>\n",
        "      <th>last_yr3</th>\n",
        "      <th>last_yr3_%</th>\n",
        "    </tr>\n",
        "  </thead>\n",
        "  <tbody>\n",
        "    <tr>\n",
        "      <th>0</th>\n",
        "      <td>  3</td>\n",
        "      <td> 2006</td>\n",
        "      <td> 1</td>\n",
        "      <td> 2007</td>\n",
        "      <td> 1.000000</td>\n",
        "      <td> 2008</td>\n",
        "      <td> 1.000000</td>\n",
        "    </tr>\n",
        "    <tr>\n",
        "      <th>1</th>\n",
        "      <td>  4</td>\n",
        "      <td> 1996</td>\n",
        "      <td> 0</td>\n",
        "      <td> 1997</td>\n",
        "      <td> 0.000000</td>\n",
        "      <td> 1998</td>\n",
        "      <td> 0.000000</td>\n",
        "    </tr>\n",
        "    <tr>\n",
        "      <th>2</th>\n",
        "      <td> 10</td>\n",
        "      <td> 1992</td>\n",
        "      <td> 0</td>\n",
        "      <td> 1993</td>\n",
        "      <td> 0.000000</td>\n",
        "      <td> 1994</td>\n",
        "      <td> 0.000000</td>\n",
        "    </tr>\n",
        "    <tr>\n",
        "      <th>3</th>\n",
        "      <td> 12</td>\n",
        "      <td> 1992</td>\n",
        "      <td> 0</td>\n",
        "      <td> 1993</td>\n",
        "      <td> 0.000000</td>\n",
        "      <td> 1994</td>\n",
        "      <td> 0.000000</td>\n",
        "    </tr>\n",
        "    <tr>\n",
        "      <th>4</th>\n",
        "      <td> 16</td>\n",
        "      <td> 2008</td>\n",
        "      <td> 0</td>\n",
        "      <td> 2009</td>\n",
        "      <td> 0.038462</td>\n",
        "      <td> 2010</td>\n",
        "      <td> 1.000000</td>\n",
        "    </tr>\n",
        "    <tr>\n",
        "      <th>5</th>\n",
        "      <td> 19</td>\n",
        "      <td> 2008</td>\n",
        "      <td> 1</td>\n",
        "      <td> 2009</td>\n",
        "      <td> 1.000000</td>\n",
        "      <td> 2010</td>\n",
        "      <td> 1.000000</td>\n",
        "    </tr>\n",
        "    <tr>\n",
        "      <th>6</th>\n",
        "      <td> 20</td>\n",
        "      <td> 2006</td>\n",
        "      <td> 1</td>\n",
        "      <td> 2007</td>\n",
        "      <td> 1.000000</td>\n",
        "      <td> 2008</td>\n",
        "      <td> 1.000000</td>\n",
        "    </tr>\n",
        "    <tr>\n",
        "      <th>7</th>\n",
        "      <td> 25</td>\n",
        "      <td> 2008</td>\n",
        "      <td> 0</td>\n",
        "      <td> 2009</td>\n",
        "      <td> 0.000000</td>\n",
        "      <td> 2010</td>\n",
        "      <td> 0.849057</td>\n",
        "    </tr>\n",
        "    <tr>\n",
        "      <th>8</th>\n",
        "      <td> 27</td>\n",
        "      <td> 2008</td>\n",
        "      <td> 0</td>\n",
        "      <td> 2009</td>\n",
        "      <td> 0.000000</td>\n",
        "      <td> 2010</td>\n",
        "      <td> 0.886792</td>\n",
        "    </tr>\n",
        "    <tr>\n",
        "      <th>9</th>\n",
        "      <td> 30</td>\n",
        "      <td> 2008</td>\n",
        "      <td> 0</td>\n",
        "      <td> 2009</td>\n",
        "      <td> 0.038462</td>\n",
        "      <td> 2010</td>\n",
        "      <td> 1.000000</td>\n",
        "    </tr>\n",
        "  </tbody>\n",
        "</table>\n",
        "</div>"
       ],
       "metadata": {},
       "output_type": "pyout",
       "prompt_number": 31,
       "text": [
        "   id  last_yr1  last_yr1_%  last_yr2  last_yr2_%  last_yr3  last_yr3_%\n",
        "0   3      2006           1      2007    1.000000      2008    1.000000\n",
        "1   4      1996           0      1997    0.000000      1998    0.000000\n",
        "2  10      1992           0      1993    0.000000      1994    0.000000\n",
        "3  12      1992           0      1993    0.000000      1994    0.000000\n",
        "4  16      2008           0      2009    0.038462      2010    1.000000\n",
        "5  19      2008           1      2009    1.000000      2010    1.000000\n",
        "6  20      2006           1      2007    1.000000      2008    1.000000\n",
        "7  25      2008           0      2009    0.000000      2010    0.849057\n",
        "8  27      2008           0      2009    0.000000      2010    0.886792\n",
        "9  30      2008           0      2009    0.038462      2010    1.000000"
       ]
      }
     ],
     "prompt_number": 31
    },
    {
     "cell_type": "code",
     "collapsed": false,
     "input": [
      "plt.hist(missingness_df['last_yr3_%'], bins=50)\n",
      "plt.xlabel('Percentage of Missingness')\n",
      "plt.ylabel('Frequency')\n",
      "plt.title('Employment Data Missingness in the Last Year with Valid Data (new sample 1978-1991)')\n",
      "plt.show()"
     ],
     "language": "python",
     "metadata": {},
     "outputs": [
      {
       "metadata": {},
       "output_type": "display_data",
       "png": "[encoded data removed]",
       "text": [
        "<matplotlib.figure.Figure at 0x1085f98d0>"
       ]
      }
     ],
     "prompt_number": 34
    },
    {
     "cell_type": "code",
     "collapsed": false,
     "input": [
      "missingness_df[['last_yr3', 'last_yr3_%']].groupby('last_yr3').agg([len, np.mean])"
     ],
     "language": "python",
     "metadata": {},
     "outputs": [
      {
       "html": [
        "<div style=\"max-height:1000px;max-width:1500px;overflow:auto;\">\n",
        "<table border=\"1\" class=\"dataframe\">\n",
        "  <thead>\n",
        "    <tr>\n",
        "      <th></th>\n",
        "      <th colspan=\"2\" halign=\"left\">last_yr3_%</th>\n",
        "    </tr>\n",
        "    <tr>\n",
        "      <th></th>\n",
        "      <th>len</th>\n",
        "      <th>mean</th>\n",
        "    </tr>\n",
        "    <tr>\n",
        "      <th>last_yr3</th>\n",
        "      <th></th>\n",
        "      <th></th>\n",
        "    </tr>\n",
        "  </thead>\n",
        "  <tbody>\n",
        "    <tr>\n",
        "      <th>1979</th>\n",
        "      <td>    1</td>\n",
        "      <td> 0.711538</td>\n",
        "    </tr>\n",
        "    <tr>\n",
        "      <th>1982</th>\n",
        "      <td>    4</td>\n",
        "      <td> 0.000000</td>\n",
        "    </tr>\n",
        "    <tr>\n",
        "      <th>1983</th>\n",
        "      <td>    5</td>\n",
        "      <td> 0.000000</td>\n",
        "    </tr>\n",
        "    <tr>\n",
        "      <th>1984</th>\n",
        "      <td>    4</td>\n",
        "      <td> 0.000000</td>\n",
        "    </tr>\n",
        "    <tr>\n",
        "      <th>1985</th>\n",
        "      <td>    5</td>\n",
        "      <td> 0.000000</td>\n",
        "    </tr>\n",
        "    <tr>\n",
        "      <th>1986</th>\n",
        "      <td>    4</td>\n",
        "      <td> 0.000000</td>\n",
        "    </tr>\n",
        "    <tr>\n",
        "      <th>1987</th>\n",
        "      <td>    6</td>\n",
        "      <td> 0.000000</td>\n",
        "    </tr>\n",
        "    <tr>\n",
        "      <th>1988</th>\n",
        "      <td>   11</td>\n",
        "      <td> 0.000000</td>\n",
        "    </tr>\n",
        "    <tr>\n",
        "      <th>1989</th>\n",
        "      <td>   15</td>\n",
        "      <td> 0.066667</td>\n",
        "    </tr>\n",
        "    <tr>\n",
        "      <th>1990</th>\n",
        "      <td>    8</td>\n",
        "      <td> 0.000000</td>\n",
        "    </tr>\n",
        "    <tr>\n",
        "      <th>1991</th>\n",
        "      <td>   13</td>\n",
        "      <td> 0.022189</td>\n",
        "    </tr>\n",
        "    <tr>\n",
        "      <th>1992</th>\n",
        "      <td>   11</td>\n",
        "      <td> 0.090909</td>\n",
        "    </tr>\n",
        "    <tr>\n",
        "      <th>1993</th>\n",
        "      <td>   24</td>\n",
        "      <td> 0.000000</td>\n",
        "    </tr>\n",
        "    <tr>\n",
        "      <th>1994</th>\n",
        "      <td>   29</td>\n",
        "      <td> 0.127321</td>\n",
        "    </tr>\n",
        "    <tr>\n",
        "      <th>1996</th>\n",
        "      <td>   23</td>\n",
        "      <td> 0.130435</td>\n",
        "    </tr>\n",
        "    <tr>\n",
        "      <th>1998</th>\n",
        "      <td>   63</td>\n",
        "      <td> 0.100733</td>\n",
        "    </tr>\n",
        "    <tr>\n",
        "      <th>2000</th>\n",
        "      <td>   69</td>\n",
        "      <td> 0.135083</td>\n",
        "    </tr>\n",
        "    <tr>\n",
        "      <th>2002</th>\n",
        "      <td>   38</td>\n",
        "      <td> 0.150810</td>\n",
        "    </tr>\n",
        "    <tr>\n",
        "      <th>2004</th>\n",
        "      <td>   60</td>\n",
        "      <td> 0.112179</td>\n",
        "    </tr>\n",
        "    <tr>\n",
        "      <th>2006</th>\n",
        "      <td>   46</td>\n",
        "      <td> 0.205496</td>\n",
        "    </tr>\n",
        "    <tr>\n",
        "      <th>2008</th>\n",
        "      <td>  122</td>\n",
        "      <td> 0.271910</td>\n",
        "    </tr>\n",
        "    <tr>\n",
        "      <th>2010</th>\n",
        "      <td> 2401</td>\n",
        "      <td> 0.870031</td>\n",
        "    </tr>\n",
        "  </tbody>\n",
        "</table>\n",
        "</div>"
       ],
       "metadata": {},
       "output_type": "pyout",
       "prompt_number": 37,
       "text": [
        "          last_yr3_%          \n",
        "                 len      mean\n",
        "last_yr3                      \n",
        "1979               1  0.711538\n",
        "1982               4  0.000000\n",
        "1983               5  0.000000\n",
        "1984               4  0.000000\n",
        "1985               5  0.000000\n",
        "1986               4  0.000000\n",
        "1987               6  0.000000\n",
        "1988              11  0.000000\n",
        "1989              15  0.066667\n",
        "1990               8  0.000000\n",
        "1991              13  0.022189\n",
        "1992              11  0.090909\n",
        "1993              24  0.000000\n",
        "1994              29  0.127321\n",
        "1996              23  0.130435\n",
        "1998              63  0.100733\n",
        "2000              69  0.135083\n",
        "2002              38  0.150810\n",
        "2004              60  0.112179\n",
        "2006              46  0.205496\n",
        "2008             122  0.271910\n",
        "2010            2401  0.870031"
       ]
      }
     ],
     "prompt_number": 37
    },
    {
     "cell_type": "markdown",
     "metadata": {},
     "source": [
      "##6. Determine sources of missingness in c2dob_y and c3dob_y"
     ]
    },
    {
     "cell_type": "code",
     "collapsed": false,
     "input": [
      "#read file\n",
      "dob_df = pd.read_csv('check_c2dob.csv')\n",
      "print dob_df.columns\n",
      "print dob_df.shape"
     ],
     "language": "python",
     "metadata": {},
     "outputs": [
      {
       "output_type": "stream",
       "stream": "stdout",
       "text": [
        "Index([u'id', u'num_ch79', u'numtotch80', u'numtotch81', u'numch82', u'numch83', u'numch84', u'numch85', u'numch86', u'numch87', u'numch88', u'numch89', u'numch90', u'numch91', u'numch92', u'numch93', u'numch94', u'numch96', u'numch98', u'numch00', u'numch02', u'numch04', u'numch06', u'numch08', u'numch10'], dtype=object)\n",
        "(438, 25)\n"
       ]
      }
     ],
     "prompt_number": 40
    },
    {
     "cell_type": "code",
     "collapsed": false,
     "input": [
      "#iterate through the DataFrame\n",
      "for i, row in dob_df.iterrows():\n",
      "    #if a respondent reported valid skip in c2dob_y, she must have only one child\n",
      "    #go through the number of biological chidlren in her household in each year and \n",
      "    #see if in any year she had more than one child\n",
      "    for j in range(1, len(row)):\n",
      "        if row[j].isdigit() and int(row[j]) > 1:\n",
      "            print row[0] #print id\n",
      "            break"
     ],
     "language": "python",
     "metadata": {},
     "outputs": [
      {
       "output_type": "stream",
       "stream": "stdout",
       "text": [
        "4546\n",
        "9021\n",
        "12269\n"
       ]
      }
     ],
     "prompt_number": 41
    },
    {
     "cell_type": "markdown",
     "metadata": {},
     "source": [
      "The 3 respondents with id 4546, 9021, and 12269 have value 2 in some years, but 1 in the subsequent years. "
     ]
    },
    {
     "cell_type": "code",
     "collapsed": false,
     "input": [
      "#check respondents with valid skips in c3dob_y in a similar way\n",
      "c3dob_df = pd.read_csv('check_c3dob.csv')\n",
      "print c3dob_df.shape\n",
      "print \n",
      "\n",
      "k = 1 #count\n",
      "\n",
      "for i, row in c3dob_df.iterrows():\n",
      "    for j in range(1, len(row)):\n",
      "        if row[j].isdigit() and int(row[j]) > 2: #the respondent with valid skip in c3dob_y must have fewer than 3 children \n",
      "            print k, row[0]\n",
      "            k += 1\n",
      "            break"
     ],
     "language": "python",
     "metadata": {},
     "outputs": [
      {
       "output_type": "stream",
       "stream": "stdout",
       "text": [
        "(1540, 25)\n",
        "\n",
        "1"
       ]
      },
      {
       "output_type": "stream",
       "stream": "stdout",
       "text": [
        " 2672\n",
        "2 3036\n",
        "3 3188\n",
        "4"
       ]
      },
      {
       "output_type": "stream",
       "stream": "stdout",
       "text": [
        " 4379\n",
        "5 5369\n",
        "6"
       ]
      },
      {
       "output_type": "stream",
       "stream": "stdout",
       "text": [
        " 6221\n",
        "7 8049\n",
        "8"
       ]
      },
      {
       "output_type": "stream",
       "stream": "stdout",
       "text": [
        " 8649\n",
        "9 10203\n",
        "10 10313\n"
       ]
      }
     ],
     "prompt_number": 43
    },
    {
     "cell_type": "markdown",
     "metadata": {},
     "source": [
      "The 10 respondents with the above ids reported having 3 children in some years, but fewer than 3 children in the subsequent years."
     ]
    },
    {
     "cell_type": "code",
     "collapsed": false,
     "input": [],
     "language": "python",
     "metadata": {},
     "outputs": []
    }
   ],
   "metadata": {}
  }
 ]
}